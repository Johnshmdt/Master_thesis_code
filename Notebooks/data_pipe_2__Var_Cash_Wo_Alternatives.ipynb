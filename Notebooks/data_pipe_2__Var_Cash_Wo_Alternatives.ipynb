{
 "cells": [
  {
   "cell_type": "code",
   "execution_count": 1,
   "metadata": {},
   "outputs": [
    {
     "name": "stderr",
     "output_type": "stream",
     "text": [
      "/var/folders/24/dhffcc6s3hv3z0j3fbnd3tj80000gn/T/ipykernel_8030/4167313461.py:308: UserWarning: Parsing dates in %d.%m.%Y format when dayfirst=False (the default) was specified. Pass `dayfirst=True` or specify a format to silence this warning.\n",
      "  preqin_data_quarter.index = pd.to_datetime(preqin_data_quarter.index)\n"
     ]
    },
    {
     "data": {
      "application/vnd.plotly.v1+json": {
       "config": {
        "plotlyServerURL": "https://plot.ly"
       },
       "data": [
        {
         "hole": 0.4,
         "labels": [
          "Listed Foreign Public Equity",
          "Other Equity Instruments",
          "State Bonds",
          "Corporate Bonds",
          "Listed Domestic Public Equity",
          "Fixed Term and Savings Deposit",
          "Public Investment Funds",
          "Cash"
         ],
         "marker": {
          "colors": [
           "#FFDC26",
           "#FF7F0E",
           "#2CA02C",
           "#D62728",
           "#9467BD",
           "#1F77B4",
           "#17becf",
           "#7F7F7F"
          ]
         },
         "type": "pie",
         "values": [
          0.05,
          0.084,
          0.0073,
          0.0146,
          0.059000000000000004,
          0.171,
          0.18600000000000003,
          0.428
         ]
        }
       ],
       "layout": {
        "height": 600,
        "legend": {
         "orientation": "h",
         "y": -0.2
        },
        "template": {
         "data": {
          "bar": [
           {
            "error_x": {
             "color": "#2a3f5f"
            },
            "error_y": {
             "color": "#2a3f5f"
            },
            "marker": {
             "line": {
              "color": "#E5ECF6",
              "width": 0.5
             },
             "pattern": {
              "fillmode": "overlay",
              "size": 10,
              "solidity": 0.2
             }
            },
            "type": "bar"
           }
          ],
          "barpolar": [
           {
            "marker": {
             "line": {
              "color": "#E5ECF6",
              "width": 0.5
             },
             "pattern": {
              "fillmode": "overlay",
              "size": 10,
              "solidity": 0.2
             }
            },
            "type": "barpolar"
           }
          ],
          "carpet": [
           {
            "aaxis": {
             "endlinecolor": "#2a3f5f",
             "gridcolor": "white",
             "linecolor": "white",
             "minorgridcolor": "white",
             "startlinecolor": "#2a3f5f"
            },
            "baxis": {
             "endlinecolor": "#2a3f5f",
             "gridcolor": "white",
             "linecolor": "white",
             "minorgridcolor": "white",
             "startlinecolor": "#2a3f5f"
            },
            "type": "carpet"
           }
          ],
          "choropleth": [
           {
            "colorbar": {
             "outlinewidth": 0,
             "ticks": ""
            },
            "type": "choropleth"
           }
          ],
          "contour": [
           {
            "colorbar": {
             "outlinewidth": 0,
             "ticks": ""
            },
            "colorscale": [
             [
              0,
              "#0d0887"
             ],
             [
              0.1111111111111111,
              "#46039f"
             ],
             [
              0.2222222222222222,
              "#7201a8"
             ],
             [
              0.3333333333333333,
              "#9c179e"
             ],
             [
              0.4444444444444444,
              "#bd3786"
             ],
             [
              0.5555555555555556,
              "#d8576b"
             ],
             [
              0.6666666666666666,
              "#ed7953"
             ],
             [
              0.7777777777777778,
              "#fb9f3a"
             ],
             [
              0.8888888888888888,
              "#fdca26"
             ],
             [
              1,
              "#f0f921"
             ]
            ],
            "type": "contour"
           }
          ],
          "contourcarpet": [
           {
            "colorbar": {
             "outlinewidth": 0,
             "ticks": ""
            },
            "type": "contourcarpet"
           }
          ],
          "heatmap": [
           {
            "colorbar": {
             "outlinewidth": 0,
             "ticks": ""
            },
            "colorscale": [
             [
              0,
              "#0d0887"
             ],
             [
              0.1111111111111111,
              "#46039f"
             ],
             [
              0.2222222222222222,
              "#7201a8"
             ],
             [
              0.3333333333333333,
              "#9c179e"
             ],
             [
              0.4444444444444444,
              "#bd3786"
             ],
             [
              0.5555555555555556,
              "#d8576b"
             ],
             [
              0.6666666666666666,
              "#ed7953"
             ],
             [
              0.7777777777777778,
              "#fb9f3a"
             ],
             [
              0.8888888888888888,
              "#fdca26"
             ],
             [
              1,
              "#f0f921"
             ]
            ],
            "type": "heatmap"
           }
          ],
          "heatmapgl": [
           {
            "colorbar": {
             "outlinewidth": 0,
             "ticks": ""
            },
            "colorscale": [
             [
              0,
              "#0d0887"
             ],
             [
              0.1111111111111111,
              "#46039f"
             ],
             [
              0.2222222222222222,
              "#7201a8"
             ],
             [
              0.3333333333333333,
              "#9c179e"
             ],
             [
              0.4444444444444444,
              "#bd3786"
             ],
             [
              0.5555555555555556,
              "#d8576b"
             ],
             [
              0.6666666666666666,
              "#ed7953"
             ],
             [
              0.7777777777777778,
              "#fb9f3a"
             ],
             [
              0.8888888888888888,
              "#fdca26"
             ],
             [
              1,
              "#f0f921"
             ]
            ],
            "type": "heatmapgl"
           }
          ],
          "histogram": [
           {
            "marker": {
             "pattern": {
              "fillmode": "overlay",
              "size": 10,
              "solidity": 0.2
             }
            },
            "type": "histogram"
           }
          ],
          "histogram2d": [
           {
            "colorbar": {
             "outlinewidth": 0,
             "ticks": ""
            },
            "colorscale": [
             [
              0,
              "#0d0887"
             ],
             [
              0.1111111111111111,
              "#46039f"
             ],
             [
              0.2222222222222222,
              "#7201a8"
             ],
             [
              0.3333333333333333,
              "#9c179e"
             ],
             [
              0.4444444444444444,
              "#bd3786"
             ],
             [
              0.5555555555555556,
              "#d8576b"
             ],
             [
              0.6666666666666666,
              "#ed7953"
             ],
             [
              0.7777777777777778,
              "#fb9f3a"
             ],
             [
              0.8888888888888888,
              "#fdca26"
             ],
             [
              1,
              "#f0f921"
             ]
            ],
            "type": "histogram2d"
           }
          ],
          "histogram2dcontour": [
           {
            "colorbar": {
             "outlinewidth": 0,
             "ticks": ""
            },
            "colorscale": [
             [
              0,
              "#0d0887"
             ],
             [
              0.1111111111111111,
              "#46039f"
             ],
             [
              0.2222222222222222,
              "#7201a8"
             ],
             [
              0.3333333333333333,
              "#9c179e"
             ],
             [
              0.4444444444444444,
              "#bd3786"
             ],
             [
              0.5555555555555556,
              "#d8576b"
             ],
             [
              0.6666666666666666,
              "#ed7953"
             ],
             [
              0.7777777777777778,
              "#fb9f3a"
             ],
             [
              0.8888888888888888,
              "#fdca26"
             ],
             [
              1,
              "#f0f921"
             ]
            ],
            "type": "histogram2dcontour"
           }
          ],
          "mesh3d": [
           {
            "colorbar": {
             "outlinewidth": 0,
             "ticks": ""
            },
            "type": "mesh3d"
           }
          ],
          "parcoords": [
           {
            "line": {
             "colorbar": {
              "outlinewidth": 0,
              "ticks": ""
             }
            },
            "type": "parcoords"
           }
          ],
          "pie": [
           {
            "automargin": true,
            "type": "pie"
           }
          ],
          "scatter": [
           {
            "fillpattern": {
             "fillmode": "overlay",
             "size": 10,
             "solidity": 0.2
            },
            "type": "scatter"
           }
          ],
          "scatter3d": [
           {
            "line": {
             "colorbar": {
              "outlinewidth": 0,
              "ticks": ""
             }
            },
            "marker": {
             "colorbar": {
              "outlinewidth": 0,
              "ticks": ""
             }
            },
            "type": "scatter3d"
           }
          ],
          "scattercarpet": [
           {
            "marker": {
             "colorbar": {
              "outlinewidth": 0,
              "ticks": ""
             }
            },
            "type": "scattercarpet"
           }
          ],
          "scattergeo": [
           {
            "marker": {
             "colorbar": {
              "outlinewidth": 0,
              "ticks": ""
             }
            },
            "type": "scattergeo"
           }
          ],
          "scattergl": [
           {
            "marker": {
             "colorbar": {
              "outlinewidth": 0,
              "ticks": ""
             }
            },
            "type": "scattergl"
           }
          ],
          "scattermapbox": [
           {
            "marker": {
             "colorbar": {
              "outlinewidth": 0,
              "ticks": ""
             }
            },
            "type": "scattermapbox"
           }
          ],
          "scatterpolar": [
           {
            "marker": {
             "colorbar": {
              "outlinewidth": 0,
              "ticks": ""
             }
            },
            "type": "scatterpolar"
           }
          ],
          "scatterpolargl": [
           {
            "marker": {
             "colorbar": {
              "outlinewidth": 0,
              "ticks": ""
             }
            },
            "type": "scatterpolargl"
           }
          ],
          "scatterternary": [
           {
            "marker": {
             "colorbar": {
              "outlinewidth": 0,
              "ticks": ""
             }
            },
            "type": "scatterternary"
           }
          ],
          "surface": [
           {
            "colorbar": {
             "outlinewidth": 0,
             "ticks": ""
            },
            "colorscale": [
             [
              0,
              "#0d0887"
             ],
             [
              0.1111111111111111,
              "#46039f"
             ],
             [
              0.2222222222222222,
              "#7201a8"
             ],
             [
              0.3333333333333333,
              "#9c179e"
             ],
             [
              0.4444444444444444,
              "#bd3786"
             ],
             [
              0.5555555555555556,
              "#d8576b"
             ],
             [
              0.6666666666666666,
              "#ed7953"
             ],
             [
              0.7777777777777778,
              "#fb9f3a"
             ],
             [
              0.8888888888888888,
              "#fdca26"
             ],
             [
              1,
              "#f0f921"
             ]
            ],
            "type": "surface"
           }
          ],
          "table": [
           {
            "cells": {
             "fill": {
              "color": "#EBF0F8"
             },
             "line": {
              "color": "white"
             }
            },
            "header": {
             "fill": {
              "color": "#C8D4E3"
             },
             "line": {
              "color": "white"
             }
            },
            "type": "table"
           }
          ]
         },
         "layout": {
          "annotationdefaults": {
           "arrowcolor": "#2a3f5f",
           "arrowhead": 0,
           "arrowwidth": 1
          },
          "autotypenumbers": "strict",
          "coloraxis": {
           "colorbar": {
            "outlinewidth": 0,
            "ticks": ""
           }
          },
          "colorscale": {
           "diverging": [
            [
             0,
             "#8e0152"
            ],
            [
             0.1,
             "#c51b7d"
            ],
            [
             0.2,
             "#de77ae"
            ],
            [
             0.3,
             "#f1b6da"
            ],
            [
             0.4,
             "#fde0ef"
            ],
            [
             0.5,
             "#f7f7f7"
            ],
            [
             0.6,
             "#e6f5d0"
            ],
            [
             0.7,
             "#b8e186"
            ],
            [
             0.8,
             "#7fbc41"
            ],
            [
             0.9,
             "#4d9221"
            ],
            [
             1,
             "#276419"
            ]
           ],
           "sequential": [
            [
             0,
             "#0d0887"
            ],
            [
             0.1111111111111111,
             "#46039f"
            ],
            [
             0.2222222222222222,
             "#7201a8"
            ],
            [
             0.3333333333333333,
             "#9c179e"
            ],
            [
             0.4444444444444444,
             "#bd3786"
            ],
            [
             0.5555555555555556,
             "#d8576b"
            ],
            [
             0.6666666666666666,
             "#ed7953"
            ],
            [
             0.7777777777777778,
             "#fb9f3a"
            ],
            [
             0.8888888888888888,
             "#fdca26"
            ],
            [
             1,
             "#f0f921"
            ]
           ],
           "sequentialminus": [
            [
             0,
             "#0d0887"
            ],
            [
             0.1111111111111111,
             "#46039f"
            ],
            [
             0.2222222222222222,
             "#7201a8"
            ],
            [
             0.3333333333333333,
             "#9c179e"
            ],
            [
             0.4444444444444444,
             "#bd3786"
            ],
            [
             0.5555555555555556,
             "#d8576b"
            ],
            [
             0.6666666666666666,
             "#ed7953"
            ],
            [
             0.7777777777777778,
             "#fb9f3a"
            ],
            [
             0.8888888888888888,
             "#fdca26"
            ],
            [
             1,
             "#f0f921"
            ]
           ]
          },
          "colorway": [
           "#636efa",
           "#EF553B",
           "#00cc96",
           "#ab63fa",
           "#FFA15A",
           "#19d3f3",
           "#FF6692",
           "#B6E880",
           "#FF97FF",
           "#FECB52"
          ],
          "font": {
           "color": "#2a3f5f"
          },
          "geo": {
           "bgcolor": "white",
           "lakecolor": "white",
           "landcolor": "#E5ECF6",
           "showlakes": true,
           "showland": true,
           "subunitcolor": "white"
          },
          "hoverlabel": {
           "align": "left"
          },
          "hovermode": "closest",
          "mapbox": {
           "style": "light"
          },
          "paper_bgcolor": "white",
          "plot_bgcolor": "#E5ECF6",
          "polar": {
           "angularaxis": {
            "gridcolor": "white",
            "linecolor": "white",
            "ticks": ""
           },
           "bgcolor": "#E5ECF6",
           "radialaxis": {
            "gridcolor": "white",
            "linecolor": "white",
            "ticks": ""
           }
          },
          "scene": {
           "xaxis": {
            "backgroundcolor": "#E5ECF6",
            "gridcolor": "white",
            "gridwidth": 2,
            "linecolor": "white",
            "showbackground": true,
            "ticks": "",
            "zerolinecolor": "white"
           },
           "yaxis": {
            "backgroundcolor": "#E5ECF6",
            "gridcolor": "white",
            "gridwidth": 2,
            "linecolor": "white",
            "showbackground": true,
            "ticks": "",
            "zerolinecolor": "white"
           },
           "zaxis": {
            "backgroundcolor": "#E5ECF6",
            "gridcolor": "white",
            "gridwidth": 2,
            "linecolor": "white",
            "showbackground": true,
            "ticks": "",
            "zerolinecolor": "white"
           }
          },
          "shapedefaults": {
           "line": {
            "color": "#2a3f5f"
           }
          },
          "ternary": {
           "aaxis": {
            "gridcolor": "white",
            "linecolor": "white",
            "ticks": ""
           },
           "baxis": {
            "gridcolor": "white",
            "linecolor": "white",
            "ticks": ""
           },
           "bgcolor": "#E5ECF6",
           "caxis": {
            "gridcolor": "white",
            "linecolor": "white",
            "ticks": ""
           }
          },
          "title": {
           "x": 0.05
          },
          "xaxis": {
           "automargin": true,
           "gridcolor": "white",
           "linecolor": "white",
           "ticks": "",
           "title": {
            "standoff": 15
           },
           "zerolinecolor": "white",
           "zerolinewidth": 2
          },
          "yaxis": {
           "automargin": true,
           "gridcolor": "white",
           "linecolor": "white",
           "ticks": "",
           "title": {
            "standoff": 15
           },
           "zerolinecolor": "white",
           "zerolinewidth": 2
          }
         }
        },
        "title": {
         "text": "Retail Allocation Plot"
        },
        "width": 600
       }
      }
     },
     "metadata": {},
     "output_type": "display_data"
    },
    {
     "data": {
      "application/vnd.plotly.v1+json": {
       "config": {
        "plotlyServerURL": "https://plot.ly"
       },
       "data": [
        {
         "marker": {
          "color": "blue",
          "size": 10,
          "symbol": "circle"
         },
         "mode": "markers",
         "type": "scatter",
         "x": [
          0.1717052542965251,
          0.2059962116376119,
          0.04886485590703823,
          0.045922461411000454,
          0.2371559583411683,
          0.004226186025201353,
          0.14314194252771964,
          0
         ],
         "y": [
          0.08812702391959704,
          0.10104414462511735,
          0.03006110949658433,
          0.034587268672590175,
          0.06236502674061784,
          0.011391725916927003,
          0.05437986250776696,
          0
         ]
        }
       ],
       "layout": {
        "annotations": [
         {
          "arrowhead": 7,
          "ax": 0,
          "ay": -40,
          "showarrow": true,
          "text": "listed foreign public equity",
          "x": 0.1717052542965251,
          "xref": "x",
          "y": 0.08812702391959704,
          "yref": "y"
         },
         {
          "arrowhead": 7,
          "ax": 0,
          "ay": -40,
          "showarrow": true,
          "text": "other equity instruments",
          "x": 0.2059962116376119,
          "xref": "x",
          "y": 0.10104414462511735,
          "yref": "y"
         },
         {
          "arrowhead": 7,
          "ax": 0,
          "ay": -40,
          "showarrow": true,
          "text": "state bonds",
          "x": 0.04886485590703823,
          "xref": "x",
          "y": 0.03006110949658433,
          "yref": "y"
         },
         {
          "arrowhead": 7,
          "ax": 0,
          "ay": -40,
          "showarrow": true,
          "text": "corporate bonds",
          "x": 0.045922461411000454,
          "xref": "x",
          "y": 0.034587268672590175,
          "yref": "y"
         },
         {
          "arrowhead": 7,
          "ax": 0,
          "ay": -40,
          "showarrow": true,
          "text": "listed domestic public equity",
          "x": 0.2371559583411683,
          "xref": "x",
          "y": 0.06236502674061784,
          "yref": "y"
         },
         {
          "arrowhead": 7,
          "ax": 0,
          "ay": -40,
          "showarrow": true,
          "text": "fixed term and savings deposit",
          "x": 0.004226186025201353,
          "xref": "x",
          "y": 0.011391725916927003,
          "yref": "y"
         },
         {
          "arrowhead": 7,
          "ax": 0,
          "ay": -40,
          "showarrow": true,
          "text": "public investment funds",
          "x": 0.14314194252771964,
          "xref": "x",
          "y": 0.05437986250776696,
          "yref": "y"
         },
         {
          "arrowhead": 7,
          "ax": 0,
          "ay": -40,
          "showarrow": true,
          "text": "cash",
          "x": 0,
          "xref": "x",
          "y": 0,
          "yref": "y"
         }
        ],
        "height": 600,
        "template": {
         "data": {
          "bar": [
           {
            "error_x": {
             "color": "#2a3f5f"
            },
            "error_y": {
             "color": "#2a3f5f"
            },
            "marker": {
             "line": {
              "color": "#E5ECF6",
              "width": 0.5
             },
             "pattern": {
              "fillmode": "overlay",
              "size": 10,
              "solidity": 0.2
             }
            },
            "type": "bar"
           }
          ],
          "barpolar": [
           {
            "marker": {
             "line": {
              "color": "#E5ECF6",
              "width": 0.5
             },
             "pattern": {
              "fillmode": "overlay",
              "size": 10,
              "solidity": 0.2
             }
            },
            "type": "barpolar"
           }
          ],
          "carpet": [
           {
            "aaxis": {
             "endlinecolor": "#2a3f5f",
             "gridcolor": "white",
             "linecolor": "white",
             "minorgridcolor": "white",
             "startlinecolor": "#2a3f5f"
            },
            "baxis": {
             "endlinecolor": "#2a3f5f",
             "gridcolor": "white",
             "linecolor": "white",
             "minorgridcolor": "white",
             "startlinecolor": "#2a3f5f"
            },
            "type": "carpet"
           }
          ],
          "choropleth": [
           {
            "colorbar": {
             "outlinewidth": 0,
             "ticks": ""
            },
            "type": "choropleth"
           }
          ],
          "contour": [
           {
            "colorbar": {
             "outlinewidth": 0,
             "ticks": ""
            },
            "colorscale": [
             [
              0,
              "#0d0887"
             ],
             [
              0.1111111111111111,
              "#46039f"
             ],
             [
              0.2222222222222222,
              "#7201a8"
             ],
             [
              0.3333333333333333,
              "#9c179e"
             ],
             [
              0.4444444444444444,
              "#bd3786"
             ],
             [
              0.5555555555555556,
              "#d8576b"
             ],
             [
              0.6666666666666666,
              "#ed7953"
             ],
             [
              0.7777777777777778,
              "#fb9f3a"
             ],
             [
              0.8888888888888888,
              "#fdca26"
             ],
             [
              1,
              "#f0f921"
             ]
            ],
            "type": "contour"
           }
          ],
          "contourcarpet": [
           {
            "colorbar": {
             "outlinewidth": 0,
             "ticks": ""
            },
            "type": "contourcarpet"
           }
          ],
          "heatmap": [
           {
            "colorbar": {
             "outlinewidth": 0,
             "ticks": ""
            },
            "colorscale": [
             [
              0,
              "#0d0887"
             ],
             [
              0.1111111111111111,
              "#46039f"
             ],
             [
              0.2222222222222222,
              "#7201a8"
             ],
             [
              0.3333333333333333,
              "#9c179e"
             ],
             [
              0.4444444444444444,
              "#bd3786"
             ],
             [
              0.5555555555555556,
              "#d8576b"
             ],
             [
              0.6666666666666666,
              "#ed7953"
             ],
             [
              0.7777777777777778,
              "#fb9f3a"
             ],
             [
              0.8888888888888888,
              "#fdca26"
             ],
             [
              1,
              "#f0f921"
             ]
            ],
            "type": "heatmap"
           }
          ],
          "heatmapgl": [
           {
            "colorbar": {
             "outlinewidth": 0,
             "ticks": ""
            },
            "colorscale": [
             [
              0,
              "#0d0887"
             ],
             [
              0.1111111111111111,
              "#46039f"
             ],
             [
              0.2222222222222222,
              "#7201a8"
             ],
             [
              0.3333333333333333,
              "#9c179e"
             ],
             [
              0.4444444444444444,
              "#bd3786"
             ],
             [
              0.5555555555555556,
              "#d8576b"
             ],
             [
              0.6666666666666666,
              "#ed7953"
             ],
             [
              0.7777777777777778,
              "#fb9f3a"
             ],
             [
              0.8888888888888888,
              "#fdca26"
             ],
             [
              1,
              "#f0f921"
             ]
            ],
            "type": "heatmapgl"
           }
          ],
          "histogram": [
           {
            "marker": {
             "pattern": {
              "fillmode": "overlay",
              "size": 10,
              "solidity": 0.2
             }
            },
            "type": "histogram"
           }
          ],
          "histogram2d": [
           {
            "colorbar": {
             "outlinewidth": 0,
             "ticks": ""
            },
            "colorscale": [
             [
              0,
              "#0d0887"
             ],
             [
              0.1111111111111111,
              "#46039f"
             ],
             [
              0.2222222222222222,
              "#7201a8"
             ],
             [
              0.3333333333333333,
              "#9c179e"
             ],
             [
              0.4444444444444444,
              "#bd3786"
             ],
             [
              0.5555555555555556,
              "#d8576b"
             ],
             [
              0.6666666666666666,
              "#ed7953"
             ],
             [
              0.7777777777777778,
              "#fb9f3a"
             ],
             [
              0.8888888888888888,
              "#fdca26"
             ],
             [
              1,
              "#f0f921"
             ]
            ],
            "type": "histogram2d"
           }
          ],
          "histogram2dcontour": [
           {
            "colorbar": {
             "outlinewidth": 0,
             "ticks": ""
            },
            "colorscale": [
             [
              0,
              "#0d0887"
             ],
             [
              0.1111111111111111,
              "#46039f"
             ],
             [
              0.2222222222222222,
              "#7201a8"
             ],
             [
              0.3333333333333333,
              "#9c179e"
             ],
             [
              0.4444444444444444,
              "#bd3786"
             ],
             [
              0.5555555555555556,
              "#d8576b"
             ],
             [
              0.6666666666666666,
              "#ed7953"
             ],
             [
              0.7777777777777778,
              "#fb9f3a"
             ],
             [
              0.8888888888888888,
              "#fdca26"
             ],
             [
              1,
              "#f0f921"
             ]
            ],
            "type": "histogram2dcontour"
           }
          ],
          "mesh3d": [
           {
            "colorbar": {
             "outlinewidth": 0,
             "ticks": ""
            },
            "type": "mesh3d"
           }
          ],
          "parcoords": [
           {
            "line": {
             "colorbar": {
              "outlinewidth": 0,
              "ticks": ""
             }
            },
            "type": "parcoords"
           }
          ],
          "pie": [
           {
            "automargin": true,
            "type": "pie"
           }
          ],
          "scatter": [
           {
            "fillpattern": {
             "fillmode": "overlay",
             "size": 10,
             "solidity": 0.2
            },
            "type": "scatter"
           }
          ],
          "scatter3d": [
           {
            "line": {
             "colorbar": {
              "outlinewidth": 0,
              "ticks": ""
             }
            },
            "marker": {
             "colorbar": {
              "outlinewidth": 0,
              "ticks": ""
             }
            },
            "type": "scatter3d"
           }
          ],
          "scattercarpet": [
           {
            "marker": {
             "colorbar": {
              "outlinewidth": 0,
              "ticks": ""
             }
            },
            "type": "scattercarpet"
           }
          ],
          "scattergeo": [
           {
            "marker": {
             "colorbar": {
              "outlinewidth": 0,
              "ticks": ""
             }
            },
            "type": "scattergeo"
           }
          ],
          "scattergl": [
           {
            "marker": {
             "colorbar": {
              "outlinewidth": 0,
              "ticks": ""
             }
            },
            "type": "scattergl"
           }
          ],
          "scattermapbox": [
           {
            "marker": {
             "colorbar": {
              "outlinewidth": 0,
              "ticks": ""
             }
            },
            "type": "scattermapbox"
           }
          ],
          "scatterpolar": [
           {
            "marker": {
             "colorbar": {
              "outlinewidth": 0,
              "ticks": ""
             }
            },
            "type": "scatterpolar"
           }
          ],
          "scatterpolargl": [
           {
            "marker": {
             "colorbar": {
              "outlinewidth": 0,
              "ticks": ""
             }
            },
            "type": "scatterpolargl"
           }
          ],
          "scatterternary": [
           {
            "marker": {
             "colorbar": {
              "outlinewidth": 0,
              "ticks": ""
             }
            },
            "type": "scatterternary"
           }
          ],
          "surface": [
           {
            "colorbar": {
             "outlinewidth": 0,
             "ticks": ""
            },
            "colorscale": [
             [
              0,
              "#0d0887"
             ],
             [
              0.1111111111111111,
              "#46039f"
             ],
             [
              0.2222222222222222,
              "#7201a8"
             ],
             [
              0.3333333333333333,
              "#9c179e"
             ],
             [
              0.4444444444444444,
              "#bd3786"
             ],
             [
              0.5555555555555556,
              "#d8576b"
             ],
             [
              0.6666666666666666,
              "#ed7953"
             ],
             [
              0.7777777777777778,
              "#fb9f3a"
             ],
             [
              0.8888888888888888,
              "#fdca26"
             ],
             [
              1,
              "#f0f921"
             ]
            ],
            "type": "surface"
           }
          ],
          "table": [
           {
            "cells": {
             "fill": {
              "color": "#EBF0F8"
             },
             "line": {
              "color": "white"
             }
            },
            "header": {
             "fill": {
              "color": "#C8D4E3"
             },
             "line": {
              "color": "white"
             }
            },
            "type": "table"
           }
          ]
         },
         "layout": {
          "annotationdefaults": {
           "arrowcolor": "#2a3f5f",
           "arrowhead": 0,
           "arrowwidth": 1
          },
          "autotypenumbers": "strict",
          "coloraxis": {
           "colorbar": {
            "outlinewidth": 0,
            "ticks": ""
           }
          },
          "colorscale": {
           "diverging": [
            [
             0,
             "#8e0152"
            ],
            [
             0.1,
             "#c51b7d"
            ],
            [
             0.2,
             "#de77ae"
            ],
            [
             0.3,
             "#f1b6da"
            ],
            [
             0.4,
             "#fde0ef"
            ],
            [
             0.5,
             "#f7f7f7"
            ],
            [
             0.6,
             "#e6f5d0"
            ],
            [
             0.7,
             "#b8e186"
            ],
            [
             0.8,
             "#7fbc41"
            ],
            [
             0.9,
             "#4d9221"
            ],
            [
             1,
             "#276419"
            ]
           ],
           "sequential": [
            [
             0,
             "#0d0887"
            ],
            [
             0.1111111111111111,
             "#46039f"
            ],
            [
             0.2222222222222222,
             "#7201a8"
            ],
            [
             0.3333333333333333,
             "#9c179e"
            ],
            [
             0.4444444444444444,
             "#bd3786"
            ],
            [
             0.5555555555555556,
             "#d8576b"
            ],
            [
             0.6666666666666666,
             "#ed7953"
            ],
            [
             0.7777777777777778,
             "#fb9f3a"
            ],
            [
             0.8888888888888888,
             "#fdca26"
            ],
            [
             1,
             "#f0f921"
            ]
           ],
           "sequentialminus": [
            [
             0,
             "#0d0887"
            ],
            [
             0.1111111111111111,
             "#46039f"
            ],
            [
             0.2222222222222222,
             "#7201a8"
            ],
            [
             0.3333333333333333,
             "#9c179e"
            ],
            [
             0.4444444444444444,
             "#bd3786"
            ],
            [
             0.5555555555555556,
             "#d8576b"
            ],
            [
             0.6666666666666666,
             "#ed7953"
            ],
            [
             0.7777777777777778,
             "#fb9f3a"
            ],
            [
             0.8888888888888888,
             "#fdca26"
            ],
            [
             1,
             "#f0f921"
            ]
           ]
          },
          "colorway": [
           "#636efa",
           "#EF553B",
           "#00cc96",
           "#ab63fa",
           "#FFA15A",
           "#19d3f3",
           "#FF6692",
           "#B6E880",
           "#FF97FF",
           "#FECB52"
          ],
          "font": {
           "color": "#2a3f5f"
          },
          "geo": {
           "bgcolor": "white",
           "lakecolor": "white",
           "landcolor": "#E5ECF6",
           "showlakes": true,
           "showland": true,
           "subunitcolor": "white"
          },
          "hoverlabel": {
           "align": "left"
          },
          "hovermode": "closest",
          "mapbox": {
           "style": "light"
          },
          "paper_bgcolor": "white",
          "plot_bgcolor": "#E5ECF6",
          "polar": {
           "angularaxis": {
            "gridcolor": "white",
            "linecolor": "white",
            "ticks": ""
           },
           "bgcolor": "#E5ECF6",
           "radialaxis": {
            "gridcolor": "white",
            "linecolor": "white",
            "ticks": ""
           }
          },
          "scene": {
           "xaxis": {
            "backgroundcolor": "#E5ECF6",
            "gridcolor": "white",
            "gridwidth": 2,
            "linecolor": "white",
            "showbackground": true,
            "ticks": "",
            "zerolinecolor": "white"
           },
           "yaxis": {
            "backgroundcolor": "#E5ECF6",
            "gridcolor": "white",
            "gridwidth": 2,
            "linecolor": "white",
            "showbackground": true,
            "ticks": "",
            "zerolinecolor": "white"
           },
           "zaxis": {
            "backgroundcolor": "#E5ECF6",
            "gridcolor": "white",
            "gridwidth": 2,
            "linecolor": "white",
            "showbackground": true,
            "ticks": "",
            "zerolinecolor": "white"
           }
          },
          "shapedefaults": {
           "line": {
            "color": "#2a3f5f"
           }
          },
          "ternary": {
           "aaxis": {
            "gridcolor": "white",
            "linecolor": "white",
            "ticks": ""
           },
           "baxis": {
            "gridcolor": "white",
            "linecolor": "white",
            "ticks": ""
           },
           "bgcolor": "#E5ECF6",
           "caxis": {
            "gridcolor": "white",
            "linecolor": "white",
            "ticks": ""
           }
          },
          "title": {
           "x": 0.05
          },
          "xaxis": {
           "automargin": true,
           "gridcolor": "white",
           "linecolor": "white",
           "ticks": "",
           "title": {
            "standoff": 15
           },
           "zerolinecolor": "white",
           "zerolinewidth": 2
          },
          "yaxis": {
           "automargin": true,
           "gridcolor": "white",
           "linecolor": "white",
           "ticks": "",
           "title": {
            "standoff": 15
           },
           "zerolinecolor": "white",
           "zerolinewidth": 2
          }
         }
        },
        "title": {
         "text": "Risk-Return Plot"
        },
        "width": 600,
        "xaxis": {
         "title": {
          "text": "Standard Deviation"
         }
        },
        "yaxis": {
         "title": {
          "text": "Mean"
         }
        }
       }
      }
     },
     "metadata": {},
     "output_type": "display_data"
    },
    {
     "data": {
      "application/vnd.plotly.v1+json": {
       "config": {
        "plotlyServerURL": "https://plot.ly"
       },
       "data": [
        {
         "mode": "lines",
         "name": "other equity instruments",
         "type": "scatter",
         "x": [
          2001,
          2002,
          2003,
          2004,
          2005,
          2006,
          2007,
          2008,
          2009,
          2010,
          2011,
          2012,
          2013,
          2014,
          2015,
          2016,
          2017,
          2018,
          2019,
          2020,
          2021,
          2022
         ],
         "y": [
          -0.2422148692938576,
          -0.30290212568704045,
          0.6756575431930179,
          0.19259755306823112,
          0.3713501372597958,
          0.2719896875947827,
          -0.2258956780923994,
          -0.43506873547842007,
          0.4287756222761423,
          0.4033599472265308,
          -0.08103157583951037,
          0.219330933594303,
          0.21932519059621325,
          0.08789630891232103,
          0.0940706173233159,
          0.16370244909269882,
          0.26588768307465815,
          -0.1444143987091595,
          0.16104844777946914,
          0.24152257382037567,
          -0.0065028132178501785,
          -0.1355133167410364
         ]
        },
        {
         "mode": "lines",
         "name": "state bonds",
         "type": "scatter",
         "x": [
          2001,
          2002,
          2003,
          2004,
          2005,
          2006,
          2007,
          2008,
          2009,
          2010,
          2011,
          2012,
          2013,
          2014,
          2015,
          2016,
          2017,
          2018,
          2019,
          2020,
          2021,
          2022
         ],
         "y": [
          0.051564477040268564,
          0.09281996519311586,
          0.038743269384384105,
          0.0731971813614658,
          0.05293727069319987,
          -0.0020832172715785635,
          0.018458340951024166,
          0.12347213418286196,
          0.018209019646298286,
          0.06336201696286659,
          0.09646597714668581,
          0.04575818917444785,
          -0.02262341749403385,
          0.10300887483988652,
          0.0033195572553952335,
          0.039685790190897574,
          -0.013644875488571517,
          0.023615938335461717,
          0.0300680101773505,
          0.030132117134514802,
          -0.026772421167350124,
          -0.1783497893237359
         ]
        },
        {
         "mode": "lines",
         "name": "corporate bonds",
         "type": "scatter",
         "x": [
          2001,
          2002,
          2003,
          2004,
          2005,
          2006,
          2007,
          2008,
          2009,
          2010,
          2011,
          2012,
          2013,
          2014,
          2015,
          2016,
          2017,
          2018,
          2019,
          2020,
          2021,
          2022
         ],
         "y": [
          0.06446024335562006,
          0.08535369693722505,
          0.06774446644035748,
          0.07549687015224382,
          0.039577015037701724,
          0.005388059531847178,
          0.00022112357010417583,
          -0.03758978337463936,
          0.15710180410174912,
          0.04747090764920703,
          0.014860263021752917,
          0.1359262628893232,
          0.0237027408242394,
          0.08395289242589987,
          -0.005629996800249892,
          0.04727407783575277,
          0.02412259689682017,
          -0.01252020007055421,
          0.06240420452914752,
          0.027715075594111127,
          -0.009655618535664323,
          -0.13645679121501098
         ]
        },
        {
         "mode": "lines",
         "name": "listed domestic public equity",
         "type": "scatter",
         "x": [
          2001,
          2002,
          2003,
          2004,
          2005,
          2006,
          2007,
          2008,
          2009,
          2010,
          2011,
          2012,
          2013,
          2014,
          2015,
          2016,
          2017,
          2018,
          2019,
          2020,
          2021,
          2022
         ],
         "y": [
          -0.19794637724677977,
          -0.43942368790071484,
          0.3707802492476704,
          0.07336908786946283,
          0.27071381808714223,
          0.21978606935131428,
          0.22289188278553773,
          -0.4037424696254365,
          0.23849942507434418,
          0.160599408928767,
          -0.14692102063558288,
          0.2905965245401749,
          0.25481747310503056,
          0.026526947293784575,
          0.09560503792678454,
          0.06870046849774059,
          0.12512608868904262,
          -0.1825937052954707,
          0.2547646562668884,
          0.03545702775505055,
          0.15789159355974802,
          -0.12346790998090618
         ]
        },
        {
         "mode": "lines",
         "name": "fixed term and savings deposit",
         "type": "scatter",
         "x": [
          2001,
          2002,
          2003,
          2004,
          2005,
          2006,
          2007,
          2008,
          2009,
          2010,
          2011,
          2012,
          2013,
          2014,
          2015,
          2016,
          2017,
          2018,
          2019,
          2020,
          2021,
          2022
         ],
         "y": [
          0.01198195593910123,
          0.010281462982107747,
          0.022248658561928147,
          0.021475184755861854,
          0.020642755985264882,
          0.020821067531406,
          0.02373772177464195,
          0.025467503620899556,
          0.01831836508422624,
          0.014233666460454097,
          0.015280988846678722,
          0.013271666163983342,
          0.009928215268076634,
          0.0076600589720619006,
          0.004618066170502644,
          0.0029539839452201733,
          0.002018530765197424,
          0.0015928278045085342,
          0.0012757451248257556,
          0.0010505053556539856,
          0.0008586709137343718,
          0.0009003681460588719
         ]
        },
        {
         "mode": "lines",
         "name": "public investment funds",
         "type": "scatter",
         "x": [
          2001,
          2002,
          2003,
          2004,
          2005,
          2006,
          2007,
          2008,
          2009,
          2010,
          2011,
          2012,
          2013,
          2014,
          2015,
          2016,
          2017,
          2018,
          2019,
          2020,
          2021,
          2022
         ],
         "y": [
          -0.16894646557869186,
          -0.2975961453592547,
          0.2553001800400905,
          0.09242701528933717,
          0.22239948462821024,
          0.1406622789538503,
          0.09402390119402493,
          -0.234811476417628,
          0.3076817017680209,
          0.1445164521505491,
          -0.014791614263139463,
          0.16613685063244987,
          0.11771743473985241,
          0.08457254142991566,
          0.07291794299155763,
          0.04863276659318072,
          0.06594991833152841,
          -0.09872861203386019,
          0.16883269329400963,
          0.04049697490678561,
          0.12134395763341677,
          -0.13238080575333244
         ]
        },
        {
         "mode": "lines",
         "name": "cash",
         "type": "scatter",
         "x": [
          2001,
          2002,
          2003,
          2004,
          2005,
          2006,
          2007,
          2008,
          2009,
          2010,
          2011,
          2012,
          2013,
          2014,
          2015,
          2016,
          2017,
          2018,
          2019,
          2020,
          2021,
          2022
         ],
         "y": [
          0,
          0,
          0,
          0,
          0,
          0,
          0,
          0,
          0,
          0,
          0,
          0,
          0,
          0,
          0,
          0,
          0,
          0,
          0,
          0,
          0,
          0
         ]
        }
       ],
       "layout": {
        "height": 600,
        "hovermode": "x",
        "legend": {
         "title": {
          "text": "Asset Class"
         }
        },
        "template": {
         "data": {
          "bar": [
           {
            "error_x": {
             "color": "#2a3f5f"
            },
            "error_y": {
             "color": "#2a3f5f"
            },
            "marker": {
             "line": {
              "color": "#E5ECF6",
              "width": 0.5
             },
             "pattern": {
              "fillmode": "overlay",
              "size": 10,
              "solidity": 0.2
             }
            },
            "type": "bar"
           }
          ],
          "barpolar": [
           {
            "marker": {
             "line": {
              "color": "#E5ECF6",
              "width": 0.5
             },
             "pattern": {
              "fillmode": "overlay",
              "size": 10,
              "solidity": 0.2
             }
            },
            "type": "barpolar"
           }
          ],
          "carpet": [
           {
            "aaxis": {
             "endlinecolor": "#2a3f5f",
             "gridcolor": "white",
             "linecolor": "white",
             "minorgridcolor": "white",
             "startlinecolor": "#2a3f5f"
            },
            "baxis": {
             "endlinecolor": "#2a3f5f",
             "gridcolor": "white",
             "linecolor": "white",
             "minorgridcolor": "white",
             "startlinecolor": "#2a3f5f"
            },
            "type": "carpet"
           }
          ],
          "choropleth": [
           {
            "colorbar": {
             "outlinewidth": 0,
             "ticks": ""
            },
            "type": "choropleth"
           }
          ],
          "contour": [
           {
            "colorbar": {
             "outlinewidth": 0,
             "ticks": ""
            },
            "colorscale": [
             [
              0,
              "#0d0887"
             ],
             [
              0.1111111111111111,
              "#46039f"
             ],
             [
              0.2222222222222222,
              "#7201a8"
             ],
             [
              0.3333333333333333,
              "#9c179e"
             ],
             [
              0.4444444444444444,
              "#bd3786"
             ],
             [
              0.5555555555555556,
              "#d8576b"
             ],
             [
              0.6666666666666666,
              "#ed7953"
             ],
             [
              0.7777777777777778,
              "#fb9f3a"
             ],
             [
              0.8888888888888888,
              "#fdca26"
             ],
             [
              1,
              "#f0f921"
             ]
            ],
            "type": "contour"
           }
          ],
          "contourcarpet": [
           {
            "colorbar": {
             "outlinewidth": 0,
             "ticks": ""
            },
            "type": "contourcarpet"
           }
          ],
          "heatmap": [
           {
            "colorbar": {
             "outlinewidth": 0,
             "ticks": ""
            },
            "colorscale": [
             [
              0,
              "#0d0887"
             ],
             [
              0.1111111111111111,
              "#46039f"
             ],
             [
              0.2222222222222222,
              "#7201a8"
             ],
             [
              0.3333333333333333,
              "#9c179e"
             ],
             [
              0.4444444444444444,
              "#bd3786"
             ],
             [
              0.5555555555555556,
              "#d8576b"
             ],
             [
              0.6666666666666666,
              "#ed7953"
             ],
             [
              0.7777777777777778,
              "#fb9f3a"
             ],
             [
              0.8888888888888888,
              "#fdca26"
             ],
             [
              1,
              "#f0f921"
             ]
            ],
            "type": "heatmap"
           }
          ],
          "heatmapgl": [
           {
            "colorbar": {
             "outlinewidth": 0,
             "ticks": ""
            },
            "colorscale": [
             [
              0,
              "#0d0887"
             ],
             [
              0.1111111111111111,
              "#46039f"
             ],
             [
              0.2222222222222222,
              "#7201a8"
             ],
             [
              0.3333333333333333,
              "#9c179e"
             ],
             [
              0.4444444444444444,
              "#bd3786"
             ],
             [
              0.5555555555555556,
              "#d8576b"
             ],
             [
              0.6666666666666666,
              "#ed7953"
             ],
             [
              0.7777777777777778,
              "#fb9f3a"
             ],
             [
              0.8888888888888888,
              "#fdca26"
             ],
             [
              1,
              "#f0f921"
             ]
            ],
            "type": "heatmapgl"
           }
          ],
          "histogram": [
           {
            "marker": {
             "pattern": {
              "fillmode": "overlay",
              "size": 10,
              "solidity": 0.2
             }
            },
            "type": "histogram"
           }
          ],
          "histogram2d": [
           {
            "colorbar": {
             "outlinewidth": 0,
             "ticks": ""
            },
            "colorscale": [
             [
              0,
              "#0d0887"
             ],
             [
              0.1111111111111111,
              "#46039f"
             ],
             [
              0.2222222222222222,
              "#7201a8"
             ],
             [
              0.3333333333333333,
              "#9c179e"
             ],
             [
              0.4444444444444444,
              "#bd3786"
             ],
             [
              0.5555555555555556,
              "#d8576b"
             ],
             [
              0.6666666666666666,
              "#ed7953"
             ],
             [
              0.7777777777777778,
              "#fb9f3a"
             ],
             [
              0.8888888888888888,
              "#fdca26"
             ],
             [
              1,
              "#f0f921"
             ]
            ],
            "type": "histogram2d"
           }
          ],
          "histogram2dcontour": [
           {
            "colorbar": {
             "outlinewidth": 0,
             "ticks": ""
            },
            "colorscale": [
             [
              0,
              "#0d0887"
             ],
             [
              0.1111111111111111,
              "#46039f"
             ],
             [
              0.2222222222222222,
              "#7201a8"
             ],
             [
              0.3333333333333333,
              "#9c179e"
             ],
             [
              0.4444444444444444,
              "#bd3786"
             ],
             [
              0.5555555555555556,
              "#d8576b"
             ],
             [
              0.6666666666666666,
              "#ed7953"
             ],
             [
              0.7777777777777778,
              "#fb9f3a"
             ],
             [
              0.8888888888888888,
              "#fdca26"
             ],
             [
              1,
              "#f0f921"
             ]
            ],
            "type": "histogram2dcontour"
           }
          ],
          "mesh3d": [
           {
            "colorbar": {
             "outlinewidth": 0,
             "ticks": ""
            },
            "type": "mesh3d"
           }
          ],
          "parcoords": [
           {
            "line": {
             "colorbar": {
              "outlinewidth": 0,
              "ticks": ""
             }
            },
            "type": "parcoords"
           }
          ],
          "pie": [
           {
            "automargin": true,
            "type": "pie"
           }
          ],
          "scatter": [
           {
            "fillpattern": {
             "fillmode": "overlay",
             "size": 10,
             "solidity": 0.2
            },
            "type": "scatter"
           }
          ],
          "scatter3d": [
           {
            "line": {
             "colorbar": {
              "outlinewidth": 0,
              "ticks": ""
             }
            },
            "marker": {
             "colorbar": {
              "outlinewidth": 0,
              "ticks": ""
             }
            },
            "type": "scatter3d"
           }
          ],
          "scattercarpet": [
           {
            "marker": {
             "colorbar": {
              "outlinewidth": 0,
              "ticks": ""
             }
            },
            "type": "scattercarpet"
           }
          ],
          "scattergeo": [
           {
            "marker": {
             "colorbar": {
              "outlinewidth": 0,
              "ticks": ""
             }
            },
            "type": "scattergeo"
           }
          ],
          "scattergl": [
           {
            "marker": {
             "colorbar": {
              "outlinewidth": 0,
              "ticks": ""
             }
            },
            "type": "scattergl"
           }
          ],
          "scattermapbox": [
           {
            "marker": {
             "colorbar": {
              "outlinewidth": 0,
              "ticks": ""
             }
            },
            "type": "scattermapbox"
           }
          ],
          "scatterpolar": [
           {
            "marker": {
             "colorbar": {
              "outlinewidth": 0,
              "ticks": ""
             }
            },
            "type": "scatterpolar"
           }
          ],
          "scatterpolargl": [
           {
            "marker": {
             "colorbar": {
              "outlinewidth": 0,
              "ticks": ""
             }
            },
            "type": "scatterpolargl"
           }
          ],
          "scatterternary": [
           {
            "marker": {
             "colorbar": {
              "outlinewidth": 0,
              "ticks": ""
             }
            },
            "type": "scatterternary"
           }
          ],
          "surface": [
           {
            "colorbar": {
             "outlinewidth": 0,
             "ticks": ""
            },
            "colorscale": [
             [
              0,
              "#0d0887"
             ],
             [
              0.1111111111111111,
              "#46039f"
             ],
             [
              0.2222222222222222,
              "#7201a8"
             ],
             [
              0.3333333333333333,
              "#9c179e"
             ],
             [
              0.4444444444444444,
              "#bd3786"
             ],
             [
              0.5555555555555556,
              "#d8576b"
             ],
             [
              0.6666666666666666,
              "#ed7953"
             ],
             [
              0.7777777777777778,
              "#fb9f3a"
             ],
             [
              0.8888888888888888,
              "#fdca26"
             ],
             [
              1,
              "#f0f921"
             ]
            ],
            "type": "surface"
           }
          ],
          "table": [
           {
            "cells": {
             "fill": {
              "color": "#EBF0F8"
             },
             "line": {
              "color": "white"
             }
            },
            "header": {
             "fill": {
              "color": "#C8D4E3"
             },
             "line": {
              "color": "white"
             }
            },
            "type": "table"
           }
          ]
         },
         "layout": {
          "annotationdefaults": {
           "arrowcolor": "#2a3f5f",
           "arrowhead": 0,
           "arrowwidth": 1
          },
          "autotypenumbers": "strict",
          "coloraxis": {
           "colorbar": {
            "outlinewidth": 0,
            "ticks": ""
           }
          },
          "colorscale": {
           "diverging": [
            [
             0,
             "#8e0152"
            ],
            [
             0.1,
             "#c51b7d"
            ],
            [
             0.2,
             "#de77ae"
            ],
            [
             0.3,
             "#f1b6da"
            ],
            [
             0.4,
             "#fde0ef"
            ],
            [
             0.5,
             "#f7f7f7"
            ],
            [
             0.6,
             "#e6f5d0"
            ],
            [
             0.7,
             "#b8e186"
            ],
            [
             0.8,
             "#7fbc41"
            ],
            [
             0.9,
             "#4d9221"
            ],
            [
             1,
             "#276419"
            ]
           ],
           "sequential": [
            [
             0,
             "#0d0887"
            ],
            [
             0.1111111111111111,
             "#46039f"
            ],
            [
             0.2222222222222222,
             "#7201a8"
            ],
            [
             0.3333333333333333,
             "#9c179e"
            ],
            [
             0.4444444444444444,
             "#bd3786"
            ],
            [
             0.5555555555555556,
             "#d8576b"
            ],
            [
             0.6666666666666666,
             "#ed7953"
            ],
            [
             0.7777777777777778,
             "#fb9f3a"
            ],
            [
             0.8888888888888888,
             "#fdca26"
            ],
            [
             1,
             "#f0f921"
            ]
           ],
           "sequentialminus": [
            [
             0,
             "#0d0887"
            ],
            [
             0.1111111111111111,
             "#46039f"
            ],
            [
             0.2222222222222222,
             "#7201a8"
            ],
            [
             0.3333333333333333,
             "#9c179e"
            ],
            [
             0.4444444444444444,
             "#bd3786"
            ],
            [
             0.5555555555555556,
             "#d8576b"
            ],
            [
             0.6666666666666666,
             "#ed7953"
            ],
            [
             0.7777777777777778,
             "#fb9f3a"
            ],
            [
             0.8888888888888888,
             "#fdca26"
            ],
            [
             1,
             "#f0f921"
            ]
           ]
          },
          "colorway": [
           "#636efa",
           "#EF553B",
           "#00cc96",
           "#ab63fa",
           "#FFA15A",
           "#19d3f3",
           "#FF6692",
           "#B6E880",
           "#FF97FF",
           "#FECB52"
          ],
          "font": {
           "color": "#2a3f5f"
          },
          "geo": {
           "bgcolor": "white",
           "lakecolor": "white",
           "landcolor": "#E5ECF6",
           "showlakes": true,
           "showland": true,
           "subunitcolor": "white"
          },
          "hoverlabel": {
           "align": "left"
          },
          "hovermode": "closest",
          "mapbox": {
           "style": "light"
          },
          "paper_bgcolor": "white",
          "plot_bgcolor": "#E5ECF6",
          "polar": {
           "angularaxis": {
            "gridcolor": "white",
            "linecolor": "white",
            "ticks": ""
           },
           "bgcolor": "#E5ECF6",
           "radialaxis": {
            "gridcolor": "white",
            "linecolor": "white",
            "ticks": ""
           }
          },
          "scene": {
           "xaxis": {
            "backgroundcolor": "#E5ECF6",
            "gridcolor": "white",
            "gridwidth": 2,
            "linecolor": "white",
            "showbackground": true,
            "ticks": "",
            "zerolinecolor": "white"
           },
           "yaxis": {
            "backgroundcolor": "#E5ECF6",
            "gridcolor": "white",
            "gridwidth": 2,
            "linecolor": "white",
            "showbackground": true,
            "ticks": "",
            "zerolinecolor": "white"
           },
           "zaxis": {
            "backgroundcolor": "#E5ECF6",
            "gridcolor": "white",
            "gridwidth": 2,
            "linecolor": "white",
            "showbackground": true,
            "ticks": "",
            "zerolinecolor": "white"
           }
          },
          "shapedefaults": {
           "line": {
            "color": "#2a3f5f"
           }
          },
          "ternary": {
           "aaxis": {
            "gridcolor": "white",
            "linecolor": "white",
            "ticks": ""
           },
           "baxis": {
            "gridcolor": "white",
            "linecolor": "white",
            "ticks": ""
           },
           "bgcolor": "#E5ECF6",
           "caxis": {
            "gridcolor": "white",
            "linecolor": "white",
            "ticks": ""
           }
          },
          "title": {
           "x": 0.05
          },
          "xaxis": {
           "automargin": true,
           "gridcolor": "white",
           "linecolor": "white",
           "ticks": "",
           "title": {
            "standoff": 15
           },
           "zerolinecolor": "white",
           "zerolinewidth": 2
          },
          "yaxis": {
           "automargin": true,
           "gridcolor": "white",
           "linecolor": "white",
           "ticks": "",
           "title": {
            "standoff": 15
           },
           "zerolinecolor": "white",
           "zerolinewidth": 2
          }
         }
        },
        "title": {
         "text": "Returns Over Time"
        },
        "xaxis": {
         "dtick": "M12",
         "tickformat": "%Y",
         "title": {
          "text": "Year"
         },
         "type": "date"
        },
        "yaxis": {
         "title": {
          "text": "Return"
         }
        }
       }
      }
     },
     "metadata": {},
     "output_type": "display_data"
    },
    {
     "name": "stdout",
     "output_type": "stream",
     "text": [
      "The weighting coefficient in Bayes-Stein shrinkage: 0.6491\n"
     ]
    },
    {
     "name": "stderr",
     "output_type": "stream",
     "text": [
      "/Users/johannesschmidt/Documents/Masterarbeit/.conda/lib/python3.10/site-packages/scipy/stats/_morestats.py:1813: UserWarning:\n",
      "\n",
      "Input data for shapiro has range zero. The results may not be accurate.\n",
      "\n",
      "/Users/johannesschmidt/Documents/Masterarbeit/.conda/lib/python3.10/site-packages/scipy/stats/_morestats.py:1948: RuntimeWarning:\n",
      "\n",
      "invalid value encountered in divide\n",
      "\n"
     ]
    },
    {
     "data": {
      "text/html": [
       "<style type=\"text/css\">\n",
       "#T_d0a2b th.col_heading.level0 {\n",
       "  text-align: center;\n",
       "}\n",
       "#T_d0a2b_row0_col0, #T_d0a2b_row0_col1, #T_d0a2b_row0_col3, #T_d0a2b_row0_col9, #T_d0a2b_row1_col2, #T_d0a2b_row2_col4, #T_d0a2b_row2_col7, #T_d0a2b_row2_col12, #T_d0a2b_row5_col6, #T_d0a2b_row5_col8, #T_d0a2b_row6_col5, #T_d0a2b_row7_col10, #T_d0a2b_row7_col11 {\n",
       "  background-color: #023858;\n",
       "  color: #f1f1f1;\n",
       "}\n",
       "#T_d0a2b_row0_col2 {\n",
       "  background-color: #034c78;\n",
       "  color: #f1f1f1;\n",
       "}\n",
       "#T_d0a2b_row0_col4 {\n",
       "  background-color: #045b8e;\n",
       "  color: #f1f1f1;\n",
       "}\n",
       "#T_d0a2b_row0_col5 {\n",
       "  background-color: #045c90;\n",
       "  color: #f1f1f1;\n",
       "}\n",
       "#T_d0a2b_row0_col6 {\n",
       "  background-color: #e0deed;\n",
       "  color: #000000;\n",
       "}\n",
       "#T_d0a2b_row0_col7 {\n",
       "  background-color: #04598c;\n",
       "  color: #f1f1f1;\n",
       "}\n",
       "#T_d0a2b_row0_col8, #T_d0a2b_row0_col12, #T_d0a2b_row0_col13, #T_d0a2b_row1_col13, #T_d0a2b_row2_col13, #T_d0a2b_row3_col13, #T_d0a2b_row4_col13, #T_d0a2b_row5_col5, #T_d0a2b_row5_col9, #T_d0a2b_row5_col10, #T_d0a2b_row5_col11, #T_d0a2b_row5_col13, #T_d0a2b_row6_col6, #T_d0a2b_row6_col7, #T_d0a2b_row6_col13, #T_d0a2b_row7_col0, #T_d0a2b_row7_col1, #T_d0a2b_row7_col2, #T_d0a2b_row7_col3, #T_d0a2b_row7_col4, #T_d0a2b_row7_col7, #T_d0a2b_row7_col13 {\n",
       "  background-color: #fff7fb;\n",
       "  color: #000000;\n",
       "}\n",
       "#T_d0a2b_row0_col10 {\n",
       "  background-color: #04629a;\n",
       "  color: #f1f1f1;\n",
       "}\n",
       "#T_d0a2b_row0_col11 {\n",
       "  background-color: #045d92;\n",
       "  color: #f1f1f1;\n",
       "}\n",
       "#T_d0a2b_row1_col0 {\n",
       "  background-color: #045a8d;\n",
       "  color: #f1f1f1;\n",
       "}\n",
       "#T_d0a2b_row1_col1 {\n",
       "  background-color: #04649d;\n",
       "  color: #f1f1f1;\n",
       "}\n",
       "#T_d0a2b_row1_col3 {\n",
       "  background-color: #045483;\n",
       "  color: #f1f1f1;\n",
       "}\n",
       "#T_d0a2b_row1_col4 {\n",
       "  background-color: #0f76b3;\n",
       "  color: #f1f1f1;\n",
       "}\n",
       "#T_d0a2b_row1_col5, #T_d0a2b_row5_col3, #T_d0a2b_row6_col9 {\n",
       "  background-color: #93b5d6;\n",
       "  color: #000000;\n",
       "}\n",
       "#T_d0a2b_row1_col6, #T_d0a2b_row5_col0 {\n",
       "  background-color: #c0c9e2;\n",
       "  color: #000000;\n",
       "}\n",
       "#T_d0a2b_row1_col7 {\n",
       "  background-color: #187cb6;\n",
       "  color: #f1f1f1;\n",
       "}\n",
       "#T_d0a2b_row1_col8, #T_d0a2b_row2_col8 {\n",
       "  background-color: #f0eaf4;\n",
       "  color: #000000;\n",
       "}\n",
       "#T_d0a2b_row1_col9 {\n",
       "  background-color: #c1cae2;\n",
       "  color: #000000;\n",
       "}\n",
       "#T_d0a2b_row1_col10 {\n",
       "  background-color: #7dacd1;\n",
       "  color: #f1f1f1;\n",
       "}\n",
       "#T_d0a2b_row1_col11, #T_d0a2b_row4_col8 {\n",
       "  background-color: #ede8f3;\n",
       "  color: #000000;\n",
       "}\n",
       "#T_d0a2b_row1_col12 {\n",
       "  background-color: #81aed2;\n",
       "  color: #f1f1f1;\n",
       "}\n",
       "#T_d0a2b_row2_col0, #T_d0a2b_row3_col3 {\n",
       "  background-color: #3991c1;\n",
       "  color: #f1f1f1;\n",
       "}\n",
       "#T_d0a2b_row2_col1 {\n",
       "  background-color: #2081b9;\n",
       "  color: #f1f1f1;\n",
       "}\n",
       "#T_d0a2b_row2_col2 {\n",
       "  background-color: #75a9cf;\n",
       "  color: #f1f1f1;\n",
       "}\n",
       "#T_d0a2b_row2_col3 {\n",
       "  background-color: #1e80b8;\n",
       "  color: #f1f1f1;\n",
       "}\n",
       "#T_d0a2b_row2_col5 {\n",
       "  background-color: #94b6d7;\n",
       "  color: #000000;\n",
       "}\n",
       "#T_d0a2b_row2_col6 {\n",
       "  background-color: #d5d5e8;\n",
       "  color: #000000;\n",
       "}\n",
       "#T_d0a2b_row2_col9 {\n",
       "  background-color: #c2cbe2;\n",
       "  color: #000000;\n",
       "}\n",
       "#T_d0a2b_row2_col10 {\n",
       "  background-color: #b9c6e0;\n",
       "  color: #000000;\n",
       "}\n",
       "#T_d0a2b_row2_col11 {\n",
       "  background-color: #faf2f8;\n",
       "  color: #000000;\n",
       "}\n",
       "#T_d0a2b_row3_col0, #T_d0a2b_row4_col6 {\n",
       "  background-color: #62a2cb;\n",
       "  color: #f1f1f1;\n",
       "}\n",
       "#T_d0a2b_row3_col1 {\n",
       "  background-color: #5ea0ca;\n",
       "  color: #f1f1f1;\n",
       "}\n",
       "#T_d0a2b_row3_col2 {\n",
       "  background-color: #4697c4;\n",
       "  color: #f1f1f1;\n",
       "}\n",
       "#T_d0a2b_row3_col4 {\n",
       "  background-color: #4094c3;\n",
       "  color: #f1f1f1;\n",
       "}\n",
       "#T_d0a2b_row3_col5 {\n",
       "  background-color: #73a9cf;\n",
       "  color: #f1f1f1;\n",
       "}\n",
       "#T_d0a2b_row3_col6 {\n",
       "  background-color: #d2d3e7;\n",
       "  color: #000000;\n",
       "}\n",
       "#T_d0a2b_row3_col7 {\n",
       "  background-color: #348ebf;\n",
       "  color: #f1f1f1;\n",
       "}\n",
       "#T_d0a2b_row3_col8, #T_d0a2b_row6_col1 {\n",
       "  background-color: #f5eef6;\n",
       "  color: #000000;\n",
       "}\n",
       "#T_d0a2b_row3_col9 {\n",
       "  background-color: #8eb3d5;\n",
       "  color: #000000;\n",
       "}\n",
       "#T_d0a2b_row3_col10 {\n",
       "  background-color: #6ba5cd;\n",
       "  color: #f1f1f1;\n",
       "}\n",
       "#T_d0a2b_row3_col11 {\n",
       "  background-color: #e6e2ef;\n",
       "  color: #000000;\n",
       "}\n",
       "#T_d0a2b_row3_col12 {\n",
       "  background-color: #0567a1;\n",
       "  color: #f1f1f1;\n",
       "}\n",
       "#T_d0a2b_row4_col0 {\n",
       "  background-color: #b1c2de;\n",
       "  color: #000000;\n",
       "}\n",
       "#T_d0a2b_row4_col1, #T_d0a2b_row4_col7, #T_d0a2b_row5_col1, #T_d0a2b_row7_col6 {\n",
       "  background-color: #d9d8ea;\n",
       "  color: #000000;\n",
       "}\n",
       "#T_d0a2b_row4_col2, #T_d0a2b_row4_col3 {\n",
       "  background-color: #84b0d3;\n",
       "  color: #f1f1f1;\n",
       "}\n",
       "#T_d0a2b_row4_col4 {\n",
       "  background-color: #dddbec;\n",
       "  color: #000000;\n",
       "}\n",
       "#T_d0a2b_row4_col5 {\n",
       "  background-color: #3b92c1;\n",
       "  color: #f1f1f1;\n",
       "}\n",
       "#T_d0a2b_row4_col9, #T_d0a2b_row5_col7 {\n",
       "  background-color: #d2d2e7;\n",
       "  color: #000000;\n",
       "}\n",
       "#T_d0a2b_row4_col10 {\n",
       "  background-color: #3790c0;\n",
       "  color: #f1f1f1;\n",
       "}\n",
       "#T_d0a2b_row4_col11 {\n",
       "  background-color: #bdc8e1;\n",
       "  color: #000000;\n",
       "}\n",
       "#T_d0a2b_row4_col12, #T_d0a2b_row5_col4 {\n",
       "  background-color: #dad9ea;\n",
       "  color: #000000;\n",
       "}\n",
       "#T_d0a2b_row5_col2 {\n",
       "  background-color: #9fbad9;\n",
       "  color: #000000;\n",
       "}\n",
       "#T_d0a2b_row5_col12, #T_d0a2b_row6_col12 {\n",
       "  background-color: #034973;\n",
       "  color: #f1f1f1;\n",
       "}\n",
       "#T_d0a2b_row6_col0 {\n",
       "  background-color: #eee9f3;\n",
       "  color: #000000;\n",
       "}\n",
       "#T_d0a2b_row6_col2 {\n",
       "  background-color: #e5e1ef;\n",
       "  color: #000000;\n",
       "}\n",
       "#T_d0a2b_row6_col3 {\n",
       "  background-color: #c9cee4;\n",
       "  color: #000000;\n",
       "}\n",
       "#T_d0a2b_row6_col4 {\n",
       "  background-color: #fdf5fa;\n",
       "  color: #000000;\n",
       "}\n",
       "#T_d0a2b_row6_col8 {\n",
       "  background-color: #f4eef6;\n",
       "  color: #000000;\n",
       "}\n",
       "#T_d0a2b_row6_col10 {\n",
       "  background-color: #d1d2e6;\n",
       "  color: #000000;\n",
       "}\n",
       "#T_d0a2b_row6_col11 {\n",
       "  background-color: #fcf4fa;\n",
       "  color: #000000;\n",
       "}\n",
       "#T_d0a2b_row7_col5 {\n",
       "  background-color: #034d79;\n",
       "  color: #f1f1f1;\n",
       "}\n",
       "#T_d0a2b_row7_col8, #T_d0a2b_row7_col9, #T_d0a2b_row7_col12 {\n",
       "  background-color: #000000;\n",
       "  color: #f1f1f1;\n",
       "}\n",
       "</style>\n",
       "<table id=\"T_d0a2b\">\n",
       "  <thead>\n",
       "    <tr>\n",
       "      <th class=\"blank level0\" >&nbsp;</th>\n",
       "      <th id=\"T_d0a2b_level0_col0\" class=\"col_heading level0 col0\" colspan=\"4\">Return</th>\n",
       "      <th id=\"T_d0a2b_level0_col4\" class=\"col_heading level0 col4\" colspan=\"4\">Risk</th>\n",
       "      <th id=\"T_d0a2b_level0_col8\" class=\"col_heading level0 col8\" colspan=\"6\">Normality Tests</th>\n",
       "    </tr>\n",
       "    <tr>\n",
       "      <th class=\"blank level1\" >&nbsp;</th>\n",
       "      <th id=\"T_d0a2b_level1_col0\" class=\"col_heading level1 col0\" >Mean</th>\n",
       "      <th id=\"T_d0a2b_level1_col1\" class=\"col_heading level1 col1\" >Median</th>\n",
       "      <th id=\"T_d0a2b_level1_col2\" class=\"col_heading level1 col2\" >Geometric Mean</th>\n",
       "      <th id=\"T_d0a2b_level1_col3\" class=\"col_heading level1 col3\" >Bayes Stein</th>\n",
       "      <th id=\"T_d0a2b_level1_col4\" class=\"col_heading level1 col4\" >Standard Dev.</th>\n",
       "      <th id=\"T_d0a2b_level1_col5\" class=\"col_heading level1 col5\" >Skewness</th>\n",
       "      <th id=\"T_d0a2b_level1_col6\" class=\"col_heading level1 col6\" >Kurtosis</th>\n",
       "      <th id=\"T_d0a2b_level1_col7\" class=\"col_heading level1 col7\" >CVaR</th>\n",
       "      <th id=\"T_d0a2b_level1_col8\" class=\"col_heading level1 col8\" >Jarque-Bera</th>\n",
       "      <th id=\"T_d0a2b_level1_col9\" class=\"col_heading level1 col9\" >p-value</th>\n",
       "      <th id=\"T_d0a2b_level1_col10\" class=\"col_heading level1 col10\" >Shapiro-Wilk</th>\n",
       "      <th id=\"T_d0a2b_level1_col11\" class=\"col_heading level1 col11\" >p-value </th>\n",
       "      <th id=\"T_d0a2b_level1_col12\" class=\"col_heading level1 col12\" >Anderson-Darling</th>\n",
       "      <th id=\"T_d0a2b_level1_col13\" class=\"col_heading level1 col13\" >sig.</th>\n",
       "    </tr>\n",
       "  </thead>\n",
       "  <tbody>\n",
       "    <tr>\n",
       "      <th id=\"T_d0a2b_level0_row0\" class=\"row_heading level0 row0\" >other equity instruments</th>\n",
       "      <td id=\"T_d0a2b_row0_col0\" class=\"data row0 col0\" >0.101044</td>\n",
       "      <td id=\"T_d0a2b_row0_col1\" class=\"data row0 col1\" >0.162375</td>\n",
       "      <td id=\"T_d0a2b_row0_col2\" class=\"data row0 col2\" >0.066204</td>\n",
       "      <td id=\"T_d0a2b_row0_col3\" class=\"data row0 col3\" >0.043181</td>\n",
       "      <td id=\"T_d0a2b_row0_col4\" class=\"data row0 col4\" >0.205996</td>\n",
       "      <td id=\"T_d0a2b_row0_col5\" class=\"data row0 col5\" >-0.107798</td>\n",
       "      <td id=\"T_d0a2b_row0_col6\" class=\"data row0 col6\" >-0.266724</td>\n",
       "      <td id=\"T_d0a2b_row0_col7\" class=\"data row0 col7\" >0.368985</td>\n",
       "      <td id=\"T_d0a2b_row0_col8\" class=\"data row0 col8\" >0.239997</td>\n",
       "      <td id=\"T_d0a2b_row0_col9\" class=\"data row0 col9\" >0.886922</td>\n",
       "      <td id=\"T_d0a2b_row0_col10\" class=\"data row0 col10\" >0.976796</td>\n",
       "      <td id=\"T_d0a2b_row0_col11\" class=\"data row0 col11\" >0.859329</td>\n",
       "      <td id=\"T_d0a2b_row0_col12\" class=\"data row0 col12\" >0.291602</td>\n",
       "      <td id=\"T_d0a2b_row0_col13\" class=\"data row0 col13\" >nan</td>\n",
       "    </tr>\n",
       "    <tr>\n",
       "      <th id=\"T_d0a2b_level0_row1\" class=\"row_heading level0 row1\" >listed foreign public equity</th>\n",
       "      <td id=\"T_d0a2b_row1_col0\" class=\"data row1 col0\" >0.088127</td>\n",
       "      <td id=\"T_d0a2b_row1_col1\" class=\"data row1 col1\" >0.132876</td>\n",
       "      <td id=\"T_d0a2b_row1_col2\" class=\"data row1 col2\" >0.071606</td>\n",
       "      <td id=\"T_d0a2b_row1_col3\" class=\"data row1 col3\" >0.038649</td>\n",
       "      <td id=\"T_d0a2b_row1_col4\" class=\"data row1 col4\" >0.171705</td>\n",
       "      <td id=\"T_d0a2b_row1_col5\" class=\"data row1 col5\" >-0.913325</td>\n",
       "      <td id=\"T_d0a2b_row1_col6\" class=\"data row1 col6\" >0.594628</td>\n",
       "      <td id=\"T_d0a2b_row1_col7\" class=\"data row1 col7\" >0.295545</td>\n",
       "      <td id=\"T_d0a2b_row1_col8\" class=\"data row1 col8\" >2.687396</td>\n",
       "      <td id=\"T_d0a2b_row1_col9\" class=\"data row1 col9\" >0.260879</td>\n",
       "      <td id=\"T_d0a2b_row1_col10\" class=\"data row1 col10\" >0.930300</td>\n",
       "      <td id=\"T_d0a2b_row1_col11\" class=\"data row1 col11\" >0.124478</td>\n",
       "      <td id=\"T_d0a2b_row1_col12\" class=\"data row1 col12\" >0.502639</td>\n",
       "      <td id=\"T_d0a2b_row1_col13\" class=\"data row1 col13\" >nan</td>\n",
       "    </tr>\n",
       "    <tr>\n",
       "      <th id=\"T_d0a2b_level0_row2\" class=\"row_heading level0 row2\" >listed domestic public equity</th>\n",
       "      <td id=\"T_d0a2b_row2_col0\" class=\"data row2 col0\" >0.062365</td>\n",
       "      <td id=\"T_d0a2b_row2_col1\" class=\"data row2 col1\" >0.110366</td>\n",
       "      <td id=\"T_d0a2b_row2_col2\" class=\"data row2 col2\" >0.035716</td>\n",
       "      <td id=\"T_d0a2b_row2_col3\" class=\"data row2 col3\" >0.029609</td>\n",
       "      <td id=\"T_d0a2b_row2_col4\" class=\"data row2 col4\" >0.237156</td>\n",
       "      <td id=\"T_d0a2b_row2_col5\" class=\"data row2 col5\" >-0.919237</td>\n",
       "      <td id=\"T_d0a2b_row2_col6\" class=\"data row2 col6\" >0.105557</td>\n",
       "      <td id=\"T_d0a2b_row2_col7\" class=\"data row2 col7\" >0.421583</td>\n",
       "      <td id=\"T_d0a2b_row2_col8\" class=\"data row2 col8\" >2.711513</td>\n",
       "      <td id=\"T_d0a2b_row2_col9\" class=\"data row2 col9\" >0.257752</td>\n",
       "      <td id=\"T_d0a2b_row2_col10\" class=\"data row2 col10\" >0.908985</td>\n",
       "      <td id=\"T_d0a2b_row2_col11\" class=\"data row2 col11\" >0.045138</td>\n",
       "      <td id=\"T_d0a2b_row2_col12\" class=\"data row2 col12\" >0.745511</td>\n",
       "      <td id=\"T_d0a2b_row2_col13\" class=\"data row2 col13\" >0.150000</td>\n",
       "    </tr>\n",
       "    <tr>\n",
       "      <th id=\"T_d0a2b_level0_row3\" class=\"row_heading level0 row3\" >public investment funds</th>\n",
       "      <td id=\"T_d0a2b_row3_col0\" class=\"data row3 col0\" >0.054380</td>\n",
       "      <td id=\"T_d0a2b_row3_col1\" class=\"data row3 col1\" >0.088500</td>\n",
       "      <td id=\"T_d0a2b_row3_col2\" class=\"data row3 col2\" >0.042356</td>\n",
       "      <td id=\"T_d0a2b_row3_col3\" class=\"data row3 col3\" >0.026807</td>\n",
       "      <td id=\"T_d0a2b_row3_col4\" class=\"data row3 col4\" >0.143142</td>\n",
       "      <td id=\"T_d0a2b_row3_col5\" class=\"data row3 col5\" >-0.770682</td>\n",
       "      <td id=\"T_d0a2b_row3_col6\" class=\"data row3 col6\" >0.171441</td>\n",
       "      <td id=\"T_d0a2b_row3_col7\" class=\"data row3 col7\" >0.266204</td>\n",
       "      <td id=\"T_d0a2b_row3_col8\" class=\"data row3 col8\" >1.900106</td>\n",
       "      <td id=\"T_d0a2b_row3_col9\" class=\"data row3 col9\" >0.386720</td>\n",
       "      <td id=\"T_d0a2b_row3_col10\" class=\"data row3 col10\" >0.935524</td>\n",
       "      <td id=\"T_d0a2b_row3_col11\" class=\"data row3 col11\" >0.159889</td>\n",
       "      <td id=\"T_d0a2b_row3_col12\" class=\"data row3 col12\" >0.656816</td>\n",
       "      <td id=\"T_d0a2b_row3_col13\" class=\"data row3 col13\" >0.150000</td>\n",
       "    </tr>\n",
       "    <tr>\n",
       "      <th id=\"T_d0a2b_level0_row4\" class=\"row_heading level0 row4\" >corporate bonds</th>\n",
       "      <td id=\"T_d0a2b_row4_col0\" class=\"data row4 col0\" >0.034587</td>\n",
       "      <td id=\"T_d0a2b_row4_col1\" class=\"data row4 col1\" >0.033646</td>\n",
       "      <td id=\"T_d0a2b_row4_col2\" class=\"data row4 col2\" >0.032826</td>\n",
       "      <td id=\"T_d0a2b_row4_col3\" class=\"data row4 col3\" >0.019862</td>\n",
       "      <td id=\"T_d0a2b_row4_col4\" class=\"data row4 col4\" >0.045922</td>\n",
       "      <td id=\"T_d0a2b_row4_col5\" class=\"data row4 col5\" >-0.560459</td>\n",
       "      <td id=\"T_d0a2b_row4_col6\" class=\"data row4 col6\" >2.236911</td>\n",
       "      <td id=\"T_d0a2b_row4_col7\" class=\"data row4 col7\" >0.087023</td>\n",
       "      <td id=\"T_d0a2b_row4_col8\" class=\"data row4 col8\" >3.056992</td>\n",
       "      <td id=\"T_d0a2b_row4_col9\" class=\"data row4 col9\" >0.216862</td>\n",
       "      <td id=\"T_d0a2b_row4_col10\" class=\"data row4 col10\" >0.949720</td>\n",
       "      <td id=\"T_d0a2b_row4_col11\" class=\"data row4 col11\" >0.311835</td>\n",
       "      <td id=\"T_d0a2b_row4_col12\" class=\"data row4 col12\" >0.384402</td>\n",
       "      <td id=\"T_d0a2b_row4_col13\" class=\"data row4 col13\" >nan</td>\n",
       "    </tr>\n",
       "    <tr>\n",
       "      <th id=\"T_d0a2b_level0_row5\" class=\"row_heading level0 row5\" >state bonds</th>\n",
       "      <td id=\"T_d0a2b_row5_col0\" class=\"data row5 col0\" >0.030061</td>\n",
       "      <td id=\"T_d0a2b_row5_col1\" class=\"data row5 col1\" >0.034438</td>\n",
       "      <td id=\"T_d0a2b_row5_col2\" class=\"data row5 col2\" >0.028160</td>\n",
       "      <td id=\"T_d0a2b_row5_col3\" class=\"data row5 col3\" >0.018273</td>\n",
       "      <td id=\"T_d0a2b_row5_col4\" class=\"data row5 col4\" >0.048865</td>\n",
       "      <td id=\"T_d0a2b_row5_col5\" class=\"data row5 col5\" >-1.694842</td>\n",
       "      <td id=\"T_d0a2b_row5_col6\" class=\"data row5 col6\" >5.455305</td>\n",
       "      <td id=\"T_d0a2b_row5_col7\" class=\"data row5 col7\" >0.102561</td>\n",
       "      <td id=\"T_d0a2b_row5_col8\" class=\"data row5 col8\" >24.014550</td>\n",
       "      <td id=\"T_d0a2b_row5_col9\" class=\"data row5 col9\" >0.000006</td>\n",
       "      <td id=\"T_d0a2b_row5_col10\" class=\"data row5 col10\" >0.866124</td>\n",
       "      <td id=\"T_d0a2b_row5_col11\" class=\"data row5 col11\" >0.006636</td>\n",
       "      <td id=\"T_d0a2b_row5_col12\" class=\"data row5 col12\" >0.715732</td>\n",
       "      <td id=\"T_d0a2b_row5_col13\" class=\"data row5 col13\" >0.150000</td>\n",
       "    </tr>\n",
       "    <tr>\n",
       "      <th id=\"T_d0a2b_level0_row6\" class=\"row_heading level0 row6\" >fixed term and savings deposit</th>\n",
       "      <td id=\"T_d0a2b_row6_col0\" class=\"data row6 col0\" >0.011392</td>\n",
       "      <td id=\"T_d0a2b_row6_col1\" class=\"data row6 col1\" >0.011132</td>\n",
       "      <td id=\"T_d0a2b_row6_col2\" class=\"data row6 col2\" >0.011357</td>\n",
       "      <td id=\"T_d0a2b_row6_col3\" class=\"data row6 col3\" >0.011722</td>\n",
       "      <td id=\"T_d0a2b_row6_col4\" class=\"data row6 col4\" >0.004226</td>\n",
       "      <td id=\"T_d0a2b_row6_col5\" class=\"data row6 col5\" >0.148531</td>\n",
       "      <td id=\"T_d0a2b_row6_col6\" class=\"data row6 col6\" >-1.489419</td>\n",
       "      <td id=\"T_d0a2b_row6_col7\" class=\"data row6 col7\" >-0.000880</td>\n",
       "      <td id=\"T_d0a2b_row6_col8\" class=\"data row6 col8\" >1.951533</td>\n",
       "      <td id=\"T_d0a2b_row6_col9\" class=\"data row6 col9\" >0.376903</td>\n",
       "      <td id=\"T_d0a2b_row6_col10\" class=\"data row6 col10\" >0.899514</td>\n",
       "      <td id=\"T_d0a2b_row6_col11\" class=\"data row6 col11\" >0.029068</td>\n",
       "      <td id=\"T_d0a2b_row6_col12\" class=\"data row6 col12\" >0.716468</td>\n",
       "      <td id=\"T_d0a2b_row6_col13\" class=\"data row6 col13\" >0.150000</td>\n",
       "    </tr>\n",
       "    <tr>\n",
       "      <th id=\"T_d0a2b_level0_row7\" class=\"row_heading level0 row7\" >cash</th>\n",
       "      <td id=\"T_d0a2b_row7_col0\" class=\"data row7 col0\" >0.000000</td>\n",
       "      <td id=\"T_d0a2b_row7_col1\" class=\"data row7 col1\" >0.000000</td>\n",
       "      <td id=\"T_d0a2b_row7_col2\" class=\"data row7 col2\" >0.000000</td>\n",
       "      <td id=\"T_d0a2b_row7_col3\" class=\"data row7 col3\" >0.000000</td>\n",
       "      <td id=\"T_d0a2b_row7_col4\" class=\"data row7 col4\" >0.000000</td>\n",
       "      <td id=\"T_d0a2b_row7_col5\" class=\"data row7 col5\" >0.000000</td>\n",
       "      <td id=\"T_d0a2b_row7_col6\" class=\"data row7 col6\" >0.000000</td>\n",
       "      <td id=\"T_d0a2b_row7_col7\" class=\"data row7 col7\" >-0.000000</td>\n",
       "      <td id=\"T_d0a2b_row7_col8\" class=\"data row7 col8\" >nan</td>\n",
       "      <td id=\"T_d0a2b_row7_col9\" class=\"data row7 col9\" >nan</td>\n",
       "      <td id=\"T_d0a2b_row7_col10\" class=\"data row7 col10\" >1.000000</td>\n",
       "      <td id=\"T_d0a2b_row7_col11\" class=\"data row7 col11\" >1.000000</td>\n",
       "      <td id=\"T_d0a2b_row7_col12\" class=\"data row7 col12\" >nan</td>\n",
       "      <td id=\"T_d0a2b_row7_col13\" class=\"data row7 col13\" >nan</td>\n",
       "    </tr>\n",
       "  </tbody>\n",
       "</table>\n"
      ],
      "text/plain": [
       "<pandas.io.formats.style.Styler at 0x7fd6d14d0070>"
      ]
     },
     "metadata": {},
     "output_type": "display_data"
    },
    {
     "name": "stderr",
     "output_type": "stream",
     "text": [
      "100%|██████████| 10000/10000 [00:06<00:00, 1523.78it/s]\n",
      "100%|██████████| 10000000/10000000 [2:50:37<00:00, 976.79it/s]  \n"
     ]
    },
    {
     "data": {
      "application/vnd.plotly.v1+json": {
       "config": {
        "plotlyServerURL": "https://plot.ly"
       },
       "data": [
        {
         "marker": {
          "color": [
           0.3482777230720212,
           0.3681724315440741,
           0.3932353132109513,
           0.334446333119306,
           0.4201522427582788,
           0.35878784562451405,
           0.44340651733604114,
           0.403087777918014,
           0.43511197236359556,
           0.42301782283765005,
           0.4868807310066222,
           0.4395109774536688,
           0.4869121620719052,
           0.43324880315770276,
           0.386296847231833,
           0.45701423866195334,
           0.4724312828624858,
           0.46503981970511726,
           0.36289974069469727,
           0.4569383623766838,
           0.46315817956829003,
           0.34726056580184567,
           0.4163877196831583,
           0.4745412193116963,
           0.4502936744886716,
           0.252773851918699,
           0.3996746536361623,
           0.4312205866288612,
           0.4313268647026129,
           0.46983027566261343,
           0.48888187385034654,
           0.4169554942316106,
           0.48243322949150746,
           0.3916819637279299,
           0.42109656922758465,
           0.4560353441874153,
           0.4549035826611136,
           0.46281027580709094,
           0.42207274974109543,
           0.48414343464106285,
           0.4972119617180436,
           0.42247104716694855,
           0.3844077218975254,
           0.40354836420233026,
           0.44044041499144315,
           0.46451686061644165,
           0.4566547634604303,
           0.47775361883587486,
           0.4503644426863597,
           0.4593948643380381,
           0.37567316823507296,
           0.4262775285189071,
           0.47195761820646237,
           0.4883267999778409,
           0.4702806761163925,
           0.4581514965730072,
           0.3871390853771216,
           0.47393480131273796,
           0.39508805177232414,
           0.44985453702981026,
           0.42839019358516917,
           0.45045810492315574,
           0.46678263483025706,
           0.46388289590047704,
           0.4527798487171127,
           0.47324901752715987,
           0.46523390739424214,
           0.4898655714029604,
           0.4521699523148395,
           0.5043059068957155,
           0.48782499696344234,
           0.4842898992139957,
           0.43887668645036026,
           0.44284250788482116,
           0.4873598572378982,
           0.45850931067935186,
           0.4780339190661001,
           0.48889784079418297,
           0.4733352268962259,
           0.5060866730399528,
           0.48534798169029997,
           0.4589598431358128,
           0.46724944366399995,
           0.46419841464566547,
           0.4159456807641506,
           0.48618884212499897,
           0.4306119817012553,
           0.48618006146195664,
           0.4098675399739775,
           0.5290848451332751,
           0.48058255969230357,
           0.47176527153667774,
           0.49199535468240074,
           0.48633583533768154,
           0.4459735609597576,
           0.4832985439986784,
           0.5262871874046372,
           0.45080756201120664,
           0.48759378849094875,
           0.46859386612881426,
           0.49093383258573947,
           0.4580869043825423,
           0.4826174388361108,
           0.4671096899505827,
           0.5012637472479536,
           0.496237615001908,
           0.49049409208957856,
           0.5064429494511495,
           0.4659485676658067,
           0.5084459143822904,
           0.41537956968574963,
           0.47432809162851375,
           0.42892100779081,
           0.46032515268824065,
           0.49172751206575943,
           0.4961345155653921,
           0.4582813031761832,
           0.48517309863044783,
           0.49811237940854025,
           0.47422084162254724,
           0.5022131614633171,
           0.4827347018297053,
           0.48398793168733123,
           0.4925970181826411,
           0.4700609174985958,
           0.5350467569786732,
           0.5016880094764512,
           0.4966822965859025,
           0.4118753281274618,
           0.2602266828352177,
           0.5120143939340893,
           0.5106307202035245,
           0.12650783253232134,
           0.49538414130366126,
           0.44731624176039136,
           0.3858369927238618,
           0.4835139022856458,
           0.5205821166288663,
           0.48265899167926335,
           0.5011243514163659,
           0.5149872472700089,
           0.4920245043939901,
           0.42170917734590074,
           0.4714620137606642,
           0.48564568795948776,
           0.536178816758456,
           0.5224668891233574,
           0.5043629562786325,
           0.4989904743172747
          ],
          "colorbar": {
           "title": {
            "text": "Sharpe<br>Ratio"
           }
          },
          "colorscale": [
           [
            0,
            "rgb(103,0,31)"
           ],
           [
            0.1,
            "rgb(178,24,43)"
           ],
           [
            0.2,
            "rgb(214,96,77)"
           ],
           [
            0.3,
            "rgb(244,165,130)"
           ],
           [
            0.4,
            "rgb(253,219,199)"
           ],
           [
            0.5,
            "rgb(247,247,247)"
           ],
           [
            0.6,
            "rgb(209,229,240)"
           ],
           [
            0.7,
            "rgb(146,197,222)"
           ],
           [
            0.8,
            "rgb(67,147,195)"
           ],
           [
            0.9,
            "rgb(33,102,172)"
           ],
           [
            1,
            "rgb(5,48,97)"
           ]
          ],
          "line": {
           "width": 1
          },
          "showscale": true,
          "size": 7
         },
         "mode": "markers",
         "text": [
          "['other equity instruments' 'listed foreign public equity' 'cash'\n 'public investment funds' 'fixed term and savings deposit'\n 'listed domestic public equity' 'corporate bonds' 'state bonds']<br>[0.11 0.03 0.15 0.18 0.2  0.06 0.17 0.09]",
          "['corporate bonds' 'state bonds' 'other equity instruments'\n 'fixed term and savings deposit' 'public investment funds'\n 'listed domestic public equity' 'listed foreign public equity' 'cash']<br>[0.15 0.08 0.16 0.25 0.09 0.02 0.03 0.22]",
          "['listed foreign public equity' 'state bonds'\n 'fixed term and savings deposit' 'listed domestic public equity'\n 'other equity instruments' 'public investment funds' 'cash'\n 'corporate bonds']<br>[0.18 0.19 0.03 0.09 0.15 0.13 0.19 0.04]",
          "['state bonds' 'fixed term and savings deposit' 'public investment funds'\n 'listed foreign public equity' 'cash' 'other equity instruments'\n 'corporate bonds' 'listed domestic public equity']<br>[0.13 0.11 0.03 0.1  0.15 0.09 0.19 0.21]",
          "['cash' 'fixed term and savings deposit' 'state bonds'\n 'listed domestic public equity' 'public investment funds'\n 'other equity instruments' 'corporate bonds'\n 'listed foreign public equity']<br>[0.15 0.03 0.12 0.05 0.16 0.19 0.12 0.18]",
          "['listed foreign public equity' 'cash' 'other equity instruments'\n 'corporate bonds' 'state bonds' 'listed domestic public equity'\n 'fixed term and savings deposit' 'public investment funds']<br>[0.08 0.01 0.21 0.05 0.17 0.26 0.06 0.16]",
          "['cash' 'state bonds' 'listed foreign public equity'\n 'other equity instruments' 'public investment funds'\n 'listed domestic public equity' 'fixed term and savings deposit'\n 'corporate bonds']<br>[0.01 0.15 0.2  0.19 0.17 0.05 0.06 0.17]",
          "['public investment funds' 'cash' 'listed domestic public equity'\n 'listed foreign public equity' 'fixed term and savings deposit'\n 'other equity instruments' 'corporate bonds' 'state bonds']<br>[0.08 0.2  0.04 0.13 0.2  0.19 0.03 0.13]",
          "['listed domestic public equity' 'state bonds' 'public investment funds'\n 'cash' 'fixed term and savings deposit' 'other equity instruments'\n 'corporate bonds' 'listed foreign public equity']<br>[0.07 0.15 0.13 0.05 0.09 0.2  0.13 0.18]",
          "['listed foreign public equity' 'state bonds' 'other equity instruments'\n 'fixed term and savings deposit' 'public investment funds'\n 'listed domestic public equity' 'corporate bonds' 'cash']<br>[0.12 0.32 0.02 0.03 0.26 0.04 0.18 0.03]",
          "['listed domestic public equity' 'corporate bonds' 'cash'\n 'public investment funds' 'other equity instruments'\n 'listed foreign public equity' 'state bonds'\n 'fixed term and savings deposit']<br>[0.   0.27 0.03 0.08 0.07 0.27 0.18 0.1 ]",
          "['corporate bonds' 'public investment funds' 'state bonds' 'cash'\n 'fixed term and savings deposit' 'listed foreign public equity'\n 'other equity instruments' 'listed domestic public equity']<br>[0.1  0.07 0.23 0.14 0.15 0.15 0.11 0.05]",
          "['other equity instruments' 'listed domestic public equity'\n 'corporate bonds' 'cash' 'public investment funds' 'state bonds'\n 'listed foreign public equity' 'fixed term and savings deposit']<br>[0.16 0.06 0.06 0.01 0.03 0.29 0.3  0.1 ]",
          "['other equity instruments' 'public investment funds' 'cash'\n 'listed domestic public equity' 'corporate bonds' 'state bonds'\n 'listed foreign public equity' 'fixed term and savings deposit']<br>[0.03 0.01 0.16 0.03 0.22 0.19 0.18 0.18]",
          "['listed foreign public equity' 'public investment funds'\n 'other equity instruments' 'corporate bonds' 'cash'\n 'listed domestic public equity' 'state bonds'\n 'fixed term and savings deposit']<br>[0.15 0.16 0.04 0.22 0.14 0.03 0.12 0.15]",
          "['fixed term and savings deposit' 'listed domestic public equity' 'cash'\n 'other equity instruments' 'listed foreign public equity' 'state bonds'\n 'corporate bonds' 'public investment funds']<br>[0.22 0.08 0.05 0.19 0.12 0.22 0.12 0.01]",
          "['listed domestic public equity' 'listed foreign public equity'\n 'state bonds' 'corporate bonds' 'public investment funds'\n 'other equity instruments' 'fixed term and savings deposit' 'cash']<br>[0.02 0.25 0.16 0.1  0.04 0.17 0.21 0.04]",
          "['corporate bonds' 'other equity instruments'\n 'listed foreign public equity' 'fixed term and savings deposit'\n 'state bonds' 'cash' 'listed domestic public equity'\n 'public investment funds']<br>[0.09 0.24 0.27 0.04 0.18 0.   0.05 0.13]",
          "['public investment funds' 'listed domestic public equity' 'cash'\n 'listed foreign public equity' 'fixed term and savings deposit'\n 'state bonds' 'other equity instruments' 'corporate bonds']<br>[0.04 0.06 0.27 0.07 0.14 0.17 0.07 0.18]",
          "['state bonds' 'other equity instruments' 'corporate bonds' 'cash'\n 'listed foreign public equity' 'fixed term and savings deposit'\n 'listed domestic public equity' 'public investment funds']<br>[0.2  0.21 0.22 0.1  0.08 0.   0.   0.19]",
          "['public investment funds' 'state bonds' 'listed foreign public equity'\n 'cash' 'corporate bonds' 'listed domestic public equity'\n 'other equity instruments' 'fixed term and savings deposit']<br>[0.1  0.16 0.17 0.09 0.2  0.01 0.14 0.13]",
          "['listed domestic public equity' 'listed foreign public equity'\n 'other equity instruments' 'state bonds' 'fixed term and savings deposit'\n 'public investment funds' 'cash' 'corporate bonds']<br>[0.06 0.09 0.07 0.2  0.16 0.14 0.22 0.05]",
          "['listed foreign public equity' 'cash' 'fixed term and savings deposit'\n 'listed domestic public equity' 'other equity instruments' 'state bonds'\n 'public investment funds' 'corporate bonds']<br>[0.05 0.18 0.22 0.05 0.25 0.21 0.01 0.03]",
          "['public investment funds' 'fixed term and savings deposit'\n 'listed foreign public equity' 'listed domestic public equity'\n 'state bonds' 'cash' 'corporate bonds' 'other equity instruments']<br>[0.05 0.02 0.06 0.08 0.31 0.06 0.25 0.17]",
          "['listed foreign public equity' 'cash' 'other equity instruments'\n 'corporate bonds' 'fixed term and savings deposit' 'state bonds'\n 'listed domestic public equity' 'public investment funds']<br>[0.12 0.12 0.07 0.22 0.2  0.19 0.03 0.05]",
          "['public investment funds' 'listed foreign public equity'\n 'other equity instruments' 'listed domestic public equity'\n 'corporate bonds' 'state bonds' 'cash' 'fixed term and savings deposit']<br>[0.08 0.02 0.06 0.02 0.1  0.15 0.37 0.2 ]",
          "['state bonds' 'corporate bonds' 'fixed term and savings deposit' 'cash'\n 'other equity instruments' 'listed domestic public equity'\n 'public investment funds' 'listed foreign public equity']<br>[0.06 0.06 0.01 0.   0.2  0.19 0.1  0.37]",
          "['other equity instruments' 'listed domestic public equity'\n 'corporate bonds' 'listed foreign public equity' 'cash'\n 'fixed term and savings deposit' 'state bonds' 'public investment funds']<br>[0.14 0.02 0.15 0.15 0.15 0.18 0.12 0.09]",
          "['other equity instruments' 'listed domestic public equity' 'cash'\n 'listed foreign public equity' 'state bonds' 'public investment funds'\n 'fixed term and savings deposit' 'corporate bonds']<br>[0.07 0.01 0.02 0.02 0.34 0.23 0.22 0.09]",
          "['cash' 'other equity instruments' 'state bonds'\n 'listed foreign public equity' 'listed domestic public equity'\n 'public investment funds' 'corporate bonds'\n 'fixed term and savings deposit']<br>[0.13 0.08 0.22 0.24 0.01 0.02 0.05 0.25]",
          "['listed domestic public equity' 'listed foreign public equity'\n 'public investment funds' 'state bonds' 'corporate bonds' 'cash'\n 'other equity instruments' 'fixed term and savings deposit']<br>[0.03 0.22 0.05 0.21 0.17 0.02 0.23 0.07]",
          "['public investment funds' 'state bonds' 'listed foreign public equity'\n 'listed domestic public equity' 'fixed term and savings deposit'\n 'corporate bonds' 'other equity instruments' 'cash']<br>[0.02 0.19 0.14 0.06 0.16 0.17 0.08 0.18]",
          "['other equity instruments' 'corporate bonds' 'cash'\n 'fixed term and savings deposit' 'listed domestic public equity'\n 'state bonds' 'public investment funds' 'listed foreign public equity']<br>[0.08 0.3  0.02 0.22 0.04 0.19 0.02 0.13]",
          "['state bonds' 'corporate bonds' 'listed domestic public equity'\n 'listed foreign public equity' 'cash' 'public investment funds'\n 'fixed term and savings deposit' 'other equity instruments']<br>[0.26 0.26 0.01 0.04 0.27 0.1  0.02 0.04]",
          "['listed domestic public equity' 'other equity instruments'\n 'corporate bonds' 'fixed term and savings deposit'\n 'public investment funds' 'cash' 'listed foreign public equity'\n 'state bonds']<br>[0.14 0.23 0.16 0.04 0.06 0.06 0.17 0.15]",
          "['listed domestic public equity' 'public investment funds'\n 'fixed term and savings deposit' 'cash' 'other equity instruments'\n 'corporate bonds' 'state bonds' 'listed foreign public equity']<br>[0.06 0.07 0.12 0.05 0.22 0.13 0.18 0.18]",
          "['state bonds' 'listed foreign public equity' 'other equity instruments'\n 'corporate bonds' 'listed domestic public equity'\n 'public investment funds' 'fixed term and savings deposit' 'cash']<br>[0.26 0.08 0.13 0.24 0.1  0.01 0.12 0.05]",
          "['other equity instruments' 'fixed term and savings deposit'\n 'public investment funds' 'listed foreign public equity'\n 'listed domestic public equity' 'cash' 'state bonds' 'corporate bonds']<br>[0.16 0.11 0.03 0.28 0.04 0.09 0.15 0.14]",
          "['corporate bonds' 'cash' 'listed domestic public equity' 'state bonds'\n 'listed foreign public equity' 'fixed term and savings deposit'\n 'other equity instruments' 'public investment funds']<br>[0.18 0.04 0.13 0.12 0.2  0.03 0.2  0.1 ]",
          "['cash' 'fixed term and savings deposit' 'public investment funds'\n 'corporate bonds' 'other equity instruments' 'state bonds'\n 'listed domestic public equity' 'listed foreign public equity']<br>[0.03 0.04 0.03 0.27 0.14 0.23 0.07 0.19]",
          "['fixed term and savings deposit' 'public investment funds' 'state bonds'\n 'cash' 'other equity instruments' 'corporate bonds'\n 'listed domestic public equity' 'listed foreign public equity']<br>[0.21 0.04 0.24 0.06 0.07 0.27 0.02 0.11]",
          "['public investment funds' 'fixed term and savings deposit' 'state bonds'\n 'other equity instruments' 'corporate bonds'\n 'listed domestic public equity' 'cash' 'listed foreign public equity']<br>[0.15 0.17 0.23 0.18 0.08 0.04 0.1  0.05]",
          "['other equity instruments' 'cash' 'public investment funds'\n 'listed foreign public equity' 'fixed term and savings deposit'\n 'corporate bonds' 'listed domestic public equity' 'state bonds']<br>[0.22 0.02 0.16 0.27 0.03 0.06 0.19 0.05]",
          "['cash' 'public investment funds' 'other equity instruments'\n 'listed foreign public equity' 'listed domestic public equity'\n 'fixed term and savings deposit' 'corporate bonds' 'state bonds']<br>[0.03 0.1  0.01 0.04 0.06 0.24 0.23 0.29]",
          "['state bonds' 'other equity instruments' 'listed foreign public equity'\n 'listed domestic public equity' 'fixed term and savings deposit'\n 'public investment funds' 'cash' 'corporate bonds']<br>[0.32 0.03 0.09 0.07 0.05 0.07 0.09 0.27]",
          "['cash' 'other equity instruments' 'public investment funds'\n 'listed foreign public equity' 'corporate bonds'\n 'fixed term and savings deposit' 'listed domestic public equity'\n 'state bonds']<br>[0.05 0.18 0.15 0.19 0.15 0.07 0.02 0.19]",
          "['fixed term and savings deposit' 'state bonds' 'corporate bonds' 'cash'\n 'listed domestic public equity' 'other equity instruments'\n 'listed foreign public equity' 'public investment funds']<br>[0.08 0.09 0.13 0.   0.05 0.27 0.29 0.1 ]",
          "['state bonds' 'listed foreign public equity'\n 'listed domestic public equity' 'cash' 'public investment funds'\n 'other equity instruments' 'fixed term and savings deposit'\n 'corporate bonds']<br>[0.26 0.16 0.04 0.14 0.01 0.17 0.1  0.12]",
          "['corporate bonds' 'other equity instruments'\n 'listed foreign public equity' 'fixed term and savings deposit'\n 'listed domestic public equity' 'cash' 'state bonds'\n 'public investment funds']<br>[0.14 0.24 0.28 0.05 0.09 0.   0.12 0.07]",
          "['listed foreign public equity' 'state bonds' 'cash' 'corporate bonds'\n 'public investment funds' 'listed domestic public equity'\n 'other equity instruments' 'fixed term and savings deposit']<br>[0.26 0.17 0.03 0.06 0.04 0.07 0.27 0.09]",
          "['state bonds' 'listed foreign public equity'\n 'fixed term and savings deposit' 'listed domestic public equity'\n 'other equity instruments' 'public investment funds' 'cash'\n 'corporate bonds']<br>[0.   0.25 0.12 0.22 0.28 0.06 0.06 0.  ]",
          "['fixed term and savings deposit' 'public investment funds'\n 'listed domestic public equity' 'state bonds' 'corporate bonds'\n 'listed foreign public equity' 'other equity instruments' 'cash']<br>[0.   0.07 0.13 0.07 0.15 0.28 0.26 0.04]",
          "['public investment funds' 'state bonds' 'listed foreign public equity'\n 'cash' 'listed domestic public equity' 'other equity instruments'\n 'fixed term and savings deposit' 'corporate bonds']<br>[0.   0.24 0.24 0.05 0.08 0.29 0.04 0.05]",
          "['other equity instruments' 'public investment funds'\n 'listed domestic public equity' 'corporate bonds' 'state bonds' 'cash'\n 'fixed term and savings deposit' 'listed foreign public equity']<br>[0.32 0.03 0.02 0.27 0.2  0.02 0.06 0.08]",
          "['fixed term and savings deposit' 'listed domestic public equity' 'cash'\n 'corporate bonds' 'listed foreign public equity'\n 'other equity instruments' 'state bonds' 'public investment funds']<br>[0.27 0.02 0.08 0.15 0.17 0.13 0.15 0.02]",
          "['listed domestic public equity' 'cash' 'corporate bonds'\n 'other equity instruments' 'listed foreign public equity' 'state bonds'\n 'fixed term and savings deposit' 'public investment funds']<br>[0.05 0.01 0.08 0.15 0.29 0.23 0.03 0.14]",
          "['corporate bonds' 'cash' 'listed foreign public equity' 'state bonds'\n 'public investment funds' 'other equity instruments'\n 'listed domestic public equity' 'fixed term and savings deposit']<br>[0.16 0.13 0.01 0.19 0.15 0.08 0.   0.28]",
          "['corporate bonds' 'public investment funds' 'cash' 'state bonds'\n 'fixed term and savings deposit' 'listed foreign public equity'\n 'listed domestic public equity' 'other equity instruments']<br>[0.14 0.01 0.11 0.3  0.23 0.17 0.02 0.02]",
          "['corporate bonds' 'listed domestic public equity'\n 'public investment funds' 'state bonds' 'other equity instruments'\n 'listed foreign public equity' 'fixed term and savings deposit' 'cash']<br>[0.24 0.02 0.03 0.13 0.09 0.05 0.23 0.21]",
          "['cash' 'other equity instruments' 'listed foreign public equity'\n 'public investment funds' 'fixed term and savings deposit'\n 'corporate bonds' 'listed domestic public equity' 'state bonds']<br>[0.   0.21 0.24 0.01 0.08 0.26 0.11 0.08]",
          "['state bonds' 'corporate bonds' 'other equity instruments' 'cash'\n 'public investment funds' 'fixed term and savings deposit'\n 'listed foreign public equity' 'listed domestic public equity']<br>[0.04 0.05 0.25 0.   0.2  0.07 0.33 0.05]",
          "['listed foreign public equity' 'fixed term and savings deposit'\n 'other equity instruments' 'cash' 'state bonds'\n 'listed domestic public equity' 'public investment funds'\n 'corporate bonds']<br>[0.2  0.17 0.14 0.16 0.15 0.03 0.01 0.14]",
          "['public investment funds' 'cash' 'corporate bonds'\n 'listed foreign public equity' 'other equity instruments'\n 'listed domestic public equity' 'fixed term and savings deposit'\n 'state bonds']<br>[0.05 0.18 0.27 0.04 0.11 0.   0.07 0.27]",
          "['fixed term and savings deposit' 'corporate bonds'\n 'listed foreign public equity' 'state bonds' 'other equity instruments'\n 'cash' 'listed domestic public equity' 'public investment funds']<br>[0.13 0.08 0.04 0.31 0.3  0.06 0.06 0.01]",
          "['fixed term and savings deposit' 'corporate bonds'\n 'listed domestic public equity' 'other equity instruments' 'cash'\n 'public investment funds' 'listed foreign public equity' 'state bonds']<br>[0.07 0.07 0.02 0.23 0.08 0.14 0.24 0.15]",
          "['fixed term and savings deposit' 'listed foreign public equity'\n 'other equity instruments' 'public investment funds' 'state bonds' 'cash'\n 'listed domestic public equity' 'corporate bonds']<br>[0.09 0.15 0.15 0.03 0.25 0.11 0.05 0.17]",
          "['public investment funds' 'corporate bonds' 'other equity instruments'\n 'state bonds' 'listed foreign public equity' 'cash'\n 'listed domestic public equity' 'fixed term and savings deposit']<br>[0.08 0.06 0.38 0.17 0.16 0.05 0.01 0.09]",
          "['listed foreign public equity' 'fixed term and savings deposit'\n 'listed domestic public equity' 'public investment funds' 'cash'\n 'corporate bonds' 'other equity instruments' 'state bonds']<br>[0.16 0.28 0.03 0.02 0.01 0.06 0.21 0.23]",
          "['cash' 'state bonds' 'corporate bonds' 'listed domestic public equity'\n 'public investment funds' 'listed foreign public equity'\n 'other equity instruments' 'fixed term and savings deposit']<br>[0.24 0.25 0.12 0.03 0.   0.15 0.11 0.1 ]",
          "['public investment funds' 'other equity instruments'\n 'listed foreign public equity' 'fixed term and savings deposit'\n 'state bonds' 'listed domestic public equity' 'cash' 'corporate bonds']<br>[0.   0.11 0.2  0.09 0.23 0.04 0.06 0.27]",
          "['other equity instruments' 'listed domestic public equity'\n 'fixed term and savings deposit' 'listed foreign public equity'\n 'state bonds' 'corporate bonds' 'cash' 'public investment funds']<br>[0.19 0.   0.18 0.12 0.22 0.15 0.13 0.  ]",
          "['public investment funds' 'state bonds' 'corporate bonds'\n 'listed foreign public equity' 'other equity instruments'\n 'listed domestic public equity' 'fixed term and savings deposit' 'cash']<br>[0.05 0.26 0.15 0.18 0.26 0.06 0.   0.04]",
          "['listed domestic public equity' 'public investment funds'\n 'listed foreign public equity' 'cash' 'state bonds'\n 'fixed term and savings deposit' 'other equity instruments'\n 'corporate bonds']<br>[0.   0.04 0.14 0.19 0.2  0.18 0.03 0.22]",
          "['cash' 'public investment funds' 'fixed term and savings deposit'\n 'state bonds' 'listed foreign public equity' 'other equity instruments'\n 'listed domestic public equity' 'corporate bonds']<br>[0.17 0.01 0.24 0.23 0.06 0.1  0.02 0.18]",
          "['corporate bonds' 'listed foreign public equity' 'cash' 'state bonds'\n 'fixed term and savings deposit' 'listed domestic public equity'\n 'public investment funds' 'other equity instruments']<br>[0.18 0.19 0.02 0.2  0.18 0.04 0.03 0.16]",
          "['listed foreign public equity' 'fixed term and savings deposit'\n 'corporate bonds' 'listed domestic public equity' 'state bonds'\n 'other equity instruments' 'public investment funds' 'cash']<br>[0.23 0.04 0.19 0.02 0.21 0.1  0.17 0.04]",
          "['listed foreign public equity' 'cash' 'listed domestic public equity'\n 'fixed term and savings deposit' 'state bonds' 'corporate bonds'\n 'other equity instruments' 'public investment funds']<br>[0.13 0.05 0.04 0.11 0.19 0.19 0.27 0.02]",
          "['listed domestic public equity' 'state bonds'\n 'listed foreign public equity' 'cash' 'other equity instruments'\n 'fixed term and savings deposit' 'public investment funds'\n 'corporate bonds']<br>[0.01 0.21 0.19 0.08 0.11 0.14 0.07 0.19]",
          "['corporate bonds' 'listed foreign public equity'\n 'listed domestic public equity' 'cash' 'other equity instruments'\n 'public investment funds' 'state bonds' 'fixed term and savings deposit']<br>[0.09 0.03 0.02 0.06 0.33 0.05 0.33 0.09]",
          "['listed foreign public equity' 'state bonds'\n 'fixed term and savings deposit' 'listed domestic public equity'\n 'corporate bonds' 'public investment funds' 'cash'\n 'other equity instruments']<br>[0.28 0.16 0.05 0.   0.19 0.02 0.01 0.28]",
          "['fixed term and savings deposit' 'corporate bonds'\n 'public investment funds' 'listed foreign public equity' 'cash'\n 'listed domestic public equity' 'state bonds' 'other equity instruments']<br>[0.09 0.15 0.05 0.18 0.06 0.02 0.2  0.25]",
          "['other equity instruments' 'listed domestic public equity'\n 'public investment funds' 'listed foreign public equity' 'state bonds'\n 'corporate bonds' 'cash' 'fixed term and savings deposit']<br>[0.09 0.02 0.06 0.03 0.3  0.2  0.13 0.16]",
          "['fixed term and savings deposit' 'corporate bonds' 'cash'\n 'other equity instruments' 'listed foreign public equity'\n 'public investment funds' 'listed domestic public equity' 'state bonds']<br>[0.04 0.14 0.24 0.09 0.14 0.03 0.02 0.3 ]",
          "['other equity instruments' 'cash' 'listed foreign public equity'\n 'listed domestic public equity' 'public investment funds' 'state bonds'\n 'corporate bonds' 'fixed term and savings deposit']<br>[0.31 0.01 0.21 0.02 0.   0.03 0.18 0.23]",
          "['listed foreign public equity' 'fixed term and savings deposit'\n 'corporate bonds' 'public investment funds' 'state bonds' 'cash'\n 'other equity instruments' 'listed domestic public equity']<br>[0.06 0.23 0.27 0.04 0.28 0.06 0.   0.06]",
          "['corporate bonds' 'listed domestic public equity' 'state bonds' 'cash'\n 'public investment funds' 'listed foreign public equity'\n 'fixed term and savings deposit' 'other equity instruments']<br>[0.   0.   0.29 0.07 0.13 0.28 0.03 0.19]",
          "['fixed term and savings deposit' 'other equity instruments'\n 'corporate bonds' 'listed foreign public equity'\n 'listed domestic public equity' 'public investment funds' 'cash'\n 'state bonds']<br>[0.12 0.44 0.11 0.16 0.09 0.02 0.04 0.02]",
          "['other equity instruments' 'listed foreign public equity'\n 'public investment funds' 'cash' 'fixed term and savings deposit'\n 'listed domestic public equity' 'corporate bonds' 'state bonds']<br>[0.26 0.17 0.05 0.04 0.13 0.03 0.06 0.26]",
          "['corporate bonds' 'fixed term and savings deposit'\n 'listed foreign public equity' 'public investment funds'\n 'listed domestic public equity' 'other equity instruments' 'cash'\n 'state bonds']<br>[0.18 0.23 0.11 0.03 0.   0.03 0.22 0.19]",
          "['listed foreign public equity' 'cash' 'other equity instruments'\n 'listed domestic public equity' 'public investment funds' 'state bonds'\n 'fixed term and savings deposit' 'corporate bonds']<br>[0.22 0.01 0.13 0.   0.04 0.32 0.22 0.06]",
          "['listed foreign public equity' 'other equity instruments'\n 'corporate bonds' 'public investment funds' 'cash'\n 'fixed term and savings deposit' 'listed domestic public equity'\n 'state bonds']<br>[0.12 0.21 0.09 0.02 0.08 0.27 0.   0.21]",
          "['state bonds' 'public investment funds' 'listed domestic public equity'\n 'other equity instruments' 'cash' 'corporate bonds'\n 'fixed term and savings deposit' 'listed foreign public equity']<br>[0.24 0.04 0.01 0.18 0.09 0.13 0.25 0.06]",
          "['corporate bonds' 'cash' 'fixed term and savings deposit'\n 'listed domestic public equity' 'other equity instruments' 'state bonds'\n 'listed foreign public equity' 'public investment funds']<br>[0.1  0.   0.09 0.06 0.19 0.31 0.2  0.06]",
          "['other equity instruments' 'corporate bonds'\n 'listed domestic public equity' 'public investment funds'\n 'fixed term and savings deposit' 'state bonds' 'cash'\n 'listed foreign public equity']<br>[0.17 0.17 0.01 0.07 0.09 0.19 0.07 0.23]",
          "['listed domestic public equity' 'state bonds' 'other equity instruments'\n 'corporate bonds' 'public investment funds' 'cash'\n 'listed foreign public equity' 'fixed term and savings deposit']<br>[0.01 0.4  0.02 0.16 0.18 0.   0.02 0.21]",
          "['listed domestic public equity' 'corporate bonds' 'state bonds' 'cash'\n 'listed foreign public equity' 'fixed term and savings deposit'\n 'other equity instruments' 'public investment funds']<br>[0.05 0.16 0.23 0.02 0.21 0.04 0.24 0.07]",
          "['cash' 'fixed term and savings deposit' 'corporate bonds'\n 'listed domestic public equity' 'public investment funds' 'state bonds'\n 'other equity instruments' 'listed foreign public equity']<br>[0.04 0.19 0.3  0.01 0.01 0.3  0.03 0.12]",
          "['state bonds' 'listed foreign public equity' 'cash'\n 'listed domestic public equity' 'fixed term and savings deposit'\n 'other equity instruments' 'corporate bonds' 'public investment funds']<br>[0.13 0.3  0.06 0.07 0.07 0.33 0.01 0.03]",
          "['fixed term and savings deposit' 'cash' 'listed domestic public equity'\n 'listed foreign public equity' 'state bonds' 'corporate bonds'\n 'other equity instruments' 'public investment funds']<br>[0.29 0.05 0.   0.26 0.24 0.1  0.04 0.01]",
          "['listed domestic public equity' 'state bonds' 'corporate bonds' 'cash'\n 'fixed term and savings deposit' 'public investment funds'\n 'listed foreign public equity' 'other equity instruments']<br>[0.01 0.19 0.2  0.12 0.16 0.05 0.2  0.07]",
          "['other equity instruments' 'state bonds' 'corporate bonds'\n 'public investment funds' 'fixed term and savings deposit' 'cash'\n 'listed domestic public equity' 'listed foreign public equity']<br>[0.04 0.28 0.15 0.   0.38 0.05 0.01 0.09]",
          "['listed domestic public equity' 'public investment funds'\n 'fixed term and savings deposit' 'cash' 'other equity instruments'\n 'corporate bonds' 'state bonds' 'listed foreign public equity']<br>[0.01 0.03 0.2  0.14 0.06 0.09 0.21 0.25]",
          "['other equity instruments' 'corporate bonds'\n 'listed foreign public equity' 'public investment funds' 'state bonds'\n 'listed domestic public equity' 'fixed term and savings deposit' 'cash']<br>[0.22 0.16 0.26 0.06 0.2  0.03 0.   0.07]",
          "['listed domestic public equity' 'listed foreign public equity'\n 'corporate bonds' 'fixed term and savings deposit'\n 'public investment funds' 'cash' 'state bonds' 'other equity instruments']<br>[0.   0.18 0.44 0.1  0.11 0.04 0.04 0.1 ]",
          "['listed domestic public equity' 'public investment funds' 'cash'\n 'listed foreign public equity' 'fixed term and savings deposit'\n 'corporate bonds' 'state bonds' 'other equity instruments']<br>[0.01 0.02 0.08 0.15 0.21 0.13 0.24 0.16]",
          "['listed foreign public equity' 'public investment funds'\n 'other equity instruments' 'cash' 'corporate bonds'\n 'fixed term and savings deposit' 'state bonds'\n 'listed domestic public equity']<br>[0.24 0.07 0.17 0.   0.21 0.09 0.2  0.02]",
          "['cash' 'other equity instruments' 'public investment funds' 'state bonds'\n 'corporate bonds' 'listed domestic public equity'\n 'fixed term and savings deposit' 'listed foreign public equity']<br>[0.01 0.3  0.06 0.21 0.23 0.03 0.03 0.13]",
          "['other equity instruments' 'listed foreign public equity' 'cash'\n 'corporate bonds' 'fixed term and savings deposit' 'state bonds'\n 'listed domestic public equity' 'public investment funds']<br>[0.27 0.31 0.   0.1  0.04 0.23 0.   0.05]",
          "['listed foreign public equity' 'public investment funds'\n 'fixed term and savings deposit' 'listed domestic public equity'\n 'corporate bonds' 'state bonds' 'cash' 'other equity instruments']<br>[0.16 0.06 0.33 0.03 0.08 0.21 0.03 0.11]",
          "['cash' 'listed foreign public equity' 'fixed term and savings deposit'\n 'public investment funds' 'state bonds' 'listed domestic public equity'\n 'corporate bonds' 'other equity instruments']<br>[0.07 0.2  0.01 0.02 0.26 0.02 0.18 0.25]",
          "['other equity instruments' 'public investment funds' 'cash'\n 'listed domestic public equity' 'fixed term and savings deposit'\n 'listed foreign public equity' 'state bonds' 'corporate bonds']<br>[0.07 0.02 0.24 0.03 0.15 0.06 0.27 0.16]",
          "['other equity instruments' 'corporate bonds' 'state bonds'\n 'fixed term and savings deposit' 'public investment funds'\n 'listed foreign public equity' 'cash' 'listed domestic public equity']<br>[0.18 0.14 0.19 0.08 0.04 0.21 0.13 0.02]",
          "['corporate bonds' 'fixed term and savings deposit'\n 'listed foreign public equity' 'other equity instruments'\n 'public investment funds' 'state bonds' 'listed domestic public equity'\n 'cash']<br>[0.19 0.01 0.27 0.28 0.15 0.   0.08 0.03]",
          "['corporate bonds' 'cash' 'state bonds' 'listed foreign public equity'\n 'fixed term and savings deposit' 'public investment funds'\n 'other equity instruments' 'listed domestic public equity']<br>[0.06 0.03 0.04 0.33 0.1  0.01 0.4  0.03]",
          "['other equity instruments' 'listed foreign public equity'\n 'public investment funds' 'fixed term and savings deposit'\n 'corporate bonds' 'cash' 'listed domestic public equity' 'state bonds']<br>[0.32 0.15 0.08 0.01 0.03 0.04 0.03 0.34]",
          "['cash' 'listed domestic public equity' 'listed foreign public equity'\n 'fixed term and savings deposit' 'corporate bonds' 'state bonds'\n 'other equity instruments' 'public investment funds']<br>[0.   0.03 0.19 0.19 0.18 0.18 0.23 0.  ]",
          "['corporate bonds' 'fixed term and savings deposit' 'cash'\n 'other equity instruments' 'listed foreign public equity' 'state bonds'\n 'public investment funds' 'listed domestic public equity']<br>[0.13 0.09 0.09 0.34 0.31 0.01 0.04 0.01]",
          "['state bonds' 'cash' 'fixed term and savings deposit'\n 'listed domestic public equity' 'corporate bonds'\n 'listed foreign public equity' 'public investment funds'\n 'other equity instruments']<br>[0.24 0.01 0.21 0.03 0.17 0.16 0.07 0.1 ]",
          "['fixed term and savings deposit' 'listed foreign public equity'\n 'other equity instruments' 'listed domestic public equity' 'cash'\n 'state bonds' 'public investment funds' 'corporate bonds']<br>[0.07 0.04 0.22 0.01 0.1  0.31 0.   0.26]",
          "['listed foreign public equity' 'fixed term and savings deposit'\n 'corporate bonds' 'state bonds' 'public investment funds'\n 'listed domestic public equity' 'cash' 'other equity instruments']<br>[0.1  0.28 0.01 0.3  0.08 0.   0.1  0.13]",
          "['cash' 'corporate bonds' 'listed foreign public equity'\n 'public investment funds' 'fixed term and savings deposit' 'state bonds'\n 'other equity instruments' 'listed domestic public equity']<br>[0.06 0.12 0.14 0.03 0.2  0.34 0.08 0.03]",
          "['corporate bonds' 'listed foreign public equity'\n 'listed domestic public equity' 'state bonds' 'other equity instruments'\n 'public investment funds' 'cash' 'fixed term and savings deposit']<br>[0.06 0.12 0.04 0.26 0.19 0.01 0.02 0.3 ]",
          "['public investment funds' 'fixed term and savings deposit'\n 'corporate bonds' 'other equity instruments'\n 'listed foreign public equity' 'state bonds'\n 'listed domestic public equity' 'cash']<br>[0.01 0.16 0.21 0.11 0.13 0.24 0.04 0.09]",
          "['listed domestic public equity' 'state bonds' 'public investment funds'\n 'other equity instruments' 'listed foreign public equity' 'cash'\n 'corporate bonds' 'fixed term and savings deposit']<br>[0.01 0.29 0.   0.19 0.03 0.1  0.27 0.12]",
          "['other equity instruments' 'cash' 'listed foreign public equity'\n 'fixed term and savings deposit' 'public investment funds' 'state bonds'\n 'corporate bonds' 'listed domestic public equity']<br>[0.13 0.08 0.23 0.12 0.08 0.14 0.21 0.01]",
          "['listed domestic public equity' 'fixed term and savings deposit'\n 'other equity instruments' 'cash' 'state bonds'\n 'listed foreign public equity' 'corporate bonds'\n 'public investment funds']<br>[0.   0.13 0.17 0.02 0.34 0.3  0.03 0.01]",
          "['public investment funds' 'state bonds' 'listed foreign public equity'\n 'listed domestic public equity' 'other equity instruments'\n 'corporate bonds' 'fixed term and savings deposit' 'cash']<br>[0.01 0.19 0.19 0.   0.14 0.19 0.19 0.08]",
          "['corporate bonds' 'listed domestic public equity'\n 'listed foreign public equity' 'cash' 'public investment funds'\n 'state bonds' 'fixed term and savings deposit' 'other equity instruments']<br>[0.06 0.04 0.1  0.06 0.04 0.38 0.07 0.25]",
          "['state bonds' 'listed foreign public equity' 'cash' 'corporate bonds'\n 'public investment funds' 'fixed term and savings deposit'\n 'other equity instruments' 'listed domestic public equity']<br>[0.19 0.01 0.14 0.3  0.   0.23 0.08 0.04]",
          "['state bonds' 'public investment funds' 'fixed term and savings deposit'\n 'corporate bonds' 'listed foreign public equity'\n 'listed domestic public equity' 'other equity instruments' 'cash']<br>[0.05 0.08 0.17 0.35 0.02 0.   0.02 0.31]",
          "['corporate bonds' 'other equity instruments' 'cash'\n 'fixed term and savings deposit' 'state bonds'\n 'listed domestic public equity' 'public investment funds'\n 'listed foreign public equity']<br>[0.32 0.09 0.04 0.16 0.29 0.01 0.03 0.05]",
          "['listed foreign public equity' 'fixed term and savings deposit' 'cash'\n 'state bonds' 'other equity instruments' 'corporate bonds'\n 'listed domestic public equity' 'public investment funds']<br>[0.06 0.26 0.02 0.25 0.09 0.3  0.02 0.01]",
          "['cash' 'corporate bonds' 'fixed term and savings deposit' 'state bonds'\n 'listed domestic public equity' 'listed foreign public equity'\n 'other equity instruments' 'public investment funds']<br>[0.33 0.11 0.4  0.06 0.   0.   0.06 0.05]",
          "['fixed term and savings deposit' 'state bonds'\n 'listed foreign public equity' 'other equity instruments' 'cash'\n 'corporate bonds' 'public investment funds'\n 'listed domestic public equity']<br>[0.13 0.26 0.24 0.18 0.09 0.05 0.02 0.02]",
          "['corporate bonds' 'listed domestic public equity'\n 'other equity instruments' 'state bonds' 'fixed term and savings deposit'\n 'cash' 'listed foreign public equity' 'public investment funds']<br>[0.05 0.03 0.41 0.03 0.16 0.01 0.24 0.08]",
          "['listed foreign public equity' 'state bonds'\n 'fixed term and savings deposit' 'other equity instruments'\n 'public investment funds' 'listed domestic public equity'\n 'corporate bonds' 'cash']<br>[0.05 0.25 0.1  0.03 0.02 0.   0.3  0.25]",
          "['state bonds' 'public investment funds' 'fixed term and savings deposit'\n 'listed domestic public equity' 'corporate bonds'\n 'listed foreign public equity' 'cash' 'other equity instruments']<br>[0.21 0.02 0.18 0.02 0.1  0.19 0.09 0.19]",
          "['listed domestic public equity' 'state bonds' 'cash'\n 'other equity instruments' 'public investment funds' 'corporate bonds'\n 'listed foreign public equity' 'fixed term and savings deposit']<br>[0.02 0.33 0.04 0.21 0.03 0.16 0.16 0.05]",
          "['listed foreign public equity' 'cash' 'fixed term and savings deposit'\n 'other equity instruments' 'public investment funds' 'corporate bonds'\n 'state bonds' 'listed domestic public equity']<br>[0.03 0.02 0.05 0.2  0.06 0.24 0.34 0.07]",
          "['corporate bonds' 'cash' 'public investment funds'\n 'fixed term and savings deposit' 'other equity instruments' 'state bonds'\n 'listed domestic public equity' 'listed foreign public equity']<br>[0.24 0.   0.17 0.03 0.14 0.3  0.   0.1 ]",
          "['listed domestic public equity' 'other equity instruments'\n 'fixed term and savings deposit' 'public investment funds' 'cash'\n 'listed foreign public equity' 'state bonds' 'corporate bonds']<br>[0.03 0.07 0.15 0.   0.07 0.22 0.33 0.14]",
          "['state bonds' 'fixed term and savings deposit' 'cash'\n 'listed domestic public equity' 'listed foreign public equity'\n 'public investment funds' 'other equity instruments' 'corporate bonds']<br>[0.17 0.26 0.02 0.02 0.13 0.02 0.15 0.22]",
          "['corporate bonds' 'listed domestic public equity'\n 'other equity instruments' 'public investment funds' 'state bonds' 'cash'\n 'fixed term and savings deposit' 'listed foreign public equity']<br>[0.22 0.01 0.04 0.05 0.21 0.19 0.18 0.1 ]",
          "['listed domestic public equity' 'other equity instruments'\n 'listed foreign public equity' 'corporate bonds'\n 'fixed term and savings deposit' 'public investment funds' 'state bonds'\n 'cash']<br>[0.02 0.15 0.15 0.06 0.19 0.   0.25 0.17]",
          "['public investment funds' 'state bonds' 'cash' 'other equity instruments'\n 'fixed term and savings deposit' 'listed domestic public equity'\n 'listed foreign public equity' 'corporate bonds']<br>[0.1  0.28 0.04 0.11 0.12 0.02 0.22 0.12]",
          "['other equity instruments' 'corporate bonds'\n 'listed foreign public equity' 'listed domestic public equity'\n 'public investment funds' 'cash' 'state bonds'\n 'fixed term and savings deposit']<br>[0.17 0.12 0.18 0.01 0.03 0.03 0.34 0.13]",
          "['listed domestic public equity' 'public investment funds'\n 'listed foreign public equity' 'cash' 'fixed term and savings deposit'\n 'corporate bonds' 'state bonds' 'other equity instruments']<br>[0.01 0.02 0.15 0.04 0.13 0.28 0.25 0.11]",
          "['other equity instruments' 'fixed term and savings deposit' 'cash'\n 'public investment funds' 'state bonds' 'corporate bonds'\n 'listed domestic public equity' 'listed foreign public equity']<br>[0.2  0.01 0.01 0.12 0.21 0.29 0.   0.17]",
          "['corporate bonds' 'cash' 'fixed term and savings deposit'\n 'listed foreign public equity' 'public investment funds'\n 'other equity instruments' 'listed domestic public equity' 'state bonds']<br>[0.04 0.09 0.21 0.14 0.07 0.14 0.   0.32]"
         ],
         "type": "scatter",
         "x": [
          0.06526339424208734,
          0.05244927381816064,
          0.08861363920893077,
          0.08236240580934985,
          0.09228564959666018,
          0.12505083121357155,
          0.09957042971195311,
          0.07045203351691988,
          0.09665433366248398,
          0.06985185769469478,
          0.07177995724592051,
          0.0623963178722215,
          0.08914656827207434,
          0.046681641854848556,
          0.06112549957277236,
          0.0693674974195503,
          0.07974299192745744,
          0.10936916378547096,
          0.04431697335794946,
          0.07833398559625668,
          0.07078590499669273,
          0.059494330141471416,
          0.06621835217144836,
          0.06877497529300743,
          0.04962589048459117,
          0.030879531290085506,
          0.14599931087370085,
          0.06687249528200083,
          0.049598115540606294,
          0.05636658424324791,
          0.09071090994153742,
          0.053691455466875565,
          0.053062923572935614,
          0.038643677201991716,
          0.10599824299953181,
          0.08762959057100342,
          0.06307822912518557,
          0.08510159341878153,
          0.10765640777151135,
          0.07789567483782157,
          0.04425107841392324,
          0.06843059015968052,
          0.1423105899872097,
          0.04189373907057466,
          0.052352207881491974,
          0.08552453613912336,
          0.11527806489373914,
          0.0656051709343404,
          0.11446437462542557,
          0.10722555333034929,
          0.14183896253195938,
          0.12612127585596386,
          0.10474673396856271,
          0.08659928973675798,
          0.05913497048723548,
          0.10118346098191364,
          0.039444144718207674,
          0.041733510303925817,
          0.0377465137817964,
          0.10308484871767014,
          0.1326053154258843,
          0.06484464635435357,
          0.04260460805745894,
          0.07731666956945651,
          0.1001925897733382,
          0.0673712183753028,
          0.10734623351285567,
          0.07146647280212366,
          0.050987217865035205,
          0.06364579819314742,
          0.0589181582189021,
          0.09313641875116592,
          0.03978604434920435,
          0.03789847625825011,
          0.07339826121019832,
          0.08314807284100165,
          0.08187584477617188,
          0.06295905558419529,
          0.08120434721612736,
          0.1006797179846847,
          0.08451718164241862,
          0.04096516705481761,
          0.04923525900279451,
          0.0986050354697758,
          0.03765519129776427,
          0.09181541629326001,
          0.12798927080992642,
          0.08381302501099724,
          0.032684122697852085,
          0.06282936703690103,
          0.06037376210171473,
          0.052466783899507104,
          0.08331953014076802,
          0.07901307032595374,
          0.039743847819688934,
          0.09369600443548702,
          0.038233580228444794,
          0.12115377077023984,
          0.05260958268924326,
          0.05669487160206139,
          0.02962762043895578,
          0.058017946457239095,
          0.09532158615505795,
          0.07139853158827436,
          0.05822606011009217,
          0.08348994988602164,
          0.09388827966691915,
          0.10214411523532149,
          0.057910188134170745,
          0.08420906601181892,
          0.03531164303420274,
          0.07570229590553429,
          0.12951540610531798,
          0.13136923744827153,
          0.09693246469083165,
          0.07988346632069934,
          0.11656867533698499,
          0.06081565586307053,
          0.0579960118004132,
          0.04743242438448895,
          0.049578624575464955,
          0.06238293008400728,
          0.05473803069439551,
          0.05148552797352754,
          0.0764662736769606,
          0.07689616333192487,
          0.05970109042919141,
          0.07527117026237408,
          0.0358475732351325,
          0.028723549835780623,
          0.04236466316802776,
          0.040664010995988216,
          0.019980185540111363,
          0.0745659737132667,
          0.12676598178406945,
          0.029265978987755934,
          0.0704427128007531,
          0.07294985396620447,
          0.06922854501653042,
          0.06949298632481773,
          0.05520758054386284,
          0.05950227198781271,
          0.03761574197770744,
          0.05444597068350732,
          0.0727652537538371,
          0.0643790661476143,
          0.056229899555519325,
          0.08293227648980865,
          0.05429406327797709
         ],
         "y": [
          0.03872978634658584,
          0.03531037667435315,
          0.05084601216908612,
          0.043545804609821284,
          0.05477402265244142,
          0.060866718324672074,
          0.060150177468230204,
          0.04439835364014068,
          0.058055457757372475,
          0.04554858076317514,
          0.05094827805551787,
          0.0434238666575299,
          0.059406548298646424,
          0.03622476546304966,
          0.039612587770432715,
          0.04770193402108079,
          0.05367308397558157,
          0.06686101620809486,
          0.032082618139973665,
          0.05179380309679226,
          0.04878507089736213,
          0.036660034746929165,
          0.0435725086618457,
          0.04863656063367553,
          0.03834622457607896,
          0.023805538069638907,
          0.07435222400456477,
          0.04483679664484015,
          0.037392999671287654,
          0.04248272781316509,
          0.06034691963088885,
          0.03838694735020561,
          0.04159931758555237,
          0.03113603137214435,
          0.060635496471254685,
          0.05596219049704983,
          0.044694512416965516,
          0.055385891921769195,
          0.061438836055370434,
          0.053712679559666354,
          0.03800216550632575,
          0.044909943083012514,
          0.07070528969887607,
          0.03290614987224966,
          0.03905802816504263,
          0.055727589033022995,
          0.06864227745622659,
          0.04734310782822728,
          0.06755068428562248,
          0.06525886852576689,
          0.06928509243355699,
          0.06976266576553158,
          0.0654360190787088,
          0.05828875403750491,
          0.04381003390286002,
          0.06235735407730021,
          0.03127037010968974,
          0.035778962913974185,
          0.030913196591247125,
          0.06237318689467553,
          0.072806816745717,
          0.045209796511194326,
          0.035887091204971085,
          0.05186588058125978,
          0.0613651856401478,
          0.04788336290571979,
          0.06594110766124059,
          0.051008964535366436,
          0.0390548878706993,
          0.0480969519778969,
          0.04474175035422753,
          0.06110502685015464,
          0.03346116731094589,
          0.03278305627121683,
          0.05177136610491222,
          0.054124165562644204,
          0.05513943095520112,
          0.046780546333554024,
          0.05443687811450556,
          0.06695266351746978,
          0.057020243528300346,
          0.03480136664551146,
          0.03900514737770868,
          0.06177230114114954,
          0.03166251417865288,
          0.06063963093684485,
          0.07111371353996104,
          0.05674822165115915,
          0.029396160966376275,
          0.04924206592854049,
          0.045014577129096255,
          0.04075200655300716,
          0.056992821783578146,
          0.05442688755956769,
          0.03372470533838937,
          0.06128314252216459,
          0.03612184340283776,
          0.07061703602939641,
          0.04165210573437596,
          0.04256686907368667,
          0.03054520125249215,
          0.04257726149122874,
          0.06200385977594975,
          0.049350945953125724,
          0.0451866130782694,
          0.0574308536080682,
          0.06205164649307795,
          0.06773016698885431,
          0.042983169214374256,
          0.058815755567657925,
          0.030667735088443934,
          0.05190772554876913,
          0.07155187851112901,
          0.07647256428691333,
          0.06366435970082472,
          0.055632944864704485,
          0.06942124444295489,
          0.04550612020032889,
          0.0448885314341096,
          0.03849344421181018,
          0.04089903778904716,
          0.04611440515336661,
          0.04249254626041814,
          0.04136161755931862,
          0.05194380676229082,
          0.05714304281484877,
          0.04595132122099465,
          0.05338585771262445,
          0.030764730988793416,
          0.023474634093017255,
          0.03769131733619957,
          0.036764293221245505,
          0.018527649966273117,
          0.052938800858418004,
          0.07270448255471618,
          0.02729189732175548,
          0.05006003095387914,
          0.05397638938549342,
          0.049413779733101064,
          0.05082462770001067,
          0.044431199932721224,
          0.04527657588511995,
          0.03186290360467467,
          0.04166920697960045,
          0.05133813171882892,
          0.050518691511042206,
          0.045378260696491035,
          0.05782796814131682,
          0.043092220387689915
         ]
        },
        {
         "marker": {
          "color": "green",
          "size": 10
         },
         "mode": "markers",
         "text": [
          "Portfolio with highest Sharpe ratio (['other equity instruments' 'corporate bonds'\n 'listed foreign public equity' 'listed domestic public equity'\n 'public investment funds' 'cash' 'state bonds'\n 'fixed term and savings deposit'], [0.17 0.12 0.18 0.01 0.03 0.03 0.34 0.13])"
         ],
         "type": "scatter",
         "x": [
          0.0643790661476143
         ],
         "y": [
          0.050518691511042206
         ]
        },
        {
         "marker": {
          "color": "red",
          "size": 10
         },
         "mode": "markers",
         "text": [
          "Minimum variance portfolio (['cash' 'corporate bonds' 'fixed term and savings deposit' 'state bonds'\n 'listed domestic public equity' 'listed foreign public equity'\n 'other equity instruments' 'public investment funds'], [0.33 0.11 0.4  0.06 0.   0.   0.06 0.05])"
         ],
         "type": "scatter",
         "x": [
          0.019980185540111363
         ],
         "y": [
          0.018527649966273117
         ]
        },
        {
         "marker": {
          "color": "purple",
          "size": 10
         },
         "mode": "markers",
         "text": [
          "Retail Investor Portfolio (['listed foreign public equity' 'other equity instruments' 'state bonds'\n 'corporate bonds' 'listed domestic public equity'\n 'fixed term and savings deposit' 'public investment funds' 'cash'], [0.05 0.08 0.01 0.01 0.06 0.17 0.19 0.43])"
         ],
         "type": "scatter",
         "x": [
          0.07081947729221412
         ],
         "y": [
          0.02936065570237022
         ]
        },
        {
         "line": {
          "color": "black",
          "dash": "dash",
          "width": 2
         },
         "name": "Efficient Frontier",
         "type": "scatter",
         "x": [
          0,
          0.0014747405138757661,
          0.0029494810277515323,
          0.0044242215416272984,
          0.005898962055503065,
          0.007373702569378831,
          0.008848443083254597,
          0.010323183597130362,
          0.01179792411100613,
          0.013272664624881896,
          0.014747405138757661,
          0.016222145652633427,
          0.017696886166509194,
          0.01917162668038496,
          0.020646367194260724,
          0.02212110770813649,
          0.02359584822201226,
          0.025070588735888025,
          0.026545329249763792,
          0.028020069763639556,
          0.029494810277515323,
          0.03096955079139109,
          0.032444291305266854,
          0.033919031819142624,
          0.03539377233301839,
          0.03686851284689415,
          0.03834325336076992,
          0.039817993874645685,
          0.04129273438852145,
          0.04276747490239722,
          0.04424221541627298,
          0.04571695593014875,
          0.04719169644402452,
          0.04866643695790028,
          0.05014117747177605,
          0.051615917985651814,
          0.053090658499527585,
          0.05456539901340335,
          0.05604013952727911,
          0.05751488004115488,
          0.058989620555030646,
          0.06046436106890641,
          0.06193910158278218,
          0.06341384209665794,
          0.06488858261053371,
          0.06636332312440947,
          0.06783806363828525,
          0.06931280415216101,
          0.07078754466603678,
          0.07226228517991254,
          0.0737370256937883,
          0.07521176620766408,
          0.07668650672153984,
          0.0781612472354156,
          0.07963598774929137,
          0.08111072826316713,
          0.0825854687770429,
          0.08406020929091867,
          0.08553494980479444,
          0.0870096903186702,
          0.08848443083254597,
          0.08995917134642173,
          0.0914339118602975,
          0.09290865237417327,
          0.09438339288804903,
          0.0958581334019248,
          0.09733287391580056,
          0.09880761442967634,
          0.1002823549435521,
          0.10175709545742787,
          0.10323183597130363,
          0.10470657648517939,
          0.10618131699905517,
          0.10765605751293093,
          0.1091307980268067,
          0.11060553854068246,
          0.11208027905455822,
          0.11355501956843399,
          0.11502976008230976,
          0.11650450059618553,
          0.11797924111006129,
          0.11945398162393706,
          0.12092872213781282,
          0.1224034626516886,
          0.12387820316556436,
          0.1253529436794401,
          0.1268276841933159,
          0.12830242470719166,
          0.12977716522106741,
          0.1312519057349432,
          0.13272664624881894,
          0.13420138676269472,
          0.1356761272765705,
          0.13715086779044625,
          0.13862560830432202,
          0.14010034881819777,
          0.14157508933207355,
          0.14304982984594933,
          0.14452457035982508,
          0.14599931087370085
         ],
         "y": [
          0.016,
          0.016790724623755665,
          0.017581449247511333,
          0.018372173871266998,
          0.019162898495022663,
          0.019953623118778328,
          0.020744347742533996,
          0.02153507236628966,
          0.022325796990045325,
          0.02311652161380099,
          0.023907246237556655,
          0.024697970861312323,
          0.025488695485067988,
          0.026279420108823656,
          0.02707014473257932,
          0.027860869356334986,
          0.02865159398009065,
          0.029442318603846315,
          0.030233043227601984,
          0.03102376785135765,
          0.03181449247511331,
          0.03260521709886898,
          0.033395941722624646,
          0.03418666634638032,
          0.034977390970135976,
          0.03576811559389164,
          0.03655884021764731,
          0.03734956484140298,
          0.03814028946515864,
          0.038931014088914306,
          0.03972173871266997,
          0.040512463336425636,
          0.0413031879601813,
          0.042093912583936965,
          0.04288463720769263,
          0.043675361831448295,
          0.04446608645520397,
          0.04525681107895963,
          0.046047535702715296,
          0.04683826032647097,
          0.047628984950226626,
          0.04841970957398229,
          0.04921043419773796,
          0.05000115882149363,
          0.05079188344524929,
          0.05158260806900496,
          0.05237333269276063,
          0.053164057316516286,
          0.05395478194027195,
          0.054745506564027616,
          0.05553623118778328,
          0.05632695581153895,
          0.05711768043529462,
          0.05790840505905028,
          0.058699129682805946,
          0.05948985430656161,
          0.060280578930317276,
          0.06107130355407295,
          0.06186202817782861,
          0.06265275280158428,
          0.06344347742533994,
          0.0642342020490956,
          0.06502492667285129,
          0.06581565129660694,
          0.06660637592036261,
          0.06739710054411827,
          0.06818782516787393,
          0.0689785497916296,
          0.06976927441538527,
          0.07055999903914092,
          0.0713507236628966,
          0.07214144828665225,
          0.07293217291040793,
          0.0737228975341636,
          0.07451362215791926,
          0.07530434678167493,
          0.07609507140543059,
          0.07688579602918626,
          0.07767652065294192,
          0.0784672452766976,
          0.07925796990045325,
          0.08004869452420892,
          0.08083941914796458,
          0.08163014377172026,
          0.08242086839547592,
          0.08321159301923158,
          0.08400231764298725,
          0.08479304226674292,
          0.08558376689049858,
          0.08637449151425425,
          0.08716521613800991,
          0.08795594076176558,
          0.08874666538552126,
          0.08953739000927691,
          0.09032811463303257,
          0.09111883925678824,
          0.0919095638805439,
          0.09270028850429958,
          0.09349101312805523,
          0.09428173775181091
         ]
        }
       ],
       "layout": {
        "height": 700,
        "showlegend": false,
        "template": {
         "data": {
          "bar": [
           {
            "error_x": {
             "color": "#2a3f5f"
            },
            "error_y": {
             "color": "#2a3f5f"
            },
            "marker": {
             "line": {
              "color": "white",
              "width": 0.5
             },
             "pattern": {
              "fillmode": "overlay",
              "size": 10,
              "solidity": 0.2
             }
            },
            "type": "bar"
           }
          ],
          "barpolar": [
           {
            "marker": {
             "line": {
              "color": "white",
              "width": 0.5
             },
             "pattern": {
              "fillmode": "overlay",
              "size": 10,
              "solidity": 0.2
             }
            },
            "type": "barpolar"
           }
          ],
          "carpet": [
           {
            "aaxis": {
             "endlinecolor": "#2a3f5f",
             "gridcolor": "#C8D4E3",
             "linecolor": "#C8D4E3",
             "minorgridcolor": "#C8D4E3",
             "startlinecolor": "#2a3f5f"
            },
            "baxis": {
             "endlinecolor": "#2a3f5f",
             "gridcolor": "#C8D4E3",
             "linecolor": "#C8D4E3",
             "minorgridcolor": "#C8D4E3",
             "startlinecolor": "#2a3f5f"
            },
            "type": "carpet"
           }
          ],
          "choropleth": [
           {
            "colorbar": {
             "outlinewidth": 0,
             "ticks": ""
            },
            "type": "choropleth"
           }
          ],
          "contour": [
           {
            "colorbar": {
             "outlinewidth": 0,
             "ticks": ""
            },
            "colorscale": [
             [
              0,
              "#0d0887"
             ],
             [
              0.1111111111111111,
              "#46039f"
             ],
             [
              0.2222222222222222,
              "#7201a8"
             ],
             [
              0.3333333333333333,
              "#9c179e"
             ],
             [
              0.4444444444444444,
              "#bd3786"
             ],
             [
              0.5555555555555556,
              "#d8576b"
             ],
             [
              0.6666666666666666,
              "#ed7953"
             ],
             [
              0.7777777777777778,
              "#fb9f3a"
             ],
             [
              0.8888888888888888,
              "#fdca26"
             ],
             [
              1,
              "#f0f921"
             ]
            ],
            "type": "contour"
           }
          ],
          "contourcarpet": [
           {
            "colorbar": {
             "outlinewidth": 0,
             "ticks": ""
            },
            "type": "contourcarpet"
           }
          ],
          "heatmap": [
           {
            "colorbar": {
             "outlinewidth": 0,
             "ticks": ""
            },
            "colorscale": [
             [
              0,
              "#0d0887"
             ],
             [
              0.1111111111111111,
              "#46039f"
             ],
             [
              0.2222222222222222,
              "#7201a8"
             ],
             [
              0.3333333333333333,
              "#9c179e"
             ],
             [
              0.4444444444444444,
              "#bd3786"
             ],
             [
              0.5555555555555556,
              "#d8576b"
             ],
             [
              0.6666666666666666,
              "#ed7953"
             ],
             [
              0.7777777777777778,
              "#fb9f3a"
             ],
             [
              0.8888888888888888,
              "#fdca26"
             ],
             [
              1,
              "#f0f921"
             ]
            ],
            "type": "heatmap"
           }
          ],
          "heatmapgl": [
           {
            "colorbar": {
             "outlinewidth": 0,
             "ticks": ""
            },
            "colorscale": [
             [
              0,
              "#0d0887"
             ],
             [
              0.1111111111111111,
              "#46039f"
             ],
             [
              0.2222222222222222,
              "#7201a8"
             ],
             [
              0.3333333333333333,
              "#9c179e"
             ],
             [
              0.4444444444444444,
              "#bd3786"
             ],
             [
              0.5555555555555556,
              "#d8576b"
             ],
             [
              0.6666666666666666,
              "#ed7953"
             ],
             [
              0.7777777777777778,
              "#fb9f3a"
             ],
             [
              0.8888888888888888,
              "#fdca26"
             ],
             [
              1,
              "#f0f921"
             ]
            ],
            "type": "heatmapgl"
           }
          ],
          "histogram": [
           {
            "marker": {
             "pattern": {
              "fillmode": "overlay",
              "size": 10,
              "solidity": 0.2
             }
            },
            "type": "histogram"
           }
          ],
          "histogram2d": [
           {
            "colorbar": {
             "outlinewidth": 0,
             "ticks": ""
            },
            "colorscale": [
             [
              0,
              "#0d0887"
             ],
             [
              0.1111111111111111,
              "#46039f"
             ],
             [
              0.2222222222222222,
              "#7201a8"
             ],
             [
              0.3333333333333333,
              "#9c179e"
             ],
             [
              0.4444444444444444,
              "#bd3786"
             ],
             [
              0.5555555555555556,
              "#d8576b"
             ],
             [
              0.6666666666666666,
              "#ed7953"
             ],
             [
              0.7777777777777778,
              "#fb9f3a"
             ],
             [
              0.8888888888888888,
              "#fdca26"
             ],
             [
              1,
              "#f0f921"
             ]
            ],
            "type": "histogram2d"
           }
          ],
          "histogram2dcontour": [
           {
            "colorbar": {
             "outlinewidth": 0,
             "ticks": ""
            },
            "colorscale": [
             [
              0,
              "#0d0887"
             ],
             [
              0.1111111111111111,
              "#46039f"
             ],
             [
              0.2222222222222222,
              "#7201a8"
             ],
             [
              0.3333333333333333,
              "#9c179e"
             ],
             [
              0.4444444444444444,
              "#bd3786"
             ],
             [
              0.5555555555555556,
              "#d8576b"
             ],
             [
              0.6666666666666666,
              "#ed7953"
             ],
             [
              0.7777777777777778,
              "#fb9f3a"
             ],
             [
              0.8888888888888888,
              "#fdca26"
             ],
             [
              1,
              "#f0f921"
             ]
            ],
            "type": "histogram2dcontour"
           }
          ],
          "mesh3d": [
           {
            "colorbar": {
             "outlinewidth": 0,
             "ticks": ""
            },
            "type": "mesh3d"
           }
          ],
          "parcoords": [
           {
            "line": {
             "colorbar": {
              "outlinewidth": 0,
              "ticks": ""
             }
            },
            "type": "parcoords"
           }
          ],
          "pie": [
           {
            "automargin": true,
            "type": "pie"
           }
          ],
          "scatter": [
           {
            "fillpattern": {
             "fillmode": "overlay",
             "size": 10,
             "solidity": 0.2
            },
            "type": "scatter"
           }
          ],
          "scatter3d": [
           {
            "line": {
             "colorbar": {
              "outlinewidth": 0,
              "ticks": ""
             }
            },
            "marker": {
             "colorbar": {
              "outlinewidth": 0,
              "ticks": ""
             }
            },
            "type": "scatter3d"
           }
          ],
          "scattercarpet": [
           {
            "marker": {
             "colorbar": {
              "outlinewidth": 0,
              "ticks": ""
             }
            },
            "type": "scattercarpet"
           }
          ],
          "scattergeo": [
           {
            "marker": {
             "colorbar": {
              "outlinewidth": 0,
              "ticks": ""
             }
            },
            "type": "scattergeo"
           }
          ],
          "scattergl": [
           {
            "marker": {
             "colorbar": {
              "outlinewidth": 0,
              "ticks": ""
             }
            },
            "type": "scattergl"
           }
          ],
          "scattermapbox": [
           {
            "marker": {
             "colorbar": {
              "outlinewidth": 0,
              "ticks": ""
             }
            },
            "type": "scattermapbox"
           }
          ],
          "scatterpolar": [
           {
            "marker": {
             "colorbar": {
              "outlinewidth": 0,
              "ticks": ""
             }
            },
            "type": "scatterpolar"
           }
          ],
          "scatterpolargl": [
           {
            "marker": {
             "colorbar": {
              "outlinewidth": 0,
              "ticks": ""
             }
            },
            "type": "scatterpolargl"
           }
          ],
          "scatterternary": [
           {
            "marker": {
             "colorbar": {
              "outlinewidth": 0,
              "ticks": ""
             }
            },
            "type": "scatterternary"
           }
          ],
          "surface": [
           {
            "colorbar": {
             "outlinewidth": 0,
             "ticks": ""
            },
            "colorscale": [
             [
              0,
              "#0d0887"
             ],
             [
              0.1111111111111111,
              "#46039f"
             ],
             [
              0.2222222222222222,
              "#7201a8"
             ],
             [
              0.3333333333333333,
              "#9c179e"
             ],
             [
              0.4444444444444444,
              "#bd3786"
             ],
             [
              0.5555555555555556,
              "#d8576b"
             ],
             [
              0.6666666666666666,
              "#ed7953"
             ],
             [
              0.7777777777777778,
              "#fb9f3a"
             ],
             [
              0.8888888888888888,
              "#fdca26"
             ],
             [
              1,
              "#f0f921"
             ]
            ],
            "type": "surface"
           }
          ],
          "table": [
           {
            "cells": {
             "fill": {
              "color": "#EBF0F8"
             },
             "line": {
              "color": "white"
             }
            },
            "header": {
             "fill": {
              "color": "#C8D4E3"
             },
             "line": {
              "color": "white"
             }
            },
            "type": "table"
           }
          ]
         },
         "layout": {
          "annotationdefaults": {
           "arrowcolor": "#2a3f5f",
           "arrowhead": 0,
           "arrowwidth": 1
          },
          "autotypenumbers": "strict",
          "coloraxis": {
           "colorbar": {
            "outlinewidth": 0,
            "ticks": ""
           }
          },
          "colorscale": {
           "diverging": [
            [
             0,
             "#8e0152"
            ],
            [
             0.1,
             "#c51b7d"
            ],
            [
             0.2,
             "#de77ae"
            ],
            [
             0.3,
             "#f1b6da"
            ],
            [
             0.4,
             "#fde0ef"
            ],
            [
             0.5,
             "#f7f7f7"
            ],
            [
             0.6,
             "#e6f5d0"
            ],
            [
             0.7,
             "#b8e186"
            ],
            [
             0.8,
             "#7fbc41"
            ],
            [
             0.9,
             "#4d9221"
            ],
            [
             1,
             "#276419"
            ]
           ],
           "sequential": [
            [
             0,
             "#0d0887"
            ],
            [
             0.1111111111111111,
             "#46039f"
            ],
            [
             0.2222222222222222,
             "#7201a8"
            ],
            [
             0.3333333333333333,
             "#9c179e"
            ],
            [
             0.4444444444444444,
             "#bd3786"
            ],
            [
             0.5555555555555556,
             "#d8576b"
            ],
            [
             0.6666666666666666,
             "#ed7953"
            ],
            [
             0.7777777777777778,
             "#fb9f3a"
            ],
            [
             0.8888888888888888,
             "#fdca26"
            ],
            [
             1,
             "#f0f921"
            ]
           ],
           "sequentialminus": [
            [
             0,
             "#0d0887"
            ],
            [
             0.1111111111111111,
             "#46039f"
            ],
            [
             0.2222222222222222,
             "#7201a8"
            ],
            [
             0.3333333333333333,
             "#9c179e"
            ],
            [
             0.4444444444444444,
             "#bd3786"
            ],
            [
             0.5555555555555556,
             "#d8576b"
            ],
            [
             0.6666666666666666,
             "#ed7953"
            ],
            [
             0.7777777777777778,
             "#fb9f3a"
            ],
            [
             0.8888888888888888,
             "#fdca26"
            ],
            [
             1,
             "#f0f921"
            ]
           ]
          },
          "colorway": [
           "#636efa",
           "#EF553B",
           "#00cc96",
           "#ab63fa",
           "#FFA15A",
           "#19d3f3",
           "#FF6692",
           "#B6E880",
           "#FF97FF",
           "#FECB52"
          ],
          "font": {
           "color": "#2a3f5f"
          },
          "geo": {
           "bgcolor": "white",
           "lakecolor": "white",
           "landcolor": "white",
           "showlakes": true,
           "showland": true,
           "subunitcolor": "#C8D4E3"
          },
          "hoverlabel": {
           "align": "left"
          },
          "hovermode": "closest",
          "mapbox": {
           "style": "light"
          },
          "paper_bgcolor": "white",
          "plot_bgcolor": "white",
          "polar": {
           "angularaxis": {
            "gridcolor": "#EBF0F8",
            "linecolor": "#EBF0F8",
            "ticks": ""
           },
           "bgcolor": "white",
           "radialaxis": {
            "gridcolor": "#EBF0F8",
            "linecolor": "#EBF0F8",
            "ticks": ""
           }
          },
          "scene": {
           "xaxis": {
            "backgroundcolor": "white",
            "gridcolor": "#DFE8F3",
            "gridwidth": 2,
            "linecolor": "#EBF0F8",
            "showbackground": true,
            "ticks": "",
            "zerolinecolor": "#EBF0F8"
           },
           "yaxis": {
            "backgroundcolor": "white",
            "gridcolor": "#DFE8F3",
            "gridwidth": 2,
            "linecolor": "#EBF0F8",
            "showbackground": true,
            "ticks": "",
            "zerolinecolor": "#EBF0F8"
           },
           "zaxis": {
            "backgroundcolor": "white",
            "gridcolor": "#DFE8F3",
            "gridwidth": 2,
            "linecolor": "#EBF0F8",
            "showbackground": true,
            "ticks": "",
            "zerolinecolor": "#EBF0F8"
           }
          },
          "shapedefaults": {
           "line": {
            "color": "#2a3f5f"
           }
          },
          "ternary": {
           "aaxis": {
            "gridcolor": "#DFE8F3",
            "linecolor": "#A2B1C6",
            "ticks": ""
           },
           "baxis": {
            "gridcolor": "#DFE8F3",
            "linecolor": "#A2B1C6",
            "ticks": ""
           },
           "bgcolor": "white",
           "caxis": {
            "gridcolor": "#DFE8F3",
            "linecolor": "#A2B1C6",
            "ticks": ""
           }
          },
          "title": {
           "x": 0.05
          },
          "xaxis": {
           "automargin": true,
           "gridcolor": "#EBF0F8",
           "linecolor": "#EBF0F8",
           "ticks": "",
           "title": {
            "standoff": 15
           },
           "zerolinecolor": "#EBF0F8",
           "zerolinewidth": 2
          },
          "yaxis": {
           "automargin": true,
           "gridcolor": "#EBF0F8",
           "linecolor": "#EBF0F8",
           "ticks": "",
           "title": {
            "standoff": 15
           },
           "zerolinecolor": "#EBF0F8",
           "zerolinewidth": 2
          }
         }
        },
        "title": {
         "text": "Efficient Frontier of Unrestricted Portfolio"
        },
        "width": 1000,
        "xaxis": {
         "title": {
          "text": "Annualised Risk (Volatility)"
         }
        },
        "yaxis": {
         "title": {
          "text": "Annualised Return"
         }
        }
       }
      }
     },
     "metadata": {},
     "output_type": "display_data"
    },
    {
     "data": {
      "text/html": [
       "<div style='display: inline-block; vertical-align: top; margin-right: 20px;'><h3 style='font-family: Poppins; font-size: 130%;'>Max Sharpe</h3>Return: 5.05%, Std.: 6.44% <br><br><style type=\"text/css\">\n",
       "#T_4ac6a th {\n",
       "  text-align: center;\n",
       "  font-family: Poppins;\n",
       "}\n",
       "#T_4ac6a td {\n",
       "  text-align: center;\n",
       "  font-family: Poppins;\n",
       "}\n",
       "</style>\n",
       "<table id=\"T_4ac6a\">\n",
       "  <thead>\n",
       "    <tr>\n",
       "      <th class=\"blank level0\" >&nbsp;</th>\n",
       "      <th id=\"T_4ac6a_level0_col0\" class=\"col_heading level0 col0\" >Asset_classes</th>\n",
       "      <th id=\"T_4ac6a_level0_col1\" class=\"col_heading level0 col1\" >Weights</th>\n",
       "    </tr>\n",
       "  </thead>\n",
       "  <tbody>\n",
       "    <tr>\n",
       "      <th id=\"T_4ac6a_level0_row0\" class=\"row_heading level0 row0\" >0</th>\n",
       "      <td id=\"T_4ac6a_row0_col0\" class=\"data row0 col0\" >state bonds</td>\n",
       "      <td id=\"T_4ac6a_row0_col1\" class=\"data row0 col1\" >33.92%</td>\n",
       "    </tr>\n",
       "    <tr>\n",
       "      <th id=\"T_4ac6a_level0_row1\" class=\"row_heading level0 row1\" >1</th>\n",
       "      <td id=\"T_4ac6a_row1_col0\" class=\"data row1 col0\" >listed foreign public equity</td>\n",
       "      <td id=\"T_4ac6a_row1_col1\" class=\"data row1 col1\" >17.69%</td>\n",
       "    </tr>\n",
       "    <tr>\n",
       "      <th id=\"T_4ac6a_level0_row2\" class=\"row_heading level0 row2\" >2</th>\n",
       "      <td id=\"T_4ac6a_row2_col0\" class=\"data row2 col0\" >other equity instruments</td>\n",
       "      <td id=\"T_4ac6a_row2_col1\" class=\"data row2 col1\" >16.88%</td>\n",
       "    </tr>\n",
       "    <tr>\n",
       "      <th id=\"T_4ac6a_level0_row3\" class=\"row_heading level0 row3\" >3</th>\n",
       "      <td id=\"T_4ac6a_row3_col0\" class=\"data row3 col0\" >fixed term and savings deposit</td>\n",
       "      <td id=\"T_4ac6a_row3_col1\" class=\"data row3 col1\" >12.72%</td>\n",
       "    </tr>\n",
       "    <tr>\n",
       "      <th id=\"T_4ac6a_level0_row4\" class=\"row_heading level0 row4\" >4</th>\n",
       "      <td id=\"T_4ac6a_row4_col0\" class=\"data row4 col0\" >corporate bonds</td>\n",
       "      <td id=\"T_4ac6a_row4_col1\" class=\"data row4 col1\" >12.3%</td>\n",
       "    </tr>\n",
       "    <tr>\n",
       "      <th id=\"T_4ac6a_level0_row5\" class=\"row_heading level0 row5\" >5</th>\n",
       "      <td id=\"T_4ac6a_row5_col0\" class=\"data row5 col0\" >cash</td>\n",
       "      <td id=\"T_4ac6a_row5_col1\" class=\"data row5 col1\" >2.97%</td>\n",
       "    </tr>\n",
       "    <tr>\n",
       "      <th id=\"T_4ac6a_level0_row6\" class=\"row_heading level0 row6\" >6</th>\n",
       "      <td id=\"T_4ac6a_row6_col0\" class=\"data row6 col0\" >public investment funds</td>\n",
       "      <td id=\"T_4ac6a_row6_col1\" class=\"data row6 col1\" >2.73%</td>\n",
       "    </tr>\n",
       "    <tr>\n",
       "      <th id=\"T_4ac6a_level0_row7\" class=\"row_heading level0 row7\" >7</th>\n",
       "      <td id=\"T_4ac6a_row7_col0\" class=\"data row7 col0\" >listed domestic public equity</td>\n",
       "      <td id=\"T_4ac6a_row7_col1\" class=\"data row7 col1\" >0.78%</td>\n",
       "    </tr>\n",
       "  </tbody>\n",
       "</table>\n",
       "</div><div style='display: inline-block; vertical-align: top; margin-right: 20px;'><h3 style='font-family: Poppins; font-size: 130%;'>Min Variance</h3>Return: 1.85%, Std.: 2.0% <br><br><style type=\"text/css\">\n",
       "#T_b8a39 th {\n",
       "  text-align: center;\n",
       "  font-family: Poppins;\n",
       "}\n",
       "#T_b8a39 td {\n",
       "  text-align: center;\n",
       "  font-family: Poppins;\n",
       "}\n",
       "</style>\n",
       "<table id=\"T_b8a39\">\n",
       "  <thead>\n",
       "    <tr>\n",
       "      <th class=\"blank level0\" >&nbsp;</th>\n",
       "      <th id=\"T_b8a39_level0_col0\" class=\"col_heading level0 col0\" >Asset_classes</th>\n",
       "      <th id=\"T_b8a39_level0_col1\" class=\"col_heading level0 col1\" >Weights</th>\n",
       "    </tr>\n",
       "  </thead>\n",
       "  <tbody>\n",
       "    <tr>\n",
       "      <th id=\"T_b8a39_level0_row0\" class=\"row_heading level0 row0\" >0</th>\n",
       "      <td id=\"T_b8a39_row0_col0\" class=\"data row0 col0\" >fixed term and savings deposit</td>\n",
       "      <td id=\"T_b8a39_row0_col1\" class=\"data row0 col1\" >40.0%</td>\n",
       "    </tr>\n",
       "    <tr>\n",
       "      <th id=\"T_b8a39_level0_row1\" class=\"row_heading level0 row1\" >1</th>\n",
       "      <td id=\"T_b8a39_row1_col0\" class=\"data row1 col0\" >cash</td>\n",
       "      <td id=\"T_b8a39_row1_col1\" class=\"data row1 col1\" >32.51%</td>\n",
       "    </tr>\n",
       "    <tr>\n",
       "      <th id=\"T_b8a39_level0_row2\" class=\"row_heading level0 row2\" >2</th>\n",
       "      <td id=\"T_b8a39_row2_col0\" class=\"data row2 col0\" >corporate bonds</td>\n",
       "      <td id=\"T_b8a39_row2_col1\" class=\"data row2 col1\" >10.56%</td>\n",
       "    </tr>\n",
       "    <tr>\n",
       "      <th id=\"T_b8a39_level0_row3\" class=\"row_heading level0 row3\" >3</th>\n",
       "      <td id=\"T_b8a39_row3_col0\" class=\"data row3 col0\" >state bonds</td>\n",
       "      <td id=\"T_b8a39_row3_col1\" class=\"data row3 col1\" >6.34%</td>\n",
       "    </tr>\n",
       "    <tr>\n",
       "      <th id=\"T_b8a39_level0_row4\" class=\"row_heading level0 row4\" >4</th>\n",
       "      <td id=\"T_b8a39_row4_col0\" class=\"data row4 col0\" >other equity instruments</td>\n",
       "      <td id=\"T_b8a39_row4_col1\" class=\"data row4 col1\" >5.56%</td>\n",
       "    </tr>\n",
       "    <tr>\n",
       "      <th id=\"T_b8a39_level0_row5\" class=\"row_heading level0 row5\" >5</th>\n",
       "      <td id=\"T_b8a39_row5_col0\" class=\"data row5 col0\" >public investment funds</td>\n",
       "      <td id=\"T_b8a39_row5_col1\" class=\"data row5 col1\" >4.79%</td>\n",
       "    </tr>\n",
       "    <tr>\n",
       "      <th id=\"T_b8a39_level0_row6\" class=\"row_heading level0 row6\" >6</th>\n",
       "      <td id=\"T_b8a39_row6_col0\" class=\"data row6 col0\" >listed foreign public equity</td>\n",
       "      <td id=\"T_b8a39_row6_col1\" class=\"data row6 col1\" >0.14%</td>\n",
       "    </tr>\n",
       "    <tr>\n",
       "      <th id=\"T_b8a39_level0_row7\" class=\"row_heading level0 row7\" >7</th>\n",
       "      <td id=\"T_b8a39_row7_col0\" class=\"data row7 col0\" >listed domestic public equity</td>\n",
       "      <td id=\"T_b8a39_row7_col1\" class=\"data row7 col1\" >0.1%</td>\n",
       "    </tr>\n",
       "  </tbody>\n",
       "</table>\n",
       "</div><div style='display: inline-block; vertical-align: top; margin-right: 20px;'><h3 style='font-family: Poppins; font-size: 130%;'>Risk Matching Portfolio</h3>Return: 4.88%, Std.: 7.08% <br><br><style type=\"text/css\">\n",
       "#T_60c79 th {\n",
       "  text-align: center;\n",
       "  font-family: Poppins;\n",
       "}\n",
       "#T_60c79 td {\n",
       "  text-align: center;\n",
       "  font-family: Poppins;\n",
       "}\n",
       "</style>\n",
       "<table id=\"T_60c79\">\n",
       "  <thead>\n",
       "    <tr>\n",
       "      <th class=\"blank level0\" >&nbsp;</th>\n",
       "      <th id=\"T_60c79_level0_col0\" class=\"col_heading level0 col0\" >Asset_classes</th>\n",
       "      <th id=\"T_60c79_level0_col1\" class=\"col_heading level0 col1\" >Weights</th>\n",
       "    </tr>\n",
       "  </thead>\n",
       "  <tbody>\n",
       "    <tr>\n",
       "      <th id=\"T_60c79_level0_row0\" class=\"row_heading level0 row0\" >0</th>\n",
       "      <td id=\"T_60c79_row0_col0\" class=\"data row0 col0\" >corporate bonds</td>\n",
       "      <td id=\"T_60c79_row0_col1\" class=\"data row0 col1\" >20.27%</td>\n",
       "    </tr>\n",
       "    <tr>\n",
       "      <th id=\"T_60c79_level0_row1\" class=\"row_heading level0 row1\" >1</th>\n",
       "      <td id=\"T_60c79_row1_col0\" class=\"data row1 col0\" >listed foreign public equity</td>\n",
       "      <td id=\"T_60c79_row1_col1\" class=\"data row1 col1\" >17.27%</td>\n",
       "    </tr>\n",
       "    <tr>\n",
       "      <th id=\"T_60c79_level0_row2\" class=\"row_heading level0 row2\" >2</th>\n",
       "      <td id=\"T_60c79_row2_col0\" class=\"data row2 col0\" >state bonds</td>\n",
       "      <td id=\"T_60c79_row2_col1\" class=\"data row2 col1\" >15.76%</td>\n",
       "    </tr>\n",
       "    <tr>\n",
       "      <th id=\"T_60c79_level0_row3\" class=\"row_heading level0 row3\" >3</th>\n",
       "      <td id=\"T_60c79_row3_col0\" class=\"data row3 col0\" >other equity instruments</td>\n",
       "      <td id=\"T_60c79_row3_col1\" class=\"data row3 col1\" >13.99%</td>\n",
       "    </tr>\n",
       "    <tr>\n",
       "      <th id=\"T_60c79_level0_row4\" class=\"row_heading level0 row4\" >4</th>\n",
       "      <td id=\"T_60c79_row4_col0\" class=\"data row4 col0\" >fixed term and savings deposit</td>\n",
       "      <td id=\"T_60c79_row4_col1\" class=\"data row4 col1\" >12.65%</td>\n",
       "    </tr>\n",
       "    <tr>\n",
       "      <th id=\"T_60c79_level0_row5\" class=\"row_heading level0 row5\" >5</th>\n",
       "      <td id=\"T_60c79_row5_col0\" class=\"data row5 col0\" >public investment funds</td>\n",
       "      <td id=\"T_60c79_row5_col1\" class=\"data row5 col1\" >9.76%</td>\n",
       "    </tr>\n",
       "    <tr>\n",
       "      <th id=\"T_60c79_level0_row6\" class=\"row_heading level0 row6\" >6</th>\n",
       "      <td id=\"T_60c79_row6_col0\" class=\"data row6 col0\" >cash</td>\n",
       "      <td id=\"T_60c79_row6_col1\" class=\"data row6 col1\" >8.8%</td>\n",
       "    </tr>\n",
       "    <tr>\n",
       "      <th id=\"T_60c79_level0_row7\" class=\"row_heading level0 row7\" >7</th>\n",
       "      <td id=\"T_60c79_row7_col0\" class=\"data row7 col0\" >listed domestic public equity</td>\n",
       "      <td id=\"T_60c79_row7_col1\" class=\"data row7 col1\" >1.5%</td>\n",
       "    </tr>\n",
       "  </tbody>\n",
       "</table>\n",
       "</div><div style='display: inline-block; vertical-align: top;'><h3 style='font-family: Poppins; font-size: 130%;'>Retail Portfolio</h3>Return: 2.94%, Std.: 7.08% <br><br><style type=\"text/css\">\n",
       "#T_10bc4 th {\n",
       "  text-align: center;\n",
       "  font-family: Poppins;\n",
       "}\n",
       "#T_10bc4 td {\n",
       "  text-align: center;\n",
       "  font-family: Poppins;\n",
       "}\n",
       "</style>\n",
       "<table id=\"T_10bc4\">\n",
       "  <thead>\n",
       "    <tr>\n",
       "      <th class=\"blank level0\" >&nbsp;</th>\n",
       "      <th id=\"T_10bc4_level0_col0\" class=\"col_heading level0 col0\" >Asset_classes</th>\n",
       "      <th id=\"T_10bc4_level0_col1\" class=\"col_heading level0 col1\" >Weights</th>\n",
       "    </tr>\n",
       "  </thead>\n",
       "  <tbody>\n",
       "    <tr>\n",
       "      <th id=\"T_10bc4_level0_row0\" class=\"row_heading level0 row0\" >0</th>\n",
       "      <td id=\"T_10bc4_row0_col0\" class=\"data row0 col0\" >cash</td>\n",
       "      <td id=\"T_10bc4_row0_col1\" class=\"data row0 col1\" >42.8%</td>\n",
       "    </tr>\n",
       "    <tr>\n",
       "      <th id=\"T_10bc4_level0_row1\" class=\"row_heading level0 row1\" >1</th>\n",
       "      <td id=\"T_10bc4_row1_col0\" class=\"data row1 col0\" >public investment funds</td>\n",
       "      <td id=\"T_10bc4_row1_col1\" class=\"data row1 col1\" >18.6%</td>\n",
       "    </tr>\n",
       "    <tr>\n",
       "      <th id=\"T_10bc4_level0_row2\" class=\"row_heading level0 row2\" >2</th>\n",
       "      <td id=\"T_10bc4_row2_col0\" class=\"data row2 col0\" >fixed term and savings deposit</td>\n",
       "      <td id=\"T_10bc4_row2_col1\" class=\"data row2 col1\" >17.1%</td>\n",
       "    </tr>\n",
       "    <tr>\n",
       "      <th id=\"T_10bc4_level0_row3\" class=\"row_heading level0 row3\" >3</th>\n",
       "      <td id=\"T_10bc4_row3_col0\" class=\"data row3 col0\" >other equity instruments</td>\n",
       "      <td id=\"T_10bc4_row3_col1\" class=\"data row3 col1\" >8.4%</td>\n",
       "    </tr>\n",
       "    <tr>\n",
       "      <th id=\"T_10bc4_level0_row4\" class=\"row_heading level0 row4\" >4</th>\n",
       "      <td id=\"T_10bc4_row4_col0\" class=\"data row4 col0\" >listed domestic public equity</td>\n",
       "      <td id=\"T_10bc4_row4_col1\" class=\"data row4 col1\" >5.9%</td>\n",
       "    </tr>\n",
       "    <tr>\n",
       "      <th id=\"T_10bc4_level0_row5\" class=\"row_heading level0 row5\" >5</th>\n",
       "      <td id=\"T_10bc4_row5_col0\" class=\"data row5 col0\" >listed foreign public equity</td>\n",
       "      <td id=\"T_10bc4_row5_col1\" class=\"data row5 col1\" >5.0%</td>\n",
       "    </tr>\n",
       "    <tr>\n",
       "      <th id=\"T_10bc4_level0_row6\" class=\"row_heading level0 row6\" >6</th>\n",
       "      <td id=\"T_10bc4_row6_col0\" class=\"data row6 col0\" >corporate bonds</td>\n",
       "      <td id=\"T_10bc4_row6_col1\" class=\"data row6 col1\" >1.46%</td>\n",
       "    </tr>\n",
       "    <tr>\n",
       "      <th id=\"T_10bc4_level0_row7\" class=\"row_heading level0 row7\" >7</th>\n",
       "      <td id=\"T_10bc4_row7_col0\" class=\"data row7 col0\" >state bonds</td>\n",
       "      <td id=\"T_10bc4_row7_col1\" class=\"data row7 col1\" >0.73%</td>\n",
       "    </tr>\n",
       "  </tbody>\n",
       "</table>\n",
       "</div>"
      ],
      "text/plain": [
       "<IPython.core.display.HTML object>"
      ]
     },
     "metadata": {},
     "output_type": "display_data"
    },
    {
     "data": {
      "application/vnd.plotly.v1+json": {
       "config": {
        "plotlyServerURL": "https://plot.ly"
       },
       "data": [
        {
         "marker": {
          "color": [
           0.264277013580802,
           0.3445731576346368,
           0.353881000716985,
           0.31371734567149423,
           0.3279402145164013,
           0.4004271758706067,
           0.40167497476358477,
           0.3697435389310973,
           0.2873665758661258,
           0.37872593899199414,
           0.3952041550434261,
           0.3652535951690346,
           0.43931539102726946,
           0.40477834952335906,
           0.2661490452645611,
           0.43499411058970217,
           0.3724977437771007,
           0.4082297068099905,
           0.4321976707283252,
           0.2990907829567722,
           0.40520630495365184,
           0.42437233610436,
           0.4627777656368694,
           0.3330363807837386,
           0.4213304472658013,
           0.3969060453472997,
           0.3758249199217603,
           0.4372259393229415,
           0.4149250179318915,
           0.4447085423833436,
           0.40470107574938663,
           0.4076203078543515,
           0.40063184370669624,
           0.41444738106335105,
           0.4557117207202077,
           0.38459419169848064,
           0.4448268871202883,
           0.43563885979079175,
           0.4331309539255223,
           0.44307881897469953,
           0.4025843963172111,
           0.42838953679803743,
           0.4133631422530947,
           0.30477791342135424,
           0.4253633452096264,
           0.29569973776091757,
           0.3943102301841192,
           0.44907988436785967,
           0.4176995913945974,
           0.42790303001428404,
           0.43218249882441867,
           0.35895889658145513,
           0.41930679595022957,
           0.4004295554363541,
           0.43008687884523045,
           0.3603313640392026,
           0.4127038244737193,
           0.4360220196027487,
           0.4197839372344748,
           0.4383485889161381,
           0.43280803574554766,
           0.43447342860836885,
           0.428978271067747,
           0.4394292135762262,
           0.4805710796287813,
           0.4503761836412753,
           0.41859093499674666,
           0.4489611165169555,
           0.4360306025315814,
           0.42482505889951205,
           0.44927001467226313,
           0.4625261635036959,
           0.4526784918677575,
           0.44284402756506125,
           0.3935858642240445,
           0.3672407430441682,
           0.4094948110857742,
           0.46679171908929007,
           0.4694338438304753,
           0.4480493494511181,
           0.4342850750087834,
           0.4523271485389003,
           0.43525803083432335,
           0.4377307650428705,
           0.472788333294587,
           0.4532308173427589,
           0.4364827839631089,
           0.40615541627412444,
           0.36647394002206146,
           0.45327559256633143,
           0.43360726759301677,
           0.3699500436437861,
           0.37762998772868644,
           0.39803793959573786,
           0.4127316980064379,
           0.4735311486469434,
           0.4383934988860366,
           0.46169333550958014,
           0.478439593226065,
           0.478568175648799,
           0.43725057553608654,
           0.46608710496093975,
           0.45569455351124144,
           0.46403007779336525,
           0.4941354204099586,
           0.4447119051534699,
           0.4692900731053855,
           0.38784025777629777,
           0.49303507227115556,
           0.37153402890708837,
           0.4073292341337127,
           0.5025869126151747,
           0.48042991216045977,
           0.36970469383617377,
           0.4452889320883596,
           0.452614510802304,
           0.4569584234273509,
           0.42670523120310994,
           0.2969913951496689,
           0.4086307531717173,
           0.44570448615035707,
           0.4440091705378096,
           0.49352969752953096,
           0.470382521938342,
           0.45994088326462845,
           0.3825893723887487,
           0.4725420461277417,
           0.4599192609398783,
           0.463920574000775,
           0.4044315413139642,
           0.420049668452726,
           0.48101152693990745,
           0.4652387162343849,
           0.4785034646406665,
           0.48235898532762767,
           0.45568918017589966,
           0.2800032129954553,
           0.5059785647802647,
           0.4760181387938125,
           0.46966797981804564,
           0.4131116480241474,
           0.4297042444406482,
           0.4705173816606478,
           0.47900430410538647,
           0.407738775543649,
           0.4698679863728812,
           0.49565847696969545,
           0.4705200882668059,
           0.42900294629634145,
           0.48324473851250493,
           0.49017613499424034,
           0.41994300975523785,
           0.40726316219674275,
           0.44954441945295043,
           0.32761008388885915,
           0.4796718042753259,
           0.414189840395928,
           0.35791382214417733,
           0.47365523212995303,
           0.3063431750647405,
           0.4257535116097667,
           0.413859687052145,
           0.3387484193122643,
           0.470501634698404,
           0.4755703758001305,
           0.46769961398629417,
           0.4767708228824801,
           0.4364122520250731,
           0.4842562397914485,
           0.4719410986189302,
           0.4814286625367906,
           0.4140304912160074,
           0.4670809263922297,
           0.44683009020477427,
           0.40193205896571665,
           0.4724389975779374,
           0.49326720757937453,
           0.4658472051568207,
           0.47425759323989225,
           0.48009600056053037,
           0.4964851092543012,
           0.4542993511203778,
           0.3600085581277698,
           0.4745831178155557,
           0.4630996656141817,
           0.49553770908457356,
           0.47345855780219165,
           0.43280674714237616,
           0.3959894341532343,
           0.4824515796402114,
           0.4638971343945223,
           0.47460826671135925,
           0.4015056131851519,
           0.47390487917126267,
           0.42105193440361344,
           0.4485627740898095,
           0.4877027197540244,
           0.49605647157059046,
           0.4247425033520406,
           0.2188883960530992,
           0.4313133818796515,
           0.45497366855753146,
           0.4797983828937971,
           0.4903248850463986,
           0.4416358160370383,
           0.46521136930769036,
           0.4578339760058339,
           0.46242791394964605,
           0.4947072282113185,
           0.413402002726459,
           0.42784820706735255,
           0.47775974773822405,
           0.44327943978314677,
           0.4284176320069098,
           0.34851757051986454,
           0.47496567127515854,
           0.42146469356821636,
           0.4818732771066576,
           0.46894744641897324,
           0.5146449304646391,
           0.25966582523767195,
           0.49184582320718867,
           0.47055582682259306,
           0.48651547056400324,
           0.4075842175319799,
           0.4889735220107195,
           0.4370213203660847,
           0.441189881431414,
           0.43880485771299554,
           0.3995094312351318,
           0.48489270413994445,
           0.40487267904124463,
           0.4973352906079016,
           0.48995375305616246,
           0.4125759763366454,
           0.44062617794264247,
           0.452391353663134,
           0.4762672738515309,
           0.4859928978452138,
           0.44970414782668733,
           0.4888290611521831,
           0.4776834268163338,
           0.46506036904446063,
           0.4847498589066556,
           0.4765008106238494,
           0.48933847772582795,
           0.4633186148864098,
           0.46946411562396617,
           0.46850749350831306,
           0.505043120034885,
           0.4897628806435975,
           0.4718479889230558,
           0.49650548872464956,
           0.4826241106960319,
           0.4759889974632453,
           0.3995245271314748,
           0.44706279579377844,
           0.49822376858410317,
           0.4822202615548797,
           0.48036032174518184,
           0.47259454425061337,
           0.455214061008203,
           0.49723516392927203,
           0.44148850219837543,
           0.4817522601314472,
           0.4773423743984383,
           0.46452156134635664,
           0.2908231390730959,
           0.4654879384574862,
           0.48477255923751955,
           0.45502248778589527,
           0.43080791182093037,
           0.4956017785907431,
           0.4486066658149475,
           0.49269170196140505,
           0.48061746379624737,
           0.4451656615324709,
           0.45317251488279736,
           0.4832376390306694,
           0.45395459571462177,
           0.4869598415141608,
           0.4877044720720576,
           0.4495236400273456,
           0.4309339655096283,
           0.49449850744774976,
           0.4912490448848509,
           0.49842543453898375,
           0.4265194009523954,
           0.4765322325875875,
           0.49948728760925176,
           0.49140435115595615,
           0.507023530411794,
           0.4935812892227653,
           0.4205157119993114,
           0.4651263073744861,
           0.4964253909798231,
           0.5169343101602967,
           0.48442761995047207,
           0.4926043852212048,
           0.39426677162603646,
           0.3631025051811781,
           0.28625166307458344,
           0.46398505171412413,
           0.5016999623397528,
           0.38576003934694464,
           0.4620783364403778,
           0.4861266484505572,
           0.4446028148467294,
           0.48611824937739795,
           0.48601619452281236,
           0.37295001620639157,
           0.4877835495000459,
           0.4702899249358182,
           0.47126933628413936,
           0.3719851042680907,
           0.455890228338111,
           0.4711572143634737,
           0.21415296196403602,
           0.481780590126352,
           0.4741738733835877,
           0.46312709666041074,
           0.5007357704646807,
           0.4285098850949075,
           0.409038897455681,
           0.49987688374439126,
           0.47998312590102316,
           0.4856999881026946,
           0.4225592275022231,
           0.4913666245714577,
           0.4514759054517806,
           0.49419810590920804,
           0.4870821696739653,
           0.47059862725113144,
           0.4334337457943561,
           0.48950387635503667,
           0.49694085564886853,
           0.484375003496577,
           0.41297086076617323,
           0.5011587997019377,
           0.46297211361137647,
           0.4451354275133445,
           0.4938575726047167,
           0.38777290978823475,
           0.4430690279207447,
           0.46826029886076787,
           0.478807965135556,
           0.4940240803970619,
           0.49628253818852613,
           0.4972080886323048,
           0.2991257682342103,
           0.5052045678315789,
           0.44420427385577654,
           0.49478646141733734,
           0.49630198548880633,
           0.34726059436559387,
           0.421452025095283,
           0.5061329422780454,
           0.4859723922920479,
           0.1975942618769637,
           0.27860546675266284,
           0.484207763261478,
           0.4835422823066465,
           0.4954037603025313,
           0.4716651910011154,
           0.4995001199509296,
           0.4954845647315487,
           0.5199230541836062,
           0.5031981951698136,
           0.5083380864127617,
           0.4799750984020793,
           0.5021819083883039,
           0.4776690642861027,
           0.46095494787207664,
           0.13362287741746512,
           0.4155847610306697,
           0.47583218200438493,
           0.4820605465102032,
           0.48383840042554355,
           0.4601088233991582,
           0.49896751255953353,
           0.32542238368196197,
           0.4972810551313004,
           0.5080346195853336,
           0.1968239309031359,
           0.4726772967206574,
           0.4979859942130829,
           0.4861229254595016,
           0.4949805000119565,
           0.49135484320459955,
           0.41129587889465397,
           0.29086476809595346,
           0.4966573714375967,
           0.49662457869353555,
           0.4912518214167706,
           0.33780414653187896,
           0.5014895428794786,
           0.5124798798240608,
           0.5006544171469299,
           0.4991208697798287,
           0.47046508373423973,
           0.4882807600294584,
           0.4934145487547091,
           0.34778902988022,
           0.49995769093325965,
           0.4951106641660368,
           0.4990946937199133,
           0.4838700634107945,
           0.47168888216761473,
           0.4872356011739022,
           0.4928366913301284,
           0.4936105701669408,
           0.4848615359702974,
           0.4798751610782349,
           0.5000153229960027,
           0.45746824588453744,
           0.42383823144833166,
           0.4958842502104314,
           0.24804939221765446,
           0.44787989046373894,
           0.49133667734901343,
           0.49144008843878223,
           0.4797114888991327,
           0.364051786223948,
           0.4798978824722947,
           0.5098881032442363,
           0.46901890789732387,
           0.45401093357381345,
           0.49974257928717364,
           0.5152578080246415,
           0.37817439019359356,
           0.3753489056281117,
           0.5075182756781147,
           0.3842534074724208,
           0.488068868094935,
           0.5047538208812893,
           0.5076330971481379,
           0.48623087048016134,
           0.4997233250834964,
           0.4590168689097292,
           0.49254198725437237,
           0.4948426757414782,
           0.4783738420649744,
           0.44793528140714745,
           0.4813141615694583,
           0.49019719870399736,
           0.3863626113187031,
           0.4485244353588182,
           0.4146498716643359,
           0.5153165964053787,
           0.47179962351478105,
           0.2685802185908918,
           0.4931712268640678,
           0.5088815598160692,
           0.45684371294751863,
           0.4744790276710009,
           0.4616078797966772,
           0.4520448103749136,
           0.42419588096782596,
           0.5084415698130155,
           0.48725127612255714,
           0.3307254341198619,
           0.4561225010047343,
           0.4908395483632055,
           0.5018727686806802,
           0.4983523676087149,
           0.44086125443258894,
           0.4880199763580587,
           0.5032489635044378,
           0.5011614240188148,
           0.4466822551589183,
           0.44876194892130067,
           0.49705218511885824,
           0.4940714762412935,
           0.49213607668660353,
           0.4155019354239138,
           0.4235779567478005,
           0.5022203222576179,
           0.46034780057743396,
           0.49360066149322696,
           0.501113883274824,
           0.5129060929581346,
           0.4312422422006629,
           0.43574562297431024,
           0.4704041051417648,
           0.5186863397914717,
           0.4923063634010981,
           0.4318488635386169,
           0.476204251468499,
           0.39172496883901275,
           0.5014158782926175,
           0.38915979815702756,
           0.46780221531849064,
           0.4378799325075313,
           0.42975863412207993,
           0.43903986548561136,
           0.502425714586987,
           0.5084943282252655,
           0.5084021774880144,
           0.49764673406323595,
           0.4498475178001591,
           0.2569127265766257,
           0.4880835233830073,
           0.4952356084833426,
           0.49586613854345657,
           0.5171670255190531,
           0.47617847872434055,
           0.3424031244653709,
           0.509248241455926,
           0.4499365860003742,
           0.49655302501420306,
           0.5064251667844749,
           0.5045783460454679,
           0.3508825070976278,
           0.4962547121622302,
           0.4616488928223075,
           0.4927712735032858,
           0.38173678876769696,
           0.49350081130356627,
           0.46645707783813434,
           0.41425768534982527,
           0.4885426333988816,
           0.38719011540320697,
           0.09595830647287691,
           0.5023810142776642,
           0.44015331148859715,
           0.2673071783385484,
           0.5012755496509324,
           0.4825399184198612,
           0.5115500402656163,
           0.45721484540712903,
           0.4766045019520412,
           0.4991368900735081,
           0.446929183087846,
           0.470091592465419,
           0.4278573017720115,
           0.421434568181518,
           0.46153542725390284,
           0.48098141593708577,
           0.4797905222245381,
           0.515506876784899,
           0.519054355116344,
           0.4934881226736348,
           0.5090352489721421,
           0.45900707239749583,
           0.45689032005805436,
           0.4288452363279828,
           0.49239486320870746,
           0.4852113285306206,
           0.45349222231145814,
           0.48916985732751067,
           0.49758245858531575,
           0.4893424441187306,
           0.5006882839338699,
           0.21870009647741495,
           0.4932120790122261,
           0.44830778322208037,
           0.49981874292961376,
           0.5063879325878526,
           0.5107850151486439,
           0.5068746742378495,
           0.5014431870252207,
           0.5003364644765865,
           0.5033185576204999,
           0.3326673573931793,
           0.5048348825471674,
           0.5050315583106123,
           0.46035333812039225,
           0.4565025226005775,
           0.45311946847761886,
           0.4967574892959109,
           0.5082107706672686,
           0.47710914110259983,
           0.4263260685021023,
           0.4652567347304404,
           0.5134206798762553,
           0.4947413886892289,
           0.469738932293968,
           0.4953239638893139,
           0.49461407906675414,
           0.45655043552673324,
           0.4789100512341906,
           0.49584220454207695,
           0.4742743722192212,
           0.5064945373305152,
           0.44814126444663765,
           0.5005276536130823,
           0.4963822258174916,
           0.26015605962832866,
           0.4915336795724744,
           0.49456169117051246,
           0.427241435191629,
           0.3459608331397735,
           0.510602429491696,
           0.5148079292034694,
           0.501784502985519,
           0.49877919885828215,
           0.45176875184493825,
           0.38896812673537,
           0.4964997978953699,
           0.4681743180312775,
           0.467166951785419,
           0.4444859078344904,
           0.2112964464944791,
           0.5168369295886152,
           0.5188077391688727,
           0.16604286171506608,
           0.4525925193120204,
           0.4931633657157458,
           0.49994935024906656,
           0.5040332726445321,
           0.3601304617598518,
           0.499235567060827,
           0.482914930485078,
           0.4527275331592137,
           0.46123851858835807,
           0.46829038735269635,
           0.4943363604490936,
           0.501279932298458,
           0.49633521682654125,
           0.44017402363007496,
           0.5033518732626926,
           0.4877748153053966,
           0.5018150419011428,
           0.44985461967634977,
           0.5053066125919137,
           0.32866033463106514,
           0.5146452891963088,
           0.4825542361956852,
           0.4844959110014134,
           0.44699615799400394,
           0.4546642704757742,
           0.43870663769246393,
           0.4639280497652055,
           0.4951050946766782,
           0.4353019954625556,
           0.42714649856836034,
           0.4744171759253482,
           0.47961754159764985,
           0.49918338715400323,
           0.5131213089100213,
           0.45542410759875274,
           0.5078862665078347,
           0.47137665282887203,
           0.46995105513252333,
           0.511875465143485,
           0.49919974626855146,
           0.49736741865068573,
           0.4910300765780431,
           0.512992649794514,
           0.509051086651145,
           0.5151359123660965,
           0.38231699443927525,
           0.5098490235235762,
           0.11812368311336295,
           0.29561007165034137,
           0.5007591416586895,
           0.39240978062382653,
           0.500331981275211,
           0.5043538659341953,
           0.5160927113794084,
           0.4948620952816809,
           0.5034566666725103,
           0.3322255604283392,
           0.5124457008236037,
           0.5058718931644471,
           0.5121247495308445,
           0.5016390498292818,
           0.47802212491837576,
           0.5064421320801555,
           0.4994603981975463,
           0.512027794057259,
           0.26367179780045913,
           0.5064332634135724,
           0.48793275991437135,
           0.3671746508831708,
           0.47075472147472436,
           0.45912197406950467,
           0.5027084879911261,
           0.5073821430982088,
           0.41274993543645755,
           0.49601931457200227,
           0.4761473992574035,
           0.46329890112809086,
           0.4983908165033639,
           0.518204537157383,
           0.5050964661199439,
           0.5023998930732254,
           0.5038397527626983,
           0.495846186953226,
           0.4714617454893458,
           0.47493533166973007,
           0.5199151502040692,
           0.46146007247499726,
           0.45914176337190166,
           0.5026686333419418,
           0.17869243471797916,
           0.4990651375860751,
           0.46369896565096275,
           0.47897866440713727,
           0.3602466590935763,
           0.4338733016318722,
           0.5213551166484663,
           0.4841226309684891,
           0.5068800713172367,
           0.34834983329246916,
           0.27242846980519675,
           0.4595192272486425,
           0.49852897715259004,
           0.5217675703144437,
           0.5020152383318951,
           0.5102354771432354,
           0.4827339486507023,
           0.49346168657441447,
           0.502741864770656,
           0.40944188415114524,
           0.4837309420815609,
           0.21380607321306525,
           0.4633685465207981,
           0.396903952540383,
           0.4920926828754111,
           0.5122441278004982,
           0.4384875700265267,
           0.4670361113320625,
           0.5054126238936738,
           0.5165105111575747,
           0.4765704407605289,
           0.5062261746341874,
           0.5074526673376859,
           0.5232345713846245,
           0.46238572215556756,
           0.35974645874105055,
           0.4375333062963918,
           0.3978182423322694,
           0.5076509756001709,
           0.505804942462736,
           0.4890955519304751,
           0.5063844711250021,
           0.42767308153555295,
           0.48514384139435796,
           0.4565200738987818,
           0.5044684591727526,
           0.49086461748482907,
           0.4665711250223427,
           0.5044336581366864,
           0.5139114550870761,
           0.2675855991595458,
           0.4214422701152964,
           0.4904380791664687,
           0.48067090395853423,
           0.3125822012090859,
           0.5062717445238208,
           0.5031682483222977,
           0.5208319248335116,
           0.5191246244998514,
           0.5003995018629804,
           0.45945580172866524,
           0.3489330249555845,
           0.5106414785149765,
           0.5028016911785836,
           0.4808995876681819,
           0.5094414257110821,
           0.35632478183417354,
           0.44184018923172896,
           0.48261168353620604,
           0.45108217202115025,
           0.41878341465670377,
           0.5106377226165271,
           0.482537477479197,
           0.4474196508442757,
           0.5078786724340414,
           0.3910677520187729,
           0.3401610498378815,
           0.5123557460482178,
           0.19536730418990186,
           0.10805246914884258,
           0.4676128867576169,
           0.47210156851640417,
           0.4936888951266598,
           0.5089565366113208,
           0.4724852072900807,
           0.4230354458831816,
           0.4428690980159383,
           0.5081841004633048,
           0.426780643768105,
           0.2407335485255593,
           0.15080080854852757,
           0.17429231870563822,
           0.4387462849595869,
           0.5023205105382766,
           0.4991883091317106,
           0.4795200569127262,
           0.5012422095016468,
           0.512438768812661,
           0.46314932622920646,
           0.47624763025958633,
           0.4477715487033404,
           0.4844862401932892,
           0.4860499048817681,
           0.46306121139073425,
           0.3658432069651134,
           0.48600519618687854,
           0.5353373492608058,
           0.47721930539951724,
           0.48483962224822635,
           0.5025077365645002,
           0.5155420261043822,
           0.28981280466014253,
           0.5017300632653798,
           0.5094982893857037,
           0.22194537259507616,
           0.46901223961229227,
           0.5050567359406986,
           0.4950615415538516,
           0.2532659415449064,
           0.4831944324705909,
           0.4416890802901713,
           0.4600335573893181,
           0.48173914981615534,
           0.3263934861973811,
           0.392547541044345,
           0.5008507950826809,
           0.5064103848105702,
           0.46268872702989733,
           0.5139452855457013,
           0.5190114454669255,
           0.18700085818186135,
           0.4639831985552234,
           0.3825340861923023,
           0.35357991390863264,
           0.4794173838907839,
           0.5060751921150893,
           0.5077475115170168,
           0.486515925457545,
           0.4708045614711308,
           0.5101447779853635,
           0.49274868155071394,
           0.4023942043384395,
           0.34711500269824586,
           0.4997956770133856,
           0.44081435552903925,
           0.5232645946126647,
           0.5034999409516492,
           0.47997050068303654,
           0.2174931828697621,
           0.4877189153818256,
           0.48994249405159285,
           0.45478907625806153,
           0.34600471620169215,
           0.49963117761551806,
           0.5055218941371915,
           0.4399315509067923,
           0.4074680072419989,
           0.46299596070182764,
           0.5028177105284405,
           0.5014074304133406,
           0.4553437105170962,
           0.5061852138785923,
           0.5074677723258428,
           0.48958355291090677,
           0.42081809178436086,
           0.3553227239815978,
           0.5180443803906337,
           0.5181109441185424,
           0.4929448032307555,
           0.4065278764211282,
           0.5068495248305411,
           0.44726497485887406,
           0.5080594688584427,
           0.19507360677113422,
           0.40960178025306887,
           0.49870043120243984,
           0.43091347877664815,
           0.5165974561681329,
           0.4947154683951777,
           0.26767639522113384,
           0.5129254117547619,
           0.5002897892132587,
           0.5046250390141741,
           0.5086661177013667,
           0.5035837299793983,
           0.49942754943537415,
           0.5034300383238499,
           0.5183771662480287,
           0.50878060202403,
           0.5050064260082893,
           0.5135970860184472,
           0.46648691250214086,
           0.5209356776205326,
           0.24303898073975963,
           0.5113522996909113,
           0.5169537151142919,
           0.5068174954176599,
           0.5163946640512445,
           0.5077147042130129,
           0.5227950611488339,
           0.4511064157995869,
           0.4590104530044232,
           0.516819228867057,
           0.4629773598161796,
           0.22291144220180495,
           0.5222261329340864,
           0.49141760067765083,
           0.46949103146511084,
           0.47178562336701996,
           0.4265819843277527,
           0.5051606946703735,
           0.3646287543085011,
           0.26768507456601903,
           0.490719702959526,
           0.5044232264118034,
           0.5124630689326066,
           0.4945591396535702,
           0.36017376771408494,
           0.5146482756018925,
           0.4384837122824187,
           0.5151322691973538,
           0.3320608526808736,
           0.5174759664888944,
           0.3271016944928664,
           0.5103388060287052,
           0.4887721197122875,
           0.4676377379129691,
           0.5084436000822137,
           0.3814383263094964,
           0.48861943628042387,
           0.5140311938287285,
           0.4387464804793491,
           0.254896008844202,
           0.48626379413388343,
           0.5084800406938424,
           0.30063923472165266,
           0.5186893580848131,
           0.22455267931902143,
           0.5015044184763616,
           0.3356110269605402,
           0.5149501301262366,
           0.5011297199672912,
           0.4818319647409004,
           0.4775109294326783,
           0.4429053892185079,
           0.5052097339854891,
           0.40565502327518105,
           0.516371127617358,
           0.44359747395081,
           0.4204154019478216,
           0.2507204494061117,
           0.460785226206605,
           0.4873226321420699,
           0.4696157206670699,
           0.5041811784315267,
           0.5156189412181443,
           0.5172715170454875,
           0.48999159161134076,
           0.49362169180802545,
           0.5178570019139034,
           0.2693395389482541,
           0.5083505670946186,
           0.44191850238270736,
           0.5184685489478514,
           0.48879361399309706,
           0.4625758717745113,
           0.34226158969193043,
           0.4334708695228111,
           0.3619975248610864,
           0.5120064154660812,
           0.5142751499512154,
           0.46051065959019283,
           0.4333033330145943,
           0.46687465270641126,
           0.4689325479130688,
           0.4923822879001121,
           0.5156026108388762,
           0.5107017804923635,
           0.49380174818729367,
           0.4522802254099152,
           0.4683186808356301,
           0.39392137274315275,
           0.5123259059063602,
           0.4767051315182252,
           0.4789747669294633,
           0.49063559873298485,
           0.46704974301217056
          ],
          "colorbar": {
           "title": {
            "text": "Sharpe<br>Ratio"
           }
          },
          "colorscale": [
           [
            0,
            "rgb(103,0,31)"
           ],
           [
            0.1,
            "rgb(178,24,43)"
           ],
           [
            0.2,
            "rgb(214,96,77)"
           ],
           [
            0.3,
            "rgb(244,165,130)"
           ],
           [
            0.4,
            "rgb(253,219,199)"
           ],
           [
            0.5,
            "rgb(247,247,247)"
           ],
           [
            0.6,
            "rgb(209,229,240)"
           ],
           [
            0.7,
            "rgb(146,197,222)"
           ],
           [
            0.8,
            "rgb(67,147,195)"
           ],
           [
            0.9,
            "rgb(33,102,172)"
           ],
           [
            1,
            "rgb(5,48,97)"
           ]
          ],
          "line": {
           "width": 1
          },
          "showscale": true,
          "size": 7
         },
         "mode": "markers",
         "text": [
          "['listed foreign public equity' 'public investment funds'\n 'other equity instruments' 'state bonds' 'corporate bonds'\n 'listed domestic public equity' 'fixed term and savings deposit' 'cash']<br>[0.05 0.1  0.02 0.23 0.07 0.19 0.1  0.24]",
          "['state bonds' 'cash' 'fixed term and savings deposit'\n 'public investment funds' 'corporate bonds' 'other equity instruments'\n 'listed domestic public equity' 'listed foreign public equity']<br>[0.14 0.13 0.17 0.17 0.09 0.17 0.13 0.01]",
          "['corporate bonds' 'listed domestic public equity'\n 'fixed term and savings deposit' 'state bonds' 'other equity instruments'\n 'public investment funds' 'cash' 'listed foreign public equity']<br>[0.17 0.11 0.08 0.08 0.14 0.18 0.17 0.08]",
          "['corporate bonds' 'state bonds' 'other equity instruments'\n 'public investment funds' 'listed foreign public equity' 'cash'\n 'listed domestic public equity' 'fixed term and savings deposit']<br>[0.04 0.1  0.01 0.04 0.24 0.2  0.11 0.27]",
          "['other equity instruments' 'cash' 'state bonds'\n 'listed foreign public equity' 'listed domestic public equity'\n 'public investment funds' 'corporate bonds'\n 'fixed term and savings deposit']<br>[0.09 0.15 0.03 0.21 0.2  0.09 0.1  0.14]",
          "['cash' 'public investment funds' 'other equity instruments'\n 'listed foreign public equity' 'state bonds' 'corporate bonds'\n 'fixed term and savings deposit' 'listed domestic public equity']<br>[0.17 0.11 0.17 0.06 0.16 0.13 0.16 0.05]",
          "['listed domestic public equity' 'public investment funds'\n 'listed foreign public equity' 'other equity instruments'\n 'corporate bonds' 'state bonds' 'cash' 'fixed term and savings deposit']<br>[0.09 0.11 0.05 0.2  0.08 0.22 0.14 0.11]",
          "['cash' 'fixed term and savings deposit' 'listed domestic public equity'\n 'public investment funds' 'state bonds' 'corporate bonds'\n 'listed foreign public equity' 'other equity instruments']<br>[0.14 0.1  0.11 0.19 0.12 0.03 0.14 0.17]",
          "['listed foreign public equity' 'public investment funds' 'state bonds'\n 'listed domestic public equity' 'cash' 'corporate bonds'\n 'fixed term and savings deposit' 'other equity instruments']<br>[0.06 0.03 0.16 0.13 0.23 0.09 0.26 0.05]",
          "['listed domestic public equity' 'public investment funds'\n 'fixed term and savings deposit' 'state bonds'\n 'listed foreign public equity' 'corporate bonds'\n 'other equity instruments' 'cash']<br>[0.09 0.2  0.   0.09 0.11 0.25 0.12 0.13]",
          "['state bonds' 'listed foreign public equity' 'corporate bonds'\n 'other equity instruments' 'fixed term and savings deposit' 'cash'\n 'public investment funds' 'listed domestic public equity']<br>[0.07 0.24 0.1  0.14 0.19 0.13 0.02 0.11]",
          "['public investment funds' 'listed domestic public equity'\n 'fixed term and savings deposit' 'listed foreign public equity'\n 'corporate bonds' 'other equity instruments' 'state bonds' 'cash']<br>[0.04 0.08 0.15 0.19 0.08 0.05 0.18 0.23]",
          "['other equity instruments' 'cash' 'corporate bonds'\n 'listed foreign public equity' 'listed domestic public equity'\n 'state bonds' 'fixed term and savings deposit' 'public investment funds']<br>[0.18 0.22 0.07 0.21 0.   0.11 0.16 0.04]",
          "['listed foreign public equity' 'listed domestic public equity'\n 'other equity instruments' 'state bonds' 'fixed term and savings deposit'\n 'public investment funds' 'corporate bonds' 'cash']<br>[0.13 0.13 0.15 0.17 0.03 0.06 0.19 0.14]",
          "['state bonds' 'other equity instruments' 'listed foreign public equity'\n 'fixed term and savings deposit' 'cash' 'listed domestic public equity'\n 'public investment funds' 'corporate bonds']<br>[0.14 0.03 0.03 0.1  0.28 0.08 0.24 0.11]",
          "['other equity instruments' 'cash' 'corporate bonds'\n 'fixed term and savings deposit' 'public investment funds' 'state bonds'\n 'listed domestic public equity' 'listed foreign public equity']<br>[0.11 0.27 0.18 0.   0.02 0.17 0.04 0.21]",
          "['state bonds' 'fixed term and savings deposit' 'other equity instruments'\n 'listed domestic public equity' 'public investment funds' 'cash'\n 'corporate bonds' 'listed foreign public equity']<br>[0.1  0.15 0.11 0.13 0.09 0.12 0.08 0.22]",
          "['corporate bonds' 'public investment funds'\n 'fixed term and savings deposit' 'cash' 'listed foreign public equity'\n 'other equity instruments' 'listed domestic public equity' 'state bonds']<br>[0.27 0.11 0.01 0.16 0.11 0.1  0.08 0.17]",
          "['public investment funds' 'corporate bonds' 'state bonds'\n 'fixed term and savings deposit' 'listed foreign public equity'\n 'listed domestic public equity' 'other equity instruments' 'cash']<br>[0.13 0.14 0.17 0.03 0.21 0.03 0.13 0.16]",
          "['listed foreign public equity' 'fixed term and savings deposit'\n 'corporate bonds' 'listed domestic public equity'\n 'other equity instruments' 'cash' 'public investment funds' 'state bonds']<br>[0.   0.27 0.   0.06 0.06 0.16 0.24 0.22]",
          "['corporate bonds' 'listed foreign public equity' 'cash' 'state bonds'\n 'fixed term and savings deposit' 'public investment funds'\n 'listed domestic public equity' 'other equity instruments']<br>[0.06 0.03 0.22 0.18 0.21 0.08 0.   0.22]",
          "['public investment funds' 'fixed term and savings deposit'\n 'listed domestic public equity' 'cash' 'state bonds'\n 'listed foreign public equity' 'other equity instruments'\n 'corporate bonds']<br>[0.04 0.09 0.1  0.13 0.16 0.18 0.23 0.07]",
          "['other equity instruments' 'state bonds' 'fixed term and savings deposit'\n 'corporate bonds' 'cash' 'listed foreign public equity'\n 'listed domestic public equity' 'public investment funds']<br>[0.12 0.18 0.21 0.23 0.14 0.08 0.01 0.02]",
          "['listed domestic public equity' 'state bonds' 'public investment funds'\n 'cash' 'fixed term and savings deposit' 'corporate bonds'\n 'other equity instruments' 'listed foreign public equity']<br>[0.01 0.11 0.04 0.32 0.19 0.21 0.1  0.02]",
          "['cash' 'corporate bonds' 'fixed term and savings deposit' 'state bonds'\n 'listed domestic public equity' 'listed foreign public equity'\n 'other equity instruments' 'public investment funds']<br>[0.18 0.16 0.04 0.03 0.05 0.16 0.32 0.06]",
          "['corporate bonds' 'listed foreign public equity'\n 'other equity instruments' 'fixed term and savings deposit' 'state bonds'\n 'listed domestic public equity' 'cash' 'public investment funds']<br>[0.05 0.19 0.11 0.23 0.11 0.01 0.24 0.06]",
          "['other equity instruments' 'state bonds' 'listed foreign public equity'\n 'corporate bonds' 'listed domestic public equity' 'cash'\n 'fixed term and savings deposit' 'public investment funds']<br>[0.22 0.12 0.01 0.13 0.06 0.22 0.18 0.06]",
          "['state bonds' 'listed domestic public equity' 'other equity instruments'\n 'fixed term and savings deposit' 'listed foreign public equity' 'cash'\n 'public investment funds' 'corporate bonds']<br>[0.21 0.08 0.11 0.08 0.19 0.15 0.01 0.17]",
          "['fixed term and savings deposit' 'cash' 'state bonds' 'corporate bonds'\n 'other equity instruments' 'listed domestic public equity'\n 'listed foreign public equity' 'public investment funds']<br>[0.21 0.27 0.15 0.04 0.13 0.01 0.16 0.03]",
          "['other equity instruments' 'listed domestic public equity' 'cash'\n 'state bonds' 'fixed term and savings deposit'\n 'listed foreign public equity' 'public investment funds'\n 'corporate bonds']<br>[0.19 0.06 0.22 0.19 0.01 0.2  0.   0.12]",
          "['corporate bonds' 'other equity instruments'\n 'listed domestic public equity' 'state bonds'\n 'fixed term and savings deposit' 'listed foreign public equity' 'cash'\n 'public investment funds']<br>[0.07 0.22 0.03 0.03 0.13 0.21 0.14 0.17]",
          "['other equity instruments' 'listed domestic public equity' 'state bonds'\n 'fixed term and savings deposit' 'cash' 'public investment funds'\n 'corporate bonds' 'listed foreign public equity']<br>[0.23 0.13 0.08 0.08 0.13 0.02 0.22 0.12]",
          "['listed foreign public equity' 'state bonds' 'cash'\n 'public investment funds' 'corporate bonds'\n 'fixed term and savings deposit' 'other equity instruments'\n 'listed domestic public equity']<br>[0.12 0.16 0.21 0.07 0.21 0.1  0.08 0.05]",
          "['public investment funds' 'listed foreign public equity'\n 'listed domestic public equity' 'state bonds'\n 'fixed term and savings deposit' 'other equity instruments' 'cash'\n 'corporate bonds']<br>[0.03 0.19 0.1  0.08 0.06 0.19 0.16 0.19]",
          "['cash' 'state bonds' 'listed domestic public equity'\n 'public investment funds' 'corporate bonds'\n 'fixed term and savings deposit' 'other equity instruments'\n 'listed foreign public equity']<br>[0.21 0.22 0.01 0.06 0.07 0.08 0.19 0.15]",
          "['listed foreign public equity' 'corporate bonds'\n 'listed domestic public equity' 'state bonds' 'cash'\n 'public investment funds' 'fixed term and savings deposit'\n 'other equity instruments']<br>[0.12 0.04 0.02 0.17 0.19 0.16 0.2  0.1 ]",
          "['corporate bonds' 'listed domestic public equity'\n 'fixed term and savings deposit' 'public investment funds' 'cash'\n 'state bonds' 'listed foreign public equity' 'other equity instruments']<br>[0.16 0.01 0.01 0.01 0.27 0.17 0.29 0.07]",
          "['cash' 'other equity instruments' 'fixed term and savings deposit'\n 'corporate bonds' 'listed domestic public equity'\n 'public investment funds' 'listed foreign public equity' 'state bonds']<br>[0.13 0.28 0.   0.18 0.02 0.16 0.16 0.07]",
          "['other equity instruments' 'listed foreign public equity'\n 'listed domestic public equity' 'fixed term and savings deposit'\n 'public investment funds' 'corporate bonds' 'cash' 'state bonds']<br>[0.17 0.15 0.06 0.02 0.13 0.18 0.12 0.17]",
          "['cash' 'listed foreign public equity' 'state bonds'\n 'listed domestic public equity' 'other equity instruments'\n 'public investment funds' 'corporate bonds'\n 'fixed term and savings deposit']<br>[0.12 0.26 0.06 0.01 0.09 0.04 0.26 0.16]",
          "['listed foreign public equity' 'other equity instruments'\n 'corporate bonds' 'public investment funds' 'cash'\n 'fixed term and savings deposit' 'listed domestic public equity'\n 'state bonds']<br>[0.21 0.18 0.04 0.12 0.14 0.04 0.11 0.16]",
          "['fixed term and savings deposit' 'cash' 'listed foreign public equity'\n 'listed domestic public equity' 'public investment funds'\n 'other equity instruments' 'state bonds' 'corporate bonds']<br>[0.16 0.13 0.16 0.06 0.05 0.18 0.11 0.15]",
          "['state bonds' 'listed foreign public equity'\n 'fixed term and savings deposit' 'other equity instruments'\n 'listed domestic public equity' 'public investment funds'\n 'corporate bonds' 'cash']<br>[0.06 0.24 0.2  0.18 0.03 0.11 0.05 0.13]",
          "['public investment funds' 'listed foreign public equity' 'cash'\n 'corporate bonds' 'listed domestic public equity'\n 'fixed term and savings deposit' 'other equity instruments' 'state bonds']<br>[0.05 0.04 0.23 0.19 0.06 0.29 0.07 0.06]",
          "['listed domestic public equity' 'state bonds' 'cash'\n 'listed foreign public equity' 'other equity instruments'\n 'public investment funds' 'fixed term and savings deposit'\n 'corporate bonds']<br>[0.02 0.21 0.27 0.03 0.24 0.04 0.   0.19]",
          "['cash' 'listed foreign public equity' 'listed domestic public equity'\n 'fixed term and savings deposit' 'other equity instruments'\n 'corporate bonds' 'state bonds' 'public investment funds']<br>[0.27 0.04 0.01 0.32 0.05 0.21 0.05 0.05]",
          "['public investment funds' 'listed foreign public equity'\n 'listed domestic public equity' 'corporate bonds'\n 'other equity instruments' 'fixed term and savings deposit' 'state bonds'\n 'cash']<br>[0.09 0.25 0.13 0.2  0.19 0.   0.01 0.13]",
          "['cash' 'state bonds' 'listed domestic public equity'\n 'fixed term and savings deposit' 'corporate bonds'\n 'listed foreign public equity' 'other equity instruments'\n 'public investment funds']<br>[0.21 0.12 0.   0.16 0.19 0.17 0.14 0.03]",
          "['listed foreign public equity' 'state bonds' 'cash' 'corporate bonds'\n 'fixed term and savings deposit' 'other equity instruments'\n 'listed domestic public equity' 'public investment funds']<br>[0.14 0.1  0.18 0.14 0.02 0.22 0.02 0.2 ]",
          "['public investment funds' 'state bonds' 'listed domestic public equity'\n 'listed foreign public equity' 'other equity instruments' 'cash'\n 'corporate bonds' 'fixed term and savings deposit']<br>[0.15 0.13 0.   0.08 0.23 0.2  0.18 0.02]",
          "['cash' 'state bonds' 'listed foreign public equity'\n 'listed domestic public equity' 'other equity instruments'\n 'corporate bonds' 'public investment funds'\n 'fixed term and savings deposit']<br>[0.18 0.12 0.17 0.01 0.09 0.23 0.1  0.09]",
          "['other equity instruments' 'cash' 'fixed term and savings deposit'\n 'public investment funds' 'corporate bonds' 'state bonds'\n 'listed foreign public equity' 'listed domestic public equity']<br>[0.28 0.12 0.02 0.19 0.05 0.03 0.11 0.19]",
          "['other equity instruments' 'state bonds' 'listed foreign public equity'\n 'listed domestic public equity' 'cash' 'fixed term and savings deposit'\n 'public investment funds' 'corporate bonds']<br>[0.26 0.02 0.21 0.03 0.12 0.21 0.09 0.06]",
          "['other equity instruments' 'public investment funds' 'cash'\n 'fixed term and savings deposit' 'listed foreign public equity'\n 'corporate bonds' 'listed domestic public equity' 'state bonds']<br>[0.28 0.07 0.13 0.01 0.19 0.13 0.14 0.05]",
          "['other equity instruments' 'fixed term and savings deposit'\n 'corporate bonds' 'listed domestic public equity'\n 'public investment funds' 'listed foreign public equity' 'cash'\n 'state bonds']<br>[0.14 0.13 0.09 0.   0.19 0.16 0.13 0.17]",
          "['fixed term and savings deposit' 'corporate bonds' 'cash'\n 'other equity instruments' 'public investment funds' 'state bonds'\n 'listed foreign public equity' 'listed domestic public equity']<br>[0.25 0.1  0.23 0.01 0.07 0.22 0.11 0.  ]",
          "['other equity instruments' 'state bonds' 'fixed term and savings deposit'\n 'public investment funds' 'corporate bonds' 'cash'\n 'listed foreign public equity' 'listed domestic public equity']<br>[0.18 0.15 0.18 0.03 0.04 0.17 0.18 0.08]",
          "['state bonds' 'cash' 'listed domestic public equity'\n 'public investment funds' 'fixed term and savings deposit'\n 'listed foreign public equity' 'corporate bonds'\n 'other equity instruments']<br>[0.18 0.16 0.03 0.14 0.04 0.15 0.17 0.14]",
          "['fixed term and savings deposit' 'listed foreign public equity' 'cash'\n 'other equity instruments' 'public investment funds' 'corporate bonds'\n 'state bonds' 'listed domestic public equity']<br>[0.13 0.21 0.21 0.08 0.08 0.03 0.23 0.03]",
          "['state bonds' 'cash' 'listed foreign public equity'\n 'other equity instruments' 'public investment funds'\n 'fixed term and savings deposit' 'listed domestic public equity'\n 'corporate bonds']<br>[0.16 0.16 0.22 0.18 0.11 0.13 0.01 0.02]",
          "['listed domestic public equity' 'fixed term and savings deposit'\n 'listed foreign public equity' 'state bonds' 'cash'\n 'other equity instruments' 'corporate bonds' 'public investment funds']<br>[0.04 0.02 0.08 0.24 0.15 0.25 0.07 0.16]",
          "['corporate bonds' 'listed foreign public equity'\n 'listed domestic public equity' 'state bonds'\n 'fixed term and savings deposit' 'cash' 'other equity instruments'\n 'public investment funds']<br>[0.07 0.21 0.02 0.18 0.06 0.22 0.15 0.09]",
          "['listed foreign public equity' 'corporate bonds'\n 'listed domestic public equity' 'cash' 'other equity instruments'\n 'public investment funds' 'fixed term and savings deposit' 'state bonds']<br>[0.16 0.17 0.05 0.19 0.11 0.04 0.1  0.17]",
          "['cash' 'fixed term and savings deposit' 'corporate bonds'\n 'listed foreign public equity' 'public investment funds' 'state bonds'\n 'listed domestic public equity' 'other equity instruments']<br>[0.15 0.08 0.22 0.17 0.09 0.08 0.02 0.2 ]",
          "['fixed term and savings deposit' 'listed foreign public equity'\n 'state bonds' 'other equity instruments' 'corporate bonds'\n 'public investment funds' 'cash' 'listed domestic public equity']<br>[0.01 0.22 0.2  0.19 0.18 0.03 0.14 0.03]",
          "['fixed term and savings deposit' 'public investment funds'\n 'listed foreign public equity' 'state bonds' 'other equity instruments'\n 'cash' 'listed domestic public equity' 'corporate bonds']<br>[0.03 0.02 0.19 0.11 0.19 0.19 0.03 0.24]",
          "['fixed term and savings deposit' 'corporate bonds'\n 'listed domestic public equity' 'public investment funds' 'state bonds'\n 'cash' 'other equity instruments' 'listed foreign public equity']<br>[0.02 0.18 0.04 0.12 0.23 0.19 0.06 0.16]",
          "['corporate bonds' 'public investment funds' 'state bonds'\n 'other equity instruments' 'listed domestic public equity'\n 'fixed term and savings deposit' 'listed foreign public equity' 'cash']<br>[0.15 0.03 0.26 0.08 0.04 0.09 0.15 0.2 ]",
          "['public investment funds' 'corporate bonds' 'state bonds' 'cash'\n 'listed domestic public equity' 'other equity instruments'\n 'fixed term and savings deposit' 'listed foreign public equity']<br>[0.15 0.16 0.17 0.18 0.01 0.14 0.04 0.16]",
          "['fixed term and savings deposit' 'listed foreign public equity'\n 'public investment funds' 'other equity instruments' 'state bonds'\n 'corporate bonds' 'listed domestic public equity' 'cash']<br>[0.18 0.06 0.08 0.07 0.21 0.22 0.02 0.15]",
          "['cash' 'corporate bonds' 'other equity instruments' 'state bonds'\n 'listed domestic public equity' 'fixed term and savings deposit'\n 'public investment funds' 'listed foreign public equity']<br>[0.13 0.07 0.28 0.28 0.01 0.06 0.13 0.04]",
          "['corporate bonds' 'state bonds' 'listed foreign public equity'\n 'public investment funds' 'fixed term and savings deposit' 'cash'\n 'listed domestic public equity' 'other equity instruments']<br>[0.2  0.18 0.09 0.03 0.2  0.15 0.   0.14]",
          "['other equity instruments' 'state bonds' 'fixed term and savings deposit'\n 'public investment funds' 'listed foreign public equity'\n 'corporate bonds' 'listed domestic public equity' 'cash']<br>[0.14 0.14 0.11 0.05 0.18 0.18 0.01 0.17]",
          "['public investment funds' 'cash' 'other equity instruments'\n 'listed domestic public equity' 'corporate bonds'\n 'listed foreign public equity' 'state bonds'\n 'fixed term and savings deposit']<br>[0.12 0.19 0.11 0.   0.29 0.1  0.15 0.03]",
          "['other equity instruments' 'listed foreign public equity'\n 'public investment funds' 'state bonds' 'corporate bonds'\n 'fixed term and savings deposit' 'listed domestic public equity' 'cash']<br>[0.21 0.24 0.12 0.04 0.11 0.03 0.12 0.13]",
          "['corporate bonds' 'state bonds' 'listed foreign public equity'\n 'fixed term and savings deposit' 'cash' 'other equity instruments'\n 'listed domestic public equity' 'public investment funds']<br>[0.2  0.12 0.04 0.24 0.22 0.09 0.03 0.05]",
          "['other equity instruments' 'fixed term and savings deposit'\n 'public investment funds' 'cash' 'listed foreign public equity'\n 'listed domestic public equity' 'corporate bonds' 'state bonds']<br>[0.2  0.   0.19 0.14 0.14 0.05 0.2  0.08]",
          "['listed foreign public equity' 'cash' 'fixed term and savings deposit'\n 'state bonds' 'other equity instruments' 'public investment funds'\n 'corporate bonds' 'listed domestic public equity']<br>[0.21 0.17 0.03 0.28 0.08 0.02 0.16 0.05]",
          "['public investment funds' 'cash' 'fixed term and savings deposit'\n 'listed domestic public equity' 'listed foreign public equity'\n 'corporate bonds' 'state bonds' 'other equity instruments']<br>[0.01 0.12 0.12 0.04 0.11 0.18 0.22 0.2 ]",
          "['corporate bonds' 'fixed term and savings deposit'\n 'listed foreign public equity' 'cash' 'state bonds'\n 'listed domestic public equity' 'public investment funds'\n 'other equity instruments']<br>[0.18 0.22 0.06 0.15 0.2  0.02 0.03 0.13]",
          "['other equity instruments' 'listed domestic public equity' 'cash'\n 'fixed term and savings deposit' 'corporate bonds'\n 'public investment funds' 'state bonds' 'listed foreign public equity']<br>[0.24 0.   0.21 0.03 0.06 0.12 0.09 0.24]",
          "['cash' 'listed domestic public equity' 'fixed term and savings deposit'\n 'state bonds' 'public investment funds' 'corporate bonds'\n 'listed foreign public equity' 'other equity instruments']<br>[0.16 0.05 0.03 0.18 0.05 0.24 0.14 0.17]",
          "['fixed term and savings deposit' 'listed domestic public equity'\n 'listed foreign public equity' 'corporate bonds' 'cash' 'state bonds'\n 'other equity instruments' 'public investment funds']<br>[0.05 0.01 0.21 0.02 0.18 0.15 0.24 0.14]",
          "['cash' 'fixed term and savings deposit' 'listed domestic public equity'\n 'corporate bonds' 'public investment funds' 'state bonds'\n 'other equity instruments' 'listed foreign public equity']<br>[0.28 0.07 0.03 0.15 0.   0.21 0.15 0.12]",
          "['listed foreign public equity' 'public investment funds'\n 'fixed term and savings deposit' 'listed domestic public equity'\n 'state bonds' 'other equity instruments' 'corporate bonds' 'cash']<br>[0.07 0.07 0.16 0.   0.25 0.11 0.19 0.14]",
          "['other equity instruments' 'listed domestic public equity' 'cash'\n 'public investment funds' 'corporate bonds'\n 'fixed term and savings deposit' 'state bonds'\n 'listed foreign public equity']<br>[0.14 0.02 0.14 0.05 0.22 0.13 0.13 0.17]",
          "['listed domestic public equity' 'fixed term and savings deposit'\n 'listed foreign public equity' 'corporate bonds' 'state bonds'\n 'other equity instruments' 'public investment funds' 'cash']<br>[0.04 0.17 0.08 0.05 0.25 0.21 0.01 0.19]",
          "['listed domestic public equity' 'fixed term and savings deposit'\n 'state bonds' 'corporate bonds' 'public investment funds' 'cash'\n 'other equity instruments' 'listed foreign public equity']<br>[0.1  0.05 0.1  0.   0.09 0.15 0.21 0.3 ]",
          "['cash' 'public investment funds' 'fixed term and savings deposit'\n 'listed domestic public equity' 'listed foreign public equity'\n 'corporate bonds' 'other equity instruments' 'state bonds']<br>[0.14 0.09 0.   0.21 0.24 0.07 0.21 0.03]",
          "['cash' 'fixed term and savings deposit' 'listed foreign public equity'\n 'corporate bonds' 'state bonds' 'public investment funds'\n 'other equity instruments' 'listed domestic public equity']<br>[0.16 0.12 0.09 0.21 0.13 0.02 0.24 0.01]",
          "['other equity instruments' 'cash' 'corporate bonds'\n 'fixed term and savings deposit' 'state bonds'\n 'listed domestic public equity' 'listed foreign public equity'\n 'public investment funds']<br>[0.33 0.18 0.03 0.02 0.24 0.1  0.11 0.  ]",
          "['public investment funds' 'listed domestic public equity'\n 'corporate bonds' 'state bonds' 'cash' 'fixed term and savings deposit'\n 'listed foreign public equity' 'other equity instruments']<br>[0.1  0.02 0.19 0.27 0.33 0.01 0.03 0.06]",
          "['listed domestic public equity' 'listed foreign public equity'\n 'state bonds' 'fixed term and savings deposit' 'cash'\n 'public investment funds' 'other equity instruments' 'corporate bonds']<br>[0.03 0.03 0.27 0.27 0.2  0.08 0.1  0.01]",
          "['public investment funds' 'listed domestic public equity'\n 'corporate bonds' 'fixed term and savings deposit'\n 'listed foreign public equity' 'state bonds' 'other equity instruments'\n 'cash']<br>[0.   0.16 0.1  0.06 0.23 0.03 0.28 0.15]",
          "['other equity instruments' 'corporate bonds' 'public investment funds'\n 'listed domestic public equity' 'cash' 'state bonds'\n 'fixed term and savings deposit' 'listed foreign public equity']<br>[0.28 0.06 0.07 0.07 0.16 0.05 0.08 0.23]",
          "['public investment funds' 'listed foreign public equity' 'state bonds'\n 'cash' 'listed domestic public equity' 'other equity instruments'\n 'fixed term and savings deposit' 'corporate bonds']<br>[0.05 0.17 0.24 0.15 0.03 0.22 0.03 0.11]",
          "['public investment funds' 'fixed term and savings deposit'\n 'listed foreign public equity' 'state bonds' 'corporate bonds' 'cash'\n 'other equity instruments' 'listed domestic public equity']<br>[0.03 0.06 0.22 0.09 0.16 0.15 0.23 0.06]",
          "['listed foreign public equity' 'other equity instruments' 'cash'\n 'fixed term and savings deposit' 'corporate bonds'\n 'public investment funds' 'listed domestic public equity' 'state bonds']<br>[0.15 0.19 0.15 0.04 0.2  0.05 0.04 0.19]",
          "['corporate bonds' 'public investment funds'\n 'listed domestic public equity' 'cash' 'listed foreign public equity'\n 'state bonds' 'fixed term and savings deposit' 'other equity instruments']<br>[0.17 0.   0.01 0.13 0.16 0.17 0.17 0.18]",
          "['cash' 'fixed term and savings deposit' 'public investment funds'\n 'listed foreign public equity' 'state bonds' 'corporate bonds'\n 'listed domestic public equity' 'other equity instruments']<br>[0.16 0.05 0.   0.22 0.16 0.14 0.   0.27]",
          "['other equity instruments' 'cash' 'corporate bonds'\n 'public investment funds' 'state bonds' 'listed foreign public equity'\n 'listed domestic public equity' 'fixed term and savings deposit']<br>[0.13 0.24 0.03 0.   0.26 0.11 0.02 0.2 ]",
          "['state bonds' 'public investment funds' 'listed domestic public equity'\n 'other equity instruments' 'corporate bonds'\n 'fixed term and savings deposit' 'listed foreign public equity' 'cash']<br>[0.31 0.02 0.06 0.11 0.15 0.07 0.13 0.16]",
          "['fixed term and savings deposit' 'listed foreign public equity'\n 'listed domestic public equity' 'cash' 'corporate bonds'\n 'public investment funds' 'state bonds' 'other equity instruments']<br>[0.07 0.16 0.05 0.16 0.18 0.   0.18 0.19]",
          "['listed foreign public equity' 'listed domestic public equity'\n 'public investment funds' 'other equity instruments' 'state bonds' 'cash'\n 'fixed term and savings deposit' 'corporate bonds']<br>[0.13 0.   0.02 0.2  0.21 0.18 0.17 0.08]",
          "['other equity instruments' 'public investment funds' 'cash'\n 'corporate bonds' 'listed domestic public equity'\n 'listed foreign public equity' 'state bonds'\n 'fixed term and savings deposit']<br>[0.17 0.02 0.2  0.06 0.01 0.24 0.3  0.  ]",
          "['state bonds' 'other equity instruments' 'listed domestic public equity'\n 'listed foreign public equity' 'cash' 'corporate bonds'\n 'fixed term and savings deposit' 'public investment funds']<br>[0.24 0.09 0.04 0.07 0.19 0.25 0.1  0.02]",
          "['state bonds' 'public investment funds' 'listed domestic public equity'\n 'other equity instruments' 'corporate bonds'\n 'fixed term and savings deposit' 'cash' 'listed foreign public equity']<br>[0.29 0.07 0.03 0.17 0.12 0.02 0.17 0.12]",
          "['other equity instruments' 'public investment funds'\n 'listed foreign public equity' 'corporate bonds'\n 'fixed term and savings deposit' 'listed domestic public equity' 'cash'\n 'state bonds']<br>[0.01 0.04 0.18 0.06 0.24 0.02 0.22 0.23]",
          "['public investment funds' 'corporate bonds'\n 'listed domestic public equity' 'fixed term and savings deposit'\n 'state bonds' 'cash' 'other equity instruments'\n 'listed foreign public equity']<br>[0.05 0.16 0.03 0.01 0.31 0.13 0.1  0.22]",
          "['public investment funds' 'fixed term and savings deposit'\n 'listed foreign public equity' 'other equity instruments'\n 'corporate bonds' 'cash' 'state bonds' 'listed domestic public equity']<br>[0.01 0.17 0.07 0.02 0.26 0.25 0.2  0.02]",
          "['corporate bonds' 'public investment funds'\n 'listed domestic public equity' 'cash' 'listed foreign public equity'\n 'state bonds' 'other equity instruments' 'fixed term and savings deposit']<br>[0.1  0.05 0.   0.22 0.06 0.22 0.08 0.26]",
          "['corporate bonds' 'public investment funds'\n 'listed foreign public equity' 'listed domestic public equity'\n 'state bonds' 'other equity instruments' 'cash'\n 'fixed term and savings deposit']<br>[0.25 0.   0.17 0.01 0.32 0.03 0.16 0.07]",
          "['public investment funds' 'corporate bonds'\n 'listed domestic public equity' 'fixed term and savings deposit' 'cash'\n 'listed foreign public equity' 'other equity instruments' 'state bonds']<br>[0.02 0.26 0.06 0.   0.14 0.09 0.14 0.29]",
          "['corporate bonds' 'public investment funds'\n 'listed domestic public equity' 'state bonds'\n 'listed foreign public equity' 'fixed term and savings deposit' 'cash'\n 'other equity instruments']<br>[0.11 0.04 0.03 0.26 0.06 0.22 0.24 0.04]",
          "['listed foreign public equity' 'fixed term and savings deposit'\n 'other equity instruments' 'listed domestic public equity'\n 'corporate bonds' 'public investment funds' 'cash' 'state bonds']<br>[0.26 0.07 0.01 0.01 0.08 0.05 0.21 0.3 ]",
          "['fixed term and savings deposit' 'listed foreign public equity'\n 'other equity instruments' 'cash' 'listed domestic public equity'\n 'corporate bonds' 'state bonds' 'public investment funds']<br>[0.05 0.3  0.2  0.13 0.01 0.06 0.15 0.12]",
          "['public investment funds' 'other equity instruments' 'corporate bonds'\n 'listed domestic public equity' 'cash' 'state bonds'\n 'listed foreign public equity' 'fixed term and savings deposit']<br>[0.07 0.13 0.17 0.02 0.16 0.19 0.17 0.1 ]",
          "['fixed term and savings deposit' 'other equity instruments'\n 'corporate bonds' 'public investment funds' 'cash'\n 'listed foreign public equity' 'listed domestic public equity'\n 'state bonds']<br>[0.08 0.06 0.19 0.05 0.27 0.12 0.   0.23]",
          "['corporate bonds' 'cash' 'listed foreign public equity'\n 'fixed term and savings deposit' 'other equity instruments'\n 'listed domestic public equity' 'state bonds' 'public investment funds']<br>[0.23 0.23 0.04 0.25 0.01 0.04 0.17 0.02]",
          "['fixed term and savings deposit' 'listed domestic public equity'\n 'public investment funds' 'state bonds' 'cash'\n 'listed foreign public equity' 'corporate bonds'\n 'other equity instruments']<br>[0.28 0.01 0.13 0.3  0.13 0.04 0.04 0.07]",
          "['cash' 'state bonds' 'listed foreign public equity'\n 'listed domestic public equity' 'other equity instruments'\n 'corporate bonds' 'fixed term and savings deposit'\n 'public investment funds']<br>[0.21 0.16 0.15 0.02 0.11 0.16 0.17 0.  ]",
          "['cash' 'listed domestic public equity' 'corporate bonds' 'state bonds'\n 'public investment funds' 'fixed term and savings deposit'\n 'other equity instruments' 'listed foreign public equity']<br>[0.16 0.07 0.07 0.15 0.02 0.01 0.23 0.3 ]",
          "['state bonds' 'cash' 'other equity instruments' 'corporate bonds'\n 'fixed term and savings deposit' 'listed domestic public equity'\n 'listed foreign public equity' 'public investment funds']<br>[0.26 0.12 0.25 0.06 0.   0.01 0.28 0.03]",
          "['fixed term and savings deposit' 'corporate bonds' 'state bonds'\n 'listed foreign public equity' 'cash' 'other equity instruments'\n 'listed domestic public equity' 'public investment funds']<br>[0.14 0.17 0.18 0.17 0.14 0.13 0.   0.06]",
          "['public investment funds' 'fixed term and savings deposit'\n 'other equity instruments' 'listed foreign public equity'\n 'corporate bonds' 'cash' 'state bonds' 'listed domestic public equity']<br>[0.   0.12 0.12 0.13 0.23 0.17 0.2  0.04]",
          "['listed foreign public equity' 'cash' 'listed domestic public equity'\n 'public investment funds' 'fixed term and savings deposit'\n 'other equity instruments' 'state bonds' 'corporate bonds']<br>[0.28 0.13 0.13 0.15 0.05 0.2  0.06 0.01]",
          "['cash' 'listed foreign public equity' 'public investment funds'\n 'state bonds' 'fixed term and savings deposit' 'corporate bonds'\n 'other equity instruments' 'listed domestic public equity']<br>[0.12 0.19 0.02 0.14 0.22 0.15 0.16 0.  ]",
          "['fixed term and savings deposit' 'public investment funds'\n 'other equity instruments' 'cash' 'listed domestic public equity'\n 'listed foreign public equity' 'state bonds' 'corporate bonds']<br>[0.09 0.09 0.08 0.14 0.01 0.16 0.21 0.22]",
          "['public investment funds' 'corporate bonds'\n 'listed domestic public equity' 'listed foreign public equity'\n 'state bonds' 'fixed term and savings deposit' 'other equity instruments'\n 'cash']<br>[0.01 0.26 0.05 0.04 0.3  0.02 0.14 0.17]",
          "['fixed term and savings deposit' 'state bonds'\n 'listed foreign public equity' 'listed domestic public equity' 'cash'\n 'corporate bonds' 'other equity instruments' 'public investment funds']<br>[0.2  0.26 0.03 0.01 0.24 0.15 0.08 0.02]",
          "['cash' 'listed domestic public equity' 'listed foreign public equity'\n 'public investment funds' 'other equity instruments'\n 'fixed term and savings deposit' 'corporate bonds' 'state bonds']<br>[0.23 0.   0.06 0.03 0.1  0.26 0.   0.31]",
          "['fixed term and savings deposit' 'state bonds' 'cash'\n 'other equity instruments' 'corporate bonds'\n 'listed foreign public equity' 'listed domestic public equity'\n 'public investment funds']<br>[0.09 0.2  0.15 0.14 0.2  0.2  0.02 0.  ]",
          "['other equity instruments' 'listed domestic public equity'\n 'corporate bonds' 'cash' 'listed foreign public equity'\n 'fixed term and savings deposit' 'state bonds' 'public investment funds']<br>[0.08 0.01 0.2  0.15 0.18 0.21 0.16 0.02]",
          "['state bonds' 'other equity instruments' 'corporate bonds'\n 'fixed term and savings deposit' 'public investment funds' 'cash'\n 'listed foreign public equity' 'listed domestic public equity']<br>[0.19 0.21 0.13 0.06 0.   0.15 0.24 0.02]",
          "['other equity instruments' 'fixed term and savings deposit' 'state bonds'\n 'public investment funds' 'listed domestic public equity'\n 'corporate bonds' 'listed foreign public equity' 'cash']<br>[0.17 0.27 0.26 0.   0.   0.06 0.11 0.13]",
          "['other equity instruments' 'state bonds' 'public investment funds' 'cash'\n 'corporate bonds' 'listed domestic public equity'\n 'listed foreign public equity' 'fixed term and savings deposit']<br>[0.02 0.29 0.01 0.13 0.19 0.03 0.12 0.21]",
          "['state bonds' 'listed foreign public equity'\n 'fixed term and savings deposit' 'cash' 'listed domestic public equity'\n 'other equity instruments' 'corporate bonds' 'public investment funds']<br>[0.23 0.02 0.23 0.27 0.02 0.02 0.19 0.02]",
          "['fixed term and savings deposit' 'state bonds' 'other equity instruments'\n 'cash' 'corporate bonds' 'listed foreign public equity'\n 'public investment funds' 'listed domestic public equity']<br>[0.   0.25 0.22 0.12 0.22 0.15 0.02 0.  ]",
          "['other equity instruments' 'listed domestic public equity'\n 'public investment funds' 'fixed term and savings deposit'\n 'listed foreign public equity' 'state bonds' 'cash' 'corporate bonds']<br>[0.21 0.02 0.   0.07 0.18 0.19 0.17 0.16]",
          "['fixed term and savings deposit' 'public investment funds'\n 'corporate bonds' 'listed domestic public equity' 'state bonds' 'cash'\n 'other equity instruments' 'listed foreign public equity']<br>[0.12 0.05 0.08 0.   0.25 0.2  0.11 0.19]",
          "['state bonds' 'other equity instruments' 'listed domestic public equity'\n 'public investment funds' 'listed foreign public equity'\n 'corporate bonds' 'cash' 'fixed term and savings deposit']<br>[0.03 0.31 0.09 0.04 0.22 0.05 0.14 0.14]",
          "['other equity instruments' 'cash' 'state bonds'\n 'listed foreign public equity' 'listed domestic public equity'\n 'fixed term and savings deposit' 'public investment funds'\n 'corporate bonds']<br>[0.26 0.13 0.15 0.23 0.12 0.02 0.   0.09]",
          "['listed domestic public equity' 'cash' 'other equity instruments'\n 'fixed term and savings deposit' 'state bonds' 'public investment funds'\n 'listed foreign public equity' 'corporate bonds']<br>[0.03 0.14 0.14 0.2  0.25 0.   0.17 0.07]",
          "['other equity instruments' 'listed domestic public equity' 'cash'\n 'fixed term and savings deposit' 'public investment funds'\n 'listed foreign public equity' 'state bonds' 'corporate bonds']<br>[0.14 0.01 0.22 0.01 0.03 0.09 0.29 0.2 ]",
          "['listed foreign public equity' 'state bonds' 'cash'\n 'listed domestic public equity' 'fixed term and savings deposit'\n 'corporate bonds' 'public investment funds' 'other equity instruments']<br>[0.3  0.08 0.12 0.13 0.   0.05 0.08 0.23]",
          "['listed foreign public equity' 'other equity instruments'\n 'corporate bonds' 'public investment funds' 'cash'\n 'fixed term and savings deposit' 'state bonds'\n 'listed domestic public equity']<br>[0.15 0.12 0.2  0.03 0.21 0.05 0.23 0.02]",
          "['fixed term and savings deposit' 'listed foreign public equity'\n 'corporate bonds' 'other equity instruments' 'state bonds'\n 'public investment funds' 'listed domestic public equity' 'cash']<br>[0.   0.22 0.2  0.22 0.21 0.02 0.01 0.13]",
          "['corporate bonds' 'listed foreign public equity' 'cash'\n 'listed domestic public equity' 'fixed term and savings deposit'\n 'public investment funds' 'other equity instruments' 'state bonds']<br>[0.22 0.04 0.13 0.05 0.05 0.03 0.17 0.3 ]",
          "['cash' 'corporate bonds' 'state bonds' 'listed foreign public equity'\n 'fixed term and savings deposit' 'public investment funds'\n 'listed domestic public equity' 'other equity instruments']<br>[0.13 0.18 0.26 0.08 0.3  0.04 0.   0.02]",
          "['listed foreign public equity' 'listed domestic public equity'\n 'corporate bonds' 'other equity instruments' 'public investment funds'\n 'state bonds' 'fixed term and savings deposit' 'cash']<br>[0.15 0.01 0.19 0.22 0.02 0.21 0.03 0.17]",
          "['state bonds' 'corporate bonds' 'other equity instruments'\n 'listed foreign public equity' 'cash' 'fixed term and savings deposit'\n 'listed domestic public equity' 'public investment funds']<br>[0.19 0.23 0.15 0.2  0.17 0.04 0.   0.02]",
          "['listed foreign public equity' 'cash' 'fixed term and savings deposit'\n 'other equity instruments' 'public investment funds' 'corporate bonds'\n 'listed domestic public equity' 'state bonds']<br>[0.11 0.14 0.3  0.03 0.05 0.06 0.03 0.3 ]",
          "['cash' 'state bonds' 'corporate bonds' 'other equity instruments'\n 'fixed term and savings deposit' 'public investment funds'\n 'listed foreign public equity' 'listed domestic public equity']<br>[0.17 0.13 0.02 0.27 0.01 0.04 0.23 0.13]",
          "['other equity instruments' 'listed foreign public equity'\n 'listed domestic public equity' 'public investment funds'\n 'corporate bonds' 'state bonds' 'fixed term and savings deposit' 'cash']<br>[0.28 0.25 0.04 0.04 0.13 0.1  0.01 0.16]",
          "['listed domestic public equity' 'corporate bonds'\n 'listed foreign public equity' 'fixed term and savings deposit'\n 'state bonds' 'cash' 'other equity instruments' 'public investment funds']<br>[0.   0.13 0.01 0.25 0.23 0.23 0.04 0.1 ]",
          "['other equity instruments' 'public investment funds' 'cash'\n 'listed domestic public equity' 'state bonds' 'corporate bonds'\n 'fixed term and savings deposit' 'listed foreign public equity']<br>[0.15 0.05 0.12 0.01 0.26 0.06 0.19 0.16]",
          "['state bonds' 'other equity instruments' 'listed foreign public equity'\n 'corporate bonds' 'public investment funds'\n 'fixed term and savings deposit' 'cash' 'listed domestic public equity']<br>[0.26 0.1  0.01 0.22 0.   0.24 0.17 0.  ]",
          "['listed domestic public equity' 'cash' 'state bonds'\n 'listed foreign public equity' 'other equity instruments'\n 'fixed term and savings deposit' 'corporate bonds'\n 'public investment funds']<br>[0.01 0.22 0.24 0.06 0.02 0.28 0.11 0.05]",
          "['public investment funds' 'corporate bonds' 'cash'\n 'fixed term and savings deposit' 'listed domestic public equity'\n 'listed foreign public equity' 'state bonds' 'other equity instruments']<br>[0.04 0.2  0.17 0.06 0.   0.12 0.19 0.23]",
          "['other equity instruments' 'listed domestic public equity'\n 'fixed term and savings deposit' 'listed foreign public equity'\n 'state bonds' 'cash' 'public investment funds' 'corporate bonds']<br>[0.01 0.03 0.09 0.02 0.32 0.29 0.01 0.22]",
          "['fixed term and savings deposit' 'state bonds'\n 'listed foreign public equity' 'cash' 'listed domestic public equity'\n 'other equity instruments' 'public investment funds' 'corporate bonds']<br>[0.22 0.21 0.13 0.17 0.02 0.03 0.03 0.18]",
          "['other equity instruments' 'fixed term and savings deposit'\n 'listed domestic public equity' 'public investment funds'\n 'corporate bonds' 'state bonds' 'cash' 'listed foreign public equity']<br>[0.3  0.06 0.06 0.   0.03 0.   0.24 0.31]",
          "['listed domestic public equity' 'cash' 'state bonds'\n 'fixed term and savings deposit' 'other equity instruments'\n 'listed foreign public equity' 'corporate bonds'\n 'public investment funds']<br>[0.04 0.21 0.26 0.26 0.03 0.02 0.16 0.02]",
          "['cash' 'corporate bonds' 'listed domestic public equity'\n 'listed foreign public equity' 'other equity instruments'\n 'public investment funds' 'state bonds' 'fixed term and savings deposit']<br>[0.13 0.09 0.01 0.19 0.19 0.09 0.23 0.07]",
          "['other equity instruments' 'corporate bonds' 'public investment funds'\n 'listed domestic public equity' 'fixed term and savings deposit'\n 'state bonds' 'listed foreign public equity' 'cash']<br>[0.14 0.2  0.08 0.01 0.03 0.26 0.1  0.17]",
          "['state bonds' 'listed domestic public equity' 'cash'\n 'listed foreign public equity' 'corporate bonds'\n 'public investment funds' 'fixed term and savings deposit'\n 'other equity instruments']<br>[0.27 0.01 0.17 0.18 0.25 0.04 0.06 0.02]",
          "['fixed term and savings deposit' 'corporate bonds'\n 'other equity instruments' 'state bonds' 'cash' 'public investment funds'\n 'listed foreign public equity' 'listed domestic public equity']<br>[0.14 0.22 0.11 0.22 0.12 0.04 0.13 0.02]",
          "['other equity instruments' 'fixed term and savings deposit'\n 'public investment funds' 'state bonds' 'corporate bonds' 'cash'\n 'listed domestic public equity' 'listed foreign public equity']<br>[0.07 0.12 0.08 0.26 0.15 0.23 0.   0.09]",
          "['corporate bonds' 'listed domestic public equity'\n 'listed foreign public equity' 'other equity instruments'\n 'fixed term and savings deposit' 'state bonds' 'public investment funds'\n 'cash']<br>[0.21 0.02 0.15 0.11 0.03 0.26 0.01 0.21]",
          "['state bonds' 'fixed term and savings deposit'\n 'listed foreign public equity' 'cash' 'public investment funds'\n 'other equity instruments' 'corporate bonds'\n 'listed domestic public equity']<br>[0.26 0.23 0.1  0.14 0.01 0.22 0.05 0.  ]",
          "['state bonds' 'public investment funds' 'listed domestic public equity'\n 'other equity instruments' 'corporate bonds' 'cash'\n 'fixed term and savings deposit' 'listed foreign public equity']<br>[0.21 0.01 0.02 0.18 0.17 0.18 0.   0.23]",
          "['public investment funds' 'corporate bonds'\n 'listed foreign public equity' 'cash' 'listed domestic public equity'\n 'fixed term and savings deposit' 'state bonds' 'other equity instruments']<br>[0.01 0.09 0.16 0.22 0.02 0.24 0.25 0.02]",
          "['listed domestic public equity' 'public investment funds'\n 'other equity instruments' 'fixed term and savings deposit'\n 'corporate bonds' 'listed foreign public equity' 'state bonds' 'cash']<br>[0.03 0.03 0.21 0.07 0.15 0.15 0.2  0.17]",
          "['corporate bonds' 'listed foreign public equity' 'cash'\n 'other equity instruments' 'listed domestic public equity'\n 'public investment funds' 'state bonds' 'fixed term and savings deposit']<br>[0.09 0.21 0.18 0.29 0.02 0.01 0.1  0.1 ]",
          "['state bonds' 'listed foreign public equity' 'public investment funds'\n 'corporate bonds' 'listed domestic public equity' 'cash'\n 'other equity instruments' 'fixed term and savings deposit']<br>[0.02 0.3  0.   0.01 0.13 0.21 0.31 0.03]",
          "['fixed term and savings deposit' 'corporate bonds'\n 'public investment funds' 'listed foreign public equity'\n 'other equity instruments' 'state bonds' 'listed domestic public equity'\n 'cash']<br>[0.03 0.19 0.03 0.16 0.14 0.21 0.   0.23]",
          "['fixed term and savings deposit' 'cash' 'listed foreign public equity'\n 'other equity instruments' 'listed domestic public equity' 'state bonds'\n 'public investment funds' 'corporate bonds']<br>[0.08 0.17 0.17 0.12 0.   0.23 0.02 0.21]",
          "['public investment funds' 'corporate bonds'\n 'listed domestic public equity' 'cash' 'other equity instruments'\n 'listed foreign public equity' 'state bonds'\n 'fixed term and savings deposit']<br>[0.   0.19 0.02 0.2  0.14 0.2  0.16 0.1 ]",
          "['cash' 'state bonds' 'corporate bonds' 'listed domestic public equity'\n 'public investment funds' 'other equity instruments'\n 'listed foreign public equity' 'fixed term and savings deposit']<br>[0.12 0.31 0.1  0.01 0.02 0.05 0.1  0.28]",
          "['other equity instruments' 'fixed term and savings deposit' 'state bonds'\n 'public investment funds' 'listed domestic public equity'\n 'listed foreign public equity' 'corporate bonds' 'cash']<br>[0.24 0.   0.24 0.03 0.02 0.07 0.25 0.13]",
          "['listed domestic public equity' 'state bonds'\n 'listed foreign public equity' 'public investment funds'\n 'corporate bonds' 'other equity instruments' 'cash'\n 'fixed term and savings deposit']<br>[0.01 0.25 0.25 0.04 0.23 0.09 0.12 0.  ]",
          "['other equity instruments' 'fixed term and savings deposit'\n 'listed domestic public equity' 'state bonds' 'corporate bonds'\n 'listed foreign public equity' 'cash' 'public investment funds']<br>[0.28 0.02 0.05 0.25 0.02 0.16 0.17 0.05]",
          "['public investment funds' 'listed domestic public equity' 'cash'\n 'fixed term and savings deposit' 'corporate bonds'\n 'other equity instruments' 'state bonds' 'listed foreign public equity']<br>[0.01 0.   0.28 0.17 0.18 0.02 0.26 0.07]",
          "['public investment funds' 'state bonds' 'cash'\n 'fixed term and savings deposit' 'other equity instruments'\n 'listed domestic public equity' 'corporate bonds'\n 'listed foreign public equity']<br>[0.02 0.13 0.17 0.   0.18 0.01 0.24 0.24]",
          "['cash' 'public investment funds' 'state bonds'\n 'fixed term and savings deposit' 'listed domestic public equity'\n 'corporate bonds' 'other equity instruments'\n 'listed foreign public equity']<br>[0.15 0.03 0.08 0.04 0.01 0.21 0.23 0.25]",
          "['fixed term and savings deposit' 'state bonds'\n 'listed domestic public equity' 'other equity instruments'\n 'listed foreign public equity' 'corporate bonds' 'cash'\n 'public investment funds']<br>[0.04 0.3  0.02 0.11 0.08 0.29 0.15 0.01]",
          "['corporate bonds' 'listed domestic public equity' 'cash'\n 'public investment funds' 'state bonds' 'listed foreign public equity'\n 'fixed term and savings deposit' 'other equity instruments']<br>[0.23 0.02 0.13 0.07 0.26 0.06 0.02 0.19]",
          "['public investment funds' 'state bonds' 'fixed term and savings deposit'\n 'corporate bonds' 'cash' 'listed domestic public equity'\n 'other equity instruments' 'listed foreign public equity']<br>[0.   0.12 0.04 0.06 0.15 0.1  0.26 0.28]",
          "['listed domestic public equity' 'listed foreign public equity'\n 'public investment funds' 'fixed term and savings deposit'\n 'corporate bonds' 'other equity instruments' 'cash' 'state bonds']<br>[0.15 0.31 0.09 0.   0.   0.3  0.13 0.01]",
          "['other equity instruments' 'state bonds' 'cash'\n 'listed foreign public equity' 'corporate bonds'\n 'listed domestic public equity' 'fixed term and savings deposit'\n 'public investment funds']<br>[0.25 0.2  0.13 0.21 0.07 0.   0.12 0.02]",
          "['other equity instruments' 'state bonds' 'listed foreign public equity'\n 'public investment funds' 'corporate bonds'\n 'fixed term and savings deposit' 'cash' 'listed domestic public equity']<br>[0.19 0.2  0.09 0.   0.26 0.05 0.17 0.04]",
          "['listed domestic public equity' 'cash' 'public investment funds'\n 'other equity instruments' 'fixed term and savings deposit'\n 'corporate bonds' 'state bonds' 'listed foreign public equity']<br>[0.   0.21 0.01 0.05 0.11 0.2  0.29 0.11]",
          "['listed foreign public equity' 'other equity instruments'\n 'public investment funds' 'corporate bonds' 'state bonds' 'cash'\n 'fixed term and savings deposit' 'listed domestic public equity']<br>[0.25 0.27 0.11 0.06 0.   0.17 0.06 0.08]",
          "['public investment funds' 'cash' 'corporate bonds'\n 'fixed term and savings deposit' 'state bonds'\n 'listed foreign public equity' 'other equity instruments'\n 'listed domestic public equity']<br>[0.02 0.15 0.23 0.12 0.15 0.2  0.12 0.01]",
          "['fixed term and savings deposit' 'other equity instruments'\n 'corporate bonds' 'listed domestic public equity'\n 'listed foreign public equity' 'state bonds' 'cash'\n 'public investment funds']<br>[0.09 0.33 0.03 0.08 0.23 0.06 0.14 0.06]",
          "['corporate bonds' 'listed foreign public equity'\n 'listed domestic public equity' 'public investment funds' 'cash'\n 'fixed term and savings deposit' 'state bonds' 'other equity instruments']<br>[0.21 0.08 0.02 0.05 0.12 0.23 0.22 0.06]",
          "['listed domestic public equity' 'other equity instruments'\n 'fixed term and savings deposit' 'corporate bonds'\n 'public investment funds' 'state bonds' 'listed foreign public equity'\n 'cash']<br>[0.01 0.13 0.19 0.22 0.   0.21 0.11 0.13]",
          "['listed foreign public equity' 'cash' 'state bonds'\n 'listed domestic public equity' 'corporate bonds'\n 'fixed term and savings deposit' 'public investment funds'\n 'other equity instruments']<br>[0.15 0.12 0.26 0.   0.13 0.05 0.03 0.25]",
          "['state bonds' 'corporate bonds' 'other equity instruments'\n 'fixed term and savings deposit' 'listed foreign public equity'\n 'public investment funds' 'cash' 'listed domestic public equity']<br>[0.28 0.22 0.09 0.21 0.   0.02 0.15 0.02]",
          "['listed domestic public equity' 'listed foreign public equity'\n 'public investment funds' 'cash' 'other equity instruments'\n 'fixed term and savings deposit' 'corporate bonds' 'state bonds']<br>[0.01 0.02 0.07 0.25 0.   0.31 0.1  0.24]",
          "['corporate bonds' 'public investment funds' 'other equity instruments'\n 'listed foreign public equity' 'listed domestic public equity' 'cash'\n 'state bonds' 'fixed term and savings deposit']<br>[0.07 0.07 0.27 0.26 0.07 0.12 0.09 0.04]",
          "['listed foreign public equity' 'other equity instruments'\n 'fixed term and savings deposit' 'cash' 'corporate bonds'\n 'public investment funds' 'state bonds' 'listed domestic public equity']<br>[0.25 0.29 0.06 0.13 0.22 0.02 0.01 0.02]",
          "['state bonds' 'listed domestic public equity'\n 'listed foreign public equity' 'cash' 'other equity instruments'\n 'fixed term and savings deposit' 'public investment funds'\n 'corporate bonds']<br>[0.22 0.02 0.22 0.18 0.08 0.02 0.   0.24]",
          "['state bonds' 'fixed term and savings deposit' 'cash'\n 'listed foreign public equity' 'other equity instruments'\n 'public investment funds' 'corporate bonds'\n 'listed domestic public equity']<br>[0.22 0.18 0.13 0.18 0.18 0.01 0.1  0.  ]",
          "['fixed term and savings deposit' 'listed domestic public equity'\n 'state bonds' 'other equity instruments' 'corporate bonds'\n 'public investment funds' 'cash' 'listed foreign public equity']<br>[0.01 0.02 0.11 0.3  0.02 0.08 0.19 0.26]",
          "['other equity instruments' 'fixed term and savings deposit'\n 'listed foreign public equity' 'state bonds'\n 'listed domestic public equity' 'public investment funds' 'cash'\n 'corporate bonds']<br>[0.23 0.03 0.23 0.03 0.01 0.02 0.14 0.31]",
          "['listed foreign public equity' 'state bonds' 'other equity instruments'\n 'public investment funds' 'fixed term and savings deposit' 'cash'\n 'corporate bonds' 'listed domestic public equity']<br>[0.21 0.02 0.33 0.01 0.08 0.12 0.22 0.01]",
          "['state bonds' 'other equity instruments' 'cash' 'public investment funds'\n 'corporate bonds' 'fixed term and savings deposit'\n 'listed foreign public equity' 'listed domestic public equity']<br>[0.13 0.3  0.12 0.06 0.08 0.   0.28 0.02]",
          "['listed domestic public equity' 'cash' 'other equity instruments'\n 'state bonds' 'corporate bonds' 'fixed term and savings deposit'\n 'public investment funds' 'listed foreign public equity']<br>[0.01 0.12 0.22 0.22 0.17 0.03 0.02 0.21]",
          "['fixed term and savings deposit' 'public investment funds' 'state bonds'\n 'listed foreign public equity' 'listed domestic public equity' 'cash'\n 'other equity instruments' 'corporate bonds']<br>[0.21 0.03 0.26 0.12 0.01 0.19 0.   0.19]",
          "['other equity instruments' 'listed domestic public equity'\n 'corporate bonds' 'listed foreign public equity'\n 'public investment funds' 'state bonds' 'fixed term and savings deposit'\n 'cash']<br>[0.27 0.11 0.08 0.3  0.01 0.09 0.01 0.12]",
          "['listed domestic public equity' 'fixed term and savings deposit' 'cash'\n 'listed foreign public equity' 'corporate bonds'\n 'public investment funds' 'other equity instruments' 'state bonds']<br>[0.03 0.08 0.15 0.2  0.1  0.02 0.18 0.24]",
          "['other equity instruments' 'corporate bonds' 'cash'\n 'fixed term and savings deposit' 'listed foreign public equity'\n 'state bonds' 'listed domestic public equity' 'public investment funds']<br>[0.23 0.02 0.12 0.01 0.27 0.21 0.07 0.08]",
          "['fixed term and savings deposit' 'public investment funds'\n 'listed foreign public equity' 'other equity instruments'\n 'listed domestic public equity' 'state bonds' 'corporate bonds' 'cash']<br>[0.11 0.01 0.09 0.04 0.01 0.29 0.18 0.27]",
          "['listed domestic public equity' 'public investment funds' 'cash'\n 'other equity instruments' 'state bonds' 'corporate bonds'\n 'fixed term and savings deposit' 'listed foreign public equity']<br>[0.   0.02 0.23 0.02 0.2  0.17 0.29 0.07]",
          "['fixed term and savings deposit' 'state bonds' 'other equity instruments'\n 'corporate bonds' 'listed domestic public equity' 'cash'\n 'public investment funds' 'listed foreign public equity']<br>[0.03 0.25 0.17 0.2  0.03 0.19 0.01 0.13]",
          "['other equity instruments' 'state bonds' 'listed domestic public equity'\n 'fixed term and savings deposit' 'listed foreign public equity' 'cash'\n 'corporate bonds' 'public investment funds']<br>[0.32 0.   0.01 0.08 0.25 0.12 0.04 0.18]",
          "['cash' 'listed domestic public equity' 'public investment funds'\n 'state bonds' 'listed foreign public equity' 'other equity instruments'\n 'corporate bonds' 'fixed term and savings deposit']<br>[0.14 0.01 0.03 0.23 0.24 0.08 0.18 0.08]",
          "['cash' 'corporate bonds' 'public investment funds'\n 'fixed term and savings deposit' 'listed foreign public equity'\n 'listed domestic public equity' 'state bonds' 'other equity instruments']<br>[0.13 0.13 0.   0.18 0.07 0.04 0.29 0.17]",
          "['fixed term and savings deposit' 'corporate bonds'\n 'listed foreign public equity' 'other equity instruments'\n 'listed domestic public equity' 'public investment funds' 'state bonds'\n 'cash']<br>[0.1  0.04 0.25 0.14 0.01 0.01 0.33 0.12]",
          "['other equity instruments' 'corporate bonds' 'public investment funds'\n 'listed domestic public equity' 'cash' 'fixed term and savings deposit'\n 'listed foreign public equity' 'state bonds']<br>[0.01 0.13 0.01 0.   0.28 0.3  0.06 0.21]",
          "['fixed term and savings deposit' 'listed domestic public equity'\n 'corporate bonds' 'cash' 'listed foreign public equity'\n 'other equity instruments' 'public investment funds' 'state bonds']<br>[0.01 0.01 0.12 0.12 0.13 0.23 0.08 0.3 ]",
          "['listed foreign public equity' 'public investment funds'\n 'listed domestic public equity' 'other equity instruments' 'state bonds'\n 'corporate bonds' 'cash' 'fixed term and savings deposit']<br>[0.13 0.1  0.   0.08 0.26 0.17 0.13 0.12]",
          "['cash' 'corporate bonds' 'listed foreign public equity'\n 'fixed term and savings deposit' 'other equity instruments'\n 'public investment funds' 'state bonds' 'listed domestic public equity']<br>[0.2  0.17 0.17 0.07 0.15 0.01 0.23 0.  ]",
          "['public investment funds' 'corporate bonds' 'cash'\n 'listed foreign public equity' 'listed domestic public equity'\n 'state bonds' 'other equity instruments' 'fixed term and savings deposit']<br>[0.   0.15 0.17 0.04 0.02 0.27 0.06 0.29]",
          "['fixed term and savings deposit' 'listed foreign public equity' 'cash'\n 'public investment funds' 'state bonds' 'other equity instruments'\n 'corporate bonds' 'listed domestic public equity']<br>[0.18 0.19 0.12 0.01 0.19 0.14 0.16 0.  ]",
          "['corporate bonds' 'other equity instruments'\n 'listed foreign public equity' 'public investment funds'\n 'listed domestic public equity' 'cash' 'state bonds'\n 'fixed term and savings deposit']<br>[0.26 0.05 0.06 0.04 0.01 0.13 0.18 0.27]",
          "['listed domestic public equity' 'state bonds' 'corporate bonds'\n 'other equity instruments' 'cash' 'public investment funds'\n 'fixed term and savings deposit' 'listed foreign public equity']<br>[0.04 0.33 0.14 0.11 0.2  0.01 0.13 0.04]",
          "['fixed term and savings deposit' 'listed domestic public equity'\n 'public investment funds' 'cash' 'state bonds' 'other equity instruments'\n 'listed foreign public equity' 'corporate bonds']<br>[0.16 0.05 0.02 0.14 0.28 0.08 0.03 0.24]",
          "['state bonds' 'cash' 'listed domestic public equity'\n 'other equity instruments' 'corporate bonds' 'public investment funds'\n 'fixed term and savings deposit' 'listed foreign public equity']<br>[0.23 0.23 0.01 0.03 0.24 0.03 0.15 0.06]",
          "['listed domestic public equity' 'fixed term and savings deposit'\n 'listed foreign public equity' 'other equity instruments' 'state bonds'\n 'cash' 'public investment funds' 'corporate bonds']<br>[0.01 0.1  0.19 0.11 0.24 0.18 0.   0.17]",
          "['cash' 'fixed term and savings deposit' 'state bonds' 'corporate bonds'\n 'listed foreign public equity' 'public investment funds'\n 'listed domestic public equity' 'other equity instruments']<br>[0.16 0.19 0.26 0.27 0.05 0.04 0.01 0.01]",
          "['listed foreign public equity' 'other equity instruments'\n 'public investment funds' 'state bonds' 'cash'\n 'fixed term and savings deposit' 'listed domestic public equity'\n 'corporate bonds']<br>[0.23 0.17 0.08 0.28 0.12 0.03 0.   0.1 ]",
          "['public investment funds' 'state bonds' 'other equity instruments'\n 'corporate bonds' 'fixed term and savings deposit'\n 'listed foreign public equity' 'listed domestic public equity' 'cash']<br>[0.03 0.24 0.12 0.13 0.12 0.22 0.01 0.14]",
          "['corporate bonds' 'cash' 'listed foreign public equity'\n 'other equity instruments' 'fixed term and savings deposit'\n 'public investment funds' 'state bonds' 'listed domestic public equity']<br>[0.01 0.15 0.26 0.32 0.02 0.03 0.08 0.13]",
          "['listed foreign public equity' 'public investment funds' 'state bonds'\n 'listed domestic public equity' 'corporate bonds'\n 'fixed term and savings deposit' 'cash' 'other equity instruments']<br>[0.1  0.01 0.31 0.05 0.19 0.13 0.17 0.04]",
          "['cash' 'listed foreign public equity' 'corporate bonds'\n 'fixed term and savings deposit' 'state bonds' 'public investment funds'\n 'other equity instruments' 'listed domestic public equity']<br>[0.13 0.25 0.06 0.04 0.12 0.12 0.29 0.  ]",
          "['other equity instruments' 'corporate bonds'\n 'fixed term and savings deposit' 'public investment funds'\n 'listed domestic public equity' 'listed foreign public equity'\n 'state bonds' 'cash']<br>[0.09 0.22 0.01 0.01 0.01 0.19 0.23 0.24]",
          "['listed domestic public equity' 'public investment funds' 'state bonds'\n 'cash' 'corporate bonds' 'fixed term and savings deposit'\n 'listed foreign public equity' 'other equity instruments']<br>[0.01 0.06 0.31 0.13 0.02 0.18 0.16 0.14]",
          "['listed foreign public equity' 'other equity instruments' 'state bonds'\n 'corporate bonds' 'public investment funds'\n 'fixed term and savings deposit' 'cash' 'listed domestic public equity']<br>[0.15 0.02 0.22 0.23 0.03 0.19 0.15 0.01]",
          "['listed foreign public equity' 'listed domestic public equity'\n 'state bonds' 'corporate bonds' 'fixed term and savings deposit' 'cash'\n 'other equity instruments' 'public investment funds']<br>[0.15 0.01 0.29 0.21 0.11 0.13 0.05 0.05]",
          "['fixed term and savings deposit' 'other equity instruments'\n 'corporate bonds' 'listed domestic public equity' 'cash' 'state bonds'\n 'public investment funds' 'listed foreign public equity']<br>[0.1  0.18 0.22 0.   0.17 0.22 0.01 0.08]",
          "['listed foreign public equity' 'public investment funds'\n 'other equity instruments' 'cash' 'fixed term and savings deposit'\n 'listed domestic public equity' 'state bonds' 'corporate bonds']<br>[0.23 0.13 0.23 0.15 0.01 0.   0.24 0.01]",
          "['cash' 'fixed term and savings deposit' 'listed domestic public equity'\n 'public investment funds' 'corporate bonds' 'other equity instruments'\n 'listed foreign public equity' 'state bonds']<br>[0.13 0.04 0.03 0.01 0.18 0.17 0.25 0.2 ]",
          "['state bonds' 'cash' 'listed domestic public equity'\n 'listed foreign public equity' 'corporate bonds'\n 'other equity instruments' 'fixed term and savings deposit'\n 'public investment funds']<br>[0.3  0.19 0.02 0.13 0.17 0.07 0.08 0.04]",
          "['listed foreign public equity' 'public investment funds'\n 'other equity instruments' 'state bonds' 'listed domestic public equity'\n 'fixed term and savings deposit' 'cash' 'corporate bonds']<br>[0.16 0.04 0.12 0.26 0.02 0.04 0.16 0.21]",
          "['state bonds' 'other equity instruments' 'listed domestic public equity'\n 'corporate bonds' 'fixed term and savings deposit'\n 'public investment funds' 'listed foreign public equity' 'cash']<br>[0.24 0.26 0.03 0.02 0.03 0.06 0.21 0.15]",
          "['state bonds' 'corporate bonds' 'listed foreign public equity'\n 'public investment funds' 'cash' 'other equity instruments'\n 'fixed term and savings deposit' 'listed domestic public equity']<br>[0.16 0.14 0.24 0.05 0.12 0.24 0.02 0.03]",
          "['corporate bonds' 'listed foreign public equity'\n 'other equity instruments' 'fixed term and savings deposit' 'state bonds'\n 'public investment funds' 'cash' 'listed domestic public equity']<br>[0.2  0.29 0.28 0.03 0.05 0.   0.14 0.01]",
          "['corporate bonds' 'fixed term and savings deposit' 'cash' 'state bonds'\n 'other equity instruments' 'public investment funds'\n 'listed foreign public equity' 'listed domestic public equity']<br>[0.28 0.02 0.12 0.25 0.15 0.03 0.13 0.01]",
          "['listed foreign public equity' 'corporate bonds' 'cash'\n 'fixed term and savings deposit' 'other equity instruments'\n 'listed domestic public equity' 'state bonds' 'public investment funds']<br>[0.11 0.12 0.17 0.05 0.24 0.01 0.31 0.  ]",
          "['listed domestic public equity' 'fixed term and savings deposit'\n 'other equity instruments' 'cash' 'listed foreign public equity'\n 'public investment funds' 'corporate bonds' 'state bonds']<br>[0.   0.04 0.17 0.16 0.06 0.1  0.18 0.29]",
          "['public investment funds' 'state bonds' 'corporate bonds'\n 'listed domestic public equity' 'fixed term and savings deposit'\n 'other equity instruments' 'listed foreign public equity' 'cash']<br>[0.01 0.2  0.19 0.   0.   0.14 0.32 0.14]",
          "['state bonds' 'fixed term and savings deposit' 'other equity instruments'\n 'cash' 'public investment funds' 'listed foreign public equity'\n 'corporate bonds' 'listed domestic public equity']<br>[0.27 0.09 0.18 0.16 0.02 0.06 0.21 0.01]",
          "['listed foreign public equity' 'state bonds'\n 'listed domestic public equity' 'fixed term and savings deposit'\n 'public investment funds' 'cash' 'other equity instruments'\n 'corporate bonds']<br>[0.12 0.23 0.01 0.06 0.02 0.19 0.17 0.2 ]",
          "['public investment funds' 'state bonds' 'corporate bonds'\n 'other equity instruments' 'listed domestic public equity'\n 'fixed term and savings deposit' 'listed foreign public equity' 'cash']<br>[0.02 0.24 0.25 0.01 0.01 0.15 0.09 0.23]",
          "['listed domestic public equity' 'fixed term and savings deposit'\n 'listed foreign public equity' 'state bonds' 'corporate bonds'\n 'public investment funds' 'cash' 'other equity instruments']<br>[0.   0.18 0.01 0.25 0.26 0.08 0.12 0.09]",
          "['corporate bonds' 'fixed term and savings deposit'\n 'listed foreign public equity' 'public investment funds'\n 'other equity instruments' 'listed domestic public equity' 'state bonds'\n 'cash']<br>[0.2  0.11 0.12 0.03 0.14 0.01 0.26 0.13]",
          "['fixed term and savings deposit' 'cash' 'corporate bonds'\n 'listed foreign public equity' 'state bonds' 'other equity instruments'\n 'listed domestic public equity' 'public investment funds']<br>[0.13 0.16 0.18 0.1  0.25 0.17 0.02 0.  ]",
          "['fixed term and savings deposit' 'cash' 'listed foreign public equity'\n 'other equity instruments' 'state bonds' 'public investment funds'\n 'listed domestic public equity' 'corporate bonds']<br>[0.16 0.17 0.14 0.06 0.26 0.02 0.01 0.18]",
          "['corporate bonds' 'other equity instruments' 'public investment funds'\n 'state bonds' 'listed foreign public equity'\n 'fixed term and savings deposit' 'cash' 'listed domestic public equity']<br>[0.19 0.12 0.02 0.2  0.18 0.09 0.18 0.02]",
          "['listed domestic public equity' 'corporate bonds'\n 'listed foreign public equity' 'public investment funds'\n 'other equity instruments' 'fixed term and savings deposit' 'cash'\n 'state bonds']<br>[0.01 0.08 0.15 0.02 0.04 0.16 0.21 0.32]",
          "['listed foreign public equity' 'fixed term and savings deposit'\n 'listed domestic public equity' 'public investment funds'\n 'other equity instruments' 'corporate bonds' 'cash' 'state bonds']<br>[0.18 0.05 0.01 0.04 0.17 0.23 0.12 0.21]",
          "['cash' 'public investment funds' 'state bonds'\n 'listed domestic public equity' 'fixed term and savings deposit'\n 'listed foreign public equity' 'corporate bonds'\n 'other equity instruments']<br>[0.22 0.01 0.18 0.01 0.19 0.09 0.21 0.09]",
          "['state bonds' 'fixed term and savings deposit' 'public investment funds'\n 'cash' 'listed domestic public equity' 'listed foreign public equity'\n 'other equity instruments' 'corporate bonds']<br>[0.3  0.   0.04 0.13 0.04 0.21 0.25 0.04]",
          "['cash' 'other equity instruments' 'corporate bonds'\n 'public investment funds' 'listed foreign public equity'\n 'fixed term and savings deposit' 'state bonds'\n 'listed domestic public equity']<br>[0.17 0.07 0.27 0.05 0.14 0.01 0.28 0.02]",
          "['fixed term and savings deposit' 'listed domestic public equity'\n 'listed foreign public equity' 'public investment funds' 'cash'\n 'corporate bonds' 'state bonds' 'other equity instruments']<br>[0.01 0.08 0.23 0.02 0.13 0.01 0.3  0.22]",
          "['fixed term and savings deposit' 'listed domestic public equity'\n 'public investment funds' 'cash' 'state bonds' 'corporate bonds'\n 'listed foreign public equity' 'other equity instruments']<br>[0.26 0.   0.01 0.3  0.29 0.04 0.02 0.07]",
          "['corporate bonds' 'fixed term and savings deposit'\n 'listed foreign public equity' 'listed domestic public equity' 'cash'\n 'public investment funds' 'other equity instruments' 'state bonds']<br>[0.2  0.01 0.23 0.01 0.24 0.02 0.02 0.28]",
          "['other equity instruments' 'state bonds' 'listed foreign public equity'\n 'public investment funds' 'corporate bonds' 'cash'\n 'listed domestic public equity' 'fixed term and savings deposit']<br>[0.2  0.21 0.2  0.03 0.18 0.13 0.02 0.02]",
          "['other equity instruments' 'public investment funds'\n 'listed foreign public equity' 'fixed term and savings deposit' 'cash'\n 'state bonds' 'corporate bonds' 'listed domestic public equity']<br>[0.07 0.02 0.1  0.18 0.18 0.21 0.22 0.01]",
          "['listed domestic public equity' 'public investment funds' 'state bonds'\n 'cash' 'corporate bonds' 'other equity instruments'\n 'fixed term and savings deposit' 'listed foreign public equity']<br>[0.01 0.04 0.26 0.13 0.27 0.03 0.22 0.04]",
          "['listed foreign public equity' 'public investment funds'\n 'other equity instruments' 'cash' 'corporate bonds'\n 'listed domestic public equity' 'state bonds'\n 'fixed term and savings deposit']<br>[0.17 0.01 0.25 0.13 0.18 0.   0.22 0.03]",
          "['other equity instruments' 'public investment funds'\n 'fixed term and savings deposit' 'state bonds'\n 'listed domestic public equity' 'cash' 'listed foreign public equity'\n 'corporate bonds']<br>[0.12 0.01 0.08 0.27 0.01 0.26 0.06 0.19]",
          "['cash' 'listed domestic public equity' 'other equity instruments'\n 'corporate bonds' 'public investment funds'\n 'fixed term and savings deposit' 'listed foreign public equity'\n 'state bonds']<br>[0.15 0.03 0.11 0.25 0.01 0.07 0.11 0.28]",
          "['fixed term and savings deposit' 'listed foreign public equity'\n 'other equity instruments' 'corporate bonds' 'public investment funds'\n 'cash' 'state bonds' 'listed domestic public equity']<br>[0.03 0.16 0.07 0.26 0.01 0.16 0.27 0.04]",
          "['state bonds' 'listed foreign public equity' 'corporate bonds'\n 'fixed term and savings deposit' 'listed domestic public equity'\n 'public investment funds' 'cash' 'other equity instruments']<br>[0.26 0.07 0.26 0.03 0.01 0.02 0.26 0.08]",
          "['state bonds' 'listed foreign public equity' 'corporate bonds'\n 'listed domestic public equity' 'cash' 'fixed term and savings deposit'\n 'public investment funds' 'other equity instruments']<br>[0.23 0.06 0.21 0.03 0.13 0.24 0.02 0.09]",
          "['listed domestic public equity' 'cash' 'state bonds'\n 'fixed term and savings deposit' 'listed foreign public equity'\n 'public investment funds' 'other equity instruments' 'corporate bonds']<br>[0.01 0.17 0.24 0.1  0.14 0.02 0.11 0.21]",
          "['other equity instruments' 'cash' 'listed foreign public equity'\n 'state bonds' 'public investment funds' 'fixed term and savings deposit'\n 'listed domestic public equity' 'corporate bonds']<br>[0.27 0.13 0.26 0.06 0.11 0.02 0.   0.15]",
          "['fixed term and savings deposit' 'listed domestic public equity' 'cash'\n 'listed foreign public equity' 'state bonds' 'public investment funds'\n 'corporate bonds' 'other equity instruments']<br>[0.02 0.   0.17 0.26 0.26 0.02 0.02 0.24]",
          "['cash' 'other equity instruments' 'fixed term and savings deposit'\n 'state bonds' 'corporate bonds' 'listed foreign public equity'\n 'listed domestic public equity' 'public investment funds']<br>[0.13 0.29 0.01 0.21 0.17 0.18 0.01 0.01]",
          "['fixed term and savings deposit' 'corporate bonds'\n 'listed foreign public equity' 'state bonds' 'public investment funds'\n 'other equity instruments' 'cash' 'listed domestic public equity']<br>[0.25 0.12 0.19 0.23 0.01 0.03 0.17 0.  ]",
          "['cash' 'corporate bonds' 'state bonds' 'listed domestic public equity'\n 'fixed term and savings deposit' 'public investment funds'\n 'listed foreign public equity' 'other equity instruments']<br>[0.19 0.26 0.3  0.01 0.15 0.01 0.06 0.03]",
          "['corporate bonds' 'listed foreign public equity'\n 'other equity instruments' 'cash' 'public investment funds' 'state bonds'\n 'listed domestic public equity' 'fixed term and savings deposit']<br>[0.21 0.16 0.18 0.12 0.04 0.24 0.02 0.03]",
          "['state bonds' 'cash' 'listed domestic public equity'\n 'other equity instruments' 'public investment funds' 'corporate bonds'\n 'fixed term and savings deposit' 'listed foreign public equity']<br>[0.25 0.12 0.02 0.1  0.02 0.17 0.07 0.24]",
          "['other equity instruments' 'cash' 'state bonds'\n 'listed domestic public equity' 'fixed term and savings deposit'\n 'public investment funds' 'corporate bonds'\n 'listed foreign public equity']<br>[0.16 0.13 0.21 0.   0.09 0.02 0.21 0.18]",
          "['public investment funds' 'cash' 'other equity instruments'\n 'corporate bonds' 'state bonds' 'fixed term and savings deposit'\n 'listed domestic public equity' 'listed foreign public equity']<br>[0.02 0.22 0.02 0.26 0.25 0.14 0.   0.09]",
          "['public investment funds' 'state bonds' 'corporate bonds'\n 'listed domestic public equity' 'cash' 'fixed term and savings deposit'\n 'other equity instruments' 'listed foreign public equity']<br>[0.02 0.32 0.2  0.03 0.14 0.14 0.07 0.08]",
          "['cash' 'listed foreign public equity' 'other equity instruments'\n 'corporate bonds' 'fixed term and savings deposit'\n 'listed domestic public equity' 'state bonds' 'public investment funds']<br>[0.13 0.16 0.22 0.16 0.01 0.02 0.27 0.02]",
          "['fixed term and savings deposit' 'cash' 'corporate bonds'\n 'other equity instruments' 'state bonds' 'listed foreign public equity'\n 'public investment funds' 'listed domestic public equity']<br>[0.02 0.16 0.32 0.11 0.3  0.05 0.04 0.  ]",
          "['other equity instruments' 'fixed term and savings deposit' 'cash'\n 'corporate bonds' 'listed foreign public equity' 'state bonds'\n 'listed domestic public equity' 'public investment funds']<br>[0.2  0.06 0.12 0.14 0.2  0.26 0.   0.02]",
          "['cash' 'fixed term and savings deposit' 'other equity instruments'\n 'listed domestic public equity' 'listed foreign public equity'\n 'state bonds' 'corporate bonds' 'public investment funds']<br>[0.12 0.17 0.09 0.01 0.24 0.29 0.06 0.01]",
          "['other equity instruments' 'public investment funds'\n 'fixed term and savings deposit' 'corporate bonds' 'state bonds' 'cash'\n 'listed foreign public equity' 'listed domestic public equity']<br>[0.04 0.   0.05 0.2  0.3  0.31 0.09 0.01]",
          "['corporate bonds' 'listed foreign public equity'\n 'listed domestic public equity' 'fixed term and savings deposit'\n 'other equity instruments' 'cash' 'public investment funds' 'state bonds']<br>[0.19 0.13 0.   0.22 0.07 0.16 0.02 0.21]",
          "['other equity instruments' 'cash' 'state bonds' 'corporate bonds'\n 'listed domestic public equity' 'fixed term and savings deposit'\n 'public investment funds' 'listed foreign public equity']<br>[0.11 0.24 0.31 0.21 0.   0.   0.01 0.12]",
          "['corporate bonds' 'public investment funds'\n 'listed foreign public equity' 'state bonds' 'other equity instruments'\n 'listed domestic public equity' 'cash' 'fixed term and savings deposit']<br>[0.18 0.   0.21 0.29 0.17 0.01 0.13 0.01]",
          "['corporate bonds' 'cash' 'public investment funds'\n 'other equity instruments' 'listed domestic public equity' 'state bonds'\n 'listed foreign public equity' 'fixed term and savings deposit']<br>[0.06 0.15 0.01 0.12 0.02 0.3  0.13 0.22]",
          "['state bonds' 'other equity instruments' 'corporate bonds'\n 'public investment funds' 'listed foreign public equity'\n 'listed domestic public equity' 'cash' 'fixed term and savings deposit']<br>[0.28 0.22 0.08 0.04 0.23 0.02 0.13 0.  ]",
          "['other equity instruments' 'corporate bonds'\n 'fixed term and savings deposit' 'cash' 'state bonds'\n 'listed domestic public equity' 'listed foreign public equity'\n 'public investment funds']<br>[0.06 0.22 0.29 0.19 0.19 0.   0.03 0.02]",
          "['listed foreign public equity' 'state bonds' 'other equity instruments'\n 'corporate bonds' 'fixed term and savings deposit'\n 'listed domestic public equity' 'cash' 'public investment funds']<br>[0.02 0.28 0.02 0.28 0.19 0.01 0.18 0.03]",
          "['fixed term and savings deposit' 'public investment funds'\n 'other equity instruments' 'state bonds' 'corporate bonds' 'cash'\n 'listed foreign public equity' 'listed domestic public equity']<br>[0.27 0.03 0.04 0.24 0.15 0.25 0.   0.01]",
          "['corporate bonds' 'listed domestic public equity' 'state bonds'\n 'fixed term and savings deposit' 'other equity instruments'\n 'listed foreign public equity' 'cash' 'public investment funds']<br>[0.17 0.02 0.31 0.21 0.08 0.05 0.15 0.01]",
          "['listed foreign public equity' 'state bonds'\n 'listed domestic public equity' 'corporate bonds'\n 'other equity instruments' 'fixed term and savings deposit' 'cash'\n 'public investment funds']<br>[0.18 0.31 0.03 0.16 0.1  0.08 0.13 0.  ]",
          "['listed domestic public equity' 'listed foreign public equity' 'cash'\n 'other equity instruments' 'public investment funds' 'state bonds'\n 'corporate bonds' 'fixed term and savings deposit']<br>[0.01 0.01 0.15 0.05 0.01 0.21 0.27 0.28]",
          "['cash' 'corporate bonds' 'other equity instruments'\n 'listed foreign public equity' 'public investment funds'\n 'listed domestic public equity' 'fixed term and savings deposit'\n 'state bonds']<br>[0.13 0.04 0.23 0.25 0.03 0.05 0.06 0.22]",
          "['other equity instruments' 'fixed term and savings deposit' 'state bonds'\n 'listed foreign public equity' 'corporate bonds'\n 'public investment funds' 'listed domestic public equity' 'cash']<br>[0.13 0.06 0.23 0.13 0.24 0.02 0.01 0.19]",
          "['listed foreign public equity' 'public investment funds'\n 'corporate bonds' 'state bonds' 'other equity instruments'\n 'fixed term and savings deposit' 'cash' 'listed domestic public equity']<br>[0.26 0.12 0.02 0.18 0.26 0.   0.12 0.05]",
          "['fixed term and savings deposit' 'listed domestic public equity'\n 'corporate bonds' 'public investment funds' 'other equity instruments'\n 'cash' 'listed foreign public equity' 'state bonds']<br>[0.03 0.02 0.27 0.02 0.18 0.14 0.07 0.26]",
          "['fixed term and savings deposit' 'listed foreign public equity'\n 'public investment funds' 'cash' 'corporate bonds' 'state bonds'\n 'listed domestic public equity' 'other equity instruments']<br>[0.01 0.25 0.08 0.15 0.05 0.28 0.   0.18]",
          "['cash' 'public investment funds' 'state bonds'\n 'listed domestic public equity' 'fixed term and savings deposit'\n 'listed foreign public equity' 'corporate bonds'\n 'other equity instruments']<br>[0.12 0.22 0.   0.14 0.01 0.24 0.   0.26]",
          "['listed domestic public equity' 'public investment funds' 'state bonds'\n 'corporate bonds' 'fixed term and savings deposit'\n 'other equity instruments' 'listed foreign public equity' 'cash']<br>[0.02 0.03 0.32 0.18 0.05 0.16 0.08 0.17]",
          "['listed domestic public equity' 'listed foreign public equity'\n 'fixed term and savings deposit' 'state bonds' 'other equity instruments'\n 'cash' 'public investment funds' 'corporate bonds']<br>[0.01 0.22 0.01 0.25 0.26 0.16 0.07 0.  ]",
          "['corporate bonds' 'fixed term and savings deposit' 'state bonds'\n 'listed domestic public equity' 'listed foreign public equity'\n 'other equity instruments' 'cash' 'public investment funds']<br>[0.22 0.17 0.22 0.01 0.12 0.08 0.19 0.  ]",
          "['cash' 'state bonds' 'corporate bonds' 'public investment funds'\n 'listed foreign public equity' 'fixed term and savings deposit'\n 'other equity instruments' 'listed domestic public equity']<br>[0.21 0.31 0.04 0.05 0.05 0.29 0.04 0.01]",
          "['listed domestic public equity' 'other equity instruments'\n 'public investment funds' 'listed foreign public equity' 'state bonds'\n 'cash' 'fixed term and savings deposit' 'corporate bonds']<br>[0.01 0.32 0.12 0.2  0.18 0.13 0.01 0.03]",
          "['state bonds' 'other equity instruments' 'corporate bonds'\n 'public investment funds' 'cash' 'listed foreign public equity'\n 'listed domestic public equity' 'fixed term and savings deposit']<br>[0.31 0.08 0.24 0.01 0.16 0.05 0.01 0.15]",
          "['other equity instruments' 'listed domestic public equity' 'state bonds'\n 'cash' 'corporate bonds' 'fixed term and savings deposit'\n 'listed foreign public equity' 'public investment funds']<br>[0.01 0.01 0.25 0.26 0.19 0.26 0.01 0.  ]",
          "['fixed term and savings deposit' 'listed domestic public equity' 'cash'\n 'public investment funds' 'listed foreign public equity'\n 'corporate bonds' 'state bonds' 'other equity instruments']<br>[0.15 0.01 0.12 0.04 0.06 0.28 0.23 0.11]",
          "['listed domestic public equity' 'cash' 'state bonds' 'corporate bonds'\n 'fixed term and savings deposit' 'listed foreign public equity'\n 'other equity instruments' 'public investment funds']<br>[0.02 0.13 0.29 0.25 0.15 0.06 0.07 0.04]",
          "['public investment funds' 'other equity instruments' 'corporate bonds'\n 'fixed term and savings deposit' 'listed foreign public equity'\n 'listed domestic public equity' 'cash' 'state bonds']<br>[0.06 0.08 0.14 0.16 0.08 0.01 0.17 0.3 ]",
          "['listed foreign public equity' 'fixed term and savings deposit'\n 'state bonds' 'corporate bonds' 'public investment funds' 'cash'\n 'other equity instruments' 'listed domestic public equity']<br>[0.19 0.08 0.22 0.21 0.01 0.13 0.15 0.01]",
          "['other equity instruments' 'fixed term and savings deposit'\n 'listed foreign public equity' 'listed domestic public equity'\n 'public investment funds' 'corporate bonds' 'state bonds' 'cash']<br>[0.05 0.15 0.06 0.   0.06 0.18 0.29 0.21]",
          "['state bonds' 'listed foreign public equity'\n 'fixed term and savings deposit' 'cash' 'listed domestic public equity'\n 'other equity instruments' 'public investment funds' 'corporate bonds']<br>[0.03 0.33 0.   0.14 0.14 0.28 0.02 0.06]",
          "['listed domestic public equity' 'state bonds'\n 'fixed term and savings deposit' 'corporate bonds' 'cash'\n 'listed foreign public equity' 'public investment funds'\n 'other equity instruments']<br>[0.02 0.31 0.04 0.26 0.15 0.18 0.   0.04]",
          "['public investment funds' 'listed domestic public equity' 'cash'\n 'state bonds' 'other equity instruments' 'corporate bonds'\n 'listed foreign public equity' 'fixed term and savings deposit']<br>[0.03 0.02 0.13 0.2  0.25 0.12 0.24 0.02]",
          "['fixed term and savings deposit' 'public investment funds' 'state bonds'\n 'other equity instruments' 'cash' 'listed foreign public equity'\n 'listed domestic public equity' 'corporate bonds']<br>[0.04 0.02 0.23 0.17 0.18 0.12 0.01 0.23]",
          "['listed domestic public equity' 'cash' 'corporate bonds'\n 'fixed term and savings deposit' 'public investment funds'\n 'listed foreign public equity' 'other equity instruments' 'state bonds']<br>[0.   0.16 0.02 0.03 0.19 0.27 0.31 0.02]",
          "['corporate bonds' 'cash' 'state bonds' 'listed domestic public equity'\n 'fixed term and savings deposit' 'other equity instruments'\n 'listed foreign public equity' 'public investment funds']<br>[0.24 0.14 0.31 0.02 0.03 0.2  0.06 0.02]",
          "['other equity instruments' 'state bonds' 'listed foreign public equity'\n 'cash' 'corporate bonds' 'public investment funds'\n 'fixed term and savings deposit' 'listed domestic public equity']<br>[0.04 0.2  0.11 0.15 0.25 0.03 0.21 0.01]",
          "['state bonds' 'corporate bonds' 'listed domestic public equity'\n 'public investment funds' 'listed foreign public equity'\n 'fixed term and savings deposit' 'cash' 'other equity instruments']<br>[0.3  0.28 0.01 0.05 0.18 0.02 0.13 0.03]",
          "['listed foreign public equity' 'cash' 'listed domestic public equity'\n 'state bonds' 'public investment funds' 'corporate bonds'\n 'fixed term and savings deposit' 'other equity instruments']<br>[0.18 0.2  0.01 0.25 0.   0.18 0.07 0.1 ]",
          "['state bonds' 'public investment funds' 'cash'\n 'listed foreign public equity' 'listed domestic public equity'\n 'fixed term and savings deposit' 'corporate bonds'\n 'other equity instruments']<br>[0.19 0.06 0.16 0.2  0.01 0.   0.1  0.27]",
          "['other equity instruments' 'cash' 'state bonds'\n 'listed domestic public equity' 'public investment funds'\n 'corporate bonds' 'fixed term and savings deposit'\n 'listed foreign public equity']<br>[0.31 0.13 0.13 0.1  0.02 0.03 0.02 0.26]",
          "['listed foreign public equity' 'cash' 'other equity instruments'\n 'listed domestic public equity' 'corporate bonds' 'state bonds'\n 'fixed term and savings deposit' 'public investment funds']<br>[0.12 0.14 0.06 0.02 0.28 0.29 0.05 0.05]",
          "['fixed term and savings deposit' 'public investment funds'\n 'listed foreign public equity' 'state bonds'\n 'listed domestic public equity' 'cash' 'other equity instruments'\n 'corporate bonds']<br>[0.1  0.   0.19 0.25 0.02 0.13 0.15 0.14]",
          "['state bonds' 'fixed term and savings deposit' 'corporate bonds'\n 'public investment funds' 'cash' 'listed foreign public equity'\n 'other equity instruments' 'listed domestic public equity']<br>[0.25 0.16 0.13 0.04 0.14 0.12 0.15 0.  ]",
          "['fixed term and savings deposit' 'other equity instruments' 'cash'\n 'corporate bonds' 'listed foreign public equity'\n 'public investment funds' 'listed domestic public equity' 'state bonds']<br>[0.02 0.32 0.15 0.03 0.27 0.   0.14 0.07]",
          "['fixed term and savings deposit' 'cash' 'corporate bonds'\n 'public investment funds' 'other equity instruments'\n 'listed foreign public equity' 'state bonds'\n 'listed domestic public equity']<br>[0.13 0.17 0.07 0.01 0.09 0.2  0.32 0.01]",
          "['fixed term and savings deposit' 'listed foreign public equity'\n 'listed domestic public equity' 'cash' 'public investment funds'\n 'state bonds' 'other equity instruments' 'corporate bonds']<br>[0.23 0.06 0.01 0.16 0.01 0.28 0.08 0.17]",
          "['other equity instruments' 'state bonds' 'fixed term and savings deposit'\n 'corporate bonds' 'public investment funds'\n 'listed domestic public equity' 'cash' 'listed foreign public equity']<br>[0.08 0.29 0.17 0.18 0.02 0.04 0.16 0.05]",
          "['state bonds' 'listed domestic public equity'\n 'listed foreign public equity' 'public investment funds'\n 'other equity instruments' 'fixed term and savings deposit'\n 'corporate bonds' 'cash']<br>[0.24 0.   0.11 0.02 0.12 0.16 0.2  0.14]",
          "['listed foreign public equity' 'cash' 'listed domestic public equity'\n 'public investment funds' 'other equity instruments'\n 'fixed term and savings deposit' 'corporate bonds' 'state bonds']<br>[0.06 0.2  0.02 0.02 0.03 0.27 0.06 0.33]",
          "['corporate bonds' 'state bonds' 'listed foreign public equity'\n 'other equity instruments' 'cash' 'public investment funds'\n 'listed domestic public equity' 'fixed term and savings deposit']<br>[0.12 0.03 0.32 0.26 0.12 0.12 0.01 0.  ]",
          "['other equity instruments' 'cash' 'state bonds'\n 'listed foreign public equity' 'fixed term and savings deposit'\n 'listed domestic public equity' 'corporate bonds'\n 'public investment funds']<br>[0.08 0.2  0.25 0.07 0.12 0.01 0.26 0.01]",
          "['public investment funds' 'cash' 'listed domestic public equity'\n 'corporate bonds' 'fixed term and savings deposit'\n 'listed foreign public equity' 'state bonds' 'other equity instruments']<br>[0.04 0.21 0.01 0.19 0.06 0.08 0.29 0.12]",
          "['public investment funds' 'fixed term and savings deposit' 'state bonds'\n 'cash' 'listed domestic public equity' 'listed foreign public equity'\n 'corporate bonds' 'other equity instruments']<br>[0.03 0.05 0.31 0.14 0.03 0.2  0.14 0.09]",
          "['fixed term and savings deposit' 'other equity instruments'\n 'public investment funds' 'corporate bonds' 'cash'\n 'listed foreign public equity' 'state bonds'\n 'listed domestic public equity']<br>[0.06 0.13 0.   0.26 0.14 0.15 0.23 0.02]",
          "['listed domestic public equity' 'fixed term and savings deposit'\n 'public investment funds' 'state bonds' 'corporate bonds' 'cash'\n 'other equity instruments' 'listed foreign public equity']<br>[0.   0.16 0.02 0.26 0.11 0.13 0.16 0.16]",
          "['other equity instruments' 'cash' 'public investment funds'\n 'fixed term and savings deposit' 'listed foreign public equity'\n 'state bonds' 'listed domestic public equity' 'corporate bonds']<br>[0.04 0.26 0.01 0.22 0.   0.19 0.01 0.25]",
          "['listed domestic public equity' 'corporate bonds' 'state bonds' 'cash'\n 'listed foreign public equity' 'public investment funds'\n 'fixed term and savings deposit' 'other equity instruments']<br>[0.01 0.21 0.32 0.12 0.18 0.06 0.02 0.08]",
          "['other equity instruments' 'corporate bonds' 'state bonds'\n 'listed foreign public equity' 'listed domestic public equity'\n 'fixed term and savings deposit' 'public investment funds' 'cash']<br>[0.26 0.17 0.03 0.3  0.03 0.   0.05 0.17]",
          "['other equity instruments' 'listed foreign public equity' 'cash'\n 'public investment funds' 'state bonds' 'listed domestic public equity'\n 'fixed term and savings deposit' 'corporate bonds']<br>[0.14 0.17 0.13 0.02 0.19 0.01 0.06 0.27]",
          "['public investment funds' 'listed domestic public equity'\n 'other equity instruments' 'fixed term and savings deposit'\n 'corporate bonds' 'cash' 'state bonds' 'listed foreign public equity']<br>[0.01 0.01 0.11 0.06 0.28 0.17 0.24 0.12]",
          "['corporate bonds' 'state bonds' 'listed foreign public equity'\n 'listed domestic public equity' 'other equity instruments'\n 'public investment funds' 'cash' 'fixed term and savings deposit']<br>[0.25 0.24 0.05 0.   0.01 0.01 0.24 0.19]",
          "['cash' 'fixed term and savings deposit' 'public investment funds'\n 'listed domestic public equity' 'listed foreign public equity'\n 'other equity instruments' 'corporate bonds' 'state bonds']<br>[0.13 0.23 0.06 0.   0.   0.07 0.29 0.21]",
          "['state bonds' 'other equity instruments' 'public investment funds' 'cash'\n 'corporate bonds' 'listed domestic public equity'\n 'listed foreign public equity' 'fixed term and savings deposit']<br>[0.32 0.13 0.02 0.16 0.1  0.01 0.16 0.09]",
          "['cash' 'other equity instruments' 'listed domestic public equity'\n 'listed foreign public equity' 'corporate bonds' 'state bonds'\n 'fixed term and savings deposit' 'public investment funds']<br>[0.14 0.06 0.01 0.08 0.24 0.3  0.15 0.02]",
          "['other equity instruments' 'state bonds' 'listed domestic public equity'\n 'cash' 'fixed term and savings deposit' 'corporate bonds'\n 'public investment funds' 'listed foreign public equity']<br>[0.   0.25 0.01 0.26 0.28 0.14 0.03 0.01]",
          "['cash' 'listed domestic public equity' 'listed foreign public equity'\n 'state bonds' 'other equity instruments' 'corporate bonds'\n 'fixed term and savings deposit' 'public investment funds']<br>[0.19 0.02 0.01 0.24 0.   0.24 0.26 0.03]",
          "['fixed term and savings deposit' 'public investment funds'\n 'listed foreign public equity' 'state bonds' 'cash'\n 'other equity instruments' 'corporate bonds'\n 'listed domestic public equity']<br>[0.02 0.03 0.22 0.26 0.15 0.27 0.04 0.01]",
          "['listed domestic public equity' 'other equity instruments'\n 'public investment funds' 'state bonds' 'fixed term and savings deposit'\n 'cash' 'listed foreign public equity' 'corporate bonds']<br>[0.   0.2  0.04 0.19 0.01 0.14 0.32 0.09]",
          "['other equity instruments' 'cash' 'public investment funds'\n 'corporate bonds' 'fixed term and savings deposit' 'state bonds'\n 'listed domestic public equity' 'listed foreign public equity']<br>[0.07 0.19 0.02 0.25 0.01 0.3  0.01 0.15]",
          "['listed foreign public equity' 'listed domestic public equity'\n 'public investment funds' 'corporate bonds' 'other equity instruments'\n 'cash' 'fixed term and savings deposit' 'state bonds']<br>[0.14 0.   0.03 0.09 0.07 0.15 0.26 0.25]",
          "['fixed term and savings deposit' 'listed foreign public equity' 'cash'\n 'state bonds' 'public investment funds' 'other equity instruments'\n 'listed domestic public equity' 'corporate bonds']<br>[0.06 0.22 0.12 0.26 0.   0.01 0.   0.32]",
          "['other equity instruments' 'public investment funds'\n 'fixed term and savings deposit' 'listed domestic public equity'\n 'listed foreign public equity' 'state bonds' 'cash' 'corporate bonds']<br>[0.11 0.01 0.14 0.02 0.12 0.28 0.14 0.18]",
          "['cash' 'public investment funds' 'listed foreign public equity'\n 'corporate bonds' 'listed domestic public equity' 'state bonds'\n 'other equity instruments' 'fixed term and savings deposit']<br>[0.12 0.01 0.12 0.22 0.   0.31 0.21 0.01]",
          "['public investment funds' 'fixed term and savings deposit'\n 'other equity instruments' 'listed foreign public equity' 'state bonds'\n 'cash' 'listed domestic public equity' 'corporate bonds']<br>[0.01 0.14 0.13 0.12 0.26 0.14 0.   0.18]",
          "['other equity instruments' 'listed foreign public equity' 'state bonds'\n 'fixed term and savings deposit' 'public investment funds'\n 'listed domestic public equity' 'cash' 'corporate bonds']<br>[0.04 0.14 0.31 0.08 0.01 0.   0.16 0.27]",
          "['cash' 'fixed term and savings deposit' 'listed foreign public equity'\n 'other equity instruments' 'state bonds' 'public investment funds'\n 'corporate bonds' 'listed domestic public equity']<br>[0.14 0.01 0.24 0.24 0.26 0.03 0.05 0.03]",
          "['listed foreign public equity' 'public investment funds' 'state bonds'\n 'corporate bonds' 'listed domestic public equity' 'cash'\n 'fixed term and savings deposit' 'other equity instruments']<br>[0.18 0.02 0.29 0.07 0.   0.13 0.14 0.17]",
          "['corporate bonds' 'fixed term and savings deposit'\n 'other equity instruments' 'public investment funds' 'state bonds' 'cash'\n 'listed domestic public equity' 'listed foreign public equity']<br>[0.06 0.03 0.24 0.04 0.24 0.13 0.03 0.24]",
          "['corporate bonds' 'listed domestic public equity'\n 'public investment funds' 'other equity instruments' 'cash' 'state bonds'\n 'listed foreign public equity' 'fixed term and savings deposit']<br>[0.13 0.01 0.04 0.28 0.16 0.08 0.3  0.02]",
          "['state bonds' 'cash' 'other equity instruments'\n 'listed foreign public equity' 'fixed term and savings deposit'\n 'public investment funds' 'corporate bonds'\n 'listed domestic public equity']<br>[0.17 0.29 0.01 0.   0.29 0.03 0.21 0.01]",
          "['other equity instruments' 'fixed term and savings deposit' 'cash'\n 'state bonds' 'corporate bonds' 'listed foreign public equity'\n 'public investment funds' 'listed domestic public equity']<br>[0.03 0.29 0.2  0.28 0.09 0.09 0.01 0.  ]",
          "['other equity instruments' 'state bonds' 'corporate bonds'\n 'listed domestic public equity' 'public investment funds'\n 'fixed term and savings deposit' 'cash' 'listed foreign public equity']<br>[0.25 0.09 0.22 0.01 0.01 0.04 0.13 0.24]",
          "['cash' 'fixed term and savings deposit' 'listed domestic public equity'\n 'other equity instruments' 'listed foreign public equity' 'state bonds'\n 'public investment funds' 'corporate bonds']<br>[0.17 0.13 0.   0.08 0.08 0.27 0.03 0.23]",
          "['cash' 'listed foreign public equity' 'corporate bonds'\n 'listed domestic public equity' 'public investment funds' 'state bonds'\n 'fixed term and savings deposit' 'other equity instruments']<br>[0.13 0.27 0.22 0.01 0.   0.12 0.04 0.21]",
          "['public investment funds' 'fixed term and savings deposit'\n 'other equity instruments' 'corporate bonds'\n 'listed domestic public equity' 'state bonds' 'cash'\n 'listed foreign public equity']<br>[0.02 0.17 0.02 0.25 0.   0.33 0.14 0.08]",
          "['listed domestic public equity' 'state bonds'\n 'listed foreign public equity' 'corporate bonds'\n 'other equity instruments' 'cash' 'fixed term and savings deposit'\n 'public investment funds']<br>[0.01 0.24 0.18 0.19 0.11 0.16 0.09 0.01]",
          "['fixed term and savings deposit' 'public investment funds'\n 'corporate bonds' 'other equity instruments' 'state bonds'\n 'listed foreign public equity' 'listed domestic public equity' 'cash']<br>[0.27 0.   0.09 0.04 0.29 0.04 0.01 0.27]",
          "['fixed term and savings deposit' 'listed domestic public equity'\n 'public investment funds' 'listed foreign public equity' 'state bonds'\n 'cash' 'other equity instruments' 'corporate bonds']<br>[0.12 0.   0.01 0.09 0.27 0.15 0.15 0.2 ]",
          "['other equity instruments' 'listed domestic public equity'\n 'listed foreign public equity' 'fixed term and savings deposit'\n 'state bonds' 'cash' 'corporate bonds' 'public investment funds']<br>[0.2  0.   0.1  0.   0.26 0.15 0.29 0.  ]",
          "['other equity instruments' 'listed domestic public equity'\n 'public investment funds' 'state bonds' 'listed foreign public equity'\n 'fixed term and savings deposit' 'corporate bonds' 'cash']<br>[0.01 0.01 0.01 0.27 0.04 0.27 0.06 0.32]",
          "['fixed term and savings deposit' 'listed foreign public equity'\n 'listed domestic public equity' 'cash' 'public investment funds'\n 'other equity instruments' 'state bonds' 'corporate bonds']<br>[0.19 0.11 0.   0.17 0.01 0.04 0.27 0.21]",
          "['corporate bonds' 'other equity instruments'\n 'listed foreign public equity' 'state bonds' 'cash'\n 'listed domestic public equity' 'public investment funds'\n 'fixed term and savings deposit']<br>[0.31 0.06 0.14 0.25 0.12 0.01 0.03 0.07]",
          "['state bonds' 'cash' 'listed foreign public equity'\n 'other equity instruments' 'public investment funds'\n 'listed domestic public equity' 'corporate bonds'\n 'fixed term and savings deposit']<br>[0.15 0.12 0.22 0.24 0.03 0.   0.22 0.02]",
          "['listed domestic public equity' 'corporate bonds'\n 'fixed term and savings deposit' 'other equity instruments' 'state bonds'\n 'listed foreign public equity' 'public investment funds' 'cash']<br>[0.01 0.2  0.07 0.1  0.24 0.22 0.01 0.15]",
          "['state bonds' 'other equity instruments' 'public investment funds'\n 'fixed term and savings deposit' 'listed foreign public equity' 'cash'\n 'listed domestic public equity' 'corporate bonds']<br>[0.24 0.26 0.01 0.04 0.16 0.13 0.01 0.16]",
          "['other equity instruments' 'fixed term and savings deposit'\n 'corporate bonds' 'listed foreign public equity' 'state bonds' 'cash'\n 'public investment funds' 'listed domestic public equity']<br>[0.32 0.05 0.01 0.3  0.03 0.13 0.04 0.12]",
          "['listed foreign public equity' 'corporate bonds' 'state bonds'\n 'other equity instruments' 'cash' 'public investment funds'\n 'listed domestic public equity' 'fixed term and savings deposit']<br>[0.04 0.1  0.31 0.01 0.26 0.02 0.01 0.25]",
          "['cash' 'state bonds' 'other equity instruments' 'corporate bonds'\n 'listed domestic public equity' 'listed foreign public equity'\n 'public investment funds' 'fixed term and savings deposit']<br>[0.14 0.22 0.09 0.27 0.01 0.16 0.02 0.1 ]",
          "['public investment funds' 'listed domestic public equity'\n 'other equity instruments' 'corporate bonds'\n 'fixed term and savings deposit' 'cash' 'listed foreign public equity'\n 'state bonds']<br>[0.03 0.   0.24 0.05 0.05 0.12 0.25 0.26]",
          "['cash' 'other equity instruments' 'fixed term and savings deposit'\n 'listed domestic public equity' 'state bonds'\n 'listed foreign public equity' 'public investment funds'\n 'corporate bonds']<br>[0.14 0.12 0.03 0.01 0.25 0.15 0.07 0.23]",
          "['corporate bonds' 'listed domestic public equity'\n 'public investment funds' 'listed foreign public equity' 'cash'\n 'other equity instruments' 'fixed term and savings deposit' 'state bonds']<br>[0.09 0.01 0.02 0.07 0.25 0.02 0.28 0.26]",
          "['listed foreign public equity' 'public investment funds'\n 'corporate bonds' 'other equity instruments'\n 'fixed term and savings deposit' 'state bonds' 'cash'\n 'listed domestic public equity']<br>[0.19 0.06 0.11 0.17 0.07 0.28 0.12 0.  ]",
          "['fixed term and savings deposit' 'other equity instruments'\n 'listed domestic public equity' 'corporate bonds'\n 'public investment funds' 'state bonds' 'cash'\n 'listed foreign public equity']<br>[0.13 0.13 0.01 0.09 0.   0.29 0.12 0.23]",
          "['state bonds' 'public investment funds' 'listed foreign public equity'\n 'cash' 'other equity instruments' 'listed domestic public equity'\n 'corporate bonds' 'fixed term and savings deposit']<br>[0.26 0.01 0.17 0.13 0.06 0.01 0.23 0.13]",
          "['cash' 'listed domestic public equity' 'fixed term and savings deposit'\n 'public investment funds' 'listed foreign public equity'\n 'other equity instruments' 'corporate bonds' 'state bonds']<br>[0.16 0.01 0.02 0.01 0.21 0.09 0.24 0.26]",
          "['public investment funds' 'listed foreign public equity' 'cash'\n 'fixed term and savings deposit' 'corporate bonds' 'state bonds'\n 'other equity instruments' 'listed domestic public equity']<br>[0.05 0.32 0.15 0.02 0.03 0.19 0.23 0.01]",
          "['cash' 'public investment funds' 'fixed term and savings deposit'\n 'state bonds' 'listed foreign public equity'\n 'listed domestic public equity' 'corporate bonds'\n 'other equity instruments']<br>[0.14 0.   0.15 0.25 0.14 0.02 0.23 0.07]",
          "['corporate bonds' 'cash' 'fixed term and savings deposit'\n 'listed foreign public equity' 'public investment funds' 'state bonds'\n 'listed domestic public equity' 'other equity instruments']<br>[0.1  0.12 0.21 0.14 0.   0.24 0.   0.18]",
          "['public investment funds' 'listed foreign public equity'\n 'fixed term and savings deposit' 'other equity instruments'\n 'listed domestic public equity' 'cash' 'corporate bonds' 'state bonds']<br>[0.03 0.02 0.22 0.05 0.   0.24 0.23 0.22]",
          "['state bonds' 'other equity instruments' 'listed foreign public equity'\n 'cash' 'fixed term and savings deposit' 'listed domestic public equity'\n 'corporate bonds' 'public investment funds']<br>[0.32 0.08 0.21 0.14 0.22 0.01 0.02 0.  ]",
          "['state bonds' 'corporate bonds' 'other equity instruments' 'cash'\n 'listed foreign public equity' 'fixed term and savings deposit'\n 'listed domestic public equity' 'public investment funds']<br>[0.24 0.15 0.23 0.13 0.22 0.   0.02 0.  ]",
          "['fixed term and savings deposit' 'state bonds' 'corporate bonds'\n 'other equity instruments' 'cash' 'listed domestic public equity'\n 'public investment funds' 'listed foreign public equity']<br>[0.   0.25 0.17 0.15 0.13 0.01 0.03 0.25]",
          "['other equity instruments' 'fixed term and savings deposit' 'cash'\n 'listed domestic public equity' 'state bonds'\n 'listed foreign public equity' 'corporate bonds'\n 'public investment funds']<br>[0.17 0.1  0.17 0.01 0.23 0.09 0.22 0.  ]",
          "['listed foreign public equity' 'cash' 'fixed term and savings deposit'\n 'corporate bonds' 'other equity instruments' 'state bonds'\n 'public investment funds' 'listed domestic public equity']<br>[0.1  0.24 0.07 0.23 0.08 0.27 0.01 0.  ]",
          "['corporate bonds' 'cash' 'listed domestic public equity' 'state bonds'\n 'public investment funds' 'listed foreign public equity'\n 'other equity instruments' 'fixed term and savings deposit']<br>[0.22 0.16 0.01 0.25 0.01 0.11 0.09 0.15]",
          "['listed foreign public equity' 'listed domestic public equity'\n 'corporate bonds' 'cash' 'public investment funds'\n 'other equity instruments' 'state bonds' 'fixed term and savings deposit']<br>[0.21 0.02 0.09 0.17 0.   0.23 0.28 0.01]",
          "['state bonds' 'fixed term and savings deposit' 'public investment funds'\n 'other equity instruments' 'cash' 'listed domestic public equity'\n 'listed foreign public equity' 'corporate bonds']<br>[0.14 0.04 0.   0.17 0.13 0.   0.25 0.26]",
          "['listed foreign public equity' 'corporate bonds'\n 'other equity instruments' 'listed domestic public equity' 'state bonds'\n 'public investment funds' 'fixed term and savings deposit' 'cash']<br>[0.19 0.16 0.1  0.   0.24 0.02 0.09 0.2 ]",
          "['fixed term and savings deposit' 'listed foreign public equity'\n 'public investment funds' 'corporate bonds' 'state bonds'\n 'other equity instruments' 'listed domestic public equity' 'cash']<br>[0.04 0.29 0.   0.17 0.1  0.27 0.   0.13]",
          "['other equity instruments' 'public investment funds' 'corporate bonds'\n 'cash' 'state bonds' 'listed foreign public equity'\n 'fixed term and savings deposit' 'listed domestic public equity']<br>[0.12 0.   0.05 0.15 0.28 0.24 0.16 0.  ]",
          "['listed foreign public equity' 'other equity instruments'\n 'public investment funds' 'corporate bonds'\n 'fixed term and savings deposit' 'state bonds' 'cash'\n 'listed domestic public equity']<br>[0.25 0.33 0.04 0.04 0.12 0.09 0.12 0.  ]",
          "['other equity instruments' 'corporate bonds'\n 'listed foreign public equity' 'state bonds'\n 'listed domestic public equity' 'fixed term and savings deposit' 'cash'\n 'public investment funds']<br>[0.32 0.07 0.27 0.06 0.1  0.   0.14 0.03]",
          "['public investment funds' 'fixed term and savings deposit' 'state bonds'\n 'corporate bonds' 'listed foreign public equity'\n 'other equity instruments' 'listed domestic public equity' 'cash']<br>[0.03 0.04 0.3  0.33 0.03 0.14 0.01 0.12]",
          "['state bonds' 'public investment funds' 'other equity instruments'\n 'corporate bonds' 'fixed term and savings deposit' 'cash'\n 'listed domestic public equity' 'listed foreign public equity']<br>[0.27 0.   0.01 0.1  0.27 0.28 0.03 0.04]",
          "['listed foreign public equity' 'fixed term and savings deposit'\n 'corporate bonds' 'cash' 'state bonds' 'listed domestic public equity'\n 'public investment funds' 'other equity instruments']<br>[0.27 0.01 0.02 0.17 0.14 0.03 0.07 0.29]",
          "['state bonds' 'public investment funds' 'other equity instruments'\n 'listed domestic public equity' 'listed foreign public equity' 'cash'\n 'corporate bonds' 'fixed term and savings deposit']<br>[0.3  0.02 0.09 0.02 0.17 0.18 0.15 0.06]",
          "['listed foreign public equity' 'other equity instruments' 'cash'\n 'corporate bonds' 'listed domestic public equity'\n 'fixed term and savings deposit' 'public investment funds' 'state bonds']<br>[0.23 0.28 0.16 0.08 0.   0.01 0.   0.24]",
          "['state bonds' 'other equity instruments' 'corporate bonds'\n 'listed domestic public equity' 'listed foreign public equity'\n 'public investment funds' 'cash' 'fixed term and savings deposit']<br>[0.33 0.   0.26 0.01 0.15 0.01 0.14 0.09]",
          "['listed foreign public equity' 'state bonds'\n 'listed domestic public equity' 'public investment funds'\n 'corporate bonds' 'fixed term and savings deposit'\n 'other equity instruments' 'cash']<br>[0.05 0.33 0.03 0.02 0.06 0.32 0.02 0.17]",
          "['fixed term and savings deposit' 'corporate bonds'\n 'listed foreign public equity' 'listed domestic public equity'\n 'other equity instruments' 'state bonds' 'cash' 'public investment funds']<br>[0.21 0.21 0.14 0.   0.09 0.19 0.14 0.02]",
          "['listed domestic public equity' 'other equity instruments' 'state bonds'\n 'fixed term and savings deposit' 'corporate bonds'\n 'listed foreign public equity' 'cash' 'public investment funds']<br>[0.01 0.11 0.26 0.04 0.28 0.14 0.16 0.  ]",
          "['cash' 'fixed term and savings deposit' 'public investment funds'\n 'state bonds' 'other equity instruments' 'listed foreign public equity'\n 'listed domestic public equity' 'corporate bonds']<br>[0.15 0.17 0.   0.29 0.09 0.04 0.01 0.24]",
          "['state bonds' 'listed domestic public equity'\n 'listed foreign public equity' 'other equity instruments'\n 'corporate bonds' 'fixed term and savings deposit' 'cash'\n 'public investment funds']<br>[0.09 0.01 0.31 0.27 0.09 0.01 0.17 0.05]",
          "['state bonds' 'public investment funds' 'fixed term and savings deposit'\n 'cash' 'corporate bonds' 'listed domestic public equity'\n 'other equity instruments' 'listed foreign public equity']<br>[0.26 0.01 0.02 0.13 0.07 0.   0.25 0.25]",
          "['state bonds' 'corporate bonds' 'listed foreign public equity'\n 'other equity instruments' 'public investment funds' 'cash'\n 'listed domestic public equity' 'fixed term and savings deposit']<br>[0.33 0.17 0.12 0.14 0.   0.14 0.01 0.07]",
          "['state bonds' 'listed domestic public equity' 'corporate bonds'\n 'other equity instruments' 'fixed term and savings deposit'\n 'public investment funds' 'listed foreign public equity' 'cash']<br>[0.27 0.01 0.18 0.02 0.24 0.01 0.06 0.21]",
          "['listed foreign public equity' 'state bonds' 'public investment funds'\n 'other equity instruments' 'listed domestic public equity'\n 'corporate bonds' 'cash' 'fixed term and savings deposit']<br>[0.04 0.24 0.01 0.04 0.01 0.18 0.22 0.26]",
          "['state bonds' 'corporate bonds' 'listed domestic public equity'\n 'fixed term and savings deposit' 'other equity instruments'\n 'listed foreign public equity' 'public investment funds' 'cash']<br>[0.26 0.22 0.02 0.   0.13 0.24 0.01 0.13]",
          "['listed foreign public equity' 'corporate bonds'\n 'listed domestic public equity' 'cash' 'state bonds'\n 'fixed term and savings deposit' 'public investment funds'\n 'other equity instruments']<br>[0.03 0.15 0.01 0.18 0.29 0.26 0.04 0.04]",
          "['state bonds' 'listed domestic public equity' 'other equity instruments'\n 'cash' 'public investment funds' 'corporate bonds'\n 'listed foreign public equity' 'fixed term and savings deposit']<br>[0.26 0.01 0.05 0.17 0.   0.2  0.16 0.15]",
          "['listed foreign public equity' 'state bonds'\n 'listed domestic public equity' 'fixed term and savings deposit'\n 'other equity instruments' 'public investment funds' 'cash'\n 'corporate bonds']<br>[0.21 0.2  0.   0.04 0.13 0.01 0.14 0.28]",
          "['cash' 'other equity instruments' 'public investment funds'\n 'corporate bonds' 'state bonds' 'fixed term and savings deposit'\n 'listed foreign public equity' 'listed domestic public equity']<br>[0.12 0.04 0.   0.15 0.31 0.13 0.25 0.  ]",
          "['fixed term and savings deposit' 'corporate bonds'\n 'public investment funds' 'listed domestic public equity' 'state bonds'\n 'cash' 'other equity instruments' 'listed foreign public equity']<br>[0.06 0.17 0.03 0.01 0.19 0.12 0.25 0.17]",
          "['cash' 'state bonds' 'listed foreign public equity' 'corporate bonds'\n 'public investment funds' 'fixed term and savings deposit'\n 'other equity instruments' 'listed domestic public equity']<br>[0.12 0.26 0.07 0.25 0.02 0.13 0.15 0.  ]",
          "['fixed term and savings deposit' 'other equity instruments'\n 'listed foreign public equity' 'state bonds' 'public investment funds'\n 'cash' 'listed domestic public equity' 'corporate bonds']<br>[0.01 0.27 0.31 0.1  0.07 0.13 0.01 0.1 ]",
          "['state bonds' 'listed domestic public equity' 'corporate bonds'\n 'other equity instruments' 'cash' 'fixed term and savings deposit'\n 'listed foreign public equity' 'public investment funds']<br>[0.19 0.01 0.23 0.26 0.14 0.01 0.16 0.  ]",
          "['corporate bonds' 'fixed term and savings deposit'\n 'listed domestic public equity' 'state bonds' 'public investment funds'\n 'listed foreign public equity' 'other equity instruments' 'cash']<br>[0.15 0.15 0.01 0.31 0.04 0.14 0.07 0.12]",
          "['listed domestic public equity' 'cash' 'other equity instruments'\n 'fixed term and savings deposit' 'listed foreign public equity'\n 'public investment funds' 'state bonds' 'corporate bonds']<br>[0.01 0.17 0.29 0.   0.23 0.03 0.24 0.04]",
          "['listed domestic public equity' 'listed foreign public equity'\n 'fixed term and savings deposit' 'public investment funds' 'cash'\n 'state bonds' 'corporate bonds' 'other equity instruments']<br>[0.01 0.06 0.21 0.04 0.15 0.26 0.22 0.05]",
          "['listed foreign public equity' 'corporate bonds' 'state bonds'\n 'fixed term and savings deposit' 'public investment funds' 'cash'\n 'listed domestic public equity' 'other equity instruments']<br>[0.26 0.01 0.23 0.07 0.03 0.14 0.   0.26]",
          "['cash' 'corporate bonds' 'state bonds' 'fixed term and savings deposit'\n 'other equity instruments' 'listed domestic public equity'\n 'listed foreign public equity' 'public investment funds']<br>[0.18 0.2  0.23 0.05 0.18 0.   0.14 0.01]",
          "['cash' 'state bonds' 'fixed term and savings deposit'\n 'other equity instruments' 'corporate bonds'\n 'listed domestic public equity' 'listed foreign public equity'\n 'public investment funds']<br>[0.2  0.31 0.32 0.05 0.02 0.02 0.06 0.02]",
          "['fixed term and savings deposit' 'other equity instruments'\n 'listed foreign public equity' 'cash' 'corporate bonds'\n 'public investment funds' 'state bonds' 'listed domestic public equity']<br>[0.25 0.03 0.15 0.2  0.13 0.   0.25 0.  ]",
          "['public investment funds' 'cash' 'other equity instruments' 'state bonds'\n 'listed foreign public equity' 'corporate bonds'\n 'fixed term and savings deposit' 'listed domestic public equity']<br>[0.16 0.15 0.32 0.03 0.27 0.01 0.02 0.06]",
          "['state bonds' 'listed foreign public equity'\n 'fixed term and savings deposit' 'public investment funds'\n 'corporate bonds' 'other equity instruments'\n 'listed domestic public equity' 'cash']<br>[0.29 0.27 0.   0.   0.15 0.16 0.01 0.12]",
          "['fixed term and savings deposit' 'listed domestic public equity' 'cash'\n 'public investment funds' 'listed foreign public equity'\n 'corporate bonds' 'other equity instruments' 'state bonds']<br>[0.04 0.02 0.14 0.   0.31 0.1  0.26 0.13]",
          "['cash' 'state bonds' 'listed foreign public equity'\n 'other equity instruments' 'listed domestic public equity'\n 'corporate bonds' 'public investment funds'\n 'fixed term and savings deposit']<br>[0.25 0.25 0.02 0.02 0.01 0.13 0.04 0.29]",
          "['public investment funds' 'fixed term and savings deposit' 'cash'\n 'corporate bonds' 'listed foreign public equity'\n 'listed domestic public equity' 'other equity instruments' 'state bonds']<br>[0.02 0.14 0.13 0.2  0.14 0.   0.15 0.2 ]",
          "['fixed term and savings deposit' 'state bonds'\n 'listed foreign public equity' 'cash' 'corporate bonds'\n 'other equity instruments' 'public investment funds'\n 'listed domestic public equity']<br>[0.05 0.26 0.16 0.14 0.22 0.14 0.03 0.  ]",
          "['public investment funds' 'corporate bonds'\n 'listed foreign public equity' 'fixed term and savings deposit'\n 'other equity instruments' 'cash' 'state bonds'\n 'listed domestic public equity']<br>[0.   0.21 0.28 0.04 0.29 0.13 0.02 0.03]",
          "['corporate bonds' 'other equity instruments'\n 'listed foreign public equity' 'fixed term and savings deposit'\n 'public investment funds' 'cash' 'listed domestic public equity'\n 'state bonds']<br>[0.14 0.06 0.13 0.23 0.02 0.16 0.   0.25]",
          "['listed domestic public equity' 'public investment funds'\n 'other equity instruments' 'corporate bonds'\n 'fixed term and savings deposit' 'state bonds'\n 'listed foreign public equity' 'cash']<br>[0.01 0.06 0.27 0.08 0.02 0.12 0.3  0.13]",
          "['listed foreign public equity' 'corporate bonds'\n 'listed domestic public equity' 'other equity instruments'\n 'fixed term and savings deposit' 'cash' 'public investment funds'\n 'state bonds']<br>[0.32 0.12 0.   0.25 0.03 0.14 0.09 0.05]",
          "['state bonds' 'corporate bonds' 'listed domestic public equity'\n 'fixed term and savings deposit' 'other equity instruments'\n 'listed foreign public equity' 'public investment funds' 'cash']<br>[0.3  0.16 0.   0.26 0.01 0.09 0.02 0.17]",
          "['fixed term and savings deposit' 'other equity instruments'\n 'public investment funds' 'listed foreign public equity' 'state bonds'\n 'cash' 'listed domestic public equity' 'corporate bonds']<br>[0.12 0.13 0.   0.13 0.26 0.13 0.01 0.21]",
          "['public investment funds' 'fixed term and savings deposit'\n 'other equity instruments' 'corporate bonds' 'state bonds'\n 'listed domestic public equity' 'listed foreign public equity' 'cash']<br>[0.02 0.15 0.14 0.19 0.2  0.01 0.16 0.14]",
          "['corporate bonds' 'cash' 'listed domestic public equity'\n 'public investment funds' 'fixed term and savings deposit'\n 'listed foreign public equity' 'state bonds' 'other equity instruments']<br>[0.2  0.21 0.   0.02 0.32 0.04 0.19 0.02]",
          "['listed domestic public equity' 'fixed term and savings deposit' 'cash'\n 'public investment funds' 'listed foreign public equity'\n 'corporate bonds' 'state bonds' 'other equity instruments']<br>[0.02 0.02 0.13 0.05 0.3  0.13 0.08 0.27]",
          "['fixed term and savings deposit' 'corporate bonds'\n 'public investment funds' 'other equity instruments' 'state bonds'\n 'listed domestic public equity' 'cash' 'listed foreign public equity']<br>[0.08 0.24 0.01 0.19 0.27 0.01 0.14 0.06]",
          "['public investment funds' 'state bonds' 'cash' 'corporate bonds'\n 'listed domestic public equity' 'other equity instruments'\n 'listed foreign public equity' 'fixed term and savings deposit']<br>[0.04 0.31 0.13 0.01 0.   0.23 0.26 0.01]",
          "['corporate bonds' 'listed foreign public equity'\n 'listed domestic public equity' 'other equity instruments'\n 'fixed term and savings deposit' 'cash' 'public investment funds'\n 'state bonds']<br>[0.14 0.12 0.   0.24 0.02 0.16 0.02 0.3 ]",
          "['listed domestic public equity' 'other equity instruments'\n 'fixed term and savings deposit' 'listed foreign public equity' 'cash'\n 'public investment funds' 'state bonds' 'corporate bonds']<br>[0.07 0.28 0.04 0.31 0.12 0.03 0.11 0.03]",
          "['state bonds' 'listed domestic public equity' 'corporate bonds' 'cash'\n 'public investment funds' 'listed foreign public equity'\n 'fixed term and savings deposit' 'other equity instruments']<br>[0.29 0.01 0.23 0.12 0.02 0.08 0.18 0.07]",
          "['other equity instruments' 'corporate bonds' 'public investment funds'\n 'listed foreign public equity' 'listed domestic public equity' 'cash'\n 'state bonds' 'fixed term and savings deposit']<br>[0.13 0.26 0.05 0.11 0.   0.13 0.26 0.06]",
          "['state bonds' 'other equity instruments' 'listed foreign public equity'\n 'listed domestic public equity' 'fixed term and savings deposit'\n 'corporate bonds' 'cash' 'public investment funds']<br>[0.33 0.13 0.21 0.01 0.1  0.03 0.19 0.01]",
          "['other equity instruments' 'listed domestic public equity' 'state bonds'\n 'listed foreign public equity' 'fixed term and savings deposit'\n 'public investment funds' 'corporate bonds' 'cash']<br>[0.29 0.01 0.06 0.28 0.   0.13 0.09 0.13]",
          "['listed domestic public equity' 'fixed term and savings deposit' 'cash'\n 'public investment funds' 'listed foreign public equity' 'state bonds'\n 'corporate bonds' 'other equity instruments']<br>[0.02 0.2  0.12 0.   0.08 0.23 0.32 0.02]",
          "['listed domestic public equity' 'listed foreign public equity'\n 'public investment funds' 'fixed term and savings deposit'\n 'corporate bonds' 'cash' 'other equity instruments' 'state bonds']<br>[0.01 0.28 0.02 0.11 0.09 0.12 0.06 0.31]",
          "['cash' 'listed domestic public equity' 'corporate bonds'\n 'public investment funds' 'fixed term and savings deposit' 'state bonds'\n 'other equity instruments' 'listed foreign public equity']<br>[0.18 0.02 0.15 0.01 0.04 0.31 0.08 0.21]",
          "['state bonds' 'corporate bonds' 'cash' 'other equity instruments'\n 'listed foreign public equity' 'public investment funds'\n 'listed domestic public equity' 'fixed term and savings deposit']<br>[0.29 0.15 0.19 0.05 0.2  0.   0.   0.12]",
          "['listed foreign public equity' 'corporate bonds'\n 'fixed term and savings deposit' 'public investment funds'\n 'other equity instruments' 'listed domestic public equity' 'state bonds'\n 'cash']<br>[0.33 0.05 0.04 0.01 0.3  0.13 0.03 0.12]",
          "['state bonds' 'other equity instruments' 'public investment funds' 'cash'\n 'listed domestic public equity' 'corporate bonds'\n 'fixed term and savings deposit' 'listed foreign public equity']<br>[0.28 0.05 0.07 0.14 0.   0.19 0.25 0.02]",
          "['cash' 'listed foreign public equity' 'state bonds'\n 'listed domestic public equity' 'other equity instruments'\n 'public investment funds' 'fixed term and savings deposit'\n 'corporate bonds']<br>[0.14 0.23 0.28 0.01 0.18 0.03 0.03 0.1 ]",
          "['public investment funds' 'cash' 'state bonds'\n 'listed foreign public equity' 'listed domestic public equity'\n 'other equity instruments' 'fixed term and savings deposit'\n 'corporate bonds']<br>[0.03 0.13 0.15 0.32 0.03 0.29 0.05 0.  ]",
          "['cash' 'listed domestic public equity' 'fixed term and savings deposit'\n 'state bonds' 'other equity instruments' 'listed foreign public equity'\n 'corporate bonds' 'public investment funds']<br>[0.15 0.   0.07 0.21 0.17 0.1  0.29 0.01]",
          "['corporate bonds' 'cash' 'other equity instruments'\n 'listed foreign public equity' 'fixed term and savings deposit'\n 'state bonds' 'public investment funds' 'listed domestic public equity']<br>[0.05 0.12 0.26 0.2  0.02 0.32 0.02 0.01]",
          "['listed domestic public equity' 'other equity instruments' 'cash'\n 'public investment funds' 'corporate bonds'\n 'fixed term and savings deposit' 'state bonds'\n 'listed foreign public equity']<br>[0.   0.1  0.19 0.   0.26 0.02 0.29 0.15]",
          "['listed domestic public equity' 'corporate bonds'\n 'public investment funds' 'cash' 'other equity instruments' 'state bonds'\n 'fixed term and savings deposit' 'listed foreign public equity']<br>[0.05 0.05 0.08 0.13 0.32 0.02 0.05 0.3 ]",
          "['public investment funds' 'state bonds' 'fixed term and savings deposit'\n 'corporate bonds' 'listed foreign public equity' 'cash'\n 'listed domestic public equity' 'other equity instruments']<br>[0.07 0.01 0.02 0.1  0.32 0.15 0.04 0.29]",
          "['listed foreign public equity' 'listed domestic public equity' 'cash'\n 'other equity instruments' 'public investment funds'\n 'fixed term and savings deposit' 'corporate bonds' 'state bonds']<br>[0.17 0.   0.14 0.   0.   0.22 0.19 0.29]",
          "['listed foreign public equity' 'corporate bonds' 'cash'\n 'listed domestic public equity' 'fixed term and savings deposit'\n 'state bonds' 'other equity instruments' 'public investment funds']<br>[0.18 0.22 0.12 0.   0.08 0.25 0.13 0.01]",
          "['other equity instruments' 'state bonds' 'cash'\n 'listed foreign public equity' 'corporate bonds'\n 'listed domestic public equity' 'fixed term and savings deposit'\n 'public investment funds']<br>[0.27 0.24 0.13 0.25 0.06 0.   0.01 0.03]",
          "['fixed term and savings deposit' 'state bonds' 'corporate bonds'\n 'listed domestic public equity' 'other equity instruments' 'cash'\n 'listed foreign public equity' 'public investment funds']<br>[0.28 0.27 0.17 0.02 0.02 0.15 0.08 0.01]",
          "['cash' 'state bonds' 'corporate bonds' 'public investment funds'\n 'listed foreign public equity' 'other equity instruments'\n 'fixed term and savings deposit' 'listed domestic public equity']<br>[0.14 0.27 0.2  0.01 0.13 0.05 0.19 0.02]",
          "['fixed term and savings deposit' 'public investment funds'\n 'corporate bonds' 'listed foreign public equity' 'state bonds'\n 'other equity instruments' 'listed domestic public equity' 'cash']<br>[0.   0.11 0.02 0.33 0.01 0.26 0.15 0.13]",
          "['corporate bonds' 'cash' 'listed foreign public equity'\n 'other equity instruments' 'state bonds' 'listed domestic public equity'\n 'public investment funds' 'fixed term and savings deposit']<br>[0.16 0.13 0.24 0.12 0.28 0.01 0.03 0.02]",
          "['public investment funds' 'state bonds' 'listed domestic public equity'\n 'corporate bonds' 'listed foreign public equity'\n 'fixed term and savings deposit' 'other equity instruments' 'cash']<br>[0.15 0.   0.14 0.02 0.24 0.01 0.31 0.13]",
          "['other equity instruments' 'corporate bonds'\n 'listed foreign public equity' 'state bonds' 'cash'\n 'listed domestic public equity' 'public investment funds'\n 'fixed term and savings deposit']<br>[0.28 0.19 0.26 0.09 0.13 0.03 0.   0.01]",
          "['state bonds' 'fixed term and savings deposit' 'public investment funds'\n 'listed foreign public equity' 'corporate bonds' 'cash'\n 'listed domestic public equity' 'other equity instruments']<br>[0.04 0.02 0.06 0.32 0.03 0.19 0.02 0.33]",
          "['listed foreign public equity' 'state bonds' 'corporate bonds' 'cash'\n 'fixed term and savings deposit' 'public investment funds'\n 'listed domestic public equity' 'other equity instruments']<br>[0.09 0.28 0.2  0.13 0.26 0.03 0.01 0.  ]",
          "['fixed term and savings deposit' 'public investment funds' 'state bonds'\n 'listed foreign public equity' 'other equity instruments'\n 'corporate bonds' 'listed domestic public equity' 'cash']<br>[0.28 0.   0.33 0.1  0.06 0.02 0.02 0.2 ]",
          "['listed foreign public equity' 'listed domestic public equity'\n 'state bonds' 'fixed term and savings deposit' 'cash'\n 'public investment funds' 'other equity instruments' 'corporate bonds']<br>[0.2  0.01 0.21 0.03 0.12 0.01 0.12 0.28]",
          "['state bonds' 'cash' 'corporate bonds' 'listed domestic public equity'\n 'listed foreign public equity' 'fixed term and savings deposit'\n 'public investment funds' 'other equity instruments']<br>[0.24 0.12 0.23 0.01 0.21 0.02 0.02 0.15]",
          "['other equity instruments' 'cash' 'listed foreign public equity'\n 'corporate bonds' 'public investment funds' 'state bonds'\n 'fixed term and savings deposit' 'listed domestic public equity']<br>[0.14 0.12 0.22 0.22 0.   0.26 0.01 0.02]",
          "['listed domestic public equity' 'listed foreign public equity' 'cash'\n 'public investment funds' 'fixed term and savings deposit'\n 'corporate bonds' 'state bonds' 'other equity instruments']<br>[0.01 0.18 0.18 0.02 0.03 0.13 0.29 0.16]",
          "['fixed term and savings deposit' 'listed foreign public equity'\n 'other equity instruments' 'public investment funds' 'cash'\n 'corporate bonds' 'state bonds' 'listed domestic public equity']<br>[0.03 0.31 0.3  0.02 0.13 0.04 0.12 0.06]",
          "['public investment funds' 'state bonds' 'fixed term and savings deposit'\n 'corporate bonds' 'cash' 'listed foreign public equity'\n 'listed domestic public equity' 'other equity instruments']<br>[0.03 0.28 0.3  0.14 0.21 0.02 0.01 0.  ]",
          "['corporate bonds' 'other equity instruments'\n 'fixed term and savings deposit' 'cash' 'listed foreign public equity'\n 'listed domestic public equity' 'public investment funds' 'state bonds']<br>[0.05 0.32 0.02 0.13 0.22 0.   0.02 0.25]",
          "['corporate bonds' 'other equity instruments' 'cash'\n 'public investment funds' 'listed domestic public equity'\n 'fixed term and savings deposit' 'state bonds'\n 'listed foreign public equity']<br>[0.21 0.12 0.13 0.01 0.02 0.14 0.28 0.1 ]",
          "['public investment funds' 'listed domestic public equity'\n 'fixed term and savings deposit' 'listed foreign public equity'\n 'corporate bonds' 'other equity instruments' 'cash' 'state bonds']<br>[0.   0.   0.06 0.24 0.24 0.06 0.16 0.24]",
          "['other equity instruments' 'public investment funds'\n 'listed foreign public equity' 'listed domestic public equity' 'cash'\n 'fixed term and savings deposit' 'state bonds' 'corporate bonds']<br>[0.17 0.01 0.12 0.01 0.12 0.1  0.32 0.15]",
          "['corporate bonds' 'fixed term and savings deposit'\n 'other equity instruments' 'cash' 'public investment funds' 'state bonds'\n 'listed domestic public equity' 'listed foreign public equity']<br>[0.27 0.18 0.03 0.13 0.02 0.28 0.   0.1 ]",
          "['public investment funds' 'fixed term and savings deposit'\n 'listed foreign public equity' 'state bonds' 'cash' 'corporate bonds'\n 'listed domestic public equity' 'other equity instruments']<br>[0.02 0.26 0.04 0.19 0.24 0.21 0.01 0.04]",
          "['state bonds' 'public investment funds' 'corporate bonds'\n 'other equity instruments' 'listed foreign public equity'\n 'listed domestic public equity' 'cash' 'fixed term and savings deposit']<br>[0.32 0.   0.11 0.13 0.27 0.01 0.15 0.  ]",
          "['other equity instruments' 'public investment funds'\n 'fixed term and savings deposit' 'cash' 'listed foreign public equity'\n 'listed domestic public equity' 'state bonds' 'corporate bonds']<br>[0.33 0.05 0.03 0.12 0.28 0.03 0.05 0.12]",
          "['corporate bonds' 'cash' 'other equity instruments' 'state bonds'\n 'fixed term and savings deposit' 'listed domestic public equity'\n 'public investment funds' 'listed foreign public equity']<br>[0.2  0.13 0.09 0.26 0.15 0.   0.04 0.13]",
          "['public investment funds' 'fixed term and savings deposit' 'state bonds'\n 'cash' 'other equity instruments' 'corporate bonds'\n 'listed domestic public equity' 'listed foreign public equity']<br>[0.01 0.06 0.24 0.12 0.19 0.17 0.   0.19]",
          "['state bonds' 'other equity instruments' 'cash' 'public investment funds'\n 'corporate bonds' 'fixed term and savings deposit'\n 'listed domestic public equity' 'listed foreign public equity']<br>[0.29 0.17 0.13 0.01 0.06 0.13 0.01 0.2 ]",
          "['public investment funds' 'corporate bonds'\n 'listed domestic public equity' 'listed foreign public equity' 'cash'\n 'fixed term and savings deposit' 'other equity instruments' 'state bonds']<br>[0.03 0.14 0.01 0.05 0.18 0.26 0.   0.33]",
          "['listed foreign public equity' 'state bonds' 'public investment funds'\n 'fixed term and savings deposit' 'other equity instruments'\n 'listed domestic public equity' 'corporate bonds' 'cash']<br>[0.19 0.22 0.01 0.   0.22 0.01 0.2  0.14]",
          "['corporate bonds' 'listed foreign public equity'\n 'listed domestic public equity' 'other equity instruments'\n 'public investment funds' 'state bonds' 'cash'\n 'fixed term and savings deposit']<br>[0.1  0.27 0.02 0.32 0.04 0.1  0.13 0.03]",
          "['other equity instruments' 'cash' 'listed domestic public equity'\n 'public investment funds' 'state bonds' 'corporate bonds'\n 'listed foreign public equity' 'fixed term and savings deposit']<br>[0.04 0.13 0.02 0.   0.3  0.19 0.17 0.14]",
          "['listed foreign public equity' 'corporate bonds'\n 'listed domestic public equity' 'public investment funds' 'cash'\n 'state bonds' 'other equity instruments' 'fixed term and savings deposit']<br>[0.08 0.1  0.01 0.01 0.23 0.24 0.04 0.3 ]",
          "['public investment funds' 'other equity instruments'\n 'fixed term and savings deposit' 'cash' 'listed domestic public equity'\n 'corporate bonds' 'listed foreign public equity' 'state bonds']<br>[0.   0.22 0.03 0.13 0.   0.18 0.27 0.17]",
          "['listed domestic public equity' 'public investment funds' 'cash'\n 'corporate bonds' 'other equity instruments'\n 'fixed term and savings deposit' 'listed foreign public equity'\n 'state bonds']<br>[0.   0.08 0.12 0.05 0.25 0.04 0.31 0.14]",
          "['other equity instruments' 'corporate bonds'\n 'listed foreign public equity' 'public investment funds'\n 'fixed term and savings deposit' 'cash' 'listed domestic public equity'\n 'state bonds']<br>[0.31 0.06 0.32 0.04 0.02 0.12 0.12 0.  ]",
          "['public investment funds' 'listed domestic public equity' 'state bonds'\n 'cash' 'listed foreign public equity' 'fixed term and savings deposit'\n 'other equity instruments' 'corporate bonds']<br>[0.03 0.01 0.27 0.13 0.17 0.08 0.26 0.06]",
          "['fixed term and savings deposit' 'public investment funds'\n 'listed foreign public equity' 'state bonds' 'cash' 'corporate bonds'\n 'other equity instruments' 'listed domestic public equity']<br>[0.32 0.05 0.01 0.24 0.13 0.2  0.05 0.  ]",
          "['cash' 'listed domestic public equity' 'state bonds'\n 'listed foreign public equity' 'corporate bonds'\n 'public investment funds' 'other equity instruments'\n 'fixed term and savings deposit']<br>[0.31 0.02 0.12 0.01 0.25 0.   0.   0.29]",
          "['listed foreign public equity' 'public investment funds'\n 'corporate bonds' 'state bonds' 'fixed term and savings deposit' 'cash'\n 'listed domestic public equity' 'other equity instruments']<br>[0.1  0.   0.23 0.28 0.14 0.14 0.01 0.09]",
          "['fixed term and savings deposit' 'cash' 'public investment funds'\n 'listed foreign public equity' 'state bonds' 'other equity instruments'\n 'listed domestic public equity' 'corporate bonds']<br>[0.22 0.23 0.01 0.1  0.31 0.06 0.01 0.06]",
          "['listed domestic public equity' 'cash' 'public investment funds'\n 'fixed term and savings deposit' 'state bonds'\n 'listed foreign public equity' 'other equity instruments'\n 'corporate bonds']<br>[0.   0.3  0.   0.29 0.21 0.06 0.02 0.11]",
          "['listed domestic public equity' 'listed foreign public equity'\n 'fixed term and savings deposit' 'public investment funds' 'state bonds'\n 'cash' 'corporate bonds' 'other equity instruments']<br>[0.01 0.1  0.05 0.04 0.32 0.15 0.27 0.07]",
          "['fixed term and savings deposit' 'other equity instruments' 'state bonds'\n 'listed domestic public equity' 'listed foreign public equity'\n 'corporate bonds' 'public investment funds' 'cash']<br>[0.09 0.05 0.27 0.01 0.08 0.31 0.04 0.14]",
          "['public investment funds' 'listed domestic public equity'\n 'other equity instruments' 'listed foreign public equity' 'cash'\n 'corporate bonds' 'state bonds' 'fixed term and savings deposit']<br>[0.01 0.   0.18 0.15 0.16 0.14 0.31 0.07]",
          "['fixed term and savings deposit' 'listed domestic public equity'\n 'other equity instruments' 'corporate bonds'\n 'listed foreign public equity' 'state bonds' 'public investment funds'\n 'cash']<br>[0.07 0.   0.32 0.05 0.31 0.07 0.01 0.17]",
          "['listed domestic public equity' 'public investment funds' 'state bonds'\n 'cash' 'other equity instruments' 'corporate bonds'\n 'fixed term and savings deposit' 'listed foreign public equity']<br>[0.01 0.04 0.17 0.14 0.24 0.14 0.01 0.24]",
          "['fixed term and savings deposit' 'other equity instruments'\n 'corporate bonds' 'listed foreign public equity' 'state bonds' 'cash'\n 'public investment funds' 'listed domestic public equity']<br>[0.06 0.13 0.21 0.09 0.3  0.19 0.01 0.  ]",
          "['fixed term and savings deposit' 'cash' 'state bonds'\n 'listed foreign public equity' 'other equity instruments'\n 'public investment funds' 'corporate bonds'\n 'listed domestic public equity']<br>[0.   0.13 0.03 0.32 0.3  0.06 0.13 0.03]",
          "['fixed term and savings deposit' 'other equity instruments'\n 'corporate bonds' 'listed foreign public equity' 'cash' 'state bonds'\n 'listed domestic public equity' 'public investment funds']<br>[0.24 0.06 0.13 0.09 0.15 0.3  0.01 0.03]",
          "['listed domestic public equity' 'cash' 'state bonds'\n 'listed foreign public equity' 'other equity instruments'\n 'fixed term and savings deposit' 'corporate bonds'\n 'public investment funds']<br>[0.02 0.2  0.32 0.08 0.03 0.22 0.12 0.  ]",
          "['state bonds' 'fixed term and savings deposit' 'corporate bonds'\n 'other equity instruments' 'listed domestic public equity'\n 'public investment funds' 'cash' 'listed foreign public equity']<br>[0.   0.01 0.07 0.33 0.06 0.12 0.12 0.28]",
          "['corporate bonds' 'other equity instruments'\n 'fixed term and savings deposit' 'listed foreign public equity'\n 'listed domestic public equity' 'public investment funds' 'state bonds'\n 'cash']<br>[0.1  0.3  0.03 0.31 0.01 0.01 0.08 0.17]",
          "['corporate bonds' 'other equity instruments'\n 'listed foreign public equity' 'fixed term and savings deposit'\n 'state bonds' 'public investment funds' 'cash'\n 'listed domestic public equity']<br>[0.21 0.08 0.08 0.18 0.27 0.02 0.14 0.01]",
          "['cash' 'listed foreign public equity' 'fixed term and savings deposit'\n 'state bonds' 'other equity instruments' 'corporate bonds'\n 'public investment funds' 'listed domestic public equity']<br>[0.12 0.07 0.2  0.27 0.07 0.24 0.01 0.02]",
          "['public investment funds' 'fixed term and savings deposit'\n 'listed domestic public equity' 'state bonds' 'cash'\n 'other equity instruments' 'listed foreign public equity'\n 'corporate bonds']<br>[0.   0.02 0.02 0.31 0.12 0.2  0.13 0.2 ]",
          "['other equity instruments' 'listed domestic public equity' 'state bonds'\n 'cash' 'corporate bonds' 'fixed term and savings deposit'\n 'public investment funds' 'listed foreign public equity']<br>[0.09 0.01 0.29 0.12 0.23 0.1  0.   0.15]",
          "['cash' 'state bonds' 'listed foreign public equity'\n 'other equity instruments' 'public investment funds'\n 'fixed term and savings deposit' 'listed domestic public equity'\n 'corporate bonds']<br>[0.12 0.29 0.29 0.19 0.02 0.07 0.02 0.01]",
          "['listed domestic public equity' 'fixed term and savings deposit'\n 'listed foreign public equity' 'corporate bonds' 'state bonds' 'cash'\n 'public investment funds' 'other equity instruments']<br>[0.   0.01 0.23 0.2  0.23 0.14 0.   0.19]",
          "['public investment funds' 'corporate bonds' 'state bonds'\n 'listed foreign public equity' 'cash' 'listed domestic public equity'\n 'fixed term and savings deposit' 'other equity instruments']<br>[0.03 0.15 0.23 0.09 0.14 0.   0.3  0.06]",
          "['listed foreign public equity' 'state bonds' 'cash'\n 'fixed term and savings deposit' 'listed domestic public equity'\n 'public investment funds' 'other equity instruments' 'corporate bonds']<br>[0.06 0.27 0.12 0.27 0.   0.05 0.05 0.17]",
          "['cash' 'state bonds' 'listed domestic public equity'\n 'other equity instruments' 'listed foreign public equity'\n 'corporate bonds' 'fixed term and savings deposit'\n 'public investment funds']<br>[0.15 0.28 0.   0.01 0.07 0.22 0.23 0.04]",
          "['public investment funds' 'state bonds' 'cash' 'other equity instruments'\n 'corporate bonds' 'fixed term and savings deposit'\n 'listed foreign public equity' 'listed domestic public equity']<br>[0.   0.29 0.16 0.12 0.12 0.17 0.13 0.01]",
          "['corporate bonds' 'cash' 'other equity instruments'\n 'public investment funds' 'listed domestic public equity' 'state bonds'\n 'listed foreign public equity' 'fixed term and savings deposit']<br>[0.12 0.16 0.08 0.03 0.   0.28 0.12 0.21]",
          "['listed foreign public equity' 'fixed term and savings deposit'\n 'public investment funds' 'corporate bonds'\n 'listed domestic public equity' 'cash' 'other equity instruments'\n 'state bonds']<br>[0.29 0.03 0.07 0.02 0.03 0.12 0.3  0.14]",
          "['corporate bonds' 'other equity instruments'\n 'listed domestic public equity' 'listed foreign public equity'\n 'public investment funds' 'cash' 'fixed term and savings deposit'\n 'state bonds']<br>[0.15 0.05 0.   0.11 0.01 0.13 0.26 0.28]",
          "['corporate bonds' 'public investment funds'\n 'listed domestic public equity' 'fixed term and savings deposit'\n 'other equity instruments' 'listed foreign public equity' 'cash'\n 'state bonds']<br>[0.18 0.01 0.01 0.03 0.16 0.18 0.17 0.25]",
          "['fixed term and savings deposit' 'listed foreign public equity'\n 'state bonds' 'public investment funds' 'corporate bonds'\n 'other equity instruments' 'cash' 'listed domestic public equity']<br>[0.26 0.11 0.29 0.02 0.1  0.08 0.14 0.  ]",
          "['other equity instruments' 'cash' 'state bonds'\n 'listed foreign public equity' 'fixed term and savings deposit'\n 'listed domestic public equity' 'corporate bonds'\n 'public investment funds']<br>[0.1  0.21 0.31 0.11 0.02 0.   0.24 0.01]",
          "['state bonds' 'cash' 'corporate bonds' 'other equity instruments'\n 'fixed term and savings deposit' 'listed domestic public equity'\n 'listed foreign public equity' 'public investment funds']<br>[0.32 0.24 0.09 0.01 0.3  0.01 0.01 0.02]",
          "['state bonds' 'cash' 'other equity instruments' 'public investment funds'\n 'listed foreign public equity' 'fixed term and savings deposit'\n 'listed domestic public equity' 'corporate bonds']<br>[0.21 0.14 0.26 0.01 0.2  0.03 0.   0.14]",
          "['corporate bonds' 'listed domestic public equity'\n 'public investment funds' 'fixed term and savings deposit'\n 'other equity instruments' 'listed foreign public equity' 'cash'\n 'state bonds']<br>[0.29 0.   0.   0.21 0.06 0.04 0.15 0.25]",
          "['other equity instruments' 'public investment funds' 'state bonds'\n 'listed foreign public equity' 'corporate bonds'\n 'listed domestic public equity' 'cash' 'fixed term and savings deposit']<br>[0.28 0.02 0.29 0.26 0.01 0.   0.14 0.01]",
          "['fixed term and savings deposit' 'listed foreign public equity' 'cash'\n 'listed domestic public equity' 'state bonds' 'other equity instruments'\n 'corporate bonds' 'public investment funds']<br>[0.02 0.19 0.13 0.   0.33 0.17 0.09 0.07]",
          "['public investment funds' 'corporate bonds' 'cash' 'state bonds'\n 'other equity instruments' 'listed domestic public equity'\n 'listed foreign public equity' 'fixed term and savings deposit']<br>[0.   0.17 0.15 0.27 0.11 0.   0.18 0.13]",
          "['listed foreign public equity' 'fixed term and savings deposit' 'cash'\n 'corporate bonds' 'listed domestic public equity'\n 'public investment funds' 'state bonds' 'other equity instruments']<br>[0.1  0.08 0.12 0.16 0.   0.04 0.31 0.18]",
          "['other equity instruments' 'fixed term and savings deposit'\n 'listed foreign public equity' 'state bonds' 'corporate bonds' 'cash'\n 'public investment funds' 'listed domestic public equity']<br>[0.07 0.14 0.15 0.23 0.26 0.15 0.   0.  ]",
          "['other equity instruments' 'state bonds' 'listed domestic public equity'\n 'listed foreign public equity' 'public investment funds'\n 'fixed term and savings deposit' 'corporate bonds' 'cash']<br>[0.23 0.25 0.01 0.24 0.01 0.01 0.11 0.14]",
          "['listed foreign public equity' 'fixed term and savings deposit'\n 'state bonds' 'cash' 'public investment funds' 'corporate bonds'\n 'listed domestic public equity' 'other equity instruments']<br>[0.08 0.03 0.32 0.12 0.   0.3  0.04 0.11]",
          "['public investment funds' 'listed domestic public equity'\n 'listed foreign public equity' 'state bonds'\n 'fixed term and savings deposit' 'cash' 'corporate bonds'\n 'other equity instruments']<br>[0.   0.01 0.04 0.28 0.22 0.28 0.11 0.04]",
          "['corporate bonds' 'fixed term and savings deposit'\n 'listed domestic public equity' 'other equity instruments'\n 'public investment funds' 'listed foreign public equity' 'cash'\n 'state bonds']<br>[0.19 0.05 0.   0.18 0.03 0.15 0.13 0.26]",
          "['other equity instruments' 'fixed term and savings deposit'\n 'corporate bonds' 'listed domestic public equity'\n 'listed foreign public equity' 'state bonds' 'cash'\n 'public investment funds']<br>[0.07 0.07 0.14 0.01 0.24 0.31 0.15 0.01]",
          "['cash' 'corporate bonds' 'state bonds' 'public investment funds'\n 'listed foreign public equity' 'other equity instruments'\n 'fixed term and savings deposit' 'listed domestic public equity']<br>[0.13 0.01 0.12 0.04 0.3  0.31 0.09 0.01]",
          "['state bonds' 'listed domestic public equity' 'other equity instruments'\n 'public investment funds' 'cash' 'listed foreign public equity'\n 'corporate bonds' 'fixed term and savings deposit']<br>[0.12 0.04 0.33 0.02 0.12 0.31 0.04 0.02]",
          "['fixed term and savings deposit' 'corporate bonds'\n 'other equity instruments' 'listed domestic public equity' 'cash'\n 'state bonds' 'listed foreign public equity' 'public investment funds']<br>[0.03 0.08 0.3  0.02 0.12 0.08 0.29 0.08]",
          "['public investment funds' 'corporate bonds' 'other equity instruments'\n 'listed domestic public equity' 'listed foreign public equity' 'cash'\n 'fixed term and savings deposit' 'state bonds']<br>[0.01 0.18 0.23 0.01 0.18 0.13 0.02 0.23]",
          "['state bonds' 'listed foreign public equity' 'public investment funds'\n 'fixed term and savings deposit' 'listed domestic public equity'\n 'corporate bonds' 'cash' 'other equity instruments']<br>[0.22 0.26 0.01 0.01 0.   0.22 0.13 0.14]",
          "['other equity instruments' 'state bonds' 'corporate bonds'\n 'fixed term and savings deposit' 'public investment funds'\n 'listed foreign public equity' 'cash' 'listed domestic public equity']<br>[0.3  0.18 0.11 0.01 0.01 0.24 0.13 0.02]",
          "['corporate bonds' 'state bonds' 'listed foreign public equity'\n 'other equity instruments' 'fixed term and savings deposit'\n 'listed domestic public equity' 'cash' 'public investment funds']<br>[0.26 0.27 0.08 0.   0.26 0.   0.13 0.  ]",
          "['cash' 'public investment funds' 'other equity instruments'\n 'corporate bonds' 'fixed term and savings deposit' 'state bonds'\n 'listed foreign public equity' 'listed domestic public equity']<br>[0.16 0.02 0.31 0.01 0.03 0.17 0.28 0.01]",
          "['state bonds' 'listed foreign public equity'\n 'fixed term and savings deposit' 'corporate bonds' 'cash'\n 'public investment funds' 'other equity instruments'\n 'listed domestic public equity']<br>[0.33 0.16 0.03 0.16 0.17 0.01 0.12 0.01]",
          "['other equity instruments' 'state bonds' 'corporate bonds'\n 'listed foreign public equity' 'public investment funds'\n 'fixed term and savings deposit' 'listed domestic public equity' 'cash']<br>[0.17 0.2  0.17 0.19 0.   0.14 0.   0.13]",
          "['fixed term and savings deposit' 'other equity instruments'\n 'public investment funds' 'corporate bonds'\n 'listed foreign public equity' 'state bonds'\n 'listed domestic public equity' 'cash']<br>[0.25 0.06 0.01 0.06 0.15 0.28 0.01 0.18]",
          "['state bonds' 'listed domestic public equity' 'corporate bonds'\n 'listed foreign public equity' 'public investment funds'\n 'fixed term and savings deposit' 'other equity instruments' 'cash']<br>[0.25 0.   0.14 0.16 0.04 0.03 0.25 0.12]",
          "['fixed term and savings deposit' 'state bonds' 'cash'\n 'other equity instruments' 'corporate bonds'\n 'listed domestic public equity' 'public investment funds'\n 'listed foreign public equity']<br>[0.1  0.27 0.15 0.07 0.22 0.01 0.02 0.15]",
          "['other equity instruments' 'corporate bonds'\n 'listed foreign public equity' 'listed domestic public equity' 'cash'\n 'fixed term and savings deposit' 'state bonds' 'public investment funds']<br>[0.32 0.03 0.33 0.02 0.16 0.04 0.09 0.  ]",
          "['listed domestic public equity' 'listed foreign public equity'\n 'other equity instruments' 'corporate bonds' 'cash'\n 'public investment funds' 'fixed term and savings deposit' 'state bonds']<br>[0.01 0.12 0.04 0.26 0.15 0.   0.17 0.24]",
          "['cash' 'other equity instruments' 'listed domestic public equity'\n 'listed foreign public equity' 'public investment funds' 'state bonds'\n 'fixed term and savings deposit' 'corporate bonds']<br>[0.14 0.08 0.02 0.11 0.   0.28 0.14 0.23]",
          "['other equity instruments' 'public investment funds' 'state bonds'\n 'listed domestic public equity' 'listed foreign public equity'\n 'corporate bonds' 'fixed term and savings deposit' 'cash']<br>[0.3  0.02 0.2  0.02 0.26 0.04 0.02 0.14]",
          "['fixed term and savings deposit' 'state bonds' 'public investment funds'\n 'listed foreign public equity' 'listed domestic public equity'\n 'other equity instruments' 'cash' 'corporate bonds']<br>[0.04 0.26 0.02 0.21 0.   0.11 0.16 0.21]",
          "['listed domestic public equity' 'corporate bonds' 'cash' 'state bonds'\n 'listed foreign public equity' 'public investment funds'\n 'other equity instruments' 'fixed term and savings deposit']<br>[0.   0.   0.19 0.08 0.32 0.07 0.33 0.01]",
          "['listed foreign public equity' 'corporate bonds'\n 'other equity instruments' 'state bonds' 'public investment funds' 'cash'\n 'listed domestic public equity' 'fixed term and savings deposit']<br>[0.17 0.15 0.18 0.27 0.01 0.18 0.   0.03]",
          "['fixed term and savings deposit' 'other equity instruments'\n 'listed foreign public equity' 'corporate bonds'\n 'listed domestic public equity' 'state bonds' 'public investment funds'\n 'cash']<br>[0.14 0.08 0.16 0.14 0.   0.3  0.04 0.15]",
          "['fixed term and savings deposit' 'cash' 'public investment funds'\n 'listed domestic public equity' 'other equity instruments'\n 'corporate bonds' 'listed foreign public equity' 'state bonds']<br>[0.28 0.26 0.03 0.   0.02 0.18 0.01 0.21]",
          "['other equity instruments' 'corporate bonds'\n 'fixed term and savings deposit' 'cash' 'listed domestic public equity'\n 'listed foreign public equity' 'state bonds' 'public investment funds']<br>[0.03 0.26 0.08 0.12 0.01 0.18 0.29 0.02]",
          "['state bonds' 'public investment funds' 'cash' 'corporate bonds'\n 'listed foreign public equity' 'other equity instruments'\n 'listed domestic public equity' 'fixed term and savings deposit']<br>[0.24 0.01 0.13 0.06 0.21 0.24 0.   0.1 ]",
          "['cash' 'other equity instruments' 'fixed term and savings deposit'\n 'listed domestic public equity' 'public investment funds'\n 'corporate bonds' 'listed foreign public equity' 'state bonds']<br>[0.13 0.04 0.32 0.02 0.02 0.09 0.06 0.33]",
          "['listed domestic public equity' 'corporate bonds' 'cash'\n 'public investment funds' 'listed foreign public equity' 'state bonds'\n 'fixed term and savings deposit' 'other equity instruments']<br>[0.01 0.12 0.28 0.01 0.04 0.26 0.23 0.05]",
          "['public investment funds' 'fixed term and savings deposit' 'state bonds'\n 'corporate bonds' 'other equity instruments'\n 'listed foreign public equity' 'cash' 'listed domestic public equity']<br>[0.01 0.01 0.26 0.2  0.18 0.2  0.14 0.01]",
          "['listed foreign public equity' 'cash' 'fixed term and savings deposit'\n 'state bonds' 'corporate bonds' 'other equity instruments'\n 'listed domestic public equity' 'public investment funds']<br>[0.17 0.14 0.05 0.33 0.25 0.04 0.01 0.01]",
          "['public investment funds' 'listed domestic public equity' 'cash'\n 'corporate bonds' 'listed foreign public equity'\n 'other equity instruments' 'fixed term and savings deposit' 'state bonds']<br>[0.02 0.01 0.13 0.31 0.09 0.06 0.08 0.29]",
          "['state bonds' 'listed domestic public equity'\n 'fixed term and savings deposit' 'other equity instruments' 'cash'\n 'public investment funds' 'corporate bonds'\n 'listed foreign public equity']<br>[0.23 0.02 0.02 0.13 0.15 0.01 0.24 0.19]",
          "['public investment funds' 'other equity instruments' 'corporate bonds'\n 'cash' 'state bonds' 'listed domestic public equity'\n 'listed foreign public equity' 'fixed term and savings deposit']<br>[0.04 0.33 0.1  0.14 0.06 0.03 0.29 0.01]",
          "['corporate bonds' 'other equity instruments' 'public investment funds'\n 'state bonds' 'listed domestic public equity'\n 'listed foreign public equity' 'fixed term and savings deposit' 'cash']<br>[0.07 0.06 0.   0.24 0.   0.06 0.33 0.23]",
          "['corporate bonds' 'other equity instruments' 'public investment funds'\n 'cash' 'listed foreign public equity' 'listed domestic public equity'\n 'fixed term and savings deposit' 'state bonds']<br>[0.17 0.16 0.   0.15 0.09 0.01 0.12 0.3 ]",
          "['fixed term and savings deposit' 'other equity instruments'\n 'listed domestic public equity' 'listed foreign public equity' 'cash'\n 'corporate bonds' 'public investment funds' 'state bonds']<br>[0.01 0.28 0.   0.31 0.12 0.24 0.02 0.01]",
          "['listed foreign public equity' 'other equity instruments' 'state bonds'\n 'corporate bonds' 'cash' 'fixed term and savings deposit'\n 'public investment funds' 'listed domestic public equity']<br>[0.29 0.3  0.12 0.09 0.14 0.03 0.03 0.01]",
          "['public investment funds' 'fixed term and savings deposit'\n 'other equity instruments' 'listed domestic public equity'\n 'corporate bonds' 'state bonds' 'cash' 'listed foreign public equity']<br>[0.01 0.21 0.07 0.01 0.1  0.32 0.21 0.07]",
          "['corporate bonds' 'cash' 'listed foreign public equity'\n 'other equity instruments' 'public investment funds'\n 'fixed term and savings deposit' 'state bonds'\n 'listed domestic public equity']<br>[0.21 0.28 0.02 0.02 0.   0.29 0.16 0.01]",
          "['listed domestic public equity' 'public investment funds' 'state bonds'\n 'listed foreign public equity' 'other equity instruments'\n 'corporate bonds' 'cash' 'fixed term and savings deposit']<br>[0.01 0.01 0.3  0.19 0.06 0.27 0.13 0.02]",
          "['listed domestic public equity' 'state bonds' 'other equity instruments'\n 'cash' 'fixed term and savings deposit' 'corporate bonds'\n 'public investment funds' 'listed foreign public equity']<br>[0.   0.32 0.14 0.18 0.05 0.14 0.   0.17]",
          "['state bonds' 'other equity instruments' 'public investment funds'\n 'corporate bonds' 'listed domestic public equity'\n 'fixed term and savings deposit' 'cash' 'listed foreign public equity']<br>[0.29 0.01 0.03 0.06 0.   0.29 0.3  0.03]",
          "['fixed term and savings deposit' 'listed foreign public equity'\n 'listed domestic public equity' 'public investment funds'\n 'corporate bonds' 'other equity instruments' 'cash' 'state bonds']<br>[0.15 0.09 0.   0.   0.25 0.04 0.21 0.25]",
          "['public investment funds' 'state bonds' 'cash' 'other equity instruments'\n 'listed domestic public equity' 'fixed term and savings deposit'\n 'corporate bonds' 'listed foreign public equity']<br>[0.02 0.19 0.12 0.25 0.   0.01 0.17 0.24]",
          "['corporate bonds' 'fixed term and savings deposit' 'state bonds'\n 'other equity instruments' 'public investment funds'\n 'listed domestic public equity' 'cash' 'listed foreign public equity']<br>[0.22 0.05 0.25 0.11 0.01 0.02 0.13 0.22]",
          "['cash' 'public investment funds' 'listed foreign public equity'\n 'state bonds' 'corporate bonds' 'fixed term and savings deposit'\n 'other equity instruments' 'listed domestic public equity']<br>[0.13 0.02 0.22 0.29 0.16 0.   0.16 0.02]",
          "['state bonds' 'listed domestic public equity'\n 'listed foreign public equity' 'fixed term and savings deposit'\n 'corporate bonds' 'public investment funds' 'cash'\n 'other equity instruments']<br>[0.23 0.01 0.   0.31 0.26 0.02 0.14 0.04]",
          "['listed foreign public equity' 'state bonds'\n 'listed domestic public equity' 'corporate bonds'\n 'other equity instruments' 'cash' 'public investment funds'\n 'fixed term and savings deposit']<br>[0.21 0.22 0.   0.17 0.22 0.14 0.01 0.02]",
          "['fixed term and savings deposit' 'state bonds'\n 'listed foreign public equity' 'cash' 'listed domestic public equity'\n 'public investment funds' 'corporate bonds' 'other equity instruments']<br>[0.02 0.2  0.27 0.14 0.01 0.   0.05 0.31]",
          "['listed foreign public equity' 'other equity instruments' 'state bonds'\n 'corporate bonds' 'public investment funds' 'cash'\n 'fixed term and savings deposit' 'listed domestic public equity']<br>[0.13 0.01 0.24 0.22 0.   0.15 0.25 0.  ]",
          "['cash' 'listed foreign public equity' 'fixed term and savings deposit'\n 'public investment funds' 'listed domestic public equity'\n 'corporate bonds' 'other equity instruments' 'state bonds']<br>[0.21 0.14 0.21 0.   0.   0.08 0.04 0.32]",
          "['listed domestic public equity' 'cash' 'public investment funds'\n 'listed foreign public equity' 'other equity instruments' 'state bonds'\n 'corporate bonds' 'fixed term and savings deposit']<br>[0.04 0.13 0.02 0.26 0.3  0.21 0.03 0.  ]",
          "['public investment funds' 'other equity instruments'\n 'fixed term and savings deposit' 'listed foreign public equity' 'cash'\n 'listed domestic public equity' 'state bonds' 'corporate bonds']<br>[0.01 0.09 0.3  0.11 0.13 0.   0.33 0.03]",
          "['cash' 'corporate bonds' 'public investment funds'\n 'other equity instruments' 'listed foreign public equity' 'state bonds'\n 'listed domestic public equity' 'fixed term and savings deposit']<br>[0.13 0.21 0.   0.1  0.11 0.27 0.01 0.17]",
          "['state bonds' 'fixed term and savings deposit' 'public investment funds'\n 'other equity instruments' 'corporate bonds' 'cash'\n 'listed foreign public equity' 'listed domestic public equity']<br>[0.23 0.2  0.   0.12 0.15 0.12 0.15 0.01]",
          "['cash' 'listed domestic public equity' 'state bonds'\n 'fixed term and savings deposit' 'corporate bonds'\n 'other equity instruments' 'listed foreign public equity'\n 'public investment funds']<br>[0.19 0.01 0.33 0.22 0.13 0.02 0.1  0.  ]",
          "['other equity instruments' 'listed domestic public equity'\n 'corporate bonds' 'listed foreign public equity'\n 'fixed term and savings deposit' 'public investment funds' 'state bonds'\n 'cash']<br>[0.14 0.03 0.23 0.2  0.01 0.01 0.26 0.12]",
          "['listed foreign public equity' 'fixed term and savings deposit'\n 'public investment funds' 'cash' 'corporate bonds'\n 'other equity instruments' 'state bonds' 'listed domestic public equity']<br>[0.06 0.12 0.03 0.12 0.3  0.06 0.3  0.01]",
          "['listed domestic public equity' 'cash' 'public investment funds'\n 'state bonds' 'fixed term and savings deposit' 'other equity instruments'\n 'listed foreign public equity' 'corporate bonds']<br>[0.   0.13 0.01 0.32 0.2  0.17 0.16 0.  ]",
          "['state bonds' 'listed domestic public equity'\n 'listed foreign public equity' 'public investment funds' 'cash'\n 'other equity instruments' 'fixed term and savings deposit'\n 'corporate bonds']<br>[0.31 0.   0.04 0.   0.19 0.09 0.19 0.17]",
          "['listed domestic public equity' 'other equity instruments'\n 'listed foreign public equity' 'cash' 'state bonds'\n 'fixed term and savings deposit' 'public investment funds'\n 'corporate bonds']<br>[0.   0.2  0.13 0.12 0.25 0.09 0.   0.2 ]",
          "['corporate bonds' 'public investment funds' 'other equity instruments'\n 'listed domestic public equity' 'listed foreign public equity'\n 'fixed term and savings deposit' 'state bonds' 'cash']<br>[0.08 0.03 0.04 0.   0.05 0.29 0.24 0.26]",
          "['listed domestic public equity' 'listed foreign public equity'\n 'public investment funds' 'cash' 'corporate bonds'\n 'fixed term and savings deposit' 'other equity instruments' 'state bonds']<br>[0.   0.17 0.01 0.13 0.25 0.02 0.15 0.25]",
          "['cash' 'public investment funds' 'other equity instruments'\n 'corporate bonds' 'listed domestic public equity'\n 'fixed term and savings deposit' 'state bonds'\n 'listed foreign public equity']<br>[0.13 0.   0.24 0.09 0.02 0.02 0.19 0.31]",
          "['listed foreign public equity' 'fixed term and savings deposit'\n 'state bonds' 'corporate bonds' 'other equity instruments'\n 'listed domestic public equity' 'cash' 'public investment funds']<br>[0.08 0.21 0.31 0.15 0.07 0.01 0.15 0.01]",
          "['fixed term and savings deposit' 'other equity instruments'\n 'listed foreign public equity' 'corporate bonds' 'state bonds' 'cash'\n 'public investment funds' 'listed domestic public equity']<br>[0.01 0.29 0.29 0.1  0.06 0.13 0.09 0.03]",
          "['listed domestic public equity' 'corporate bonds'\n 'fixed term and savings deposit' 'public investment funds' 'state bonds'\n 'other equity instruments' 'cash' 'listed foreign public equity']<br>[0.01 0.14 0.27 0.01 0.25 0.07 0.17 0.08]",
          "['state bonds' 'listed domestic public equity'\n 'listed foreign public equity' 'cash' 'public investment funds'\n 'other equity instruments' 'fixed term and savings deposit'\n 'corporate bonds']<br>[0.31 0.02 0.04 0.13 0.01 0.05 0.26 0.17]",
          "['state bonds' 'listed domestic public equity' 'other equity instruments'\n 'public investment funds' 'listed foreign public equity' 'cash'\n 'fixed term and savings deposit' 'corporate bonds']<br>[0.09 0.03 0.29 0.02 0.3  0.12 0.   0.15]",
          "['listed domestic public equity' 'fixed term and savings deposit'\n 'public investment funds' 'corporate bonds'\n 'listed foreign public equity' 'cash' 'other equity instruments'\n 'state bonds']<br>[0.01 0.01 0.04 0.11 0.25 0.13 0.19 0.26]",
          "['cash' 'listed foreign public equity' 'fixed term and savings deposit'\n 'other equity instruments' 'corporate bonds' 'state bonds'\n 'public investment funds' 'listed domestic public equity']<br>[0.13 0.32 0.   0.31 0.12 0.01 0.04 0.07]",
          "['other equity instruments' 'listed foreign public equity'\n 'public investment funds' 'state bonds' 'listed domestic public equity'\n 'corporate bonds' 'fixed term and savings deposit' 'cash']<br>[0.33 0.32 0.01 0.02 0.09 0.06 0.04 0.14]",
          "['listed domestic public equity' 'listed foreign public equity'\n 'other equity instruments' 'public investment funds'\n 'fixed term and savings deposit' 'cash' 'state bonds' 'corporate bonds']<br>[0.01 0.07 0.1  0.02 0.24 0.14 0.25 0.18]",
          "['other equity instruments' 'fixed term and savings deposit'\n 'listed foreign public equity' 'public investment funds' 'cash'\n 'listed domestic public equity' 'corporate bonds' 'state bonds']<br>[0.09 0.27 0.1  0.01 0.13 0.01 0.12 0.26]",
          "['fixed term and savings deposit' 'state bonds'\n 'listed domestic public equity' 'cash' 'other equity instruments'\n 'corporate bonds' 'public investment funds'\n 'listed foreign public equity']<br>[0.04 0.3  0.01 0.13 0.02 0.27 0.02 0.21]",
          "['state bonds' 'cash' 'public investment funds'\n 'fixed term and savings deposit' 'listed domestic public equity'\n 'other equity instruments' 'listed foreign public equity'\n 'corporate bonds']<br>[0.26 0.12 0.01 0.1  0.   0.14 0.1  0.27]",
          "['state bonds' 'cash' 'other equity instruments'\n 'listed foreign public equity' 'listed domestic public equity'\n 'public investment funds' 'fixed term and savings deposit'\n 'corporate bonds']<br>[0.12 0.16 0.32 0.31 0.01 0.04 0.04 0.  ]",
          "['listed domestic public equity' 'public investment funds' 'cash'\n 'state bonds' 'listed foreign public equity'\n 'fixed term and savings deposit' 'other equity instruments'\n 'corporate bonds']<br>[0.   0.02 0.12 0.32 0.07 0.14 0.11 0.22]",
          "['fixed term and savings deposit' 'listed domestic public equity'\n 'listed foreign public equity' 'corporate bonds'\n 'other equity instruments' 'cash' 'public investment funds' 'state bonds']<br>[0.2  0.02 0.06 0.24 0.05 0.12 0.01 0.29]",
          "['fixed term and savings deposit' 'corporate bonds'\n 'listed foreign public equity' 'listed domestic public equity' 'cash'\n 'other equity instruments' 'state bonds' 'public investment funds']<br>[0.02 0.09 0.32 0.01 0.15 0.28 0.11 0.02]",
          "['corporate bonds' 'listed domestic public equity'\n 'other equity instruments' 'state bonds' 'listed foreign public equity'\n 'fixed term and savings deposit' 'cash' 'public investment funds']<br>[0.22 0.   0.1  0.31 0.12 0.07 0.13 0.04]",
          "['state bonds' 'listed domestic public equity' 'public investment funds'\n 'fixed term and savings deposit' 'listed foreign public equity' 'cash'\n 'corporate bonds' 'other equity instruments']<br>[0.24 0.01 0.   0.05 0.21 0.13 0.13 0.23]",
          "['cash' 'public investment funds' 'listed domestic public equity'\n 'other equity instruments' 'corporate bonds'\n 'listed foreign public equity' 'state bonds'\n 'fixed term and savings deposit']<br>[0.14 0.01 0.   0.29 0.06 0.16 0.31 0.03]",
          "['listed foreign public equity' 'cash' 'state bonds'\n 'public investment funds' 'other equity instruments'\n 'listed domestic public equity' 'fixed term and savings deposit'\n 'corporate bonds']<br>[0.1  0.14 0.32 0.05 0.05 0.   0.13 0.21]",
          "['public investment funds' 'listed foreign public equity'\n 'listed domestic public equity' 'state bonds' 'cash'\n 'other equity instruments' 'corporate bonds'\n 'fixed term and savings deposit']<br>[0.01 0.19 0.   0.25 0.12 0.14 0.18 0.11]",
          "['corporate bonds' 'fixed term and savings deposit'\n 'listed foreign public equity' 'cash' 'state bonds'\n 'public investment funds' 'other equity instruments'\n 'listed domestic public equity']<br>[0.24 0.01 0.16 0.14 0.3  0.   0.12 0.03]",
          "['public investment funds' 'other equity instruments' 'corporate bonds'\n 'cash' 'fixed term and savings deposit' 'listed domestic public equity'\n 'listed foreign public equity' 'state bonds']<br>[0.02 0.15 0.15 0.12 0.1  0.01 0.12 0.33]",
          "['listed foreign public equity' 'listed domestic public equity' 'cash'\n 'fixed term and savings deposit' 'other equity instruments'\n 'corporate bonds' 'public investment funds' 'state bonds']<br>[0.32 0.23 0.13 0.   0.29 0.01 0.02 0.01]",
          "['listed foreign public equity' 'cash' 'listed domestic public equity'\n 'corporate bonds' 'other equity instruments' 'state bonds'\n 'fixed term and savings deposit' 'public investment funds']<br>[0.18 0.13 0.   0.14 0.16 0.3  0.05 0.04]",
          "['state bonds' 'cash' 'listed foreign public equity'\n 'fixed term and savings deposit' 'corporate bonds'\n 'listed domestic public equity' 'other equity instruments'\n 'public investment funds']<br>[0.26 0.32 0.03 0.3  0.07 0.01 0.01 0.01]",
          "['cash' 'public investment funds' 'state bonds'\n 'fixed term and savings deposit' 'corporate bonds'\n 'listed foreign public equity' 'listed domestic public equity'\n 'other equity instruments']<br>[0.28 0.   0.3  0.3  0.03 0.03 0.   0.06]",
          "['fixed term and savings deposit' 'listed domestic public equity'\n 'state bonds' 'other equity instruments' 'corporate bonds'\n 'listed foreign public equity' 'public investment funds' 'cash']<br>[0.08 0.   0.3  0.12 0.19 0.11 0.01 0.19]",
          "['listed domestic public equity' 'fixed term and savings deposit'\n 'public investment funds' 'state bonds' 'other equity instruments'\n 'corporate bonds' 'cash' 'listed foreign public equity']<br>[0.01 0.29 0.   0.28 0.04 0.24 0.13 0.01]",
          "['public investment funds' 'fixed term and savings deposit'\n 'listed domestic public equity' 'corporate bonds'\n 'other equity instruments' 'state bonds' 'cash'\n 'listed foreign public equity']<br>[0.   0.01 0.   0.16 0.27 0.27 0.13 0.15]",
          "['public investment funds' 'other equity instruments' 'cash'\n 'fixed term and savings deposit' 'listed foreign public equity'\n 'corporate bonds' 'listed domestic public equity' 'state bonds']<br>[0.02 0.18 0.15 0.01 0.28 0.07 0.   0.28]",
          "['listed foreign public equity' 'other equity instruments'\n 'public investment funds' 'fixed term and savings deposit' 'state bonds'\n 'listed domestic public equity' 'cash' 'corporate bonds']<br>[0.18 0.14 0.   0.15 0.3  0.   0.13 0.09]",
          "['fixed term and savings deposit' 'state bonds'\n 'listed foreign public equity' 'other equity instruments'\n 'listed domestic public equity' 'public investment funds'\n 'corporate bonds' 'cash']<br>[0.02 0.26 0.3  0.26 0.01 0.01 0.02 0.13]",
          "['listed domestic public equity' 'cash' 'corporate bonds' 'state bonds'\n 'fixed term and savings deposit' 'listed foreign public equity'\n 'public investment funds' 'other equity instruments']<br>[0.   0.16 0.25 0.3  0.04 0.07 0.01 0.16]",
          "['state bonds' 'listed foreign public equity'\n 'fixed term and savings deposit' 'public investment funds' 'cash'\n 'listed domestic public equity' 'corporate bonds'\n 'other equity instruments']<br>[0.29 0.01 0.3  0.03 0.15 0.02 0.19 0.02]",
          "['corporate bonds' 'cash' 'state bonds' 'public investment funds'\n 'listed foreign public equity' 'listed domestic public equity'\n 'other equity instruments' 'fixed term and savings deposit']<br>[0.26 0.14 0.22 0.   0.21 0.   0.13 0.04]",
          "['fixed term and savings deposit' 'corporate bonds' 'cash'\n 'listed foreign public equity' 'other equity instruments'\n 'listed domestic public equity' 'public investment funds' 'state bonds']<br>[0.02 0.26 0.14 0.24 0.08 0.01 0.01 0.26]",
          "['cash' 'other equity instruments' 'listed foreign public equity'\n 'public investment funds' 'listed domestic public equity'\n 'fixed term and savings deposit' 'corporate bonds' 'state bonds']<br>[0.13 0.14 0.19 0.01 0.01 0.07 0.16 0.29]",
          "['fixed term and savings deposit' 'state bonds'\n 'listed domestic public equity' 'listed foreign public equity'\n 'corporate bonds' 'other equity instruments' 'public investment funds'\n 'cash']<br>[0.12 0.26 0.01 0.1  0.23 0.14 0.01 0.13]",
          "['corporate bonds' 'listed foreign public equity'\n 'listed domestic public equity' 'fixed term and savings deposit'\n 'other equity instruments' 'public investment funds' 'state bonds' 'cash']<br>[0.16 0.14 0.02 0.19 0.03 0.   0.31 0.14]",
          "['listed foreign public equity' 'other equity instruments'\n 'fixed term and savings deposit' 'listed domestic public equity'\n 'corporate bonds' 'state bonds' 'public investment funds' 'cash']<br>[0.19 0.13 0.07 0.02 0.2  0.26 0.01 0.13]",
          "['listed foreign public equity' 'corporate bonds' 'cash'\n 'other equity instruments' 'public investment funds' 'state bonds'\n 'listed domestic public equity' 'fixed term and savings deposit']<br>[0.16 0.16 0.12 0.07 0.04 0.29 0.   0.16]",
          "['fixed term and savings deposit' 'other equity instruments'\n 'listed foreign public equity' 'corporate bonds'\n 'public investment funds' 'listed domestic public equity' 'state bonds'\n 'cash']<br>[0.14 0.08 0.16 0.17 0.01 0.01 0.31 0.13]",
          "['public investment funds' 'listed domestic public equity'\n 'fixed term and savings deposit' 'state bonds' 'corporate bonds'\n 'other equity instruments' 'listed foreign public equity' 'cash']<br>[0.03 0.   0.29 0.3  0.01 0.04 0.03 0.3 ]",
          "['public investment funds' 'corporate bonds'\n 'fixed term and savings deposit' 'listed foreign public equity'\n 'listed domestic public equity' 'other equity instruments' 'cash'\n 'state bonds']<br>[0.   0.21 0.14 0.09 0.01 0.13 0.13 0.29]",
          "['fixed term and savings deposit' 'cash' 'other equity instruments'\n 'corporate bonds' 'listed domestic public equity' 'state bonds'\n 'listed foreign public equity' 'public investment funds']<br>[0.19 0.12 0.03 0.2  0.02 0.29 0.15 0.  ]",
          "['other equity instruments' 'corporate bonds' 'public investment funds'\n 'fixed term and savings deposit' 'listed foreign public equity' 'cash'\n 'listed domestic public equity' 'state bonds']<br>[0.04 0.14 0.02 0.27 0.05 0.22 0.01 0.25]",
          "['cash' 'fixed term and savings deposit' 'public investment funds'\n 'listed foreign public equity' 'corporate bonds'\n 'listed domestic public equity' 'state bonds' 'other equity instruments']<br>[0.14 0.29 0.01 0.1  0.11 0.   0.3  0.04]",
          "['listed domestic public equity' 'public investment funds'\n 'listed foreign public equity' 'fixed term and savings deposit' 'cash'\n 'state bonds' 'corporate bonds' 'other equity instruments']<br>[0.03 0.02 0.3  0.02 0.12 0.09 0.11 0.31]",
          "['corporate bonds' 'cash' 'state bonds' 'listed foreign public equity'\n 'other equity instruments' 'fixed term and savings deposit'\n 'public investment funds' 'listed domestic public equity']<br>[0.18 0.18 0.31 0.15 0.07 0.08 0.01 0.01]",
          "['listed domestic public equity' 'corporate bonds' 'state bonds'\n 'listed foreign public equity' 'public investment funds'\n 'other equity instruments' 'fixed term and savings deposit' 'cash']<br>[0.   0.21 0.22 0.22 0.   0.14 0.08 0.13]",
          "['state bonds' 'fixed term and savings deposit' 'cash'\n 'other equity instruments' 'listed foreign public equity'\n 'listed domestic public equity' 'corporate bonds'\n 'public investment funds']<br>[0.04 0.   0.13 0.32 0.31 0.13 0.01 0.05]",
          "['listed foreign public equity' 'public investment funds' 'state bonds'\n 'fixed term and savings deposit' 'listed domestic public equity' 'cash'\n 'corporate bonds' 'other equity instruments']<br>[0.24 0.   0.23 0.01 0.02 0.12 0.16 0.21]",
          "['corporate bonds' 'listed domestic public equity' 'cash' 'state bonds'\n 'public investment funds' 'fixed term and savings deposit'\n 'other equity instruments' 'listed foreign public equity']<br>[0.02 0.   0.14 0.2  0.02 0.05 0.33 0.24]",
          "['fixed term and savings deposit' 'other equity instruments'\n 'public investment funds' 'state bonds' 'cash' 'corporate bonds'\n 'listed foreign public equity' 'listed domestic public equity']<br>[0.27 0.08 0.   0.33 0.17 0.05 0.08 0.02]",
          "['public investment funds' 'cash' 'listed foreign public equity'\n 'corporate bonds' 'other equity instruments'\n 'listed domestic public equity' 'state bonds'\n 'fixed term and savings deposit']<br>[0.   0.12 0.28 0.06 0.17 0.02 0.28 0.06]",
          "['state bonds' 'corporate bonds' 'cash' 'other equity instruments'\n 'listed foreign public equity' 'fixed term and savings deposit'\n 'public investment funds' 'listed domestic public equity']<br>[0.29 0.3  0.13 0.11 0.12 0.03 0.01 0.01]",
          "['fixed term and savings deposit' 'other equity instruments'\n 'listed domestic public equity' 'state bonds' 'public investment funds'\n 'corporate bonds' 'cash' 'listed foreign public equity']<br>[0.01 0.19 0.   0.23 0.02 0.25 0.14 0.16]",
          "['other equity instruments' 'fixed term and savings deposit'\n 'listed foreign public equity' 'state bonds' 'cash'\n 'public investment funds' 'corporate bonds'\n 'listed domestic public equity']<br>[0.23 0.02 0.23 0.19 0.13 0.   0.21 0.  ]",
          "['listed domestic public equity' 'fixed term and savings deposit'\n 'public investment funds' 'state bonds' 'corporate bonds'\n 'listed foreign public equity' 'cash' 'other equity instruments']<br>[0.   0.02 0.03 0.3  0.03 0.32 0.12 0.15]",
          "['public investment funds' 'listed domestic public equity'\n 'fixed term and savings deposit' 'corporate bonds'\n 'listed foreign public equity' 'other equity instruments' 'state bonds'\n 'cash']<br>[0.   0.02 0.   0.06 0.23 0.28 0.28 0.13]",
          "['corporate bonds' 'public investment funds'\n 'listed domestic public equity' 'cash' 'listed foreign public equity'\n 'other equity instruments' 'state bonds' 'fixed term and savings deposit']<br>[0.25 0.02 0.   0.12 0.27 0.3  0.03 0.  ]",
          "['fixed term and savings deposit' 'corporate bonds' 'state bonds'\n 'listed domestic public equity' 'public investment funds' 'cash'\n 'other equity instruments' 'listed foreign public equity']<br>[0.14 0.23 0.27 0.01 0.01 0.18 0.08 0.08]",
          "['listed domestic public equity' 'public investment funds'\n 'other equity instruments' 'fixed term and savings deposit' 'state bonds'\n 'listed foreign public equity' 'corporate bonds' 'cash']<br>[0.   0.01 0.13 0.03 0.3  0.17 0.2  0.16]",
          "['cash' 'listed foreign public equity' 'public investment funds'\n 'fixed term and savings deposit' 'state bonds'\n 'listed domestic public equity' 'corporate bonds'\n 'other equity instruments']<br>[0.16 0.12 0.01 0.22 0.28 0.01 0.17 0.02]",
          "['other equity instruments' 'state bonds' 'cash'\n 'fixed term and savings deposit' 'listed domestic public equity'\n 'listed foreign public equity' 'public investment funds'\n 'corporate bonds']<br>[0.32 0.03 0.16 0.02 0.   0.32 0.02 0.14]",
          "['public investment funds' 'other equity instruments'\n 'fixed term and savings deposit' 'corporate bonds'\n 'listed domestic public equity' 'cash' 'listed foreign public equity'\n 'state bonds']<br>[0.   0.19 0.01 0.07 0.01 0.17 0.27 0.28]",
          "['listed domestic public equity' 'fixed term and savings deposit' 'cash'\n 'public investment funds' 'other equity instruments' 'corporate bonds'\n 'state bonds' 'listed foreign public equity']<br>[0.   0.31 0.25 0.   0.   0.1  0.3  0.03]",
          "['public investment funds' 'other equity instruments' 'cash'\n 'corporate bonds' 'listed foreign public equity' 'state bonds'\n 'listed domestic public equity' 'fixed term and savings deposit']<br>[0.04 0.15 0.12 0.11 0.28 0.29 0.01 0.  ]",
          "['corporate bonds' 'public investment funds' 'cash'\n 'other equity instruments' 'listed foreign public equity'\n 'fixed term and savings deposit' 'listed domestic public equity'\n 'state bonds']<br>[0.16 0.   0.17 0.09 0.06 0.23 0.   0.28]",
          "['public investment funds' 'state bonds' 'listed foreign public equity'\n 'corporate bonds' 'fixed term and savings deposit'\n 'other equity instruments' 'listed domestic public equity' 'cash']<br>[0.01 0.16 0.24 0.09 0.05 0.32 0.   0.12]",
          "['corporate bonds' 'public investment funds' 'cash'\n 'listed domestic public equity' 'listed foreign public equity'\n 'other equity instruments' 'state bonds' 'fixed term and savings deposit']<br>[0.07 0.01 0.19 0.01 0.01 0.07 0.31 0.32]",
          "['fixed term and savings deposit' 'cash' 'listed foreign public equity'\n 'state bonds' 'listed domestic public equity' 'corporate bonds'\n 'other equity instruments' 'public investment funds']<br>[0.   0.14 0.32 0.09 0.09 0.04 0.31 0.03]",
          "['state bonds' 'cash' 'corporate bonds' 'fixed term and savings deposit'\n 'listed foreign public equity' 'public investment funds'\n 'other equity instruments' 'listed domestic public equity']<br>[0.31 0.13 0.16 0.04 0.18 0.03 0.14 0.  ]",
          "['listed domestic public equity' 'corporate bonds'\n 'listed foreign public equity' 'fixed term and savings deposit'\n 'other equity instruments' 'cash' 'public investment funds' 'state bonds']<br>[0.   0.06 0.28 0.01 0.27 0.13 0.04 0.2 ]",
          "['public investment funds' 'fixed term and savings deposit'\n 'listed foreign public equity' 'listed domestic public equity'\n 'state bonds' 'other equity instruments' 'cash' 'corporate bonds']<br>[0.01 0.05 0.24 0.   0.24 0.21 0.12 0.14]",
          "['cash' 'state bonds' 'listed domestic public equity' 'corporate bonds'\n 'fixed term and savings deposit' 'listed foreign public equity'\n 'public investment funds' 'other equity instruments']<br>[0.25 0.24 0.01 0.13 0.26 0.07 0.01 0.02]",
          "['listed domestic public equity' 'cash' 'other equity instruments'\n 'listed foreign public equity' 'corporate bonds'\n 'fixed term and savings deposit' 'state bonds' 'public investment funds']<br>[0.   0.22 0.   0.03 0.15 0.27 0.29 0.03]",
          "['listed domestic public equity' 'listed foreign public equity' 'cash'\n 'other equity instruments' 'corporate bonds'\n 'fixed term and savings deposit' 'state bonds' 'public investment funds']<br>[0.04 0.3  0.13 0.31 0.1  0.01 0.1  0.02]",
          "['other equity instruments' 'cash' 'public investment funds' 'state bonds'\n 'fixed term and savings deposit' 'corporate bonds'\n 'listed foreign public equity' 'listed domestic public equity']<br>[0.29 0.13 0.   0.29 0.04 0.02 0.22 0.  ]",
          "['listed domestic public equity' 'other equity instruments'\n 'fixed term and savings deposit' 'cash' 'public investment funds'\n 'listed foreign public equity' 'state bonds' 'corporate bonds']<br>[0.   0.11 0.1  0.12 0.02 0.16 0.3  0.2 ]",
          "['listed foreign public equity' 'state bonds' 'other equity instruments'\n 'public investment funds' 'fixed term and savings deposit' 'cash'\n 'listed domestic public equity' 'corporate bonds']<br>[0.26 0.32 0.18 0.04 0.02 0.13 0.01 0.05]",
          "['fixed term and savings deposit' 'state bonds' 'public investment funds'\n 'listed domestic public equity' 'listed foreign public equity'\n 'corporate bonds' 'cash' 'other equity instruments']<br>[0.03 0.27 0.01 0.01 0.24 0.18 0.13 0.13]",
          "['fixed term and savings deposit' 'listed foreign public equity'\n 'corporate bonds' 'cash' 'state bonds' 'public investment funds'\n 'other equity instruments' 'listed domestic public equity']<br>[0.16 0.07 0.24 0.12 0.29 0.02 0.07 0.03]",
          "['corporate bonds' 'cash' 'public investment funds'\n 'listed foreign public equity' 'state bonds' 'other equity instruments'\n 'fixed term and savings deposit' 'listed domestic public equity']<br>[0.12 0.13 0.01 0.25 0.22 0.22 0.04 0.01]",
          "['listed domestic public equity' 'state bonds' 'corporate bonds'\n 'listed foreign public equity' 'cash' 'fixed term and savings deposit'\n 'other equity instruments' 'public investment funds']<br>[0.   0.22 0.23 0.16 0.13 0.04 0.19 0.02]",
          "['state bonds' 'fixed term and savings deposit'\n 'listed domestic public equity' 'public investment funds'\n 'corporate bonds' 'other equity instruments'\n 'listed foreign public equity' 'cash']<br>[0.28 0.32 0.   0.01 0.17 0.03 0.04 0.14]",
          "['public investment funds' 'state bonds' 'cash'\n 'listed domestic public equity' 'corporate bonds'\n 'listed foreign public equity' 'other equity instruments'\n 'fixed term and savings deposit']<br>[0.02 0.31 0.12 0.01 0.06 0.11 0.06 0.31]",
          "['fixed term and savings deposit' 'listed domestic public equity'\n 'listed foreign public equity' 'other equity instruments'\n 'corporate bonds' 'public investment funds' 'cash' 'state bonds']<br>[0.3  0.01 0.03 0.02 0.03 0.04 0.31 0.26]",
          "['other equity instruments' 'public investment funds' 'cash'\n 'corporate bonds' 'state bonds' 'listed foreign public equity'\n 'fixed term and savings deposit' 'listed domestic public equity']<br>[0.07 0.03 0.13 0.07 0.31 0.07 0.31 0.01]",
          "['public investment funds' 'listed domestic public equity'\n 'listed foreign public equity' 'fixed term and savings deposit' 'cash'\n 'state bonds' 'other equity instruments' 'corporate bonds']<br>[0.04 0.17 0.31 0.01 0.14 0.02 0.31 0.  ]",
          "['listed domestic public equity' 'corporate bonds'\n 'public investment funds' 'listed foreign public equity' 'cash'\n 'other equity instruments' 'state bonds' 'fixed term and savings deposit']<br>[0.   0.02 0.   0.14 0.15 0.09 0.31 0.28]",
          "['listed domestic public equity' 'state bonds'\n 'fixed term and savings deposit' 'other equity instruments'\n 'listed foreign public equity' 'cash' 'public investment funds'\n 'corporate bonds']<br>[0.   0.27 0.05 0.12 0.22 0.13 0.03 0.18]",
          "['fixed term and savings deposit' 'other equity instruments'\n 'listed foreign public equity' 'corporate bonds'\n 'listed domestic public equity' 'public investment funds' 'state bonds'\n 'cash']<br>[0.24 0.05 0.05 0.22 0.01 0.01 0.26 0.16]",
          "['public investment funds' 'listed foreign public equity'\n 'fixed term and savings deposit' 'corporate bonds'\n 'listed domestic public equity' 'cash' 'state bonds'\n 'other equity instruments']<br>[0.06 0.32 0.02 0.02 0.   0.14 0.15 0.28]",
          "['fixed term and savings deposit' 'public investment funds'\n 'listed domestic public equity' 'other equity instruments' 'cash'\n 'state bonds' 'listed foreign public equity' 'corporate bonds']<br>[0.02 0.02 0.01 0.2  0.13 0.28 0.19 0.14]",
          "['fixed term and savings deposit' 'listed foreign public equity'\n 'state bonds' 'corporate bonds' 'listed domestic public equity'\n 'public investment funds' 'cash' 'other equity instruments']<br>[0.05 0.24 0.3  0.08 0.   0.   0.13 0.19]",
          "['other equity instruments' 'fixed term and savings deposit'\n 'public investment funds' 'listed foreign public equity' 'state bonds'\n 'listed domestic public equity' 'cash' 'corporate bonds']<br>[0.31 0.02 0.   0.24 0.21 0.03 0.13 0.05]",
          "['listed domestic public equity' 'fixed term and savings deposit'\n 'state bonds' 'cash' 'listed foreign public equity' 'corporate bonds'\n 'other equity instruments' 'public investment funds']<br>[0.01 0.   0.3  0.12 0.17 0.15 0.2  0.05]",
          "['corporate bonds' 'state bonds' 'public investment funds' 'cash'\n 'listed foreign public equity' 'fixed term and savings deposit'\n 'other equity instruments' 'listed domestic public equity']<br>[0.17 0.25 0.01 0.12 0.26 0.03 0.15 0.01]",
          "['listed foreign public equity' 'cash' 'state bonds'\n 'other equity instruments' 'fixed term and savings deposit'\n 'listed domestic public equity' 'corporate bonds'\n 'public investment funds']<br>[0.11 0.13 0.32 0.08 0.08 0.01 0.27 0.  ]",
          "['listed foreign public equity' 'cash' 'listed domestic public equity'\n 'state bonds' 'corporate bonds' 'public investment funds'\n 'fixed term and savings deposit' 'other equity instruments']<br>[0.11 0.14 0.   0.26 0.25 0.01 0.22 0.01]",
          "['other equity instruments' 'public investment funds' 'corporate bonds'\n 'fixed term and savings deposit' 'listed domestic public equity' 'cash'\n 'listed foreign public equity' 'state bonds']<br>[0.04 0.   0.14 0.26 0.   0.22 0.03 0.3 ]",
          "['other equity instruments' 'fixed term and savings deposit' 'cash'\n 'public investment funds' 'listed foreign public equity' 'state bonds'\n 'corporate bonds' 'listed domestic public equity']<br>[0.01 0.24 0.18 0.   0.11 0.29 0.16 0.01]",
          "['fixed term and savings deposit' 'public investment funds'\n 'corporate bonds' 'other equity instruments' 'cash'\n 'listed foreign public equity' 'state bonds'\n 'listed domestic public equity']<br>[0.28 0.01 0.16 0.04 0.19 0.05 0.26 0.01]",
          "['cash' 'listed domestic public equity' 'corporate bonds'\n 'other equity instruments' 'state bonds' 'listed foreign public equity'\n 'public investment funds' 'fixed term and savings deposit']<br>[0.14 0.   0.16 0.09 0.27 0.22 0.02 0.1 ]",
          "['cash' 'other equity instruments' 'fixed term and savings deposit'\n 'listed foreign public equity' 'corporate bonds' 'state bonds'\n 'listed domestic public equity' 'public investment funds']<br>[0.12 0.05 0.04 0.12 0.32 0.31 0.02 0.01]",
          "['state bonds' 'fixed term and savings deposit' 'public investment funds'\n 'corporate bonds' 'cash' 'other equity instruments'\n 'listed foreign public equity' 'listed domestic public equity']<br>[0.22 0.04 0.   0.05 0.13 0.29 0.27 0.01]",
          "['listed foreign public equity' 'cash' 'other equity instruments'\n 'state bonds' 'public investment funds' 'corporate bonds'\n 'fixed term and savings deposit' 'listed domestic public equity']<br>[0.18 0.13 0.21 0.32 0.04 0.07 0.05 0.  ]",
          "['corporate bonds' 'cash' 'listed domestic public equity'\n 'listed foreign public equity' 'fixed term and savings deposit'\n 'state bonds' 'public investment funds' 'other equity instruments']<br>[0.02 0.12 0.06 0.32 0.02 0.04 0.11 0.32]",
          "['listed foreign public equity' 'listed domestic public equity'\n 'corporate bonds' 'public investment funds' 'other equity instruments'\n 'cash' 'fixed term and savings deposit' 'state bonds']<br>[0.09 0.   0.19 0.   0.08 0.16 0.21 0.28]",
          "['other equity instruments' 'cash' 'listed domestic public equity'\n 'listed foreign public equity' 'public investment funds'\n 'fixed term and savings deposit' 'corporate bonds' 'state bonds']<br>[0.08 0.14 0.   0.04 0.01 0.26 0.17 0.3 ]",
          "['listed foreign public equity' 'listed domestic public equity'\n 'fixed term and savings deposit' 'other equity instruments' 'cash'\n 'corporate bonds' 'public investment funds' 'state bonds']<br>[0.19 0.   0.01 0.17 0.15 0.28 0.   0.19]",
          "['listed domestic public equity' 'public investment funds'\n 'fixed term and savings deposit' 'cash' 'corporate bonds' 'state bonds'\n 'listed foreign public equity' 'other equity instruments']<br>[0.01 0.   0.22 0.13 0.2  0.25 0.15 0.05]",
          "['corporate bonds' 'other equity instruments' 'state bonds'\n 'public investment funds' 'listed foreign public equity'\n 'fixed term and savings deposit' 'listed domestic public equity' 'cash']<br>[0.18 0.02 0.3  0.02 0.12 0.21 0.   0.15]",
          "['other equity instruments' 'cash' 'listed domestic public equity'\n 'fixed term and savings deposit' 'listed foreign public equity'\n 'corporate bonds' 'public investment funds' 'state bonds']<br>[0.2  0.14 0.01 0.09 0.23 0.02 0.   0.31]",
          "['fixed term and savings deposit' 'listed domestic public equity'\n 'public investment funds' 'other equity instruments'\n 'listed foreign public equity' 'state bonds' 'cash' 'corporate bonds']<br>[0.   0.   0.03 0.1  0.29 0.33 0.13 0.12]",
          "['fixed term and savings deposit' 'public investment funds' 'state bonds'\n 'listed domestic public equity' 'listed foreign public equity' 'cash'\n 'other equity instruments' 'corporate bonds']<br>[0.32 0.01 0.29 0.01 0.03 0.23 0.01 0.08]",
          "['other equity instruments' 'listed domestic public equity'\n 'listed foreign public equity' 'cash' 'public investment funds'\n 'state bonds' 'fixed term and savings deposit' 'corporate bonds']<br>[0.03 0.02 0.05 0.12 0.   0.3  0.3  0.17]",
          "['listed foreign public equity' 'fixed term and savings deposit' 'cash'\n 'listed domestic public equity' 'public investment funds'\n 'other equity instruments' 'state bonds' 'corporate bonds']<br>[0.26 0.02 0.12 0.02 0.04 0.23 0.31 0.  ]",
          "['other equity instruments' 'listed domestic public equity'\n 'corporate bonds' 'fixed term and savings deposit' 'cash' 'state bonds'\n 'listed foreign public equity' 'public investment funds']<br>[0.28 0.   0.04 0.01 0.15 0.2  0.29 0.03]",
          "['cash' 'listed foreign public equity' 'corporate bonds'\n 'public investment funds' 'state bonds' 'other equity instruments'\n 'fixed term and savings deposit' 'listed domestic public equity']<br>[0.28 0.04 0.01 0.01 0.3  0.05 0.3  0.  ]",
          "['fixed term and savings deposit' 'corporate bonds'\n 'other equity instruments' 'listed domestic public equity'\n 'public investment funds' 'state bonds' 'listed foreign public equity'\n 'cash']<br>[0.07 0.21 0.12 0.   0.03 0.31 0.1  0.15]",
          "['corporate bonds' 'other equity instruments' 'cash' 'state bonds'\n 'public investment funds' 'listed foreign public equity'\n 'fixed term and savings deposit' 'listed domestic public equity']<br>[0.06 0.09 0.13 0.33 0.04 0.17 0.18 0.  ]",
          "['public investment funds' 'cash' 'other equity instruments' 'state bonds'\n 'corporate bonds' 'fixed term and savings deposit'\n 'listed domestic public equity' 'listed foreign public equity']<br>[0.01 0.12 0.12 0.29 0.16 0.11 0.   0.18]",
          "['listed domestic public equity' 'corporate bonds'\n 'public investment funds' 'listed foreign public equity' 'state bonds'\n 'other equity instruments' 'cash' 'fixed term and savings deposit']<br>[0.01 0.24 0.01 0.15 0.28 0.15 0.13 0.04]",
          "['state bonds' 'listed domestic public equity' 'cash' 'corporate bonds'\n 'public investment funds' 'other equity instruments'\n 'listed foreign public equity' 'fixed term and savings deposit']<br>[0.26 0.01 0.16 0.2  0.01 0.09 0.15 0.12]",
          "['fixed term and savings deposit' 'corporate bonds' 'cash'\n 'listed foreign public equity' 'other equity instruments'\n 'public investment funds' 'state bonds' 'listed domestic public equity']<br>[0.21 0.2  0.14 0.04 0.08 0.   0.32 0.01]",
          "['listed domestic public equity' 'public investment funds' 'state bonds'\n 'cash' 'corporate bonds' 'other equity instruments'\n 'fixed term and savings deposit' 'listed foreign public equity']<br>[0.01 0.   0.2  0.23 0.25 0.03 0.25 0.04]",
          "['cash' 'corporate bonds' 'fixed term and savings deposit' 'state bonds'\n 'other equity instruments' 'listed domestic public equity'\n 'public investment funds' 'listed foreign public equity']<br>[0.17 0.24 0.02 0.28 0.09 0.   0.02 0.18]",
          "['listed foreign public equity' 'corporate bonds'\n 'listed domestic public equity' 'state bonds' 'other equity instruments'\n 'cash' 'fixed term and savings deposit' 'public investment funds']<br>[0.17 0.1  0.   0.3  0.21 0.15 0.05 0.02]",
          "['listed domestic public equity' 'state bonds'\n 'fixed term and savings deposit' 'public investment funds'\n 'listed foreign public equity' 'cash' 'corporate bonds'\n 'other equity instruments']<br>[0.   0.29 0.24 0.03 0.1  0.15 0.1  0.08]",
          "['cash' 'corporate bonds' 'public investment funds' 'state bonds'\n 'listed domestic public equity' 'listed foreign public equity'\n 'other equity instruments' 'fixed term and savings deposit']<br>[0.14 0.12 0.01 0.3  0.01 0.16 0.1  0.16]",
          "['other equity instruments' 'corporate bonds'\n 'listed foreign public equity' 'cash' 'listed domestic public equity'\n 'fixed term and savings deposit' 'public investment funds' 'state bonds']<br>[0.02 0.06 0.07 0.27 0.   0.22 0.03 0.32]",
          "['other equity instruments' 'listed foreign public equity'\n 'listed domestic public equity' 'public investment funds' 'cash'\n 'state bonds' 'fixed term and savings deposit' 'corporate bonds']<br>[0.05 0.06 0.   0.   0.16 0.24 0.24 0.24]",
          "['other equity instruments' 'state bonds' 'public investment funds'\n 'fixed term and savings deposit' 'listed foreign public equity' 'cash'\n 'listed domestic public equity' 'corporate bonds']<br>[0.04 0.33 0.04 0.24 0.1  0.12 0.   0.13]",
          "['listed foreign public equity' 'listed domestic public equity'\n 'fixed term and savings deposit' 'public investment funds' 'cash'\n 'state bonds' 'corporate bonds' 'other equity instruments']<br>[0.3  0.05 0.01 0.02 0.14 0.11 0.06 0.32]",
          "['cash' 'listed domestic public equity' 'listed foreign public equity'\n 'corporate bonds' 'fixed term and savings deposit'\n 'other equity instruments' 'state bonds' 'public investment funds']<br>[0.13 0.11 0.31 0.02 0.04 0.32 0.05 0.03]",
          "['listed domestic public equity' 'public investment funds'\n 'other equity instruments' 'state bonds' 'listed foreign public equity'\n 'corporate bonds' 'cash' 'fixed term and savings deposit']<br>[0.   0.01 0.09 0.25 0.23 0.22 0.14 0.05]",
          "['public investment funds' 'cash' 'listed domestic public equity'\n 'state bonds' 'other equity instruments' 'fixed term and savings deposit'\n 'listed foreign public equity' 'corporate bonds']<br>[0.01 0.12 0.01 0.19 0.29 0.01 0.31 0.06]",
          "['fixed term and savings deposit' 'public investment funds'\n 'corporate bonds' 'listed foreign public equity' 'cash'\n 'listed domestic public equity' 'other equity instruments' 'state bonds']<br>[0.26 0.01 0.21 0.08 0.14 0.01 0.03 0.26]",
          "['public investment funds' 'listed foreign public equity'\n 'listed domestic public equity' 'corporate bonds'\n 'fixed term and savings deposit' 'cash' 'other equity instruments'\n 'state bonds']<br>[0.   0.15 0.   0.26 0.01 0.2  0.07 0.3 ]",
          "['cash' 'listed foreign public equity' 'fixed term and savings deposit'\n 'public investment funds' 'corporate bonds' 'state bonds'\n 'other equity instruments' 'listed domestic public equity']<br>[0.16 0.03 0.25 0.02 0.25 0.26 0.03 0.  ]",
          "['corporate bonds' 'listed domestic public equity' 'cash'\n 'listed foreign public equity' 'public investment funds' 'state bonds'\n 'other equity instruments' 'fixed term and savings deposit']<br>[0.05 0.01 0.23 0.06 0.01 0.31 0.03 0.32]",
          "['public investment funds' 'listed foreign public equity'\n 'fixed term and savings deposit' 'corporate bonds' 'cash'\n 'other equity instruments' 'listed domestic public equity' 'state bonds']<br>[0.   0.18 0.05 0.16 0.13 0.14 0.02 0.31]",
          "['state bonds' 'listed foreign public equity'\n 'fixed term and savings deposit' 'listed domestic public equity'\n 'corporate bonds' 'other equity instruments' 'cash'\n 'public investment funds']<br>[0.2  0.01 0.31 0.01 0.2  0.02 0.26 0.  ]",
          "['listed foreign public equity' 'corporate bonds' 'cash'\n 'other equity instruments' 'public investment funds'\n 'listed domestic public equity' 'fixed term and savings deposit'\n 'state bonds']<br>[0.02 0.03 0.33 0.02 0.02 0.01 0.31 0.27]",
          "['state bonds' 'listed domestic public equity' 'other equity instruments'\n 'corporate bonds' 'public investment funds'\n 'fixed term and savings deposit' 'listed foreign public equity' 'cash']<br>[0.08 0.   0.31 0.11 0.01 0.03 0.31 0.15]",
          "['other equity instruments' 'cash' 'public investment funds'\n 'listed foreign public equity' 'state bonds'\n 'fixed term and savings deposit' 'corporate bonds'\n 'listed domestic public equity']<br>[0.3  0.14 0.02 0.28 0.17 0.01 0.07 0.02]",
          "['listed domestic public equity' 'fixed term and savings deposit'\n 'other equity instruments' 'public investment funds'\n 'listed foreign public equity' 'cash' 'state bonds' 'corporate bonds']<br>[0.   0.01 0.23 0.05 0.27 0.12 0.26 0.05]",
          "['cash' 'corporate bonds' 'listed domestic public equity' 'state bonds'\n 'public investment funds' 'listed foreign public equity'\n 'fixed term and savings deposit' 'other equity instruments']<br>[0.15 0.32 0.01 0.27 0.   0.1  0.03 0.12]",
          "['listed domestic public equity' 'fixed term and savings deposit'\n 'public investment funds' 'listed foreign public equity'\n 'other equity instruments' 'cash' 'corporate bonds' 'state bonds']<br>[0.01 0.01 0.02 0.27 0.31 0.13 0.12 0.13]",
          "['fixed term and savings deposit' 'other equity instruments'\n 'listed domestic public equity' 'corporate bonds' 'state bonds'\n 'listed foreign public equity' 'cash' 'public investment funds']<br>[0.01 0.31 0.11 0.01 0.08 0.31 0.12 0.05]",
          "['listed foreign public equity' 'state bonds' 'corporate bonds'\n 'other equity instruments' 'cash' 'fixed term and savings deposit'\n 'public investment funds' 'listed domestic public equity']<br>[0.3  0.11 0.04 0.32 0.14 0.01 0.01 0.08]",
          "['public investment funds' 'fixed term and savings deposit'\n 'other equity instruments' 'listed domestic public equity' 'state bonds'\n 'corporate bonds' 'listed foreign public equity' 'cash']<br>[0.02 0.05 0.13 0.01 0.32 0.24 0.08 0.15]",
          "['corporate bonds' 'fixed term and savings deposit' 'cash'\n 'other equity instruments' 'listed foreign public equity'\n 'public investment funds' 'listed domestic public equity' 'state bonds']<br>[0.03 0.02 0.15 0.32 0.33 0.1  0.05 0.01]",
          "['corporate bonds' 'listed domestic public equity'\n 'other equity instruments' 'fixed term and savings deposit'\n 'listed foreign public equity' 'state bonds' 'public investment funds'\n 'cash']<br>[0.06 0.   0.02 0.31 0.02 0.3  0.05 0.25]",
          "['other equity instruments' 'listed foreign public equity' 'cash'\n 'state bonds' 'corporate bonds' 'public investment funds'\n 'fixed term and savings deposit' 'listed domestic public equity']<br>[0.02 0.02 0.32 0.25 0.1  0.01 0.27 0.01]",
          "['corporate bonds' 'other equity instruments'\n 'fixed term and savings deposit' 'cash' 'public investment funds'\n 'state bonds' 'listed foreign public equity'\n 'listed domestic public equity']<br>[0.04 0.04 0.32 0.33 0.01 0.23 0.02 0.  ]",
          "['cash' 'public investment funds' 'listed domestic public equity'\n 'corporate bonds' 'fixed term and savings deposit'\n 'listed foreign public equity' 'other equity instruments' 'state bonds']<br>[0.16 0.04 0.   0.08 0.28 0.09 0.03 0.31]",
          "['state bonds' 'other equity instruments' 'listed domestic public equity'\n 'cash' 'public investment funds' 'corporate bonds'\n 'listed foreign public equity' 'fixed term and savings deposit']<br>[0.23 0.22 0.   0.13 0.01 0.13 0.24 0.04]",
          "['cash' 'listed foreign public equity' 'listed domestic public equity'\n 'public investment funds' 'other equity instruments' 'corporate bonds'\n 'state bonds' 'fixed term and savings deposit']<br>[0.15 0.22 0.   0.   0.01 0.27 0.3  0.04]",
          "['fixed term and savings deposit' 'corporate bonds'\n 'public investment funds' 'state bonds' 'listed domestic public equity'\n 'other equity instruments' 'listed foreign public equity' 'cash']<br>[0.02 0.14 0.01 0.13 0.01 0.27 0.28 0.13]",
          "['fixed term and savings deposit' 'other equity instruments'\n 'listed foreign public equity' 'listed domestic public equity'\n 'state bonds' 'corporate bonds' 'public investment funds' 'cash']<br>[0.03 0.22 0.25 0.   0.25 0.1  0.02 0.14]",
          "['corporate bonds' 'public investment funds' 'cash'\n 'listed foreign public equity' 'fixed term and savings deposit'\n 'state bonds' 'other equity instruments' 'listed domestic public equity']<br>[0.23 0.   0.12 0.19 0.01 0.24 0.2  0.01]",
          "['public investment funds' 'corporate bonds'\n 'listed domestic public equity' 'fixed term and savings deposit'\n 'other equity instruments' 'listed foreign public equity' 'state bonds'\n 'cash']<br>[0.02 0.13 0.   0.27 0.04 0.11 0.28 0.16]",
          "['state bonds' 'other equity instruments' 'cash' 'corporate bonds'\n 'listed foreign public equity' 'fixed term and savings deposit'\n 'public investment funds' 'listed domestic public equity']<br>[0.27 0.04 0.13 0.28 0.07 0.2  0.01 0.01]",
          "['corporate bonds' 'listed foreign public equity' 'cash'\n 'fixed term and savings deposit' 'state bonds' 'public investment funds'\n 'listed domestic public equity' 'other equity instruments']<br>[0.26 0.06 0.12 0.26 0.26 0.02 0.   0.03]",
          "['state bonds' 'fixed term and savings deposit'\n 'listed domestic public equity' 'other equity instruments' 'cash'\n 'corporate bonds' 'listed foreign public equity'\n 'public investment funds']<br>[0.24 0.18 0.   0.04 0.14 0.25 0.13 0.01]",
          "['listed domestic public equity' 'state bonds' 'corporate bonds' 'cash'\n 'fixed term and savings deposit' 'listed foreign public equity'\n 'public investment funds' 'other equity instruments']<br>[0.01 0.31 0.11 0.16 0.21 0.16 0.01 0.04]",
          "['listed foreign public equity' 'other equity instruments'\n 'public investment funds' 'state bonds' 'fixed term and savings deposit'\n 'listed domestic public equity' 'cash' 'corporate bonds']<br>[0.31 0.31 0.03 0.1  0.02 0.01 0.16 0.06]",
          "['fixed term and savings deposit' 'listed domestic public equity'\n 'other equity instruments' 'state bonds' 'cash'\n 'listed foreign public equity' 'corporate bonds'\n 'public investment funds']<br>[0.25 0.01 0.02 0.27 0.18 0.04 0.22 0.  ]",
          "['listed foreign public equity' 'other equity instruments' 'state bonds'\n 'cash' 'public investment funds' 'corporate bonds'\n 'listed domestic public equity' 'fixed term and savings deposit']<br>[0.1  0.05 0.28 0.15 0.02 0.24 0.   0.16]",
          "['public investment funds' 'other equity instruments' 'state bonds'\n 'listed foreign public equity' 'cash' 'corporate bonds'\n 'fixed term and savings deposit' 'listed domestic public equity']<br>[0.   0.11 0.31 0.16 0.13 0.29 0.   0.  ]",
          "['state bonds' 'listed domestic public equity' 'public investment funds'\n 'fixed term and savings deposit' 'corporate bonds'\n 'listed foreign public equity' 'cash' 'other equity instruments']<br>[0.16 0.01 0.02 0.02 0.08 0.29 0.13 0.29]",
          "['listed domestic public equity' 'public investment funds' 'state bonds'\n 'cash' 'listed foreign public equity' 'fixed term and savings deposit'\n 'other equity instruments' 'corporate bonds']<br>[0.   0.03 0.33 0.16 0.09 0.05 0.03 0.3 ]",
          "['public investment funds' 'state bonds' 'corporate bonds'\n 'listed foreign public equity' 'other equity instruments' 'cash'\n 'listed domestic public equity' 'fixed term and savings deposit']<br>[0.01 0.2  0.27 0.19 0.17 0.14 0.   0.01]",
          "['other equity instruments' 'cash' 'fixed term and savings deposit'\n 'corporate bonds' 'listed foreign public equity' 'state bonds'\n 'public investment funds' 'listed domestic public equity']<br>[0.12 0.14 0.02 0.12 0.26 0.32 0.02 0.  ]",
          "['fixed term and savings deposit' 'other equity instruments'\n 'public investment funds' 'listed domestic public equity'\n 'corporate bonds' 'cash' 'state bonds' 'listed foreign public equity']<br>[0.3  0.01 0.01 0.02 0.17 0.21 0.26 0.03]",
          "['listed foreign public equity' 'other equity instruments' 'cash'\n 'state bonds' 'listed domestic public equity'\n 'fixed term and savings deposit' 'public investment funds'\n 'corporate bonds']<br>[0.08 0.1  0.13 0.32 0.   0.16 0.03 0.17]",
          "['state bonds' 'corporate bonds' 'listed domestic public equity'\n 'public investment funds' 'cash' 'listed foreign public equity'\n 'other equity instruments' 'fixed term and savings deposit']<br>[0.32 0.05 0.01 0.01 0.13 0.31 0.15 0.01]",
          "['other equity instruments' 'public investment funds'\n 'listed foreign public equity' 'corporate bonds' 'cash'\n 'fixed term and savings deposit' 'state bonds'\n 'listed domestic public equity']<br>[0.01 0.01 0.02 0.11 0.23 0.32 0.28 0.02]",
          "['public investment funds' 'listed foreign public equity'\n 'other equity instruments' 'corporate bonds'\n 'listed domestic public equity' 'state bonds'\n 'fixed term and savings deposit' 'cash']<br>[0.02 0.08 0.02 0.28 0.   0.3  0.17 0.13]",
          "['public investment funds' 'fixed term and savings deposit'\n 'other equity instruments' 'listed foreign public equity'\n 'corporate bonds' 'cash' 'listed domestic public equity' 'state bonds']<br>[0.02 0.19 0.05 0.16 0.14 0.12 0.   0.31]",
          "['state bonds' 'listed domestic public equity'\n 'fixed term and savings deposit' 'corporate bonds'\n 'public investment funds' 'listed foreign public equity'\n 'other equity instruments' 'cash']<br>[0.23 0.02 0.03 0.12 0.   0.27 0.2  0.13]",
          "['other equity instruments' 'cash' 'fixed term and savings deposit'\n 'state bonds' 'public investment funds' 'corporate bonds'\n 'listed domestic public equity' 'listed foreign public equity']<br>[0.01 0.29 0.27 0.23 0.01 0.13 0.01 0.05]",
          "['state bonds' 'corporate bonds' 'fixed term and savings deposit'\n 'listed foreign public equity' 'public investment funds' 'cash'\n 'listed domestic public equity' 'other equity instruments']<br>[0.27 0.15 0.21 0.12 0.02 0.16 0.   0.06]",
          "['corporate bonds' 'cash' 'state bonds' 'listed foreign public equity'\n 'fixed term and savings deposit' 'public investment funds'\n 'listed domestic public equity' 'other equity instruments']<br>[0.11 0.12 0.32 0.1  0.31 0.02 0.01 0.01]",
          "['fixed term and savings deposit' 'cash' 'other equity instruments'\n 'state bonds' 'corporate bonds' 'listed foreign public equity'\n 'listed domestic public equity' 'public investment funds']<br>[0.25 0.12 0.   0.28 0.21 0.13 0.   0.01]",
          "['state bonds' 'corporate bonds' 'listed domestic public equity'\n 'listed foreign public equity' 'public investment funds'\n 'fixed term and savings deposit' 'other equity instruments' 'cash']<br>[0.29 0.25 0.02 0.09 0.01 0.13 0.05 0.15]",
          "['public investment funds' 'listed foreign public equity' 'state bonds'\n 'cash' 'fixed term and savings deposit' 'listed domestic public equity'\n 'corporate bonds' 'other equity instruments']<br>[0.02 0.06 0.29 0.25 0.24 0.01 0.13 0.01]",
          "['corporate bonds' 'listed foreign public equity' 'state bonds'\n 'other equity instruments' 'listed domestic public equity' 'cash'\n 'public investment funds' 'fixed term and savings deposit']<br>[0.21 0.03 0.26 0.04 0.01 0.17 0.02 0.27]",
          "['listed domestic public equity' 'fixed term and savings deposit' 'cash'\n 'other equity instruments' 'public investment funds' 'corporate bonds'\n 'state bonds' 'listed foreign public equity']<br>[0.   0.02 0.15 0.2  0.01 0.11 0.25 0.27]",
          "['other equity instruments' 'public investment funds'\n 'listed domestic public equity' 'corporate bonds' 'state bonds'\n 'fixed term and savings deposit' 'listed foreign public equity' 'cash']<br>[0.14 0.01 0.01 0.23 0.23 0.03 0.23 0.13]",
          "['other equity instruments' 'public investment funds'\n 'listed domestic public equity' 'corporate bonds'\n 'listed foreign public equity' 'fixed term and savings deposit'\n 'state bonds' 'cash']<br>[0.31 0.03 0.02 0.1  0.31 0.03 0.09 0.12]",
          "['cash' 'public investment funds' 'listed domestic public equity'\n 'corporate bonds' 'state bonds' 'listed foreign public equity'\n 'fixed term and savings deposit' 'other equity instruments']<br>[0.13 0.   0.   0.26 0.23 0.2  0.   0.18]",
          "['listed foreign public equity' 'public investment funds'\n 'other equity instruments' 'state bonds' 'cash' 'corporate bonds'\n 'fixed term and savings deposit' 'listed domestic public equity']<br>[0.15 0.04 0.09 0.3  0.13 0.26 0.04 0.  ]",
          "['state bonds' 'fixed term and savings deposit' 'other equity instruments'\n 'public investment funds' 'cash' 'listed domestic public equity'\n 'listed foreign public equity' 'corporate bonds']<br>[0.25 0.31 0.01 0.01 0.32 0.01 0.05 0.03]",
          "['cash' 'state bonds' 'public investment funds'\n 'listed domestic public equity' 'fixed term and savings deposit'\n 'listed foreign public equity' 'corporate bonds'\n 'other equity instruments']<br>[0.14 0.09 0.06 0.   0.01 0.31 0.09 0.3 ]",
          "['state bonds' 'listed foreign public equity'\n 'fixed term and savings deposit' 'listed domestic public equity'\n 'other equity instruments' 'public investment funds' 'corporate bonds'\n 'cash']<br>[0.23 0.04 0.31 0.01 0.03 0.   0.22 0.16]",
          "['other equity instruments' 'listed foreign public equity'\n 'corporate bonds' 'fixed term and savings deposit' 'cash'\n 'listed domestic public equity' 'state bonds' 'public investment funds']<br>[0.03 0.03 0.14 0.3  0.17 0.03 0.3  0.  ]",
          "['public investment funds' 'state bonds' 'cash'\n 'listed domestic public equity' 'fixed term and savings deposit'\n 'corporate bonds' 'listed foreign public equity'\n 'other equity instruments']<br>[0.02 0.29 0.18 0.   0.15 0.21 0.1  0.06]",
          "['fixed term and savings deposit' 'listed foreign public equity'\n 'public investment funds' 'listed domestic public equity'\n 'corporate bonds' 'other equity instruments' 'cash' 'state bonds']<br>[0.05 0.15 0.01 0.01 0.25 0.17 0.13 0.23]",
          "['cash' 'fixed term and savings deposit' 'corporate bonds'\n 'other equity instruments' 'public investment funds'\n 'listed domestic public equity' 'state bonds'\n 'listed foreign public equity']<br>[0.12 0.01 0.05 0.16 0.03 0.   0.31 0.32]",
          "['listed domestic public equity' 'listed foreign public equity'\n 'corporate bonds' 'other equity instruments'\n 'fixed term and savings deposit' 'public investment funds' 'cash'\n 'state bonds']<br>[0.01 0.08 0.28 0.06 0.11 0.02 0.15 0.28]",
          "['public investment funds' 'fixed term and savings deposit'\n 'corporate bonds' 'state bonds' 'other equity instruments'\n 'listed foreign public equity' 'listed domestic public equity' 'cash']<br>[0.01 0.   0.01 0.17 0.31 0.32 0.01 0.16]",
          "['public investment funds' 'fixed term and savings deposit' 'state bonds'\n 'cash' 'other equity instruments' 'listed foreign public equity'\n 'listed domestic public equity' 'corporate bonds']<br>[0.04 0.1  0.31 0.12 0.07 0.17 0.   0.19]",
          "['listed foreign public equity' 'public investment funds'\n 'listed domestic public equity' 'cash' 'state bonds'\n 'fixed term and savings deposit' 'corporate bonds'\n 'other equity instruments']<br>[0.31 0.   0.01 0.13 0.19 0.01 0.12 0.23]",
          "['fixed term and savings deposit' 'listed foreign public equity'\n 'public investment funds' 'state bonds' 'cash' 'corporate bonds'\n 'listed domestic public equity' 'other equity instruments']<br>[0.33 0.04 0.03 0.29 0.15 0.11 0.01 0.05]",
          "['listed foreign public equity' 'corporate bonds' 'state bonds'\n 'listed domestic public equity' 'cash' 'other equity instruments'\n 'public investment funds' 'fixed term and savings deposit']<br>[0.03 0.21 0.2  0.01 0.18 0.03 0.01 0.32]",
          "['public investment funds' 'listed foreign public equity' 'cash'\n 'state bonds' 'fixed term and savings deposit'\n 'listed domestic public equity' 'corporate bonds'\n 'other equity instruments']<br>[0.01 0.22 0.13 0.28 0.02 0.01 0.06 0.26]",
          "['fixed term and savings deposit' 'corporate bonds' 'cash'\n 'listed foreign public equity' 'state bonds' 'public investment funds'\n 'other equity instruments' 'listed domestic public equity']<br>[0.29 0.17 0.12 0.04 0.29 0.04 0.04 0.  ]",
          "['public investment funds' 'listed foreign public equity'\n 'other equity instruments' 'listed domestic public equity'\n 'corporate bonds' 'state bonds' 'cash' 'fixed term and savings deposit']<br>[0.   0.18 0.06 0.01 0.28 0.32 0.14 0.  ]",
          "['listed foreign public equity' 'state bonds' 'cash'\n 'other equity instruments' 'fixed term and savings deposit'\n 'listed domestic public equity' 'public investment funds'\n 'corporate bonds']<br>[0.2  0.29 0.15 0.06 0.13 0.   0.01 0.17]",
          "['listed foreign public equity' 'public investment funds'\n 'other equity instruments' 'fixed term and savings deposit' 'state bonds'\n 'listed domestic public equity' 'corporate bonds' 'cash']<br>[0.26 0.04 0.3  0.02 0.22 0.01 0.02 0.13]",
          "['public investment funds' 'corporate bonds' 'cash'\n 'other equity instruments' 'listed domestic public equity'\n 'fixed term and savings deposit' 'state bonds'\n 'listed foreign public equity']<br>[0.01 0.22 0.25 0.01 0.01 0.31 0.17 0.02]",
          "['cash' 'listed domestic public equity' 'state bonds'\n 'public investment funds' 'corporate bonds' 'other equity instruments'\n 'fixed term and savings deposit' 'listed foreign public equity']<br>[0.12 0.   0.27 0.02 0.14 0.05 0.26 0.14]",
          "['listed domestic public equity' 'state bonds' 'public investment funds'\n 'cash' 'listed foreign public equity' 'corporate bonds'\n 'fixed term and savings deposit' 'other equity instruments']<br>[0.   0.29 0.04 0.13 0.07 0.27 0.13 0.06]",
          "['state bonds' 'public investment funds' 'cash' 'other equity instruments'\n 'listed domestic public equity' 'listed foreign public equity'\n 'corporate bonds' 'fixed term and savings deposit']<br>[0.05 0.   0.13 0.33 0.03 0.3  0.12 0.03]",
          "['other equity instruments' 'listed domestic public equity'\n 'corporate bonds' 'fixed term and savings deposit'\n 'listed foreign public equity' 'public investment funds' 'state bonds'\n 'cash']<br>[0.02 0.   0.27 0.26 0.04 0.02 0.2  0.2 ]",
          "['state bonds' 'listed foreign public equity' 'cash'\n 'fixed term and savings deposit' 'other equity instruments'\n 'corporate bonds' 'public investment funds'\n 'listed domestic public equity']<br>[0.28 0.09 0.16 0.09 0.08 0.29 0.01 0.  ]",
          "['state bonds' 'cash' 'other equity instruments'\n 'listed foreign public equity' 'fixed term and savings deposit'\n 'corporate bonds' 'public investment funds'\n 'listed domestic public equity']<br>[0.32 0.13 0.12 0.09 0.09 0.2  0.04 0.01]",
          "['other equity instruments' 'fixed term and savings deposit' 'state bonds'\n 'cash' 'corporate bonds' 'public investment funds'\n 'listed domestic public equity' 'listed foreign public equity']<br>[0.32 0.02 0.03 0.14 0.08 0.06 0.04 0.31]",
          "['listed foreign public equity' 'listed domestic public equity'\n 'corporate bonds' 'other equity instruments' 'state bonds'\n 'public investment funds' 'fixed term and savings deposit' 'cash']<br>[0.06 0.02 0.08 0.02 0.32 0.01 0.33 0.15]",
          "['listed domestic public equity' 'other equity instruments'\n 'fixed term and savings deposit' 'listed foreign public equity' 'cash'\n 'corporate bonds' 'state bonds' 'public investment funds']<br>[0.01 0.06 0.28 0.09 0.16 0.08 0.31 0.01]",
          "['corporate bonds' 'other equity instruments'\n 'listed domestic public equity' 'listed foreign public equity'\n 'public investment funds' 'state bonds' 'cash'\n 'fixed term and savings deposit']<br>[0.   0.23 0.02 0.24 0.01 0.33 0.13 0.05]",
          "['listed foreign public equity' 'cash' 'fixed term and savings deposit'\n 'corporate bonds' 'listed domestic public equity' 'state bonds'\n 'other equity instruments' 'public investment funds']<br>[0.27 0.12 0.   0.13 0.01 0.25 0.2  0.02]",
          "['cash' 'listed foreign public equity' 'public investment funds'\n 'listed domestic public equity' 'fixed term and savings deposit'\n 'other equity instruments' 'state bonds' 'corporate bonds']<br>[0.12 0.32 0.01 0.04 0.06 0.33 0.11 0.01]",
          "['public investment funds' 'other equity instruments'\n 'listed domestic public equity' 'cash' 'listed foreign public equity'\n 'state bonds' 'fixed term and savings deposit' 'corporate bonds']<br>[0.   0.19 0.01 0.12 0.23 0.23 0.01 0.2 ]",
          "['listed domestic public equity' 'listed foreign public equity'\n 'state bonds' 'public investment funds' 'fixed term and savings deposit'\n 'corporate bonds' 'cash' 'other equity instruments']<br>[0.02 0.23 0.3  0.01 0.   0.11 0.13 0.2 ]",
          "['fixed term and savings deposit' 'listed domestic public equity'\n 'other equity instruments' 'cash' 'state bonds'\n 'listed foreign public equity' 'corporate bonds'\n 'public investment funds']<br>[0.12 0.01 0.1  0.13 0.31 0.04 0.27 0.02]",
          "['public investment funds' 'corporate bonds' 'state bonds'\n 'listed foreign public equity' 'cash' 'fixed term and savings deposit'\n 'other equity instruments' 'listed domestic public equity']<br>[0.05 0.06 0.01 0.3  0.14 0.02 0.32 0.09]",
          "['fixed term and savings deposit' 'other equity instruments'\n 'listed foreign public equity' 'public investment funds'\n 'corporate bonds' 'state bonds' 'cash' 'listed domestic public equity']<br>[0.28 0.03 0.05 0.   0.16 0.25 0.22 0.01]",
          "['state bonds' 'public investment funds' 'corporate bonds'\n 'fixed term and savings deposit' 'other equity instruments'\n 'listed domestic public equity' 'cash' 'listed foreign public equity']<br>[0.33 0.   0.13 0.02 0.12 0.   0.18 0.23]",
          "['cash' 'other equity instruments' 'state bonds' 'public investment funds'\n 'fixed term and savings deposit' 'listed foreign public equity'\n 'listed domestic public equity' 'corporate bonds']<br>[0.13 0.07 0.26 0.01 0.01 0.22 0.   0.3 ]",
          "['state bonds' 'cash' 'public investment funds'\n 'listed foreign public equity' 'other equity instruments'\n 'corporate bonds' 'listed domestic public equity'\n 'fixed term and savings deposit']<br>[0.26 0.12 0.01 0.12 0.06 0.22 0.01 0.21]",
          "['listed domestic public equity' 'state bonds' 'public investment funds'\n 'listed foreign public equity' 'cash' 'fixed term and savings deposit'\n 'corporate bonds' 'other equity instruments']<br>[0.01 0.27 0.01 0.07 0.19 0.31 0.1  0.04]",
          "['corporate bonds' 'fixed term and savings deposit' 'state bonds'\n 'public investment funds' 'listed domestic public equity' 'cash'\n 'other equity instruments' 'listed foreign public equity']<br>[0.19 0.   0.27 0.04 0.01 0.12 0.14 0.23]",
          "['public investment funds' 'corporate bonds' 'cash'\n 'other equity instruments' 'listed domestic public equity'\n 'fixed term and savings deposit' 'listed foreign public equity'\n 'state bonds']<br>[0.02 0.11 0.13 0.06 0.01 0.32 0.05 0.3 ]",
          "['listed domestic public equity' 'public investment funds'\n 'fixed term and savings deposit' 'state bonds' 'other equity instruments'\n 'cash' 'corporate bonds' 'listed foreign public equity']<br>[0.   0.05 0.01 0.27 0.2  0.12 0.18 0.17]",
          "['fixed term and savings deposit' 'corporate bonds'\n 'other equity instruments' 'public investment funds' 'state bonds'\n 'listed domestic public equity' 'listed foreign public equity' 'cash']<br>[0.31 0.15 0.02 0.01 0.23 0.01 0.01 0.26]",
          "['listed foreign public equity' 'public investment funds' 'state bonds'\n 'corporate bonds' 'listed domestic public equity'\n 'other equity instruments' 'cash' 'fixed term and savings deposit']<br>[0.05 0.02 0.27 0.15 0.01 0.03 0.16 0.31]",
          "['cash' 'public investment funds' 'listed domestic public equity'\n 'other equity instruments' 'state bonds' 'listed foreign public equity'\n 'corporate bonds' 'fixed term and savings deposit']<br>[0.15 0.   0.   0.06 0.25 0.15 0.23 0.14]",
          "['state bonds' 'listed foreign public equity'\n 'listed domestic public equity' 'other equity instruments'\n 'corporate bonds' 'cash' 'fixed term and savings deposit'\n 'public investment funds']<br>[0.02 0.33 0.05 0.31 0.05 0.13 0.03 0.09]",
          "['fixed term and savings deposit' 'public investment funds'\n 'listed foreign public equity' 'listed domestic public equity'\n 'state bonds' 'cash' 'other equity instruments' 'corporate bonds']<br>[0.07 0.01 0.19 0.   0.27 0.13 0.14 0.18]",
          "['other equity instruments' 'listed domestic public equity' 'cash'\n 'public investment funds' 'corporate bonds'\n 'listed foreign public equity' 'fixed term and savings deposit'\n 'state bonds']<br>[0.06 0.01 0.13 0.01 0.25 0.09 0.18 0.28]",
          "['state bonds' 'cash' 'public investment funds' 'other equity instruments'\n 'listed domestic public equity' 'listed foreign public equity'\n 'corporate bonds' 'fixed term and savings deposit']<br>[0.21 0.22 0.02 0.02 0.   0.02 0.19 0.32]",
          "['fixed term and savings deposit' 'listed domestic public equity'\n 'state bonds' 'cash' 'public investment funds' 'other equity instruments'\n 'listed foreign public equity' 'corporate bonds']<br>[0.   0.   0.24 0.14 0.01 0.12 0.23 0.26]",
          "['fixed term and savings deposit' 'cash' 'other equity instruments'\n 'listed foreign public equity' 'state bonds' 'public investment funds'\n 'listed domestic public equity' 'corporate bonds']<br>[0.03 0.13 0.23 0.24 0.25 0.01 0.01 0.1 ]",
          "['corporate bonds' 'listed foreign public equity' 'cash'\n 'public investment funds' 'fixed term and savings deposit' 'state bonds'\n 'listed domestic public equity' 'other equity instruments']<br>[0.02 0.29 0.14 0.04 0.01 0.32 0.   0.19]",
          "['listed foreign public equity' 'listed domestic public equity'\n 'other equity instruments' 'state bonds' 'corporate bonds' 'cash'\n 'public investment funds' 'fixed term and savings deposit']<br>[0.19 0.   0.13 0.22 0.28 0.13 0.02 0.03]",
          "['public investment funds' 'listed foreign public equity'\n 'fixed term and savings deposit' 'listed domestic public equity'\n 'state bonds' 'cash' 'other equity instruments' 'corporate bonds']<br>[0.   0.29 0.02 0.01 0.27 0.12 0.17 0.11]",
          "['other equity instruments' 'public investment funds' 'cash'\n 'listed foreign public equity' 'corporate bonds' 'state bonds'\n 'fixed term and savings deposit' 'listed domestic public equity']<br>[0.23 0.01 0.12 0.26 0.06 0.27 0.04 0.01]",
          "['listed domestic public equity' 'cash' 'public investment funds'\n 'corporate bonds' 'other equity instruments' 'state bonds'\n 'listed foreign public equity' 'fixed term and savings deposit']<br>[0.01 0.12 0.   0.09 0.24 0.25 0.25 0.04]",
          "['cash' 'public investment funds' 'corporate bonds' 'state bonds'\n 'listed foreign public equity' 'fixed term and savings deposit'\n 'listed domestic public equity' 'other equity instruments']<br>[0.15 0.02 0.31 0.3  0.13 0.01 0.   0.08]",
          "['listed foreign public equity' 'other equity instruments'\n 'listed domestic public equity' 'public investment funds'\n 'corporate bonds' 'fixed term and savings deposit' 'cash' 'state bonds']<br>[0.14 0.08 0.01 0.01 0.26 0.02 0.17 0.31]",
          "['corporate bonds' 'cash' 'public investment funds'\n 'other equity instruments' 'state bonds' 'listed domestic public equity'\n 'fixed term and savings deposit' 'listed foreign public equity']<br>[0.2  0.12 0.01 0.03 0.3  0.   0.15 0.18]",
          "['corporate bonds' 'state bonds' 'listed domestic public equity' 'cash'\n 'public investment funds' 'fixed term and savings deposit'\n 'other equity instruments' 'listed foreign public equity']<br>[0.18 0.32 0.02 0.12 0.03 0.   0.12 0.2 ]",
          "['other equity instruments' 'public investment funds' 'cash'\n 'listed domestic public equity' 'listed foreign public equity'\n 'corporate bonds' 'fixed term and savings deposit' 'state bonds']<br>[0.32 0.   0.13 0.03 0.32 0.05 0.   0.14]",
          "['listed domestic public equity' 'other equity instruments' 'state bonds'\n 'listed foreign public equity' 'public investment funds'\n 'fixed term and savings deposit' 'cash' 'corporate bonds']<br>[0.   0.13 0.29 0.19 0.02 0.05 0.12 0.19]",
          "['corporate bonds' 'public investment funds'\n 'listed domestic public equity' 'fixed term and savings deposit'\n 'other equity instruments' 'listed foreign public equity' 'cash'\n 'state bonds']<br>[0.04 0.02 0.   0.3  0.   0.07 0.29 0.29]",
          "['cash' 'corporate bonds' 'listed domestic public equity' 'state bonds'\n 'public investment funds' 'other equity instruments'\n 'fixed term and savings deposit' 'listed foreign public equity']<br>[0.13 0.08 0.   0.3  0.   0.2  0.09 0.2 ]",
          "['state bonds' 'other equity instruments' 'fixed term and savings deposit'\n 'cash' 'listed domestic public equity' 'corporate bonds'\n 'public investment funds' 'listed foreign public equity']<br>[0.31 0.13 0.03 0.15 0.01 0.25 0.01 0.12]",
          "['cash' 'fixed term and savings deposit' 'corporate bonds'\n 'listed foreign public equity' 'public investment funds'\n 'other equity instruments' 'state bonds' 'listed domestic public equity']<br>[0.13 0.04 0.03 0.22 0.   0.26 0.31 0.01]",
          "['fixed term and savings deposit' 'other equity instruments'\n 'public investment funds' 'listed domestic public equity'\n 'corporate bonds' 'cash' 'listed foreign public equity' 'state bonds']<br>[0.12 0.05 0.   0.   0.22 0.14 0.16 0.31]",
          "['listed domestic public equity' 'cash' 'public investment funds'\n 'corporate bonds' 'state bonds' 'listed foreign public equity'\n 'other equity instruments' 'fixed term and savings deposit']<br>[0.   0.19 0.   0.22 0.28 0.16 0.08 0.05]",
          "['listed domestic public equity' 'cash' 'fixed term and savings deposit'\n 'corporate bonds' 'state bonds' 'listed foreign public equity'\n 'other equity instruments' 'public investment funds']<br>[0.01 0.12 0.01 0.28 0.27 0.18 0.13 0.01]",
          "['listed domestic public equity' 'other equity instruments'\n 'fixed term and savings deposit' 'listed foreign public equity'\n 'public investment funds' 'state bonds' 'corporate bonds' 'cash']<br>[0.   0.07 0.23 0.06 0.01 0.27 0.17 0.18]",
          "['cash' 'fixed term and savings deposit' 'other equity instruments'\n 'public investment funds' 'listed foreign public equity' 'state bonds'\n 'corporate bonds' 'listed domestic public equity']<br>[0.14 0.01 0.32 0.07 0.33 0.09 0.04 0.  ]",
          "['corporate bonds' 'other equity instruments'\n 'listed domestic public equity' 'state bonds'\n 'listed foreign public equity' 'fixed term and savings deposit' 'cash'\n 'public investment funds']<br>[0.21 0.13 0.01 0.3  0.16 0.03 0.14 0.02]",
          "['other equity instruments' 'corporate bonds' 'public investment funds'\n 'state bonds' 'listed domestic public equity' 'cash'\n 'listed foreign public equity' 'fixed term and savings deposit']<br>[0.05 0.3  0.01 0.3  0.   0.12 0.04 0.18]",
          "['other equity instruments' 'corporate bonds' 'state bonds' 'cash'\n 'listed domestic public equity' 'public investment funds'\n 'fixed term and savings deposit' 'listed foreign public equity']<br>[0.02 0.03 0.29 0.28 0.01 0.02 0.32 0.04]",
          "['public investment funds' 'state bonds' 'corporate bonds'\n 'listed domestic public equity' 'other equity instruments'\n 'listed foreign public equity' 'cash' 'fixed term and savings deposit']<br>[0.01 0.33 0.22 0.   0.05 0.21 0.13 0.05]",
          "['listed domestic public equity' 'cash' 'corporate bonds'\n 'fixed term and savings deposit' 'public investment funds'\n 'other equity instruments' 'listed foreign public equity' 'state bonds']<br>[0.   0.13 0.21 0.13 0.06 0.06 0.08 0.33]",
          "['other equity instruments' 'public investment funds'\n 'fixed term and savings deposit' 'listed domestic public equity'\n 'listed foreign public equity' 'corporate bonds' 'cash' 'state bonds']<br>[0.05 0.01 0.26 0.01 0.1  0.13 0.16 0.29]",
          "['cash' 'listed foreign public equity' 'corporate bonds'\n 'other equity instruments' 'public investment funds' 'state bonds'\n 'fixed term and savings deposit' 'listed domestic public equity']<br>[0.16 0.09 0.2  0.04 0.   0.3  0.2  0.01]",
          "['state bonds' 'cash' 'listed foreign public equity'\n 'public investment funds' 'fixed term and savings deposit'\n 'listed domestic public equity' 'corporate bonds'\n 'other equity instruments']<br>[0.27 0.12 0.03 0.03 0.28 0.   0.23 0.04]",
          "['listed foreign public equity' 'other equity instruments'\n 'listed domestic public equity' 'corporate bonds' 'state bonds' 'cash'\n 'public investment funds' 'fixed term and savings deposit']<br>[0.24 0.22 0.   0.08 0.29 0.13 0.04 0.  ]",
          "['other equity instruments' 'fixed term and savings deposit'\n 'public investment funds' 'listed domestic public equity'\n 'listed foreign public equity' 'state bonds' 'cash' 'corporate bonds']<br>[0.01 0.23 0.01 0.   0.07 0.29 0.24 0.15]",
          "['corporate bonds' 'fixed term and savings deposit'\n 'public investment funds' 'cash' 'other equity instruments' 'state bonds'\n 'listed domestic public equity' 'listed foreign public equity']<br>[0.09 0.31 0.02 0.25 0.02 0.28 0.01 0.03]",
          "['listed domestic public equity' 'corporate bonds' 'cash'\n 'other equity instruments' 'fixed term and savings deposit'\n 'public investment funds' 'listed foreign public equity' 'state bonds']<br>[0.01 0.07 0.16 0.09 0.25 0.   0.1  0.33]",
          "['state bonds' 'cash' 'public investment funds' 'corporate bonds'\n 'fixed term and savings deposit' 'other equity instruments'\n 'listed foreign public equity' 'listed domestic public equity']<br>[0.32 0.15 0.   0.01 0.01 0.19 0.3  0.02]",
          "['fixed term and savings deposit' 'public investment funds'\n 'other equity instruments' 'corporate bonds' 'state bonds'\n 'listed domestic public equity' 'cash' 'listed foreign public equity']<br>[0.03 0.   0.18 0.14 0.28 0.01 0.13 0.23]",
          "['public investment funds' 'cash' 'corporate bonds'\n 'fixed term and savings deposit' 'state bonds' 'other equity instruments'\n 'listed domestic public equity' 'listed foreign public equity']<br>[0.04 0.13 0.25 0.12 0.3  0.07 0.01 0.08]",
          "['cash' 'corporate bonds' 'state bonds' 'listed foreign public equity'\n 'public investment funds' 'other equity instruments'\n 'fixed term and savings deposit' 'listed domestic public equity']<br>[0.16 0.13 0.32 0.03 0.03 0.02 0.3  0.01]",
          "['public investment funds' 'other equity instruments'\n 'fixed term and savings deposit' 'listed domestic public equity' 'cash'\n 'corporate bonds' 'listed foreign public equity' 'state bonds']<br>[0.   0.12 0.12 0.01 0.13 0.13 0.19 0.3 ]",
          "['listed foreign public equity' 'corporate bonds'\n 'listed domestic public equity' 'fixed term and savings deposit'\n 'other equity instruments' 'cash' 'state bonds' 'public investment funds']<br>[0.08 0.14 0.02 0.31 0.02 0.13 0.3  0.01]",
          "['listed domestic public equity' 'listed foreign public equity'\n 'fixed term and savings deposit' 'corporate bonds'\n 'public investment funds' 'cash' 'other equity instruments' 'state bonds']<br>[0.   0.15 0.   0.22 0.01 0.13 0.21 0.28]",
          "['listed foreign public equity' 'listed domestic public equity'\n 'state bonds' 'other equity instruments' 'cash'\n 'fixed term and savings deposit' 'corporate bonds'\n 'public investment funds']<br>[0.04 0.   0.27 0.02 0.23 0.25 0.18 0.02]",
          "['listed domestic public equity' 'public investment funds'\n 'corporate bonds' 'fixed term and savings deposit'\n 'other equity instruments' 'state bonds' 'cash'\n 'listed foreign public equity']<br>[0.   0.   0.28 0.03 0.13 0.28 0.14 0.12]",
          "['listed domestic public equity' 'cash' 'other equity instruments'\n 'listed foreign public equity' 'fixed term and savings deposit'\n 'public investment funds' 'corporate bonds' 'state bonds']<br>[0.01 0.28 0.01 0.1  0.28 0.   0.01 0.31]",
          "['listed foreign public equity' 'corporate bonds' 'cash'\n 'public investment funds' 'listed domestic public equity'\n 'fixed term and savings deposit' 'state bonds' 'other equity instruments']<br>[0.28 0.14 0.13 0.03 0.   0.03 0.32 0.07]",
          "['state bonds' 'other equity instruments' 'listed domestic public equity'\n 'fixed term and savings deposit' 'public investment funds'\n 'listed foreign public equity' 'cash' 'corporate bonds']<br>[0.27 0.07 0.   0.21 0.02 0.08 0.12 0.22]",
          "['listed domestic public equity' 'corporate bonds' 'cash'\n 'listed foreign public equity' 'public investment funds'\n 'fixed term and savings deposit' 'other equity instruments' 'state bonds']<br>[0.   0.15 0.17 0.06 0.   0.22 0.09 0.31]",
          "['state bonds' 'fixed term and savings deposit' 'corporate bonds'\n 'other equity instruments' 'listed foreign public equity' 'cash'\n 'public investment funds' 'listed domestic public equity']<br>[0.32 0.14 0.15 0.14 0.09 0.13 0.01 0.01]",
          "['listed foreign public equity' 'state bonds'\n 'fixed term and savings deposit' 'other equity instruments' 'cash'\n 'corporate bonds' 'public investment funds'\n 'listed domestic public equity']<br>[0.04 0.3  0.29 0.03 0.17 0.16 0.02 0.  ]",
          "['listed domestic public equity' 'fixed term and savings deposit'\n 'listed foreign public equity' 'corporate bonds' 'state bonds' 'cash'\n 'public investment funds' 'other equity instruments']<br>[0.   0.26 0.13 0.12 0.3  0.14 0.   0.04]",
          "['state bonds' 'cash' 'other equity instruments' 'corporate bonds'\n 'listed foreign public equity' 'public investment funds'\n 'listed domestic public equity' 'fixed term and savings deposit']<br>[0.3  0.14 0.13 0.28 0.11 0.   0.01 0.02]",
          "['corporate bonds' 'listed foreign public equity' 'cash'\n 'public investment funds' 'state bonds' 'listed domestic public equity'\n 'other equity instruments' 'fixed term and savings deposit']<br>[0.04 0.31 0.13 0.04 0.08 0.07 0.32 0.01]",
          "['public investment funds' 'corporate bonds' 'state bonds'\n 'listed foreign public equity' 'cash' 'fixed term and savings deposit'\n 'listed domestic public equity' 'other equity instruments']<br>[0.02 0.05 0.3  0.04 0.3  0.27 0.01 0.02]",
          "['state bonds' 'fixed term and savings deposit'\n 'listed domestic public equity' 'listed foreign public equity'\n 'other equity instruments' 'public investment funds' 'cash'\n 'corporate bonds']<br>[0.16 0.01 0.   0.26 0.31 0.   0.12 0.13]",
          "['state bonds' 'fixed term and savings deposit' 'corporate bonds'\n 'public investment funds' 'listed domestic public equity'\n 'listed foreign public equity' 'cash' 'other equity instruments']<br>[0.24 0.05 0.22 0.02 0.   0.22 0.14 0.12]",
          "['listed foreign public equity' 'listed domestic public equity'\n 'fixed term and savings deposit' 'other equity instruments'\n 'corporate bonds' 'state bonds' 'cash' 'public investment funds']<br>[0.07 0.02 0.32 0.01 0.08 0.27 0.24 0.  ]",
          "['corporate bonds' 'public investment funds' 'cash'\n 'fixed term and savings deposit' 'other equity instruments'\n 'listed foreign public equity' 'listed domestic public equity'\n 'state bonds']<br>[0.16 0.   0.13 0.05 0.2  0.17 0.   0.3 ]",
          "['state bonds' 'other equity instruments' 'fixed term and savings deposit'\n 'listed foreign public equity' 'corporate bonds'\n 'listed domestic public equity' 'cash' 'public investment funds']<br>[0.24 0.03 0.29 0.02 0.1  0.   0.29 0.01]",
          "['public investment funds' 'listed domestic public equity'\n 'other equity instruments' 'fixed term and savings deposit' 'cash'\n 'state bonds' 'corporate bonds' 'listed foreign public equity']<br>[0.04 0.01 0.25 0.   0.12 0.32 0.03 0.23]",
          "['public investment funds' 'listed foreign public equity'\n 'listed domestic public equity' 'corporate bonds' 'state bonds' 'cash'\n 'fixed term and savings deposit' 'other equity instruments']<br>[0.   0.06 0.02 0.02 0.33 0.24 0.31 0.03]",
          "['public investment funds' 'corporate bonds'\n 'listed domestic public equity' 'cash' 'fixed term and savings deposit'\n 'listed foreign public equity' 'state bonds' 'other equity instruments']<br>[0.   0.25 0.   0.13 0.02 0.22 0.23 0.15]",
          "['fixed term and savings deposit' 'listed domestic public equity'\n 'listed foreign public equity' 'state bonds' 'cash'\n 'other equity instruments' 'public investment funds' 'corporate bonds']<br>[0.   0.   0.23 0.29 0.15 0.26 0.01 0.04]",
          "['listed domestic public equity' 'corporate bonds'\n 'other equity instruments' 'state bonds' 'cash' 'public investment funds'\n 'listed foreign public equity' 'fixed term and savings deposit']<br>[0.01 0.03 0.3  0.21 0.13 0.02 0.27 0.02]",
          "['cash' 'other equity instruments' 'listed domestic public equity'\n 'state bonds' 'public investment funds' 'corporate bonds'\n 'listed foreign public equity' 'fixed term and savings deposit']<br>[0.15 0.31 0.   0.18 0.02 0.02 0.3  0.02]",
          "['corporate bonds' 'state bonds' 'public investment funds'\n 'other equity instruments' 'listed foreign public equity'\n 'fixed term and savings deposit' 'cash' 'listed domestic public equity']<br>[0.11 0.   0.08 0.32 0.32 0.03 0.12 0.02]",
          "['public investment funds' 'listed domestic public equity'\n 'listed foreign public equity' 'other equity instruments'\n 'corporate bonds' 'state bonds' 'fixed term and savings deposit' 'cash']<br>[0.01 0.   0.19 0.27 0.13 0.26 0.01 0.12]",
          "['listed foreign public equity' 'cash' 'corporate bonds' 'state bonds'\n 'listed domestic public equity' 'fixed term and savings deposit'\n 'other equity instruments' 'public investment funds']<br>[0.06 0.13 0.24 0.23 0.01 0.31 0.02 0.01]",
          "['listed domestic public equity' 'other equity instruments'\n 'corporate bonds' 'cash' 'state bonds' 'public investment funds'\n 'listed foreign public equity' 'fixed term and savings deposit']<br>[0.   0.16 0.24 0.13 0.24 0.   0.21 0.02]",
          "['fixed term and savings deposit' 'listed foreign public equity'\n 'public investment funds' 'cash' 'other equity instruments' 'state bonds'\n 'corporate bonds' 'listed domestic public equity']<br>[0.3  0.06 0.   0.17 0.08 0.32 0.06 0.01]",
          "['state bonds' 'public investment funds' 'listed foreign public equity'\n 'other equity instruments' 'listed domestic public equity' 'cash'\n 'fixed term and savings deposit' 'corporate bonds']<br>[0.31 0.01 0.04 0.03 0.   0.15 0.24 0.22]",
          "['other equity instruments' 'cash' 'listed foreign public equity'\n 'fixed term and savings deposit' 'public investment funds'\n 'corporate bonds' 'state bonds' 'listed domestic public equity']<br>[0.03 0.33 0.05 0.28 0.01 0.05 0.25 0.  ]",
          "['other equity instruments' 'listed foreign public equity'\n 'listed domestic public equity' 'corporate bonds' 'state bonds'\n 'fixed term and savings deposit' 'public investment funds' 'cash']<br>[0.07 0.05 0.   0.16 0.3  0.29 0.   0.12]",
          "['public investment funds' 'other equity instruments'\n 'fixed term and savings deposit' 'state bonds' 'corporate bonds'\n 'listed domestic public equity' 'listed foreign public equity' 'cash']<br>[0.02 0.02 0.11 0.29 0.29 0.   0.13 0.14]",
          "['cash' 'listed domestic public equity' 'state bonds' 'corporate bonds'\n 'public investment funds' 'other equity instruments'\n 'listed foreign public equity' 'fixed term and savings deposit']<br>[0.13 0.03 0.18 0.03 0.03 0.31 0.29 0.01]",
          "['cash' 'listed foreign public equity' 'other equity instruments'\n 'corporate bonds' 'state bonds' 'fixed term and savings deposit'\n 'public investment funds' 'listed domestic public equity']<br>[0.12 0.24 0.21 0.15 0.24 0.02 0.   0.01]",
          "['listed foreign public equity' 'cash' 'state bonds'\n 'listed domestic public equity' 'fixed term and savings deposit'\n 'public investment funds' 'corporate bonds' 'other equity instruments']<br>[0.21 0.12 0.23 0.01 0.01 0.01 0.29 0.12]",
          "['other equity instruments' 'public investment funds' 'corporate bonds'\n 'state bonds' 'cash' 'listed domestic public equity'\n 'fixed term and savings deposit' 'listed foreign public equity']<br>[0.05 0.03 0.27 0.33 0.13 0.01 0.01 0.18]",
          "['corporate bonds' 'cash' 'other equity instruments'\n 'listed foreign public equity' 'fixed term and savings deposit'\n 'listed domestic public equity' 'public investment funds' 'state bonds']<br>[0.23 0.18 0.09 0.08 0.09 0.01 0.01 0.32]",
          "['corporate bonds' 'fixed term and savings deposit'\n 'listed domestic public equity' 'listed foreign public equity' 'cash'\n 'public investment funds' 'other equity instruments' 'state bonds']<br>[0.09 0.02 0.   0.32 0.14 0.01 0.21 0.21]",
          "['cash' 'listed foreign public equity' 'other equity instruments'\n 'state bonds' 'public investment funds' 'listed domestic public equity'\n 'corporate bonds' 'fixed term and savings deposit']<br>[0.13 0.15 0.11 0.28 0.01 0.   0.22 0.11]",
          "['cash' 'fixed term and savings deposit' 'listed foreign public equity'\n 'corporate bonds' 'other equity instruments' 'state bonds'\n 'listed domestic public equity' 'public investment funds']<br>[0.29 0.26 0.07 0.06 0.01 0.3  0.01 0.  ]",
          "['cash' 'public investment funds' 'listed foreign public equity'\n 'state bonds' 'other equity instruments' 'listed domestic public equity'\n 'corporate bonds' 'fixed term and savings deposit']<br>[0.13 0.02 0.22 0.31 0.22 0.   0.06 0.04]",
          "['listed foreign public equity' 'fixed term and savings deposit'\n 'corporate bonds' 'public investment funds' 'other equity instruments'\n 'listed domestic public equity' 'state bonds' 'cash']<br>[0.05 0.25 0.14 0.01 0.05 0.   0.32 0.17]",
          "['listed domestic public equity' 'state bonds' 'public investment funds'\n 'fixed term and savings deposit' 'other equity instruments'\n 'corporate bonds' 'cash' 'listed foreign public equity']<br>[0.   0.29 0.02 0.03 0.1  0.24 0.15 0.17]",
          "['fixed term and savings deposit' 'cash' 'other equity instruments'\n 'listed domestic public equity' 'state bonds'\n 'listed foreign public equity' 'public investment funds'\n 'corporate bonds']<br>[0.14 0.13 0.01 0.   0.33 0.12 0.02 0.25]",
          "['public investment funds' 'cash' 'listed domestic public equity'\n 'listed foreign public equity' 'other equity instruments'\n 'fixed term and savings deposit' 'state bonds' 'corporate bonds']<br>[0.01 0.12 0.01 0.07 0.06 0.32 0.26 0.16]",
          "['cash' 'listed domestic public equity' 'other equity instruments'\n 'public investment funds' 'corporate bonds'\n 'listed foreign public equity' 'fixed term and savings deposit'\n 'state bonds']<br>[0.25 0.01 0.02 0.01 0.09 0.08 0.27 0.27]",
          "['public investment funds' 'other equity instruments'\n 'listed domestic public equity' 'listed foreign public equity'\n 'state bonds' 'fixed term and savings deposit' 'cash' 'corporate bonds']<br>[0.03 0.04 0.   0.08 0.32 0.29 0.17 0.07]",
          "['listed domestic public equity' 'listed foreign public equity'\n 'corporate bonds' 'state bonds' 'public investment funds' 'cash'\n 'other equity instruments' 'fixed term and savings deposit']<br>[0.01 0.05 0.2  0.25 0.   0.2  0.02 0.27]",
          "['corporate bonds' 'cash' 'other equity instruments' 'state bonds'\n 'listed foreign public equity' 'public investment funds'\n 'fixed term and savings deposit' 'listed domestic public equity']<br>[0.1  0.13 0.08 0.3  0.21 0.   0.19 0.  ]",
          "['public investment funds' 'cash' 'corporate bonds' 'state bonds'\n 'other equity instruments' 'listed foreign public equity'\n 'fixed term and savings deposit' 'listed domestic public equity']<br>[0.   0.12 0.24 0.26 0.1  0.25 0.01 0.01]",
          "['state bonds' 'fixed term and savings deposit'\n 'listed domestic public equity' 'listed foreign public equity' 'cash'\n 'other equity instruments' 'public investment funds' 'corporate bonds']<br>[0.15 0.   0.01 0.32 0.13 0.29 0.09 0.01]",
          "['listed foreign public equity' 'corporate bonds' 'state bonds' 'cash'\n 'other equity instruments' 'public investment funds'\n 'fixed term and savings deposit' 'listed domestic public equity']<br>[0.05 0.18 0.27 0.13 0.04 0.03 0.29 0.  ]",
          "['listed foreign public equity' 'other equity instruments'\n 'public investment funds' 'corporate bonds'\n 'fixed term and savings deposit' 'listed domestic public equity' 'cash'\n 'state bonds']<br>[0.1  0.04 0.01 0.12 0.28 0.01 0.14 0.3 ]",
          "['fixed term and savings deposit' 'other equity instruments'\n 'listed foreign public equity' 'cash' 'state bonds' 'corporate bonds'\n 'public investment funds' 'listed domestic public equity']<br>[0.04 0.3  0.32 0.12 0.08 0.12 0.01 0.01]",
          "['listed domestic public equity' 'corporate bonds'\n 'listed foreign public equity' 'other equity instruments'\n 'public investment funds' 'state bonds' 'fixed term and savings deposit'\n 'cash']<br>[0.01 0.23 0.1  0.07 0.   0.25 0.21 0.13]",
          "['listed domestic public equity' 'cash' 'corporate bonds'\n 'listed foreign public equity' 'state bonds' 'other equity instruments'\n 'public investment funds' 'fixed term and savings deposit']<br>[0.01 0.15 0.17 0.22 0.32 0.12 0.01 0.  ]",
          "['fixed term and savings deposit' 'listed foreign public equity'\n 'public investment funds' 'state bonds' 'corporate bonds' 'cash'\n 'listed domestic public equity' 'other equity instruments']<br>[0.03 0.16 0.   0.29 0.14 0.12 0.01 0.23]",
          "['cash' 'fixed term and savings deposit' 'listed foreign public equity'\n 'listed domestic public equity' 'public investment funds'\n 'corporate bonds' 'state bonds' 'other equity instruments']<br>[0.14 0.1  0.1  0.01 0.01 0.3  0.3  0.04]",
          "['corporate bonds' 'state bonds' 'fixed term and savings deposit'\n 'listed domestic public equity' 'cash' 'other equity instruments'\n 'listed foreign public equity' 'public investment funds']<br>[0.2  0.26 0.29 0.   0.13 0.04 0.06 0.01]",
          "['public investment funds' 'fixed term and savings deposit'\n 'listed foreign public equity' 'cash' 'state bonds'\n 'listed domestic public equity' 'other equity instruments'\n 'corporate bonds']<br>[0.   0.3  0.04 0.13 0.33 0.   0.11 0.09]",
          "['listed domestic public equity' 'listed foreign public equity'\n 'other equity instruments' 'public investment funds'\n 'fixed term and savings deposit' 'corporate bonds' 'cash' 'state bonds']<br>[0.01 0.07 0.02 0.01 0.31 0.13 0.18 0.27]",
          "['public investment funds' 'fixed term and savings deposit'\n 'corporate bonds' 'other equity instruments'\n 'listed domestic public equity' 'cash' 'state bonds'\n 'listed foreign public equity']<br>[0.01 0.09 0.13 0.2  0.   0.12 0.3  0.15]",
          "['other equity instruments' 'listed domestic public equity'\n 'corporate bonds' 'fixed term and savings deposit' 'cash'\n 'public investment funds' 'listed foreign public equity' 'state bonds']<br>[0.32 0.02 0.08 0.   0.12 0.01 0.28 0.17]",
          "['other equity instruments' 'public investment funds'\n 'listed foreign public equity' 'corporate bonds' 'state bonds'\n 'listed domestic public equity' 'cash' 'fixed term and savings deposit']<br>[0.25 0.01 0.32 0.04 0.19 0.02 0.14 0.03]",
          "['fixed term and savings deposit' 'state bonds'\n 'listed domestic public equity' 'corporate bonds'\n 'other equity instruments' 'public investment funds' 'cash'\n 'listed foreign public equity']<br>[0.21 0.24 0.   0.24 0.06 0.02 0.12 0.11]",
          "['other equity instruments' 'cash' 'listed foreign public equity'\n 'fixed term and savings deposit' 'listed domestic public equity'\n 'corporate bonds' 'state bonds' 'public investment funds']<br>[0.32 0.13 0.3  0.02 0.02 0.06 0.13 0.01]"
         ],
         "type": "scatter",
         "x": [
          0.06775691617992262,
          0.08126771730156593,
          0.08627666718837307,
          0.06928449047597342,
          0.10622287649982534,
          0.06485243430737035,
          0.07687378526870708,
          0.09825845196862833,
          0.05047685411357033,
          0.08875929859752038,
          0.08819666024298276,
          0.062441480682863364,
          0.07119637611678117,
          0.08437439694429873,
          0.06169204491167659,
          0.06521623883683011,
          0.09408143818122279,
          0.07022892914227868,
          0.08037849926499886,
          0.05383943789590609,
          0.05748634069294842,
          0.0919877676948062,
          0.044801555009263444,
          0.03410719706319598,
          0.10231312359652979,
          0.05950992126750549,
          0.06441595874812027,
          0.0693494187767866,
          0.053004837478355514,
          0.07871428613449007,
          0.09991324856152974,
          0.09158104650002133,
          0.05679855036292861,
          0.09006441660518319,
          0.06637657290799057,
          0.06164616994285296,
          0.06439115284149247,
          0.10195329812063922,
          0.08477249862576718,
          0.07002597139737855,
          0.10122884467840984,
          0.07765813426435104,
          0.09033530356766958,
          0.043922267039996334,
          0.06339220725696344,
          0.029402027534329137,
          0.11565480501500287,
          0.057498844872427304,
          0.09110505842151312,
          0.07798321166819237,
          0.06382466474268737,
          0.1314563655216538,
          0.09656227920003013,
          0.11814797477983957,
          0.07375770924747124,
          0.032383051581316304,
          0.07714026107979204,
          0.07461589117834694,
          0.0624950557171263,
          0.08076235520148313,
          0.08469601149980707,
          0.07525744873770299,
          0.06337656045374189,
          0.08197195464513522,
          0.08014560960176756,
          0.07679182718555369,
          0.06302811925152668,
          0.053323979565043304,
          0.07187037217627865,
          0.04307274187676632,
          0.0780842732341272,
          0.048415760432801914,
          0.06548913014218952,
          0.05891215382601801,
          0.11740636512237888,
          0.04170391529150459,
          0.09581186942817235,
          0.06217110357447035,
          0.06587193073362282,
          0.04650669911050268,
          0.09624286012948641,
          0.07125584623714519,
          0.09255300352806213,
          0.0532665920382358,
          0.045912519198362776,
          0.06582727913622044,
          0.06049426275707353,
          0.11472364660217707,
          0.13109912158001394,
          0.06926374707059609,
          0.09488984557464257,
          0.037287547604751954,
          0.03949929918372669,
          0.11925277927655763,
          0.10998207147619773,
          0.0784816652597157,
          0.09412337646195122,
          0.07365206006010273,
          0.06374596353770219,
          0.08480540329905835,
          0.04419169385138026,
          0.05570266460588645,
          0.07343105613819119,
          0.05942846662211438,
          0.07198128436766135,
          0.0437172837895433,
          0.06643635991566109,
          0.04141289868888095,
          0.06658044044303706,
          0.02900368764478046,
          0.033763523134732826,
          0.042190734379067674,
          0.05874258982845634,
          0.030260519556305487,
          0.05445957407196805,
          0.09675804072453097,
          0.06369418863613321,
          0.04068942550468498,
          0.027657930938600847,
          0.037917716490768506,
          0.050712061476108655,
          0.1021757208316529,
          0.09224044476978072,
          0.061385455606696296,
          0.05362175720208102,
          0.1241059102010516,
          0.06352198356676218,
          0.05818787419151688,
          0.05272550497335574,
          0.031475791797421396,
          0.032286790110744756,
          0.06422489609047499,
          0.04987512321934464,
          0.08114848965394204,
          0.048645223698049356,
          0.03580739672848132,
          0.022788850035142055,
          0.0720460165814999,
          0.07171687503340876,
          0.055675868132827155,
          0.1110047182573816,
          0.10663142742565802,
          0.05810753099869897,
          0.051414006942671224,
          0.12318628485963529,
          0.056408277864905404,
          0.08113054816495842,
          0.05713077696667876,
          0.027824725247281388,
          0.07165432422117557,
          0.06527545613939417,
          0.035231909426065224,
          0.11302017398875056,
          0.10226616690051905,
          0.027768619762355312,
          0.0593719006050991,
          0.031117359941120425,
          0.026576241679630547,
          0.0698372644426481,
          0.02613779428044073,
          0.04038418352731579,
          0.11388706773334109,
          0.026482172910886,
          0.07807555687034969,
          0.05783951579046125,
          0.04746502196123049,
          0.05415776623270883,
          0.0412651896305598,
          0.05318721282312909,
          0.05742009683496194,
          0.0761157273915222,
          0.03580060088720857,
          0.07142238540059204,
          0.0919582286138553,
          0.1262266387476695,
          0.057240170899823924,
          0.055453248399948994,
          0.06214143557803899,
          0.03395720033534066,
          0.07145342697239189,
          0.0684466367044535,
          0.09041322550113437,
          0.02540470238227153,
          0.0783439569081199,
          0.09054970536330761,
          0.04685502550029381,
          0.06368916767286957,
          0.10881040683240516,
          0.1433174419804573,
          0.07953030956146544,
          0.06306831869906263,
          0.0359574335409949,
          0.11765925116345749,
          0.06185705893696728,
          0.1155669551208874,
          0.03969821472391806,
          0.0481274007747266,
          0.07497751537606444,
          0.03293542854469797,
          0.02140690807579835,
          0.11229065023933454,
          0.10094474730520904,
          0.06013807082098357,
          0.061763470920573604,
          0.10645040882761081,
          0.08944769327619892,
          0.10007019786366982,
          0.10910047325217376,
          0.07938798657007304,
          0.031717910441324375,
          0.11853093779729788,
          0.07126977800572507,
          0.10454640319052089,
          0.031503754000355114,
          0.023824279010712535,
          0.06099660738078381,
          0.12093088152620421,
          0.061650951480021414,
          0.052628079203342434,
          0.06577827997306152,
          0.01968610750799798,
          0.0745433399406821,
          0.052682222101133575,
          0.05656285473306045,
          0.02747140058978057,
          0.059008186670850615,
          0.03319282559039196,
          0.04140905029826455,
          0.040584481412454756,
          0.03101560383160713,
          0.054958495892116745,
          0.029796395590766554,
          0.07547113507803266,
          0.06218672096994039,
          0.12614334332920263,
          0.0393685723484318,
          0.10518710767828597,
          0.05311066487459381,
          0.05677733198201787,
          0.03955170237989388,
          0.04663703935079649,
          0.05411737769108891,
          0.09129800510675233,
          0.07770293219819728,
          0.045463864629236204,
          0.059634601340386124,
          0.09031491301611139,
          0.09192101780567512,
          0.10078409759464371,
          0.06062834163838674,
          0.0647663662899215,
          0.0587416459086656,
          0.08016086006994548,
          0.052643698932016834,
          0.05871034307534012,
          0.030592873095559837,
          0.03827017748827793,
          0.05466238562862713,
          0.053701004689779855,
          0.04117912366286074,
          0.058651287061498615,
          0.037578742981071014,
          0.06846618101704179,
          0.03902758804555729,
          0.08700492882903937,
          0.05119305796133007,
          0.09066928911000069,
          0.02226050717400905,
          0.05073407002607432,
          0.07839592755429599,
          0.040032114893741276,
          0.030696531319122655,
          0.076906054672192,
          0.04075671378620839,
          0.04928575385602198,
          0.05401286891756653,
          0.039298328414556306,
          0.0397779818864873,
          0.05144942851823485,
          0.10440975278704867,
          0.08521200296681518,
          0.08588868309359968,
          0.039380989931841956,
          0.030027395691822112,
          0.06931316775625801,
          0.065376876633498,
          0.06382351356546655,
          0.031381036679792425,
          0.039785328158722766,
          0.07338443742926855,
          0.044530303874006735,
          0.07228790899248275,
          0.057626436854481114,
          0.03220382610310812,
          0.0407864936560774,
          0.046599446838732385,
          0.06897667304915257,
          0.04658907830100694,
          0.08318381299269069,
          0.02725894672966632,
          0.02665440300636992,
          0.02222292634454636,
          0.03375731713776666,
          0.056959994684679965,
          0.026143231311320625,
          0.09124938402195226,
          0.05277590269147017,
          0.10833027606644806,
          0.05893534843193331,
          0.07892233228539813,
          0.1410137556079926,
          0.05347655306401653,
          0.090955177401451,
          0.04066269656791423,
          0.025758035251654918,
          0.10428619409706288,
          0.03442600445834805,
          0.019582343556773404,
          0.0444428824302544,
          0.03863192122920509,
          0.039652590816341676,
          0.06355248409174878,
          0.0329728277423101,
          0.13157310579202444,
          0.04830751113137212,
          0.0904016490762458,
          0.06015957409967715,
          0.1219030249234075,
          0.05873722334233539,
          0.03861598450742988,
          0.05048481903440114,
          0.05288168069401391,
          0.0900715034391813,
          0.11750771273329476,
          0.04807470219475697,
          0.06259864181511496,
          0.05461931760631786,
          0.1270193366999555,
          0.05108402574765333,
          0.033144025206846305,
          0.03858887533884082,
          0.047483156891204886,
          0.026063823905736746,
          0.11655948532225827,
          0.03778345538829604,
          0.046317930933985466,
          0.05906293753091774,
          0.057864061081626804,
          0.058478408769760654,
          0.02366307558521622,
          0.05753528688777808,
          0.10748590498034169,
          0.0624537663302385,
          0.04941780406159648,
          0.024544725197738856,
          0.032893632503133895,
          0.05359021964039863,
          0.036509909362988535,
          0.01946741206698177,
          0.023250030313562767,
          0.08847913649293417,
          0.09164457643301115,
          0.047853612335305225,
          0.04092485203743701,
          0.049419663577246135,
          0.047804041265053596,
          0.06466278745211448,
          0.04961529922565617,
          0.04005983576121804,
          0.08929228773315967,
          0.061198852524425786,
          0.08809724423892998,
          0.10323863130413337,
          0.01808897920500673,
          0.0264038251193609,
          0.09023381510968144,
          0.03984475722259226,
          0.08474027536660564,
          0.030984751368759954,
          0.05487413089188433,
          0.02172426721384859,
          0.05047036839490491,
          0.06094531108872137,
          0.018277709612994887,
          0.033308916496522435,
          0.0479213430853719,
          0.08465053848643592,
          0.05960889333429761,
          0.07814659272041785,
          0.13191821016620314,
          0.02099758569277573,
          0.050757511997624634,
          0.08391688300566538,
          0.06061868354594187,
          0.02284579610726221,
          0.0678618440087484,
          0.0608485948414424,
          0.04639989711237034,
          0.05751048137207141,
          0.09725306989195034,
          0.04512177045688613,
          0.056882041613030954,
          0.025312718866946762,
          0.04822884470967935,
          0.08226278510434168,
          0.07461852752698019,
          0.05325346191235701,
          0.03959972902994105,
          0.04214313694323516,
          0.07756146289578685,
          0.07637549545760797,
          0.053141322229224804,
          0.09576845116460063,
          0.05888801848931793,
          0.10323156263890891,
          0.12399585026312715,
          0.04779744712805848,
          0.020855969654993256,
          0.10672253768806736,
          0.05221895773776913,
          0.08730081592801477,
          0.039487234707406726,
          0.024876494600223235,
          0.04608141718638819,
          0.05118983669158611,
          0.035282823951685326,
          0.10497070984735374,
          0.08568043971809734,
          0.05220257292158846,
          0.02506714287491315,
          0.02489236360846456,
          0.06889429242243895,
          0.025955657871769924,
          0.04182607077197846,
          0.0641933434049806,
          0.05104740775747586,
          0.07915723135722337,
          0.04832330242237514,
          0.10799004631297543,
          0.07927252035294194,
          0.04533042195145768,
          0.0913738524636371,
          0.03295730024296818,
          0.08917398780940604,
          0.060369723756031037,
          0.025979746842806444,
          0.032796111355396965,
          0.12846042984549383,
          0.07408419778243482,
          0.09945002536247545,
          0.020665242231593817,
          0.05653624100690228,
          0.0579345433884351,
          0.10504237057966742,
          0.03751180529721388,
          0.10468338396462969,
          0.107058333908159,
          0.026792910101669763,
          0.0518903400691201,
          0.056231307020033795,
          0.022133610809241363,
          0.10721490768483115,
          0.05601741241161485,
          0.08476683750677558,
          0.06849633574199189,
          0.1145260608137141,
          0.038163600663137176,
          0.054639834542730095,
          0.057498651320914106,
          0.11406028555029854,
          0.032805776001960676,
          0.0605597984184497,
          0.055755430431554405,
          0.04404328960300636,
          0.13096818730937607,
          0.030640713987202493,
          0.07354516510676336,
          0.10871601275687516,
          0.0559222517692116,
          0.08302432358666023,
          0.04834960491369499,
          0.12370042141410714,
          0.1194097127282624,
          0.03540509459978705,
          0.057588652771333425,
          0.09137387915427858,
          0.02841725177619117,
          0.03946300965186412,
          0.14074285438193437,
          0.06871407571940899,
          0.139969113800505,
          0.10030588884106358,
          0.11911428058410872,
          0.029771267147958642,
          0.03009746824109145,
          0.06411969265652492,
          0.0688181123683285,
          0.06801096085751637,
          0.06333057729964599,
          0.11342695728779396,
          0.020346276877575797,
          0.09369282422667934,
          0.04820492143264195,
          0.055669330145692995,
          0.05432463493573082,
          0.03390405790257967,
          0.02453537640458365,
          0.07013436091195947,
          0.1152265044397633,
          0.04561607310641036,
          0.06869342739451147,
          0.06385324696342914,
          0.023485203607215552,
          0.07715338089525846,
          0.10790138017903443,
          0.04524732395066972,
          0.025745161354409213,
          0.0845491581232866,
          0.10256265684581005,
          0.13486094572610424,
          0.0786077241058616,
          0.025752538356731667,
          0.01738404818189657,
          0.041086191694789956,
          0.030625532798853907,
          0.01973780416957918,
          0.04357730159150233,
          0.0399970987684712,
          0.058735641783465166,
          0.1059137936380211,
          0.0901405511262113,
          0.04553738963825977,
          0.11817354872402251,
          0.0337369704432378,
          0.02819015371975863,
          0.130870054684493,
          0.10491642729896533,
          0.03961176541928502,
          0.0371407409955344,
          0.0643573756186721,
          0.04822527004124646,
          0.08191379515970015,
          0.07349974509554738,
          0.032946484292766975,
          0.032525066320293686,
          0.028901564963411116,
          0.046250007854059465,
          0.03919969915652925,
          0.11160633332037524,
          0.033871896934717295,
          0.06334940728048817,
          0.03627298985367817,
          0.04474661963877628,
          0.019399402890918866,
          0.08221746930557035,
          0.030840738723504898,
          0.08887145939268251,
          0.0684930397762281,
          0.05174425419373773,
          0.0573438747355019,
          0.04385622803753084,
          0.0809045659672033,
          0.04985864088110402,
          0.023371964923978437,
          0.06433032556812894,
          0.056186317010481664,
          0.10627982912411503,
          0.11653596161884831,
          0.11263594073511321,
          0.07694996521092418,
          0.07170907026196323,
          0.09829988158856852,
          0.027260055615873312,
          0.10293790120680062,
          0.05346521659858087,
          0.06313024588521735,
          0.03813624680355109,
          0.07752955214414722,
          0.04748017669844793,
          0.11207122114024687,
          0.03783896038806264,
          0.04163481939358843,
          0.10030078468010235,
          0.05938898525599129,
          0.11493014059017236,
          0.06349712409706365,
          0.04753685301347611,
          0.020629431146132984,
          0.047333852036053115,
          0.07789986434486787,
          0.027806559707663225,
          0.024396370433118146,
          0.07006163501531797,
          0.04535453104189677,
          0.04166114265576411,
          0.06331373742976312,
          0.11537261451630106,
          0.025259328131103116,
          0.05104407074259645,
          0.10662424161295353,
          0.10483004684452649,
          0.03068812971195037,
          0.018969576349756226,
          0.05252814326401178,
          0.05424084744956957,
          0.01754281528020828,
          0.032376164815929455,
          0.08805555212839832,
          0.06319458112100576,
          0.07100602140962521,
          0.02455645852627767,
          0.07751413962057888,
          0.0990247423996894,
          0.031865017624007286,
          0.03230725643340361,
          0.10327492042852066,
          0.035812075425885985,
          0.04276106541574784,
          0.05056854795964411,
          0.02855690376291692,
          0.0677997987394023,
          0.03796679787869872,
          0.05710870608980596,
          0.031855954997105376,
          0.06208617782868311,
          0.022775696002772683,
          0.06196414995539664,
          0.09548751559178037,
          0.03470669538893713,
          0.11469465839380706,
          0.03137010067894543,
          0.029597751419306734,
          0.10881436187141358,
          0.07964020541305883,
          0.1242459896269885,
          0.1268055049018013,
          0.037822860770187955,
          0.03764508586097967,
          0.050530313276226216,
          0.049507499258379585,
          0.11160906834298924,
          0.04208422698700215,
          0.03350831601449008,
          0.10401291086091793,
          0.048176018036524874,
          0.07715917960284821,
          0.08035404219271919,
          0.038712868187228563,
          0.05873845887095665,
          0.05948301243214942,
          0.05418974173997578,
          0.14861199930402402,
          0.06372385903964323,
          0.01623534464734672,
          0.02115916292878205,
          0.04701064954826098,
          0.025959786846385932,
          0.07717296459354159,
          0.07848111103058981,
          0.05469313719422065,
          0.09327966133526214,
          0.05104476961871717,
          0.02334543012725313,
          0.06129070705276209,
          0.06022142987247375,
          0.060614223930749014,
          0.0508070337526699,
          0.037941515012066614,
          0.05983840843422755,
          0.04720570650538736,
          0.04600695277098964,
          0.020441301540372995,
          0.046563280455528565,
          0.039795044264918394,
          0.024744336417871805,
          0.029471091652614162,
          0.11140452630130428,
          0.04425164820030825,
          0.06307999262224305,
          0.13609430917577556,
          0.08166478423228138,
          0.09787693625989023,
          0.032963341894906795,
          0.0777839577852206,
          0.05059891094170009,
          0.06790739529832933,
          0.07980258730613249,
          0.0805078938390912,
          0.08961439148230421,
          0.10463929261220191,
          0.037540042586203366,
          0.056339109695657155,
          0.03271864517298209,
          0.11153754377684232,
          0.07629426439072592,
          0.018002283168413964,
          0.07847625243912276,
          0.0332888328279047,
          0.09767360011367603,
          0.024727818086841935,
          0.12380285582437635,
          0.060925720805346965,
          0.09599721906383119,
          0.07647707348762242,
          0.0237571729099668,
          0.02076821159127451,
          0.11240310237076422,
          0.08636111689608897,
          0.05059384421982661,
          0.07742863481100147,
          0.06637044325802173,
          0.039627182613073735,
          0.08299989359538992,
          0.06771747823541571,
          0.024291681175041747,
          0.03345701059949034,
          0.018916010047533863,
          0.03209813636728899,
          0.1427049382182634,
          0.03920938145107707,
          0.06335588562992306,
          0.02927220600477995,
          0.10692745683199305,
          0.07251982124764386,
          0.0722888769753067,
          0.09893175295957467,
          0.07170485715184316,
          0.0721996451127514,
          0.042459152624263544,
          0.031143206217368692,
          0.023018803022346015,
          0.029206904550081868,
          0.02596121708972614,
          0.05591917924234306,
          0.04486001215318273,
          0.09489679290077398,
          0.07068223949874607,
          0.1304303430586044,
          0.034657609953789595,
          0.030524159918918135,
          0.06776247099690227,
          0.039999858437743174,
          0.03254383697254814,
          0.07145631935550656,
          0.06855626222445886,
          0.019672603256428365,
          0.02667471821031085,
          0.08799414839319152,
          0.09869090307827667,
          0.021219416177897084,
          0.04811607853304105,
          0.04791645972678498,
          0.05535541173444609,
          0.058569937146645726,
          0.04731041788197222,
          0.0316485446825134,
          0.024245006511022613,
          0.05376714508431882,
          0.06769791307966459,
          0.037467766500532296,
          0.04794184660683941,
          0.02419781795928839,
          0.028630672333293805,
          0.03370736127056753,
          0.11596390749457137,
          0.1301928781071556,
          0.05957102647856634,
          0.10218192671674385,
          0.0291799540517918,
          0.04460809599133798,
          0.02564813773423965,
          0.02089390578909641,
          0.060487387508615834,
          0.018477994004320365,
          0.016017676983252124,
          0.10653446257863529,
          0.10191670759866392,
          0.08886805271487255,
          0.05045042903292417,
          0.10449337441368207,
          0.12950003054685855,
          0.12037599228928206,
          0.04775136869132347,
          0.1294631418794321,
          0.019472024609604552,
          0.01735003078799403,
          0.0170494928751473,
          0.029100009576014118,
          0.07838290210044675,
          0.047649249399322066,
          0.09740899834587739,
          0.07929201859886757,
          0.07164431179750091,
          0.031284579579143296,
          0.0327157282168314,
          0.0285421342769193,
          0.038534953498940275,
          0.0374339730073891,
          0.10872991020890362,
          0.024109988742892986,
          0.03685023023546611,
          0.053658923499617546,
          0.10078319678657004,
          0.03723882991564275,
          0.06766782112534288,
          0.06606211743200488,
          0.02087460209538758,
          0.041349949529722915,
          0.07764231730865377,
          0.018974434874358733,
          0.03211692477596625,
          0.0410586570220619,
          0.0820635196259166,
          0.01957311959966079,
          0.037418024224344676,
          0.027480500945894014,
          0.031928079114459065,
          0.037215164295122075,
          0.022690921859705844,
          0.02570284272157823,
          0.07910305182355816,
          0.06760034139966281,
          0.11131351171470198,
          0.0694815228518186,
          0.05138109759554278,
          0.017495556140541997,
          0.11017594391042312,
          0.024151687408872916,
          0.024068915346455166,
          0.03558225864601477,
          0.06302769369740471,
          0.08143144503546351,
          0.03870170050408893,
          0.10695058279905864,
          0.049074884320704,
          0.09127325117718704,
          0.02495907260351978,
          0.022674596181928974,
          0.08429767090970823,
          0.028087087704702803,
          0.05107645927575715,
          0.04723313615515495,
          0.09892986410849626,
          0.018858255356055956,
          0.037637200094172964,
          0.03761570613684049,
          0.11417718503142542,
          0.024031671029746845,
          0.03999526233607314,
          0.047247729580476565,
          0.1220007325531441,
          0.025218110654077672,
          0.03207209864912625,
          0.07952132939664451,
          0.08306086837298507,
          0.11508938315973118,
          0.07591339229613361,
          0.07550633895173152,
          0.039186324057857456,
          0.12875368436072715,
          0.02291048990317114,
          0.058736539322955486,
          0.05750439871246334,
          0.038621354551530575,
          0.026264623891802612,
          0.07094099541333282,
          0.02845562668920662,
          0.07107394815466515,
          0.018472818691152727,
          0.02573340331149511,
          0.042065077109964294,
          0.12690558865288634,
          0.060043632237878515,
          0.036859527150050295,
          0.019902471796462266,
          0.06396106765876272,
          0.08119460579183907,
          0.08079261737451643,
          0.06319706692627872,
          0.07922726628442919,
          0.08344631509945531,
          0.08222335427690058,
          0.04766857674188911,
          0.046792359933245244,
          0.04238281267446397,
          0.06353126135819188,
          0.1129436782169991,
          0.05947689640098176,
          0.019023392239450525,
          0.06748462769121484,
          0.051882791103546155,
          0.08089315277381232,
          0.04134229728266339,
          0.04743408709334766,
          0.06075023191712591,
          0.030936538438043358,
          0.11608153129683904,
          0.05750011714019479,
          0.03151827582845142,
          0.01827703031589996,
          0.050235230591085984,
          0.0390971747180388,
          0.031951888946988104,
          0.03095447913016839,
          0.027158309487751296,
          0.08083587699158336,
          0.023684090820857526,
          0.01973849641535777,
          0.03509180422076357,
          0.08043593174467616,
          0.07203868167752833,
          0.03981981203179359,
          0.023651769304129294,
          0.05616397574871184,
          0.02827222935372301,
          0.0675188216585394,
          0.022470766293109283,
          0.051838093245253056,
          0.021826259795147313,
          0.06322138164887282,
          0.035511386235723544,
          0.032572141418710364,
          0.04727309325956791,
          0.023666752528722333,
          0.032791180412963576,
          0.052459396078166,
          0.12330110812372504,
          0.019576854997053916,
          0.09954456988584691,
          0.06282103896735912,
          0.020823950626611454,
          0.06461623927807054,
          0.018621148260689672,
          0.0855363109862413,
          0.02165489889642574,
          0.06671604588920928,
          0.08445072616549472,
          0.09928949163222094,
          0.10405573794412101,
          0.12181420478527145,
          0.08270812342060896,
          0.025558094586235338,
          0.0675021711502438,
          0.028833076317717466,
          0.026744025289714222,
          0.01925222039044829,
          0.028541560324542848,
          0.03848780886514258,
          0.10821037163286971,
          0.07964501580537392,
          0.06383345294172682,
          0.049803141561442575,
          0.03895705570005317,
          0.08880210460270777,
          0.05011586080120559,
          0.02025711555824488,
          0.07521173428950421,
          0.027571704073157677,
          0.05301137899398675,
          0.034869204616848774,
          0.03000854293493978,
          0.02226564407131981,
          0.02717707812481199,
          0.023202336247034907,
          0.0488988107628746,
          0.06419332116527626,
          0.11274426887392226,
          0.02737699668788345,
          0.03071026894721676,
          0.10755960191340086,
          0.03724460732894048,
          0.06225361224977359,
          0.07201829427802181,
          0.03842339886890942,
          0.027954952542134794,
          0.032531289490665735,
          0.02410379481739153,
          0.06286586536420555,
          0.10533952860767454,
          0.09752809216008973,
          0.03764536477890763,
          0.11005919902888775
         ],
         "y": [
          0.033906595457474674,
          0.04400267396435958,
          0.046531673323147726,
          0.0377357464483243,
          0.05083475290590193,
          0.041968677118034356,
          0.046878275757789155,
          0.05233042776077188,
          0.030505360727110672,
          0.049615448705616697,
          0.05085568658898013,
          0.03880697530709367,
          0.04727766381346827,
          0.05015292913714199,
          0.03241927885366115,
          0.04436867980883251,
          0.051045123453810265,
          0.044669535153332024,
          0.05073940015897091,
          0.032102879634239065,
          0.039293827697496383,
          0.05503706386967008,
          0.03673316352424423,
          0.027358937468604547,
          0.059107634126087105,
          0.03961984750921477,
          0.04020912253819572,
          0.04632136476618056,
          0.03799303314118366,
          0.051004915451614515,
          0.05643499917446694,
          0.053330294367962376,
          0.03875530795176773,
          0.05332696158901676,
          0.0462485822554107,
          0.03970875890047871,
          0.0446429160765678,
          0.06041481854518594,
          0.05271759319642857,
          0.04702702470430658,
          0.056753153324746355,
          0.049267932166105144,
          0.05334128493911909,
          0.029386536901185603,
          0.04296472133904392,
          0.024694171831540403,
          0.061603872787365205,
          0.041821574606595156,
          0.054054545676646956,
          0.049369252563064785,
          0.0435839030951254,
          0.06318743191626129,
          0.05648921990101613,
          0.06330994101679674,
          0.0477222229610189,
          0.02766862914804756,
          0.047836080768531374,
          0.048534171566041756,
          0.04223442054662315,
          0.051402064440114054,
          0.052657114372713816,
          0.04869736178138838,
          0.043187167329666744,
          0.052020871565017855,
          0.05451566213382826,
          0.05058521006267001,
          0.042382999368583,
          0.03994039340264916,
          0.04733768168419178,
          0.03429838010476073,
          0.05108092258156933,
          0.03839355592609791,
          0.04564552066649765,
          0.04208889547284625,
          0.06220948568209521,
          0.031315376839503195,
          0.0552344633712643,
          0.04502095631520532,
          0.046922513644819384,
          0.03683729628157962,
          0.05779683773039385,
          0.048230953745174214,
          0.056284438063426506,
          0.03931642608412343,
          0.03770690342914967,
          0.04583495152635913,
          0.04240470422200327,
          0.06259563044219277,
          0.06404441161885897,
          0.047395565996788944,
          0.05714492666194408,
          0.029794529863747737,
          0.030916119866042424,
          0.0634671305543063,
          0.06139308711063651,
          0.05316351309815809,
          0.05726307633412242,
          0.05000466527630076,
          0.04649859286478181,
          0.056585167141990994,
          0.03532284357043056,
          0.041962293684767824,
          0.04946213234075194,
          0.04357659598980015,
          0.051568502212663125,
          0.03544159656218271,
          0.0471779242016763,
          0.03206158930275929,
          0.048826492265678145,
          0.026775856923828025,
          0.029752870020126613,
          0.03720451093254253,
          0.0442216972713632,
          0.02718745611788747,
          0.040250245580493574,
          0.059794093268722995,
          0.04510559602065172,
          0.03336239071749832,
          0.024214167496408256,
          0.03149434504817438,
          0.038602593301834326,
          0.061366957055565,
          0.061523398807219284,
          0.04487464541861194,
          0.040662838369726596,
          0.06348160229355473,
          0.046016808088730585,
          0.04276172409382506,
          0.040460446531719915,
          0.028729802990708566,
          0.029562055481421087,
          0.04689291533603627,
          0.039203838298599664,
          0.05482983344976855,
          0.039464460744026555,
          0.032317043259434845,
          0.02238095123031137,
          0.05245374006804247,
          0.05013853337351168,
          0.042149172510560835,
          0.06185734209776308,
          0.06181997695557019,
          0.04334060334027277,
          0.04062753061684374,
          0.06622782495243884,
          0.04250444393514507,
          0.05621304393915981,
          0.04288117822111289,
          0.027936889110969913,
          0.05062657517155224,
          0.04799647080039429,
          0.030795394083805765,
          0.062028953450684605,
          0.061973184628972375,
          0.025097279849823056,
          0.0444790266865032,
          0.02888849434755531,
          0.02551200423778396,
          0.0490787857009034,
          0.02400713488905923,
          0.033193707950247994,
          0.06313326621140698,
          0.0249707942135167,
          0.05273467713748774,
          0.04350676026056724,
          0.038199372449118474,
          0.041820842772245584,
          0.0340086343369143,
          0.041756239686716004,
          0.043098903583097294,
          0.05264429283611549,
          0.030822540371159196,
          0.04936003393805139,
          0.05708970358660022,
          0.06673453280817251,
          0.04304248896110264,
          0.04335326898944826,
          0.044948414088462084,
          0.03210446010420352,
          0.05030450451578927,
          0.04998273590230006,
          0.05707466967786574,
          0.025145910274306692,
          0.05318071933146309,
          0.05793353827521043,
          0.03921843199551487,
          0.04615418147401879,
          0.06309387823637186,
          0.07275219275413027,
          0.05436952347720401,
          0.04525721231557562,
          0.03306569520828048,
          0.0632408497852898,
          0.045314362041413155,
          0.06465969000678522,
          0.033807141322973605,
          0.03947186425252611,
          0.05319308172458022,
          0.029989076369047272,
          0.020685723773167637,
          0.06443246010819248,
          0.061927202003063946,
          0.04485414913026056,
          0.046284166779196834,
          0.06301231317005825,
          0.05761208387043479,
          0.06181553656761446,
          0.06645110425692187,
          0.05527381078935821,
          0.02911224769874196,
          0.06671324921858579,
          0.05004983116137444,
          0.06234327103763709,
          0.02949676368816035,
          0.024303179840200934,
          0.04497129457012127,
          0.06696809692537593,
          0.04570794602642146,
          0.040679803352342905,
          0.04985245832281981,
          0.021111809351781825,
          0.052663830397738094,
          0.040789926579650394,
          0.04351870388689826,
          0.027196909313893285,
          0.04485344086391182,
          0.03050597246619426,
          0.034269253991278795,
          0.03380866759154792,
          0.02839102624617954,
          0.042648973688592516,
          0.028063746508606383,
          0.05353445889654157,
          0.046468617329478656,
          0.06804371303241444,
          0.033346823564947906,
          0.06358573803048963,
          0.04129487157226505,
          0.043593380101860604,
          0.03378656461384494,
          0.038797540160767266,
          0.041850974425793164,
          0.05845908394796929,
          0.05366648541970956,
          0.03766356834992401,
          0.045181505039691164,
          0.05784458040221131,
          0.059153619331396116,
          0.06321810494956373,
          0.04661992682359178,
          0.04772016212297034,
          0.043717127488034115,
          0.05580030700561653,
          0.04140711838081427,
          0.04394547734115433,
          0.02822260315709676,
          0.03310917254343365,
          0.04323409976769213,
          0.04189571252726546,
          0.035780817091876416,
          0.043718278278540836,
          0.03310637219999684,
          0.050043792741619984,
          0.03323023139064831,
          0.05791482110596542,
          0.04043661583997817,
          0.05811783974354173,
          0.022473870573704483,
          0.03961609766599508,
          0.054004194434295244,
          0.034215512510280946,
          0.02922430855773702,
          0.05411477747993528,
          0.03428373348120505,
          0.04028268194977435,
          0.04195952807151999,
          0.03349426636578626,
          0.03402628808846181,
          0.040862300366629,
          0.06339728711510828,
          0.05749482345982452,
          0.05788829484512829,
          0.03370268594204184,
          0.02893982469940363,
          0.05027525800194508,
          0.04811632820376062,
          0.04781126248267239,
          0.02938462096593021,
          0.03495899125170597,
          0.0526545936042762,
          0.03788238508198384,
          0.05265167082345508,
          0.04444333099594906,
          0.02954221486285052,
          0.034970871185004186,
          0.039133148616361205,
          0.051656408899816014,
          0.038569036317042976,
          0.056976711059620065,
          0.026747296925031645,
          0.025678280505721643,
          0.02236134962451037,
          0.031662890537896754,
          0.04457682718817646,
          0.02608501393931132,
          0.058164363570072895,
          0.041655772694357135,
          0.06416394567226609,
          0.044649548406178394,
          0.054357531600214094,
          0.06859108243932498,
          0.04208498286859354,
          0.05877530355265242,
          0.03516308202308429,
          0.02558160542882801,
          0.06354305683942256,
          0.03222006036225979,
          0.02019361687488038,
          0.037411718124164044,
          0.03431824772550183,
          0.03436418925983559,
          0.04782300208662619,
          0.030129182627111478,
          0.06981851812798935,
          0.04014780812579779,
          0.0593912661102238,
          0.045219504424476364,
          0.06751124804181932,
          0.044861511170423175,
          0.03343418657040384,
          0.04094950194397018,
          0.04175772376844614,
          0.058387525872924284,
          0.0669318080897191,
          0.039532753078947526,
          0.04710782262606027,
          0.04245623215654086,
          0.068455284810929,
          0.041601209027636823,
          0.031344759403602374,
          0.033177275521214064,
          0.03944991660189937,
          0.026106844836135693,
          0.06764389785667528,
          0.033692492112115995,
          0.0381773942597908,
          0.04517851339926075,
          0.04471692310348566,
          0.04507593785067131,
          0.023078235663211988,
          0.04506708974720583,
          0.06374569837152368,
          0.04690127804472395,
          0.04052615427426713,
          0.024523415860706964,
          0.029863088031185803,
          0.043123775543921654,
          0.03374280799549738,
          0.01984664891802996,
          0.022477585547523715,
          0.058842284776550666,
          0.060314027649444116,
          0.039706859494969805,
          0.035302828152930114,
          0.04068512788476903,
          0.039686164578624075,
          0.04961967394412873,
          0.040966329023160435,
          0.0363639402528671,
          0.05885807459127009,
          0.04673295655189051,
          0.05808132822179393,
          0.06358835791118134,
          0.01841710145091769,
          0.026973027352525193,
          0.05893615313421996,
          0.03520758544228919,
          0.057000599284998565,
          0.0302563574955956,
          0.04338040859498978,
          0.023069562820474503,
          0.04109795804828375,
          0.046962327934468376,
          0.01959749065393569,
          0.031744368606270335,
          0.039864157680395175,
          0.05715056741074836,
          0.04550523982777001,
          0.054397706813114614,
          0.0702574161925182,
          0.022107457893104122,
          0.04120909248945253,
          0.057675186667963285,
          0.045779038703830766,
          0.023717404655855034,
          0.050032005130905714,
          0.04718368057180537,
          0.03923031344447129,
          0.04470468148388492,
          0.06175417367012829,
          0.03803209237256312,
          0.04406642689474025,
          0.024803485938366156,
          0.040112381837430044,
          0.056729182169158565,
          0.05324171114190909,
          0.04176775599237652,
          0.03467875192027334,
          0.03653363666389127,
          0.05422513474828411,
          0.05369975185961247,
          0.04176618311955445,
          0.0619569009288258,
          0.045444911585530885,
          0.06322516188034141,
          0.06855418188245596,
          0.03970200123107002,
          0.021173310597030922,
          0.06379887848974386,
          0.04165708918950404,
          0.05890312070044142,
          0.03494248015399959,
          0.025056332294201667,
          0.0381143745290701,
          0.04210108873605505,
          0.032548311557352994,
          0.06365784997570297,
          0.05881816393918116,
          0.04289778329682418,
          0.025479751470615965,
          0.025343321438934207,
          0.050965112494300024,
          0.025973549980415955,
          0.03641400301853817,
          0.048401835358808674,
          0.04191335370131135,
          0.05448868950762224,
          0.04014828136552468,
          0.06556925293199863,
          0.0550450447093007,
          0.03843142729094956,
          0.05971086086730821,
          0.030762737558753802,
          0.05892070317628936,
          0.04559306947174058,
          0.02603760283158553,
          0.03070985732764435,
          0.06926610074937944,
          0.05417681664866722,
          0.06292048452455135,
          0.021550275275795196,
          0.043882047339656616,
          0.04548182080673859,
          0.06398794659242446,
          0.03379856490360594,
          0.06432267492185419,
          0.06439516425056792,
          0.02736544210426957,
          0.04238320596287464,
          0.04339877610355077,
          0.023320148043526417,
          0.06490313183819689,
          0.043495561408592454,
          0.058542167431830786,
          0.0501353110895431,
          0.06649010283555697,
          0.0346245994933626,
          0.0434974400996829,
          0.04481610597515062,
          0.06694870557367753,
          0.030721983974515508,
          0.046101380134248,
          0.043547167821786824,
          0.03767529174959543,
          0.07041753530600742,
          0.028978731023992985,
          0.05293587652040841,
          0.06604717736017574,
          0.04360326046547363,
          0.05760464119877687,
          0.040798806952352724,
          0.06934484709178645,
          0.06803225966196012,
          0.03265470184267236,
          0.04587044751948493,
          0.060983942156294296,
          0.0282719578844389,
          0.034792452971960104,
          0.07113249024707695,
          0.05045432862791288,
          0.07047035207482255,
          0.06292331700933981,
          0.06815775314285268,
          0.028794459105590257,
          0.02921398840802625,
          0.04821538240205252,
          0.05099361981846404,
          0.05057692059301344,
          0.047516254959508133,
          0.06702483518753878,
          0.021227217468300953,
          0.06172992376426244,
          0.03987279359758616,
          0.043604535774645625,
          0.04409490986212035,
          0.032144382714632345,
          0.02440098954086338,
          0.051715799960050594,
          0.06784462002438406,
          0.0386507990902571,
          0.050788080425262686,
          0.048218965742439876,
          0.024240547121398046,
          0.0542877288285194,
          0.06581255269365012,
          0.038296581445787244,
          0.025827875221738385,
          0.05772507812887545,
          0.06384107720761188,
          0.07186718322058436,
          0.054403224540170374,
          0.025971128298268448,
          0.01766814382317769,
          0.03664092265643512,
          0.029479929677518193,
          0.021276056739169047,
          0.03784423580758478,
          0.035300196776769224,
          0.04604621991935842,
          0.06442535878469038,
          0.058961392475190444,
          0.03872939104610657,
          0.06881520759381915,
          0.03185946616062043,
          0.02806136310707416,
          0.07115316498385095,
          0.064422648099381,
          0.0350525230191354,
          0.03381977551805376,
          0.04917666970325426,
          0.041031536441570725,
          0.0564234849944331,
          0.05341396104410095,
          0.03112266930101305,
          0.030860387960988427,
          0.02839429845698259,
          0.038773266290701255,
          0.03502013810574021,
          0.06661260412149031,
          0.032569110990967806,
          0.047521553824547806,
          0.03374991351049279,
          0.0384041081987805,
          0.0202426512838482,
          0.05655064896732424,
          0.029826143210065853,
          0.06041962111597079,
          0.05068404880894171,
          0.04243018966220361,
          0.04506615782609357,
          0.037991406758044306,
          0.05647950449604326,
          0.041094779213195765,
          0.023775089808345987,
          0.04847619235240741,
          0.04437586323553762,
          0.06492627411215124,
          0.06919896045268834,
          0.06703753759737108,
          0.054225471519586385,
          0.05244332186166564,
          0.06289977207520919,
          0.027621672337863924,
          0.06389255179548071,
          0.04345014785577464,
          0.04723314551754491,
          0.03391407985519934,
          0.054402245086602255,
          0.03948436387162958,
          0.06716616482159254,
          0.03412145845809559,
          0.036644300633828106,
          0.06357009168725082,
          0.0460801966097621,
          0.06750493852710968,
          0.047782066535481976,
          0.039596448907188206,
          0.021366871519351873,
          0.03926618245962025,
          0.05452628865235136,
          0.02788011447724376,
          0.02444018864062809,
          0.05177364105298183,
          0.039348872205673346,
          0.0369049157613314,
          0.04757957523194088,
          0.06812174205711653,
          0.025825073545749214,
          0.0413433708074561,
          0.06591873160274668,
          0.06497313343988012,
          0.02964044119475886,
          0.020008204074209203,
          0.043148484281562746,
          0.044140571435914905,
          0.018912859251664572,
          0.030653209999702707,
          0.05942577245759922,
          0.04759408977070876,
          0.05178939734856111,
          0.024843528748255028,
          0.054697815448711815,
          0.06382052659224877,
          0.030426170822991688,
          0.030901351096997282,
          0.06436265249129083,
          0.033703211026160904,
          0.037435263976616014,
          0.04109895121615331,
          0.02857000723173997,
          0.05012715570231169,
          0.03451924782301959,
          0.044658007739376025,
          0.030330548519649753,
          0.04737255620739104,
          0.023485467869726682,
          0.04788955787359855,
          0.06207790515261516,
          0.03281525200031165,
          0.06726807164446649,
          0.030262863939944314,
          0.02898473000842141,
          0.06648203468945024,
          0.05543027144110259,
          0.07008452721284808,
          0.07016452741799749,
          0.03394381479201021,
          0.03405524353387552,
          0.0412238929351795,
          0.04140335282032164,
          0.06682946035003408,
          0.037374000923296784,
          0.03179503784484242,
          0.06488097720649348,
          0.040660121641207095,
          0.05451784288003142,
          0.05596548254354103,
          0.03500918263053053,
          0.046132397661058124,
          0.04627989211586923,
          0.043915082052105564,
          0.07281689291152613,
          0.04848954730651611,
          0.017917778706359418,
          0.02225486166943851,
          0.03954101251660463,
          0.0261868742614316,
          0.05461210227596837,
          0.055582251751088795,
          0.0442267294684113,
          0.06216056865553342,
          0.041698829563305576,
          0.023755948607467305,
          0.047408159329626866,
          0.046464328738658286,
          0.04704204424854136,
          0.04148679213633358,
          0.03413688362869054,
          0.046304691147713364,
          0.03957738096837727,
          0.03955683853862632,
          0.021389794726531443,
          0.039581194076334744,
          0.03541730577909621,
          0.02508549308556781,
          0.029873655542482454,
          0.06714826603573287,
          0.0382456791578922,
          0.04800566184329288,
          0.07217291732557066,
          0.05650731029956667,
          0.06260384864742939,
          0.03127188007741988,
          0.054766810231439284,
          0.04222058522521134,
          0.05029978538859624,
          0.0560928113295677,
          0.056563077327333275,
          0.0604349543126342,
          0.06533342354171912,
          0.033829092576574286,
          0.045291556679781124,
          0.031098348372808036,
          0.06721154453187006,
          0.054350733613114974,
          0.019216871809846388,
          0.05516476172077037,
          0.03143599735002722,
          0.06278357053028535,
          0.024908113852458516,
          0.06971475380797683,
          0.04776393627736356,
          0.06247442625884035,
          0.05476470446353961,
          0.0242758072226873,
          0.021657852104401465,
          0.06765138674176363,
          0.05905351927196249,
          0.04239822717144639,
          0.054870354558358175,
          0.049864554783964746,
          0.03512938633671154,
          0.056957267479078054,
          0.050044411285639204,
          0.025946031709508,
          0.03218419125652423,
          0.020044357829122103,
          0.03087326679453707,
          0.07264015402585991,
          0.035294649712145895,
          0.04845368037552806,
          0.028835498480351864,
          0.06593898363344101,
          0.05265243314107188,
          0.0533379647975227,
          0.06314794911315626,
          0.05229887553866842,
          0.05263790249330001,
          0.03821609652471089,
          0.030400173897057785,
          0.02428093287174677,
          0.02877899351448045,
          0.02632784575144133,
          0.04438742589713628,
          0.03869041586601823,
          0.06241359930023604,
          0.05179238846650326,
          0.07178154674161266,
          0.03281392602652882,
          0.02993489174188274,
          0.05018402933354563,
          0.035634515211490116,
          0.031184014628825498,
          0.052044972569481485,
          0.05123184847510281,
          0.021264105329399416,
          0.02724185379723924,
          0.05915568111584606,
          0.06343784559511934,
          0.02263281181725876,
          0.04035981101856786,
          0.040110041106532324,
          0.04483086564360311,
          0.04640509662823236,
          0.03967410954106834,
          0.03054110747064968,
          0.024459883461958962,
          0.043455734461385814,
          0.05003862518571611,
          0.0340182334609537,
          0.04042356268661027,
          0.024622282205206483,
          0.028650181681574162,
          0.032267566370351705,
          0.068309251268711,
          0.07052261805769863,
          0.046419213294943945,
          0.06530660916186175,
          0.029055684853504696,
          0.038655500571891016,
          0.026030159567196964,
          0.023107292928432825,
          0.046991060553484516,
          0.01960999587546124,
          0.017730749548068976,
          0.06581688758556696,
          0.06411503751535697,
          0.059873170756863194,
          0.04167707563115231,
          0.06537157367028859,
          0.07078310316427594,
          0.06931080712792789,
          0.040266486344291835,
          0.07125236303554554,
          0.020687569581247123,
          0.018616398671171347,
          0.018971595645964682,
          0.028767521093764598,
          0.05537333940056817,
          0.03978594823904276,
          0.06270956843062678,
          0.055744506598342056,
          0.052713322929941776,
          0.03048943195344421,
          0.031580788035482636,
          0.028780355668474852,
          0.03466965473672481,
          0.034194779019588145,
          0.06634860393574067,
          0.024820475601592753,
          0.03390940337511935,
          0.044725625870473615,
          0.06409568716642981,
          0.03405486022926618,
          0.05000360363194752,
          0.05005779786964142,
          0.022049726979428762,
          0.036746512793568144,
          0.05555862785270111,
          0.020211288017970556,
          0.03106323081863545,
          0.036736951297671225,
          0.05662649253134103,
          0.02095720456437915,
          0.03408018097925305,
          0.02813783718870511,
          0.030687987815632194,
          0.03392800160780065,
          0.023406169090821754,
          0.026089587708205075,
          0.05561882639929562,
          0.050233514901529164,
          0.06750350703650303,
          0.051709701102228084,
          0.04266737773273983,
          0.019271684012650288,
          0.06711978685939901,
          0.025238843672955334,
          0.024510285016073784,
          0.03305875335299763,
          0.04789675219648509,
          0.05734661357599133,
          0.03482899363752756,
          0.06635282223379267,
          0.04103529596644294,
          0.06097477417840606,
          0.026043386161318686,
          0.02387069251487191,
          0.05813161150296921,
          0.02838119146523617,
          0.04272650275717935,
          0.039781881265081726,
          0.06348341640865972,
          0.02010154198075935,
          0.03435637440793878,
          0.034429532880195436,
          0.06792653651018773,
          0.024315071514499985,
          0.0359828800200138,
          0.039884761751204326,
          0.06967197148386947,
          0.02627557329462525,
          0.030849252125775998,
          0.05598473278539876,
          0.05764733657879915,
          0.0684052267690758,
          0.054426236715667875,
          0.05431703362431521,
          0.035184979757763996,
          0.0701818797628871,
          0.024140617680147664,
          0.04642813411985057,
          0.04579365830788348,
          0.035038196019909484,
          0.026677301775734144,
          0.05195640981625334,
          0.028727205155741505,
          0.05210979234913167,
          0.019603559369312386,
          0.026540447808358614,
          0.036977872093303076,
          0.07068532868261358,
          0.04701838767318294,
          0.0342349782388619,
          0.021327421906467303,
          0.048807256965145054,
          0.0566208322168528,
          0.056769977694672596,
          0.04814620668350364,
          0.05589756227158387,
          0.057675388659533026,
          0.05739370639473555,
          0.04071030173053716,
          0.039807045056961615,
          0.03740359275290987,
          0.04862947070464373,
          0.06868674773808321,
          0.04698363732941165,
          0.02062342586008871,
          0.050508419563687665,
          0.042821001611476915,
          0.05699806508526168,
          0.03734894171638764,
          0.0400829834982133,
          0.04775992120991968,
          0.02995567097203189,
          0.06928263626600922,
          0.04571716620016092,
          0.030592248129014548,
          0.02007415918688337,
          0.042234150208634955,
          0.03521303979321354,
          0.03100112529898012,
          0.030603878232427904,
          0.02758524555227218,
          0.05683510777535711,
          0.024635900532938685,
          0.021283700884766145,
          0.03322023974352694,
          0.056573752210089145,
          0.05291716389432531,
          0.03569325197961072,
          0.02451874686337259,
          0.04490469327002106,
          0.028396912081520433,
          0.05078112381449484,
          0.023461661815682502,
          0.042824967403028755,
          0.02313940656343421,
          0.04826432442617085,
          0.03335697552435635,
          0.031231962532027042,
          0.04003570172391694,
          0.02502740647373689,
          0.03202240808835194,
          0.04296576599359379,
          0.07009792722848804,
          0.020990062204470715,
          0.06440492023811743,
          0.04794324445055223,
          0.022260496580265948,
          0.0495157556729971,
          0.020181428733934602,
          0.05889683789976817,
          0.02326762285735611,
          0.050355436512156286,
          0.05832076875434876,
          0.0638408508312782,
          0.06568775213850044,
          0.06995216778276368,
          0.05778494903176485,
          0.026367769454248575,
          0.05085617223347129,
          0.02879027982077039,
          0.027243600141877912,
          0.020826925348358703,
          0.02915152933043394,
          0.034755980321542174,
          0.06681729165802157,
          0.056155517924950986,
          0.048913737420111424,
          0.04176174658911857,
          0.03508862972696071,
          0.05983464511010185,
          0.04195284942284684,
          0.02145604216487918,
          0.05423392777823924,
          0.028184446172149033,
          0.04348473274473692,
          0.0330438445417343,
          0.029881227908812622,
          0.023620674735364625,
          0.027780471685851623,
          0.024399188292421305,
          0.04103650481925365,
          0.04901302986813898,
          0.06791993762414399,
          0.027862543912789407,
          0.03033784614925231,
          0.06643819817776646,
          0.034338584968565,
          0.04809812501013431,
          0.05277987111580873,
          0.034973541532765155,
          0.028643472237080206,
          0.031235010580150574,
          0.025494999942786162,
          0.04820781142330388,
          0.06621589383898933,
          0.0627134952114542,
          0.03447015608782097,
          0.06740312062256736
         ]
        },
        {
         "marker": {
          "color": "green",
          "size": 10
         },
         "mode": "markers",
         "text": [
          "Portfolio with highest Sharpe ratio (['public investment funds' 'other equity instruments' 'state bonds'\n 'listed foreign public equity' 'cash' 'corporate bonds'\n 'fixed term and savings deposit' 'listed domestic public equity'], [0.   0.11 0.31 0.16 0.13 0.29 0.   0.  ])"
         ],
         "type": "scatter",
         "x": [
          0.053658923499617546
         ],
         "y": [
          0.044725625870473615
         ]
        },
        {
         "marker": {
          "color": "red",
          "size": 10
         },
         "mode": "markers",
         "text": [
          "Minimum variance portfolio (['listed foreign public equity' 'corporate bonds' 'cash'\n 'other equity instruments' 'public investment funds'\n 'listed domestic public equity' 'fixed term and savings deposit'\n 'state bonds'], [0.02 0.03 0.33 0.02 0.02 0.01 0.31 0.27])"
         ],
         "type": "scatter",
         "x": [
          0.016017676983252124
         ],
         "y": [
          0.017730749548068976
         ]
        },
        {
         "marker": {
          "color": "purple",
          "size": 10
         },
         "mode": "markers",
         "text": [
          "Retail Investor Portfolio (['listed foreign public equity' 'other equity instruments' 'state bonds'\n 'corporate bonds' 'listed domestic public equity'\n 'fixed term and savings deposit' 'public investment funds' 'cash'], [0.05 0.08 0.01 0.01 0.06 0.17 0.19 0.43])"
         ],
         "type": "scatter",
         "x": [
          0.07081947729221412
         ],
         "y": [
          0.02936065570237022
         ]
        },
        {
         "line": {
          "color": "black",
          "dash": "dash",
          "width": 2
         },
         "name": "Efficient Frontier",
         "type": "scatter",
         "x": [
          0,
          0.0015011313061012528,
          0.0030022626122025056,
          0.004503393918303758,
          0.006004525224405011,
          0.007505656530506264,
          0.009006787836607516,
          0.01050791914270877,
          0.012009050448810022,
          0.013510181754911275,
          0.015011313061012528,
          0.01651244436711378,
          0.018013575673215033,
          0.019514706979316288,
          0.02101583828541754,
          0.022516969591518794,
          0.024018100897620045,
          0.025519232203721296,
          0.02702036350982255,
          0.028521494815923802,
          0.030022626122025057,
          0.03152375742812631,
          0.03302488873422756,
          0.034526020040328814,
          0.036027151346430066,
          0.03752828265253132,
          0.039029413958632575,
          0.040530545264733826,
          0.04203167657083508,
          0.04353280787693633,
          0.04503393918303759,
          0.04653507048913884,
          0.04803620179524009,
          0.04953733310134134,
          0.05103846440744259,
          0.05253959571354385,
          0.0540407270196451,
          0.05554185832574635,
          0.057042989631847604,
          0.05854412093794886,
          0.060045252244050114,
          0.061546383550151365,
          0.06304751485625262,
          0.06454864616235387,
          0.06604977746845513,
          0.06755090877455637,
          0.06905204008065763,
          0.07055317138675889,
          0.07205430269286013,
          0.07355543399896139,
          0.07505656530506263,
          0.07655769661116389,
          0.07805882791726515,
          0.0795599592233664,
          0.08106109052946765,
          0.08256222183556891,
          0.08406335314167016,
          0.08556448444777141,
          0.08706561575387266,
          0.08856674705997392,
          0.09006787836607517,
          0.09156900967217642,
          0.09307014097827768,
          0.09457127228437892,
          0.09607240359048018,
          0.09757353489658144,
          0.09907466620268268,
          0.10057579750878394,
          0.10207692881488518,
          0.10357806012098644,
          0.1050791914270877,
          0.10658032273318895,
          0.1080814540392902,
          0.10958258534539145,
          0.1110837166514927,
          0.11258484795759396,
          0.11408597926369521,
          0.11558711056979647,
          0.11708824187589773,
          0.11858937318199897,
          0.12009050448810023,
          0.12159163579420147,
          0.12309276710030273,
          0.12459389840640399,
          0.12609502971250525,
          0.1275961610186065,
          0.12909729232470774,
          0.130598423630809,
          0.13209955493691025,
          0.1336006862430115,
          0.13510181754911274,
          0.136602948855214,
          0.13810408016131526,
          0.1396052114674165,
          0.14110634277351777,
          0.14260747407961902,
          0.14410860538572026,
          0.14560973669182153,
          0.14711086799792278,
          0.14861199930402402
         ],
         "y": [
          0.016,
          0.016803611654300655,
          0.017607223308601313,
          0.018410834962901967,
          0.019214446617202625,
          0.02001805827150328,
          0.020821669925803934,
          0.021625281580104593,
          0.022428893234405247,
          0.023232504888705905,
          0.02403611654300656,
          0.024839728197307218,
          0.02564333985160787,
          0.026446951505908527,
          0.027250563160209185,
          0.02805417481450984,
          0.028857786468810494,
          0.029661398123111152,
          0.03046500977741181,
          0.03126862143171246,
          0.03207223308601312,
          0.03287584474031378,
          0.033679456394614435,
          0.034483068048915086,
          0.03528667970321574,
          0.0360902913575164,
          0.03689390301181705,
          0.03769751466611771,
          0.03850112632041837,
          0.03930473797471902,
          0.04010834962901968,
          0.040911961283320336,
          0.04171557293762099,
          0.042519184591921645,
          0.0433227962462223,
          0.044126407900522954,
          0.04493001955482362,
          0.04573363120912427,
          0.04653724286342492,
          0.047340854517725586,
          0.04814446617202624,
          0.048948077826326895,
          0.04975168948062755,
          0.050555301134928204,
          0.05135891278922886,
          0.052162524443529514,
          0.05296613609783017,
          0.05376974775213083,
          0.05457335940643148,
          0.05537697106073214,
          0.0561805827150328,
          0.056984194369333455,
          0.05778780602363411,
          0.058591417677934764,
          0.05939502933223542,
          0.06019864098653608,
          0.06100225264083673,
          0.06180586429513739,
          0.06260947594943804,
          0.0634130876037387,
          0.06421669925803936,
          0.06502031091234,
          0.06582392256664067,
          0.06662753422094132,
          0.06743114587524199,
          0.06823475752954264,
          0.06903836918384329,
          0.06984198083814394,
          0.07064559249244459,
          0.07144920414674526,
          0.07225281580104592,
          0.07305642745534657,
          0.07386003910964722,
          0.07466365076394788,
          0.07546726241824854,
          0.0762708740725492,
          0.07707448572684986,
          0.07787809738115051,
          0.07868170903545117,
          0.07948532068975182,
          0.08028893234405247,
          0.08109254399835313,
          0.08189615565265379,
          0.08269976730695444,
          0.0835033789612551,
          0.08430699061555576,
          0.08511060226985641,
          0.08591421392415707,
          0.08671782557845772,
          0.08752143723275838,
          0.08832504888705903,
          0.08912866054135969,
          0.08993227219566034,
          0.090735883849961,
          0.09153949550426166,
          0.09234310715856231,
          0.09314671881286296,
          0.09395033046716363,
          0.09475394212146428,
          0.09555755377576493
         ]
        }
       ],
       "layout": {
        "height": 700,
        "showlegend": false,
        "template": {
         "data": {
          "bar": [
           {
            "error_x": {
             "color": "#2a3f5f"
            },
            "error_y": {
             "color": "#2a3f5f"
            },
            "marker": {
             "line": {
              "color": "white",
              "width": 0.5
             },
             "pattern": {
              "fillmode": "overlay",
              "size": 10,
              "solidity": 0.2
             }
            },
            "type": "bar"
           }
          ],
          "barpolar": [
           {
            "marker": {
             "line": {
              "color": "white",
              "width": 0.5
             },
             "pattern": {
              "fillmode": "overlay",
              "size": 10,
              "solidity": 0.2
             }
            },
            "type": "barpolar"
           }
          ],
          "carpet": [
           {
            "aaxis": {
             "endlinecolor": "#2a3f5f",
             "gridcolor": "#C8D4E3",
             "linecolor": "#C8D4E3",
             "minorgridcolor": "#C8D4E3",
             "startlinecolor": "#2a3f5f"
            },
            "baxis": {
             "endlinecolor": "#2a3f5f",
             "gridcolor": "#C8D4E3",
             "linecolor": "#C8D4E3",
             "minorgridcolor": "#C8D4E3",
             "startlinecolor": "#2a3f5f"
            },
            "type": "carpet"
           }
          ],
          "choropleth": [
           {
            "colorbar": {
             "outlinewidth": 0,
             "ticks": ""
            },
            "type": "choropleth"
           }
          ],
          "contour": [
           {
            "colorbar": {
             "outlinewidth": 0,
             "ticks": ""
            },
            "colorscale": [
             [
              0,
              "#0d0887"
             ],
             [
              0.1111111111111111,
              "#46039f"
             ],
             [
              0.2222222222222222,
              "#7201a8"
             ],
             [
              0.3333333333333333,
              "#9c179e"
             ],
             [
              0.4444444444444444,
              "#bd3786"
             ],
             [
              0.5555555555555556,
              "#d8576b"
             ],
             [
              0.6666666666666666,
              "#ed7953"
             ],
             [
              0.7777777777777778,
              "#fb9f3a"
             ],
             [
              0.8888888888888888,
              "#fdca26"
             ],
             [
              1,
              "#f0f921"
             ]
            ],
            "type": "contour"
           }
          ],
          "contourcarpet": [
           {
            "colorbar": {
             "outlinewidth": 0,
             "ticks": ""
            },
            "type": "contourcarpet"
           }
          ],
          "heatmap": [
           {
            "colorbar": {
             "outlinewidth": 0,
             "ticks": ""
            },
            "colorscale": [
             [
              0,
              "#0d0887"
             ],
             [
              0.1111111111111111,
              "#46039f"
             ],
             [
              0.2222222222222222,
              "#7201a8"
             ],
             [
              0.3333333333333333,
              "#9c179e"
             ],
             [
              0.4444444444444444,
              "#bd3786"
             ],
             [
              0.5555555555555556,
              "#d8576b"
             ],
             [
              0.6666666666666666,
              "#ed7953"
             ],
             [
              0.7777777777777778,
              "#fb9f3a"
             ],
             [
              0.8888888888888888,
              "#fdca26"
             ],
             [
              1,
              "#f0f921"
             ]
            ],
            "type": "heatmap"
           }
          ],
          "heatmapgl": [
           {
            "colorbar": {
             "outlinewidth": 0,
             "ticks": ""
            },
            "colorscale": [
             [
              0,
              "#0d0887"
             ],
             [
              0.1111111111111111,
              "#46039f"
             ],
             [
              0.2222222222222222,
              "#7201a8"
             ],
             [
              0.3333333333333333,
              "#9c179e"
             ],
             [
              0.4444444444444444,
              "#bd3786"
             ],
             [
              0.5555555555555556,
              "#d8576b"
             ],
             [
              0.6666666666666666,
              "#ed7953"
             ],
             [
              0.7777777777777778,
              "#fb9f3a"
             ],
             [
              0.8888888888888888,
              "#fdca26"
             ],
             [
              1,
              "#f0f921"
             ]
            ],
            "type": "heatmapgl"
           }
          ],
          "histogram": [
           {
            "marker": {
             "pattern": {
              "fillmode": "overlay",
              "size": 10,
              "solidity": 0.2
             }
            },
            "type": "histogram"
           }
          ],
          "histogram2d": [
           {
            "colorbar": {
             "outlinewidth": 0,
             "ticks": ""
            },
            "colorscale": [
             [
              0,
              "#0d0887"
             ],
             [
              0.1111111111111111,
              "#46039f"
             ],
             [
              0.2222222222222222,
              "#7201a8"
             ],
             [
              0.3333333333333333,
              "#9c179e"
             ],
             [
              0.4444444444444444,
              "#bd3786"
             ],
             [
              0.5555555555555556,
              "#d8576b"
             ],
             [
              0.6666666666666666,
              "#ed7953"
             ],
             [
              0.7777777777777778,
              "#fb9f3a"
             ],
             [
              0.8888888888888888,
              "#fdca26"
             ],
             [
              1,
              "#f0f921"
             ]
            ],
            "type": "histogram2d"
           }
          ],
          "histogram2dcontour": [
           {
            "colorbar": {
             "outlinewidth": 0,
             "ticks": ""
            },
            "colorscale": [
             [
              0,
              "#0d0887"
             ],
             [
              0.1111111111111111,
              "#46039f"
             ],
             [
              0.2222222222222222,
              "#7201a8"
             ],
             [
              0.3333333333333333,
              "#9c179e"
             ],
             [
              0.4444444444444444,
              "#bd3786"
             ],
             [
              0.5555555555555556,
              "#d8576b"
             ],
             [
              0.6666666666666666,
              "#ed7953"
             ],
             [
              0.7777777777777778,
              "#fb9f3a"
             ],
             [
              0.8888888888888888,
              "#fdca26"
             ],
             [
              1,
              "#f0f921"
             ]
            ],
            "type": "histogram2dcontour"
           }
          ],
          "mesh3d": [
           {
            "colorbar": {
             "outlinewidth": 0,
             "ticks": ""
            },
            "type": "mesh3d"
           }
          ],
          "parcoords": [
           {
            "line": {
             "colorbar": {
              "outlinewidth": 0,
              "ticks": ""
             }
            },
            "type": "parcoords"
           }
          ],
          "pie": [
           {
            "automargin": true,
            "type": "pie"
           }
          ],
          "scatter": [
           {
            "fillpattern": {
             "fillmode": "overlay",
             "size": 10,
             "solidity": 0.2
            },
            "type": "scatter"
           }
          ],
          "scatter3d": [
           {
            "line": {
             "colorbar": {
              "outlinewidth": 0,
              "ticks": ""
             }
            },
            "marker": {
             "colorbar": {
              "outlinewidth": 0,
              "ticks": ""
             }
            },
            "type": "scatter3d"
           }
          ],
          "scattercarpet": [
           {
            "marker": {
             "colorbar": {
              "outlinewidth": 0,
              "ticks": ""
             }
            },
            "type": "scattercarpet"
           }
          ],
          "scattergeo": [
           {
            "marker": {
             "colorbar": {
              "outlinewidth": 0,
              "ticks": ""
             }
            },
            "type": "scattergeo"
           }
          ],
          "scattergl": [
           {
            "marker": {
             "colorbar": {
              "outlinewidth": 0,
              "ticks": ""
             }
            },
            "type": "scattergl"
           }
          ],
          "scattermapbox": [
           {
            "marker": {
             "colorbar": {
              "outlinewidth": 0,
              "ticks": ""
             }
            },
            "type": "scattermapbox"
           }
          ],
          "scatterpolar": [
           {
            "marker": {
             "colorbar": {
              "outlinewidth": 0,
              "ticks": ""
             }
            },
            "type": "scatterpolar"
           }
          ],
          "scatterpolargl": [
           {
            "marker": {
             "colorbar": {
              "outlinewidth": 0,
              "ticks": ""
             }
            },
            "type": "scatterpolargl"
           }
          ],
          "scatterternary": [
           {
            "marker": {
             "colorbar": {
              "outlinewidth": 0,
              "ticks": ""
             }
            },
            "type": "scatterternary"
           }
          ],
          "surface": [
           {
            "colorbar": {
             "outlinewidth": 0,
             "ticks": ""
            },
            "colorscale": [
             [
              0,
              "#0d0887"
             ],
             [
              0.1111111111111111,
              "#46039f"
             ],
             [
              0.2222222222222222,
              "#7201a8"
             ],
             [
              0.3333333333333333,
              "#9c179e"
             ],
             [
              0.4444444444444444,
              "#bd3786"
             ],
             [
              0.5555555555555556,
              "#d8576b"
             ],
             [
              0.6666666666666666,
              "#ed7953"
             ],
             [
              0.7777777777777778,
              "#fb9f3a"
             ],
             [
              0.8888888888888888,
              "#fdca26"
             ],
             [
              1,
              "#f0f921"
             ]
            ],
            "type": "surface"
           }
          ],
          "table": [
           {
            "cells": {
             "fill": {
              "color": "#EBF0F8"
             },
             "line": {
              "color": "white"
             }
            },
            "header": {
             "fill": {
              "color": "#C8D4E3"
             },
             "line": {
              "color": "white"
             }
            },
            "type": "table"
           }
          ]
         },
         "layout": {
          "annotationdefaults": {
           "arrowcolor": "#2a3f5f",
           "arrowhead": 0,
           "arrowwidth": 1
          },
          "autotypenumbers": "strict",
          "coloraxis": {
           "colorbar": {
            "outlinewidth": 0,
            "ticks": ""
           }
          },
          "colorscale": {
           "diverging": [
            [
             0,
             "#8e0152"
            ],
            [
             0.1,
             "#c51b7d"
            ],
            [
             0.2,
             "#de77ae"
            ],
            [
             0.3,
             "#f1b6da"
            ],
            [
             0.4,
             "#fde0ef"
            ],
            [
             0.5,
             "#f7f7f7"
            ],
            [
             0.6,
             "#e6f5d0"
            ],
            [
             0.7,
             "#b8e186"
            ],
            [
             0.8,
             "#7fbc41"
            ],
            [
             0.9,
             "#4d9221"
            ],
            [
             1,
             "#276419"
            ]
           ],
           "sequential": [
            [
             0,
             "#0d0887"
            ],
            [
             0.1111111111111111,
             "#46039f"
            ],
            [
             0.2222222222222222,
             "#7201a8"
            ],
            [
             0.3333333333333333,
             "#9c179e"
            ],
            [
             0.4444444444444444,
             "#bd3786"
            ],
            [
             0.5555555555555556,
             "#d8576b"
            ],
            [
             0.6666666666666666,
             "#ed7953"
            ],
            [
             0.7777777777777778,
             "#fb9f3a"
            ],
            [
             0.8888888888888888,
             "#fdca26"
            ],
            [
             1,
             "#f0f921"
            ]
           ],
           "sequentialminus": [
            [
             0,
             "#0d0887"
            ],
            [
             0.1111111111111111,
             "#46039f"
            ],
            [
             0.2222222222222222,
             "#7201a8"
            ],
            [
             0.3333333333333333,
             "#9c179e"
            ],
            [
             0.4444444444444444,
             "#bd3786"
            ],
            [
             0.5555555555555556,
             "#d8576b"
            ],
            [
             0.6666666666666666,
             "#ed7953"
            ],
            [
             0.7777777777777778,
             "#fb9f3a"
            ],
            [
             0.8888888888888888,
             "#fdca26"
            ],
            [
             1,
             "#f0f921"
            ]
           ]
          },
          "colorway": [
           "#636efa",
           "#EF553B",
           "#00cc96",
           "#ab63fa",
           "#FFA15A",
           "#19d3f3",
           "#FF6692",
           "#B6E880",
           "#FF97FF",
           "#FECB52"
          ],
          "font": {
           "color": "#2a3f5f"
          },
          "geo": {
           "bgcolor": "white",
           "lakecolor": "white",
           "landcolor": "white",
           "showlakes": true,
           "showland": true,
           "subunitcolor": "#C8D4E3"
          },
          "hoverlabel": {
           "align": "left"
          },
          "hovermode": "closest",
          "mapbox": {
           "style": "light"
          },
          "paper_bgcolor": "white",
          "plot_bgcolor": "white",
          "polar": {
           "angularaxis": {
            "gridcolor": "#EBF0F8",
            "linecolor": "#EBF0F8",
            "ticks": ""
           },
           "bgcolor": "white",
           "radialaxis": {
            "gridcolor": "#EBF0F8",
            "linecolor": "#EBF0F8",
            "ticks": ""
           }
          },
          "scene": {
           "xaxis": {
            "backgroundcolor": "white",
            "gridcolor": "#DFE8F3",
            "gridwidth": 2,
            "linecolor": "#EBF0F8",
            "showbackground": true,
            "ticks": "",
            "zerolinecolor": "#EBF0F8"
           },
           "yaxis": {
            "backgroundcolor": "white",
            "gridcolor": "#DFE8F3",
            "gridwidth": 2,
            "linecolor": "#EBF0F8",
            "showbackground": true,
            "ticks": "",
            "zerolinecolor": "#EBF0F8"
           },
           "zaxis": {
            "backgroundcolor": "white",
            "gridcolor": "#DFE8F3",
            "gridwidth": 2,
            "linecolor": "#EBF0F8",
            "showbackground": true,
            "ticks": "",
            "zerolinecolor": "#EBF0F8"
           }
          },
          "shapedefaults": {
           "line": {
            "color": "#2a3f5f"
           }
          },
          "ternary": {
           "aaxis": {
            "gridcolor": "#DFE8F3",
            "linecolor": "#A2B1C6",
            "ticks": ""
           },
           "baxis": {
            "gridcolor": "#DFE8F3",
            "linecolor": "#A2B1C6",
            "ticks": ""
           },
           "bgcolor": "white",
           "caxis": {
            "gridcolor": "#DFE8F3",
            "linecolor": "#A2B1C6",
            "ticks": ""
           }
          },
          "title": {
           "x": 0.05
          },
          "xaxis": {
           "automargin": true,
           "gridcolor": "#EBF0F8",
           "linecolor": "#EBF0F8",
           "ticks": "",
           "title": {
            "standoff": 15
           },
           "zerolinecolor": "#EBF0F8",
           "zerolinewidth": 2
          },
          "yaxis": {
           "automargin": true,
           "gridcolor": "#EBF0F8",
           "linecolor": "#EBF0F8",
           "ticks": "",
           "title": {
            "standoff": 15
           },
           "zerolinecolor": "#EBF0F8",
           "zerolinewidth": 2
          }
         }
        },
        "title": {
         "text": "Efficient Frontier of Restricted Portfolio"
        },
        "width": 1000,
        "xaxis": {
         "title": {
          "text": "Annualised Risk (Volatility)"
         }
        },
        "yaxis": {
         "title": {
          "text": "Annualised Return"
         }
        }
       }
      }
     },
     "metadata": {},
     "output_type": "display_data"
    },
    {
     "data": {
      "text/html": [
       "<div style='display: inline-block; vertical-align: top; margin-right: 20px;'><h3 style='font-family: Poppins; font-size: 130%;'>Max Sharpe</h3>Return: 4.47%, Std.: 5.37% <br><br><style type=\"text/css\">\n",
       "#T_0aab4 th {\n",
       "  text-align: center;\n",
       "  font-family: Poppins;\n",
       "}\n",
       "#T_0aab4 td {\n",
       "  text-align: center;\n",
       "  font-family: Poppins;\n",
       "}\n",
       "</style>\n",
       "<table id=\"T_0aab4\">\n",
       "  <thead>\n",
       "    <tr>\n",
       "      <th class=\"blank level0\" >&nbsp;</th>\n",
       "      <th id=\"T_0aab4_level0_col0\" class=\"col_heading level0 col0\" >Asset_classes</th>\n",
       "      <th id=\"T_0aab4_level0_col1\" class=\"col_heading level0 col1\" >Weights</th>\n",
       "    </tr>\n",
       "  </thead>\n",
       "  <tbody>\n",
       "    <tr>\n",
       "      <th id=\"T_0aab4_level0_row0\" class=\"row_heading level0 row0\" >0</th>\n",
       "      <td id=\"T_0aab4_row0_col0\" class=\"data row0 col0\" >state bonds</td>\n",
       "      <td id=\"T_0aab4_row0_col1\" class=\"data row0 col1\" >30.84%</td>\n",
       "    </tr>\n",
       "    <tr>\n",
       "      <th id=\"T_0aab4_level0_row1\" class=\"row_heading level0 row1\" >1</th>\n",
       "      <td id=\"T_0aab4_row1_col0\" class=\"data row1 col0\" >corporate bonds</td>\n",
       "      <td id=\"T_0aab4_row1_col1\" class=\"data row1 col1\" >28.9%</td>\n",
       "    </tr>\n",
       "    <tr>\n",
       "      <th id=\"T_0aab4_level0_row2\" class=\"row_heading level0 row2\" >2</th>\n",
       "      <td id=\"T_0aab4_row2_col0\" class=\"data row2 col0\" >listed foreign public equity</td>\n",
       "      <td id=\"T_0aab4_row2_col1\" class=\"data row2 col1\" >15.93%</td>\n",
       "    </tr>\n",
       "    <tr>\n",
       "      <th id=\"T_0aab4_level0_row3\" class=\"row_heading level0 row3\" >3</th>\n",
       "      <td id=\"T_0aab4_row3_col0\" class=\"data row3 col0\" >cash</td>\n",
       "      <td id=\"T_0aab4_row3_col1\" class=\"data row3 col1\" >12.73%</td>\n",
       "    </tr>\n",
       "    <tr>\n",
       "      <th id=\"T_0aab4_level0_row4\" class=\"row_heading level0 row4\" >4</th>\n",
       "      <td id=\"T_0aab4_row4_col0\" class=\"data row4 col0\" >other equity instruments</td>\n",
       "      <td id=\"T_0aab4_row4_col1\" class=\"data row4 col1\" >10.97%</td>\n",
       "    </tr>\n",
       "    <tr>\n",
       "      <th id=\"T_0aab4_level0_row5\" class=\"row_heading level0 row5\" >5</th>\n",
       "      <td id=\"T_0aab4_row5_col0\" class=\"data row5 col0\" >listed domestic public equity</td>\n",
       "      <td id=\"T_0aab4_row5_col1\" class=\"data row5 col1\" >0.44%</td>\n",
       "    </tr>\n",
       "    <tr>\n",
       "      <th id=\"T_0aab4_level0_row6\" class=\"row_heading level0 row6\" >6</th>\n",
       "      <td id=\"T_0aab4_row6_col0\" class=\"data row6 col0\" >fixed term and savings deposit</td>\n",
       "      <td id=\"T_0aab4_row6_col1\" class=\"data row6 col1\" >0.11%</td>\n",
       "    </tr>\n",
       "    <tr>\n",
       "      <th id=\"T_0aab4_level0_row7\" class=\"row_heading level0 row7\" >7</th>\n",
       "      <td id=\"T_0aab4_row7_col0\" class=\"data row7 col0\" >public investment funds</td>\n",
       "      <td id=\"T_0aab4_row7_col1\" class=\"data row7 col1\" >0.09%</td>\n",
       "    </tr>\n",
       "  </tbody>\n",
       "</table>\n",
       "</div><div style='display: inline-block; vertical-align: top; margin-right: 20px;'><h3 style='font-family: Poppins; font-size: 130%;'>Min Variance</h3>Return: 1.77%, Std.: 1.6% <br><br><style type=\"text/css\">\n",
       "#T_98160 th {\n",
       "  text-align: center;\n",
       "  font-family: Poppins;\n",
       "}\n",
       "#T_98160 td {\n",
       "  text-align: center;\n",
       "  font-family: Poppins;\n",
       "}\n",
       "</style>\n",
       "<table id=\"T_98160\">\n",
       "  <thead>\n",
       "    <tr>\n",
       "      <th class=\"blank level0\" >&nbsp;</th>\n",
       "      <th id=\"T_98160_level0_col0\" class=\"col_heading level0 col0\" >Asset_classes</th>\n",
       "      <th id=\"T_98160_level0_col1\" class=\"col_heading level0 col1\" >Weights</th>\n",
       "    </tr>\n",
       "  </thead>\n",
       "  <tbody>\n",
       "    <tr>\n",
       "      <th id=\"T_98160_level0_row0\" class=\"row_heading level0 row0\" >0</th>\n",
       "      <td id=\"T_98160_row0_col0\" class=\"data row0 col0\" >cash</td>\n",
       "      <td id=\"T_98160_row0_col1\" class=\"data row0 col1\" >32.84%</td>\n",
       "    </tr>\n",
       "    <tr>\n",
       "      <th id=\"T_98160_level0_row1\" class=\"row_heading level0 row1\" >1</th>\n",
       "      <td id=\"T_98160_row1_col0\" class=\"data row1 col0\" >fixed term and savings deposit</td>\n",
       "      <td id=\"T_98160_row1_col1\" class=\"data row1 col1\" >30.83%</td>\n",
       "    </tr>\n",
       "    <tr>\n",
       "      <th id=\"T_98160_level0_row2\" class=\"row_heading level0 row2\" >2</th>\n",
       "      <td id=\"T_98160_row2_col0\" class=\"data row2 col0\" >state bonds</td>\n",
       "      <td id=\"T_98160_row2_col1\" class=\"data row2 col1\" >27.26%</td>\n",
       "    </tr>\n",
       "    <tr>\n",
       "      <th id=\"T_98160_level0_row3\" class=\"row_heading level0 row3\" >3</th>\n",
       "      <td id=\"T_98160_row3_col0\" class=\"data row3 col0\" >corporate bonds</td>\n",
       "      <td id=\"T_98160_row3_col1\" class=\"data row3 col1\" >2.51%</td>\n",
       "    </tr>\n",
       "    <tr>\n",
       "      <th id=\"T_98160_level0_row4\" class=\"row_heading level0 row4\" >4</th>\n",
       "      <td id=\"T_98160_row4_col0\" class=\"data row4 col0\" >listed foreign public equity</td>\n",
       "      <td id=\"T_98160_row4_col1\" class=\"data row4 col1\" >2.41%</td>\n",
       "    </tr>\n",
       "    <tr>\n",
       "      <th id=\"T_98160_level0_row5\" class=\"row_heading level0 row5\" >5</th>\n",
       "      <td id=\"T_98160_row5_col0\" class=\"data row5 col0\" >public investment funds</td>\n",
       "      <td id=\"T_98160_row5_col1\" class=\"data row5 col1\" >1.81%</td>\n",
       "    </tr>\n",
       "    <tr>\n",
       "      <th id=\"T_98160_level0_row6\" class=\"row_heading level0 row6\" >6</th>\n",
       "      <td id=\"T_98160_row6_col0\" class=\"data row6 col0\" >other equity instruments</td>\n",
       "      <td id=\"T_98160_row6_col1\" class=\"data row6 col1\" >1.53%</td>\n",
       "    </tr>\n",
       "    <tr>\n",
       "      <th id=\"T_98160_level0_row7\" class=\"row_heading level0 row7\" >7</th>\n",
       "      <td id=\"T_98160_row7_col0\" class=\"data row7 col0\" >listed domestic public equity</td>\n",
       "      <td id=\"T_98160_row7_col1\" class=\"data row7 col1\" >0.82%</td>\n",
       "    </tr>\n",
       "  </tbody>\n",
       "</table>\n",
       "</div><div style='display: inline-block; vertical-align: top; margin-right: 20px;'><h3 style='font-family: Poppins; font-size: 130%;'>Risk Matching Portfolio</h3>Return: 5.2%, Std.: 7.09% <br><br><style type=\"text/css\">\n",
       "#T_6f992 th {\n",
       "  text-align: center;\n",
       "  font-family: Poppins;\n",
       "}\n",
       "#T_6f992 td {\n",
       "  text-align: center;\n",
       "  font-family: Poppins;\n",
       "}\n",
       "</style>\n",
       "<table id=\"T_6f992\">\n",
       "  <thead>\n",
       "    <tr>\n",
       "      <th class=\"blank level0\" >&nbsp;</th>\n",
       "      <th id=\"T_6f992_level0_col0\" class=\"col_heading level0 col0\" >Asset_classes</th>\n",
       "      <th id=\"T_6f992_level0_col1\" class=\"col_heading level0 col1\" >Weights</th>\n",
       "    </tr>\n",
       "  </thead>\n",
       "  <tbody>\n",
       "    <tr>\n",
       "      <th id=\"T_6f992_level0_row0\" class=\"row_heading level0 row0\" >0</th>\n",
       "      <td id=\"T_6f992_row0_col0\" class=\"data row0 col0\" >state bonds</td>\n",
       "      <td id=\"T_6f992_row0_col1\" class=\"data row0 col1\" >26.71%</td>\n",
       "    </tr>\n",
       "    <tr>\n",
       "      <th id=\"T_6f992_level0_row1\" class=\"row_heading level0 row1\" >1</th>\n",
       "      <td id=\"T_6f992_row1_col0\" class=\"data row1 col0\" >listed foreign public equity</td>\n",
       "      <td id=\"T_6f992_row1_col1\" class=\"data row1 col1\" >22.99%</td>\n",
       "    </tr>\n",
       "    <tr>\n",
       "      <th id=\"T_6f992_level0_row2\" class=\"row_heading level0 row2\" >2</th>\n",
       "      <td id=\"T_6f992_row2_col0\" class=\"data row2 col0\" >corporate bonds</td>\n",
       "      <td id=\"T_6f992_row2_col1\" class=\"data row2 col1\" >19.19%</td>\n",
       "    </tr>\n",
       "    <tr>\n",
       "      <th id=\"T_6f992_level0_row3\" class=\"row_heading level0 row3\" >3</th>\n",
       "      <td id=\"T_6f992_row3_col0\" class=\"data row3 col0\" >other equity instruments</td>\n",
       "      <td id=\"T_6f992_row3_col1\" class=\"data row3 col1\" >14.31%</td>\n",
       "    </tr>\n",
       "    <tr>\n",
       "      <th id=\"T_6f992_level0_row4\" class=\"row_heading level0 row4\" >4</th>\n",
       "      <td id=\"T_6f992_row4_col0\" class=\"data row4 col0\" >cash</td>\n",
       "      <td id=\"T_6f992_row4_col1\" class=\"data row4 col1\" >12.12%</td>\n",
       "    </tr>\n",
       "    <tr>\n",
       "      <th id=\"T_6f992_level0_row5\" class=\"row_heading level0 row5\" >5</th>\n",
       "      <td id=\"T_6f992_row5_col0\" class=\"data row5 col0\" >public investment funds</td>\n",
       "      <td id=\"T_6f992_row5_col1\" class=\"data row5 col1\" >3.57%</td>\n",
       "    </tr>\n",
       "    <tr>\n",
       "      <th id=\"T_6f992_level0_row6\" class=\"row_heading level0 row6\" >6</th>\n",
       "      <td id=\"T_6f992_row6_col0\" class=\"data row6 col0\" >listed domestic public equity</td>\n",
       "      <td id=\"T_6f992_row6_col1\" class=\"data row6 col1\" >0.99%</td>\n",
       "    </tr>\n",
       "    <tr>\n",
       "      <th id=\"T_6f992_level0_row7\" class=\"row_heading level0 row7\" >7</th>\n",
       "      <td id=\"T_6f992_row7_col0\" class=\"data row7 col0\" >fixed term and savings deposit</td>\n",
       "      <td id=\"T_6f992_row7_col1\" class=\"data row7 col1\" >0.13%</td>\n",
       "    </tr>\n",
       "  </tbody>\n",
       "</table>\n",
       "</div><div style='display: inline-block; vertical-align: top;'><h3 style='font-family: Poppins; font-size: 130%;'>Retail Portfolio</h3>Return: 2.94%, Std.: 7.08% <br><br><style type=\"text/css\">\n",
       "#T_736b6 th {\n",
       "  text-align: center;\n",
       "  font-family: Poppins;\n",
       "}\n",
       "#T_736b6 td {\n",
       "  text-align: center;\n",
       "  font-family: Poppins;\n",
       "}\n",
       "</style>\n",
       "<table id=\"T_736b6\">\n",
       "  <thead>\n",
       "    <tr>\n",
       "      <th class=\"blank level0\" >&nbsp;</th>\n",
       "      <th id=\"T_736b6_level0_col0\" class=\"col_heading level0 col0\" >Asset_classes</th>\n",
       "      <th id=\"T_736b6_level0_col1\" class=\"col_heading level0 col1\" >Weights</th>\n",
       "    </tr>\n",
       "  </thead>\n",
       "  <tbody>\n",
       "    <tr>\n",
       "      <th id=\"T_736b6_level0_row0\" class=\"row_heading level0 row0\" >0</th>\n",
       "      <td id=\"T_736b6_row0_col0\" class=\"data row0 col0\" >cash</td>\n",
       "      <td id=\"T_736b6_row0_col1\" class=\"data row0 col1\" >42.8%</td>\n",
       "    </tr>\n",
       "    <tr>\n",
       "      <th id=\"T_736b6_level0_row1\" class=\"row_heading level0 row1\" >1</th>\n",
       "      <td id=\"T_736b6_row1_col0\" class=\"data row1 col0\" >public investment funds</td>\n",
       "      <td id=\"T_736b6_row1_col1\" class=\"data row1 col1\" >18.6%</td>\n",
       "    </tr>\n",
       "    <tr>\n",
       "      <th id=\"T_736b6_level0_row2\" class=\"row_heading level0 row2\" >2</th>\n",
       "      <td id=\"T_736b6_row2_col0\" class=\"data row2 col0\" >fixed term and savings deposit</td>\n",
       "      <td id=\"T_736b6_row2_col1\" class=\"data row2 col1\" >17.1%</td>\n",
       "    </tr>\n",
       "    <tr>\n",
       "      <th id=\"T_736b6_level0_row3\" class=\"row_heading level0 row3\" >3</th>\n",
       "      <td id=\"T_736b6_row3_col0\" class=\"data row3 col0\" >other equity instruments</td>\n",
       "      <td id=\"T_736b6_row3_col1\" class=\"data row3 col1\" >8.4%</td>\n",
       "    </tr>\n",
       "    <tr>\n",
       "      <th id=\"T_736b6_level0_row4\" class=\"row_heading level0 row4\" >4</th>\n",
       "      <td id=\"T_736b6_row4_col0\" class=\"data row4 col0\" >listed domestic public equity</td>\n",
       "      <td id=\"T_736b6_row4_col1\" class=\"data row4 col1\" >5.9%</td>\n",
       "    </tr>\n",
       "    <tr>\n",
       "      <th id=\"T_736b6_level0_row5\" class=\"row_heading level0 row5\" >5</th>\n",
       "      <td id=\"T_736b6_row5_col0\" class=\"data row5 col0\" >listed foreign public equity</td>\n",
       "      <td id=\"T_736b6_row5_col1\" class=\"data row5 col1\" >5.0%</td>\n",
       "    </tr>\n",
       "    <tr>\n",
       "      <th id=\"T_736b6_level0_row6\" class=\"row_heading level0 row6\" >6</th>\n",
       "      <td id=\"T_736b6_row6_col0\" class=\"data row6 col0\" >corporate bonds</td>\n",
       "      <td id=\"T_736b6_row6_col1\" class=\"data row6 col1\" >1.46%</td>\n",
       "    </tr>\n",
       "    <tr>\n",
       "      <th id=\"T_736b6_level0_row7\" class=\"row_heading level0 row7\" >7</th>\n",
       "      <td id=\"T_736b6_row7_col0\" class=\"data row7 col0\" >state bonds</td>\n",
       "      <td id=\"T_736b6_row7_col1\" class=\"data row7 col1\" >0.73%</td>\n",
       "    </tr>\n",
       "  </tbody>\n",
       "</table>\n",
       "</div>"
      ],
      "text/plain": [
       "<IPython.core.display.HTML object>"
      ]
     },
     "metadata": {},
     "output_type": "display_data"
    }
   ],
   "source": [
    "# Standard Libraries\n",
    "import os\n",
    "import math\n",
    "import random\n",
    "\n",
    "# Data Analysis and Visualization Libraries\n",
    "import pandas as pd\n",
    "import seaborn as sns\n",
    "import matplotlib.pyplot as plt\n",
    "import numpy as np\n",
    "\n",
    "# Interactive Data Visualization Libraries\n",
    "import plotly\n",
    "import plotly.graph_objects as go\n",
    "from plotly.subplots import make_subplots\n",
    "import plotly.express as px\n",
    "import plotly.figure_factory as ff\n",
    "\n",
    "# Data Analysis and Statistics Libraries\n",
    "import scipy.stats as stats\n",
    "from scipy.stats import skew, kurtosis, jarque_bera, shapiro, anderson\n",
    "\n",
    "# Jupyter Notebook Display Libraries\n",
    "from IPython.display import display, HTML\n",
    "\n",
    "# Utility Libraries\n",
    "from tqdm import tqdm as tqdm\n",
    "\n",
    "\n",
    "\n",
    "\n",
    "##     ##               #######                                                                                                             \n",
    "##      ##              #     #                                                                                                             \n",
    "##       ##             #        #######  #######           #     #  #######  #######     #     #######  ######   #        #######  ####### \n",
    "##       ##             #######  #           #              #     #  #     #  #     #     #     #     #  #    #   #        #        #       \n",
    "##       ##                  ##  ####        #               #   #   #######  #######     #     #######  #######  #        ####     ####### \n",
    "##      ##              #    ##  #           #                # #    #     #  #    #      #     #     #  #     #  #        #              # \n",
    "##     ##               #######  #######     #                 #     #     #  #    ##     #     #     #  #######  #######  #######  #######\n",
    "\n",
    "\n",
    "# Define year range that should be incorporated\n",
    "time_start = 2001\n",
    "time_end = 2022\n",
    "\n",
    "# Asset classes that are included either directly or as risk/return proxy into German Retail Investor Portfolio\n",
    "retail_asset_classes = ['Listed Foreign Public Equity','Other Equity Instruments','State Bonds','Corporate Bonds','Listed Domestic Public Equity','Fixed Term and Savings Deposit','Public Investment Funds','Cash']\n",
    "asset_classes_ex1 = ['Listed Foreign Public Equity','Other Equity Instruments','State Bonds','Corporate Bonds','Listed Domestic Public Equity','Fixed Term and Savings Deposit','Public Investment Funds','Cash']\n",
    "\n",
    "# Define max weight per asset class for restricted portfolio optimization\n",
    "max_weight = 0.33\n",
    "\n",
    "# Define min cash for restricted portfolio optimization\n",
    "cash_min = 0.12\n",
    "\n",
    "# Define number of shots per Monte Carlo Simulation\n",
    "n_unrestricted = 10000\n",
    "n_restricted = 10000000\n",
    "\n",
    "# Define risk free rate for Sharpe calc.\n",
    "risk_free_rate=0.016 \n",
    "\n",
    "# Activate model\n",
    "active_classes = asset_classes_ex1.copy()\n",
    "\n",
    "\n",
    "\n",
    "#######   ##               ######                                                                           #######                                                                                  \n",
    "#######    ##              #                                                                                #     #                                                                                  \n",
    "     ##     ##             #        #     #  #     #  #######  #######     #     #######  #     #           #     #  #######  #######     #     #     #     #     #######     #     #######  #     # \n",
    "#######     ##             #####    #     #  ##    #  #           #        #     #     #  ##    #           ##    #  #        #           #     ##    #     #        #        #     #     #  ##    # \n",
    "##          ##             ##       #     #  # ### #  #           #        #     #     #  # ### #           ##    #  ####     ####        #     # ### #     #        #        #     #     #  # ### # \n",
    "#######    ##              ##       #     #  #    ##  #           #        #     #     #  #    ##           ##    #  #        #           #     #    ##     #        #        #     #     #  #    ## \n",
    "#######   ##               ##       #######  #     #  #######     #        #     #######  #     #           #######  #######  #           #     #     #     #        #        #     #######  #     # \n",
    "                                                                                                                                                                                                      \n",
    "\n",
    "# Calculate Bayes_Steins estimates using the shrikage factor w\n",
    "def bayes_stein_returns(matrix, adjust=True):\n",
    "\n",
    "    t, n = matrix.shape\n",
    "    sample_means = matrix.mean(axis=0)\n",
    "    ones = np.ones_like(sample_means)\n",
    "\n",
    "    E = np.cov(matrix, rowvar=False)\n",
    "    # Zellner & Chetty adjustment of sample cov matrix\n",
    "    adj_Z_C = (float(t) - 1) / (t - n - 2)\n",
    "    E *= round(adj_Z_C, 4) \n",
    "    I = np.linalg.inv(E)\n",
    "    grand_mean = sample_means.dot(I).dot(ones.T) / ones.dot(I).dot(ones.T)\n",
    "    diff = sample_means - grand_mean\n",
    "    denominator = n + 2 + diff.dot(t*I).dot(diff.T)\n",
    "    w = round((n + 2) / denominator, 4)\n",
    "    print('The weighting coefficient in Bayes-Stein shrinkage: {}'.format(w))\n",
    "    adjusted_means = (1 - w)*sample_means + w*grand_mean\n",
    "\n",
    "    return adjusted_means\n",
    "\n",
    "# Define a function to calculate CVaR at a given confidence level\n",
    "def calculate_cvar(data, alpha):\n",
    "    sorted_returns = np.sort(data)\n",
    "    var_index = int((1 - alpha) * len(sorted_returns))\n",
    "    cvar = -sorted_returns[:var_index].mean()\n",
    "    return cvar\n",
    "\n",
    "# Plot efficient frontier\n",
    "def plot_ef  (mean_variance_pairs,tickers_list,weights_list,risk_free_rate,retail_return,retail_std,title_name): \n",
    "    #-- Plot the risk vs. return of randomly generated portfolios\n",
    "    #-- Convert the list from before into an array for easy plotting\n",
    "    mean_variance_pairs = np.array(mean_variance_pairs)\n",
    "\n",
    "\n",
    "    fig = go.Figure()\n",
    "    fig.add_trace(go.Scatter(x=mean_variance_pairs[:,1]**0.5, y=mean_variance_pairs[:,0], \n",
    "                        marker=dict(color=(mean_variance_pairs[:,0]-risk_free_rate)/(mean_variance_pairs[:,1]**0.5), \n",
    "                                    showscale=True, \n",
    "                                    size=7,\n",
    "                                    line=dict(width=1),\n",
    "                                    colorscale=\"RdBu\",\n",
    "                                    colorbar=dict(title=\"Sharpe<br>Ratio\")\n",
    "                                    ), \n",
    "                        mode='markers',\n",
    "                        text=[str(np.array(tickers_list[i])) + \"<br>\" + str(np.array(weights_list[i]).round(2)) for i in range(len(tickers_list))]))\n",
    "    fig.update_layout(template='plotly_white',\n",
    "                    xaxis=dict(title='Annualised Risk (Volatility)'),\n",
    "                    yaxis=dict(title='Annualised Return'),\n",
    "                    title=title_name,\n",
    "                    width=1000,\n",
    "                    height=700,\n",
    "                    showlegend = False)\n",
    "\n",
    "    #-- Find the portfolio with the highest Sharpe ratio\n",
    "    sharpe_ratio = (mean_variance_pairs[:,0]-risk_free_rate) / (mean_variance_pairs[:,1]**0.5)\n",
    "    max_sharpe_idx = np.argmax(sharpe_ratio)\n",
    "    max_sharpe_weights = weights_list[max_sharpe_idx]\n",
    "    max_sharpe_tickers = tickers_list[max_sharpe_idx]\n",
    "    max_sharpe_return = np.round(mean_variance_pairs[max_sharpe_idx][0] * 100,decimals=2)\n",
    "    max_sharpe_risk = np.round(mean_variance_pairs[max_sharpe_idx][1]**0.5 * 100,decimals=2)\n",
    "\n",
    "    #-- Find the portfolio with the minimum variance\n",
    "    min_var_idx = np.argmin(mean_variance_pairs[:,1])\n",
    "    min_var_weights = weights_list[min_var_idx]\n",
    "    min_var_tickers = tickers_list[min_var_idx]\n",
    "    min_var_return = np.round(mean_variance_pairs[min_var_idx][0] * 100,decimals=2)\n",
    "    min_var_risk = np.round(mean_variance_pairs[min_var_idx][1]**0.5 * 100,decimals=2)\n",
    "\n",
    "    # Convert mean_variance_pairs_re into a NumPy array\n",
    "    mean_variance_pairs_array = np.array(mean_variance_pairs)\n",
    "\n",
    "    # Extract the standard deviation array\n",
    "    std_array = np.sqrt(mean_variance_pairs_array[:, 1])\n",
    "\n",
    "    # Find the index of the pair with the closest standard deviation\n",
    "    closest_index = np.argmin(np.abs(std_array - retail_std))\n",
    "\n",
    "    closest_std_tickers = tickers_list[closest_index]\n",
    "    closest_std_weights = weights_list[closest_index]\n",
    "    \n",
    "\n",
    "    #-- Take the portfolio stats of the average German private houshold portfolio\n",
    "    # Extract the index as an array\n",
    "    retail_tickers = retail_asset_allocation.index.str.lower().to_numpy()\n",
    "    retail_weights = retail_asset_allocation['Allocation'].to_numpy()\n",
    "\n",
    "    #-- Add the portfolios to the scatter plot\n",
    "    fig.add_trace(go.Scatter(x=[mean_variance_pairs[max_sharpe_idx,1]**0.5], y=[mean_variance_pairs[max_sharpe_idx,0]], \n",
    "                            marker=dict(color='green', size=10), \n",
    "                            mode='markers', \n",
    "                            name=None,\n",
    "                            text=['Portfolio with highest Sharpe ratio (' + str(np.array(max_sharpe_tickers)) + ', ' + str(np.array(max_sharpe_weights).round(2)) + ')']))\n",
    "\n",
    "    fig.add_trace(go.Scatter(x=[mean_variance_pairs[min_var_idx,1]**0.5], y=[mean_variance_pairs[min_var_idx,0]], \n",
    "                            marker=dict(color='red', size=10), \n",
    "                            mode='markers', \n",
    "                            name=None,\n",
    "                            text=['Minimum variance portfolio (' + str(np.array(min_var_tickers)) + ', ' + str(np.array(min_var_weights).round(2)) + ')']))\n",
    "\n",
    "    fig.add_trace(go.Scatter(x = [retail_std], y= [retail_return], \n",
    "                            marker=dict(color='purple', size=10), \n",
    "                            mode='markers', \n",
    "                            name=None,\n",
    "                            text=['Retail Investor Portfolio (' + str(np.array(retail_tickers)) + ', ' + str(np.array(retail_weights).round(2)) + ')']))\n",
    "\n",
    "\n",
    "    #-- Add the efficient frontier line from the risk-free rate to the portfolio with the highest Sharpe ratio\n",
    "    ef_line_x = np.linspace(0, max(mean_variance_pairs[:,1]**0.5), 100)\n",
    "    ef_line_y = ef_line_x * sharpe_ratio[max_sharpe_idx] + risk_free_rate\n",
    "    fig.add_trace(go.Scatter(x=ef_line_x, y=ef_line_y, \n",
    "                            line=dict(color='black', width=2, dash='dash'),\n",
    "                            name='Efficient Frontier'))\n",
    "\n",
    "\n",
    "\n",
    "    # Plot the three relevant highlight portfolios with their assigned weights below\n",
    "    max_sharpe_df = pd.DataFrame({'Asset_classes': max_sharpe_tickers, 'Weights': max_sharpe_weights})\n",
    "    max_sharpe_df = max_sharpe_df.sort_values('Weights', ascending=False)\n",
    "    max_sharpe_df['Weights'] = (max_sharpe_df['Weights'] * 100).round(2).astype(str) + '%'\n",
    "\n",
    "    min_var_df = pd.DataFrame({'Asset_classes': min_var_tickers, 'Weights': min_var_weights})\n",
    "    min_var_df = min_var_df.sort_values('Weights', ascending=False)\n",
    "    min_var_df['Weights'] = (min_var_df['Weights'] * 100).round(2).astype(str) + '%'\n",
    "\n",
    "    closest_std_df = pd.DataFrame({'Asset_classes': closest_std_tickers, 'Weights': closest_std_weights})\n",
    "    closest_std_df = closest_std_df.sort_values('Weights', ascending=False)\n",
    "    closest_std_df['Weights'] = (closest_std_df['Weights'] * 100).round(2).astype(str) + '%'\n",
    "    closest_std_return = np.round(mean_variance_pairs[closest_index][0] * 100,decimals=2)\n",
    "    closest_std_risk = np.round(mean_variance_pairs[closest_index][1]**0.5 * 100,decimals=2)\n",
    "\n",
    "    # Transform retail portfolio ret and std. for plot\n",
    "    retail_return = np.round(retail_return * 100,decimals=2)\n",
    "    retail_std = np.round(retail_std * 100,decimals=2)\n",
    "\n",
    "    retail_asset_allocation_df = retail_asset_allocation.copy()\n",
    "    retail_asset_allocation_df = retail_asset_allocation_df.sort_values('Allocation', ascending=False)\n",
    "    retail_asset_allocation_df['Allocation'] = (retail_asset_allocation['Allocation'] * 100).round(2).astype(str) + '%'\n",
    "    retail_asset_allocation_df.reset_index(inplace=True)\n",
    "    retail_asset_allocation_df.rename(columns={'Asset Class': 'Asset_classes', 'Allocation': 'Weights'},inplace = True)\n",
    "    retail_asset_allocation_df['Asset_classes'] = retail_asset_allocation_df['Asset_classes'].str.lower()\n",
    "\n",
    "    # remove index of max_sharpe_df and min_var_df\n",
    "    max_sharpe_df = max_sharpe_df.reset_index(drop=True)\n",
    "    min_var_df = min_var_df.reset_index(drop=True)\n",
    "    closest_std_df = closest_std_df.reset_index(drop=True)\n",
    "\n",
    "\n",
    "    # define CSS styles for the table\n",
    "    styles = [\n",
    "        dict(selector=\"th\", props=[(\"text-align\", \"center\"), (\"font-family\", \"Poppins\")]),\n",
    "        dict(selector=\"td\", props=[(\"text-align\", \"center\"), (\"font-family\", \"Poppins\")]),\n",
    "    ]\n",
    "\n",
    "    # create HTML code for the dataframes with titles\n",
    "    max_sharpe_html = f\"<div style='display: inline-block; vertical-align: top; margin-right: 20px;'><h3 style='font-family: Poppins; font-size: 130%;'>Max Sharpe</h3>Return: {max_sharpe_return}%, Std.: {max_sharpe_risk}% <br><br>{max_sharpe_df.style.set_table_styles(styles).to_html(index=False)}</div>\"\n",
    "    min_var_html = f\"<div style='display: inline-block; vertical-align: top; margin-right: 20px;'><h3 style='font-family: Poppins; font-size: 130%;'>Min Variance</h3>Return: {min_var_return}%, Std.: {min_var_risk}% <br><br>{min_var_df.style.set_table_styles(styles).to_html(index=False)}</div>\"\n",
    "    closest_std_html = f\"<div style='display: inline-block; vertical-align: top; margin-right: 20px;'><h3 style='font-family: Poppins; font-size: 130%;'>Risk Matching Portfolio</h3>Return: {closest_std_return}%, Std.: {closest_std_risk}% <br><br>{closest_std_df.style.set_table_styles(styles).to_html(index=False)}</div>\"\n",
    "    retail_html = f\"<div style='display: inline-block; vertical-align: top;'><h3 style='font-family: Poppins; font-size: 130%;'>Retail Portfolio</h3>Return: {retail_return}%, Std.: {retail_std}% <br><br>{retail_asset_allocation_df.style.set_table_styles(styles).to_html(index=False)}</div>\"\n",
    "\n",
    "    # Return the outputs\n",
    "    return fig,max_sharpe_html,min_var_html,closest_std_html,retail_html\n",
    "\n",
    "# function to load, transform and create data set\n",
    "def data_loader (time_start,time_end,retail_asset_classes):\n",
    "\n",
    "\n",
    "    #######   ##                                                                                                                 \n",
    "    #######    ##                                                                                                                \n",
    "        ##     ##                #     #     #  #######  #######  #######  #######           ######   #######  #######  ####### \n",
    "        ####     ##                #     ##   ##  #     #  #     #  #     #     #              #     #  #     #     #     #     # \n",
    "        ##     ##                #     # # # #  #######  #     #  #######     #              #     #  #######     #     ####### \n",
    "    #######    ##                 #     #  #  #  #        #     #  #    #      #              #     #  #     #     #     #     # \n",
    "    #######   ##                  #     #     #  #        #######  #    ##     #              ######   #     #     #     #     # \n",
    "\n",
    "\n",
    "    path = os.path.abspath(\"../Data\")\n",
    "    \n",
    "    # Import quarterly index data from Preqin\n",
    "    preqin_quarter_file = path + '/preqin_export_Private Capital_Quarterly_Index_Chart_2023_5_12.csv'\n",
    "    preqin_data_quarter = pd.read_csv(preqin_quarter_file,delimiter=';', decimal=',')\n",
    "\n",
    "    # Import Bloomberg data\n",
    "    bloomberg_file = path + '/Bloomberg_selected_data.csv'\n",
    "    bloomberg_data = pd.read_csv(bloomberg_file,delimiter=';', decimal=',')\n",
    "\n",
    "    # Import DAX from Yahoo Finance\n",
    "    dax_file = path + '/GDAXI.csv'\n",
    "    dax_data = pd.read_csv(dax_file,delimiter=',', decimal='.')\n",
    "    \n",
    "    # Import SDAX\n",
    "    sdax_file = path + '/SDAX_Historical_Data.csv'\n",
    "    sdax = pd.read_csv(sdax_file,delimiter=',', decimal='.')\n",
    "\n",
    "    # Import Fixed_term_and_savings_deposit returns from Deutsche Bundesbank\n",
    "    savings_file = path + '/Fixed_Term_and_Savings_Deposit_Deutsche_Bundesbank.csv'\n",
    "    savings_data = pd.read_csv(savings_file,delimiter=';', decimal=',')\n",
    "\n",
    "    # Import Investment fund data from Rifinitiv\n",
    "    Investment_fund_file = path + '/German_Investment_funds.csv'\n",
    "    Investment_fund_data = pd.read_csv(Investment_fund_file,delimiter=';', decimal=',')\n",
    "\n",
    "\n",
    "    # Create a dictionary with the asset allocation (incl. similar risk/return proxies) of German Private Housholds in 2022\n",
    "    houshold_data = {\n",
    "    'Asset Class': ['Listed Foreign Public Equity','Other Equity Instruments','State Bonds','Corporate Bonds','Listed Domestic Public Equity','Fixed Term and Savings Deposit','Public Investment Funds','Cash'],\n",
    "    'Allocation': ['5%', '8.4%', '0.73%', '1.46%', '5.9%', '17.1%', '18.6%','42.8%']\n",
    "    }\n",
    "\n",
    "    # Create the dataframe\n",
    "    retail_asset_allocation = pd.DataFrame(houshold_data)\n",
    "\n",
    "\n",
    "    ##   ##   ##                                                                                                                                   \n",
    "    ##   ##    ##                                                                                                                                  \n",
    "    ##   ##     ##             ######   #######  #######  #######           #######  #        #######  #######  #     #     #     #     #  ####### \n",
    "    # #####     ##             #     #  #     #     #     #     #           #        #        #        #     #  ##    #     #     ##    #  #       \n",
    "        ##     ##             #     #  #######     #     #######           #        #        ####     #######  # ### #     #     # ### #  #  #### \n",
    "        ##    ##              #     #  #     #     #     #     #           #        #        #        #     #  #    ##     #     #    ##  #     # \n",
    "        ##   ##               ######   #     #     #     #     #           #######  #######  #######  #     #  #     #     #     #     #  #######\n",
    "\n",
    "\n",
    "    # PREQIN QUARTERLY DATA\n",
    "    # drop the first row\n",
    "    preqin_data_quarter = preqin_data_quarter.drop(0)\n",
    "\n",
    "    # set the new column titles\n",
    "    preqin_data_quarter.columns = preqin_data_quarter.iloc[0]\n",
    "    preqin_data_quarter = preqin_data_quarter.drop(1)\n",
    "\n",
    "    # reset the index\n",
    "    preqin_data_quarter = preqin_data_quarter.reset_index(drop=True)\n",
    "\n",
    "    preqin_data_quarter['DATE'] = pd.to_datetime(preqin_data_quarter['DATE'], format='%b-%y') + pd.offsets.MonthEnd(0)\n",
    "    preqin_data_quarter['DATE'] = preqin_data_quarter['DATE'].dt.strftime('%d.%m.%Y')\n",
    "\n",
    "    # set the date column as the index\n",
    "    preqin_data_quarter = preqin_data_quarter.set_index('DATE')\n",
    "\n",
    "    # convert the index to a DatetimeIndex\n",
    "    preqin_data_quarter.index = pd.to_datetime(preqin_data_quarter.index)\n",
    "\n",
    "    # replace commas with dots in all columns\n",
    "    preqin_data_quarter = preqin_data_quarter.replace(',', '.', regex=True)\n",
    "\n",
    "    # convert the values to numbers\n",
    "    preqin_data_quarter = preqin_data_quarter.apply(pd.to_numeric)\n",
    "\n",
    "    # calculate the quarterly returns\n",
    "    preqin_quarterly_returns = preqin_data_quarter.resample('Q').last().pct_change()\n",
    "\n",
    "    # drop the first row of the quarterly_returns DataFrame\n",
    "    preqin_quarterly_returns = preqin_quarterly_returns.drop(preqin_quarterly_returns.index[0])\n",
    "\n",
    "    # Filter rows based on year condition\n",
    "    # Convert start and end to pd.datetime format\n",
    "    preqin_start = pd.to_datetime(str(time_start))\n",
    "    preqin_end = pd.to_datetime(str(time_end+1))\n",
    "\n",
    "    # Create a boolean mask based on the condition\n",
    "    mask = (preqin_quarterly_returns.index >= preqin_start) & (preqin_quarterly_returns.index <= preqin_end)\n",
    "\n",
    "    # Filter the DataFrame using the boolean mask\n",
    "    preqin_quarterly_returns = preqin_quarterly_returns[mask]\n",
    "\n",
    "\n",
    "    # Convert the \"Date\" column to datetime\n",
    "    bloomberg_data['Date'] = pd.to_datetime(bloomberg_data['Date'], format='%d.%m.%Y')\n",
    "\n",
    "    # Set the \"Date\" column as the index\n",
    "    bloomberg_data.set_index('Date', inplace=True)\n",
    "\n",
    "    # Convert the index to a DatetimeIndex\n",
    "    bloomberg_data.index = pd.to_datetime(bloomberg_data.index)\n",
    "\n",
    "    # Filter rows based on year condition\n",
    "    # Convert start and end to pd.datetime format\n",
    "    x = pd.to_datetime(str(time_start))\n",
    "    y = pd.to_datetime(str(time_end+1))\n",
    "\n",
    "    # Create a boolean mask based on the condition\n",
    "    mask = (bloomberg_data.index >= x) & (bloomberg_data.index <= y)\n",
    "\n",
    "    bloomberg_data = bloomberg_data[mask]\n",
    "\n",
    "    bloomberg_data.drop(bloomberg_data.columns[[0, 2]], axis=1, inplace=True)\n",
    "\n",
    "    # Rename the columns\n",
    "    bloomberg_data.rename(columns={\n",
    "        '% Change': 'Bloomberg Euro Aggregate Corporate Total Return Index EU',\n",
    "        '% Change.1': 'Bloomberg Euro Aggregate Treasury Germany Total Return Index'\n",
    "    }, inplace=True)\n",
    "\n",
    "    # Divide all columns by 100\n",
    "    bloomberg_data = bloomberg_data / 100\n",
    "\n",
    "    # Invert rows\n",
    "    bloomberg_data = bloomberg_data.iloc[::-1]\n",
    "    bloomberg_returns = bloomberg_data.copy()\n",
    "\n",
    "\n",
    "    # DAX DATA\n",
    "    # First, we need to convert the \"Date\" column to a datetime type\n",
    "    dax_data['Date'] = pd.to_datetime(dax_data['Date'])\n",
    "\n",
    "    # Set the \"Date\" column as the index of the DataFrame\n",
    "    dax_data.set_index('Date', inplace=True)\n",
    "\n",
    "    # Create an empty DataFrame to store the monthly returns\n",
    "    dax_monthly_rets = pd.DataFrame(columns=['Year', 'DAX'])\n",
    "\n",
    "    # Calculate and populate the monthly returns\n",
    "    months = dax_data.resample('M').agg({'Close': ['last']})\n",
    "    # Shift the 'Close' column one row to get the previous month's 'Close' price\n",
    "    months['Previous_Close'] = months['Close'].shift(1)\n",
    "\n",
    "    # Calculate the monthly return as the percentage change in 'Close' prices\n",
    "    months['DAX'] = (months['Close','last'] / months['Previous_Close'] - 1)\n",
    "    months.drop(columns=['Previous_Close','Close'], inplace=True)\n",
    "\n",
    "    dax_monthly_rets = months.copy()\n",
    "\n",
    "    # Filter rows based on year condition\n",
    "    # Convert start and end to pd.datetime format\n",
    "    x = pd.to_datetime(str(time_start))\n",
    "    y = pd.to_datetime(str(time_end+1))\n",
    "\n",
    "    # Create a boolean mask based on the condition\n",
    "    mask = (dax_monthly_rets.index >= x) & (dax_monthly_rets.index <= y)\n",
    "\n",
    "    # Filter the DataFrame using the boolean mask\n",
    "    dax_monthly_rets = dax_monthly_rets[mask]\n",
    "\n",
    "    # Remove the second heading level of the multi-level index\n",
    "    dax_monthly_rets.columns = dax_monthly_rets.columns.droplevel(1)\n",
    "    \n",
    "    pd.set_option('display.max_rows', None)\n",
    "\n",
    "    # SDAX DATA\n",
    "    # Step 1: Select the first two columns\n",
    "    sdax = sdax[['Date', 'Price']]\n",
    "\n",
    "    # Step 2: Parse the Date column to datetime\n",
    "    sdax['Date'] = pd.to_datetime(sdax['Date'], format='%m/%d/%Y')\n",
    "\n",
    "    # Step 3: Set the Date column as the index\n",
    "    sdax.set_index('Date', inplace=True)\n",
    "\n",
    "    # Step 4: Remove commas and convert Price column to numeric\n",
    "    sdax['SDAX'] = pd.to_numeric(sdax['Price'].str.replace(',', ''), errors='coerce')\n",
    "\n",
    "    # Drop the original 'Price' column\n",
    "    sdax.drop(columns=['Price'], inplace=True)\n",
    "\n",
    "    # Step 5: Calculate monthly returns\n",
    "    sdax_monthly_returns = sdax['SDAX'].resample('M').first().pct_change()\n",
    "\n",
    "    # Adjust the monthly returns to represent the return for the current month\n",
    "    sdax_monthly_returns.index = sdax_monthly_returns.index + pd.DateOffset(months=-1)\n",
    "\n",
    "    # Step 6: Filter rows based on the year condition\n",
    "    # Convert start and end to pd.datetime format\n",
    "    x = pd.to_datetime(str(time_start), format='%Y')\n",
    "    y = pd.to_datetime(str(time_end+1), format='%Y')\n",
    "\n",
    "    # Create a boolean mask based on the condition\n",
    "    temp_mask = (sdax_monthly_returns.index >= x) & (sdax_monthly_returns.index <= y)\n",
    "\n",
    "    # Filter the DataFrame using the boolean mask\n",
    "    sdax_monthly_rets = sdax_monthly_returns[temp_mask]\n",
    "\n",
    "\n",
    "\n",
    "\n",
    "    # SAVINGS AND DEPOSIT DATA\n",
    "    # Convert Year and Month columns to datetime format and add last day of the month\n",
    "    savings_data['Date'] = pd.to_datetime(savings_data[['Year', 'Month']].assign(day=1)).dt.to_period('M').dt.to_timestamp('M') + pd.offsets.MonthEnd(0)\n",
    "\n",
    "    # Calculate savings_returns based on the provided formula\n",
    "    savings_data['savings_returns'] = (savings_data['Return, % p.a.'] / 12) * 0.01\n",
    "\n",
    "    # Select only the Date and savings_returns columns for the final DataFrame\n",
    "    savings_monthly = savings_data[['Date', 'savings_returns']]\n",
    "\n",
    "    # Set the 'Year' column as the index\n",
    "    savings_monthly = savings_monthly.set_index('Date')\n",
    "\n",
    "    # Create a boolean mask based on the condition\n",
    "    mask = (savings_monthly.index >= x) & (savings_monthly.index <= y)\n",
    "    savings_monthly = savings_monthly[mask]\n",
    "\n",
    "\n",
    "    # Investment Fund\n",
    "    # Delete the first row\n",
    "    Investment_fund_data = Investment_fund_data.iloc[1:]\n",
    "\n",
    "    # Typecast the first column to pd.datetime and name it 'date'\n",
    "    Investment_fund_data['Date'] = pd.to_datetime(Investment_fund_data.iloc[:, 0], format='%d-%b-%Y')\n",
    "\n",
    "    # Set 'date' column as the index\n",
    "    Investment_fund_data.set_index('Date', inplace=True)\n",
    "\n",
    "    # Delete the first column where the old date format is stored‘\n",
    "    Investment_fund_data = Investment_fund_data.iloc[:, 1:]\n",
    "\n",
    "    # Create a new column named 'Investment_Funds' with average return per row\n",
    "    Investment_fund_data['Investment_Funds'] = Investment_fund_data.mean(axis=1)\n",
    "\n",
    "    investment_fund_return = pd.DataFrame(Investment_fund_data['Investment_Funds'])\n",
    "\n",
    "    investment_fund_return = investment_fund_return.drop(investment_fund_return.index[0])\n",
    "    investment_fund_return = investment_fund_return.drop(investment_fund_return.index[0])\n",
    "\n",
    "    # Filter rows based on time condition\n",
    "    investment_fund_return = investment_fund_return.loc[(investment_fund_return.index >= x)& (investment_fund_return.index <= y)]\n",
    "\n",
    "\n",
    "\n",
    "    #######   ##                                                                                                                                                                       \n",
    "    #######    ##                                                                                                                                                                      \n",
    "    #           ##             ######   #######  #######  #######           #######  #######  #######           #######  #######  #######  #######  #######     #     #######  #     # \n",
    "    #######     ##             #     #  #     #     #     #     #           #        #           #              #        #     #  #        #     #     #        #     #     #  ##    # \n",
    "        ##     ##             #     #  #######     #     #######           #######  ####        #              #        #######  ####     #######     #        #     #     #  # ### # \n",
    "    #######    ##              #     #  #     #     #     #     #                 #  #           #              #        #    #   #        #     #     #        #     #     #  #    ## \n",
    "    #######   ##               ######   #     #     #     #     #           #######  #######     #              #######  #    ##  #######  #     #     #        #     #######  #     # \n",
    "\n",
    "\n",
    "\n",
    "\n",
    "    ## SET Creation ##\n",
    "\n",
    "    ## Monthly return set##\n",
    "    dax_monthly_rets = dax_monthly_rets.reset_index()\n",
    "\n",
    "    # Reset index and drop \"Date\" column for sdax\n",
    "    sdax_monthly_rets = sdax_monthly_rets.reset_index().drop(columns=['Date'])\n",
    "\n",
    "    # Reset index and drop \"Date\" column for investment_fund_return\n",
    "    investment_fund_return_reset = investment_fund_return.reset_index().drop(columns=['Date'])\n",
    "\n",
    "    # Reset index and drop \"Date\" column for bloomberg_returns\n",
    "    bloomberg_returns_reset = bloomberg_returns.reset_index().drop(columns=['Date'])\n",
    "\n",
    "    # Reset index and drop \"Date\" column for savings_returns\n",
    "    savings_monthly_reset = savings_monthly.reset_index().drop(columns=['Date'])\n",
    "\n",
    "    # Concatenate the columns of the three dataframes\n",
    "    monthly_returns = pd.concat([dax_monthly_rets, sdax_monthly_rets, investment_fund_return_reset, bloomberg_returns_reset,savings_monthly_reset], axis=1)\n",
    "\n",
    "\n",
    "\n",
    "    ## Quarterly return set##\n",
    "\n",
    "    # Step 2: Set the 'Date' column as the index\n",
    "    monthly_returns.set_index('Date', inplace=True)\n",
    "\n",
    "    combined_quarterly = monthly_returns.groupby(pd.Grouper(freq='Q')).apply(lambda x: (1 + x).prod() - 1)\n",
    "\n",
    "    # Preqin-----------\n",
    "    # Reset index and drop \"Date\" column for bloomberg_returns\n",
    "    preqin_quarterly_returns_reset = preqin_quarterly_returns.reset_index().drop(columns=['DATE'])\n",
    "\n",
    "    # Concatenate the columns of the three dataframes\n",
    "\n",
    "    combined_quarterly_reset = combined_quarterly.reset_index()\n",
    "    quarterly_returns = pd.concat([combined_quarterly_reset, preqin_quarterly_returns_reset], axis=1)\n",
    "\n",
    "    # Add CASH as a 0-constant\n",
    "    quarterly_returns['CASH'] = 0.00\n",
    "\n",
    "\n",
    "    # Define a dictionary to map the old column names to the new column names\n",
    "    column_mapping = {\n",
    "    'S&P 500 TOTAL RETURN': 'Listed Foreign Public Equity',\n",
    "    'SDAX': 'Other Equity Instruments',\n",
    "    'Bloomberg Euro Aggregate Treasury Germany Total Return Index': 'State Bonds',\n",
    "    'Bloomberg Euro Aggregate Corporate Total Return Index EU': 'Corporate Bonds',\n",
    "    'DAX': 'Listed Domestic Public Equity',\n",
    "    'savings_returns': 'Fixed Term and Savings Deposit',\n",
    "    'Investment_Funds': 'Public Investment Funds',\n",
    "    'CASH': 'Cash'\n",
    "    }\n",
    "\n",
    "    # Rename the columns using the column_mapping dictionary\n",
    "    quarterly_returns = quarterly_returns.rename(columns=column_mapping)\n",
    "\n",
    "\n",
    "    ## Annual return set ##\n",
    "\n",
    "\n",
    "    # Create annual return set by grouping by year and summing the quarterly returns to get annual returns, taking into account the compounding effect within each year.\n",
    "    # Set the 'Date' column as the index\n",
    "    quarterly_returns.set_index('Date', inplace=True)\n",
    "\n",
    "    annual_returns = quarterly_returns.groupby(pd.Grouper(freq='Y')).apply(lambda x: (1 + x).prod() - 1)\n",
    "\n",
    "    # Convert index to datetime format and extract year\n",
    "    annual_returns.index = pd.to_datetime(annual_returns.index).year\n",
    "\n",
    "    # Rename the index to 'Year'\n",
    "    annual_returns.index.name = 'Year'\n",
    "\n",
    "\n",
    "    # GERMAN RETIAL INVESTOR PORTFOLIO CREATION\n",
    "\n",
    "\n",
    "    # Select the desired columns from the dataframe\n",
    "    retail_annual_returns = annual_returns[retail_asset_classes]\n",
    "\n",
    "    # Transform the Allocation column to floats\n",
    "    retail_asset_allocation['Allocation'] = retail_asset_allocation['Allocation'].str.rstrip('%').astype(float) / 100\n",
    "\n",
    "    # Set 'Asset Class' as the index\n",
    "    retail_asset_allocation.set_index('Asset Class', inplace=True)\n",
    "\n",
    "    # Calculate weighted returns\n",
    "    weighted_returns = retail_annual_returns.mul(retail_asset_allocation['Allocation'], axis=1)\n",
    "\n",
    "    # Calculate the weighted average return per year\n",
    "    retail_annual_returns['RETURN'] = weighted_returns.sum(axis=1)\n",
    "\n",
    "    # Calculate standard deviation and mean return\n",
    "    retail_std = retail_annual_returns['RETURN'].std()\n",
    "    retail_return = retail_annual_returns['RETURN'].mean()\n",
    "\n",
    "    return annual_returns, quarterly_returns, retail_asset_allocation, retail_annual_returns, retail_return, retail_std\n",
    "\n",
    "\n",
    "#######   ##                                                                                                                                                                                                                    \n",
    "#######    ##                                                                                                                                                                                                                   \n",
    "##          ##             ######   #######  #######  #######  #######     #     #######  #######     #     #     #  #######           #######  #######  #######  #######     #     #######  #######     #     #######  ####### \n",
    "#######     ##             #     #  #        #        #        #     #     #     #     #     #        #     #     #  #                 #           #     #     #     #        #     #           #        #     #        #       \n",
    "##   ##     ##             #     #  ####     #######  #        #######     #     #######     #        #      #   #   ####              #######     #     #######     #        #     #######     #        #     #        ####### \n",
    "#######    ##              #     #  #              #  #        #    #      #     #           #        #       # #    #                       #     #     #     #     #        #           #     #        #     #              # \n",
    "#######   ##               ######   #######  #######  #######  #    ##     #     #           #        #        #     #######           #######     #     #     #     #        #     #######     #        #     #######  ####### \n",
    "\n",
    "# Load data set\n",
    "annual_returns, quarterly_returns, retail_asset_allocation, retail_annual_returns, retail_return, retail_std = data_loader(time_start,time_end,retail_asset_classes)\n",
    "\n",
    "# Define colors for the chart\n",
    "colors = ['#FFDC26', '#FF7F0E', '#2CA02C', '#D62728', '#9467BD', '#1F77B4', '#17becf', '#7F7F7F']\n",
    "\n",
    "# Plot the retail asset allocation chart\n",
    "fig = go.Figure(data=[go.Pie(labels=retail_asset_allocation.index, values=retail_asset_allocation['Allocation'], hole=0.4, marker=dict(colors=colors))])\n",
    "\n",
    "# Set the aspect ratio to make the plot square-sized\n",
    "fig.update_layout(\n",
    "    width=600,\n",
    "    height=600,\n",
    "    legend=dict(orientation='h', y=-0.2)\n",
    ")\n",
    "# Set the axis labels and plot title\n",
    "fig.update_layout(\n",
    "    title='Retail Allocation Plot'\n",
    ")\n",
    "\n",
    "fig.show()\n",
    "\n",
    "# Drop Return column\n",
    "retail_annual_returns.drop(columns=['RETURN'],inplace=True)\n",
    "\n",
    "# Convert the column names (x-axis labels) to lowercase for retail_annual_returns\n",
    "annual_returns.columns = annual_returns.columns.str.lower()\n",
    "quarterly_returns.columns = quarterly_returns.columns.str.lower()\n",
    "\n",
    "# Select asset classes\n",
    "active_classes = [element.lower() for element in active_classes]\n",
    "selected_returns = annual_returns[active_classes]\n",
    "selected_quarterly_returns = quarterly_returns[active_classes]\n",
    "\n",
    "# Calculate summary statistics for each asset class\n",
    "stats = pd.DataFrame(index=['mean', 'median', 'std', 'skewness', 'kurtosis'])\n",
    "for col in selected_quarterly_returns.columns:\n",
    "    selected_quarterly_returns[col] = selected_quarterly_returns[col].astype(float)\n",
    "    selected_returns[col] = selected_returns[col].astype(float)\n",
    "    mean = selected_returns[col].mean()\n",
    "    median = selected_returns[col].median()\n",
    "    std = selected_quarterly_returns[col].std() * np.sqrt(4)\n",
    "    skewness_value = skew(selected_quarterly_returns[col])\n",
    "    kurtosis_value = kurtosis(selected_quarterly_returns[col])\n",
    "    stats[col] = [mean, median, std, skewness_value, kurtosis_value]\n",
    "\n",
    "# Convert the column names (x-axis labels) to lowercase\n",
    "stats.columns = stats.columns.str.lower()\n",
    "\n",
    "# How many assests in the portfolio\n",
    "n_assets = selected_returns.shape[1]\n",
    "\n",
    "# transpose the table\n",
    "stats_selected = stats.T\n",
    "# Rename Index to asset_class\n",
    "stats_selected.rename_axis('asset_class',inplace=True)\n",
    "mus = (stats_selected['mean'])\n",
    "\n",
    "# Covariance matrix of the asset classes based on annualized quarterly returns\n",
    "cov = selected_quarterly_returns.cov() * 4\n",
    "\n",
    "# Create a scatter plot for return/risk analysis\n",
    "fig = go.Figure()\n",
    "\n",
    "fig.add_trace(go.Scatter(\n",
    "    x=stats_selected['std'],\n",
    "    y=stats_selected['mean'],\n",
    "    mode='markers',\n",
    "    marker=dict(\n",
    "        size=10,\n",
    "        color='blue',\n",
    "        symbol='circle'\n",
    "    )\n",
    "))\n",
    "\n",
    "# Set the aspect ratio to make the plot square-sized\n",
    "fig.update_layout(\n",
    "    width=600,\n",
    "    height=600\n",
    ")\n",
    "\n",
    "# Set the axis labels and plot title\n",
    "fig.update_layout(\n",
    "    xaxis=dict(title='Standard Deviation'),\n",
    "    yaxis=dict(title='Mean'),\n",
    "    title='Risk-Return Plot'\n",
    ")\n",
    "\n",
    "# Add annotations for each asset class\n",
    "annotations = [\n",
    "    dict(\n",
    "        x=x_val,\n",
    "        y=y_val,\n",
    "        xref=\"x\",\n",
    "        yref=\"y\",\n",
    "        text=asset,\n",
    "        showarrow=True,\n",
    "        arrowhead=7,\n",
    "        ax=0,\n",
    "        ay=-40\n",
    "    )\n",
    "    for asset, x_val, y_val in zip(stats_selected.index, stats_selected['std'], stats_selected['mean'])\n",
    "]\n",
    "\n",
    "fig.update_layout(\n",
    "    annotations=annotations\n",
    ")\n",
    "\n",
    "# Show the plot\n",
    "fig.show()\n",
    "\n",
    "\n",
    "# Create the line plot\n",
    "fig = go.Figure()\n",
    "\n",
    "for column in selected_returns.columns[1:]:\n",
    "    fig.add_trace(go.Scatter(x=selected_returns.index, y=selected_returns[column], mode='lines', name=column,))\n",
    "\n",
    "# Customize the layout\n",
    "fig.update_layout(\n",
    "    title='Returns Over Time',\n",
    "    xaxis_title='Year',\n",
    "    yaxis_title='Return',\n",
    "    legend_title='Asset Class',\n",
    "    hovermode='x',\n",
    "    height=600,\n",
    "    xaxis=dict(\n",
    "        type='date',\n",
    "        tickformat='%Y',\n",
    "        dtick='M12'\n",
    "    )\n",
    ")\n",
    "\n",
    "# Display the plot\n",
    "fig.show()\n",
    "\n",
    "\n",
    "# Return estimators\n",
    "\n",
    "selected_means = selected_returns.mean()\n",
    "selected_medians = selected_returns.median()\n",
    "\n",
    "# Calculate the annual geometric mean for each asset\n",
    "geometric_means = (selected_returns + 1).prod()**(1 / len(selected_returns)) - 1\n",
    "\n",
    "# Bayes-Stein (shrinkage)\n",
    "# drop cash as 0 const otherwise the matrix cannot be inverted\n",
    "# Find the index number of the column 'cash'\n",
    "index_cash = selected_returns.columns.get_loc('cash')\n",
    "selected_returns_wo_cash = selected_returns.drop(columns='cash')\n",
    "selected_bayes_stein_returns = bayes_stein_returns(selected_returns_wo_cash)\n",
    "# Create a new Series with the \"cash\" asset class and its corresponding return value\n",
    "cash_series = pd.Series([0.0], index=[\"cash\"])\n",
    "# Concatenate the new_series with the original selected_bayes_stein_returns series\n",
    "selected_bayes_stein_returns = pd.concat([selected_bayes_stein_returns.iloc[:index_cash], cash_series, selected_bayes_stein_returns.iloc[index_cash:]])\n",
    "\n",
    "\n",
    "# Risk estimators\n",
    "\n",
    "selected_skewness = selected_returns.skew()\n",
    "selected_kurtosis = selected_returns.kurtosis()\n",
    "selected_std_dev = selected_quarterly_returns.std() * np.sqrt(4)\n",
    "selected_cvar = selected_returns.apply(calculate_cvar, alpha=0.9)\n",
    "\n",
    "\n",
    "# Normality Tests\n",
    "# Perform Jarque-Bera test\n",
    "selected_jb = selected_returns.apply(lambda x: jarque_bera(x)[0])\n",
    "selected_jb_p = selected_returns.apply(lambda x: jarque_bera(x)[1])\n",
    "# Perform Shapiro-Wilk test\n",
    "selected_sw = selected_returns.apply(lambda x: shapiro(x)[0])\n",
    "selected_sw_p = selected_returns.apply(lambda x: shapiro(x)[1])\n",
    "# Perform Anderson-Darling test\n",
    "selected_ad = selected_returns.apply(lambda x: anderson(x, dist='norm')[0])\n",
    "# Create an empty dictionary to store the significance levels\n",
    "significance_levels = {}\n",
    "\n",
    "# Iterate over each column in the DataFrame\n",
    "for column in selected_returns.columns:\n",
    "    # Perform the Anderson-Darling normality test on the column\n",
    "    result = anderson(selected_returns[column])\n",
    "    \n",
    "    # Extract the critical values and significance levels\n",
    "    critical_values = result.critical_values\n",
    "    significance = result.significance_level\n",
    "    \n",
    "    # Find the index at which the null hypothesis can be rejected\n",
    "    rejection_index = next((i for i, cv in enumerate(critical_values) if result.statistic > cv), None)\n",
    "    \n",
    "    # If rejection index is found, find the corresponding significance level\n",
    "    if rejection_index is not None:\n",
    "        rejection_level = significance[rejection_index]\n",
    "    else:\n",
    "        rejection_level = None\n",
    "    \n",
    "    # Store the significance level in the dictionary\n",
    "    significance_levels[column] = rejection_level\n",
    "series_modified =  pd.Series(significance_levels).fillna(-1).astype(int) / 100\n",
    "series_modified[series_modified == -0.01] = np.nan\n",
    "\n",
    "# Create a DataFrame to store the results\n",
    "comparison_df = pd.DataFrame({\n",
    "    ('Return','Mean'): selected_means,\n",
    "    ('Return','Median'): selected_medians,\n",
    "    ('Return','Geometric Mean'): geometric_means,\n",
    "    ('Return','Bayes Stein'): selected_bayes_stein_returns,\n",
    "    ('Risk','Standard Dev.'): selected_std_dev,\n",
    "    ('Risk','Skewness'): selected_skewness,\n",
    "    ('Risk','Kurtosis'): selected_kurtosis,\n",
    "    ('Risk','CVaR'): selected_cvar,\n",
    "    ('Normality Tests', 'Jarque-Bera') : selected_jb,\n",
    "    ('Normality Tests', 'p-value') : selected_jb_p,\n",
    "    ('Normality Tests', 'Shapiro-Wilk') : selected_sw,\n",
    "    ('Normality Tests', 'p-value ') : selected_sw_p,\n",
    "    ('Normality Tests', 'Anderson-Darling') : selected_ad,\n",
    "    ('Normality Tests', 'sig.') : series_modified\n",
    "})\n",
    "\n",
    "comparison_df_save = comparison_df.copy()\n",
    "\n",
    "# Sort the DataFrame by geometric mean in descending order\n",
    "comparison_df.sort_values(('Return','Mean'), ascending=False, inplace= True)\n",
    "\n",
    "# Apply color scale to each column in ascending order\n",
    "comparison_df = comparison_df.style.background_gradient(axis=0)\n",
    "\n",
    "comparison_df = comparison_df.set_table_styles([\n",
    "    {'selector': 'th.col_heading.level0', 'props': [('text-align', 'center')]}\n",
    "])\n",
    "\n",
    "\n",
    "# Display the styled DataFrame\n",
    "display(comparison_df)\n",
    "\n",
    "\n",
    "#######   ##                                                                                                                                                                                                           \n",
    "#######    ##                                                                                                                                                                                                          \n",
    "     ##     ##             #######  #######  #######  #######  #######  #######  #           #     #######           #######     #     #     #  #     #  #        #######  #######     #     #######  #     #  ####### \n",
    "     ##     ##             #     #  #     #  #     #     #     #        #     #  #           #     #     #           #           #     ##   ##  #     #  #        #     #     #        #     #     #  ##    #  #       \n",
    "     ##     ##             #######  #     #  #######     #     ####     #     #  #           #     #     #           #######     #     # # # #  #     #  #        #######     #        #     #     #  # ### #  ####### \n",
    "     ##    ##              #        #     #  #    #      #     #        #     #  #           #     #     #                 #     #     #  #  #  #     #  #        #     #     #        #     #     #  #    ##        # \n",
    "     ##   ##               #        #######  #    ##     #     #        #######  #######     #     #######           #######     #     #     #  #######  #######  #     #     #        #     #######  #     #  ####### \n",
    "\n",
    "\n",
    "\n",
    "# 1) Monte Carlo Simulation - w/o weight restrictions\n",
    "\n",
    "# Create random portfolio weights and indexes\n",
    "mean_variance_pairs_un = []\n",
    "weights_list_un=[]\n",
    "tickers_list_un=[]\n",
    "\n",
    "for i in tqdm(range(n_unrestricted)):\n",
    "    next_i = False\n",
    "    while True:\n",
    "        #- Choose assets randomly without replacement\n",
    "        assets = np.random.choice(list(selected_returns.columns), n_assets, replace=False)\n",
    "        #- Choose weights randomly ensuring they sum to one\n",
    "        weights = np.random.rand(n_assets)\n",
    "        weights = weights/sum(weights)\n",
    "\n",
    "        #-- Loop over asset pairs and compute portfolio return and variance\n",
    "        portfolio_E_Variance = 0\n",
    "        portfolio_E_Return = 0\n",
    "        for i in range(len(assets)):\n",
    "            portfolio_E_Return += weights[i] * mus.loc[assets[i]]\n",
    "            for j in range(len(assets)):\n",
    "                portfolio_E_Variance += weights[i] * weights[j] * cov.loc[assets[i], assets[j]]\n",
    "\n",
    "        #-- Skip over dominated portfolios\n",
    "        for R,V in mean_variance_pairs_un:\n",
    "            if (R > portfolio_E_Return) & (V < portfolio_E_Variance):\n",
    "                next_i = True\n",
    "                break\n",
    "        if next_i:\n",
    "            break\n",
    "\n",
    "        #-- Add the mean/variance pairs to a list for plotting\n",
    "        mean_variance_pairs_un.append([portfolio_E_Return, portfolio_E_Variance])\n",
    "        weights_list_un.append(weights)\n",
    "        tickers_list_un.append(assets)\n",
    "\n",
    "        break\n",
    "\n",
    "\n",
    "\n",
    "# 2) Monte Carlo Simulation - with weight restrictions\n",
    "\n",
    "# Create random portfolio weights and indexes\n",
    "mean_variance_pairs_re = []\n",
    "weights_list_re=[]\n",
    "tickers_list_re=[]\n",
    "\n",
    "for i in tqdm(range(n_restricted)):\n",
    "    next_i = False\n",
    "    while True:\n",
    "        #- Choose assets randomly without replacement\n",
    "        assets = np.random.choice(list(selected_returns.columns), n_assets, replace=False)\n",
    "\n",
    "        # Find the index of 'cash' asset\n",
    "        cash_index = np.where(assets == 'cash')[0]\n",
    "\n",
    "        #- Choose weights randomly ensuring that they don't go above threshold\n",
    "        weights = np.random.rand(n_assets)\n",
    "        weights = weights/sum(weights)\n",
    "        while np.any(weights > max_weight) or (cash_index.size > 0 and weights[cash_index] < cash_min):\n",
    "            weights = np.random.rand(n_assets)\n",
    "            weights = weights/sum(weights)\n",
    "\n",
    "        #-- Loop over asset pairs and compute portfolio return and variance\n",
    "        portfolio_E_Variance = 0\n",
    "        portfolio_E_Return = 0\n",
    "        for i in range(len(assets)):\n",
    "            portfolio_E_Return += weights[i] * mus.loc[assets[i]]\n",
    "            for j in range(len(assets)):\n",
    "                portfolio_E_Variance += weights[i] * weights[j] * cov.loc[assets[i], assets[j]]\n",
    "\n",
    "        #-- Skip over dominated portfolios\n",
    "        for R,V in mean_variance_pairs_re:\n",
    "            if (R > portfolio_E_Return) & (V < portfolio_E_Variance):\n",
    "                next_i = True\n",
    "                break\n",
    "        if next_i:\n",
    "            break\n",
    "\n",
    "        #-- Add the mean/variance pairs to a list for plotting\n",
    "        mean_variance_pairs_re.append([portfolio_E_Return, portfolio_E_Variance])\n",
    "        weights_list_re.append(weights)\n",
    "        tickers_list_re.append(assets)\n",
    "\n",
    "        break\n",
    "    \n",
    "\n",
    "\n",
    "# Plot Portfolio Optimization with EF, and allocations\n",
    "\n",
    "# First set of input parameters\n",
    "title_name_un = 'Efficient Frontier of Unrestricted Portfolio'\n",
    "fig1, max_sharpe_html1, min_var_html1, closest_std_html1, retail_html1 = plot_ef(mean_variance_pairs_un, tickers_list_un, weights_list_un, risk_free_rate,retail_return,retail_std,title_name_un)\n",
    "\n",
    "\n",
    "# Second set of input parameters\n",
    "title_name_re = 'Efficient Frontier of Restricted Portfolio'\n",
    "fig2, max_sharpe_html2, min_var_html2, closest_std_html2, retail_html2 = plot_ef(mean_variance_pairs_re, tickers_list_re, weights_list_re, risk_free_rate,retail_return,retail_std,title_name_re)\n",
    "\n",
    "\n",
    "# Display the subplots\n",
    "fig1.show()\n",
    "# Display the combined HTML code\n",
    "display(HTML(max_sharpe_html1 + min_var_html1 + closest_std_html1 + retail_html1))\n",
    "\n",
    "fig2.show()\n",
    "# Display the combined HTML code\n",
    "display(HTML(max_sharpe_html2 + min_var_html2 + closest_std_html2 + retail_html2))\n"
   ]
  },
  {
   "attachments": {},
   "cell_type": "markdown",
   "metadata": {},
   "source": [
    "# Save Output as CSV"
   ]
  },
  {
   "cell_type": "code",
   "execution_count": 2,
   "metadata": {},
   "outputs": [],
   "source": [
    "cache_pairs_preqin_quarter_re = pd.DataFrame(mean_variance_pairs_re)\n",
    "cache_weights_preqin_quarter_re = pd.DataFrame(weights_list_re)\n",
    "cache_tickers_preqin_quarter_re = pd.DataFrame(tickers_list_re)\n",
    "\n",
    "cache_pairs_preqin_quarter_re.to_csv('Var_cash_No_alt_RE_7_pairs_4')\n",
    "cache_weights_preqin_quarter_re.to_csv('Var_cash_No_alt_RE_7_weights_4')\n",
    "cache_tickers_preqin_quarter_re.to_csv('Var_cash_No_alt_RE_7_tickers_4')"
   ]
  }
 ],
 "metadata": {
  "kernelspec": {
   "display_name": "Python 3",
   "language": "python",
   "name": "python3"
  },
  "language_info": {
   "codemirror_mode": {
    "name": "ipython",
    "version": 3
   },
   "file_extension": ".py",
   "mimetype": "text/x-python",
   "name": "python",
   "nbconvert_exporter": "python",
   "pygments_lexer": "ipython3",
   "version": "3.10.11"
  },
  "orig_nbformat": 4
 },
 "nbformat": 4,
 "nbformat_minor": 2
}
