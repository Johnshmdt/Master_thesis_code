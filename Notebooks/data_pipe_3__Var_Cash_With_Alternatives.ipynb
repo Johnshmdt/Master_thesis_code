{
 "cells": [
  {
   "cell_type": "code",
   "execution_count": 3,
   "metadata": {},
   "outputs": [
    {
     "name": "stderr",
     "output_type": "stream",
     "text": [
      "/var/folders/24/dhffcc6s3hv3z0j3fbnd3tj80000gn/T/ipykernel_8066/1457731559.py:308: UserWarning:\n",
      "\n",
      "Parsing dates in %d.%m.%Y format when dayfirst=False (the default) was specified. Pass `dayfirst=True` or specify a format to silence this warning.\n",
      "\n"
     ]
    },
    {
     "data": {
      "application/vnd.plotly.v1+json": {
       "config": {
        "plotlyServerURL": "https://plot.ly"
       },
       "data": [
        {
         "hole": 0.4,
         "labels": [
          "Listed Foreign Public Equity",
          "Other Equity Instruments",
          "State Bonds",
          "Corporate Bonds",
          "Listed Domestic Public Equity",
          "Fixed Term and Savings Deposit",
          "Public Investment Funds",
          "Cash"
         ],
         "marker": {
          "colors": [
           "#FFDC26",
           "#FF7F0E",
           "#2CA02C",
           "#D62728",
           "#9467BD",
           "#1F77B4",
           "#17becf",
           "#7F7F7F"
          ]
         },
         "type": "pie",
         "values": [
          0.05,
          0.084,
          0.0073,
          0.0146,
          0.059000000000000004,
          0.171,
          0.18600000000000003,
          0.428
         ]
        }
       ],
       "layout": {
        "height": 600,
        "legend": {
         "orientation": "h",
         "y": -0.2
        },
        "template": {
         "data": {
          "bar": [
           {
            "error_x": {
             "color": "#2a3f5f"
            },
            "error_y": {
             "color": "#2a3f5f"
            },
            "marker": {
             "line": {
              "color": "#E5ECF6",
              "width": 0.5
             },
             "pattern": {
              "fillmode": "overlay",
              "size": 10,
              "solidity": 0.2
             }
            },
            "type": "bar"
           }
          ],
          "barpolar": [
           {
            "marker": {
             "line": {
              "color": "#E5ECF6",
              "width": 0.5
             },
             "pattern": {
              "fillmode": "overlay",
              "size": 10,
              "solidity": 0.2
             }
            },
            "type": "barpolar"
           }
          ],
          "carpet": [
           {
            "aaxis": {
             "endlinecolor": "#2a3f5f",
             "gridcolor": "white",
             "linecolor": "white",
             "minorgridcolor": "white",
             "startlinecolor": "#2a3f5f"
            },
            "baxis": {
             "endlinecolor": "#2a3f5f",
             "gridcolor": "white",
             "linecolor": "white",
             "minorgridcolor": "white",
             "startlinecolor": "#2a3f5f"
            },
            "type": "carpet"
           }
          ],
          "choropleth": [
           {
            "colorbar": {
             "outlinewidth": 0,
             "ticks": ""
            },
            "type": "choropleth"
           }
          ],
          "contour": [
           {
            "colorbar": {
             "outlinewidth": 0,
             "ticks": ""
            },
            "colorscale": [
             [
              0,
              "#0d0887"
             ],
             [
              0.1111111111111111,
              "#46039f"
             ],
             [
              0.2222222222222222,
              "#7201a8"
             ],
             [
              0.3333333333333333,
              "#9c179e"
             ],
             [
              0.4444444444444444,
              "#bd3786"
             ],
             [
              0.5555555555555556,
              "#d8576b"
             ],
             [
              0.6666666666666666,
              "#ed7953"
             ],
             [
              0.7777777777777778,
              "#fb9f3a"
             ],
             [
              0.8888888888888888,
              "#fdca26"
             ],
             [
              1,
              "#f0f921"
             ]
            ],
            "type": "contour"
           }
          ],
          "contourcarpet": [
           {
            "colorbar": {
             "outlinewidth": 0,
             "ticks": ""
            },
            "type": "contourcarpet"
           }
          ],
          "heatmap": [
           {
            "colorbar": {
             "outlinewidth": 0,
             "ticks": ""
            },
            "colorscale": [
             [
              0,
              "#0d0887"
             ],
             [
              0.1111111111111111,
              "#46039f"
             ],
             [
              0.2222222222222222,
              "#7201a8"
             ],
             [
              0.3333333333333333,
              "#9c179e"
             ],
             [
              0.4444444444444444,
              "#bd3786"
             ],
             [
              0.5555555555555556,
              "#d8576b"
             ],
             [
              0.6666666666666666,
              "#ed7953"
             ],
             [
              0.7777777777777778,
              "#fb9f3a"
             ],
             [
              0.8888888888888888,
              "#fdca26"
             ],
             [
              1,
              "#f0f921"
             ]
            ],
            "type": "heatmap"
           }
          ],
          "heatmapgl": [
           {
            "colorbar": {
             "outlinewidth": 0,
             "ticks": ""
            },
            "colorscale": [
             [
              0,
              "#0d0887"
             ],
             [
              0.1111111111111111,
              "#46039f"
             ],
             [
              0.2222222222222222,
              "#7201a8"
             ],
             [
              0.3333333333333333,
              "#9c179e"
             ],
             [
              0.4444444444444444,
              "#bd3786"
             ],
             [
              0.5555555555555556,
              "#d8576b"
             ],
             [
              0.6666666666666666,
              "#ed7953"
             ],
             [
              0.7777777777777778,
              "#fb9f3a"
             ],
             [
              0.8888888888888888,
              "#fdca26"
             ],
             [
              1,
              "#f0f921"
             ]
            ],
            "type": "heatmapgl"
           }
          ],
          "histogram": [
           {
            "marker": {
             "pattern": {
              "fillmode": "overlay",
              "size": 10,
              "solidity": 0.2
             }
            },
            "type": "histogram"
           }
          ],
          "histogram2d": [
           {
            "colorbar": {
             "outlinewidth": 0,
             "ticks": ""
            },
            "colorscale": [
             [
              0,
              "#0d0887"
             ],
             [
              0.1111111111111111,
              "#46039f"
             ],
             [
              0.2222222222222222,
              "#7201a8"
             ],
             [
              0.3333333333333333,
              "#9c179e"
             ],
             [
              0.4444444444444444,
              "#bd3786"
             ],
             [
              0.5555555555555556,
              "#d8576b"
             ],
             [
              0.6666666666666666,
              "#ed7953"
             ],
             [
              0.7777777777777778,
              "#fb9f3a"
             ],
             [
              0.8888888888888888,
              "#fdca26"
             ],
             [
              1,
              "#f0f921"
             ]
            ],
            "type": "histogram2d"
           }
          ],
          "histogram2dcontour": [
           {
            "colorbar": {
             "outlinewidth": 0,
             "ticks": ""
            },
            "colorscale": [
             [
              0,
              "#0d0887"
             ],
             [
              0.1111111111111111,
              "#46039f"
             ],
             [
              0.2222222222222222,
              "#7201a8"
             ],
             [
              0.3333333333333333,
              "#9c179e"
             ],
             [
              0.4444444444444444,
              "#bd3786"
             ],
             [
              0.5555555555555556,
              "#d8576b"
             ],
             [
              0.6666666666666666,
              "#ed7953"
             ],
             [
              0.7777777777777778,
              "#fb9f3a"
             ],
             [
              0.8888888888888888,
              "#fdca26"
             ],
             [
              1,
              "#f0f921"
             ]
            ],
            "type": "histogram2dcontour"
           }
          ],
          "mesh3d": [
           {
            "colorbar": {
             "outlinewidth": 0,
             "ticks": ""
            },
            "type": "mesh3d"
           }
          ],
          "parcoords": [
           {
            "line": {
             "colorbar": {
              "outlinewidth": 0,
              "ticks": ""
             }
            },
            "type": "parcoords"
           }
          ],
          "pie": [
           {
            "automargin": true,
            "type": "pie"
           }
          ],
          "scatter": [
           {
            "fillpattern": {
             "fillmode": "overlay",
             "size": 10,
             "solidity": 0.2
            },
            "type": "scatter"
           }
          ],
          "scatter3d": [
           {
            "line": {
             "colorbar": {
              "outlinewidth": 0,
              "ticks": ""
             }
            },
            "marker": {
             "colorbar": {
              "outlinewidth": 0,
              "ticks": ""
             }
            },
            "type": "scatter3d"
           }
          ],
          "scattercarpet": [
           {
            "marker": {
             "colorbar": {
              "outlinewidth": 0,
              "ticks": ""
             }
            },
            "type": "scattercarpet"
           }
          ],
          "scattergeo": [
           {
            "marker": {
             "colorbar": {
              "outlinewidth": 0,
              "ticks": ""
             }
            },
            "type": "scattergeo"
           }
          ],
          "scattergl": [
           {
            "marker": {
             "colorbar": {
              "outlinewidth": 0,
              "ticks": ""
             }
            },
            "type": "scattergl"
           }
          ],
          "scattermapbox": [
           {
            "marker": {
             "colorbar": {
              "outlinewidth": 0,
              "ticks": ""
             }
            },
            "type": "scattermapbox"
           }
          ],
          "scatterpolar": [
           {
            "marker": {
             "colorbar": {
              "outlinewidth": 0,
              "ticks": ""
             }
            },
            "type": "scatterpolar"
           }
          ],
          "scatterpolargl": [
           {
            "marker": {
             "colorbar": {
              "outlinewidth": 0,
              "ticks": ""
             }
            },
            "type": "scatterpolargl"
           }
          ],
          "scatterternary": [
           {
            "marker": {
             "colorbar": {
              "outlinewidth": 0,
              "ticks": ""
             }
            },
            "type": "scatterternary"
           }
          ],
          "surface": [
           {
            "colorbar": {
             "outlinewidth": 0,
             "ticks": ""
            },
            "colorscale": [
             [
              0,
              "#0d0887"
             ],
             [
              0.1111111111111111,
              "#46039f"
             ],
             [
              0.2222222222222222,
              "#7201a8"
             ],
             [
              0.3333333333333333,
              "#9c179e"
             ],
             [
              0.4444444444444444,
              "#bd3786"
             ],
             [
              0.5555555555555556,
              "#d8576b"
             ],
             [
              0.6666666666666666,
              "#ed7953"
             ],
             [
              0.7777777777777778,
              "#fb9f3a"
             ],
             [
              0.8888888888888888,
              "#fdca26"
             ],
             [
              1,
              "#f0f921"
             ]
            ],
            "type": "surface"
           }
          ],
          "table": [
           {
            "cells": {
             "fill": {
              "color": "#EBF0F8"
             },
             "line": {
              "color": "white"
             }
            },
            "header": {
             "fill": {
              "color": "#C8D4E3"
             },
             "line": {
              "color": "white"
             }
            },
            "type": "table"
           }
          ]
         },
         "layout": {
          "annotationdefaults": {
           "arrowcolor": "#2a3f5f",
           "arrowhead": 0,
           "arrowwidth": 1
          },
          "autotypenumbers": "strict",
          "coloraxis": {
           "colorbar": {
            "outlinewidth": 0,
            "ticks": ""
           }
          },
          "colorscale": {
           "diverging": [
            [
             0,
             "#8e0152"
            ],
            [
             0.1,
             "#c51b7d"
            ],
            [
             0.2,
             "#de77ae"
            ],
            [
             0.3,
             "#f1b6da"
            ],
            [
             0.4,
             "#fde0ef"
            ],
            [
             0.5,
             "#f7f7f7"
            ],
            [
             0.6,
             "#e6f5d0"
            ],
            [
             0.7,
             "#b8e186"
            ],
            [
             0.8,
             "#7fbc41"
            ],
            [
             0.9,
             "#4d9221"
            ],
            [
             1,
             "#276419"
            ]
           ],
           "sequential": [
            [
             0,
             "#0d0887"
            ],
            [
             0.1111111111111111,
             "#46039f"
            ],
            [
             0.2222222222222222,
             "#7201a8"
            ],
            [
             0.3333333333333333,
             "#9c179e"
            ],
            [
             0.4444444444444444,
             "#bd3786"
            ],
            [
             0.5555555555555556,
             "#d8576b"
            ],
            [
             0.6666666666666666,
             "#ed7953"
            ],
            [
             0.7777777777777778,
             "#fb9f3a"
            ],
            [
             0.8888888888888888,
             "#fdca26"
            ],
            [
             1,
             "#f0f921"
            ]
           ],
           "sequentialminus": [
            [
             0,
             "#0d0887"
            ],
            [
             0.1111111111111111,
             "#46039f"
            ],
            [
             0.2222222222222222,
             "#7201a8"
            ],
            [
             0.3333333333333333,
             "#9c179e"
            ],
            [
             0.4444444444444444,
             "#bd3786"
            ],
            [
             0.5555555555555556,
             "#d8576b"
            ],
            [
             0.6666666666666666,
             "#ed7953"
            ],
            [
             0.7777777777777778,
             "#fb9f3a"
            ],
            [
             0.8888888888888888,
             "#fdca26"
            ],
            [
             1,
             "#f0f921"
            ]
           ]
          },
          "colorway": [
           "#636efa",
           "#EF553B",
           "#00cc96",
           "#ab63fa",
           "#FFA15A",
           "#19d3f3",
           "#FF6692",
           "#B6E880",
           "#FF97FF",
           "#FECB52"
          ],
          "font": {
           "color": "#2a3f5f"
          },
          "geo": {
           "bgcolor": "white",
           "lakecolor": "white",
           "landcolor": "#E5ECF6",
           "showlakes": true,
           "showland": true,
           "subunitcolor": "white"
          },
          "hoverlabel": {
           "align": "left"
          },
          "hovermode": "closest",
          "mapbox": {
           "style": "light"
          },
          "paper_bgcolor": "white",
          "plot_bgcolor": "#E5ECF6",
          "polar": {
           "angularaxis": {
            "gridcolor": "white",
            "linecolor": "white",
            "ticks": ""
           },
           "bgcolor": "#E5ECF6",
           "radialaxis": {
            "gridcolor": "white",
            "linecolor": "white",
            "ticks": ""
           }
          },
          "scene": {
           "xaxis": {
            "backgroundcolor": "#E5ECF6",
            "gridcolor": "white",
            "gridwidth": 2,
            "linecolor": "white",
            "showbackground": true,
            "ticks": "",
            "zerolinecolor": "white"
           },
           "yaxis": {
            "backgroundcolor": "#E5ECF6",
            "gridcolor": "white",
            "gridwidth": 2,
            "linecolor": "white",
            "showbackground": true,
            "ticks": "",
            "zerolinecolor": "white"
           },
           "zaxis": {
            "backgroundcolor": "#E5ECF6",
            "gridcolor": "white",
            "gridwidth": 2,
            "linecolor": "white",
            "showbackground": true,
            "ticks": "",
            "zerolinecolor": "white"
           }
          },
          "shapedefaults": {
           "line": {
            "color": "#2a3f5f"
           }
          },
          "ternary": {
           "aaxis": {
            "gridcolor": "white",
            "linecolor": "white",
            "ticks": ""
           },
           "baxis": {
            "gridcolor": "white",
            "linecolor": "white",
            "ticks": ""
           },
           "bgcolor": "#E5ECF6",
           "caxis": {
            "gridcolor": "white",
            "linecolor": "white",
            "ticks": ""
           }
          },
          "title": {
           "x": 0.05
          },
          "xaxis": {
           "automargin": true,
           "gridcolor": "white",
           "linecolor": "white",
           "ticks": "",
           "title": {
            "standoff": 15
           },
           "zerolinecolor": "white",
           "zerolinewidth": 2
          },
          "yaxis": {
           "automargin": true,
           "gridcolor": "white",
           "linecolor": "white",
           "ticks": "",
           "title": {
            "standoff": 15
           },
           "zerolinecolor": "white",
           "zerolinewidth": 2
          }
         }
        },
        "title": {
         "text": "Retail Allocation Plot"
        },
        "width": 600
       }
      }
     },
     "metadata": {},
     "output_type": "display_data"
    },
    {
     "data": {
      "application/vnd.plotly.v1+json": {
       "config": {
        "plotlyServerURL": "https://plot.ly"
       },
       "data": [
        {
         "marker": {
          "color": "blue",
          "size": 10,
          "symbol": "circle"
         },
         "mode": "markers",
         "type": "scatter",
         "x": [
          0.1717052542965251,
          0.2059962116376119,
          0.04886485590703823,
          0.045922461411000454,
          0.2371559583411683,
          0.004226186025201353,
          0.14314194252771964,
          0,
          0.09775452547445852,
          0.11391123721528924
         ],
         "y": [
          0.08812702391959704,
          0.10104414462511735,
          0.03006110949658433,
          0.034587268672590175,
          0.06236502674061784,
          0.011391725916927003,
          0.05437986250776696,
          0,
          0.13084115899067775,
          0.06280078148764329
         ]
        }
       ],
       "layout": {
        "annotations": [
         {
          "arrowhead": 7,
          "ax": 0,
          "ay": -40,
          "showarrow": true,
          "text": "listed foreign public equity",
          "x": 0.1717052542965251,
          "xref": "x",
          "y": 0.08812702391959704,
          "yref": "y"
         },
         {
          "arrowhead": 7,
          "ax": 0,
          "ay": -40,
          "showarrow": true,
          "text": "other equity instruments",
          "x": 0.2059962116376119,
          "xref": "x",
          "y": 0.10104414462511735,
          "yref": "y"
         },
         {
          "arrowhead": 7,
          "ax": 0,
          "ay": -40,
          "showarrow": true,
          "text": "state bonds",
          "x": 0.04886485590703823,
          "xref": "x",
          "y": 0.03006110949658433,
          "yref": "y"
         },
         {
          "arrowhead": 7,
          "ax": 0,
          "ay": -40,
          "showarrow": true,
          "text": "corporate bonds",
          "x": 0.045922461411000454,
          "xref": "x",
          "y": 0.034587268672590175,
          "yref": "y"
         },
         {
          "arrowhead": 7,
          "ax": 0,
          "ay": -40,
          "showarrow": true,
          "text": "listed domestic public equity",
          "x": 0.2371559583411683,
          "xref": "x",
          "y": 0.06236502674061784,
          "yref": "y"
         },
         {
          "arrowhead": 7,
          "ax": 0,
          "ay": -40,
          "showarrow": true,
          "text": "fixed term and savings deposit",
          "x": 0.004226186025201353,
          "xref": "x",
          "y": 0.011391725916927003,
          "yref": "y"
         },
         {
          "arrowhead": 7,
          "ax": 0,
          "ay": -40,
          "showarrow": true,
          "text": "public investment funds",
          "x": 0.14314194252771964,
          "xref": "x",
          "y": 0.05437986250776696,
          "yref": "y"
         },
         {
          "arrowhead": 7,
          "ax": 0,
          "ay": -40,
          "showarrow": true,
          "text": "cash",
          "x": 0,
          "xref": "x",
          "y": 0,
          "yref": "y"
         },
         {
          "arrowhead": 7,
          "ax": 0,
          "ay": -40,
          "showarrow": true,
          "text": "buyout",
          "x": 0.09775452547445852,
          "xref": "x",
          "y": 0.13084115899067775,
          "yref": "y"
         },
         {
          "arrowhead": 7,
          "ax": 0,
          "ay": -40,
          "showarrow": true,
          "text": "venture",
          "x": 0.11391123721528924,
          "xref": "x",
          "y": 0.06280078148764329,
          "yref": "y"
         }
        ],
        "height": 600,
        "template": {
         "data": {
          "bar": [
           {
            "error_x": {
             "color": "#2a3f5f"
            },
            "error_y": {
             "color": "#2a3f5f"
            },
            "marker": {
             "line": {
              "color": "#E5ECF6",
              "width": 0.5
             },
             "pattern": {
              "fillmode": "overlay",
              "size": 10,
              "solidity": 0.2
             }
            },
            "type": "bar"
           }
          ],
          "barpolar": [
           {
            "marker": {
             "line": {
              "color": "#E5ECF6",
              "width": 0.5
             },
             "pattern": {
              "fillmode": "overlay",
              "size": 10,
              "solidity": 0.2
             }
            },
            "type": "barpolar"
           }
          ],
          "carpet": [
           {
            "aaxis": {
             "endlinecolor": "#2a3f5f",
             "gridcolor": "white",
             "linecolor": "white",
             "minorgridcolor": "white",
             "startlinecolor": "#2a3f5f"
            },
            "baxis": {
             "endlinecolor": "#2a3f5f",
             "gridcolor": "white",
             "linecolor": "white",
             "minorgridcolor": "white",
             "startlinecolor": "#2a3f5f"
            },
            "type": "carpet"
           }
          ],
          "choropleth": [
           {
            "colorbar": {
             "outlinewidth": 0,
             "ticks": ""
            },
            "type": "choropleth"
           }
          ],
          "contour": [
           {
            "colorbar": {
             "outlinewidth": 0,
             "ticks": ""
            },
            "colorscale": [
             [
              0,
              "#0d0887"
             ],
             [
              0.1111111111111111,
              "#46039f"
             ],
             [
              0.2222222222222222,
              "#7201a8"
             ],
             [
              0.3333333333333333,
              "#9c179e"
             ],
             [
              0.4444444444444444,
              "#bd3786"
             ],
             [
              0.5555555555555556,
              "#d8576b"
             ],
             [
              0.6666666666666666,
              "#ed7953"
             ],
             [
              0.7777777777777778,
              "#fb9f3a"
             ],
             [
              0.8888888888888888,
              "#fdca26"
             ],
             [
              1,
              "#f0f921"
             ]
            ],
            "type": "contour"
           }
          ],
          "contourcarpet": [
           {
            "colorbar": {
             "outlinewidth": 0,
             "ticks": ""
            },
            "type": "contourcarpet"
           }
          ],
          "heatmap": [
           {
            "colorbar": {
             "outlinewidth": 0,
             "ticks": ""
            },
            "colorscale": [
             [
              0,
              "#0d0887"
             ],
             [
              0.1111111111111111,
              "#46039f"
             ],
             [
              0.2222222222222222,
              "#7201a8"
             ],
             [
              0.3333333333333333,
              "#9c179e"
             ],
             [
              0.4444444444444444,
              "#bd3786"
             ],
             [
              0.5555555555555556,
              "#d8576b"
             ],
             [
              0.6666666666666666,
              "#ed7953"
             ],
             [
              0.7777777777777778,
              "#fb9f3a"
             ],
             [
              0.8888888888888888,
              "#fdca26"
             ],
             [
              1,
              "#f0f921"
             ]
            ],
            "type": "heatmap"
           }
          ],
          "heatmapgl": [
           {
            "colorbar": {
             "outlinewidth": 0,
             "ticks": ""
            },
            "colorscale": [
             [
              0,
              "#0d0887"
             ],
             [
              0.1111111111111111,
              "#46039f"
             ],
             [
              0.2222222222222222,
              "#7201a8"
             ],
             [
              0.3333333333333333,
              "#9c179e"
             ],
             [
              0.4444444444444444,
              "#bd3786"
             ],
             [
              0.5555555555555556,
              "#d8576b"
             ],
             [
              0.6666666666666666,
              "#ed7953"
             ],
             [
              0.7777777777777778,
              "#fb9f3a"
             ],
             [
              0.8888888888888888,
              "#fdca26"
             ],
             [
              1,
              "#f0f921"
             ]
            ],
            "type": "heatmapgl"
           }
          ],
          "histogram": [
           {
            "marker": {
             "pattern": {
              "fillmode": "overlay",
              "size": 10,
              "solidity": 0.2
             }
            },
            "type": "histogram"
           }
          ],
          "histogram2d": [
           {
            "colorbar": {
             "outlinewidth": 0,
             "ticks": ""
            },
            "colorscale": [
             [
              0,
              "#0d0887"
             ],
             [
              0.1111111111111111,
              "#46039f"
             ],
             [
              0.2222222222222222,
              "#7201a8"
             ],
             [
              0.3333333333333333,
              "#9c179e"
             ],
             [
              0.4444444444444444,
              "#bd3786"
             ],
             [
              0.5555555555555556,
              "#d8576b"
             ],
             [
              0.6666666666666666,
              "#ed7953"
             ],
             [
              0.7777777777777778,
              "#fb9f3a"
             ],
             [
              0.8888888888888888,
              "#fdca26"
             ],
             [
              1,
              "#f0f921"
             ]
            ],
            "type": "histogram2d"
           }
          ],
          "histogram2dcontour": [
           {
            "colorbar": {
             "outlinewidth": 0,
             "ticks": ""
            },
            "colorscale": [
             [
              0,
              "#0d0887"
             ],
             [
              0.1111111111111111,
              "#46039f"
             ],
             [
              0.2222222222222222,
              "#7201a8"
             ],
             [
              0.3333333333333333,
              "#9c179e"
             ],
             [
              0.4444444444444444,
              "#bd3786"
             ],
             [
              0.5555555555555556,
              "#d8576b"
             ],
             [
              0.6666666666666666,
              "#ed7953"
             ],
             [
              0.7777777777777778,
              "#fb9f3a"
             ],
             [
              0.8888888888888888,
              "#fdca26"
             ],
             [
              1,
              "#f0f921"
             ]
            ],
            "type": "histogram2dcontour"
           }
          ],
          "mesh3d": [
           {
            "colorbar": {
             "outlinewidth": 0,
             "ticks": ""
            },
            "type": "mesh3d"
           }
          ],
          "parcoords": [
           {
            "line": {
             "colorbar": {
              "outlinewidth": 0,
              "ticks": ""
             }
            },
            "type": "parcoords"
           }
          ],
          "pie": [
           {
            "automargin": true,
            "type": "pie"
           }
          ],
          "scatter": [
           {
            "fillpattern": {
             "fillmode": "overlay",
             "size": 10,
             "solidity": 0.2
            },
            "type": "scatter"
           }
          ],
          "scatter3d": [
           {
            "line": {
             "colorbar": {
              "outlinewidth": 0,
              "ticks": ""
             }
            },
            "marker": {
             "colorbar": {
              "outlinewidth": 0,
              "ticks": ""
             }
            },
            "type": "scatter3d"
           }
          ],
          "scattercarpet": [
           {
            "marker": {
             "colorbar": {
              "outlinewidth": 0,
              "ticks": ""
             }
            },
            "type": "scattercarpet"
           }
          ],
          "scattergeo": [
           {
            "marker": {
             "colorbar": {
              "outlinewidth": 0,
              "ticks": ""
             }
            },
            "type": "scattergeo"
           }
          ],
          "scattergl": [
           {
            "marker": {
             "colorbar": {
              "outlinewidth": 0,
              "ticks": ""
             }
            },
            "type": "scattergl"
           }
          ],
          "scattermapbox": [
           {
            "marker": {
             "colorbar": {
              "outlinewidth": 0,
              "ticks": ""
             }
            },
            "type": "scattermapbox"
           }
          ],
          "scatterpolar": [
           {
            "marker": {
             "colorbar": {
              "outlinewidth": 0,
              "ticks": ""
             }
            },
            "type": "scatterpolar"
           }
          ],
          "scatterpolargl": [
           {
            "marker": {
             "colorbar": {
              "outlinewidth": 0,
              "ticks": ""
             }
            },
            "type": "scatterpolargl"
           }
          ],
          "scatterternary": [
           {
            "marker": {
             "colorbar": {
              "outlinewidth": 0,
              "ticks": ""
             }
            },
            "type": "scatterternary"
           }
          ],
          "surface": [
           {
            "colorbar": {
             "outlinewidth": 0,
             "ticks": ""
            },
            "colorscale": [
             [
              0,
              "#0d0887"
             ],
             [
              0.1111111111111111,
              "#46039f"
             ],
             [
              0.2222222222222222,
              "#7201a8"
             ],
             [
              0.3333333333333333,
              "#9c179e"
             ],
             [
              0.4444444444444444,
              "#bd3786"
             ],
             [
              0.5555555555555556,
              "#d8576b"
             ],
             [
              0.6666666666666666,
              "#ed7953"
             ],
             [
              0.7777777777777778,
              "#fb9f3a"
             ],
             [
              0.8888888888888888,
              "#fdca26"
             ],
             [
              1,
              "#f0f921"
             ]
            ],
            "type": "surface"
           }
          ],
          "table": [
           {
            "cells": {
             "fill": {
              "color": "#EBF0F8"
             },
             "line": {
              "color": "white"
             }
            },
            "header": {
             "fill": {
              "color": "#C8D4E3"
             },
             "line": {
              "color": "white"
             }
            },
            "type": "table"
           }
          ]
         },
         "layout": {
          "annotationdefaults": {
           "arrowcolor": "#2a3f5f",
           "arrowhead": 0,
           "arrowwidth": 1
          },
          "autotypenumbers": "strict",
          "coloraxis": {
           "colorbar": {
            "outlinewidth": 0,
            "ticks": ""
           }
          },
          "colorscale": {
           "diverging": [
            [
             0,
             "#8e0152"
            ],
            [
             0.1,
             "#c51b7d"
            ],
            [
             0.2,
             "#de77ae"
            ],
            [
             0.3,
             "#f1b6da"
            ],
            [
             0.4,
             "#fde0ef"
            ],
            [
             0.5,
             "#f7f7f7"
            ],
            [
             0.6,
             "#e6f5d0"
            ],
            [
             0.7,
             "#b8e186"
            ],
            [
             0.8,
             "#7fbc41"
            ],
            [
             0.9,
             "#4d9221"
            ],
            [
             1,
             "#276419"
            ]
           ],
           "sequential": [
            [
             0,
             "#0d0887"
            ],
            [
             0.1111111111111111,
             "#46039f"
            ],
            [
             0.2222222222222222,
             "#7201a8"
            ],
            [
             0.3333333333333333,
             "#9c179e"
            ],
            [
             0.4444444444444444,
             "#bd3786"
            ],
            [
             0.5555555555555556,
             "#d8576b"
            ],
            [
             0.6666666666666666,
             "#ed7953"
            ],
            [
             0.7777777777777778,
             "#fb9f3a"
            ],
            [
             0.8888888888888888,
             "#fdca26"
            ],
            [
             1,
             "#f0f921"
            ]
           ],
           "sequentialminus": [
            [
             0,
             "#0d0887"
            ],
            [
             0.1111111111111111,
             "#46039f"
            ],
            [
             0.2222222222222222,
             "#7201a8"
            ],
            [
             0.3333333333333333,
             "#9c179e"
            ],
            [
             0.4444444444444444,
             "#bd3786"
            ],
            [
             0.5555555555555556,
             "#d8576b"
            ],
            [
             0.6666666666666666,
             "#ed7953"
            ],
            [
             0.7777777777777778,
             "#fb9f3a"
            ],
            [
             0.8888888888888888,
             "#fdca26"
            ],
            [
             1,
             "#f0f921"
            ]
           ]
          },
          "colorway": [
           "#636efa",
           "#EF553B",
           "#00cc96",
           "#ab63fa",
           "#FFA15A",
           "#19d3f3",
           "#FF6692",
           "#B6E880",
           "#FF97FF",
           "#FECB52"
          ],
          "font": {
           "color": "#2a3f5f"
          },
          "geo": {
           "bgcolor": "white",
           "lakecolor": "white",
           "landcolor": "#E5ECF6",
           "showlakes": true,
           "showland": true,
           "subunitcolor": "white"
          },
          "hoverlabel": {
           "align": "left"
          },
          "hovermode": "closest",
          "mapbox": {
           "style": "light"
          },
          "paper_bgcolor": "white",
          "plot_bgcolor": "#E5ECF6",
          "polar": {
           "angularaxis": {
            "gridcolor": "white",
            "linecolor": "white",
            "ticks": ""
           },
           "bgcolor": "#E5ECF6",
           "radialaxis": {
            "gridcolor": "white",
            "linecolor": "white",
            "ticks": ""
           }
          },
          "scene": {
           "xaxis": {
            "backgroundcolor": "#E5ECF6",
            "gridcolor": "white",
            "gridwidth": 2,
            "linecolor": "white",
            "showbackground": true,
            "ticks": "",
            "zerolinecolor": "white"
           },
           "yaxis": {
            "backgroundcolor": "#E5ECF6",
            "gridcolor": "white",
            "gridwidth": 2,
            "linecolor": "white",
            "showbackground": true,
            "ticks": "",
            "zerolinecolor": "white"
           },
           "zaxis": {
            "backgroundcolor": "#E5ECF6",
            "gridcolor": "white",
            "gridwidth": 2,
            "linecolor": "white",
            "showbackground": true,
            "ticks": "",
            "zerolinecolor": "white"
           }
          },
          "shapedefaults": {
           "line": {
            "color": "#2a3f5f"
           }
          },
          "ternary": {
           "aaxis": {
            "gridcolor": "white",
            "linecolor": "white",
            "ticks": ""
           },
           "baxis": {
            "gridcolor": "white",
            "linecolor": "white",
            "ticks": ""
           },
           "bgcolor": "#E5ECF6",
           "caxis": {
            "gridcolor": "white",
            "linecolor": "white",
            "ticks": ""
           }
          },
          "title": {
           "x": 0.05
          },
          "xaxis": {
           "automargin": true,
           "gridcolor": "white",
           "linecolor": "white",
           "ticks": "",
           "title": {
            "standoff": 15
           },
           "zerolinecolor": "white",
           "zerolinewidth": 2
          },
          "yaxis": {
           "automargin": true,
           "gridcolor": "white",
           "linecolor": "white",
           "ticks": "",
           "title": {
            "standoff": 15
           },
           "zerolinecolor": "white",
           "zerolinewidth": 2
          }
         }
        },
        "title": {
         "text": "Risk-Return Plot"
        },
        "width": 600,
        "xaxis": {
         "title": {
          "text": "Standard Deviation"
         }
        },
        "yaxis": {
         "title": {
          "text": "Mean"
         }
        }
       }
      }
     },
     "metadata": {},
     "output_type": "display_data"
    },
    {
     "data": {
      "application/vnd.plotly.v1+json": {
       "config": {
        "plotlyServerURL": "https://plot.ly"
       },
       "data": [
        {
         "mode": "lines",
         "name": "other equity instruments",
         "type": "scatter",
         "x": [
          2001,
          2002,
          2003,
          2004,
          2005,
          2006,
          2007,
          2008,
          2009,
          2010,
          2011,
          2012,
          2013,
          2014,
          2015,
          2016,
          2017,
          2018,
          2019,
          2020,
          2021,
          2022
         ],
         "y": [
          -0.2422148692938576,
          -0.30290212568704045,
          0.6756575431930179,
          0.19259755306823112,
          0.3713501372597958,
          0.2719896875947827,
          -0.2258956780923994,
          -0.43506873547842007,
          0.4287756222761423,
          0.4033599472265308,
          -0.08103157583951037,
          0.219330933594303,
          0.21932519059621325,
          0.08789630891232103,
          0.0940706173233159,
          0.16370244909269882,
          0.26588768307465815,
          -0.1444143987091595,
          0.16104844777946914,
          0.24152257382037567,
          -0.0065028132178501785,
          -0.1355133167410364
         ]
        },
        {
         "mode": "lines",
         "name": "state bonds",
         "type": "scatter",
         "x": [
          2001,
          2002,
          2003,
          2004,
          2005,
          2006,
          2007,
          2008,
          2009,
          2010,
          2011,
          2012,
          2013,
          2014,
          2015,
          2016,
          2017,
          2018,
          2019,
          2020,
          2021,
          2022
         ],
         "y": [
          0.051564477040268564,
          0.09281996519311586,
          0.038743269384384105,
          0.0731971813614658,
          0.05293727069319987,
          -0.0020832172715785635,
          0.018458340951024166,
          0.12347213418286196,
          0.018209019646298286,
          0.06336201696286659,
          0.09646597714668581,
          0.04575818917444785,
          -0.02262341749403385,
          0.10300887483988652,
          0.0033195572553952335,
          0.039685790190897574,
          -0.013644875488571517,
          0.023615938335461717,
          0.0300680101773505,
          0.030132117134514802,
          -0.026772421167350124,
          -0.1783497893237359
         ]
        },
        {
         "mode": "lines",
         "name": "corporate bonds",
         "type": "scatter",
         "x": [
          2001,
          2002,
          2003,
          2004,
          2005,
          2006,
          2007,
          2008,
          2009,
          2010,
          2011,
          2012,
          2013,
          2014,
          2015,
          2016,
          2017,
          2018,
          2019,
          2020,
          2021,
          2022
         ],
         "y": [
          0.06446024335562006,
          0.08535369693722505,
          0.06774446644035748,
          0.07549687015224382,
          0.039577015037701724,
          0.005388059531847178,
          0.00022112357010417583,
          -0.03758978337463936,
          0.15710180410174912,
          0.04747090764920703,
          0.014860263021752917,
          0.1359262628893232,
          0.0237027408242394,
          0.08395289242589987,
          -0.005629996800249892,
          0.04727407783575277,
          0.02412259689682017,
          -0.01252020007055421,
          0.06240420452914752,
          0.027715075594111127,
          -0.009655618535664323,
          -0.13645679121501098
         ]
        },
        {
         "mode": "lines",
         "name": "listed domestic public equity",
         "type": "scatter",
         "x": [
          2001,
          2002,
          2003,
          2004,
          2005,
          2006,
          2007,
          2008,
          2009,
          2010,
          2011,
          2012,
          2013,
          2014,
          2015,
          2016,
          2017,
          2018,
          2019,
          2020,
          2021,
          2022
         ],
         "y": [
          -0.19794637724677977,
          -0.43942368790071484,
          0.3707802492476704,
          0.07336908786946283,
          0.27071381808714223,
          0.21978606935131428,
          0.22289188278553773,
          -0.4037424696254365,
          0.23849942507434418,
          0.160599408928767,
          -0.14692102063558288,
          0.2905965245401749,
          0.25481747310503056,
          0.026526947293784575,
          0.09560503792678454,
          0.06870046849774059,
          0.12512608868904262,
          -0.1825937052954707,
          0.2547646562668884,
          0.03545702775505055,
          0.15789159355974802,
          -0.12346790998090618
         ]
        },
        {
         "mode": "lines",
         "name": "fixed term and savings deposit",
         "type": "scatter",
         "x": [
          2001,
          2002,
          2003,
          2004,
          2005,
          2006,
          2007,
          2008,
          2009,
          2010,
          2011,
          2012,
          2013,
          2014,
          2015,
          2016,
          2017,
          2018,
          2019,
          2020,
          2021,
          2022
         ],
         "y": [
          0.01198195593910123,
          0.010281462982107747,
          0.022248658561928147,
          0.021475184755861854,
          0.020642755985264882,
          0.020821067531406,
          0.02373772177464195,
          0.025467503620899556,
          0.01831836508422624,
          0.014233666460454097,
          0.015280988846678722,
          0.013271666163983342,
          0.009928215268076634,
          0.0076600589720619006,
          0.004618066170502644,
          0.0029539839452201733,
          0.002018530765197424,
          0.0015928278045085342,
          0.0012757451248257556,
          0.0010505053556539856,
          0.0008586709137343718,
          0.0009003681460588719
         ]
        },
        {
         "mode": "lines",
         "name": "public investment funds",
         "type": "scatter",
         "x": [
          2001,
          2002,
          2003,
          2004,
          2005,
          2006,
          2007,
          2008,
          2009,
          2010,
          2011,
          2012,
          2013,
          2014,
          2015,
          2016,
          2017,
          2018,
          2019,
          2020,
          2021,
          2022
         ],
         "y": [
          -0.16894646557869186,
          -0.2975961453592547,
          0.2553001800400905,
          0.09242701528933717,
          0.22239948462821024,
          0.1406622789538503,
          0.09402390119402493,
          -0.234811476417628,
          0.3076817017680209,
          0.1445164521505491,
          -0.014791614263139463,
          0.16613685063244987,
          0.11771743473985241,
          0.08457254142991566,
          0.07291794299155763,
          0.04863276659318072,
          0.06594991833152841,
          -0.09872861203386019,
          0.16883269329400963,
          0.04049697490678561,
          0.12134395763341677,
          -0.13238080575333244
         ]
        },
        {
         "mode": "lines",
         "name": "cash",
         "type": "scatter",
         "x": [
          2001,
          2002,
          2003,
          2004,
          2005,
          2006,
          2007,
          2008,
          2009,
          2010,
          2011,
          2012,
          2013,
          2014,
          2015,
          2016,
          2017,
          2018,
          2019,
          2020,
          2021,
          2022
         ],
         "y": [
          0,
          0,
          0,
          0,
          0,
          0,
          0,
          0,
          0,
          0,
          0,
          0,
          0,
          0,
          0,
          0,
          0,
          0,
          0,
          0,
          0,
          0
         ]
        },
        {
         "mode": "lines",
         "name": "buyout",
         "type": "scatter",
         "x": [
          2001,
          2002,
          2003,
          2004,
          2005,
          2006,
          2007,
          2008,
          2009,
          2010,
          2011,
          2012,
          2013,
          2014,
          2015,
          2016,
          2017,
          2018,
          2019,
          2020,
          2021,
          2022
         ],
         "y": [
          -0.09599999999999975,
          -0.09070796460176977,
          0.20681265206812638,
          0.23790322580645173,
          0.2662866449511403,
          0.2585209003215434,
          0.23556463975472663,
          -0.2539288668320927,
          0.10144124168514401,
          0.19677906391545075,
          0.07022708158116053,
          0.15245579567779965,
          0.20115922263893626,
          0.10928186204938983,
          0.11003070624360323,
          0.14153988012909124,
          0.2156704361873989,
          0.09401993355481708,
          0.15350744002429395,
          0.24983546136632873,
          0.364718272775145,
          -0.04661213150177479
         ]
        },
        {
         "mode": "lines",
         "name": "venture",
         "type": "scatter",
         "x": [
          2001,
          2002,
          2003,
          2004,
          2005,
          2006,
          2007,
          2008,
          2009,
          2010,
          2011,
          2012,
          2013,
          2014,
          2015,
          2016,
          2017,
          2018,
          2019,
          2020,
          2021,
          2022
         ],
         "y": [
          -0.3579999999999999,
          -0.3099688473520249,
          -0.04966139954853255,
          0.049881235154394465,
          0.04298642533936636,
          0.1409978308026032,
          0.18821292775665377,
          -0.18079999999999985,
          0.025390624999999778,
          0.09904761904761905,
          0.08492201039861369,
          0.06869009584664543,
          0.21823617339312418,
          0.18527607361963216,
          0.08799171842650089,
          -0.0057088487155090295,
          0.12248803827751176,
          0.13981244671781767,
          0.16753926701570698,
          0.3824471492632928,
          0.48470806302131564,
          -0.20287141073657922
         ]
        }
       ],
       "layout": {
        "height": 600,
        "hovermode": "x",
        "legend": {
         "title": {
          "text": "Asset Class"
         }
        },
        "template": {
         "data": {
          "bar": [
           {
            "error_x": {
             "color": "#2a3f5f"
            },
            "error_y": {
             "color": "#2a3f5f"
            },
            "marker": {
             "line": {
              "color": "#E5ECF6",
              "width": 0.5
             },
             "pattern": {
              "fillmode": "overlay",
              "size": 10,
              "solidity": 0.2
             }
            },
            "type": "bar"
           }
          ],
          "barpolar": [
           {
            "marker": {
             "line": {
              "color": "#E5ECF6",
              "width": 0.5
             },
             "pattern": {
              "fillmode": "overlay",
              "size": 10,
              "solidity": 0.2
             }
            },
            "type": "barpolar"
           }
          ],
          "carpet": [
           {
            "aaxis": {
             "endlinecolor": "#2a3f5f",
             "gridcolor": "white",
             "linecolor": "white",
             "minorgridcolor": "white",
             "startlinecolor": "#2a3f5f"
            },
            "baxis": {
             "endlinecolor": "#2a3f5f",
             "gridcolor": "white",
             "linecolor": "white",
             "minorgridcolor": "white",
             "startlinecolor": "#2a3f5f"
            },
            "type": "carpet"
           }
          ],
          "choropleth": [
           {
            "colorbar": {
             "outlinewidth": 0,
             "ticks": ""
            },
            "type": "choropleth"
           }
          ],
          "contour": [
           {
            "colorbar": {
             "outlinewidth": 0,
             "ticks": ""
            },
            "colorscale": [
             [
              0,
              "#0d0887"
             ],
             [
              0.1111111111111111,
              "#46039f"
             ],
             [
              0.2222222222222222,
              "#7201a8"
             ],
             [
              0.3333333333333333,
              "#9c179e"
             ],
             [
              0.4444444444444444,
              "#bd3786"
             ],
             [
              0.5555555555555556,
              "#d8576b"
             ],
             [
              0.6666666666666666,
              "#ed7953"
             ],
             [
              0.7777777777777778,
              "#fb9f3a"
             ],
             [
              0.8888888888888888,
              "#fdca26"
             ],
             [
              1,
              "#f0f921"
             ]
            ],
            "type": "contour"
           }
          ],
          "contourcarpet": [
           {
            "colorbar": {
             "outlinewidth": 0,
             "ticks": ""
            },
            "type": "contourcarpet"
           }
          ],
          "heatmap": [
           {
            "colorbar": {
             "outlinewidth": 0,
             "ticks": ""
            },
            "colorscale": [
             [
              0,
              "#0d0887"
             ],
             [
              0.1111111111111111,
              "#46039f"
             ],
             [
              0.2222222222222222,
              "#7201a8"
             ],
             [
              0.3333333333333333,
              "#9c179e"
             ],
             [
              0.4444444444444444,
              "#bd3786"
             ],
             [
              0.5555555555555556,
              "#d8576b"
             ],
             [
              0.6666666666666666,
              "#ed7953"
             ],
             [
              0.7777777777777778,
              "#fb9f3a"
             ],
             [
              0.8888888888888888,
              "#fdca26"
             ],
             [
              1,
              "#f0f921"
             ]
            ],
            "type": "heatmap"
           }
          ],
          "heatmapgl": [
           {
            "colorbar": {
             "outlinewidth": 0,
             "ticks": ""
            },
            "colorscale": [
             [
              0,
              "#0d0887"
             ],
             [
              0.1111111111111111,
              "#46039f"
             ],
             [
              0.2222222222222222,
              "#7201a8"
             ],
             [
              0.3333333333333333,
              "#9c179e"
             ],
             [
              0.4444444444444444,
              "#bd3786"
             ],
             [
              0.5555555555555556,
              "#d8576b"
             ],
             [
              0.6666666666666666,
              "#ed7953"
             ],
             [
              0.7777777777777778,
              "#fb9f3a"
             ],
             [
              0.8888888888888888,
              "#fdca26"
             ],
             [
              1,
              "#f0f921"
             ]
            ],
            "type": "heatmapgl"
           }
          ],
          "histogram": [
           {
            "marker": {
             "pattern": {
              "fillmode": "overlay",
              "size": 10,
              "solidity": 0.2
             }
            },
            "type": "histogram"
           }
          ],
          "histogram2d": [
           {
            "colorbar": {
             "outlinewidth": 0,
             "ticks": ""
            },
            "colorscale": [
             [
              0,
              "#0d0887"
             ],
             [
              0.1111111111111111,
              "#46039f"
             ],
             [
              0.2222222222222222,
              "#7201a8"
             ],
             [
              0.3333333333333333,
              "#9c179e"
             ],
             [
              0.4444444444444444,
              "#bd3786"
             ],
             [
              0.5555555555555556,
              "#d8576b"
             ],
             [
              0.6666666666666666,
              "#ed7953"
             ],
             [
              0.7777777777777778,
              "#fb9f3a"
             ],
             [
              0.8888888888888888,
              "#fdca26"
             ],
             [
              1,
              "#f0f921"
             ]
            ],
            "type": "histogram2d"
           }
          ],
          "histogram2dcontour": [
           {
            "colorbar": {
             "outlinewidth": 0,
             "ticks": ""
            },
            "colorscale": [
             [
              0,
              "#0d0887"
             ],
             [
              0.1111111111111111,
              "#46039f"
             ],
             [
              0.2222222222222222,
              "#7201a8"
             ],
             [
              0.3333333333333333,
              "#9c179e"
             ],
             [
              0.4444444444444444,
              "#bd3786"
             ],
             [
              0.5555555555555556,
              "#d8576b"
             ],
             [
              0.6666666666666666,
              "#ed7953"
             ],
             [
              0.7777777777777778,
              "#fb9f3a"
             ],
             [
              0.8888888888888888,
              "#fdca26"
             ],
             [
              1,
              "#f0f921"
             ]
            ],
            "type": "histogram2dcontour"
           }
          ],
          "mesh3d": [
           {
            "colorbar": {
             "outlinewidth": 0,
             "ticks": ""
            },
            "type": "mesh3d"
           }
          ],
          "parcoords": [
           {
            "line": {
             "colorbar": {
              "outlinewidth": 0,
              "ticks": ""
             }
            },
            "type": "parcoords"
           }
          ],
          "pie": [
           {
            "automargin": true,
            "type": "pie"
           }
          ],
          "scatter": [
           {
            "fillpattern": {
             "fillmode": "overlay",
             "size": 10,
             "solidity": 0.2
            },
            "type": "scatter"
           }
          ],
          "scatter3d": [
           {
            "line": {
             "colorbar": {
              "outlinewidth": 0,
              "ticks": ""
             }
            },
            "marker": {
             "colorbar": {
              "outlinewidth": 0,
              "ticks": ""
             }
            },
            "type": "scatter3d"
           }
          ],
          "scattercarpet": [
           {
            "marker": {
             "colorbar": {
              "outlinewidth": 0,
              "ticks": ""
             }
            },
            "type": "scattercarpet"
           }
          ],
          "scattergeo": [
           {
            "marker": {
             "colorbar": {
              "outlinewidth": 0,
              "ticks": ""
             }
            },
            "type": "scattergeo"
           }
          ],
          "scattergl": [
           {
            "marker": {
             "colorbar": {
              "outlinewidth": 0,
              "ticks": ""
             }
            },
            "type": "scattergl"
           }
          ],
          "scattermapbox": [
           {
            "marker": {
             "colorbar": {
              "outlinewidth": 0,
              "ticks": ""
             }
            },
            "type": "scattermapbox"
           }
          ],
          "scatterpolar": [
           {
            "marker": {
             "colorbar": {
              "outlinewidth": 0,
              "ticks": ""
             }
            },
            "type": "scatterpolar"
           }
          ],
          "scatterpolargl": [
           {
            "marker": {
             "colorbar": {
              "outlinewidth": 0,
              "ticks": ""
             }
            },
            "type": "scatterpolargl"
           }
          ],
          "scatterternary": [
           {
            "marker": {
             "colorbar": {
              "outlinewidth": 0,
              "ticks": ""
             }
            },
            "type": "scatterternary"
           }
          ],
          "surface": [
           {
            "colorbar": {
             "outlinewidth": 0,
             "ticks": ""
            },
            "colorscale": [
             [
              0,
              "#0d0887"
             ],
             [
              0.1111111111111111,
              "#46039f"
             ],
             [
              0.2222222222222222,
              "#7201a8"
             ],
             [
              0.3333333333333333,
              "#9c179e"
             ],
             [
              0.4444444444444444,
              "#bd3786"
             ],
             [
              0.5555555555555556,
              "#d8576b"
             ],
             [
              0.6666666666666666,
              "#ed7953"
             ],
             [
              0.7777777777777778,
              "#fb9f3a"
             ],
             [
              0.8888888888888888,
              "#fdca26"
             ],
             [
              1,
              "#f0f921"
             ]
            ],
            "type": "surface"
           }
          ],
          "table": [
           {
            "cells": {
             "fill": {
              "color": "#EBF0F8"
             },
             "line": {
              "color": "white"
             }
            },
            "header": {
             "fill": {
              "color": "#C8D4E3"
             },
             "line": {
              "color": "white"
             }
            },
            "type": "table"
           }
          ]
         },
         "layout": {
          "annotationdefaults": {
           "arrowcolor": "#2a3f5f",
           "arrowhead": 0,
           "arrowwidth": 1
          },
          "autotypenumbers": "strict",
          "coloraxis": {
           "colorbar": {
            "outlinewidth": 0,
            "ticks": ""
           }
          },
          "colorscale": {
           "diverging": [
            [
             0,
             "#8e0152"
            ],
            [
             0.1,
             "#c51b7d"
            ],
            [
             0.2,
             "#de77ae"
            ],
            [
             0.3,
             "#f1b6da"
            ],
            [
             0.4,
             "#fde0ef"
            ],
            [
             0.5,
             "#f7f7f7"
            ],
            [
             0.6,
             "#e6f5d0"
            ],
            [
             0.7,
             "#b8e186"
            ],
            [
             0.8,
             "#7fbc41"
            ],
            [
             0.9,
             "#4d9221"
            ],
            [
             1,
             "#276419"
            ]
           ],
           "sequential": [
            [
             0,
             "#0d0887"
            ],
            [
             0.1111111111111111,
             "#46039f"
            ],
            [
             0.2222222222222222,
             "#7201a8"
            ],
            [
             0.3333333333333333,
             "#9c179e"
            ],
            [
             0.4444444444444444,
             "#bd3786"
            ],
            [
             0.5555555555555556,
             "#d8576b"
            ],
            [
             0.6666666666666666,
             "#ed7953"
            ],
            [
             0.7777777777777778,
             "#fb9f3a"
            ],
            [
             0.8888888888888888,
             "#fdca26"
            ],
            [
             1,
             "#f0f921"
            ]
           ],
           "sequentialminus": [
            [
             0,
             "#0d0887"
            ],
            [
             0.1111111111111111,
             "#46039f"
            ],
            [
             0.2222222222222222,
             "#7201a8"
            ],
            [
             0.3333333333333333,
             "#9c179e"
            ],
            [
             0.4444444444444444,
             "#bd3786"
            ],
            [
             0.5555555555555556,
             "#d8576b"
            ],
            [
             0.6666666666666666,
             "#ed7953"
            ],
            [
             0.7777777777777778,
             "#fb9f3a"
            ],
            [
             0.8888888888888888,
             "#fdca26"
            ],
            [
             1,
             "#f0f921"
            ]
           ]
          },
          "colorway": [
           "#636efa",
           "#EF553B",
           "#00cc96",
           "#ab63fa",
           "#FFA15A",
           "#19d3f3",
           "#FF6692",
           "#B6E880",
           "#FF97FF",
           "#FECB52"
          ],
          "font": {
           "color": "#2a3f5f"
          },
          "geo": {
           "bgcolor": "white",
           "lakecolor": "white",
           "landcolor": "#E5ECF6",
           "showlakes": true,
           "showland": true,
           "subunitcolor": "white"
          },
          "hoverlabel": {
           "align": "left"
          },
          "hovermode": "closest",
          "mapbox": {
           "style": "light"
          },
          "paper_bgcolor": "white",
          "plot_bgcolor": "#E5ECF6",
          "polar": {
           "angularaxis": {
            "gridcolor": "white",
            "linecolor": "white",
            "ticks": ""
           },
           "bgcolor": "#E5ECF6",
           "radialaxis": {
            "gridcolor": "white",
            "linecolor": "white",
            "ticks": ""
           }
          },
          "scene": {
           "xaxis": {
            "backgroundcolor": "#E5ECF6",
            "gridcolor": "white",
            "gridwidth": 2,
            "linecolor": "white",
            "showbackground": true,
            "ticks": "",
            "zerolinecolor": "white"
           },
           "yaxis": {
            "backgroundcolor": "#E5ECF6",
            "gridcolor": "white",
            "gridwidth": 2,
            "linecolor": "white",
            "showbackground": true,
            "ticks": "",
            "zerolinecolor": "white"
           },
           "zaxis": {
            "backgroundcolor": "#E5ECF6",
            "gridcolor": "white",
            "gridwidth": 2,
            "linecolor": "white",
            "showbackground": true,
            "ticks": "",
            "zerolinecolor": "white"
           }
          },
          "shapedefaults": {
           "line": {
            "color": "#2a3f5f"
           }
          },
          "ternary": {
           "aaxis": {
            "gridcolor": "white",
            "linecolor": "white",
            "ticks": ""
           },
           "baxis": {
            "gridcolor": "white",
            "linecolor": "white",
            "ticks": ""
           },
           "bgcolor": "#E5ECF6",
           "caxis": {
            "gridcolor": "white",
            "linecolor": "white",
            "ticks": ""
           }
          },
          "title": {
           "x": 0.05
          },
          "xaxis": {
           "automargin": true,
           "gridcolor": "white",
           "linecolor": "white",
           "ticks": "",
           "title": {
            "standoff": 15
           },
           "zerolinecolor": "white",
           "zerolinewidth": 2
          },
          "yaxis": {
           "automargin": true,
           "gridcolor": "white",
           "linecolor": "white",
           "ticks": "",
           "title": {
            "standoff": 15
           },
           "zerolinecolor": "white",
           "zerolinewidth": 2
          }
         }
        },
        "title": {
         "text": "Returns Over Time"
        },
        "xaxis": {
         "dtick": "M12",
         "tickformat": "%Y",
         "title": {
          "text": "Year"
         },
         "type": "date"
        },
        "yaxis": {
         "title": {
          "text": "Return"
         }
        }
       }
      }
     },
     "metadata": {},
     "output_type": "display_data"
    },
    {
     "name": "stdout",
     "output_type": "stream",
     "text": [
      "The weighting coefficient in Bayes-Stein shrinkage: 0.2811\n"
     ]
    },
    {
     "name": "stderr",
     "output_type": "stream",
     "text": [
      "/Users/johannesschmidt/Documents/Masterarbeit/.conda/lib/python3.10/site-packages/scipy/stats/_morestats.py:1813: UserWarning:\n",
      "\n",
      "Input data for shapiro has range zero. The results may not be accurate.\n",
      "\n",
      "/Users/johannesschmidt/Documents/Masterarbeit/.conda/lib/python3.10/site-packages/scipy/stats/_morestats.py:1948: RuntimeWarning:\n",
      "\n",
      "invalid value encountered in divide\n",
      "\n"
     ]
    },
    {
     "data": {
      "text/html": [
       "<style type=\"text/css\">\n",
       "#T_bc024 th.col_heading.level0 {\n",
       "  text-align: center;\n",
       "}\n",
       "#T_bc024_row0_col0, #T_bc024_row0_col2, #T_bc024_row0_col3, #T_bc024_row0_col12, #T_bc024_row1_col1, #T_bc024_row1_col9, #T_bc024_row4_col4, #T_bc024_row4_col7, #T_bc024_row7_col6, #T_bc024_row7_col8, #T_bc024_row8_col5, #T_bc024_row9_col10, #T_bc024_row9_col11 {\n",
       "  background-color: #023858;\n",
       "  color: #f1f1f1;\n",
       "}\n",
       "#T_bc024_row0_col1 {\n",
       "  background-color: #03476f;\n",
       "  color: #f1f1f1;\n",
       "}\n",
       "#T_bc024_row0_col4 {\n",
       "  background-color: #97b7d7;\n",
       "  color: #000000;\n",
       "}\n",
       "#T_bc024_row0_col5 {\n",
       "  background-color: #b7c5df;\n",
       "  color: #000000;\n",
       "}\n",
       "#T_bc024_row0_col6 {\n",
       "  background-color: #9fbad9;\n",
       "  color: #000000;\n",
       "}\n",
       "#T_bc024_row0_col7, #T_bc024_row5_col0 {\n",
       "  background-color: #96b6d7;\n",
       "  color: #000000;\n",
       "}\n",
       "#T_bc024_row0_col8 {\n",
       "  background-color: #e2dfee;\n",
       "  color: #000000;\n",
       "}\n",
       "#T_bc024_row0_col9 {\n",
       "  background-color: #eae6f1;\n",
       "  color: #000000;\n",
       "}\n",
       "#T_bc024_row0_col10 {\n",
       "  background-color: #b1c2de;\n",
       "  color: #000000;\n",
       "}\n",
       "#T_bc024_row0_col11 {\n",
       "  background-color: #f8f1f8;\n",
       "  color: #000000;\n",
       "}\n",
       "#T_bc024_row0_col13, #T_bc024_row1_col8, #T_bc024_row1_col12, #T_bc024_row1_col13, #T_bc024_row2_col13, #T_bc024_row3_col13, #T_bc024_row4_col13, #T_bc024_row5_col13, #T_bc024_row6_col13, #T_bc024_row7_col5, #T_bc024_row7_col9, #T_bc024_row7_col10, #T_bc024_row7_col11, #T_bc024_row7_col13, #T_bc024_row8_col6, #T_bc024_row8_col7, #T_bc024_row8_col13, #T_bc024_row9_col0, #T_bc024_row9_col1, #T_bc024_row9_col2, #T_bc024_row9_col3, #T_bc024_row9_col4, #T_bc024_row9_col7, #T_bc024_row9_col13 {\n",
       "  background-color: #fff7fb;\n",
       "  color: #000000;\n",
       "}\n",
       "#T_bc024_row1_col0 {\n",
       "  background-color: #056caa;\n",
       "  color: #f1f1f1;\n",
       "}\n",
       "#T_bc024_row1_col2 {\n",
       "  background-color: #5c9fc9;\n",
       "  color: #f1f1f1;\n",
       "}\n",
       "#T_bc024_row1_col3 {\n",
       "  background-color: #056ba7;\n",
       "  color: #f1f1f1;\n",
       "}\n",
       "#T_bc024_row1_col4 {\n",
       "  background-color: #045b8e;\n",
       "  color: #f1f1f1;\n",
       "}\n",
       "#T_bc024_row1_col5, #T_bc024_row7_col12, #T_bc024_row8_col12 {\n",
       "  background-color: #045c90;\n",
       "  color: #f1f1f1;\n",
       "}\n",
       "#T_bc024_row1_col6 {\n",
       "  background-color: #e0deed;\n",
       "  color: #000000;\n",
       "}\n",
       "#T_bc024_row1_col7 {\n",
       "  background-color: #04598c;\n",
       "  color: #f1f1f1;\n",
       "}\n",
       "#T_bc024_row1_col10 {\n",
       "  background-color: #04629a;\n",
       "  color: #f1f1f1;\n",
       "}\n",
       "#T_bc024_row1_col11 {\n",
       "  background-color: #045d92;\n",
       "  color: #f1f1f1;\n",
       "}\n",
       "#T_bc024_row2_col0 {\n",
       "  background-color: #2383ba;\n",
       "  color: #f1f1f1;\n",
       "}\n",
       "#T_bc024_row2_col1 {\n",
       "  background-color: #04649d;\n",
       "  color: #f1f1f1;\n",
       "}\n",
       "#T_bc024_row2_col2 {\n",
       "  background-color: #4697c4;\n",
       "  color: #f1f1f1;\n",
       "}\n",
       "#T_bc024_row2_col3, #T_bc024_row4_col1 {\n",
       "  background-color: #2081b9;\n",
       "  color: #f1f1f1;\n",
       "}\n",
       "#T_bc024_row2_col4 {\n",
       "  background-color: #0f76b3;\n",
       "  color: #f1f1f1;\n",
       "}\n",
       "#T_bc024_row2_col5, #T_bc024_row8_col9 {\n",
       "  background-color: #93b5d6;\n",
       "  color: #000000;\n",
       "}\n",
       "#T_bc024_row2_col6 {\n",
       "  background-color: #c0c9e2;\n",
       "  color: #000000;\n",
       "}\n",
       "#T_bc024_row2_col7 {\n",
       "  background-color: #187cb6;\n",
       "  color: #f1f1f1;\n",
       "}\n",
       "#T_bc024_row2_col8, #T_bc024_row4_col8 {\n",
       "  background-color: #f0eaf4;\n",
       "  color: #000000;\n",
       "}\n",
       "#T_bc024_row2_col9, #T_bc024_row4_col2 {\n",
       "  background-color: #c1cae2;\n",
       "  color: #000000;\n",
       "}\n",
       "#T_bc024_row2_col10, #T_bc024_row3_col0, #T_bc024_row3_col4, #T_bc024_row4_col0 {\n",
       "  background-color: #7dacd1;\n",
       "  color: #f1f1f1;\n",
       "}\n",
       "#T_bc024_row2_col11, #T_bc024_row6_col8 {\n",
       "  background-color: #ede8f3;\n",
       "  color: #000000;\n",
       "}\n",
       "#T_bc024_row2_col12 {\n",
       "  background-color: #91b5d6;\n",
       "  color: #000000;\n",
       "}\n",
       "#T_bc024_row3_col1 {\n",
       "  background-color: #63a2cb;\n",
       "  color: #f1f1f1;\n",
       "}\n",
       "#T_bc024_row3_col2 {\n",
       "  background-color: #abbfdc;\n",
       "  color: #000000;\n",
       "}\n",
       "#T_bc024_row3_col3, #T_bc024_row4_col3 {\n",
       "  background-color: #76aad0;\n",
       "  color: #f1f1f1;\n",
       "}\n",
       "#T_bc024_row3_col5 {\n",
       "  background-color: #056ead;\n",
       "  color: #f1f1f1;\n",
       "}\n",
       "#T_bc024_row3_col6 {\n",
       "  background-color: #bbc7e0;\n",
       "  color: #000000;\n",
       "}\n",
       "#T_bc024_row3_col7 {\n",
       "  background-color: #0569a4;\n",
       "  color: #f1f1f1;\n",
       "}\n",
       "#T_bc024_row3_col8 {\n",
       "  background-color: #fef6fb;\n",
       "  color: #000000;\n",
       "}\n",
       "#T_bc024_row3_col9 {\n",
       "  background-color: #03456c;\n",
       "  color: #f1f1f1;\n",
       "}\n",
       "#T_bc024_row3_col10 {\n",
       "  background-color: #3d93c2;\n",
       "  color: #f1f1f1;\n",
       "}\n",
       "#T_bc024_row3_col11 {\n",
       "  background-color: #c6cce3;\n",
       "  color: #000000;\n",
       "}\n",
       "#T_bc024_row3_col12, #T_bc024_row6_col10 {\n",
       "  background-color: #3790c0;\n",
       "  color: #f1f1f1;\n",
       "}\n",
       "#T_bc024_row4_col5 {\n",
       "  background-color: #94b6d7;\n",
       "  color: #000000;\n",
       "}\n",
       "#T_bc024_row4_col6, #T_bc024_row7_col0 {\n",
       "  background-color: #d5d5e8;\n",
       "  color: #000000;\n",
       "}\n",
       "#T_bc024_row4_col9 {\n",
       "  background-color: #c2cbe2;\n",
       "  color: #000000;\n",
       "}\n",
       "#T_bc024_row4_col10 {\n",
       "  background-color: #b9c6e0;\n",
       "  color: #000000;\n",
       "}\n",
       "#T_bc024_row4_col11 {\n",
       "  background-color: #faf2f8;\n",
       "  color: #000000;\n",
       "}\n",
       "#T_bc024_row4_col12, #T_bc024_row9_col5 {\n",
       "  background-color: #034d79;\n",
       "  color: #f1f1f1;\n",
       "}\n",
       "#T_bc024_row5_col1 {\n",
       "  background-color: #5ea0ca;\n",
       "  color: #f1f1f1;\n",
       "}\n",
       "#T_bc024_row5_col2 {\n",
       "  background-color: #afc1dd;\n",
       "  color: #000000;\n",
       "}\n",
       "#T_bc024_row5_col3 {\n",
       "  background-color: #8fb4d6;\n",
       "  color: #000000;\n",
       "}\n",
       "#T_bc024_row5_col4 {\n",
       "  background-color: #4094c3;\n",
       "  color: #f1f1f1;\n",
       "}\n",
       "#T_bc024_row5_col5 {\n",
       "  background-color: #73a9cf;\n",
       "  color: #f1f1f1;\n",
       "}\n",
       "#T_bc024_row5_col6 {\n",
       "  background-color: #d2d3e7;\n",
       "  color: #000000;\n",
       "}\n",
       "#T_bc024_row5_col7 {\n",
       "  background-color: #348ebf;\n",
       "  color: #f1f1f1;\n",
       "}\n",
       "#T_bc024_row5_col8, #T_bc024_row8_col1 {\n",
       "  background-color: #f5eef6;\n",
       "  color: #000000;\n",
       "}\n",
       "#T_bc024_row5_col9 {\n",
       "  background-color: #8eb3d5;\n",
       "  color: #000000;\n",
       "}\n",
       "#T_bc024_row5_col10 {\n",
       "  background-color: #6ba5cd;\n",
       "  color: #f1f1f1;\n",
       "}\n",
       "#T_bc024_row5_col11 {\n",
       "  background-color: #e6e2ef;\n",
       "  color: #000000;\n",
       "}\n",
       "#T_bc024_row5_col12 {\n",
       "  background-color: #0872b1;\n",
       "  color: #f1f1f1;\n",
       "}\n",
       "#T_bc024_row6_col0 {\n",
       "  background-color: #cccfe5;\n",
       "  color: #000000;\n",
       "}\n",
       "#T_bc024_row6_col1, #T_bc024_row6_col7, #T_bc024_row7_col1, #T_bc024_row9_col6 {\n",
       "  background-color: #d9d8ea;\n",
       "  color: #000000;\n",
       "}\n",
       "#T_bc024_row6_col2 {\n",
       "  background-color: #c9cee4;\n",
       "  color: #000000;\n",
       "}\n",
       "#T_bc024_row6_col3 {\n",
       "  background-color: #c4cbe3;\n",
       "  color: #000000;\n",
       "}\n",
       "#T_bc024_row6_col4 {\n",
       "  background-color: #dddbec;\n",
       "  color: #000000;\n",
       "}\n",
       "#T_bc024_row6_col5 {\n",
       "  background-color: #3b92c1;\n",
       "  color: #f1f1f1;\n",
       "}\n",
       "#T_bc024_row6_col6 {\n",
       "  background-color: #62a2cb;\n",
       "  color: #f1f1f1;\n",
       "}\n",
       "#T_bc024_row6_col9, #T_bc024_row7_col7 {\n",
       "  background-color: #d2d2e7;\n",
       "  color: #000000;\n",
       "}\n",
       "#T_bc024_row6_col11 {\n",
       "  background-color: #bdc8e1;\n",
       "  color: #000000;\n",
       "}\n",
       "#T_bc024_row6_col12 {\n",
       "  background-color: #dedcec;\n",
       "  color: #000000;\n",
       "}\n",
       "#T_bc024_row7_col2 {\n",
       "  background-color: #d4d4e8;\n",
       "  color: #000000;\n",
       "}\n",
       "#T_bc024_row7_col3 {\n",
       "  background-color: #d0d1e6;\n",
       "  color: #000000;\n",
       "}\n",
       "#T_bc024_row7_col4 {\n",
       "  background-color: #dad9ea;\n",
       "  color: #000000;\n",
       "}\n",
       "#T_bc024_row8_col0 {\n",
       "  background-color: #f2ecf5;\n",
       "  color: #000000;\n",
       "}\n",
       "#T_bc024_row8_col2 {\n",
       "  background-color: #f1ebf4;\n",
       "  color: #000000;\n",
       "}\n",
       "#T_bc024_row8_col3 {\n",
       "  background-color: #eee8f3;\n",
       "  color: #000000;\n",
       "}\n",
       "#T_bc024_row8_col4 {\n",
       "  background-color: #fdf5fa;\n",
       "  color: #000000;\n",
       "}\n",
       "#T_bc024_row8_col8 {\n",
       "  background-color: #f4eef6;\n",
       "  color: #000000;\n",
       "}\n",
       "#T_bc024_row8_col10 {\n",
       "  background-color: #d1d2e6;\n",
       "  color: #000000;\n",
       "}\n",
       "#T_bc024_row8_col11 {\n",
       "  background-color: #fcf4fa;\n",
       "  color: #000000;\n",
       "}\n",
       "#T_bc024_row9_col8, #T_bc024_row9_col9, #T_bc024_row9_col12 {\n",
       "  background-color: #000000;\n",
       "  color: #f1f1f1;\n",
       "}\n",
       "</style>\n",
       "<table id=\"T_bc024\">\n",
       "  <thead>\n",
       "    <tr>\n",
       "      <th class=\"blank level0\" >&nbsp;</th>\n",
       "      <th id=\"T_bc024_level0_col0\" class=\"col_heading level0 col0\" colspan=\"4\">Return</th>\n",
       "      <th id=\"T_bc024_level0_col4\" class=\"col_heading level0 col4\" colspan=\"4\">Risk</th>\n",
       "      <th id=\"T_bc024_level0_col8\" class=\"col_heading level0 col8\" colspan=\"6\">Normality Tests</th>\n",
       "    </tr>\n",
       "    <tr>\n",
       "      <th class=\"blank level1\" >&nbsp;</th>\n",
       "      <th id=\"T_bc024_level1_col0\" class=\"col_heading level1 col0\" >Mean</th>\n",
       "      <th id=\"T_bc024_level1_col1\" class=\"col_heading level1 col1\" >Median</th>\n",
       "      <th id=\"T_bc024_level1_col2\" class=\"col_heading level1 col2\" >Geometric Mean</th>\n",
       "      <th id=\"T_bc024_level1_col3\" class=\"col_heading level1 col3\" >Bayes Stein</th>\n",
       "      <th id=\"T_bc024_level1_col4\" class=\"col_heading level1 col4\" >Standard Dev.</th>\n",
       "      <th id=\"T_bc024_level1_col5\" class=\"col_heading level1 col5\" >Skewness</th>\n",
       "      <th id=\"T_bc024_level1_col6\" class=\"col_heading level1 col6\" >Kurtosis</th>\n",
       "      <th id=\"T_bc024_level1_col7\" class=\"col_heading level1 col7\" >CVaR</th>\n",
       "      <th id=\"T_bc024_level1_col8\" class=\"col_heading level1 col8\" >Jarque-Bera</th>\n",
       "      <th id=\"T_bc024_level1_col9\" class=\"col_heading level1 col9\" >p-value</th>\n",
       "      <th id=\"T_bc024_level1_col10\" class=\"col_heading level1 col10\" >Shapiro-Wilk</th>\n",
       "      <th id=\"T_bc024_level1_col11\" class=\"col_heading level1 col11\" >p-value </th>\n",
       "      <th id=\"T_bc024_level1_col12\" class=\"col_heading level1 col12\" >Anderson-Darling</th>\n",
       "      <th id=\"T_bc024_level1_col13\" class=\"col_heading level1 col13\" >sig.</th>\n",
       "    </tr>\n",
       "  </thead>\n",
       "  <tbody>\n",
       "    <tr>\n",
       "      <th id=\"T_bc024_level0_row0\" class=\"row_heading level0 row0\" >buyout</th>\n",
       "      <td id=\"T_bc024_row0_col0\" class=\"data row0 col0\" >0.130841</td>\n",
       "      <td id=\"T_bc024_row0_col1\" class=\"data row0 col1\" >0.152982</td>\n",
       "      <td id=\"T_bc024_row0_col2\" class=\"data row0 col2\" >0.121057</td>\n",
       "      <td id=\"T_bc024_row0_col3\" class=\"data row0 col3\" >0.096982</td>\n",
       "      <td id=\"T_bc024_row0_col4\" class=\"data row0 col4\" >0.097755</td>\n",
       "      <td id=\"T_bc024_row0_col5\" class=\"data row0 col5\" >-1.090071</td>\n",
       "      <td id=\"T_bc024_row0_col6\" class=\"data row0 col6\" >1.245473</td>\n",
       "      <td id=\"T_bc024_row0_col7\" class=\"data row0 col7\" >0.174964</td>\n",
       "      <td id=\"T_bc024_row0_col8\" class=\"data row0 col8\" >4.246122</td>\n",
       "      <td id=\"T_bc024_row0_col9\" class=\"data row0 col9\" >0.119665</td>\n",
       "      <td id=\"T_bc024_row0_col10\" class=\"data row0 col10\" >0.911788</td>\n",
       "      <td id=\"T_bc024_row0_col11\" class=\"data row0 col11\" >0.051495</td>\n",
       "      <td id=\"T_bc024_row0_col12\" class=\"data row0 col12\" >0.784920</td>\n",
       "      <td id=\"T_bc024_row0_col13\" class=\"data row0 col13\" >0.150000</td>\n",
       "    </tr>\n",
       "    <tr>\n",
       "      <th id=\"T_bc024_level0_row1\" class=\"row_heading level0 row1\" >other equity instruments</th>\n",
       "      <td id=\"T_bc024_row1_col0\" class=\"data row1 col0\" >0.101044</td>\n",
       "      <td id=\"T_bc024_row1_col1\" class=\"data row1 col1\" >0.162375</td>\n",
       "      <td id=\"T_bc024_row1_col2\" class=\"data row1 col2\" >0.066204</td>\n",
       "      <td id=\"T_bc024_row1_col3\" class=\"data row1 col3\" >0.075561</td>\n",
       "      <td id=\"T_bc024_row1_col4\" class=\"data row1 col4\" >0.205996</td>\n",
       "      <td id=\"T_bc024_row1_col5\" class=\"data row1 col5\" >-0.107798</td>\n",
       "      <td id=\"T_bc024_row1_col6\" class=\"data row1 col6\" >-0.266724</td>\n",
       "      <td id=\"T_bc024_row1_col7\" class=\"data row1 col7\" >0.368985</td>\n",
       "      <td id=\"T_bc024_row1_col8\" class=\"data row1 col8\" >0.239997</td>\n",
       "      <td id=\"T_bc024_row1_col9\" class=\"data row1 col9\" >0.886922</td>\n",
       "      <td id=\"T_bc024_row1_col10\" class=\"data row1 col10\" >0.976796</td>\n",
       "      <td id=\"T_bc024_row1_col11\" class=\"data row1 col11\" >0.859329</td>\n",
       "      <td id=\"T_bc024_row1_col12\" class=\"data row1 col12\" >0.291602</td>\n",
       "      <td id=\"T_bc024_row1_col13\" class=\"data row1 col13\" >nan</td>\n",
       "    </tr>\n",
       "    <tr>\n",
       "      <th id=\"T_bc024_level0_row2\" class=\"row_heading level0 row2\" >listed foreign public equity</th>\n",
       "      <td id=\"T_bc024_row2_col0\" class=\"data row2 col0\" >0.088127</td>\n",
       "      <td id=\"T_bc024_row2_col1\" class=\"data row2 col1\" >0.132876</td>\n",
       "      <td id=\"T_bc024_row2_col2\" class=\"data row2 col2\" >0.071606</td>\n",
       "      <td id=\"T_bc024_row2_col3\" class=\"data row2 col3\" >0.066275</td>\n",
       "      <td id=\"T_bc024_row2_col4\" class=\"data row2 col4\" >0.171705</td>\n",
       "      <td id=\"T_bc024_row2_col5\" class=\"data row2 col5\" >-0.913325</td>\n",
       "      <td id=\"T_bc024_row2_col6\" class=\"data row2 col6\" >0.594628</td>\n",
       "      <td id=\"T_bc024_row2_col7\" class=\"data row2 col7\" >0.295545</td>\n",
       "      <td id=\"T_bc024_row2_col8\" class=\"data row2 col8\" >2.687396</td>\n",
       "      <td id=\"T_bc024_row2_col9\" class=\"data row2 col9\" >0.260879</td>\n",
       "      <td id=\"T_bc024_row2_col10\" class=\"data row2 col10\" >0.930300</td>\n",
       "      <td id=\"T_bc024_row2_col11\" class=\"data row2 col11\" >0.124478</td>\n",
       "      <td id=\"T_bc024_row2_col12\" class=\"data row2 col12\" >0.502639</td>\n",
       "      <td id=\"T_bc024_row2_col13\" class=\"data row2 col13\" >nan</td>\n",
       "    </tr>\n",
       "    <tr>\n",
       "      <th id=\"T_bc024_level0_row3\" class=\"row_heading level0 row3\" >venture</th>\n",
       "      <td id=\"T_bc024_row3_col0\" class=\"data row3 col0\" >0.062801</td>\n",
       "      <td id=\"T_bc024_row3_col1\" class=\"data row3 col1\" >0.086457</td>\n",
       "      <td id=\"T_bc024_row3_col2\" class=\"data row3 col2\" >0.043542</td>\n",
       "      <td id=\"T_bc024_row3_col3\" class=\"data row3 col3\" >0.048068</td>\n",
       "      <td id=\"T_bc024_row3_col4\" class=\"data row3 col4\" >0.113911</td>\n",
       "      <td id=\"T_bc024_row3_col5\" class=\"data row3 col5\" >-0.291164</td>\n",
       "      <td id=\"T_bc024_row3_col6\" class=\"data row3 col6\" >0.695092</td>\n",
       "      <td id=\"T_bc024_row3_col7\" class=\"data row3 col7\" >0.333984</td>\n",
       "      <td id=\"T_bc024_row3_col8\" class=\"data row3 col8\" >0.344108</td>\n",
       "      <td id=\"T_bc024_row3_col9\" class=\"data row3 col9\" >0.841934</td>\n",
       "      <td id=\"T_bc024_row3_col10\" class=\"data row3 col10\" >0.947837</td>\n",
       "      <td id=\"T_bc024_row3_col11\" class=\"data row3 col11\" >0.285957</td>\n",
       "      <td id=\"T_bc024_row3_col12\" class=\"data row3 col12\" >0.598240</td>\n",
       "      <td id=\"T_bc024_row3_col13\" class=\"data row3 col13\" >0.150000</td>\n",
       "    </tr>\n",
       "    <tr>\n",
       "      <th id=\"T_bc024_level0_row4\" class=\"row_heading level0 row4\" >listed domestic public equity</th>\n",
       "      <td id=\"T_bc024_row4_col0\" class=\"data row4 col0\" >0.062365</td>\n",
       "      <td id=\"T_bc024_row4_col1\" class=\"data row4 col1\" >0.110366</td>\n",
       "      <td id=\"T_bc024_row4_col2\" class=\"data row4 col2\" >0.035716</td>\n",
       "      <td id=\"T_bc024_row4_col3\" class=\"data row4 col3\" >0.047755</td>\n",
       "      <td id=\"T_bc024_row4_col4\" class=\"data row4 col4\" >0.237156</td>\n",
       "      <td id=\"T_bc024_row4_col5\" class=\"data row4 col5\" >-0.919237</td>\n",
       "      <td id=\"T_bc024_row4_col6\" class=\"data row4 col6\" >0.105557</td>\n",
       "      <td id=\"T_bc024_row4_col7\" class=\"data row4 col7\" >0.421583</td>\n",
       "      <td id=\"T_bc024_row4_col8\" class=\"data row4 col8\" >2.711513</td>\n",
       "      <td id=\"T_bc024_row4_col9\" class=\"data row4 col9\" >0.257752</td>\n",
       "      <td id=\"T_bc024_row4_col10\" class=\"data row4 col10\" >0.908985</td>\n",
       "      <td id=\"T_bc024_row4_col11\" class=\"data row4 col11\" >0.045138</td>\n",
       "      <td id=\"T_bc024_row4_col12\" class=\"data row4 col12\" >0.745511</td>\n",
       "      <td id=\"T_bc024_row4_col13\" class=\"data row4 col13\" >0.150000</td>\n",
       "    </tr>\n",
       "    <tr>\n",
       "      <th id=\"T_bc024_level0_row5\" class=\"row_heading level0 row5\" >public investment funds</th>\n",
       "      <td id=\"T_bc024_row5_col0\" class=\"data row5 col0\" >0.054380</td>\n",
       "      <td id=\"T_bc024_row5_col1\" class=\"data row5 col1\" >0.088500</td>\n",
       "      <td id=\"T_bc024_row5_col2\" class=\"data row5 col2\" >0.042356</td>\n",
       "      <td id=\"T_bc024_row5_col3\" class=\"data row5 col3\" >0.042014</td>\n",
       "      <td id=\"T_bc024_row5_col4\" class=\"data row5 col4\" >0.143142</td>\n",
       "      <td id=\"T_bc024_row5_col5\" class=\"data row5 col5\" >-0.770682</td>\n",
       "      <td id=\"T_bc024_row5_col6\" class=\"data row5 col6\" >0.171441</td>\n",
       "      <td id=\"T_bc024_row5_col7\" class=\"data row5 col7\" >0.266204</td>\n",
       "      <td id=\"T_bc024_row5_col8\" class=\"data row5 col8\" >1.900106</td>\n",
       "      <td id=\"T_bc024_row5_col9\" class=\"data row5 col9\" >0.386720</td>\n",
       "      <td id=\"T_bc024_row5_col10\" class=\"data row5 col10\" >0.935524</td>\n",
       "      <td id=\"T_bc024_row5_col11\" class=\"data row5 col11\" >0.159889</td>\n",
       "      <td id=\"T_bc024_row5_col12\" class=\"data row5 col12\" >0.656816</td>\n",
       "      <td id=\"T_bc024_row5_col13\" class=\"data row5 col13\" >0.150000</td>\n",
       "    </tr>\n",
       "    <tr>\n",
       "      <th id=\"T_bc024_level0_row6\" class=\"row_heading level0 row6\" >corporate bonds</th>\n",
       "      <td id=\"T_bc024_row6_col0\" class=\"data row6 col0\" >0.034587</td>\n",
       "      <td id=\"T_bc024_row6_col1\" class=\"data row6 col1\" >0.033646</td>\n",
       "      <td id=\"T_bc024_row6_col2\" class=\"data row6 col2\" >0.032826</td>\n",
       "      <td id=\"T_bc024_row6_col3\" class=\"data row6 col3\" >0.027785</td>\n",
       "      <td id=\"T_bc024_row6_col4\" class=\"data row6 col4\" >0.045922</td>\n",
       "      <td id=\"T_bc024_row6_col5\" class=\"data row6 col5\" >-0.560459</td>\n",
       "      <td id=\"T_bc024_row6_col6\" class=\"data row6 col6\" >2.236911</td>\n",
       "      <td id=\"T_bc024_row6_col7\" class=\"data row6 col7\" >0.087023</td>\n",
       "      <td id=\"T_bc024_row6_col8\" class=\"data row6 col8\" >3.056992</td>\n",
       "      <td id=\"T_bc024_row6_col9\" class=\"data row6 col9\" >0.216862</td>\n",
       "      <td id=\"T_bc024_row6_col10\" class=\"data row6 col10\" >0.949720</td>\n",
       "      <td id=\"T_bc024_row6_col11\" class=\"data row6 col11\" >0.311835</td>\n",
       "      <td id=\"T_bc024_row6_col12\" class=\"data row6 col12\" >0.384402</td>\n",
       "      <td id=\"T_bc024_row6_col13\" class=\"data row6 col13\" >nan</td>\n",
       "    </tr>\n",
       "    <tr>\n",
       "      <th id=\"T_bc024_level0_row7\" class=\"row_heading level0 row7\" >state bonds</th>\n",
       "      <td id=\"T_bc024_row7_col0\" class=\"data row7 col0\" >0.030061</td>\n",
       "      <td id=\"T_bc024_row7_col1\" class=\"data row7 col1\" >0.034438</td>\n",
       "      <td id=\"T_bc024_row7_col2\" class=\"data row7 col2\" >0.028160</td>\n",
       "      <td id=\"T_bc024_row7_col3\" class=\"data row7 col3\" >0.024531</td>\n",
       "      <td id=\"T_bc024_row7_col4\" class=\"data row7 col4\" >0.048865</td>\n",
       "      <td id=\"T_bc024_row7_col5\" class=\"data row7 col5\" >-1.694842</td>\n",
       "      <td id=\"T_bc024_row7_col6\" class=\"data row7 col6\" >5.455305</td>\n",
       "      <td id=\"T_bc024_row7_col7\" class=\"data row7 col7\" >0.102561</td>\n",
       "      <td id=\"T_bc024_row7_col8\" class=\"data row7 col8\" >24.014550</td>\n",
       "      <td id=\"T_bc024_row7_col9\" class=\"data row7 col9\" >0.000006</td>\n",
       "      <td id=\"T_bc024_row7_col10\" class=\"data row7 col10\" >0.866124</td>\n",
       "      <td id=\"T_bc024_row7_col11\" class=\"data row7 col11\" >0.006636</td>\n",
       "      <td id=\"T_bc024_row7_col12\" class=\"data row7 col12\" >0.715732</td>\n",
       "      <td id=\"T_bc024_row7_col13\" class=\"data row7 col13\" >0.150000</td>\n",
       "    </tr>\n",
       "    <tr>\n",
       "      <th id=\"T_bc024_level0_row8\" class=\"row_heading level0 row8\" >fixed term and savings deposit</th>\n",
       "      <td id=\"T_bc024_row8_col0\" class=\"data row8 col0\" >0.011392</td>\n",
       "      <td id=\"T_bc024_row8_col1\" class=\"data row8 col1\" >0.011132</td>\n",
       "      <td id=\"T_bc024_row8_col2\" class=\"data row8 col2\" >0.011357</td>\n",
       "      <td id=\"T_bc024_row8_col3\" class=\"data row8 col3\" >0.011110</td>\n",
       "      <td id=\"T_bc024_row8_col4\" class=\"data row8 col4\" >0.004226</td>\n",
       "      <td id=\"T_bc024_row8_col5\" class=\"data row8 col5\" >0.148531</td>\n",
       "      <td id=\"T_bc024_row8_col6\" class=\"data row8 col6\" >-1.489419</td>\n",
       "      <td id=\"T_bc024_row8_col7\" class=\"data row8 col7\" >-0.000880</td>\n",
       "      <td id=\"T_bc024_row8_col8\" class=\"data row8 col8\" >1.951533</td>\n",
       "      <td id=\"T_bc024_row8_col9\" class=\"data row8 col9\" >0.376903</td>\n",
       "      <td id=\"T_bc024_row8_col10\" class=\"data row8 col10\" >0.899514</td>\n",
       "      <td id=\"T_bc024_row8_col11\" class=\"data row8 col11\" >0.029068</td>\n",
       "      <td id=\"T_bc024_row8_col12\" class=\"data row8 col12\" >0.716468</td>\n",
       "      <td id=\"T_bc024_row8_col13\" class=\"data row8 col13\" >0.150000</td>\n",
       "    </tr>\n",
       "    <tr>\n",
       "      <th id=\"T_bc024_level0_row9\" class=\"row_heading level0 row9\" >cash</th>\n",
       "      <td id=\"T_bc024_row9_col0\" class=\"data row9 col0\" >0.000000</td>\n",
       "      <td id=\"T_bc024_row9_col1\" class=\"data row9 col1\" >0.000000</td>\n",
       "      <td id=\"T_bc024_row9_col2\" class=\"data row9 col2\" >0.000000</td>\n",
       "      <td id=\"T_bc024_row9_col3\" class=\"data row9 col3\" >0.000000</td>\n",
       "      <td id=\"T_bc024_row9_col4\" class=\"data row9 col4\" >0.000000</td>\n",
       "      <td id=\"T_bc024_row9_col5\" class=\"data row9 col5\" >0.000000</td>\n",
       "      <td id=\"T_bc024_row9_col6\" class=\"data row9 col6\" >0.000000</td>\n",
       "      <td id=\"T_bc024_row9_col7\" class=\"data row9 col7\" >-0.000000</td>\n",
       "      <td id=\"T_bc024_row9_col8\" class=\"data row9 col8\" >nan</td>\n",
       "      <td id=\"T_bc024_row9_col9\" class=\"data row9 col9\" >nan</td>\n",
       "      <td id=\"T_bc024_row9_col10\" class=\"data row9 col10\" >1.000000</td>\n",
       "      <td id=\"T_bc024_row9_col11\" class=\"data row9 col11\" >1.000000</td>\n",
       "      <td id=\"T_bc024_row9_col12\" class=\"data row9 col12\" >nan</td>\n",
       "      <td id=\"T_bc024_row9_col13\" class=\"data row9 col13\" >nan</td>\n",
       "    </tr>\n",
       "  </tbody>\n",
       "</table>\n"
      ],
      "text/plain": [
       "<pandas.io.formats.style.Styler at 0x7fc0f97fd750>"
      ]
     },
     "metadata": {},
     "output_type": "display_data"
    },
    {
     "name": "stderr",
     "output_type": "stream",
     "text": [
      "100%|██████████| 10000/10000 [00:07<00:00, 1317.82it/s]\n",
      "100%|██████████| 50000000/50000000 [10:58:01<00:00, 1266.43it/s]  \n"
     ]
    },
    {
     "data": {
      "application/vnd.plotly.v1+json": {
       "config": {
        "plotlyServerURL": "https://plot.ly"
       },
       "data": [
        {
         "marker": {
          "color": [
           0.46405864653465323,
           0.42376228795644616,
           0.6069638023839845,
           0.5148516444502137,
           0.4795031450294808,
           0.6046836519436471,
           0.5502348202733184,
           0.6365286325702842,
           0.47659365368046874,
           0.5753734805082165,
           0.5176315690544107,
           0.602287030580313,
           0.5152690573951623,
           0.6002328264297626,
           0.668625581569936,
           0.6011256522895364,
           0.5278943861434859,
           0.5590066850146995,
           0.44965507936226895,
           0.6790429129346996,
           0.5352796365287724,
           0.5212989734075645,
           0.6189802239537316,
           0.6144058180064763,
           0.7062671914718747,
           0.6345831387560682,
           0.6227555379241463,
           0.721005183732728,
           0.6648450726836154,
           0.5869284605200595,
           0.6721594141495347,
           0.6539111396255656,
           0.5947240501842459,
           0.6477631416992125,
           0.531533572502175,
           0.6289421981569782,
           0.6602732034640179,
           0.6469130562739678,
           0.6904052676634433,
           0.622887228082365,
           0.6162140742949039,
           0.6352821273173347,
           0.6786930439965497,
           0.6429931069241603,
           0.697816442154891,
           0.5819587862716248,
           0.6148115373071064,
           0.6732664250324761,
           0.6552564490461211,
           0.5948136181301904,
           0.7164761247364589,
           0.5884935311320441,
           0.5634750418020298,
           0.6585165402462666,
           0.7143963564606618,
           0.6819773746979437,
           0.6918605524319661,
           0.689535484791183,
           0.7041010138219526,
           0.8080157390822597,
           0.7955532755874571,
           0.6858764966545751,
           0.5985102910986801,
           0.8072448734677408,
           0.6281038477870438,
           0.8300682686955944,
           0.7224837192394815,
           0.7706591268409333,
           0.6135799625021181,
           0.7090618130258993,
           0.725291011992435,
           0.7542748979080938,
           0.7408906126865787,
           0.7657473207629473,
           0.6297588939886013,
           0.7000191028909296,
           0.6624508744500213,
           0.6981700464458793,
           0.6837376454992811,
           0.6392849526373151,
           0.7960530403131187,
           0.7439099137265874,
           0.7251486987753359,
           0.5979229255183858,
           0.785001328556419,
           0.7995726036310848,
           0.6934566021785425,
           0.7740011171197793,
           0.6215184927947762,
           0.7652104221596575,
           0.798002808865739,
           0.7682733528495127,
           0.8115703596567517,
           0.7450463023753663,
           0.9080060794842069,
           0.7410197672724964,
           0.6962085113366775,
           0.8465646319880571,
           0.7348772409948864,
           0.6993959023369544,
           0.849761917644913,
           0.7125899545787882,
           0.7199374886963932,
           0.8618024756463027,
           0.6206456266194664,
           0.6083902732726891,
           0.8893284940372285
          ],
          "colorbar": {
           "title": {
            "text": "Sharpe<br>Ratio"
           }
          },
          "colorscale": [
           [
            0,
            "rgb(103,0,31)"
           ],
           [
            0.1,
            "rgb(178,24,43)"
           ],
           [
            0.2,
            "rgb(214,96,77)"
           ],
           [
            0.3,
            "rgb(244,165,130)"
           ],
           [
            0.4,
            "rgb(253,219,199)"
           ],
           [
            0.5,
            "rgb(247,247,247)"
           ],
           [
            0.6,
            "rgb(209,229,240)"
           ],
           [
            0.7,
            "rgb(146,197,222)"
           ],
           [
            0.8,
            "rgb(67,147,195)"
           ],
           [
            0.9,
            "rgb(33,102,172)"
           ],
           [
            1,
            "rgb(5,48,97)"
           ]
          ],
          "line": {
           "width": 1
          },
          "showscale": true,
          "size": 7
         },
         "mode": "markers",
         "text": [
          "['public investment funds' 'other equity instruments' 'cash'\n 'listed domestic public equity' 'corporate bonds'\n 'listed foreign public equity' 'venture' 'state bonds' 'buyout'\n 'fixed term and savings deposit']<br>[0.15 0.13 0.11 0.14 0.01 0.07 0.15 0.03 0.12 0.09]",
          "['cash' 'listed foreign public equity' 'fixed term and savings deposit'\n 'other equity instruments' 'venture' 'state bonds' 'buyout'\n 'public investment funds' 'corporate bonds'\n 'listed domestic public equity']<br>[0.06 0.06 0.11 0.05 0.05 0.12 0.08 0.16 0.12 0.16]",
          "['fixed term and savings deposit' 'buyout' 'cash' 'state bonds'\n 'other equity instruments' 'corporate bonds'\n 'listed foreign public equity' 'listed domestic public equity'\n 'public investment funds' 'venture']<br>[0.14 0.16 0.06 0.03 0.15 0.07 0.12 0.03 0.08 0.17]",
          "['buyout' 'cash' 'listed domestic public equity'\n 'other equity instruments' 'fixed term and savings deposit'\n 'public investment funds' 'listed foreign public equity'\n 'corporate bonds' 'state bonds' 'venture']<br>[0.09 0.21 0.03 0.13 0.08 0.12 0.01 0.11 0.02 0.2 ]",
          "['cash' 'venture' 'listed foreign public equity' 'corporate bonds'\n 'fixed term and savings deposit' 'public investment funds' 'state bonds'\n 'buyout' 'listed domestic public equity' 'other equity instruments']<br>[0.1  0.05 0.11 0.04 0.15 0.14 0.14 0.1  0.1  0.07]",
          "['cash' 'public investment funds' 'venture'\n 'fixed term and savings deposit' 'corporate bonds' 'state bonds'\n 'other equity instruments' 'listed foreign public equity' 'buyout'\n 'listed domestic public equity']<br>[0.08 0.1  0.02 0.16 0.16 0.1  0.14 0.07 0.15 0.04]",
          "['venture' 'listed foreign public equity' 'state bonds'\n 'fixed term and savings deposit' 'corporate bonds'\n 'listed domestic public equity' 'buyout' 'other equity instruments'\n 'cash' 'public investment funds']<br>[0.07 0.06 0.16 0.18 0.14 0.04 0.07 0.07 0.17 0.06]",
          "['listed foreign public equity' 'listed domestic public equity'\n 'public investment funds' 'venture' 'other equity instruments'\n 'state bonds' 'buyout' 'corporate bonds' 'fixed term and savings deposit'\n 'cash']<br>[0.17 0.02 0.12 0.08 0.03 0.12 0.21 0.04 0.07 0.13]",
          "['fixed term and savings deposit' 'listed domestic public equity'\n 'venture' 'public investment funds' 'corporate bonds' 'cash'\n 'other equity instruments' 'buyout' 'state bonds'\n 'listed foreign public equity']<br>[0.15 0.06 0.08 0.09 0.15 0.09 0.14 0.03 0.16 0.05]",
          "['state bonds' 'corporate bonds' 'public investment funds' 'cash'\n 'listed domestic public equity' 'other equity instruments'\n 'listed foreign public equity' 'venture' 'buyout'\n 'fixed term and savings deposit']<br>[0.08 0.08 0.2  0.17 0.02 0.   0.05 0.07 0.17 0.15]",
          "['buyout' 'public investment funds' 'listed domestic public equity'\n 'state bonds' 'fixed term and savings deposit' 'other equity instruments'\n 'listed foreign public equity' 'venture' 'corporate bonds' 'cash']<br>[0.13 0.06 0.15 0.12 0.02 0.15 0.14 0.12 0.05 0.07]",
          "['other equity instruments' 'cash' 'buyout' 'listed foreign public equity'\n 'listed domestic public equity' 'state bonds' 'venture' 'corporate bonds'\n 'public investment funds' 'fixed term and savings deposit']<br>[0.09 0.19 0.17 0.15 0.02 0.11 0.01 0.06 0.1  0.1 ]",
          "['buyout' 'state bonds' 'cash' 'corporate bonds'\n 'other equity instruments' 'listed domestic public equity'\n 'fixed term and savings deposit' 'public investment funds' 'venture'\n 'listed foreign public equity']<br>[0.06 0.02 0.   0.07 0.23 0.03 0.17 0.04 0.11 0.27]",
          "['listed domestic public equity' 'fixed term and savings deposit' 'cash'\n 'venture' 'corporate bonds' 'listed foreign public equity' 'buyout'\n 'other equity instruments' 'public investment funds' 'state bonds']<br>[0.05 0.16 0.04 0.08 0.17 0.04 0.13 0.05 0.13 0.15]",
          "['other equity instruments' 'cash' 'corporate bonds' 'buyout'\n 'fixed term and savings deposit' 'venture' 'state bonds'\n 'public investment funds' 'listed foreign public equity'\n 'listed domestic public equity']<br>[0.1  0.17 0.05 0.19 0.14 0.17 0.06 0.11 0.   0.  ]",
          "['other equity instruments' 'listed domestic public equity' 'venture'\n 'listed foreign public equity' 'corporate bonds'\n 'public investment funds' 'buyout' 'fixed term and savings deposit'\n 'state bonds' 'cash']<br>[0.04 0.11 0.15 0.09 0.14 0.   0.15 0.1  0.15 0.07]",
          "['cash' 'public investment funds' 'other equity instruments'\n 'listed foreign public equity' 'listed domestic public equity' 'venture'\n 'fixed term and savings deposit' 'state bonds' 'corporate bonds' 'buyout']<br>[0.05 0.04 0.16 0.13 0.15 0.14 0.04 0.02 0.11 0.16]",
          "['buyout' 'other equity instruments' 'listed foreign public equity'\n 'public investment funds' 'state bonds' 'listed domestic public equity'\n 'fixed term and savings deposit' 'cash' 'venture' 'corporate bonds']<br>[0.15 0.16 0.13 0.15 0.06 0.04 0.04 0.07 0.15 0.03]",
          "['listed domestic public equity' 'venture' 'state bonds'\n 'other equity instruments' 'public investment funds' 'buyout'\n 'listed foreign public equity' 'corporate bonds' 'cash'\n 'fixed term and savings deposit']<br>[0.23 0.06 0.03 0.09 0.11 0.15 0.23 0.02 0.02 0.06]",
          "['cash' 'venture' 'listed domestic public equity' 'state bonds'\n 'corporate bonds' 'other equity instruments'\n 'listed foreign public equity' 'buyout' 'public investment funds'\n 'fixed term and savings deposit']<br>[0.03 0.18 0.   0.02 0.09 0.16 0.06 0.19 0.05 0.21]",
          "['listed foreign public equity' 'other equity instruments'\n 'fixed term and savings deposit' 'cash' 'corporate bonds' 'buyout'\n 'listed domestic public equity' 'public investment funds' 'state bonds'\n 'venture']<br>[0.13 0.16 0.05 0.1  0.16 0.16 0.12 0.06 0.01 0.05]",
          "['other equity instruments' 'buyout' 'listed foreign public equity'\n 'state bonds' 'public investment funds' 'listed domestic public equity'\n 'corporate bonds' 'venture' 'cash' 'fixed term and savings deposit']<br>[0.14 0.02 0.07 0.15 0.03 0.01 0.22 0.05 0.07 0.23]",
          "['venture' 'fixed term and savings deposit'\n 'listed domestic public equity' 'other equity instruments' 'cash'\n 'state bonds' 'public investment funds' 'buyout' 'corporate bonds'\n 'listed foreign public equity']<br>[0.15 0.07 0.06 0.07 0.09 0.15 0.01 0.12 0.15 0.13]",
          "['other equity instruments' 'state bonds' 'cash' 'public investment funds'\n 'buyout' 'listed foreign public equity' 'venture'\n 'fixed term and savings deposit' 'corporate bonds'\n 'listed domestic public equity']<br>[0.14 0.03 0.16 0.06 0.16 0.03 0.15 0.09 0.14 0.03]",
          "['corporate bonds' 'listed domestic public equity'\n 'other equity instruments' 'venture' 'buyout' 'public investment funds'\n 'fixed term and savings deposit' 'listed foreign public equity'\n 'state bonds' 'cash']<br>[0.06 0.02 0.13 0.18 0.21 0.09 0.1  0.05 0.15 0.01]",
          "['listed domestic public equity' 'other equity instruments' 'venture'\n 'listed foreign public equity' 'buyout' 'fixed term and savings deposit'\n 'cash' 'corporate bonds' 'public investment funds' 'state bonds']<br>[0.05 0.03 0.09 0.02 0.19 0.15 0.19 0.19 0.08 0.02]",
          "['venture' 'state bonds' 'buyout' 'listed domestic public equity'\n 'public investment funds' 'other equity instruments' 'cash'\n 'listed foreign public equity' 'fixed term and savings deposit'\n 'corporate bonds']<br>[0.17 0.17 0.16 0.06 0.05 0.14 0.16 0.04 0.05 0.01]",
          "['cash' 'corporate bonds' 'buyout' 'listed domestic public equity'\n 'other equity instruments' 'listed foreign public equity' 'state bonds'\n 'public investment funds' 'fixed term and savings deposit' 'venture']<br>[0.03 0.17 0.19 0.06 0.03 0.06 0.17 0.06 0.19 0.05]",
          "['listed domestic public equity' 'state bonds' 'corporate bonds'\n 'public investment funds' 'cash' 'listed foreign public equity'\n 'fixed term and savings deposit' 'buyout' 'other equity instruments'\n 'venture']<br>[0.06 0.01 0.23 0.   0.02 0.04 0.03 0.28 0.3  0.01]",
          "['corporate bonds' 'state bonds' 'venture' 'other equity instruments'\n 'fixed term and savings deposit' 'public investment funds'\n 'listed domestic public equity' 'cash' 'buyout'\n 'listed foreign public equity']<br>[0.11 0.12 0.04 0.16 0.09 0.02 0.1  0.01 0.17 0.18]",
          "['cash' 'listed domestic public equity' 'fixed term and savings deposit'\n 'listed foreign public equity' 'buyout' 'venture' 'state bonds'\n 'corporate bonds' 'other equity instruments' 'public investment funds']<br>[0.01 0.   0.05 0.16 0.16 0.17 0.16 0.1  0.13 0.06]",
          "['public investment funds' 'venture' 'buyout' 'cash' 'state bonds'\n 'corporate bonds' 'other equity instruments'\n 'listed foreign public equity' 'fixed term and savings deposit'\n 'listed domestic public equity']<br>[0.03 0.11 0.15 0.21 0.09 0.14 0.   0.03 0.19 0.04]",
          "['public investment funds' 'fixed term and savings deposit' 'state bonds'\n 'corporate bonds' 'listed domestic public equity' 'buyout'\n 'other equity instruments' 'listed foreign public equity' 'venture'\n 'cash']<br>[0.14 0.05 0.09 0.16 0.06 0.19 0.16 0.13 0.01 0.02]",
          "['listed domestic public equity' 'public investment funds' 'buyout'\n 'state bonds' 'fixed term and savings deposit' 'corporate bonds'\n 'venture' 'other equity instruments' 'listed foreign public equity'\n 'cash']<br>[0.05 0.22 0.3  0.04 0.13 0.01 0.05 0.16 0.02 0.02]",
          "['corporate bonds' 'venture' 'public investment funds'\n 'listed domestic public equity' 'listed foreign public equity' 'cash'\n 'buyout' 'fixed term and savings deposit' 'other equity instruments'\n 'state bonds']<br>[0.18 0.05 0.04 0.03 0.15 0.16 0.08 0.2  0.03 0.09]",
          "['venture' 'listed foreign public equity' 'public investment funds' 'cash'\n 'listed domestic public equity' 'fixed term and savings deposit'\n 'state bonds' 'other equity instruments' 'corporate bonds' 'buyout']<br>[0.14 0.05 0.1  0.02 0.04 0.11 0.15 0.12 0.13 0.14]",
          "['buyout' 'public investment funds' 'venture'\n 'listed foreign public equity' 'state bonds'\n 'fixed term and savings deposit' 'corporate bonds' 'cash'\n 'listed domestic public equity' 'other equity instruments']<br>[0.17 0.02 0.19 0.   0.1  0.07 0.25 0.03 0.1  0.06]",
          "['venture' 'public investment funds' 'fixed term and savings deposit'\n 'buyout' 'listed foreign public equity' 'corporate bonds' 'state bonds'\n 'other equity instruments' 'cash' 'listed domestic public equity']<br>[0.24 0.04 0.   0.22 0.18 0.04 0.03 0.13 0.09 0.02]",
          "['other equity instruments' 'corporate bonds'\n 'fixed term and savings deposit' 'buyout' 'venture'\n 'listed domestic public equity' 'state bonds'\n 'listed foreign public equity' 'cash' 'public investment funds']<br>[0.14 0.14 0.13 0.19 0.09 0.02 0.12 0.03 0.03 0.1 ]",
          "['public investment funds' 'other equity instruments' 'cash'\n 'listed domestic public equity' 'buyout' 'venture'\n 'fixed term and savings deposit' 'state bonds' 'corporate bonds'\n 'listed foreign public equity']<br>[0.05 0.18 0.03 0.1  0.21 0.16 0.   0.15 0.01 0.11]",
          "['listed domestic public equity' 'other equity instruments' 'venture'\n 'public investment funds' 'fixed term and savings deposit' 'state bonds'\n 'listed foreign public equity' 'cash' 'buyout' 'corporate bonds']<br>[0.03 0.15 0.13 0.12 0.02 0.18 0.13 0.01 0.15 0.08]",
          "['listed domestic public equity' 'public investment funds' 'buyout'\n 'fixed term and savings deposit' 'venture' 'other equity instruments'\n 'state bonds' 'listed foreign public equity' 'corporate bonds' 'cash']<br>[0.01 0.1  0.11 0.15 0.11 0.01 0.16 0.11 0.16 0.07]",
          "['corporate bonds' 'other equity instruments'\n 'fixed term and savings deposit' 'listed domestic public equity' 'buyout'\n 'listed foreign public equity' 'cash' 'venture' 'public investment funds'\n 'state bonds']<br>[0.02 0.14 0.17 0.02 0.18 0.   0.09 0.18 0.07 0.14]",
          "['venture' 'state bonds' 'public investment funds' 'corporate bonds'\n 'fixed term and savings deposit' 'listed domestic public equity'\n 'other equity instruments' 'cash' 'listed foreign public equity' 'buyout']<br>[0.19 0.   0.1  0.23 0.15 0.02 0.08 0.03 0.05 0.16]",
          "['other equity instruments' 'listed foreign public equity' 'state bonds'\n 'corporate bonds' 'venture' 'listed domestic public equity'\n 'public investment funds' 'fixed term and savings deposit' 'cash'\n 'buyout']<br>[0.05 0.13 0.13 0.11 0.2  0.01 0.07 0.   0.1  0.2 ]",
          "['cash' 'fixed term and savings deposit' 'listed domestic public equity'\n 'other equity instruments' 'listed foreign public equity'\n 'corporate bonds' 'buyout' 'public investment funds' 'venture'\n 'state bonds']<br>[0.17 0.07 0.02 0.02 0.11 0.16 0.06 0.05 0.14 0.21]",
          "['listed domestic public equity' 'public investment funds'\n 'corporate bonds' 'buyout' 'listed foreign public equity' 'cash'\n 'other equity instruments' 'fixed term and savings deposit' 'venture'\n 'state bonds']<br>[0.02 0.01 0.26 0.08 0.13 0.12 0.04 0.1  0.12 0.12]",
          "['state bonds' 'public investment funds' 'fixed term and savings deposit'\n 'listed foreign public equity' 'cash' 'venture' 'corporate bonds'\n 'buyout' 'other equity instruments' 'listed domestic public equity']<br>[0.13 0.07 0.17 0.04 0.11 0.11 0.07 0.2  0.05 0.06]",
          "['listed domestic public equity' 'listed foreign public equity'\n 'other equity instruments' 'cash' 'state bonds' 'venture' 'buyout'\n 'fixed term and savings deposit' 'corporate bonds'\n 'public investment funds']<br>[0.01 0.03 0.12 0.17 0.12 0.05 0.14 0.15 0.15 0.07]",
          "['buyout' 'fixed term and savings deposit' 'state bonds' 'corporate bonds'\n 'cash' 'listed foreign public equity' 'public investment funds'\n 'other equity instruments' 'listed domestic public equity' 'venture']<br>[0.1  0.16 0.14 0.14 0.16 0.11 0.01 0.05 0.05 0.09]",
          "['public investment funds' 'cash' 'other equity instruments'\n 'listed foreign public equity' 'listed domestic public equity'\n 'fixed term and savings deposit' 'venture' 'corporate bonds' 'buyout'\n 'state bonds']<br>[0.02 0.07 0.08 0.04 0.06 0.11 0.16 0.18 0.25 0.03]",
          "['fixed term and savings deposit' 'state bonds' 'corporate bonds' 'cash'\n 'other equity instruments' 'listed foreign public equity' 'buyout'\n 'public investment funds' 'listed domestic public equity' 'venture']<br>[0.17 0.14 0.11 0.22 0.13 0.02 0.12 0.03 0.05 0.01]",
          "['venture' 'listed domestic public equity' 'listed foreign public equity'\n 'corporate bonds' 'public investment funds' 'buyout' 'state bonds'\n 'other equity instruments' 'cash' 'fixed term and savings deposit']<br>[0.21 0.   0.04 0.04 0.01 0.05 0.21 0.02 0.22 0.2 ]",
          "['public investment funds' 'cash' 'venture' 'listed foreign public equity'\n 'other equity instruments' 'state bonds' 'fixed term and savings deposit'\n 'listed domestic public equity' 'buyout' 'corporate bonds']<br>[0.02 0.05 0.12 0.14 0.14 0.07 0.15 0.06 0.24 0.01]",
          "['other equity instruments' 'buyout' 'listed foreign public equity' 'cash'\n 'listed domestic public equity' 'public investment funds' 'venture'\n 'state bonds' 'corporate bonds' 'fixed term and savings deposit']<br>[0.09 0.25 0.14 0.02 0.05 0.03 0.03 0.11 0.25 0.02]",
          "['venture' 'public investment funds' 'other equity instruments'\n 'state bonds' 'listed foreign public equity' 'buyout' 'cash'\n 'fixed term and savings deposit' 'listed domestic public equity'\n 'corporate bonds']<br>[0.17 0.01 0.07 0.13 0.09 0.2  0.14 0.11 0.05 0.02]",
          "['public investment funds' 'venture' 'listed foreign public equity'\n 'fixed term and savings deposit' 'corporate bonds' 'cash' 'state bonds'\n 'listed domestic public equity' 'buyout' 'other equity instruments']<br>[0.08 0.09 0.05 0.17 0.07 0.21 0.06 0.02 0.21 0.04]",
          "['state bonds' 'buyout' 'listed foreign public equity'\n 'listed domestic public equity' 'fixed term and savings deposit'\n 'venture' 'public investment funds' 'corporate bonds'\n 'other equity instruments' 'cash']<br>[0.19 0.14 0.13 0.03 0.15 0.16 0.01 0.13 0.05 0.02]",
          "['listed domestic public equity' 'state bonds' 'buyout' 'venture'\n 'corporate bonds' 'fixed term and savings deposit'\n 'other equity instruments' 'cash' 'listed foreign public equity'\n 'public investment funds']<br>[0.   0.18 0.2  0.05 0.09 0.08 0.15 0.03 0.17 0.05]",
          "['buyout' 'public investment funds' 'fixed term and savings deposit'\n 'listed foreign public equity' 'cash' 'other equity instruments'\n 'venture' 'corporate bonds' 'listed domestic public equity' 'state bonds']<br>[0.28 0.12 0.   0.04 0.09 0.02 0.19 0.01 0.01 0.24]",
          "['venture' 'corporate bonds' 'listed domestic public equity'\n 'public investment funds' 'fixed term and savings deposit' 'cash'\n 'buyout' 'listed foreign public equity' 'other equity instruments'\n 'state bonds']<br>[0.09 0.09 0.   0.09 0.17 0.01 0.2  0.09 0.02 0.24]",
          "['corporate bonds' 'buyout' 'listed foreign public equity' 'state bonds'\n 'cash' 'fixed term and savings deposit' 'listed domestic public equity'\n 'venture' 'other equity instruments' 'public investment funds']<br>[0.05 0.19 0.09 0.18 0.03 0.04 0.03 0.17 0.19 0.02]",
          "['fixed term and savings deposit' 'public investment funds'\n 'listed foreign public equity' 'buyout' 'state bonds'\n 'other equity instruments' 'venture' 'listed domestic public equity'\n 'corporate bonds' 'cash']<br>[0.16 0.05 0.04 0.07 0.17 0.13 0.07 0.01 0.18 0.12]",
          "['buyout' 'public investment funds' 'other equity instruments'\n 'listed domestic public equity' 'listed foreign public equity'\n 'fixed term and savings deposit' 'corporate bonds' 'state bonds'\n 'venture' 'cash']<br>[0.2  0.06 0.02 0.01 0.06 0.08 0.17 0.21 0.13 0.07]",
          "['fixed term and savings deposit' 'other equity instruments'\n 'listed domestic public equity' 'public investment funds'\n 'corporate bonds' 'venture' 'buyout' 'state bonds' 'cash'\n 'listed foreign public equity']<br>[0.02 0.18 0.01 0.06 0.01 0.19 0.2  0.05 0.07 0.2 ]",
          "['other equity instruments' 'venture' 'listed domestic public equity'\n 'public investment funds' 'state bonds' 'listed foreign public equity'\n 'buyout' 'corporate bonds' 'cash' 'fixed term and savings deposit']<br>[0.03 0.12 0.01 0.02 0.2  0.01 0.19 0.08 0.19 0.15]",
          "['state bonds' 'other equity instruments' 'venture' 'cash' 'buyout'\n 'public investment funds' 'listed foreign public equity'\n 'corporate bonds' 'listed domestic public equity'\n 'fixed term and savings deposit']<br>[0.19 0.09 0.15 0.13 0.16 0.03 0.11 0.09 0.   0.06]",
          "['public investment funds' 'listed domestic public equity'\n 'listed foreign public equity' 'buyout' 'fixed term and savings deposit'\n 'cash' 'corporate bonds' 'state bonds' 'venture'\n 'other equity instruments']<br>[0.01 0.02 0.09 0.17 0.19 0.07 0.18 0.16 0.09 0.  ]",
          "['other equity instruments' 'listed domestic public equity' 'venture'\n 'listed foreign public equity' 'cash' 'corporate bonds' 'state bonds'\n 'public investment funds' 'buyout' 'fixed term and savings deposit']<br>[0.04 0.01 0.08 0.03 0.18 0.08 0.17 0.07 0.09 0.24]",
          "['corporate bonds' 'listed foreign public equity' 'buyout'\n 'public investment funds' 'cash' 'listed domestic public equity'\n 'venture' 'state bonds' 'fixed term and savings deposit'\n 'other equity instruments']<br>[0.01 0.09 0.17 0.04 0.06 0.01 0.15 0.19 0.17 0.12]",
          "['other equity instruments' 'buyout' 'public investment funds'\n 'listed domestic public equity' 'state bonds' 'cash' 'venture'\n 'fixed term and savings deposit' 'corporate bonds'\n 'listed foreign public equity']<br>[0.18 0.22 0.08 0.   0.21 0.02 0.12 0.05 0.03 0.09]",
          "['listed domestic public equity' 'buyout' 'listed foreign public equity'\n 'other equity instruments' 'public investment funds' 'corporate bonds'\n 'venture' 'state bonds' 'fixed term and savings deposit' 'cash']<br>[0.03 0.28 0.06 0.08 0.07 0.02 0.06 0.06 0.33 0.02]",
          "['corporate bonds' 'listed foreign public equity' 'buyout'\n 'listed domestic public equity' 'fixed term and savings deposit'\n 'public investment funds' 'state bonds' 'venture' 'cash'\n 'other equity instruments']<br>[0.15 0.03 0.2  0.06 0.22 0.01 0.13 0.06 0.11 0.01]",
          "['fixed term and savings deposit' 'public investment funds'\n 'listed foreign public equity' 'state bonds' 'buyout'\n 'listed domestic public equity' 'other equity instruments' 'venture'\n 'corporate bonds' 'cash']<br>[0.08 0.07 0.01 0.26 0.21 0.03 0.05 0.24 0.03 0.03]",
          "['other equity instruments' 'venture' 'listed foreign public equity'\n 'public investment funds' 'fixed term and savings deposit' 'buyout'\n 'state bonds' 'cash' 'corporate bonds' 'listed domestic public equity']<br>[0.19 0.12 0.17 0.07 0.06 0.17 0.08 0.01 0.11 0.01]",
          "['venture' 'public investment funds' 'other equity instruments'\n 'state bonds' 'cash' 'buyout' 'listed domestic public equity'\n 'corporate bonds' 'fixed term and savings deposit'\n 'listed foreign public equity']<br>[0.22 0.04 0.12 0.01 0.08 0.22 0.   0.16 0.08 0.07]",
          "['fixed term and savings deposit' 'other equity instruments' 'venture'\n 'corporate bonds' 'listed foreign public equity' 'cash'\n 'listed domestic public equity' 'buyout' 'public investment funds'\n 'state bonds']<br>[0.05 0.03 0.21 0.19 0.22 0.   0.01 0.21 0.07 0.01]",
          "['listed domestic public equity' 'listed foreign public equity'\n 'fixed term and savings deposit' 'venture' 'public investment funds'\n 'buyout' 'other equity instruments' 'corporate bonds' 'cash'\n 'state bonds']<br>[0.01 0.01 0.44 0.11 0.02 0.06 0.04 0.09 0.   0.22]",
          "['venture' 'cash' 'buyout' 'other equity instruments'\n 'public investment funds' 'listed domestic public equity'\n 'corporate bonds' 'fixed term and savings deposit' 'state bonds'\n 'listed foreign public equity']<br>[0.25 0.07 0.27 0.07 0.09 0.01 0.01 0.09 0.02 0.12]",
          "['venture' 'public investment funds' 'listed domestic public equity'\n 'fixed term and savings deposit' 'state bonds' 'corporate bonds'\n 'listed foreign public equity' 'buyout' 'other equity instruments' 'cash']<br>[0.1  0.1  0.04 0.03 0.01 0.15 0.24 0.26 0.06 0.01]",
          "['listed domestic public equity' 'listed foreign public equity' 'cash'\n 'corporate bonds' 'public investment funds'\n 'fixed term and savings deposit' 'other equity instruments' 'buyout'\n 'venture' 'state bonds']<br>[0.01 0.02 0.05 0.12 0.   0.14 0.14 0.17 0.09 0.26]",
          "['public investment funds' 'other equity instruments' 'state bonds'\n 'corporate bonds' 'cash' 'listed domestic public equity' 'buyout'\n 'venture' 'fixed term and savings deposit' 'listed foreign public equity']<br>[0.01 0.07 0.05 0.22 0.01 0.04 0.21 0.2  0.17 0.03]",
          "['cash' 'corporate bonds' 'other equity instruments'\n 'listed domestic public equity' 'buyout' 'state bonds'\n 'public investment funds' 'venture' 'listed foreign public equity'\n 'fixed term and savings deposit']<br>[0.06 0.18 0.   0.04 0.2  0.18 0.08 0.17 0.04 0.05]",
          "['listed domestic public equity' 'corporate bonds' 'buyout' 'cash'\n 'listed foreign public equity' 'state bonds' 'other equity instruments'\n 'venture' 'public investment funds' 'fixed term and savings deposit']<br>[0.08 0.01 0.24 0.01 0.18 0.06 0.19 0.07 0.12 0.04]",
          "['venture' 'listed domestic public equity' 'cash'\n 'listed foreign public equity' 'other equity instruments'\n 'fixed term and savings deposit' 'buyout' 'state bonds' 'corporate bonds'\n 'public investment funds']<br>[0.06 0.02 0.14 0.03 0.06 0.13 0.2  0.19 0.12 0.05]",
          "['state bonds' 'public investment funds' 'venture' 'buyout'\n 'listed domestic public equity' 'corporate bonds'\n 'listed foreign public equity' 'other equity instruments'\n 'fixed term and savings deposit' 'cash']<br>[0.25 0.02 0.07 0.23 0.06 0.08 0.03 0.07 0.17 0.01]",
          "['listed foreign public equity' 'public investment funds' 'buyout'\n 'listed domestic public equity' 'corporate bonds'\n 'other equity instruments' 'cash' 'fixed term and savings deposit'\n 'state bonds' 'venture']<br>[0.17 0.03 0.22 0.01 0.01 0.18 0.   0.02 0.15 0.21]",
          "['state bonds' 'public investment funds' 'venture'\n 'listed foreign public equity' 'other equity instruments'\n 'corporate bonds' 'buyout' 'listed domestic public equity'\n 'fixed term and savings deposit' 'cash']<br>[0.18 0.02 0.09 0.04 0.02 0.06 0.28 0.09 0.2  0.02]",
          "['listed domestic public equity' 'public investment funds' 'state bonds'\n 'corporate bonds' 'listed foreign public equity' 'cash' 'venture'\n 'buyout' 'fixed term and savings deposit' 'other equity instruments']<br>[0.03 0.08 0.24 0.04 0.03 0.18 0.07 0.1  0.19 0.03]",
          "['cash' 'public investment funds' 'buyout' 'corporate bonds'\n 'fixed term and savings deposit' 'listed domestic public equity'\n 'venture' 'listed foreign public equity' 'other equity instruments'\n 'state bonds']<br>[0.   0.06 0.3  0.03 0.08 0.01 0.1  0.21 0.04 0.16]",
          "['listed domestic public equity' 'cash' 'fixed term and savings deposit'\n 'listed foreign public equity' 'venture' 'public investment funds'\n 'buyout' 'other equity instruments' 'corporate bonds' 'state bonds']<br>[0.09 0.   0.09 0.   0.04 0.07 0.27 0.01 0.16 0.26]",
          "['listed foreign public equity' 'corporate bonds'\n 'public investment funds' 'buyout' 'listed domestic public equity' 'cash'\n 'other equity instruments' 'fixed term and savings deposit' 'state bonds'\n 'venture']<br>[0.11 0.01 0.02 0.22 0.   0.19 0.01 0.05 0.21 0.19]",
          "['buyout' 'other equity instruments' 'listed foreign public equity'\n 'public investment funds' 'listed domestic public equity' 'venture'\n 'corporate bonds' 'state bonds' 'cash' 'fixed term and savings deposit']<br>[0.22 0.01 0.02 0.06 0.03 0.16 0.2  0.2  0.03 0.07]",
          "['other equity instruments' 'listed foreign public equity'\n 'listed domestic public equity' 'public investment funds'\n 'fixed term and savings deposit' 'venture' 'cash' 'corporate bonds'\n 'state bonds' 'buyout']<br>[0.01 0.01 0.   0.09 0.13 0.15 0.19 0.09 0.13 0.2 ]",
          "['fixed term and savings deposit' 'state bonds' 'corporate bonds' 'buyout'\n 'listed foreign public equity' 'cash' 'public investment funds' 'venture'\n 'other equity instruments' 'listed domestic public equity']<br>[0.3  0.19 0.02 0.29 0.02 0.   0.05 0.01 0.11 0.  ]",
          "['corporate bonds' 'public investment funds' 'state bonds'\n 'other equity instruments' 'venture' 'fixed term and savings deposit'\n 'listed domestic public equity' 'cash' 'buyout'\n 'listed foreign public equity']<br>[0.05 0.13 0.   0.04 0.2  0.01 0.06 0.11 0.4  0.  ]",
          "['venture' 'public investment funds' 'listed foreign public equity'\n 'buyout' 'corporate bonds' 'other equity instruments'\n 'listed domestic public equity' 'fixed term and savings deposit'\n 'state bonds' 'cash']<br>[0.08 0.08 0.09 0.2  0.11 0.16 0.02 0.1  0.15 0.01]",
          "['listed domestic public equity' 'buyout' 'listed foreign public equity'\n 'corporate bonds' 'fixed term and savings deposit'\n 'other equity instruments' 'venture' 'cash' 'state bonds'\n 'public investment funds']<br>[0.01 0.25 0.07 0.13 0.16 0.02 0.02 0.22 0.11 0.01]",
          "['state bonds' 'cash' 'listed foreign public equity'\n 'public investment funds' 'listed domestic public equity'\n 'other equity instruments' 'corporate bonds' 'venture'\n 'fixed term and savings deposit' 'buyout']<br>[0.17 0.05 0.09 0.02 0.03 0.13 0.17 0.1  0.02 0.22]",
          "['buyout' 'listed foreign public equity' 'venture' 'state bonds'\n 'public investment funds' 'other equity instruments'\n 'fixed term and savings deposit' 'listed domestic public equity' 'cash'\n 'corporate bonds']<br>[0.13 0.03 0.07 0.15 0.01 0.04 0.14 0.03 0.21 0.2 ]",
          "['state bonds' 'public investment funds' 'buyout'\n 'fixed term and savings deposit' 'listed domestic public equity'\n 'other equity instruments' 'venture' 'listed foreign public equity'\n 'cash' 'corporate bonds']<br>[0.21 0.05 0.22 0.2  0.01 0.01 0.19 0.01 0.   0.09]",
          "['listed domestic public equity' 'buyout' 'fixed term and savings deposit'\n 'listed foreign public equity' 'other equity instruments'\n 'corporate bonds' 'state bonds' 'venture' 'public investment funds'\n 'cash']<br>[0.01 0.28 0.05 0.27 0.06 0.04 0.11 0.12 0.05 0.01]",
          "['cash' 'buyout' 'other equity instruments' 'venture' 'state bonds'\n 'listed foreign public equity' 'fixed term and savings deposit'\n 'public investment funds' 'corporate bonds'\n 'listed domestic public equity']<br>[0.03 0.2  0.18 0.15 0.21 0.1  0.05 0.02 0.05 0.02]",
          "['fixed term and savings deposit' 'listed foreign public equity'\n 'listed domestic public equity' 'cash' 'public investment funds'\n 'other equity instruments' 'corporate bonds' 'venture' 'buyout'\n 'state bonds']<br>[0.12 0.07 0.02 0.12 0.02 0.01 0.2  0.03 0.21 0.21]",
          "['cash' 'corporate bonds' 'fixed term and savings deposit' 'venture'\n 'public investment funds' 'state bonds' 'buyout'\n 'other equity instruments' 'listed foreign public equity'\n 'listed domestic public equity']<br>[0.01 0.12 0.   0.15 0.04 0.01 0.21 0.2  0.22 0.04]",
          "['venture' 'state bonds' 'cash' 'other equity instruments'\n 'corporate bonds' 'fixed term and savings deposit'\n 'listed foreign public equity' 'public investment funds'\n 'listed domestic public equity' 'buyout']<br>[0.08 0.17 0.18 0.06 0.2  0.17 0.03 0.02 0.02 0.06]",
          "['fixed term and savings deposit' 'corporate bonds'\n 'public investment funds' 'state bonds' 'cash'\n 'listed foreign public equity' 'buyout' 'listed domestic public equity'\n 'other equity instruments' 'venture']<br>[0.15 0.12 0.04 0.16 0.06 0.07 0.29 0.   0.07 0.03]"
         ],
         "type": "scatter",
         "x": [
          0.10277480948240454,
          0.08841258877446584,
          0.0853481259890505,
          0.07018164516251914,
          0.08036371801004433,
          0.07029680031424704,
          0.048816030511722036,
          0.07657220961458777,
          0.06634962132441177,
          0.061382036196869244,
          0.10295240610387886,
          0.07133117612100946,
          0.1061928224728333,
          0.0622507097513538,
          0.06216883846846257,
          0.06977795473020462,
          0.10931428237407378,
          0.10029589352510429,
          0.13316019005795032,
          0.07512214466805747,
          0.09912398917488598,
          0.052772851442321474,
          0.06936266698360245,
          0.07069095591284512,
          0.07644331144740492,
          0.05543376793304206,
          0.07234940266638513,
          0.05455914925379785,
          0.10263578339054628,
          0.09622337252270322,
          0.08124889391443707,
          0.0422427485485046,
          0.0950664857592239,
          0.09586544799468996,
          0.05403576238772432,
          0.07247220844639798,
          0.06800641126358656,
          0.09742605386015903,
          0.07018728961939544,
          0.10209021409179171,
          0.08893034847647824,
          0.054132332253716414,
          0.06543694237451507,
          0.06990194254625828,
          0.07383152990127169,
          0.04958384435871754,
          0.05326217990435362,
          0.060125334749043496,
          0.05347918298821356,
          0.053066930462055496,
          0.07102373381064474,
          0.05045332688337168,
          0.03464421510524954,
          0.08840754189710953,
          0.07913214497488381,
          0.06656524506277149,
          0.05424717755940285,
          0.06156978043676794,
          0.07854658891303781,
          0.06548744497340375,
          0.053902639194926,
          0.0850014374636164,
          0.0522303075948622,
          0.052019189041643946,
          0.10184394237839585,
          0.039350452443243075,
          0.06071905599466679,
          0.04675129680363672,
          0.037381891554154764,
          0.06438817941039675,
          0.0798572803420895,
          0.0650561744106999,
          0.04636390332777039,
          0.06235987295931677,
          0.09487757132673924,
          0.07621619031588377,
          0.08932686307611061,
          0.028169172537960217,
          0.08731379348566488,
          0.1017279674359423,
          0.05352582180581444,
          0.06420954533765724,
          0.060391871623421106,
          0.115715303899576,
          0.048691165221524925,
          0.05705660330473084,
          0.0961658037488991,
          0.06256995152681204,
          0.038787615466595496,
          0.08319180583565572,
          0.058087773852830635,
          0.05594662271566624,
          0.05510704705351262,
          0.04645144652600411,
          0.053245694647865265,
          0.08782773045115232,
          0.0778533355151244,
          0.043974041628766544,
          0.07409052787593513,
          0.038847394766840244,
          0.048986953828891525,
          0.0943875604104468,
          0.07853707219891577,
          0.04232707861767509,
          0.11209596321702511,
          0.03784074878258557,
          0.057229637476135416
         ],
         "y": [
          0.0636935389862615,
          0.053465920903220054,
          0.06780322307666146,
          0.052133135422144365,
          0.054534655532078584,
          0.05850732593397222,
          0.0428602797750742,
          0.06474040387885872,
          0.04762180844731695,
          0.051317595807273984,
          0.0692914155094777,
          0.05896184225372412,
          0.07071787553770863,
          0.05336491946131388,
          0.057567675776503194,
          0.057945318552624,
          0.07370639599057736,
          0.07206607496005582,
          0.07587615582840247,
          0.06701115994129966,
          0.06905905289681494,
          0.04351043328067209,
          0.058934119143538355,
          0.05943293459329136,
          0.06998940288276848,
          0.051177334448025316,
          0.06105599117599534,
          0.05533742943203585,
          0.08423689486822755,
          0.0724762359007984,
          0.07061220893382572,
          0.04362300384426885,
          0.07253832544750857,
          0.07809810377344284,
          0.044721821824825765,
          0.061580830085568264,
          0.06090281102109976,
          0.07902618626338767,
          0.06445767447625032,
          0.07959069046997133,
          0.07080013236315626,
          0.050389303190789735,
          0.06041159760998645,
          0.06094646721785277,
          0.06752085551455786,
          0.04485575388168041,
          0.04874620270732331,
          0.05648036918036942,
          0.05104257954274455,
          0.04756493291119845,
          0.06688680956496455,
          0.04569145649495469,
          0.035521150554629,
          0.07421782862176143,
          0.07253171604897386,
          0.061395991074034165,
          0.05353148223412341,
          0.05845454840195347,
          0.07130473288592606,
          0.06891488625079364,
          0.05888242117433223,
          0.07430048813814816,
          0.04726037660277458,
          0.05799222367581636,
          0.0799685720816724,
          0.0486635619319511,
          0.05986852940373719,
          0.05202931357337199,
          0.03893677961805653,
          0.0616551992301728,
          0.07391976767427767,
          0.06507023931192181,
          0.05035058074305311,
          0.06375190564171458,
          0.07574999438305194,
          0.06935278917068931,
          0.07517465855664679,
          0.03566687249916967,
          0.07569972757749897,
          0.08103315884417671,
          0.05860939318377681,
          0.06376611733256,
          0.05979308712433095,
          0.08518883303488356,
          0.05422262938785717,
          0.0616208968587096,
          0.08268681151348012,
          0.06442921237988296,
          0.040107220303901785,
          0.07965923686372638,
          0.06235420669531668,
          0.058982299414371615,
          0.06072324599684078,
          0.05060847847418642,
          0.06434741444662136,
          0.08108208437898444,
          0.07020215482157964,
          0.053226868368484254,
          0.07044744270932193,
          0.04316970871639411,
          0.057627247825221675,
          0.0832596273856829,
          0.07254178252845474,
          0.05247758113958808,
          0.08557186933234322,
          0.039021943492680414,
          0.06689594731094804
         ]
        },
        {
         "marker": {
          "color": "green",
          "size": 10
         },
         "mode": "markers",
         "text": [
          "Portfolio with highest Sharpe ratio (['fixed term and savings deposit' 'state bonds' 'corporate bonds' 'buyout'\n 'listed foreign public equity' 'cash' 'public investment funds' 'venture'\n 'other equity instruments' 'listed domestic public equity'], [0.3  0.19 0.02 0.29 0.02 0.   0.05 0.01 0.11 0.  ])"
         ],
         "type": "scatter",
         "x": [
          0.053245694647865265
         ],
         "y": [
          0.06434741444662136
         ]
        },
        {
         "marker": {
          "color": "red",
          "size": 10
         },
         "mode": "markers",
         "text": [
          "Minimum variance portfolio (['listed domestic public equity' 'listed foreign public equity'\n 'fixed term and savings deposit' 'venture' 'public investment funds'\n 'buyout' 'other equity instruments' 'corporate bonds' 'cash'\n 'state bonds'], [0.01 0.01 0.44 0.11 0.02 0.06 0.04 0.09 0.   0.22])"
         ],
         "type": "scatter",
         "x": [
          0.028169172537960217
         ],
         "y": [
          0.03566687249916967
         ]
        },
        {
         "marker": {
          "color": "purple",
          "size": 10
         },
         "mode": "markers",
         "text": [
          "Retail Investor Portfolio (['listed foreign public equity' 'other equity instruments' 'state bonds'\n 'corporate bonds' 'listed domestic public equity'\n 'fixed term and savings deposit' 'public investment funds' 'cash'], [0.05 0.08 0.01 0.01 0.06 0.17 0.19 0.43])"
         ],
         "type": "scatter",
         "x": [
          0.07081947729221412
         ],
         "y": [
          0.02936065570237022
         ]
        },
        {
         "line": {
          "color": "black",
          "dash": "dash",
          "width": 2
         },
         "name": "Efficient Frontier",
         "type": "scatter",
         "x": [
          0,
          0.001345052424827781,
          0.002690104849655562,
          0.004035157274483343,
          0.005380209699311124,
          0.006725262124138905,
          0.008070314548966687,
          0.009415366973794467,
          0.010760419398622248,
          0.01210547182345003,
          0.01345052424827781,
          0.014795576673105592,
          0.016140629097933373,
          0.017485681522761153,
          0.018830733947588933,
          0.020175786372416717,
          0.021520838797244497,
          0.022865891222072277,
          0.02421094364690006,
          0.02555599607172784,
          0.02690104849655562,
          0.028246100921383403,
          0.029591153346211183,
          0.030936205771038963,
          0.03228125819586675,
          0.03362631062069452,
          0.034971363045522307,
          0.03631641547035009,
          0.037661467895177866,
          0.03900652032000565,
          0.04035157274483343,
          0.04169662516966121,
          0.04304167759448899,
          0.04438673001931678,
          0.04573178244414455,
          0.047076834868972336,
          0.04842188729380012,
          0.049766939718627896,
          0.05111199214345568,
          0.05245704456828346,
          0.05380209699311124,
          0.05514714941793902,
          0.05649220184276681,
          0.05783725426759458,
          0.059182306692422366,
          0.06052735911725015,
          0.061872411542077926,
          0.06321746396690571,
          0.0645625163917335,
          0.06590756881656128,
          0.06725262124138905,
          0.06859767366621683,
          0.06994272609104461,
          0.0712877785158724,
          0.07263283094070018,
          0.07397788336552796,
          0.07532293579035573,
          0.07666798821518352,
          0.0780130406400113,
          0.07935809306483908,
          0.08070314548966687,
          0.08204819791449465,
          0.08339325033932242,
          0.0847383027641502,
          0.08608335518897799,
          0.08742840761380577,
          0.08877346003863355,
          0.09011851246346132,
          0.0914635648882891,
          0.09280861731311689,
          0.09415366973794467,
          0.09549872216277246,
          0.09684377458760024,
          0.09818882701242801,
          0.09953387943725579,
          0.10087893186208358,
          0.10222398428691136,
          0.10356903671173914,
          0.10491408913656693,
          0.1062591415613947,
          0.10760419398622248,
          0.10894924641105026,
          0.11029429883587805,
          0.11163935126070583,
          0.11298440368553361,
          0.11432945611036138,
          0.11567450853518917,
          0.11701956096001695,
          0.11836461338484473,
          0.11970966580967252,
          0.1210547182345003,
          0.12239977065932807,
          0.12374482308415585,
          0.12508987550898365,
          0.12643492793381142,
          0.1277799803586392,
          0.129125032783467,
          0.13047008520829476,
          0.13181513763312255,
          0.13316019005795032
         ],
         "y": [
          0.016,
          0.0172213157789686,
          0.018442631557937197,
          0.0196639473369058,
          0.020885263115874398,
          0.022106578894842997,
          0.0233278946738116,
          0.024549210452780197,
          0.025770526231748796,
          0.026991842010717394,
          0.028213157789685993,
          0.02943447356865459,
          0.030655789347623193,
          0.031877105126591795,
          0.033098420905560394,
          0.03431973668452899,
          0.03554105246349759,
          0.03676236824246619,
          0.03798368402143479,
          0.03920499980040339,
          0.040426315579371985,
          0.041647631358340584,
          0.04286894713730918,
          0.04409026291627778,
          0.045311578695246386,
          0.04653289447421498,
          0.047754210253183584,
          0.04897552603215218,
          0.05019684181112078,
          0.05141815759008938,
          0.052639473369057985,
          0.053860789148026576,
          0.05508210492699518,
          0.05630342070596378,
          0.05752473648493237,
          0.05874605226390098,
          0.059967368042869576,
          0.061188683821838175,
          0.06240999960080677,
          0.06363131537977537,
          0.06485263115874397,
          0.06607394693771257,
          0.06729526271668118,
          0.06851657849564977,
          0.06973789427461838,
          0.07095921005358696,
          0.07218052583255558,
          0.07340184161152416,
          0.07462315739049277,
          0.07584447316946137,
          0.07706578894842997,
          0.07828710472739855,
          0.07950842050636717,
          0.08072973628533577,
          0.08195105206430436,
          0.08317236784327296,
          0.08439368362224156,
          0.08561499940121016,
          0.08683631518017876,
          0.08805763095914736,
          0.08927894673811597,
          0.09050026251708457,
          0.09172157829605315,
          0.09294289407502175,
          0.09416420985399036,
          0.09538552563295896,
          0.09660684141192756,
          0.09782815719089615,
          0.09904947296986474,
          0.10027078874883336,
          0.10149210452780195,
          0.10271342030677055,
          0.10393473608573915,
          0.10515605186470775,
          0.10637736764367635,
          0.10759868342264495,
          0.10881999920161355,
          0.11004131498058214,
          0.11126263075955076,
          0.11248394653851934,
          0.11370526231748794,
          0.11492657809645654,
          0.11614789387542515,
          0.11736920965439375,
          0.11859052543336235,
          0.11981184121233093,
          0.12103315699129955,
          0.12225447277026814,
          0.12347578854923674,
          0.12469710432820534,
          0.12591842010717394,
          0.12713973588614252,
          0.12836105166511114,
          0.12958236744407975,
          0.13080368322304833,
          0.13202499900201692,
          0.13324631478098553,
          0.13446763055995414,
          0.13568894633892276,
          0.13691026211789134
         ]
        }
       ],
       "layout": {
        "height": 700,
        "showlegend": false,
        "template": {
         "data": {
          "bar": [
           {
            "error_x": {
             "color": "#2a3f5f"
            },
            "error_y": {
             "color": "#2a3f5f"
            },
            "marker": {
             "line": {
              "color": "white",
              "width": 0.5
             },
             "pattern": {
              "fillmode": "overlay",
              "size": 10,
              "solidity": 0.2
             }
            },
            "type": "bar"
           }
          ],
          "barpolar": [
           {
            "marker": {
             "line": {
              "color": "white",
              "width": 0.5
             },
             "pattern": {
              "fillmode": "overlay",
              "size": 10,
              "solidity": 0.2
             }
            },
            "type": "barpolar"
           }
          ],
          "carpet": [
           {
            "aaxis": {
             "endlinecolor": "#2a3f5f",
             "gridcolor": "#C8D4E3",
             "linecolor": "#C8D4E3",
             "minorgridcolor": "#C8D4E3",
             "startlinecolor": "#2a3f5f"
            },
            "baxis": {
             "endlinecolor": "#2a3f5f",
             "gridcolor": "#C8D4E3",
             "linecolor": "#C8D4E3",
             "minorgridcolor": "#C8D4E3",
             "startlinecolor": "#2a3f5f"
            },
            "type": "carpet"
           }
          ],
          "choropleth": [
           {
            "colorbar": {
             "outlinewidth": 0,
             "ticks": ""
            },
            "type": "choropleth"
           }
          ],
          "contour": [
           {
            "colorbar": {
             "outlinewidth": 0,
             "ticks": ""
            },
            "colorscale": [
             [
              0,
              "#0d0887"
             ],
             [
              0.1111111111111111,
              "#46039f"
             ],
             [
              0.2222222222222222,
              "#7201a8"
             ],
             [
              0.3333333333333333,
              "#9c179e"
             ],
             [
              0.4444444444444444,
              "#bd3786"
             ],
             [
              0.5555555555555556,
              "#d8576b"
             ],
             [
              0.6666666666666666,
              "#ed7953"
             ],
             [
              0.7777777777777778,
              "#fb9f3a"
             ],
             [
              0.8888888888888888,
              "#fdca26"
             ],
             [
              1,
              "#f0f921"
             ]
            ],
            "type": "contour"
           }
          ],
          "contourcarpet": [
           {
            "colorbar": {
             "outlinewidth": 0,
             "ticks": ""
            },
            "type": "contourcarpet"
           }
          ],
          "heatmap": [
           {
            "colorbar": {
             "outlinewidth": 0,
             "ticks": ""
            },
            "colorscale": [
             [
              0,
              "#0d0887"
             ],
             [
              0.1111111111111111,
              "#46039f"
             ],
             [
              0.2222222222222222,
              "#7201a8"
             ],
             [
              0.3333333333333333,
              "#9c179e"
             ],
             [
              0.4444444444444444,
              "#bd3786"
             ],
             [
              0.5555555555555556,
              "#d8576b"
             ],
             [
              0.6666666666666666,
              "#ed7953"
             ],
             [
              0.7777777777777778,
              "#fb9f3a"
             ],
             [
              0.8888888888888888,
              "#fdca26"
             ],
             [
              1,
              "#f0f921"
             ]
            ],
            "type": "heatmap"
           }
          ],
          "heatmapgl": [
           {
            "colorbar": {
             "outlinewidth": 0,
             "ticks": ""
            },
            "colorscale": [
             [
              0,
              "#0d0887"
             ],
             [
              0.1111111111111111,
              "#46039f"
             ],
             [
              0.2222222222222222,
              "#7201a8"
             ],
             [
              0.3333333333333333,
              "#9c179e"
             ],
             [
              0.4444444444444444,
              "#bd3786"
             ],
             [
              0.5555555555555556,
              "#d8576b"
             ],
             [
              0.6666666666666666,
              "#ed7953"
             ],
             [
              0.7777777777777778,
              "#fb9f3a"
             ],
             [
              0.8888888888888888,
              "#fdca26"
             ],
             [
              1,
              "#f0f921"
             ]
            ],
            "type": "heatmapgl"
           }
          ],
          "histogram": [
           {
            "marker": {
             "pattern": {
              "fillmode": "overlay",
              "size": 10,
              "solidity": 0.2
             }
            },
            "type": "histogram"
           }
          ],
          "histogram2d": [
           {
            "colorbar": {
             "outlinewidth": 0,
             "ticks": ""
            },
            "colorscale": [
             [
              0,
              "#0d0887"
             ],
             [
              0.1111111111111111,
              "#46039f"
             ],
             [
              0.2222222222222222,
              "#7201a8"
             ],
             [
              0.3333333333333333,
              "#9c179e"
             ],
             [
              0.4444444444444444,
              "#bd3786"
             ],
             [
              0.5555555555555556,
              "#d8576b"
             ],
             [
              0.6666666666666666,
              "#ed7953"
             ],
             [
              0.7777777777777778,
              "#fb9f3a"
             ],
             [
              0.8888888888888888,
              "#fdca26"
             ],
             [
              1,
              "#f0f921"
             ]
            ],
            "type": "histogram2d"
           }
          ],
          "histogram2dcontour": [
           {
            "colorbar": {
             "outlinewidth": 0,
             "ticks": ""
            },
            "colorscale": [
             [
              0,
              "#0d0887"
             ],
             [
              0.1111111111111111,
              "#46039f"
             ],
             [
              0.2222222222222222,
              "#7201a8"
             ],
             [
              0.3333333333333333,
              "#9c179e"
             ],
             [
              0.4444444444444444,
              "#bd3786"
             ],
             [
              0.5555555555555556,
              "#d8576b"
             ],
             [
              0.6666666666666666,
              "#ed7953"
             ],
             [
              0.7777777777777778,
              "#fb9f3a"
             ],
             [
              0.8888888888888888,
              "#fdca26"
             ],
             [
              1,
              "#f0f921"
             ]
            ],
            "type": "histogram2dcontour"
           }
          ],
          "mesh3d": [
           {
            "colorbar": {
             "outlinewidth": 0,
             "ticks": ""
            },
            "type": "mesh3d"
           }
          ],
          "parcoords": [
           {
            "line": {
             "colorbar": {
              "outlinewidth": 0,
              "ticks": ""
             }
            },
            "type": "parcoords"
           }
          ],
          "pie": [
           {
            "automargin": true,
            "type": "pie"
           }
          ],
          "scatter": [
           {
            "fillpattern": {
             "fillmode": "overlay",
             "size": 10,
             "solidity": 0.2
            },
            "type": "scatter"
           }
          ],
          "scatter3d": [
           {
            "line": {
             "colorbar": {
              "outlinewidth": 0,
              "ticks": ""
             }
            },
            "marker": {
             "colorbar": {
              "outlinewidth": 0,
              "ticks": ""
             }
            },
            "type": "scatter3d"
           }
          ],
          "scattercarpet": [
           {
            "marker": {
             "colorbar": {
              "outlinewidth": 0,
              "ticks": ""
             }
            },
            "type": "scattercarpet"
           }
          ],
          "scattergeo": [
           {
            "marker": {
             "colorbar": {
              "outlinewidth": 0,
              "ticks": ""
             }
            },
            "type": "scattergeo"
           }
          ],
          "scattergl": [
           {
            "marker": {
             "colorbar": {
              "outlinewidth": 0,
              "ticks": ""
             }
            },
            "type": "scattergl"
           }
          ],
          "scattermapbox": [
           {
            "marker": {
             "colorbar": {
              "outlinewidth": 0,
              "ticks": ""
             }
            },
            "type": "scattermapbox"
           }
          ],
          "scatterpolar": [
           {
            "marker": {
             "colorbar": {
              "outlinewidth": 0,
              "ticks": ""
             }
            },
            "type": "scatterpolar"
           }
          ],
          "scatterpolargl": [
           {
            "marker": {
             "colorbar": {
              "outlinewidth": 0,
              "ticks": ""
             }
            },
            "type": "scatterpolargl"
           }
          ],
          "scatterternary": [
           {
            "marker": {
             "colorbar": {
              "outlinewidth": 0,
              "ticks": ""
             }
            },
            "type": "scatterternary"
           }
          ],
          "surface": [
           {
            "colorbar": {
             "outlinewidth": 0,
             "ticks": ""
            },
            "colorscale": [
             [
              0,
              "#0d0887"
             ],
             [
              0.1111111111111111,
              "#46039f"
             ],
             [
              0.2222222222222222,
              "#7201a8"
             ],
             [
              0.3333333333333333,
              "#9c179e"
             ],
             [
              0.4444444444444444,
              "#bd3786"
             ],
             [
              0.5555555555555556,
              "#d8576b"
             ],
             [
              0.6666666666666666,
              "#ed7953"
             ],
             [
              0.7777777777777778,
              "#fb9f3a"
             ],
             [
              0.8888888888888888,
              "#fdca26"
             ],
             [
              1,
              "#f0f921"
             ]
            ],
            "type": "surface"
           }
          ],
          "table": [
           {
            "cells": {
             "fill": {
              "color": "#EBF0F8"
             },
             "line": {
              "color": "white"
             }
            },
            "header": {
             "fill": {
              "color": "#C8D4E3"
             },
             "line": {
              "color": "white"
             }
            },
            "type": "table"
           }
          ]
         },
         "layout": {
          "annotationdefaults": {
           "arrowcolor": "#2a3f5f",
           "arrowhead": 0,
           "arrowwidth": 1
          },
          "autotypenumbers": "strict",
          "coloraxis": {
           "colorbar": {
            "outlinewidth": 0,
            "ticks": ""
           }
          },
          "colorscale": {
           "diverging": [
            [
             0,
             "#8e0152"
            ],
            [
             0.1,
             "#c51b7d"
            ],
            [
             0.2,
             "#de77ae"
            ],
            [
             0.3,
             "#f1b6da"
            ],
            [
             0.4,
             "#fde0ef"
            ],
            [
             0.5,
             "#f7f7f7"
            ],
            [
             0.6,
             "#e6f5d0"
            ],
            [
             0.7,
             "#b8e186"
            ],
            [
             0.8,
             "#7fbc41"
            ],
            [
             0.9,
             "#4d9221"
            ],
            [
             1,
             "#276419"
            ]
           ],
           "sequential": [
            [
             0,
             "#0d0887"
            ],
            [
             0.1111111111111111,
             "#46039f"
            ],
            [
             0.2222222222222222,
             "#7201a8"
            ],
            [
             0.3333333333333333,
             "#9c179e"
            ],
            [
             0.4444444444444444,
             "#bd3786"
            ],
            [
             0.5555555555555556,
             "#d8576b"
            ],
            [
             0.6666666666666666,
             "#ed7953"
            ],
            [
             0.7777777777777778,
             "#fb9f3a"
            ],
            [
             0.8888888888888888,
             "#fdca26"
            ],
            [
             1,
             "#f0f921"
            ]
           ],
           "sequentialminus": [
            [
             0,
             "#0d0887"
            ],
            [
             0.1111111111111111,
             "#46039f"
            ],
            [
             0.2222222222222222,
             "#7201a8"
            ],
            [
             0.3333333333333333,
             "#9c179e"
            ],
            [
             0.4444444444444444,
             "#bd3786"
            ],
            [
             0.5555555555555556,
             "#d8576b"
            ],
            [
             0.6666666666666666,
             "#ed7953"
            ],
            [
             0.7777777777777778,
             "#fb9f3a"
            ],
            [
             0.8888888888888888,
             "#fdca26"
            ],
            [
             1,
             "#f0f921"
            ]
           ]
          },
          "colorway": [
           "#636efa",
           "#EF553B",
           "#00cc96",
           "#ab63fa",
           "#FFA15A",
           "#19d3f3",
           "#FF6692",
           "#B6E880",
           "#FF97FF",
           "#FECB52"
          ],
          "font": {
           "color": "#2a3f5f"
          },
          "geo": {
           "bgcolor": "white",
           "lakecolor": "white",
           "landcolor": "white",
           "showlakes": true,
           "showland": true,
           "subunitcolor": "#C8D4E3"
          },
          "hoverlabel": {
           "align": "left"
          },
          "hovermode": "closest",
          "mapbox": {
           "style": "light"
          },
          "paper_bgcolor": "white",
          "plot_bgcolor": "white",
          "polar": {
           "angularaxis": {
            "gridcolor": "#EBF0F8",
            "linecolor": "#EBF0F8",
            "ticks": ""
           },
           "bgcolor": "white",
           "radialaxis": {
            "gridcolor": "#EBF0F8",
            "linecolor": "#EBF0F8",
            "ticks": ""
           }
          },
          "scene": {
           "xaxis": {
            "backgroundcolor": "white",
            "gridcolor": "#DFE8F3",
            "gridwidth": 2,
            "linecolor": "#EBF0F8",
            "showbackground": true,
            "ticks": "",
            "zerolinecolor": "#EBF0F8"
           },
           "yaxis": {
            "backgroundcolor": "white",
            "gridcolor": "#DFE8F3",
            "gridwidth": 2,
            "linecolor": "#EBF0F8",
            "showbackground": true,
            "ticks": "",
            "zerolinecolor": "#EBF0F8"
           },
           "zaxis": {
            "backgroundcolor": "white",
            "gridcolor": "#DFE8F3",
            "gridwidth": 2,
            "linecolor": "#EBF0F8",
            "showbackground": true,
            "ticks": "",
            "zerolinecolor": "#EBF0F8"
           }
          },
          "shapedefaults": {
           "line": {
            "color": "#2a3f5f"
           }
          },
          "ternary": {
           "aaxis": {
            "gridcolor": "#DFE8F3",
            "linecolor": "#A2B1C6",
            "ticks": ""
           },
           "baxis": {
            "gridcolor": "#DFE8F3",
            "linecolor": "#A2B1C6",
            "ticks": ""
           },
           "bgcolor": "white",
           "caxis": {
            "gridcolor": "#DFE8F3",
            "linecolor": "#A2B1C6",
            "ticks": ""
           }
          },
          "title": {
           "x": 0.05
          },
          "xaxis": {
           "automargin": true,
           "gridcolor": "#EBF0F8",
           "linecolor": "#EBF0F8",
           "ticks": "",
           "title": {
            "standoff": 15
           },
           "zerolinecolor": "#EBF0F8",
           "zerolinewidth": 2
          },
          "yaxis": {
           "automargin": true,
           "gridcolor": "#EBF0F8",
           "linecolor": "#EBF0F8",
           "ticks": "",
           "title": {
            "standoff": 15
           },
           "zerolinecolor": "#EBF0F8",
           "zerolinewidth": 2
          }
         }
        },
        "title": {
         "text": "Efficient Frontier of Unrestricted Portfolio"
        },
        "width": 1000,
        "xaxis": {
         "title": {
          "text": "Annualised Risk (Volatility)"
         }
        },
        "yaxis": {
         "title": {
          "text": "Annualised Return"
         }
        }
       }
      }
     },
     "metadata": {},
     "output_type": "display_data"
    },
    {
     "data": {
      "text/html": [
       "<div style='display: inline-block; vertical-align: top; margin-right: 20px;'><h3 style='font-family: Poppins; font-size: 130%;'>Max Sharpe</h3>Return: 6.43%, Std.: 5.32% <br><br><style type=\"text/css\">\n",
       "#T_f3839 th {\n",
       "  text-align: center;\n",
       "  font-family: Poppins;\n",
       "}\n",
       "#T_f3839 td {\n",
       "  text-align: center;\n",
       "  font-family: Poppins;\n",
       "}\n",
       "</style>\n",
       "<table id=\"T_f3839\">\n",
       "  <thead>\n",
       "    <tr>\n",
       "      <th class=\"blank level0\" >&nbsp;</th>\n",
       "      <th id=\"T_f3839_level0_col0\" class=\"col_heading level0 col0\" >Asset_classes</th>\n",
       "      <th id=\"T_f3839_level0_col1\" class=\"col_heading level0 col1\" >Weights</th>\n",
       "    </tr>\n",
       "  </thead>\n",
       "  <tbody>\n",
       "    <tr>\n",
       "      <th id=\"T_f3839_level0_row0\" class=\"row_heading level0 row0\" >0</th>\n",
       "      <td id=\"T_f3839_row0_col0\" class=\"data row0 col0\" >fixed term and savings deposit</td>\n",
       "      <td id=\"T_f3839_row0_col1\" class=\"data row0 col1\" >30.03%</td>\n",
       "    </tr>\n",
       "    <tr>\n",
       "      <th id=\"T_f3839_level0_row1\" class=\"row_heading level0 row1\" >1</th>\n",
       "      <td id=\"T_f3839_row1_col0\" class=\"data row1 col0\" >buyout</td>\n",
       "      <td id=\"T_f3839_row1_col1\" class=\"data row1 col1\" >29.07%</td>\n",
       "    </tr>\n",
       "    <tr>\n",
       "      <th id=\"T_f3839_level0_row2\" class=\"row_heading level0 row2\" >2</th>\n",
       "      <td id=\"T_f3839_row2_col0\" class=\"data row2 col0\" >state bonds</td>\n",
       "      <td id=\"T_f3839_row2_col1\" class=\"data row2 col1\" >19.37%</td>\n",
       "    </tr>\n",
       "    <tr>\n",
       "      <th id=\"T_f3839_level0_row3\" class=\"row_heading level0 row3\" >3</th>\n",
       "      <td id=\"T_f3839_row3_col0\" class=\"data row3 col0\" >other equity instruments</td>\n",
       "      <td id=\"T_f3839_row3_col1\" class=\"data row3 col1\" >10.74%</td>\n",
       "    </tr>\n",
       "    <tr>\n",
       "      <th id=\"T_f3839_level0_row4\" class=\"row_heading level0 row4\" >4</th>\n",
       "      <td id=\"T_f3839_row4_col0\" class=\"data row4 col0\" >public investment funds</td>\n",
       "      <td id=\"T_f3839_row4_col1\" class=\"data row4 col1\" >4.71%</td>\n",
       "    </tr>\n",
       "    <tr>\n",
       "      <th id=\"T_f3839_level0_row5\" class=\"row_heading level0 row5\" >5</th>\n",
       "      <td id=\"T_f3839_row5_col0\" class=\"data row5 col0\" >listed foreign public equity</td>\n",
       "      <td id=\"T_f3839_row5_col1\" class=\"data row5 col1\" >2.29%</td>\n",
       "    </tr>\n",
       "    <tr>\n",
       "      <th id=\"T_f3839_level0_row6\" class=\"row_heading level0 row6\" >6</th>\n",
       "      <td id=\"T_f3839_row6_col0\" class=\"data row6 col0\" >corporate bonds</td>\n",
       "      <td id=\"T_f3839_row6_col1\" class=\"data row6 col1\" >1.79%</td>\n",
       "    </tr>\n",
       "    <tr>\n",
       "      <th id=\"T_f3839_level0_row7\" class=\"row_heading level0 row7\" >7</th>\n",
       "      <td id=\"T_f3839_row7_col0\" class=\"data row7 col0\" >venture</td>\n",
       "      <td id=\"T_f3839_row7_col1\" class=\"data row7 col1\" >1.32%</td>\n",
       "    </tr>\n",
       "    <tr>\n",
       "      <th id=\"T_f3839_level0_row8\" class=\"row_heading level0 row8\" >8</th>\n",
       "      <td id=\"T_f3839_row8_col0\" class=\"data row8 col0\" >cash</td>\n",
       "      <td id=\"T_f3839_row8_col1\" class=\"data row8 col1\" >0.37%</td>\n",
       "    </tr>\n",
       "    <tr>\n",
       "      <th id=\"T_f3839_level0_row9\" class=\"row_heading level0 row9\" >9</th>\n",
       "      <td id=\"T_f3839_row9_col0\" class=\"data row9 col0\" >listed domestic public equity</td>\n",
       "      <td id=\"T_f3839_row9_col1\" class=\"data row9 col1\" >0.3%</td>\n",
       "    </tr>\n",
       "  </tbody>\n",
       "</table>\n",
       "</div><div style='display: inline-block; vertical-align: top; margin-right: 20px;'><h3 style='font-family: Poppins; font-size: 130%;'>Min Variance</h3>Return: 3.57%, Std.: 2.82% <br><br><style type=\"text/css\">\n",
       "#T_a4061 th {\n",
       "  text-align: center;\n",
       "  font-family: Poppins;\n",
       "}\n",
       "#T_a4061 td {\n",
       "  text-align: center;\n",
       "  font-family: Poppins;\n",
       "}\n",
       "</style>\n",
       "<table id=\"T_a4061\">\n",
       "  <thead>\n",
       "    <tr>\n",
       "      <th class=\"blank level0\" >&nbsp;</th>\n",
       "      <th id=\"T_a4061_level0_col0\" class=\"col_heading level0 col0\" >Asset_classes</th>\n",
       "      <th id=\"T_a4061_level0_col1\" class=\"col_heading level0 col1\" >Weights</th>\n",
       "    </tr>\n",
       "  </thead>\n",
       "  <tbody>\n",
       "    <tr>\n",
       "      <th id=\"T_a4061_level0_row0\" class=\"row_heading level0 row0\" >0</th>\n",
       "      <td id=\"T_a4061_row0_col0\" class=\"data row0 col0\" >fixed term and savings deposit</td>\n",
       "      <td id=\"T_a4061_row0_col1\" class=\"data row0 col1\" >43.83%</td>\n",
       "    </tr>\n",
       "    <tr>\n",
       "      <th id=\"T_a4061_level0_row1\" class=\"row_heading level0 row1\" >1</th>\n",
       "      <td id=\"T_a4061_row1_col0\" class=\"data row1 col0\" >state bonds</td>\n",
       "      <td id=\"T_a4061_row1_col1\" class=\"data row1 col1\" >22.08%</td>\n",
       "    </tr>\n",
       "    <tr>\n",
       "      <th id=\"T_a4061_level0_row2\" class=\"row_heading level0 row2\" >2</th>\n",
       "      <td id=\"T_a4061_row2_col0\" class=\"data row2 col0\" >venture</td>\n",
       "      <td id=\"T_a4061_row2_col1\" class=\"data row2 col1\" >11.18%</td>\n",
       "    </tr>\n",
       "    <tr>\n",
       "      <th id=\"T_a4061_level0_row3\" class=\"row_heading level0 row3\" >3</th>\n",
       "      <td id=\"T_a4061_row3_col0\" class=\"data row3 col0\" >corporate bonds</td>\n",
       "      <td id=\"T_a4061_row3_col1\" class=\"data row3 col1\" >9.2%</td>\n",
       "    </tr>\n",
       "    <tr>\n",
       "      <th id=\"T_a4061_level0_row4\" class=\"row_heading level0 row4\" >4</th>\n",
       "      <td id=\"T_a4061_row4_col0\" class=\"data row4 col0\" >buyout</td>\n",
       "      <td id=\"T_a4061_row4_col1\" class=\"data row4 col1\" >6.12%</td>\n",
       "    </tr>\n",
       "    <tr>\n",
       "      <th id=\"T_a4061_level0_row5\" class=\"row_heading level0 row5\" >5</th>\n",
       "      <td id=\"T_a4061_row5_col0\" class=\"data row5 col0\" >other equity instruments</td>\n",
       "      <td id=\"T_a4061_row5_col1\" class=\"data row5 col1\" >3.69%</td>\n",
       "    </tr>\n",
       "    <tr>\n",
       "      <th id=\"T_a4061_level0_row6\" class=\"row_heading level0 row6\" >6</th>\n",
       "      <td id=\"T_a4061_row6_col0\" class=\"data row6 col0\" >public investment funds</td>\n",
       "      <td id=\"T_a4061_row6_col1\" class=\"data row6 col1\" >2.29%</td>\n",
       "    </tr>\n",
       "    <tr>\n",
       "      <th id=\"T_a4061_level0_row7\" class=\"row_heading level0 row7\" >7</th>\n",
       "      <td id=\"T_a4061_row7_col0\" class=\"data row7 col0\" >listed domestic public equity</td>\n",
       "      <td id=\"T_a4061_row7_col1\" class=\"data row7 col1\" >0.6%</td>\n",
       "    </tr>\n",
       "    <tr>\n",
       "      <th id=\"T_a4061_level0_row8\" class=\"row_heading level0 row8\" >8</th>\n",
       "      <td id=\"T_a4061_row8_col0\" class=\"data row8 col0\" >listed foreign public equity</td>\n",
       "      <td id=\"T_a4061_row8_col1\" class=\"data row8 col1\" >0.54%</td>\n",
       "    </tr>\n",
       "    <tr>\n",
       "      <th id=\"T_a4061_level0_row9\" class=\"row_heading level0 row9\" >9</th>\n",
       "      <td id=\"T_a4061_row9_col0\" class=\"data row9 col0\" >cash</td>\n",
       "      <td id=\"T_a4061_row9_col1\" class=\"data row9 col1\" >0.47%</td>\n",
       "    </tr>\n",
       "  </tbody>\n",
       "</table>\n",
       "</div><div style='display: inline-block; vertical-align: top; margin-right: 20px;'><h3 style='font-family: Poppins; font-size: 130%;'>Risk Matching Portfolio</h3>Return: 5.94%, Std.: 7.07% <br><br><style type=\"text/css\">\n",
       "#T_e4f5b th {\n",
       "  text-align: center;\n",
       "  font-family: Poppins;\n",
       "}\n",
       "#T_e4f5b td {\n",
       "  text-align: center;\n",
       "  font-family: Poppins;\n",
       "}\n",
       "</style>\n",
       "<table id=\"T_e4f5b\">\n",
       "  <thead>\n",
       "    <tr>\n",
       "      <th class=\"blank level0\" >&nbsp;</th>\n",
       "      <th id=\"T_e4f5b_level0_col0\" class=\"col_heading level0 col0\" >Asset_classes</th>\n",
       "      <th id=\"T_e4f5b_level0_col1\" class=\"col_heading level0 col1\" >Weights</th>\n",
       "    </tr>\n",
       "  </thead>\n",
       "  <tbody>\n",
       "    <tr>\n",
       "      <th id=\"T_e4f5b_level0_row0\" class=\"row_heading level0 row0\" >0</th>\n",
       "      <td id=\"T_e4f5b_row0_col0\" class=\"data row0 col0\" >cash</td>\n",
       "      <td id=\"T_e4f5b_row0_col1\" class=\"data row0 col1\" >16.39%</td>\n",
       "    </tr>\n",
       "    <tr>\n",
       "      <th id=\"T_e4f5b_level0_row1\" class=\"row_heading level0 row1\" >1</th>\n",
       "      <td id=\"T_e4f5b_row1_col0\" class=\"data row1 col0\" >buyout</td>\n",
       "      <td id=\"T_e4f5b_row1_col1\" class=\"data row1 col1\" >16.21%</td>\n",
       "    </tr>\n",
       "    <tr>\n",
       "      <th id=\"T_e4f5b_level0_row2\" class=\"row_heading level0 row2\" >2</th>\n",
       "      <td id=\"T_e4f5b_row2_col0\" class=\"data row2 col0\" >venture</td>\n",
       "      <td id=\"T_e4f5b_row2_col1\" class=\"data row2 col1\" >14.64%</td>\n",
       "    </tr>\n",
       "    <tr>\n",
       "      <th id=\"T_e4f5b_level0_row3\" class=\"row_heading level0 row3\" >3</th>\n",
       "      <td id=\"T_e4f5b_row3_col0\" class=\"data row3 col0\" >corporate bonds</td>\n",
       "      <td id=\"T_e4f5b_row3_col1\" class=\"data row3 col1\" >13.87%</td>\n",
       "    </tr>\n",
       "    <tr>\n",
       "      <th id=\"T_e4f5b_level0_row4\" class=\"row_heading level0 row4\" >4</th>\n",
       "      <td id=\"T_e4f5b_row4_col0\" class=\"data row4 col0\" >other equity instruments</td>\n",
       "      <td id=\"T_e4f5b_row4_col1\" class=\"data row4 col1\" >13.61%</td>\n",
       "    </tr>\n",
       "    <tr>\n",
       "      <th id=\"T_e4f5b_level0_row5\" class=\"row_heading level0 row5\" >5</th>\n",
       "      <td id=\"T_e4f5b_row5_col0\" class=\"data row5 col0\" >fixed term and savings deposit</td>\n",
       "      <td id=\"T_e4f5b_row5_col1\" class=\"data row5 col1\" >9.22%</td>\n",
       "    </tr>\n",
       "    <tr>\n",
       "      <th id=\"T_e4f5b_level0_row6\" class=\"row_heading level0 row6\" >6</th>\n",
       "      <td id=\"T_e4f5b_row6_col0\" class=\"data row6 col0\" >public investment funds</td>\n",
       "      <td id=\"T_e4f5b_row6_col1\" class=\"data row6 col1\" >6.49%</td>\n",
       "    </tr>\n",
       "    <tr>\n",
       "      <th id=\"T_e4f5b_level0_row7\" class=\"row_heading level0 row7\" >7</th>\n",
       "      <td id=\"T_e4f5b_row7_col0\" class=\"data row7 col0\" >listed domestic public equity</td>\n",
       "      <td id=\"T_e4f5b_row7_col1\" class=\"data row7 col1\" >3.35%</td>\n",
       "    </tr>\n",
       "    <tr>\n",
       "      <th id=\"T_e4f5b_level0_row8\" class=\"row_heading level0 row8\" >8</th>\n",
       "      <td id=\"T_e4f5b_row8_col0\" class=\"data row8 col0\" >listed foreign public equity</td>\n",
       "      <td id=\"T_e4f5b_row8_col1\" class=\"data row8 col1\" >3.34%</td>\n",
       "    </tr>\n",
       "    <tr>\n",
       "      <th id=\"T_e4f5b_level0_row9\" class=\"row_heading level0 row9\" >9</th>\n",
       "      <td id=\"T_e4f5b_row9_col0\" class=\"data row9 col0\" >state bonds</td>\n",
       "      <td id=\"T_e4f5b_row9_col1\" class=\"data row9 col1\" >2.89%</td>\n",
       "    </tr>\n",
       "  </tbody>\n",
       "</table>\n",
       "</div><div style='display: inline-block; vertical-align: top;'><h3 style='font-family: Poppins; font-size: 130%;'>Retail Portfolio</h3>Return: 2.94%, Std.: 7.08% <br><br><style type=\"text/css\">\n",
       "#T_92550 th {\n",
       "  text-align: center;\n",
       "  font-family: Poppins;\n",
       "}\n",
       "#T_92550 td {\n",
       "  text-align: center;\n",
       "  font-family: Poppins;\n",
       "}\n",
       "</style>\n",
       "<table id=\"T_92550\">\n",
       "  <thead>\n",
       "    <tr>\n",
       "      <th class=\"blank level0\" >&nbsp;</th>\n",
       "      <th id=\"T_92550_level0_col0\" class=\"col_heading level0 col0\" >Asset_classes</th>\n",
       "      <th id=\"T_92550_level0_col1\" class=\"col_heading level0 col1\" >Weights</th>\n",
       "    </tr>\n",
       "  </thead>\n",
       "  <tbody>\n",
       "    <tr>\n",
       "      <th id=\"T_92550_level0_row0\" class=\"row_heading level0 row0\" >0</th>\n",
       "      <td id=\"T_92550_row0_col0\" class=\"data row0 col0\" >cash</td>\n",
       "      <td id=\"T_92550_row0_col1\" class=\"data row0 col1\" >42.8%</td>\n",
       "    </tr>\n",
       "    <tr>\n",
       "      <th id=\"T_92550_level0_row1\" class=\"row_heading level0 row1\" >1</th>\n",
       "      <td id=\"T_92550_row1_col0\" class=\"data row1 col0\" >public investment funds</td>\n",
       "      <td id=\"T_92550_row1_col1\" class=\"data row1 col1\" >18.6%</td>\n",
       "    </tr>\n",
       "    <tr>\n",
       "      <th id=\"T_92550_level0_row2\" class=\"row_heading level0 row2\" >2</th>\n",
       "      <td id=\"T_92550_row2_col0\" class=\"data row2 col0\" >fixed term and savings deposit</td>\n",
       "      <td id=\"T_92550_row2_col1\" class=\"data row2 col1\" >17.1%</td>\n",
       "    </tr>\n",
       "    <tr>\n",
       "      <th id=\"T_92550_level0_row3\" class=\"row_heading level0 row3\" >3</th>\n",
       "      <td id=\"T_92550_row3_col0\" class=\"data row3 col0\" >other equity instruments</td>\n",
       "      <td id=\"T_92550_row3_col1\" class=\"data row3 col1\" >8.4%</td>\n",
       "    </tr>\n",
       "    <tr>\n",
       "      <th id=\"T_92550_level0_row4\" class=\"row_heading level0 row4\" >4</th>\n",
       "      <td id=\"T_92550_row4_col0\" class=\"data row4 col0\" >listed domestic public equity</td>\n",
       "      <td id=\"T_92550_row4_col1\" class=\"data row4 col1\" >5.9%</td>\n",
       "    </tr>\n",
       "    <tr>\n",
       "      <th id=\"T_92550_level0_row5\" class=\"row_heading level0 row5\" >5</th>\n",
       "      <td id=\"T_92550_row5_col0\" class=\"data row5 col0\" >listed foreign public equity</td>\n",
       "      <td id=\"T_92550_row5_col1\" class=\"data row5 col1\" >5.0%</td>\n",
       "    </tr>\n",
       "    <tr>\n",
       "      <th id=\"T_92550_level0_row6\" class=\"row_heading level0 row6\" >6</th>\n",
       "      <td id=\"T_92550_row6_col0\" class=\"data row6 col0\" >corporate bonds</td>\n",
       "      <td id=\"T_92550_row6_col1\" class=\"data row6 col1\" >1.46%</td>\n",
       "    </tr>\n",
       "    <tr>\n",
       "      <th id=\"T_92550_level0_row7\" class=\"row_heading level0 row7\" >7</th>\n",
       "      <td id=\"T_92550_row7_col0\" class=\"data row7 col0\" >state bonds</td>\n",
       "      <td id=\"T_92550_row7_col1\" class=\"data row7 col1\" >0.73%</td>\n",
       "    </tr>\n",
       "  </tbody>\n",
       "</table>\n",
       "</div>"
      ],
      "text/plain": [
       "<IPython.core.display.HTML object>"
      ]
     },
     "metadata": {},
     "output_type": "display_data"
    },
    {
     "data": {
      "application/vnd.plotly.v1+json": {
       "config": {
        "plotlyServerURL": "https://plot.ly"
       },
       "data": [
        {
         "marker": {
          "color": [
           0.43187650786662907,
           0.5139769302937001,
           0.5716620318872785,
           0.5244487731437374,
           0.5841216240185851,
           0.5474036240258129,
           0.43523194206288324,
           0.4526611969219018,
           0.5701033026755166,
           0.5920268176041465,
           0.5279199640124027,
           0.5699122875712904,
           0.5544925433348373,
           0.6990360263824008,
           0.5305466240476329,
           0.5562200896731717,
           0.6022454767148918,
           0.5429710936470032,
           0.6022338211285241,
           0.5473461747744613,
           0.5602962197512584,
           0.5562376193344089,
           0.6915489552336992,
           0.5326672272377937,
           0.6110673860426172,
           0.6666261475156003,
           0.5826489315656014,
           0.5756151209891978,
           0.5981033465684625,
           0.6508764062185362,
           0.6707466973639776,
           0.5788239279715732,
           0.5571462277875049,
           0.6272964796639718,
           0.6211588500886366,
           0.6775783061904341,
           0.7252264554306139,
           0.6530224734945881,
           0.6911770184036173,
           0.6974920175433321,
           0.5241557608430878,
           0.6466562588736808,
           0.3532844239384111,
           0.6307890824397301,
           0.6906797438636832,
           0.637853901967268,
           0.6797822609827296,
           0.5529451828558052,
           0.6644140582824368,
           0.6837718320994304,
           0.6817613937646035,
           0.6973026588932498,
           0.6071108656027734,
           0.6663084836579563,
           0.6877619093979379,
           0.6917521382176884,
           0.6259654860480655,
           0.6713578912897314,
           0.687046640848904,
           0.6930660796817167,
           0.5926352340780423,
           0.5106107353457879,
           0.6822588385294674,
           0.7246153551789171,
           0.8813384578895818,
           0.7449471057027525,
           0.6899733913964126,
           0.6866915797383862,
           0.6920831703124448,
           0.5598919236487675,
           0.7513588757954209,
           0.6649070028483918,
           0.9259433831656576,
           0.5937960024912772,
           0.4931376041243157,
           0.6617277642629721,
           0.6839245440093396,
           0.6874349714880201,
           0.6696913091014646,
           0.7517972751193241,
           0.6139108220047491,
           0.768914125855291,
           0.8127610473778792,
           0.7571161156421977,
           0.568300684368726,
           0.7122795465188585,
           0.7815227465255399,
           0.6813945250081332,
           0.7757054582121925,
           0.9233545433540663,
           0.649057089487545,
           0.6695245007147173,
           0.6662392426896779,
           0.6953224543022353,
           0.667180010832467,
           0.6917190294661086,
           0.7571466814138583,
           0.5273945735567858,
           0.7069034629517634,
           0.5821268423340638,
           0.6130241291569097,
           0.5603540907188433,
           0.6575440233522378,
           0.7445474163341391,
           0.6042637460680784,
           0.8856526709715871,
           0.7740373497480437,
           0.6327432255038205,
           0.6501744942997056,
           0.8119645051222348,
           0.693305919642019,
           0.8444925341844891,
           0.685675898572438,
           0.6465903146968888,
           0.646770536473579,
           0.7447105334419248,
           0.8416715710755094,
           0.7495998156665861,
           0.6850881332202818,
           0.680905726982189,
           0.7371800521142475,
           0.8678503063597837,
           0.7138810482724564,
           0.7310852308597309,
           0.7555249940842498,
           0.7124362437910471,
           0.7594909774541948,
           0.744731795682182,
           0.7024793259527627,
           0.771052494657479,
           0.7246879509312426,
           0.765562446443412,
           0.7659807891820422,
           0.7841196755386098,
           0.8286560488119215,
           0.8166731234917282,
           0.49325730135489576,
           0.8818927695039174,
           0.8902323144261005,
           0.7317011004102156,
           0.8172634017754169,
           0.7593934543787076,
           0.6392651034473495,
           0.7494482855710222,
           0.7778475726364136,
           0.6321095071364262,
           0.7723573932915552,
           0.7448282775332293,
           0.8537321698055881,
           0.8676236571031799,
           0.9803670244626136,
           0.765400096166805,
           0.7588988447604577,
           0.7798842204234553,
           0.8153121853857497,
           0.8222145490865153,
           0.6399511757255398,
           0.3748517154384713,
           0.7534971190040572,
           0.756511379055113,
           0.9641384597689977,
           0.5553263017764154,
           0.7992221042781842,
           0.639002297015897,
           0.7824655492037738,
           0.6466319685845574,
           0.6447042361091083,
           0.7720682987372444,
           0.8043185777473869,
           0.7822185862221585,
           0.7844983664246576,
           0.8098248257659457,
           0.8697420558993805,
           0.7930861527242207,
           0.7484492385845529,
           0.8266671662998744,
           0.6869456557034714,
           0.9388852348273841,
           0.777460336538851,
           0.8592250741201396,
           0.6153901562582377,
           0.7815563660521276,
           0.8346467529627257,
           0.6601046694421278,
           0.6757973285161434,
           0.9141791350213714,
           0.43406259032449807,
           0.8388207794407699,
           0.6084141145130328,
           0.7663274914278855,
           0.8293880401680755,
           0.8175165482493101,
           0.6736783185080701,
           0.9984654155655514,
           0.9323610909645142,
           1.1045665843793229,
           0.7104604867715535,
           0.569772360906366,
           0.7218139959064184,
           0.9057086162581972,
           0.7849359440361067,
           0.720487485698255,
           0.7503264415064862,
           0.6818119490506485,
           0.6033638726902547,
           0.7080648946984036,
           0.6690071933906334,
           0.9278214438884376,
           0.8013584067240702,
           0.7037629513174434,
           0.7945883008028988,
           0.781719346758384,
           0.7996798730239001,
           0.7106546703473756,
           0.7017243915935567,
           0.907339287342135,
           0.6725680000853744,
           0.6272919574927562,
           0.9144487431058541,
           0.8573975665446819,
           0.7260891440832145,
           0.7958285510221695,
           0.84103388547749,
           0.7185871184839522,
           0.9017642494695817,
           0.7115045665218356,
           0.8627230968587327,
           0.42531621213018694,
           0.6869293380391052,
           0.732060395376028,
           0.7563674999507938,
           0.7284448193424669,
           0.811571232951879,
           0.875507021535074,
           0.7908821083204813,
           0.8106467734206727,
           0.8555777384912105,
           0.9117546111936775,
           0.676441048947769,
           0.8375903121307327,
           0.29264962128726374,
           0.7016413173188766,
           0.789207911977159,
           0.9171514542870122,
           0.8605691510739498,
           0.792762192638919,
           0.6922734326717367,
           0.7351079589984665,
           0.9061124841029987,
           0.8912184719208227,
           0.8995585349660707,
           0.7602795522864548,
           0.6786493862975481,
           0.7966763388129434,
           0.9015553963250418,
           0.7893774010827341,
           0.8656713408826665,
           0.7411844277342213,
           0.74027206868967,
           0.9933012968666309,
           0.7513671489060957,
           0.6900426459064049,
           1.0384920970592844,
           0.9698363546600517,
           0.9699740094707032,
           0.8967886599339268,
           0.9224610594403098,
           0.7885987668928713,
           0.8564793358397143,
           0.8870668816635138,
           0.8707961116954448,
           0.786761015526637,
           0.9339851593007437,
           0.773077908558091,
           1.0193931272517622,
           0.9466012565343518,
           0.848535167446952,
           0.9106772608248443,
           0.9579428226969189,
           0.7857455844926475,
           0.7031066938624808,
           1.0515122302335256,
           0.9265515247940321,
           0.7876261858969443,
           0.9539399538678424,
           0.71842525121347,
           0.8442239360205945,
           0.847587509180458,
           0.9956875292133457,
           0.9808669383291362,
           0.6790160812460855,
           0.825688540634326,
           0.7710809070872839,
           0.6770713542689956,
           0.7137290724665609,
           0.8461102843688202,
           0.9449589983971554,
           0.9545039675610889,
           0.7993229062791659,
           0.8916602637562321,
           0.942293128395301,
           0.852360068515806,
           1.019059159605772,
           1.0441433543216485,
           0.7207052905580231,
           0.865837482199113,
           1.0109778428271852,
           1.0196861158394248,
           0.7088368767329587,
           0.9871471008887304,
           0.7242006530662238,
           1.0186840936617356,
           1.0187440989657104,
           0.963363999010899,
           0.6992715349515848,
           1.041633994152191,
           0.9722929881770891,
           1.0219324979132465,
           0.7859308435947641,
           1.002408365677307,
           0.8726487228171984,
           0.8159636826876624,
           0.6908212324013444,
           0.4718451126743237,
           0.7173918371221001,
           0.8946524545894274,
           0.9577217902839891,
           0.8585285656977049,
           0.7194786816535385,
           0.784078185555609,
           0.8225754333490217,
           0.773803900990985,
           0.7427892479731387,
           1.000448252786622,
           0.8803702237985724,
           0.8533959971406665,
           0.7118077762609334,
           0.9054598312470741,
           0.7245366767441372,
           0.8661004438569463,
           0.4224171082621754,
           1.051048105116161,
           0.9850522016847808,
           1.0020953856147603,
           0.6404848967320058,
           1.0198425818728802,
           0.6948913244640713,
           0.81830568819166,
           0.7972767485347784,
           0.8046797820954097,
           0.7541302530905942,
           1.0529430676910339,
           1.0248475982763583,
           0.7523472142683331,
           0.7913706531123539,
           0.8058753425345043,
           0.9878158956932183,
           0.6655726660839935,
           0.8350845195709222,
           0.770471910148685,
           0.7932191913723127,
           0.710754612420688,
           0.4199278883019196,
           0.7166647385909212,
           0.5111595889292987,
           0.8074504977459146,
           0.7127800579515537,
           0.8707758749547647,
           1.022748578057013,
           0.8330626879748325,
           0.8753129780757922,
           0.7100199697963213,
           1.0058229572586046,
           1.0118528907216475,
           0.7355702729112353,
           0.7274754201990306,
           0.9074596926280069,
           0.9995304592805239,
           0.9829494874945953,
           0.4636459622376046,
           0.8730095724775184,
           0.42750458092354215,
           0.8866739657239526,
           0.7161825158002183,
           1.0510288550169935,
           0.7295009919013208,
           0.698702152972096,
           0.7120296302811748,
           0.4829396668176767,
           0.941754286790687,
           1.097486490187108,
           0.7131641313566164,
           1.0791098171652391,
           0.7211582390051953,
           0.7235252160793118,
           0.7298042484713896,
           0.7228012710443824,
           1.0035232029308145,
           0.9869493379889653,
           0.7402646760197986,
           0.8768278162616664,
           0.7340525333707041,
           1.0304293451174675,
           0.6819472548780496,
           0.8534447565764158,
           1.0275824892295995,
           0.6636813059960384,
           0.7858927827616102,
           1.018553117509273,
           1.0578726852753468,
           0.5610154735217981,
           0.8122760328729567,
           0.9867498394882206,
           0.8880525377213163,
           0.8641252473686466,
           1.1033962973855413,
           0.998792348269935,
           0.9059124412086095,
           0.8255891357747184,
           0.938230022135375,
           0.8349565996599109,
           0.9111381094633729,
           0.681814904239439,
           0.9657149080964281,
           0.9613252847162821,
           1.0495628951179239,
           0.48713527353375924,
           0.968421464626031,
           1.0506740961244332,
           0.7020606170691446,
           1.0263877018661087,
           1.0082194929499808,
           0.8983718541822528,
           0.4519303563463262,
           0.7144417650435241,
           0.8043785612871678,
           0.7282214116644611,
           0.9193369741323729,
           0.9371297574066638,
           0.8844099978594366,
           0.8830922806967721,
           0.7793689979981925,
           1.047701970308305,
           1.049227580153951,
           0.7312910768010654,
           0.7667729344969411,
           0.9926825524041792,
           0.9709627607633805,
           1.0052466864509406,
           0.4457099771097269,
           0.8899071262805194,
           1.0551710706918642,
           1.0718291232768333,
           1.075209576273357,
           0.843476228734309,
           1.0924143698901008,
           0.501130694418075,
           0.7403185047352923,
           1.0415511405854359,
           0.6990170315488865,
           0.9023944349130626,
           1.0286671061409618,
           0.8306990050375374,
           0.7583822417978741,
           1.040830441746794,
           0.9916382669507561,
           0.780456067189047,
           0.7322502895215383,
           0.963479473688483,
           0.8784379016786128,
           0.8007804956990359,
           0.9781772714921704,
           0.9945684172071118,
           0.8284333696453214,
           0.9242541955911173,
           0.9285128823346175,
           1.068434325688403,
           1.0128308958085708,
           1.023591597479563,
           1.0529052321461274,
           1.0103019729418714,
           0.9737012694257662,
           1.014550577050177,
           0.9786458590019043,
           0.9058579345386687,
           0.7294498356349907,
           0.9794911911045998,
           0.6036716792875345,
           1.0569253443566762,
           0.8055558174814531,
           1.05629311612674,
           1.077396334287791,
           0.8453335785822677,
           0.7863869513329699,
           1.0618946197808097,
           0.7463388804826847,
           0.7000351725748334,
           0.897635468849998,
           0.8770050550275934,
           1.0910690725001173,
           0.817606613126518,
           0.8573164029703687,
           0.7690299326810769,
           1.051326060341491,
           0.8403629852988049,
           1.0775276682345571,
           0.7525923465742345,
           1.0615369654449782,
           0.9980604301132925,
           0.9773298459689825,
           0.8395539066243983,
           1.0493104073821649,
           0.8802923558408945,
           1.0696974430487753
          ],
          "colorbar": {
           "title": {
            "text": "Sharpe<br>Ratio"
           }
          },
          "colorscale": [
           [
            0,
            "rgb(103,0,31)"
           ],
           [
            0.1,
            "rgb(178,24,43)"
           ],
           [
            0.2,
            "rgb(214,96,77)"
           ],
           [
            0.3,
            "rgb(244,165,130)"
           ],
           [
            0.4,
            "rgb(253,219,199)"
           ],
           [
            0.5,
            "rgb(247,247,247)"
           ],
           [
            0.6,
            "rgb(209,229,240)"
           ],
           [
            0.7,
            "rgb(146,197,222)"
           ],
           [
            0.8,
            "rgb(67,147,195)"
           ],
           [
            0.9,
            "rgb(33,102,172)"
           ],
           [
            1,
            "rgb(5,48,97)"
           ]
          ],
          "line": {
           "width": 1
          },
          "showscale": true,
          "size": 7
         },
         "mode": "markers",
         "text": [
          "['public investment funds' 'corporate bonds' 'other equity instruments'\n 'venture' 'listed domestic public equity' 'cash'\n 'fixed term and savings deposit' 'state bonds' 'buyout'\n 'listed foreign public equity']<br>[0.12 0.19 0.11 0.21 0.09 0.16 0.02 0.   0.03 0.07]",
          "['public investment funds' 'buyout' 'listed foreign public equity'\n 'listed domestic public equity' 'venture' 'corporate bonds' 'state bonds'\n 'other equity instruments' 'fixed term and savings deposit' 'cash']<br>[0.01 0.15 0.08 0.14 0.05 0.19 0.01 0.11 0.07 0.19]",
          "['other equity instruments' 'public investment funds' 'cash' 'buyout'\n 'state bonds' 'venture' 'fixed term and savings deposit'\n 'listed foreign public equity' 'corporate bonds'\n 'listed domestic public equity']<br>[0.2  0.05 0.15 0.15 0.11 0.08 0.04 0.11 0.05 0.06]",
          "['listed foreign public equity' 'other equity instruments'\n 'fixed term and savings deposit' 'cash' 'corporate bonds' 'buyout'\n 'state bonds' 'public investment funds' 'venture'\n 'listed domestic public equity']<br>[0.08 0.08 0.15 0.12 0.08 0.13 0.13 0.12 0.03 0.08]",
          "['cash' 'listed domestic public equity' 'fixed term and savings deposit'\n 'buyout' 'state bonds' 'other equity instruments' 'corporate bonds'\n 'public investment funds' 'listed foreign public equity' 'venture']<br>[0.3  0.02 0.   0.08 0.3  0.05 0.01 0.01 0.17 0.04]",
          "['corporate bonds' 'state bonds' 'cash' 'buyout'\n 'listed foreign public equity' 'listed domestic public equity'\n 'fixed term and savings deposit' 'public investment funds' 'venture'\n 'other equity instruments']<br>[0.18 0.03 0.13 0.09 0.02 0.03 0.05 0.07 0.19 0.19]",
          "['corporate bonds' 'other equity instruments' 'cash' 'venture'\n 'listed foreign public equity' 'state bonds'\n 'fixed term and savings deposit' 'listed domestic public equity' 'buyout'\n 'public investment funds']<br>[0.01 0.08 0.25 0.17 0.11 0.03 0.17 0.07 0.06 0.06]",
          "['cash' 'corporate bonds' 'buyout' 'listed foreign public equity'\n 'state bonds' 'other equity instruments' 'public investment funds'\n 'listed domestic public equity' 'venture'\n 'fixed term and savings deposit']<br>[0.13 0.02 0.03 0.13 0.2  0.11 0.1  0.05 0.03 0.2 ]",
          "['venture' 'other equity instruments' 'buyout'\n 'listed domestic public equity' 'cash' 'fixed term and savings deposit'\n 'state bonds' 'public investment funds' 'corporate bonds'\n 'listed foreign public equity']<br>[0.12 0.04 0.18 0.1  0.18 0.13 0.02 0.05 0.14 0.04]",
          "['listed domestic public equity' 'corporate bonds' 'buyout' 'cash'\n 'other equity instruments' 'venture' 'public investment funds'\n 'state bonds' 'listed foreign public equity'\n 'fixed term and savings deposit']<br>[0.05 0.16 0.19 0.16 0.1  0.1  0.13 0.02 0.06 0.01]",
          "['buyout' 'state bonds' 'cash' 'venture' 'listed foreign public equity'\n 'fixed term and savings deposit' 'corporate bonds'\n 'listed domestic public equity' 'other equity instruments'\n 'public investment funds']<br>[0.12 0.02 0.22 0.07 0.16 0.02 0.03 0.03 0.27 0.05]",
          "['listed foreign public equity' 'listed domestic public equity' 'cash'\n 'buyout' 'other equity instruments' 'public investment funds'\n 'corporate bonds' 'state bonds' 'fixed term and savings deposit'\n 'venture']<br>[0.18 0.04 0.17 0.12 0.04 0.08 0.08 0.15 0.02 0.13]",
          "['venture' 'cash' 'corporate bonds' 'buyout' 'public investment funds'\n 'other equity instruments' 'listed foreign public equity' 'state bonds'\n 'listed domestic public equity' 'fixed term and savings deposit']<br>[0.13 0.16 0.06 0.1  0.08 0.14 0.07 0.14 0.05 0.09]",
          "['corporate bonds' 'public investment funds'\n 'listed domestic public equity' 'fixed term and savings deposit'\n 'other equity instruments' 'venture' 'state bonds' 'cash' 'buyout'\n 'listed foreign public equity']<br>[0.17 0.04 0.02 0.01 0.14 0.14 0.16 0.14 0.17 0.01]",
          "['corporate bonds' 'listed foreign public equity' 'cash' 'buyout'\n 'fixed term and savings deposit' 'other equity instruments' 'state bonds'\n 'listed domestic public equity' 'venture' 'public investment funds']<br>[0.1  0.07 0.19 0.09 0.14 0.01 0.08 0.   0.18 0.14]",
          "['venture' 'listed domestic public equity' 'corporate bonds' 'buyout'\n 'fixed term and savings deposit' 'state bonds' 'other equity instruments'\n 'public investment funds' 'listed foreign public equity' 'cash']<br>[0.02 0.03 0.16 0.17 0.18 0.01 0.   0.16 0.08 0.19]",
          "['fixed term and savings deposit' 'other equity instruments'\n 'public investment funds' 'cash' 'listed foreign public equity' 'venture'\n 'corporate bonds' 'state bonds' 'listed domestic public equity' 'buyout']<br>[0.01 0.11 0.04 0.22 0.08 0.13 0.04 0.01 0.1  0.25]",
          "['venture' 'listed domestic public equity'\n 'fixed term and savings deposit' 'cash' 'corporate bonds' 'state bonds'\n 'other equity instruments' 'buyout' 'listed foreign public equity'\n 'public investment funds']<br>[0.2  0.   0.05 0.18 0.14 0.12 0.07 0.04 0.16 0.03]",
          "['venture' 'buyout' 'listed domestic public equity'\n 'other equity instruments' 'public investment funds'\n 'fixed term and savings deposit' 'state bonds' 'cash' 'corporate bonds'\n 'listed foreign public equity']<br>[0.15 0.09 0.03 0.11 0.   0.14 0.1  0.13 0.15 0.1 ]",
          "['other equity instruments' 'listed foreign public equity' 'cash'\n 'state bonds' 'fixed term and savings deposit' 'corporate bonds'\n 'venture' 'buyout' 'public investment funds'\n 'listed domestic public equity']<br>[0.02 0.1  0.28 0.03 0.1  0.1  0.18 0.13 0.   0.05]",
          "['venture' 'corporate bonds' 'state bonds' 'listed foreign public equity'\n 'listed domestic public equity' 'cash' 'other equity instruments'\n 'public investment funds' 'buyout' 'fixed term and savings deposit']<br>[0.15 0.07 0.1  0.03 0.05 0.15 0.05 0.12 0.13 0.16]",
          "['buyout' 'venture' 'cash' 'corporate bonds' 'public investment funds'\n 'state bonds' 'fixed term and savings deposit'\n 'listed domestic public equity' 'other equity instruments'\n 'listed foreign public equity']<br>[0.18 0.09 0.17 0.05 0.18 0.06 0.06 0.03 0.01 0.17]",
          "['state bonds' 'listed domestic public equity' 'venture' 'buyout'\n 'public investment funds' 'listed foreign public equity'\n 'other equity instruments' 'cash' 'fixed term and savings deposit'\n 'corporate bonds']<br>[0.05 0.01 0.02 0.19 0.06 0.04 0.11 0.2  0.12 0.2 ]",
          "['cash' 'public investment funds' 'buyout' 'corporate bonds'\n 'fixed term and savings deposit' 'listed domestic public equity'\n 'other equity instruments' 'state bonds' 'venture'\n 'listed foreign public equity']<br>[0.24 0.02 0.07 0.   0.16 0.04 0.04 0.17 0.22 0.04]",
          "['corporate bonds' 'cash' 'buyout' 'listed domestic public equity'\n 'other equity instruments' 'public investment funds'\n 'fixed term and savings deposit' 'state bonds' 'venture'\n 'listed foreign public equity']<br>[0.07 0.22 0.16 0.01 0.03 0.04 0.02 0.06 0.19 0.2 ]",
          "['listed domestic public equity' 'cash' 'venture'\n 'fixed term and savings deposit' 'corporate bonds'\n 'public investment funds' 'other equity instruments' 'buyout'\n 'listed foreign public equity' 'state bonds']<br>[0.05 0.14 0.05 0.2  0.17 0.06 0.   0.17 0.03 0.12]",
          "['corporate bonds' 'state bonds' 'listed foreign public equity' 'buyout'\n 'cash' 'listed domestic public equity' 'public investment funds'\n 'fixed term and savings deposit' 'venture' 'other equity instruments']<br>[0.09 0.13 0.13 0.14 0.13 0.04 0.09 0.02 0.08 0.15]",
          "['buyout' 'listed foreign public equity' 'other equity instruments'\n 'venture' 'corporate bonds' 'listed domestic public equity' 'state bonds'\n 'public investment funds' 'fixed term and savings deposit' 'cash']<br>[0.16 0.09 0.14 0.15 0.07 0.11 0.11 0.01 0.03 0.13]",
          "['public investment funds' 'buyout' 'listed domestic public equity'\n 'corporate bonds' 'venture' 'listed foreign public equity'\n 'other equity instruments' 'cash' 'fixed term and savings deposit'\n 'state bonds']<br>[0.03 0.14 0.04 0.13 0.01 0.14 0.16 0.14 0.07 0.14]",
          "['listed domestic public equity' 'corporate bonds'\n 'public investment funds' 'other equity instruments'\n 'listed foreign public equity' 'buyout' 'state bonds' 'cash'\n 'fixed term and savings deposit' 'venture']<br>[0.01 0.09 0.02 0.06 0.17 0.17 0.09 0.18 0.19 0.02]",
          "['listed domestic public equity' 'listed foreign public equity'\n 'state bonds' 'fixed term and savings deposit' 'corporate bonds' 'cash'\n 'venture' 'buyout' 'public investment funds' 'other equity instruments']<br>[0.   0.01 0.2  0.02 0.08 0.26 0.13 0.14 0.1  0.04]",
          "['fixed term and savings deposit' 'other equity instruments' 'venture'\n 'listed domestic public equity' 'state bonds' 'corporate bonds'\n 'public investment funds' 'listed foreign public equity' 'buyout' 'cash']<br>[0.07 0.12 0.02 0.02 0.16 0.   0.15 0.14 0.15 0.16]",
          "['cash' 'public investment funds' 'listed foreign public equity'\n 'listed domestic public equity' 'buyout' 'fixed term and savings deposit'\n 'corporate bonds' 'venture' 'other equity instruments' 'state bonds']<br>[0.13 0.09 0.04 0.12 0.15 0.   0.1  0.15 0.09 0.13]",
          "['listed domestic public equity' 'venture' 'state bonds'\n 'fixed term and savings deposit' 'buyout' 'corporate bonds' 'cash'\n 'public investment funds' 'other equity instruments'\n 'listed foreign public equity']<br>[0.   0.12 0.01 0.13 0.19 0.1  0.12 0.13 0.1  0.1 ]",
          "['state bonds' 'public investment funds' 'listed domestic public equity'\n 'venture' 'corporate bonds' 'other equity instruments'\n 'fixed term and savings deposit' 'buyout' 'cash'\n 'listed foreign public equity']<br>[0.13 0.13 0.02 0.14 0.11 0.01 0.14 0.14 0.14 0.04]",
          "['state bonds' 'cash' 'listed domestic public equity' 'venture' 'buyout'\n 'other equity instruments' 'public investment funds'\n 'listed foreign public equity' 'corporate bonds'\n 'fixed term and savings deposit']<br>[0.13 0.14 0.05 0.01 0.25 0.1  0.08 0.1  0.01 0.13]",
          "['corporate bonds' 'venture' 'cash' 'listed domestic public equity'\n 'listed foreign public equity' 'state bonds' 'other equity instruments'\n 'public investment funds' 'fixed term and savings deposit' 'buyout']<br>[0.16 0.03 0.13 0.   0.02 0.21 0.14 0.11 0.   0.2 ]",
          "['fixed term and savings deposit' 'listed domestic public equity'\n 'state bonds' 'listed foreign public equity' 'other equity instruments'\n 'buyout' 'cash' 'public investment funds' 'corporate bonds' 'venture']<br>[0.09 0.03 0.06 0.02 0.21 0.22 0.13 0.07 0.05 0.13]",
          "['corporate bonds' 'fixed term and savings deposit' 'state bonds'\n 'listed foreign public equity' 'cash' 'public investment funds' 'buyout'\n 'listed domestic public equity' 'other equity instruments' 'venture']<br>[0.1  0.01 0.17 0.01 0.21 0.06 0.2  0.05 0.12 0.07]",
          "['venture' 'listed domestic public equity'\n 'fixed term and savings deposit' 'cash' 'state bonds' 'buyout'\n 'corporate bonds' 'listed foreign public equity'\n 'other equity instruments' 'public investment funds']<br>[0.18 0.01 0.1  0.16 0.18 0.17 0.04 0.1  0.01 0.05]",
          "['state bonds' 'fixed term and savings deposit' 'buyout' 'venture'\n 'other equity instruments' 'public investment funds' 'cash'\n 'corporate bonds' 'listed foreign public equity'\n 'listed domestic public equity']<br>[0.17 0.2  0.06 0.08 0.04 0.03 0.19 0.16 0.03 0.06]",
          "['cash' 'state bonds' 'other equity instruments'\n 'listed foreign public equity' 'buyout' 'corporate bonds'\n 'fixed term and savings deposit' 'public investment funds' 'venture'\n 'listed domestic public equity']<br>[0.13 0.04 0.1  0.02 0.17 0.02 0.23 0.03 0.22 0.03]",
          "['listed foreign public equity' 'public investment funds'\n 'listed domestic public equity' 'state bonds' 'buyout' 'corporate bonds'\n 'fixed term and savings deposit' 'other equity instruments' 'cash'\n 'venture']<br>[0.   0.14 0.03 0.09 0.03 0.08 0.23 0.03 0.28 0.08]",
          "['fixed term and savings deposit' 'corporate bonds' 'buyout'\n 'listed foreign public equity' 'venture' 'public investment funds' 'cash'\n 'listed domestic public equity' 'other equity instruments' 'state bonds']<br>[0.03 0.14 0.2  0.07 0.13 0.18 0.14 0.01 0.05 0.06]",
          "['state bonds' 'public investment funds' 'venture' 'buyout'\n 'other equity instruments' 'listed domestic public equity' 'cash'\n 'listed foreign public equity' 'fixed term and savings deposit'\n 'corporate bonds']<br>[0.21 0.04 0.04 0.1  0.05 0.   0.15 0.09 0.15 0.17]",
          "['cash' 'listed foreign public equity' 'buyout'\n 'listed domestic public equity' 'fixed term and savings deposit'\n 'venture' 'corporate bonds' 'other equity instruments'\n 'public investment funds' 'state bonds']<br>[0.21 0.02 0.15 0.07 0.12 0.09 0.1  0.04 0.03 0.16]",
          "['buyout' 'public investment funds' 'venture' 'corporate bonds'\n 'other equity instruments' 'listed domestic public equity'\n 'fixed term and savings deposit' 'cash' 'listed foreign public equity'\n 'state bonds']<br>[0.21 0.05 0.01 0.08 0.04 0.03 0.15 0.16 0.16 0.13]",
          "['other equity instruments' 'state bonds' 'venture' 'corporate bonds'\n 'listed foreign public equity' 'buyout' 'public investment funds'\n 'fixed term and savings deposit' 'listed domestic public equity' 'cash']<br>[0.2  0.05 0.07 0.07 0.17 0.16 0.01 0.03 0.1  0.14]",
          "['public investment funds' 'state bonds' 'corporate bonds'\n 'fixed term and savings deposit' 'venture' 'other equity instruments'\n 'listed domestic public equity' 'listed foreign public equity' 'buyout'\n 'cash']<br>[0.03 0.17 0.16 0.12 0.04 0.03 0.   0.12 0.11 0.21]",
          "['listed foreign public equity' 'public investment funds' 'venture'\n 'other equity instruments' 'listed domestic public equity' 'cash'\n 'buyout' 'corporate bonds' 'fixed term and savings deposit' 'state bonds']<br>[0.25 0.01 0.06 0.09 0.   0.15 0.23 0.03 0.08 0.11]",
          "['listed foreign public equity' 'corporate bonds'\n 'other equity instruments' 'public investment funds' 'state bonds'\n 'fixed term and savings deposit' 'venture' 'buyout' 'cash'\n 'listed domestic public equity']<br>[0.04 0.05 0.13 0.01 0.07 0.05 0.2  0.22 0.19 0.04]",
          "['public investment funds' 'listed domestic public equity'\n 'listed foreign public equity' 'state bonds' 'buyout'\n 'other equity instruments' 'corporate bonds' 'venture' 'cash'\n 'fixed term and savings deposit']<br>[0.12 0.   0.01 0.14 0.17 0.05 0.09 0.1  0.17 0.16]",
          "['public investment funds' 'corporate bonds'\n 'listed domestic public equity' 'state bonds' 'buyout'\n 'fixed term and savings deposit' 'other equity instruments' 'venture'\n 'listed foreign public equity' 'cash']<br>[0.07 0.03 0.02 0.02 0.18 0.05 0.23 0.19 0.07 0.14]",
          "['buyout' 'other equity instruments' 'fixed term and savings deposit'\n 'state bonds' 'corporate bonds' 'venture' 'public investment funds'\n 'listed foreign public equity' 'listed domestic public equity' 'cash']<br>[0.18 0.1  0.18 0.1  0.1  0.02 0.01 0.12 0.03 0.17]",
          "['cash' 'public investment funds' 'fixed term and savings deposit'\n 'other equity instruments' 'listed domestic public equity' 'state bonds'\n 'buyout' 'corporate bonds' 'venture' 'listed foreign public equity']<br>[0.13 0.03 0.13 0.09 0.   0.12 0.16 0.12 0.11 0.12]",
          "['listed foreign public equity' 'venture' 'fixed term and savings deposit'\n 'corporate bonds' 'listed domestic public equity' 'state bonds'\n 'public investment funds' 'buyout' 'cash' 'other equity instruments']<br>[0.06 0.03 0.24 0.   0.01 0.09 0.   0.2  0.23 0.14]",
          "['state bonds' 'public investment funds' 'listed domestic public equity'\n 'corporate bonds' 'fixed term and savings deposit'\n 'listed foreign public equity' 'venture' 'buyout'\n 'other equity instruments' 'cash']<br>[0.15 0.01 0.06 0.02 0.09 0.17 0.11 0.18 0.05 0.16]",
          "['venture' 'cash' 'fixed term and savings deposit' 'buyout' 'state bonds'\n 'listed foreign public equity' 'corporate bonds'\n 'other equity instruments' 'public investment funds'\n 'listed domestic public equity']<br>[0.2  0.16 0.04 0.18 0.05 0.06 0.14 0.13 0.01 0.02]",
          "['venture' 'other equity instruments' 'corporate bonds' 'buyout'\n 'listed foreign public equity' 'cash' 'public investment funds'\n 'state bonds' 'listed domestic public equity'\n 'fixed term and savings deposit']<br>[0.08 0.06 0.14 0.14 0.11 0.13 0.   0.14 0.02 0.16]",
          "['buyout' 'listed domestic public equity' 'other equity instruments'\n 'state bonds' 'public investment funds' 'corporate bonds'\n 'listed foreign public equity' 'cash' 'fixed term and savings deposit'\n 'venture']<br>[0.25 0.04 0.08 0.04 0.04 0.08 0.04 0.24 0.04 0.16]",
          "['fixed term and savings deposit' 'corporate bonds'\n 'listed foreign public equity' 'cash' 'listed domestic public equity'\n 'venture' 'buyout' 'other equity instruments' 'state bonds'\n 'public investment funds']<br>[0.   0.08 0.05 0.16 0.12 0.14 0.21 0.19 0.06 0.01]",
          "['state bonds' 'cash' 'other equity instruments' 'venture'\n 'corporate bonds' 'fixed term and savings deposit' 'buyout'\n 'public investment funds' 'listed foreign public equity'\n 'listed domestic public equity']<br>[0.21 0.22 0.03 0.08 0.12 0.19 0.06 0.03 0.01 0.05]",
          "['fixed term and savings deposit' 'venture' 'cash'\n 'public investment funds' 'listed foreign public equity'\n 'other equity instruments' 'corporate bonds'\n 'listed domestic public equity' 'buyout' 'state bonds']<br>[0.12 0.09 0.17 0.03 0.07 0.08 0.22 0.03 0.2  0.  ]",
          "['state bonds' 'cash' 'other equity instruments' 'public investment funds'\n 'corporate bonds' 'listed domestic public equity'\n 'listed foreign public equity' 'buyout' 'fixed term and savings deposit'\n 'venture']<br>[0.19 0.17 0.03 0.04 0.2  0.   0.04 0.12 0.08 0.12]",
          "['state bonds' 'corporate bonds' 'listed domestic public equity' 'buyout'\n 'fixed term and savings deposit' 'venture' 'other equity instruments'\n 'listed foreign public equity' 'cash' 'public investment funds']<br>[0.24 0.1  0.02 0.26 0.05 0.06 0.01 0.07 0.15 0.03]",
          "['public investment funds' 'buyout' 'other equity instruments'\n 'state bonds' 'cash' 'fixed term and savings deposit' 'corporate bonds'\n 'venture' 'listed domestic public equity' 'listed foreign public equity']<br>[0.02 0.25 0.   0.01 0.15 0.1  0.17 0.2  0.01 0.09]",
          "['cash' 'other equity instruments' 'corporate bonds'\n 'fixed term and savings deposit' 'listed foreign public equity' 'buyout'\n 'public investment funds' 'listed domestic public equity' 'venture'\n 'state bonds']<br>[0.2  0.08 0.02 0.01 0.19 0.23 0.   0.03 0.12 0.13]",
          "['corporate bonds' 'public investment funds' 'state bonds' 'buyout'\n 'listed foreign public equity' 'listed domestic public equity'\n 'fixed term and savings deposit' 'other equity instruments' 'venture'\n 'cash']<br>[0.   0.05 0.07 0.24 0.07 0.03 0.11 0.12 0.15 0.16]",
          "['other equity instruments' 'cash' 'listed domestic public equity'\n 'venture' 'buyout' 'public investment funds'\n 'listed foreign public equity' 'state bonds' 'corporate bonds'\n 'fixed term and savings deposit']<br>[0.21 0.16 0.01 0.08 0.22 0.07 0.02 0.2  0.01 0.02]",
          "['other equity instruments' 'buyout' 'listed domestic public equity'\n 'state bonds' 'fixed term and savings deposit'\n 'listed foreign public equity' 'corporate bonds' 'cash' 'venture'\n 'public investment funds']<br>[0.22 0.22 0.14 0.02 0.01 0.09 0.04 0.19 0.08 0.  ]",
          "['public investment funds' 'listed domestic public equity' 'state bonds'\n 'venture' 'corporate bonds' 'listed foreign public equity'\n 'other equity instruments' 'buyout' 'cash'\n 'fixed term and savings deposit']<br>[0.03 0.   0.18 0.13 0.07 0.14 0.04 0.21 0.16 0.03]",
          "['listed foreign public equity' 'corporate bonds'\n 'public investment funds' 'listed domestic public equity' 'buyout'\n 'other equity instruments' 'venture' 'state bonds'\n 'fixed term and savings deposit' 'cash']<br>[0.   0.14 0.04 0.04 0.14 0.01 0.11 0.14 0.18 0.19]",
          "['other equity instruments' 'state bonds' 'fixed term and savings deposit'\n 'public investment funds' 'venture' 'listed foreign public equity'\n 'listed domestic public equity' 'corporate bonds' 'buyout' 'cash']<br>[0.06 0.13 0.02 0.02 0.05 0.01 0.   0.11 0.31 0.29]",
          "['fixed term and savings deposit' 'state bonds' 'venture' 'buyout'\n 'corporate bonds' 'listed foreign public equity'\n 'other equity instruments' 'public investment funds'\n 'listed domestic public equity' 'cash']<br>[0.02 0.06 0.01 0.23 0.03 0.03 0.2  0.23 0.01 0.17]",
          "['corporate bonds' 'listed foreign public equity' 'state bonds'\n 'other equity instruments' 'cash' 'venture'\n 'listed domestic public equity' 'public investment funds'\n 'fixed term and savings deposit' 'buyout']<br>[0.06 0.09 0.25 0.01 0.25 0.03 0.06 0.01 0.17 0.06]",
          "['corporate bonds' 'cash' 'listed domestic public equity' 'state bonds'\n 'fixed term and savings deposit' 'buyout' 'public investment funds'\n 'listed foreign public equity' 'venture' 'other equity instruments']<br>[0.09 0.15 0.01 0.13 0.02 0.14 0.   0.09 0.26 0.13]",
          "['cash' 'listed foreign public equity' 'state bonds' 'buyout'\n 'public investment funds' 'venture' 'other equity instruments'\n 'fixed term and savings deposit' 'listed domestic public equity'\n 'corporate bonds']<br>[0.14 0.19 0.16 0.21 0.06 0.1  0.04 0.09 0.01 0.02]",
          "['listed domestic public equity' 'buyout' 'other equity instruments'\n 'cash' 'fixed term and savings deposit' 'public investment funds'\n 'listed foreign public equity' 'venture' 'state bonds' 'corporate bonds']<br>[0.02 0.18 0.07 0.17 0.   0.02 0.13 0.18 0.12 0.11]",
          "['cash' 'corporate bonds' 'listed foreign public equity' 'buyout'\n 'public investment funds' 'other equity instruments' 'venture'\n 'listed domestic public equity' 'state bonds'\n 'fixed term and savings deposit']<br>[0.13 0.   0.15 0.18 0.01 0.21 0.09 0.01 0.21 0.  ]",
          "['state bonds' 'venture' 'public investment funds'\n 'fixed term and savings deposit' 'corporate bonds' 'cash'\n 'listed foreign public equity' 'buyout' 'other equity instruments'\n 'listed domestic public equity']<br>[0.02 0.05 0.   0.01 0.27 0.21 0.06 0.26 0.1  0.03]",
          "['corporate bonds' 'public investment funds'\n 'fixed term and savings deposit' 'listed domestic public equity'\n 'other equity instruments' 'buyout' 'state bonds'\n 'listed foreign public equity' 'cash' 'venture']<br>[0.08 0.01 0.   0.08 0.21 0.2  0.13 0.13 0.13 0.03]",
          "['cash' 'buyout' 'public investment funds' 'corporate bonds'\n 'fixed term and savings deposit' 'other equity instruments' 'state bonds'\n 'venture' 'listed foreign public equity' 'listed domestic public equity']<br>[0.24 0.29 0.05 0.06 0.09 0.01 0.06 0.1  0.09 0.01]",
          "['public investment funds' 'listed domestic public equity' 'venture'\n 'fixed term and savings deposit' 'corporate bonds'\n 'other equity instruments' 'listed foreign public equity' 'state bonds'\n 'cash' 'buyout']<br>[0.04 0.03 0.13 0.09 0.17 0.02 0.   0.17 0.14 0.21]",
          "['fixed term and savings deposit' 'state bonds'\n 'listed domestic public equity' 'listed foreign public equity'\n 'corporate bonds' 'public investment funds' 'other equity instruments'\n 'buyout' 'venture' 'cash']<br>[0.01 0.26 0.06 0.01 0.06 0.11 0.03 0.25 0.1  0.12]",
          "['listed foreign public equity' 'buyout' 'venture'\n 'other equity instruments' 'state bonds' 'cash'\n 'listed domestic public equity' 'public investment funds'\n 'corporate bonds' 'fixed term and savings deposit']<br>[0.01 0.05 0.16 0.03 0.17 0.15 0.04 0.01 0.18 0.2 ]",
          "['public investment funds' 'cash' 'state bonds' 'buyout' 'venture'\n 'listed domestic public equity' 'corporate bonds'\n 'other equity instruments' 'fixed term and savings deposit'\n 'listed foreign public equity']<br>[0.04 0.23 0.1  0.26 0.12 0.05 0.05 0.07 0.   0.07]",
          "['venture' 'listed foreign public equity' 'other equity instruments'\n 'listed domestic public equity' 'public investment funds' 'cash'\n 'state bonds' 'fixed term and savings deposit' 'corporate bonds' 'buyout']<br>[0.07 0.03 0.03 0.01 0.11 0.26 0.07 0.   0.14 0.29]",
          "['cash' 'public investment funds' 'listed foreign public equity'\n 'state bonds' 'listed domestic public equity'\n 'fixed term and savings deposit' 'buyout' 'corporate bonds'\n 'other equity instruments' 'venture']<br>[0.13 0.06 0.04 0.12 0.07 0.02 0.24 0.08 0.05 0.19]",
          "['listed domestic public equity' 'listed foreign public equity'\n 'other equity instruments' 'venture' 'state bonds' 'buyout'\n 'fixed term and savings deposit' 'corporate bonds'\n 'public investment funds' 'cash']<br>[0.01 0.05 0.   0.13 0.08 0.23 0.19 0.04 0.01 0.26]",
          "['corporate bonds' 'venture' 'fixed term and savings deposit' 'cash'\n 'listed foreign public equity' 'other equity instruments'\n 'public investment funds' 'state bonds' 'listed domestic public equity'\n 'buyout']<br>[0.13 0.04 0.01 0.16 0.05 0.02 0.06 0.23 0.01 0.29]",
          "['venture' 'public investment funds' 'corporate bonds'\n 'listed foreign public equity' 'fixed term and savings deposit'\n 'listed domestic public equity' 'cash' 'other equity instruments'\n 'buyout' 'state bonds']<br>[0.04 0.   0.07 0.24 0.05 0.   0.14 0.18 0.19 0.09]",
          "['listed domestic public equity' 'fixed term and savings deposit' 'cash'\n 'listed foreign public equity' 'venture' 'corporate bonds'\n 'public investment funds' 'buyout' 'other equity instruments'\n 'state bonds']<br>[0.02 0.07 0.13 0.18 0.09 0.05 0.   0.22 0.16 0.08]",
          "['listed domestic public equity' 'cash' 'other equity instruments'\n 'listed foreign public equity' 'public investment funds'\n 'fixed term and savings deposit' 'buyout' 'corporate bonds' 'state bonds'\n 'venture']<br>[0.02 0.16 0.11 0.23 0.03 0.   0.23 0.04 0.12 0.06]",
          "['corporate bonds' 'public investment funds' 'buyout'\n 'other equity instruments' 'listed domestic public equity'\n 'listed foreign public equity' 'fixed term and savings deposit' 'cash'\n 'state bonds' 'venture']<br>[0.03 0.03 0.31 0.1  0.12 0.09 0.02 0.12 0.18 0.01]",
          "['listed foreign public equity' 'other equity instruments'\n 'listed domestic public equity' 'cash' 'public investment funds'\n 'corporate bonds' 'buyout' 'fixed term and savings deposit' 'venture'\n 'state bonds']<br>[0.17 0.11 0.01 0.12 0.03 0.01 0.22 0.11 0.15 0.06]",
          "['venture' 'other equity instruments' 'buyout' 'public investment funds'\n 'fixed term and savings deposit' 'corporate bonds'\n 'listed domestic public equity' 'listed foreign public equity'\n 'state bonds' 'cash']<br>[0.07 0.17 0.21 0.11 0.07 0.12 0.01 0.   0.13 0.12]",
          "['cash' 'public investment funds' 'listed foreign public equity'\n 'state bonds' 'corporate bonds' 'buyout' 'venture'\n 'listed domestic public equity' 'fixed term and savings deposit'\n 'other equity instruments']<br>[0.16 0.02 0.03 0.17 0.14 0.16 0.06 0.03 0.18 0.06]",
          "['state bonds' 'public investment funds' 'listed foreign public equity'\n 'cash' 'venture' 'fixed term and savings deposit'\n 'listed domestic public equity' 'corporate bonds' 'buyout'\n 'other equity instruments']<br>[0.05 0.03 0.24 0.12 0.03 0.01 0.12 0.03 0.17 0.2 ]",
          "['public investment funds' 'listed foreign public equity' 'state bonds'\n 'venture' 'corporate bonds' 'listed domestic public equity' 'cash'\n 'fixed term and savings deposit' 'buyout' 'other equity instruments']<br>[0.09 0.02 0.01 0.1  0.09 0.02 0.16 0.15 0.26 0.1 ]",
          "['other equity instruments' 'listed domestic public equity' 'cash'\n 'venture' 'buyout' 'listed foreign public equity'\n 'public investment funds' 'corporate bonds' 'state bonds'\n 'fixed term and savings deposit']<br>[0.04 0.04 0.21 0.11 0.07 0.02 0.01 0.17 0.15 0.17]",
          "['venture' 'other equity instruments' 'listed domestic public equity'\n 'buyout' 'public investment funds' 'state bonds'\n 'fixed term and savings deposit' 'corporate bonds' 'cash'\n 'listed foreign public equity']<br>[0.07 0.14 0.03 0.25 0.18 0.01 0.01 0.06 0.13 0.11]",
          "['other equity instruments' 'fixed term and savings deposit'\n 'corporate bonds' 'listed domestic public equity'\n 'public investment funds' 'state bonds' 'buyout'\n 'listed foreign public equity' 'cash' 'venture']<br>[0.02 0.09 0.24 0.03 0.01 0.32 0.04 0.08 0.16 0.01]",
          "['listed domestic public equity' 'public investment funds'\n 'listed foreign public equity' 'corporate bonds'\n 'other equity instruments' 'state bonds' 'venture' 'cash' 'buyout'\n 'fixed term and savings deposit']<br>[0.03 0.   0.14 0.06 0.24 0.1  0.   0.18 0.24 0.01]",
          "['cash' 'state bonds' 'listed domestic public equity' 'buyout' 'venture'\n 'public investment funds' 'corporate bonds'\n 'fixed term and savings deposit' 'other equity instruments'\n 'listed foreign public equity']<br>[0.13 0.15 0.03 0.23 0.12 0.01 0.11 0.01 0.12 0.09]",
          "['cash' 'other equity instruments' 'listed foreign public equity'\n 'corporate bonds' 'venture' 'state bonds'\n 'fixed term and savings deposit' 'buyout' 'listed domestic public equity'\n 'public investment funds']<br>[0.16 0.11 0.2  0.01 0.02 0.03 0.05 0.27 0.09 0.06]",
          "['state bonds' 'cash' 'buyout' 'other equity instruments'\n 'fixed term and savings deposit' 'listed domestic public equity'\n 'corporate bonds' 'venture' 'public investment funds'\n 'listed foreign public equity']<br>[0.26 0.13 0.26 0.01 0.09 0.01 0.07 0.05 0.09 0.02]",
          "['corporate bonds' 'fixed term and savings deposit' 'venture' 'cash'\n 'other equity instruments' 'listed foreign public equity' 'state bonds'\n 'listed domestic public equity' 'public investment funds' 'buyout']<br>[0.07 0.1  0.08 0.18 0.1  0.04 0.06 0.04 0.03 0.31]",
          "['buyout' 'state bonds' 'fixed term and savings deposit' 'venture'\n 'other equity instruments' 'public investment funds'\n 'listed foreign public equity' 'corporate bonds' 'cash'\n 'listed domestic public equity']<br>[0.12 0.13 0.22 0.04 0.04 0.04 0.07 0.07 0.27 0.  ]",
          "['buyout' 'corporate bonds' 'public investment funds' 'state bonds'\n 'venture' 'listed domestic public equity' 'cash'\n 'fixed term and savings deposit' 'other equity instruments'\n 'listed foreign public equity']<br>[0.29 0.02 0.07 0.03 0.07 0.05 0.18 0.01 0.24 0.03]",
          "['corporate bonds' 'fixed term and savings deposit' 'cash'\n 'other equity instruments' 'public investment funds' 'buyout' 'venture'\n 'listed foreign public equity' 'state bonds'\n 'listed domestic public equity']<br>[0.14 0.2  0.23 0.06 0.02 0.24 0.06 0.01 0.03 0.01]",
          "['corporate bonds' 'other equity instruments'\n 'listed foreign public equity' 'fixed term and savings deposit'\n 'state bonds' 'listed domestic public equity' 'buyout' 'venture'\n 'public investment funds' 'cash']<br>[0.06 0.09 0.15 0.03 0.11 0.01 0.25 0.05 0.1  0.14]",
          "['corporate bonds' 'listed foreign public equity'\n 'listed domestic public equity' 'fixed term and savings deposit'\n 'venture' 'state bonds' 'cash' 'other equity instruments'\n 'public investment funds' 'buyout']<br>[0.12 0.03 0.01 0.17 0.01 0.22 0.22 0.02 0.03 0.17]",
          "['public investment funds' 'state bonds' 'cash'\n 'listed foreign public equity' 'listed domestic public equity'\n 'other equity instruments' 'fixed term and savings deposit' 'buyout'\n 'corporate bonds' 'venture']<br>[0.1  0.16 0.17 0.   0.03 0.01 0.16 0.16 0.19 0.01]",
          "['cash' 'buyout' 'venture' 'listed domestic public equity'\n 'listed foreign public equity' 'public investment funds'\n 'other equity instruments' 'fixed term and savings deposit'\n 'corporate bonds' 'state bonds']<br>[0.14 0.23 0.14 0.02 0.1  0.02 0.22 0.08 0.04 0.02]",
          "['listed domestic public equity' 'corporate bonds'\n 'fixed term and savings deposit' 'state bonds' 'venture'\n 'public investment funds' 'listed foreign public equity' 'cash' 'buyout'\n 'other equity instruments']<br>[0.04 0.1  0.01 0.   0.01 0.06 0.23 0.2  0.29 0.06]",
          "['fixed term and savings deposit' 'listed domestic public equity'\n 'listed foreign public equity' 'venture' 'other equity instruments'\n 'buyout' 'public investment funds' 'state bonds' 'cash' 'corporate bonds']<br>[0.03 0.07 0.   0.02 0.01 0.18 0.03 0.23 0.19 0.23]",
          "['fixed term and savings deposit' 'listed domestic public equity'\n 'public investment funds' 'cash' 'venture' 'listed foreign public equity'\n 'state bonds' 'corporate bonds' 'other equity instruments' 'buyout']<br>[0.1  0.01 0.04 0.16 0.05 0.05 0.25 0.08 0.05 0.21]",
          "['state bonds' 'buyout' 'venture' 'cash' 'other equity instruments'\n 'listed domestic public equity' 'fixed term and savings deposit'\n 'corporate bonds' 'listed foreign public equity'\n 'public investment funds']<br>[0.16 0.16 0.08 0.16 0.02 0.03 0.13 0.17 0.06 0.01]",
          "['public investment funds' 'corporate bonds' 'state bonds' 'venture'\n 'listed domestic public equity' 'other equity instruments'\n 'listed foreign public equity' 'buyout' 'fixed term and savings deposit'\n 'cash']<br>[0.02 0.19 0.19 0.   0.05 0.03 0.04 0.13 0.2  0.14]",
          "['other equity instruments' 'state bonds' 'venture'\n 'listed foreign public equity' 'listed domestic public equity'\n 'corporate bonds' 'cash' 'fixed term and savings deposit' 'buyout'\n 'public investment funds']<br>[0.13 0.06 0.16 0.1  0.02 0.02 0.23 0.01 0.24 0.03]",
          "['public investment funds' 'listed domestic public equity' 'cash'\n 'listed foreign public equity' 'buyout' 'corporate bonds'\n 'fixed term and savings deposit' 'other equity instruments' 'venture'\n 'state bonds']<br>[0.17 0.   0.13 0.05 0.27 0.17 0.05 0.07 0.01 0.09]",
          "['other equity instruments' 'state bonds' 'cash'\n 'listed domestic public equity' 'corporate bonds'\n 'fixed term and savings deposit' 'listed foreign public equity' 'buyout'\n 'public investment funds' 'venture']<br>[0.03 0.12 0.19 0.01 0.11 0.06 0.   0.29 0.01 0.18]",
          "['venture' 'state bonds' 'other equity instruments' 'corporate bonds'\n 'listed foreign public equity' 'buyout' 'public investment funds' 'cash'\n 'listed domestic public equity' 'fixed term and savings deposit']<br>[0.   0.19 0.06 0.1  0.   0.16 0.03 0.2  0.04 0.2 ]",
          "['listed domestic public equity' 'buyout' 'other equity instruments'\n 'cash' 'venture' 'fixed term and savings deposit' 'state bonds'\n 'listed foreign public equity' 'corporate bonds'\n 'public investment funds']<br>[0.05 0.22 0.01 0.13 0.14 0.01 0.23 0.14 0.06 0.  ]",
          "['other equity instruments' 'cash' 'listed domestic public equity'\n 'buyout' 'fixed term and savings deposit' 'state bonds' 'venture'\n 'public investment funds' 'listed foreign public equity'\n 'corporate bonds']<br>[0.03 0.13 0.01 0.27 0.07 0.1  0.22 0.08 0.04 0.06]",
          "['venture' 'cash' 'state bonds' 'listed foreign public equity'\n 'fixed term and savings deposit' 'other equity instruments'\n 'corporate bonds' 'listed domestic public equity' 'buyout'\n 'public investment funds']<br>[0.11 0.22 0.22 0.01 0.12 0.04 0.12 0.04 0.13 0.01]",
          "['venture' 'listed foreign public equity' 'cash' 'public investment funds'\n 'state bonds' 'fixed term and savings deposit' 'corporate bonds' 'buyout'\n 'other equity instruments' 'listed domestic public equity']<br>[0.09 0.13 0.16 0.   0.21 0.   0.05 0.23 0.11 0.02]",
          "['corporate bonds' 'listed foreign public equity'\n 'fixed term and savings deposit' 'buyout' 'state bonds'\n 'listed domestic public equity' 'cash' 'public investment funds'\n 'venture' 'other equity instruments']<br>[0.13 0.01 0.2  0.18 0.15 0.05 0.2  0.01 0.03 0.05]",
          "['listed domestic public equity' 'buyout' 'listed foreign public equity'\n 'fixed term and savings deposit' 'cash' 'corporate bonds' 'state bonds'\n 'public investment funds' 'other equity instruments' 'venture']<br>[0.08 0.29 0.   0.03 0.13 0.16 0.07 0.02 0.2  0.02]",
          "['listed foreign public equity' 'corporate bonds'\n 'listed domestic public equity' 'cash' 'state bonds'\n 'fixed term and savings deposit' 'buyout' 'other equity instruments'\n 'venture' 'public investment funds']<br>[0.06 0.16 0.04 0.21 0.13 0.15 0.21 0.02 0.04 0.  ]",
          "['listed domestic public equity' 'venture' 'corporate bonds' 'buyout'\n 'state bonds' 'cash' 'public investment funds' 'other equity instruments'\n 'listed foreign public equity' 'fixed term and savings deposit']<br>[0.04 0.1  0.04 0.26 0.14 0.16 0.   0.1  0.13 0.02]",
          "['public investment funds' 'cash' 'corporate bonds'\n 'listed domestic public equity' 'fixed term and savings deposit'\n 'other equity instruments' 'listed foreign public equity' 'buyout'\n 'venture' 'state bonds']<br>[0.01 0.27 0.03 0.02 0.03 0.04 0.03 0.28 0.22 0.07]",
          "['venture' 'state bonds' 'buyout' 'listed foreign public equity'\n 'listed domestic public equity' 'cash' 'public investment funds'\n 'fixed term and savings deposit' 'other equity instruments'\n 'corporate bonds']<br>[0.2  0.08 0.27 0.11 0.03 0.13 0.01 0.02 0.01 0.15]",
          "['listed domestic public equity' 'venture' 'public investment funds'\n 'fixed term and savings deposit' 'cash' 'state bonds'\n 'listed foreign public equity' 'corporate bonds' 'buyout'\n 'other equity instruments']<br>[0.03 0.03 0.01 0.09 0.24 0.11 0.   0.3  0.18 0.  ]",
          "['public investment funds' 'cash' 'other equity instruments' 'buyout'\n 'fixed term and savings deposit' 'listed foreign public equity'\n 'corporate bonds' 'venture' 'listed domestic public equity' 'state bonds']<br>[0.03 0.16 0.   0.27 0.01 0.04 0.1  0.15 0.04 0.19]",
          "['listed domestic public equity' 'fixed term and savings deposit'\n 'venture' 'buyout' 'other equity instruments' 'state bonds'\n 'public investment funds' 'cash' 'corporate bonds'\n 'listed foreign public equity']<br>[0.03 0.21 0.08 0.21 0.04 0.23 0.02 0.15 0.   0.04]",
          "['venture' 'cash' 'listed domestic public equity'\n 'public investment funds' 'fixed term and savings deposit'\n 'listed foreign public equity' 'corporate bonds'\n 'other equity instruments' 'state bonds' 'buyout']<br>[0.02 0.17 0.02 0.   0.29 0.04 0.26 0.04 0.12 0.03]",
          "['venture' 'fixed term and savings deposit' 'public investment funds'\n 'cash' 'listed foreign public equity' 'state bonds'\n 'listed domestic public equity' 'other equity instruments'\n 'corporate bonds' 'buyout']<br>[0.07 0.26 0.01 0.19 0.02 0.05 0.02 0.01 0.08 0.3 ]",
          "['cash' 'venture' 'state bonds' 'listed foreign public equity'\n 'fixed term and savings deposit' 'corporate bonds'\n 'other equity instruments' 'public investment funds' 'buyout'\n 'listed domestic public equity']<br>[0.25 0.1  0.18 0.02 0.02 0.11 0.   0.01 0.28 0.03]",
          "['venture' 'listed foreign public equity' 'fixed term and savings deposit'\n 'cash' 'state bonds' 'listed domestic public equity' 'buyout'\n 'other equity instruments' 'corporate bonds' 'public investment funds']<br>[0.01 0.07 0.04 0.17 0.03 0.02 0.3  0.18 0.14 0.03]",
          "['cash' 'corporate bonds' 'state bonds' 'buyout'\n 'listed domestic public equity' 'public investment funds'\n 'other equity instruments' 'fixed term and savings deposit'\n 'listed foreign public equity' 'venture']<br>[0.13 0.17 0.18 0.19 0.03 0.   0.04 0.18 0.04 0.04]",
          "['other equity instruments' 'state bonds' 'public investment funds' 'cash'\n 'fixed term and savings deposit' 'venture'\n 'listed domestic public equity' 'buyout' 'listed foreign public equity'\n 'corporate bonds']<br>[0.12 0.2  0.01 0.15 0.05 0.16 0.   0.2  0.06 0.04]",
          "['corporate bonds' 'fixed term and savings deposit' 'cash' 'buyout'\n 'public investment funds' 'other equity instruments' 'venture'\n 'listed foreign public equity' 'state bonds'\n 'listed domestic public equity']<br>[0.02 0.03 0.13 0.24 0.05 0.28 0.04 0.01 0.14 0.06]",
          "['listed foreign public equity' 'other equity instruments' 'state bonds'\n 'public investment funds' 'buyout' 'corporate bonds' 'venture'\n 'listed domestic public equity' 'cash' 'fixed term and savings deposit']<br>[0.11 0.07 0.07 0.06 0.25 0.17 0.05 0.01 0.14 0.07]",
          "['cash' 'public investment funds' 'fixed term and savings deposit'\n 'listed domestic public equity' 'listed foreign public equity' 'venture'\n 'buyout' 'other equity instruments' 'state bonds' 'corporate bonds']<br>[0.15 0.03 0.01 0.02 0.01 0.07 0.24 0.16 0.22 0.09]",
          "['other equity instruments' 'venture' 'fixed term and savings deposit'\n 'state bonds' 'corporate bonds' 'public investment funds' 'buyout'\n 'listed foreign public equity' 'cash' 'listed domestic public equity']<br>[0.   0.02 0.28 0.24 0.01 0.01 0.09 0.08 0.25 0.01]",
          "['listed domestic public equity' 'cash' 'public investment funds'\n 'other equity instruments' 'fixed term and savings deposit' 'buyout'\n 'state bonds' 'listed foreign public equity' 'venture' 'corporate bonds']<br>[0.03 0.17 0.02 0.01 0.25 0.2  0.04 0.01 0.04 0.23]",
          "['cash' 'state bonds' 'venture' 'listed foreign public equity'\n 'listed domestic public equity' 'public investment funds'\n 'other equity instruments' 'buyout' 'corporate bonds'\n 'fixed term and savings deposit']<br>[0.14 0.24 0.   0.06 0.03 0.03 0.01 0.15 0.25 0.1 ]",
          "['corporate bonds' 'listed foreign public equity' 'buyout'\n 'listed domestic public equity' 'state bonds' 'other equity instruments'\n 'venture' 'fixed term and savings deposit' 'cash'\n 'public investment funds']<br>[0.18 0.07 0.22 0.01 0.14 0.02 0.01 0.16 0.18 0.01]",
          "['corporate bonds' 'public investment funds' 'state bonds' 'buyout'\n 'fixed term and savings deposit' 'venture' 'listed foreign public equity'\n 'other equity instruments' 'cash' 'listed domestic public equity']<br>[0.03 0.06 0.19 0.32 0.05 0.07 0.01 0.11 0.15 0.01]",
          "['listed foreign public equity' 'cash' 'state bonds'\n 'fixed term and savings deposit' 'listed domestic public equity' 'buyout'\n 'other equity instruments' 'corporate bonds' 'public investment funds'\n 'venture']<br>[0.04 0.2  0.27 0.12 0.   0.28 0.04 0.   0.03 0.01]",
          "['venture' 'fixed term and savings deposit' 'corporate bonds'\n 'listed foreign public equity' 'state bonds'\n 'listed domestic public equity' 'other equity instruments' 'cash'\n 'buyout' 'public investment funds']<br>[0.08 0.08 0.2  0.01 0.15 0.   0.03 0.24 0.15 0.05]",
          "['cash' 'buyout' 'listed foreign public equity' 'corporate bonds'\n 'venture' 'listed domestic public equity' 'public investment funds'\n 'state bonds' 'other equity instruments' 'fixed term and savings deposit']<br>[0.18 0.15 0.04 0.13 0.1  0.03 0.   0.18 0.   0.19]",
          "['venture' 'buyout' 'state bonds' 'corporate bonds' 'cash'\n 'other equity instruments' 'public investment funds'\n 'listed domestic public equity' 'fixed term and savings deposit'\n 'listed foreign public equity']<br>[0.17 0.15 0.17 0.12 0.17 0.03 0.01 0.01 0.16 0.02]",
          "['corporate bonds' 'cash' 'listed foreign public equity' 'buyout'\n 'venture' 'state bonds' 'public investment funds'\n 'other equity instruments' 'listed domestic public equity'\n 'fixed term and savings deposit']<br>[0.06 0.22 0.02 0.17 0.19 0.27 0.01 0.01 0.01 0.04]",
          "['other equity instruments' 'listed domestic public equity' 'buyout'\n 'state bonds' 'fixed term and savings deposit'\n 'listed foreign public equity' 'venture' 'cash' 'public investment funds'\n 'corporate bonds']<br>[0.01 0.04 0.33 0.17 0.04 0.11 0.1  0.16 0.01 0.03]",
          "['fixed term and savings deposit' 'corporate bonds' 'buyout' 'state bonds'\n 'listed domestic public equity' 'venture' 'public investment funds'\n 'cash' 'other equity instruments' 'listed foreign public equity']<br>[0.04 0.05 0.24 0.07 0.07 0.14 0.01 0.13 0.26 0.  ]",
          "['state bonds' 'corporate bonds' 'buyout' 'public investment funds'\n 'listed domestic public equity' 'cash' 'listed foreign public equity'\n 'other equity instruments' 'venture' 'fixed term and savings deposit']<br>[0.32 0.1  0.02 0.07 0.   0.27 0.04 0.01 0.   0.18]",
          "['listed domestic public equity' 'corporate bonds'\n 'fixed term and savings deposit' 'buyout' 'state bonds' 'cash'\n 'public investment funds' 'listed foreign public equity'\n 'other equity instruments' 'venture']<br>[0.01 0.17 0.02 0.22 0.17 0.13 0.08 0.03 0.12 0.06]",
          "['cash' 'listed domestic public equity' 'venture' 'corporate bonds'\n 'public investment funds' 'fixed term and savings deposit' 'state bonds'\n 'other equity instruments' 'buyout' 'listed foreign public equity']<br>[0.13 0.04 0.1  0.13 0.03 0.06 0.06 0.1  0.29 0.06]",
          "['cash' 'listed foreign public equity' 'public investment funds'\n 'other equity instruments' 'buyout' 'state bonds' 'corporate bonds'\n 'listed domestic public equity' 'fixed term and savings deposit'\n 'venture']<br>[0.13 0.02 0.07 0.05 0.31 0.32 0.03 0.01 0.04 0.01]",
          "['other equity instruments' 'fixed term and savings deposit'\n 'corporate bonds' 'listed foreign public equity' 'buyout' 'state bonds'\n 'listed domestic public equity' 'public investment funds' 'venture'\n 'cash']<br>[0.29 0.02 0.03 0.08 0.24 0.03 0.15 0.   0.01 0.14]",
          "['other equity instruments' 'corporate bonds'\n 'listed domestic public equity' 'listed foreign public equity' 'cash'\n 'buyout' 'fixed term and savings deposit' 'venture'\n 'public investment funds' 'state bonds']<br>[0.04 0.01 0.01 0.07 0.3  0.17 0.16 0.   0.   0.24]",
          "['buyout' 'venture' 'public investment funds' 'other equity instruments'\n 'corporate bonds' 'fixed term and savings deposit'\n 'listed foreign public equity' 'cash' 'listed domestic public equity'\n 'state bonds']<br>[0.2  0.1  0.   0.23 0.07 0.01 0.17 0.14 0.01 0.06]",
          "['venture' 'other equity instruments' 'cash' 'public investment funds'\n 'listed foreign public equity' 'listed domestic public equity'\n 'state bonds' 'fixed term and savings deposit' 'buyout' 'corporate bonds']<br>[0.05 0.07 0.2  0.   0.01 0.   0.19 0.15 0.14 0.2 ]",
          "['cash' 'fixed term and savings deposit' 'listed domestic public equity'\n 'state bonds' 'other equity instruments' 'public investment funds'\n 'corporate bonds' 'listed foreign public equity' 'buyout' 'venture']<br>[0.12 0.06 0.05 0.01 0.03 0.07 0.09 0.22 0.29 0.06]",
          "['buyout' 'fixed term and savings deposit' 'venture'\n 'listed domestic public equity' 'state bonds' 'other equity instruments'\n 'cash' 'corporate bonds' 'listed foreign public equity'\n 'public investment funds']<br>[0.24 0.07 0.03 0.   0.03 0.24 0.17 0.02 0.16 0.04]",
          "['listed foreign public equity' 'fixed term and savings deposit' 'cash'\n 'other equity instruments' 'buyout' 'state bonds'\n 'listed domestic public equity' 'public investment funds' 'venture'\n 'corporate bonds']<br>[0.04 0.03 0.12 0.05 0.29 0.03 0.02 0.01 0.24 0.16]",
          "['state bonds' 'other equity instruments' 'cash' 'public investment funds'\n 'listed foreign public equity' 'buyout' 'fixed term and savings deposit'\n 'listed domestic public equity' 'venture' 'corporate bonds']<br>[0.27 0.06 0.27 0.02 0.05 0.17 0.03 0.01 0.02 0.11]",
          "['buyout' 'public investment funds' 'other equity instruments' 'cash'\n 'listed foreign public equity' 'corporate bonds' 'state bonds' 'venture'\n 'listed domestic public equity' 'fixed term and savings deposit']<br>[0.17 0.03 0.01 0.24 0.04 0.21 0.13 0.07 0.   0.1 ]",
          "['public investment funds' 'listed domestic public equity'\n 'listed foreign public equity' 'cash' 'state bonds' 'venture' 'buyout'\n 'fixed term and savings deposit' 'other equity instruments'\n 'corporate bonds']<br>[0.05 0.01 0.   0.16 0.19 0.04 0.15 0.21 0.04 0.14]",
          "['other equity instruments' 'cash' 'listed foreign public equity'\n 'fixed term and savings deposit' 'public investment funds'\n 'listed domestic public equity' 'state bonds' 'venture' 'corporate bonds'\n 'buyout']<br>[0.01 0.22 0.03 0.15 0.09 0.   0.22 0.02 0.06 0.2 ]",
          "['listed foreign public equity' 'corporate bonds' 'state bonds'\n 'fixed term and savings deposit' 'cash' 'other equity instruments'\n 'buyout' 'public investment funds' 'listed domestic public equity'\n 'venture']<br>[0.05 0.07 0.27 0.02 0.14 0.13 0.28 0.01 0.01 0.02]",
          "['state bonds' 'public investment funds' 'venture'\n 'listed foreign public equity' 'corporate bonds' 'buyout'\n 'listed domestic public equity' 'other equity instruments'\n 'fixed term and savings deposit' 'cash']<br>[0.17 0.02 0.03 0.01 0.07 0.19 0.04 0.04 0.22 0.2 ]",
          "['public investment funds' 'other equity instruments' 'state bonds'\n 'corporate bonds' 'fixed term and savings deposit' 'venture'\n 'listed foreign public equity' 'cash' 'buyout'\n 'listed domestic public equity']<br>[0.   0.16 0.08 0.14 0.04 0.07 0.05 0.13 0.28 0.04]",
          "['other equity instruments' 'public investment funds'\n 'listed foreign public equity' 'buyout' 'listed domestic public equity'\n 'fixed term and savings deposit' 'cash' 'venture' 'corporate bonds'\n 'state bonds']<br>[0.01 0.   0.08 0.18 0.   0.18 0.24 0.01 0.13 0.18]",
          "['listed domestic public equity' 'cash' 'other equity instruments'\n 'public investment funds' 'venture' 'buyout' 'corporate bonds'\n 'listed foreign public equity' 'fixed term and savings deposit'\n 'state bonds']<br>[0.03 0.14 0.26 0.02 0.   0.26 0.02 0.09 0.   0.17]",
          "['listed foreign public equity' 'buyout' 'corporate bonds'\n 'public investment funds' 'fixed term and savings deposit' 'cash'\n 'other equity instruments' 'state bonds' 'venture'\n 'listed domestic public equity']<br>[0.05 0.23 0.17 0.   0.16 0.16 0.03 0.18 0.01 0.  ]",
          "['corporate bonds' 'venture' 'fixed term and savings deposit'\n 'state bonds' 'cash' 'public investment funds' 'other equity instruments'\n 'buyout' 'listed domestic public equity' 'listed foreign public equity']<br>[0.02 0.04 0.02 0.26 0.13 0.02 0.17 0.24 0.   0.1 ]",
          "['listed domestic public equity' 'listed foreign public equity' 'buyout'\n 'fixed term and savings deposit' 'public investment funds' 'state bonds'\n 'venture' 'corporate bonds' 'cash' 'other equity instruments']<br>[0.01 0.01 0.19 0.16 0.01 0.16 0.11 0.15 0.2  0.  ]",
          "['listed foreign public equity' 'public investment funds' 'venture' 'cash'\n 'fixed term and savings deposit' 'corporate bonds'\n 'listed domestic public equity' 'other equity instruments' 'state bonds'\n 'buyout']<br>[0.14 0.06 0.   0.12 0.05 0.06 0.13 0.1  0.01 0.32]",
          "['public investment funds' 'state bonds' 'buyout'\n 'fixed term and savings deposit' 'listed foreign public equity' 'cash'\n 'listed domestic public equity' 'venture' 'corporate bonds'\n 'other equity instruments']<br>[0.   0.1  0.29 0.07 0.07 0.15 0.01 0.09 0.05 0.16]",
          "['cash' 'listed domestic public equity' 'state bonds'\n 'other equity instruments' 'corporate bonds' 'venture' 'buyout'\n 'listed foreign public equity' 'public investment funds'\n 'fixed term and savings deposit']<br>[0.2  0.01 0.11 0.   0.17 0.13 0.2  0.02 0.01 0.16]",
          "['cash' 'buyout' 'corporate bonds' 'public investment funds'\n 'other equity instruments' 'state bonds' 'fixed term and savings deposit'\n 'listed foreign public equity' 'listed domestic public equity' 'venture']<br>[0.17 0.31 0.   0.   0.2  0.06 0.03 0.13 0.08 0.01]",
          "['cash' 'public investment funds' 'fixed term and savings deposit'\n 'venture' 'corporate bonds' 'listed foreign public equity' 'state bonds'\n 'buyout' 'other equity instruments' 'listed domestic public equity']<br>[0.27 0.01 0.21 0.1  0.05 0.01 0.21 0.09 0.04 0.  ]",
          "['buyout' 'fixed term and savings deposit' 'venture' 'corporate bonds'\n 'listed domestic public equity' 'other equity instruments' 'cash'\n 'listed foreign public equity' 'state bonds' 'public investment funds']<br>[0.23 0.17 0.   0.11 0.01 0.05 0.19 0.04 0.2  0.  ]",
          "['buyout' 'listed foreign public equity' 'venture'\n 'public investment funds' 'other equity instruments'\n 'fixed term and savings deposit' 'corporate bonds' 'state bonds'\n 'listed domestic public equity' 'cash']<br>[0.04 0.   0.03 0.06 0.   0.24 0.07 0.29 0.01 0.25]",
          "['venture' 'cash' 'listed domestic public equity'\n 'listed foreign public equity' 'other equity instruments'\n 'corporate bonds' 'fixed term and savings deposit' 'buyout'\n 'public investment funds' 'state bonds']<br>[0.06 0.15 0.01 0.02 0.03 0.03 0.25 0.19 0.06 0.22]",
          "['buyout' 'venture' 'listed domestic public equity' 'cash' 'state bonds'\n 'listed foreign public equity' 'other equity instruments'\n 'corporate bonds' 'fixed term and savings deposit'\n 'public investment funds']<br>[0.27 0.03 0.08 0.13 0.03 0.14 0.22 0.01 0.05 0.05]",
          "['venture' 'cash' 'public investment funds'\n 'listed domestic public equity' 'corporate bonds' 'buyout'\n 'fixed term and savings deposit' 'state bonds' 'other equity instruments'\n 'listed foreign public equity']<br>[0.05 0.13 0.01 0.   0.22 0.1  0.2  0.24 0.04 0.01]",
          "['venture' 'corporate bonds' 'other equity instruments'\n 'listed domestic public equity' 'public investment funds' 'cash'\n 'state bonds' 'buyout' 'listed foreign public equity'\n 'fixed term and savings deposit']<br>[0.1  0.08 0.03 0.   0.06 0.16 0.21 0.18 0.   0.19]",
          "['buyout' 'listed domestic public equity' 'cash'\n 'listed foreign public equity' 'venture' 'fixed term and savings deposit'\n 'other equity instruments' 'public investment funds' 'state bonds'\n 'corporate bonds']<br>[0.17 0.01 0.15 0.08 0.05 0.22 0.02 0.   0.2  0.11]",
          "['state bonds' 'listed foreign public equity' 'cash' 'buyout'\n 'public investment funds' 'fixed term and savings deposit' 'venture'\n 'other equity instruments' 'corporate bonds'\n 'listed domestic public equity']<br>[0.08 0.28 0.13 0.28 0.03 0.02 0.05 0.05 0.05 0.03]",
          "['listed domestic public equity' 'public investment funds'\n 'other equity instruments' 'venture' 'buyout' 'corporate bonds'\n 'state bonds' 'fixed term and savings deposit' 'cash'\n 'listed foreign public equity']<br>[0.02 0.03 0.02 0.03 0.29 0.01 0.25 0.15 0.2  0.02]",
          "['listed domestic public equity' 'other equity instruments'\n 'corporate bonds' 'cash' 'public investment funds' 'state bonds' 'buyout'\n 'fixed term and savings deposit' 'listed foreign public equity' 'venture']<br>[0.03 0.05 0.18 0.13 0.   0.24 0.26 0.06 0.03 0.03]",
          "['corporate bonds' 'cash' 'listed foreign public equity'\n 'fixed term and savings deposit' 'listed domestic public equity'\n 'state bonds' 'buyout' 'venture' 'public investment funds'\n 'other equity instruments']<br>[0.16 0.13 0.01 0.15 0.01 0.25 0.27 0.01 0.01 0.  ]",
          "['listed foreign public equity' 'public investment funds'\n 'other equity instruments' 'fixed term and savings deposit' 'cash'\n 'buyout' 'venture' 'state bonds' 'corporate bonds'\n 'listed domestic public equity']<br>[0.17 0.1  0.08 0.01 0.13 0.31 0.12 0.06 0.01 0.01]",
          "['venture' 'corporate bonds' 'public investment funds' 'buyout' 'cash'\n 'listed domestic public equity' 'fixed term and savings deposit'\n 'listed foreign public equity' 'state bonds' 'other equity instruments']<br>[0.07 0.12 0.01 0.06 0.27 0.   0.25 0.01 0.19 0.02]",
          "['cash' 'listed domestic public equity' 'buyout'\n 'fixed term and savings deposit' 'state bonds' 'venture'\n 'listed foreign public equity' 'public investment funds'\n 'other equity instruments' 'corporate bonds']<br>[0.12 0.08 0.33 0.1  0.01 0.08 0.02 0.02 0.15 0.1 ]",
          "['venture' 'public investment funds' 'state bonds'\n 'listed domestic public equity' 'buyout' 'cash'\n 'fixed term and savings deposit' 'other equity instruments'\n 'listed foreign public equity' 'corporate bonds']<br>[0.06 0.02 0.12 0.   0.21 0.23 0.13 0.01 0.   0.22]",
          "['fixed term and savings deposit' 'listed foreign public equity'\n 'other equity instruments' 'corporate bonds' 'buyout' 'cash' 'venture'\n 'public investment funds' 'listed domestic public equity' 'state bonds']<br>[0.05 0.1  0.07 0.13 0.33 0.16 0.13 0.03 0.01 0.01]",
          "['state bonds' 'public investment funds' 'cash' 'corporate bonds'\n 'fixed term and savings deposit' 'buyout' 'listed foreign public equity'\n 'listed domestic public equity' 'other equity instruments' 'venture']<br>[0.07 0.01 0.2  0.04 0.01 0.28 0.09 0.01 0.19 0.09]",
          "['other equity instruments' 'buyout' 'corporate bonds' 'state bonds'\n 'public investment funds' 'cash' 'listed foreign public equity'\n 'fixed term and savings deposit' 'listed domestic public equity'\n 'venture']<br>[0.13 0.29 0.14 0.07 0.01 0.14 0.16 0.02 0.01 0.04]",
          "['public investment funds' 'fixed term and savings deposit'\n 'listed foreign public equity' 'venture' 'other equity instruments'\n 'cash' 'buyout' 'listed domestic public equity' 'state bonds'\n 'corporate bonds']<br>[0.02 0.26 0.01 0.05 0.01 0.2  0.08 0.01 0.28 0.08]",
          "['other equity instruments' 'listed foreign public equity'\n 'public investment funds' 'state bonds' 'buyout'\n 'listed domestic public equity' 'fixed term and savings deposit'\n 'corporate bonds' 'venture' 'cash']<br>[0.22 0.23 0.01 0.04 0.22 0.06 0.   0.04 0.05 0.13]",
          "['fixed term and savings deposit' 'corporate bonds' 'state bonds' 'buyout'\n 'public investment funds' 'listed foreign public equity'\n 'other equity instruments' 'cash' 'listed domestic public equity'\n 'venture']<br>[0.   0.03 0.04 0.27 0.01 0.12 0.12 0.14 0.01 0.26]",
          "['other equity instruments' 'fixed term and savings deposit'\n 'public investment funds' 'buyout' 'corporate bonds' 'cash'\n 'listed foreign public equity' 'venture' 'state bonds'\n 'listed domestic public equity']<br>[0.2  0.07 0.01 0.29 0.   0.14 0.25 0.02 0.02 0.01]",
          "['fixed term and savings deposit' 'cash' 'listed domestic public equity'\n 'state bonds' 'listed foreign public equity' 'other equity instruments'\n 'public investment funds' 'venture' 'buyout' 'corporate bonds']<br>[0.18 0.12 0.02 0.2  0.03 0.06 0.01 0.01 0.27 0.1 ]",
          "['listed domestic public equity' 'venture' 'public investment funds'\n 'other equity instruments' 'cash' 'fixed term and savings deposit'\n 'corporate bonds' 'buyout' 'state bonds' 'listed foreign public equity']<br>[0.01 0.08 0.03 0.08 0.18 0.03 0.19 0.32 0.01 0.06]",
          "['other equity instruments' 'cash' 'listed domestic public equity'\n 'state bonds' 'venture' 'corporate bonds' 'listed foreign public equity'\n 'public investment funds' 'fixed term and savings deposit' 'buyout']<br>[0.21 0.17 0.02 0.05 0.12 0.06 0.02 0.06 0.01 0.28]",
          "['public investment funds' 'state bonds' 'corporate bonds' 'cash'\n 'listed domestic public equity' 'buyout' 'venture'\n 'other equity instruments' 'fixed term and savings deposit'\n 'listed foreign public equity']<br>[0.02 0.26 0.   0.3  0.01 0.14 0.   0.04 0.21 0.  ]",
          "['listed foreign public equity' 'fixed term and savings deposit'\n 'other equity instruments' 'corporate bonds'\n 'listed domestic public equity' 'state bonds' 'venture' 'buyout' 'cash'\n 'public investment funds']<br>[0.09 0.01 0.1  0.07 0.01 0.15 0.1  0.28 0.14 0.05]",
          "['cash' 'public investment funds' 'other equity instruments'\n 'listed foreign public equity' 'corporate bonds'\n 'fixed term and savings deposit' 'state bonds' 'buyout' 'venture'\n 'listed domestic public equity']<br>[0.13 0.02 0.18 0.04 0.03 0.01 0.21 0.3  0.07 0.02]",
          "['state bonds' 'venture' 'corporate bonds' 'listed domestic public equity'\n 'cash' 'other equity instruments' 'public investment funds'\n 'listed foreign public equity' 'fixed term and savings deposit' 'buyout']<br>[0.09 0.05 0.12 0.01 0.13 0.18 0.01 0.15 0.   0.25]",
          "['state bonds' 'venture' 'corporate bonds' 'listed foreign public equity'\n 'fixed term and savings deposit' 'other equity instruments'\n 'listed domestic public equity' 'public investment funds' 'cash' 'buyout']<br>[0.05 0.04 0.06 0.08 0.06 0.23 0.02 0.04 0.14 0.29]",
          "['corporate bonds' 'cash' 'listed domestic public equity'\n 'listed foreign public equity' 'buyout' 'venture' 'state bonds'\n 'fixed term and savings deposit' 'public investment funds'\n 'other equity instruments']<br>[0.17 0.19 0.01 0.05 0.2  0.01 0.19 0.17 0.01 0.01]",
          "['public investment funds' 'listed domestic public equity'\n 'listed foreign public equity' 'corporate bonds' 'venture' 'state bonds'\n 'buyout' 'other equity instruments' 'fixed term and savings deposit'\n 'cash']<br>[0.03 0.04 0.02 0.01 0.08 0.04 0.31 0.31 0.05 0.12]",
          "['cash' 'corporate bonds' 'other equity instruments' 'buyout'\n 'listed foreign public equity' 'state bonds' 'public investment funds'\n 'fixed term and savings deposit' 'listed domestic public equity'\n 'venture']<br>[0.14 0.01 0.24 0.26 0.17 0.01 0.   0.02 0.06 0.09]",
          "['public investment funds' 'state bonds' 'listed domestic public equity'\n 'cash' 'buyout' 'listed foreign public equity' 'venture'\n 'other equity instruments' 'corporate bonds'\n 'fixed term and savings deposit']<br>[0.01 0.28 0.03 0.26 0.28 0.01 0.05 0.06 0.01 0.01]",
          "['state bonds' 'listed foreign public equity'\n 'listed domestic public equity' 'buyout' 'public investment funds'\n 'other equity instruments' 'cash' 'venture' 'corporate bonds'\n 'fixed term and savings deposit']<br>[0.23 0.08 0.   0.26 0.01 0.11 0.12 0.02 0.13 0.04]",
          "['listed domestic public equity' 'fixed term and savings deposit'\n 'venture' 'buyout' 'corporate bonds' 'listed foreign public equity'\n 'other equity instruments' 'state bonds' 'public investment funds' 'cash']<br>[0.03 0.26 0.   0.13 0.07 0.   0.02 0.2  0.01 0.27]",
          "['listed foreign public equity' 'venture' 'buyout' 'corporate bonds'\n 'cash' 'public investment funds' 'fixed term and savings deposit'\n 'state bonds' 'other equity instruments' 'listed domestic public equity']<br>[0.   0.04 0.3  0.12 0.18 0.01 0.   0.14 0.18 0.02]",
          "['buyout' 'other equity instruments' 'fixed term and savings deposit'\n 'public investment funds' 'venture' 'listed domestic public equity'\n 'state bonds' 'corporate bonds' 'listed foreign public equity' 'cash']<br>[0.29 0.11 0.02 0.03 0.04 0.02 0.25 0.04 0.08 0.13]",
          "['corporate bonds' 'buyout' 'state bonds' 'fixed term and savings deposit'\n 'cash' 'venture' 'other equity instruments' 'public investment funds'\n 'listed domestic public equity' 'listed foreign public equity']<br>[0.07 0.3  0.01 0.02 0.14 0.26 0.04 0.01 0.02 0.14]",
          "['public investment funds' 'venture' 'cash' 'buyout'\n 'listed foreign public equity' 'fixed term and savings deposit'\n 'corporate bonds' 'other equity instruments'\n 'listed domestic public equity' 'state bonds']<br>[0.01 0.05 0.27 0.28 0.07 0.   0.03 0.04 0.01 0.24]",
          "['public investment funds' 'fixed term and savings deposit'\n 'corporate bonds' 'cash' 'listed foreign public equity'\n 'listed domestic public equity' 'venture' 'state bonds'\n 'other equity instruments' 'buyout']<br>[0.02 0.04 0.01 0.13 0.23 0.   0.22 0.06 0.01 0.29]",
          "['corporate bonds' 'buyout' 'state bonds' 'listed foreign public equity'\n 'listed domestic public equity' 'cash' 'fixed term and savings deposit'\n 'public investment funds' 'venture' 'other equity instruments']<br>[0.08 0.29 0.18 0.11 0.01 0.19 0.04 0.   0.04 0.05]",
          "['listed foreign public equity' 'buyout' 'corporate bonds'\n 'other equity instruments' 'public investment funds' 'cash'\n 'fixed term and savings deposit' 'venture' 'state bonds'\n 'listed domestic public equity']<br>[0.01 0.04 0.21 0.   0.01 0.32 0.26 0.09 0.05 0.  ]",
          "['listed foreign public equity' 'other equity instruments'\n 'public investment funds' 'buyout' 'listed domestic public equity'\n 'venture' 'corporate bonds' 'fixed term and savings deposit'\n 'state bonds' 'cash']<br>[0.01 0.27 0.07 0.32 0.01 0.1  0.01 0.02 0.   0.19]",
          "['venture' 'other equity instruments' 'state bonds'\n 'listed domestic public equity' 'buyout' 'corporate bonds' 'cash'\n 'public investment funds' 'fixed term and savings deposit'\n 'listed foreign public equity']<br>[0.08 0.08 0.08 0.04 0.33 0.06 0.13 0.07 0.01 0.12]",
          "['corporate bonds' 'buyout' 'listed foreign public equity' 'state bonds'\n 'public investment funds' 'listed domestic public equity'\n 'other equity instruments' 'fixed term and savings deposit' 'cash'\n 'venture']<br>[0.01 0.32 0.07 0.16 0.01 0.05 0.18 0.04 0.13 0.02]",
          "['other equity instruments' 'corporate bonds' 'venture'\n 'public investment funds' 'state bonds' 'buyout'\n 'listed domestic public equity' 'listed foreign public equity' 'cash'\n 'fixed term and savings deposit']<br>[0.22 0.02 0.02 0.   0.19 0.26 0.01 0.15 0.12 0.01]",
          "['cash' 'public investment funds' 'other equity instruments'\n 'listed domestic public equity' 'venture'\n 'fixed term and savings deposit' 'listed foreign public equity'\n 'corporate bonds' 'buyout' 'state bonds']<br>[0.15 0.05 0.02 0.01 0.04 0.2  0.   0.19 0.14 0.22]",
          "['state bonds' 'listed domestic public equity'\n 'fixed term and savings deposit' 'listed foreign public equity' 'cash'\n 'other equity instruments' 'public investment funds' 'buyout'\n 'corporate bonds' 'venture']<br>[0.18 0.   0.19 0.01 0.17 0.   0.06 0.18 0.2  0.  ]",
          "['venture' 'other equity instruments' 'listed domestic public equity'\n 'listed foreign public equity' 'state bonds' 'cash' 'buyout'\n 'public investment funds' 'corporate bonds'\n 'fixed term and savings deposit']<br>[0.13 0.12 0.01 0.01 0.11 0.13 0.31 0.1  0.09 0.  ]",
          "['buyout' 'venture' 'listed foreign public equity' 'cash'\n 'corporate bonds' 'other equity instruments'\n 'listed domestic public equity' 'public investment funds' 'state bonds'\n 'fixed term and savings deposit']<br>[0.12 0.07 0.01 0.2  0.16 0.04 0.   0.   0.22 0.18]",
          "['other equity instruments' 'state bonds' 'venture' 'cash'\n 'fixed term and savings deposit' 'corporate bonds'\n 'listed domestic public equity' 'public investment funds'\n 'listed foreign public equity' 'buyout']<br>[0.   0.16 0.01 0.17 0.16 0.24 0.01 0.05 0.   0.19]",
          "['fixed term and savings deposit' 'venture' 'state bonds'\n 'listed foreign public equity' 'listed domestic public equity' 'buyout'\n 'other equity instruments' 'corporate bonds' 'cash'\n 'public investment funds']<br>[0.06 0.01 0.09 0.02 0.01 0.29 0.05 0.21 0.24 0.02]",
          "['fixed term and savings deposit' 'public investment funds'\n 'listed domestic public equity' 'cash' 'listed foreign public equity'\n 'buyout' 'corporate bonds' 'other equity instruments' 'state bonds'\n 'venture']<br>[0.22 0.02 0.02 0.31 0.01 0.11 0.01 0.   0.27 0.02]",
          "['listed foreign public equity' 'public investment funds'\n 'fixed term and savings deposit' 'cash' 'venture' 'buyout'\n 'listed domestic public equity' 'corporate bonds'\n 'other equity instruments' 'state bonds']<br>[0.   0.01 0.03 0.15 0.06 0.29 0.04 0.05 0.13 0.23]",
          "['fixed term and savings deposit' 'state bonds' 'other equity instruments'\n 'public investment funds' 'venture' 'listed domestic public equity'\n 'buyout' 'listed foreign public equity' 'corporate bonds' 'cash']<br>[0.26 0.28 0.02 0.01 0.02 0.   0.   0.02 0.15 0.24]",
          "['buyout' 'fixed term and savings deposit' 'other equity instruments'\n 'listed domestic public equity' 'venture' 'cash'\n 'listed foreign public equity' 'state bonds' 'corporate bonds'\n 'public investment funds']<br>[0.29 0.02 0.13 0.   0.12 0.13 0.22 0.06 0.   0.03]",
          "['buyout' 'listed domestic public equity' 'other equity instruments'\n 'state bonds' 'fixed term and savings deposit' 'cash' 'venture'\n 'corporate bonds' 'listed foreign public equity'\n 'public investment funds']<br>[0.28 0.01 0.09 0.17 0.02 0.14 0.13 0.03 0.13 0.01]",
          "['other equity instruments' 'corporate bonds'\n 'listed domestic public equity' 'fixed term and savings deposit'\n 'venture' 'cash' 'public investment funds' 'state bonds' 'buyout'\n 'listed foreign public equity']<br>[0.04 0.14 0.05 0.03 0.05 0.12 0.01 0.23 0.3  0.03]",
          "['fixed term and savings deposit' 'listed foreign public equity' 'buyout'\n 'state bonds' 'other equity instruments' 'cash' 'venture'\n 'public investment funds' 'listed domestic public equity'\n 'corporate bonds']<br>[0.24 0.01 0.21 0.18 0.   0.25 0.   0.08 0.   0.04]",
          "['public investment funds' 'buyout' 'cash' 'corporate bonds'\n 'listed foreign public equity' 'venture' 'listed domestic public equity'\n 'fixed term and savings deposit' 'state bonds' 'other equity instruments']<br>[0.01 0.28 0.14 0.01 0.11 0.12 0.   0.03 0.16 0.13]",
          "['fixed term and savings deposit' 'listed domestic public equity'\n 'public investment funds' 'state bonds' 'buyout' 'corporate bonds' 'cash'\n 'listed foreign public equity' 'other equity instruments' 'venture']<br>[0.1  0.   0.06 0.02 0.32 0.04 0.13 0.03 0.3  0.01]",
          "['buyout' 'corporate bonds' 'venture' 'cash'\n 'listed domestic public equity' 'fixed term and savings deposit'\n 'other equity instruments' 'public investment funds'\n 'listed foreign public equity' 'state bonds']<br>[0.28 0.05 0.02 0.12 0.01 0.01 0.25 0.03 0.06 0.17]",
          "['corporate bonds' 'state bonds' 'other equity instruments'\n 'listed foreign public equity' 'buyout' 'listed domestic public equity'\n 'venture' 'cash' 'fixed term and savings deposit'\n 'public investment funds']<br>[0.15 0.24 0.01 0.03 0.17 0.01 0.02 0.14 0.23 0.01]",
          "['corporate bonds' 'fixed term and savings deposit' 'cash'\n 'other equity instruments' 'state bonds' 'listed foreign public equity'\n 'public investment funds' 'listed domestic public equity' 'venture'\n 'buyout']<br>[0.01 0.03 0.14 0.   0.26 0.08 0.06 0.   0.12 0.29]",
          "['venture' 'corporate bonds' 'buyout' 'other equity instruments'\n 'fixed term and savings deposit' 'cash' 'listed domestic public equity'\n 'state bonds' 'public investment funds' 'listed foreign public equity']<br>[0.14 0.07 0.3  0.02 0.02 0.25 0.02 0.17 0.01 0.01]",
          "['state bonds' 'public investment funds' 'cash' 'corporate bonds'\n 'listed domestic public equity' 'buyout' 'listed foreign public equity'\n 'venture' 'fixed term and savings deposit' 'other equity instruments']<br>[0.1  0.04 0.15 0.03 0.   0.31 0.03 0.1  0.04 0.2 ]",
          "['fixed term and savings deposit' 'cash' 'listed domestic public equity'\n 'state bonds' 'venture' 'buyout' 'corporate bonds'\n 'other equity instruments' 'listed foreign public equity'\n 'public investment funds']<br>[0.11 0.22 0.   0.25 0.05 0.08 0.22 0.01 0.02 0.04]",
          "['cash' 'other equity instruments' 'public investment funds'\n 'fixed term and savings deposit' 'listed domestic public equity' 'buyout'\n 'state bonds' 'venture' 'listed foreign public equity' 'corporate bonds']<br>[0.13 0.09 0.02 0.02 0.04 0.29 0.18 0.06 0.09 0.08]",
          "['public investment funds' 'venture' 'corporate bonds'\n 'fixed term and savings deposit' 'other equity instruments'\n 'listed domestic public equity' 'listed foreign public equity' 'cash'\n 'state bonds' 'buyout']<br>[0.02 0.04 0.09 0.06 0.05 0.01 0.08 0.14 0.2  0.31]",
          "['fixed term and savings deposit' 'venture' 'other equity instruments'\n 'corporate bonds' 'state bonds' 'listed foreign public equity'\n 'public investment funds' 'cash' 'listed domestic public equity' 'buyout']<br>[0.1  0.07 0.   0.1  0.28 0.03 0.01 0.29 0.   0.12]",
          "['state bonds' 'public investment funds' 'fixed term and savings deposit'\n 'venture' 'other equity instruments' 'corporate bonds' 'buyout'\n 'listed domestic public equity' 'listed foreign public equity' 'cash']<br>[0.24 0.01 0.03 0.1  0.1  0.05 0.28 0.01 0.05 0.14]",
          "['cash' 'public investment funds' 'fixed term and savings deposit'\n 'listed foreign public equity' 'state bonds' 'venture' 'corporate bonds'\n 'buyout' 'other equity instruments' 'listed domestic public equity']<br>[0.26 0.01 0.27 0.04 0.07 0.01 0.17 0.16 0.01 0.01]",
          "['cash' 'state bonds' 'listed foreign public equity' 'venture'\n 'corporate bonds' 'public investment funds' 'other equity instruments'\n 'listed domestic public equity' 'fixed term and savings deposit' 'buyout']<br>[0.16 0.08 0.19 0.15 0.01 0.   0.07 0.02 0.   0.31]",
          "['fixed term and savings deposit' 'corporate bonds'\n 'public investment funds' 'other equity instruments' 'state bonds'\n 'listed domestic public equity' 'listed foreign public equity' 'cash'\n 'venture' 'buyout']<br>[0.14 0.06 0.   0.07 0.26 0.02 0.01 0.15 0.01 0.28]",
          "['listed foreign public equity' 'fixed term and savings deposit'\n 'public investment funds' 'cash' 'listed domestic public equity'\n 'state bonds' 'corporate bonds' 'buyout' 'venture'\n 'other equity instruments']<br>[0.01 0.18 0.03 0.26 0.01 0.19 0.12 0.13 0.05 0.02]",
          "['venture' 'fixed term and savings deposit' 'cash' 'corporate bonds'\n 'listed foreign public equity' 'listed domestic public equity' 'buyout'\n 'other equity instruments' 'public investment funds' 'state bonds']<br>[0.17 0.04 0.12 0.   0.2  0.04 0.31 0.08 0.01 0.02]",
          "['buyout' 'public investment funds' 'state bonds' 'corporate bonds'\n 'venture' 'cash' 'fixed term and savings deposit'\n 'listed foreign public equity' 'listed domestic public equity'\n 'other equity instruments']<br>[0.24 0.02 0.21 0.2  0.03 0.13 0.16 0.   0.   0.01]",
          "['state bonds' 'fixed term and savings deposit' 'cash' 'venture' 'buyout'\n 'listed foreign public equity' 'public investment funds'\n 'listed domestic public equity' 'corporate bonds'\n 'other equity instruments']<br>[0.25 0.06 0.13 0.03 0.25 0.03 0.01 0.01 0.18 0.05]",
          "['buyout' 'listed foreign public equity' 'fixed term and savings deposit'\n 'cash' 'state bonds' 'listed domestic public equity'\n 'other equity instruments' 'public investment funds' 'venture'\n 'corporate bonds']<br>[0.26 0.02 0.16 0.16 0.22 0.02 0.02 0.01 0.05 0.09]",
          "['listed foreign public equity' 'buyout' 'listed domestic public equity'\n 'corporate bonds' 'cash' 'fixed term and savings deposit' 'venture'\n 'other equity instruments' 'public investment funds' 'state bonds']<br>[0.   0.23 0.01 0.1  0.22 0.25 0.   0.02 0.05 0.12]",
          "['corporate bonds' 'venture' 'listed foreign public equity'\n 'fixed term and savings deposit' 'state bonds' 'public investment funds'\n 'cash' 'other equity instruments' 'buyout'\n 'listed domestic public equity']<br>[0.06 0.04 0.   0.09 0.29 0.02 0.14 0.11 0.25 0.  ]",
          "['buyout' 'cash' 'listed foreign public equity' 'corporate bonds'\n 'public investment funds' 'listed domestic public equity' 'state bonds'\n 'venture' 'other equity instruments' 'fixed term and savings deposit']<br>[0.14 0.19 0.   0.18 0.05 0.01 0.2  0.01 0.02 0.2 ]",
          "['venture' 'corporate bonds' 'other equity instruments' 'cash' 'buyout'\n 'public investment funds' 'listed foreign public equity' 'state bonds'\n 'listed domestic public equity' 'fixed term and savings deposit']<br>[0.08 0.09 0.01 0.19 0.15 0.02 0.01 0.22 0.   0.23]",
          "['corporate bonds' 'listed foreign public equity' 'state bonds' 'venture'\n 'buyout' 'listed domestic public equity' 'other equity instruments'\n 'cash' 'public investment funds' 'fixed term and savings deposit']<br>[0.13 0.   0.22 0.05 0.17 0.01 0.01 0.25 0.02 0.14]",
          "['listed foreign public equity' 'other equity instruments' 'state bonds'\n 'cash' 'venture' 'public investment funds'\n 'fixed term and savings deposit' 'buyout' 'listed domestic public equity'\n 'corporate bonds']<br>[0.   0.01 0.23 0.13 0.11 0.03 0.2  0.16 0.   0.13]",
          "['venture' 'buyout' 'listed foreign public equity' 'corporate bonds'\n 'listed domestic public equity' 'public investment funds'\n 'other equity instruments' 'fixed term and savings deposit' 'cash'\n 'state bonds']<br>[0.12 0.33 0.02 0.1  0.02 0.03 0.16 0.02 0.13 0.07]",
          "['state bonds' 'corporate bonds' 'cash' 'public investment funds'\n 'fixed term and savings deposit' 'buyout' 'listed foreign public equity'\n 'venture' 'listed domestic public equity' 'other equity instruments']<br>[0.26 0.01 0.14 0.07 0.1  0.3  0.01 0.04 0.   0.08]",
          "['listed domestic public equity' 'buyout' 'corporate bonds'\n 'other equity instruments' 'state bonds' 'cash' 'venture'\n 'fixed term and savings deposit' 'listed foreign public equity'\n 'public investment funds']<br>[0.01 0.1  0.15 0.03 0.27 0.14 0.03 0.25 0.   0.01]",
          "['cash' 'listed foreign public equity' 'buyout' 'corporate bonds'\n 'other equity instruments' 'listed domestic public equity'\n 'public investment funds' 'fixed term and savings deposit' 'venture'\n 'state bonds']<br>[0.14 0.   0.27 0.18 0.03 0.   0.02 0.12 0.04 0.2 ]",
          "['listed domestic public equity' 'other equity instruments' 'venture'\n 'public investment funds' 'state bonds' 'corporate bonds'\n 'fixed term and savings deposit' 'listed foreign public equity' 'cash'\n 'buyout']<br>[0.02 0.   0.   0.   0.2  0.2  0.21 0.01 0.16 0.2 ]",
          "['buyout' 'other equity instruments' 'public investment funds'\n 'state bonds' 'listed foreign public equity' 'venture'\n 'listed domestic public equity' 'corporate bonds'\n 'fixed term and savings deposit' 'cash']<br>[0.32 0.05 0.03 0.14 0.05 0.1  0.03 0.04 0.12 0.12]",
          "['listed domestic public equity' 'listed foreign public equity'\n 'public investment funds' 'cash' 'other equity instruments' 'state bonds'\n 'fixed term and savings deposit' 'buyout' 'venture' 'corporate bonds']<br>[0.01 0.04 0.06 0.14 0.02 0.12 0.17 0.32 0.01 0.11]",
          "['public investment funds' 'corporate bonds'\n 'listed foreign public equity' 'cash' 'other equity instruments'\n 'listed domestic public equity' 'state bonds' 'venture' 'buyout'\n 'fixed term and savings deposit']<br>[0.   0.09 0.01 0.15 0.03 0.01 0.26 0.15 0.27 0.03]",
          "['buyout' 'other equity instruments' 'venture'\n 'fixed term and savings deposit' 'listed foreign public equity'\n 'public investment funds' 'cash' 'listed domestic public equity'\n 'state bonds' 'corporate bonds']<br>[0.32 0.15 0.16 0.18 0.   0.   0.13 0.01 0.03 0.01]",
          "['listed domestic public equity' 'corporate bonds'\n 'public investment funds' 'cash' 'fixed term and savings deposit'\n 'listed foreign public equity' 'venture' 'state bonds'\n 'other equity instruments' 'buyout']<br>[0.   0.05 0.02 0.14 0.08 0.12 0.08 0.   0.21 0.29]",
          "['cash' 'venture' 'fixed term and savings deposit'\n 'other equity instruments' 'listed foreign public equity'\n 'public investment funds' 'buyout' 'state bonds' 'corporate bonds'\n 'listed domestic public equity']<br>[0.27 0.02 0.03 0.01 0.01 0.01 0.25 0.27 0.14 0.  ]",
          "['public investment funds' 'other equity instruments'\n 'listed foreign public equity' 'fixed term and savings deposit'\n 'corporate bonds' 'state bonds' 'buyout' 'venture'\n 'listed domestic public equity' 'cash']<br>[0.   0.02 0.07 0.02 0.01 0.31 0.33 0.06 0.04 0.14]",
          "['fixed term and savings deposit' 'other equity instruments' 'state bonds'\n 'buyout' 'corporate bonds' 'cash' 'listed foreign public equity'\n 'venture' 'public investment funds' 'listed domestic public equity']<br>[0.01 0.14 0.14 0.29 0.12 0.14 0.02 0.05 0.08 0.01]",
          "['venture' 'listed domestic public equity' 'state bonds'\n 'public investment funds' 'fixed term and savings deposit'\n 'listed foreign public equity' 'cash' 'buyout' 'other equity instruments'\n 'corporate bonds']<br>[0.07 0.   0.25 0.05 0.05 0.03 0.15 0.28 0.01 0.1 ]",
          "['listed foreign public equity' 'public investment funds'\n 'corporate bonds' 'other equity instruments'\n 'listed domestic public equity' 'fixed term and savings deposit'\n 'venture' 'cash' 'buyout' 'state bonds']<br>[0.02 0.01 0.17 0.01 0.   0.24 0.04 0.19 0.09 0.23]",
          "['other equity instruments' 'state bonds' 'buyout' 'cash'\n 'fixed term and savings deposit' 'listed foreign public equity'\n 'listed domestic public equity' 'corporate bonds' 'venture'\n 'public investment funds']<br>[0.06 0.24 0.33 0.13 0.01 0.03 0.01 0.01 0.03 0.14]",
          "['other equity instruments' 'buyout' 'state bonds' 'cash'\n 'fixed term and savings deposit' 'corporate bonds'\n 'listed domestic public equity' 'venture' 'listed foreign public equity'\n 'public investment funds']<br>[0.05 0.32 0.09 0.14 0.01 0.12 0.   0.23 0.05 0.  ]",
          "['listed domestic public equity' 'buyout' 'fixed term and savings deposit'\n 'venture' 'other equity instruments' 'public investment funds'\n 'listed foreign public equity' 'state bonds' 'cash' 'corporate bonds']<br>[0.01 0.27 0.09 0.07 0.02 0.   0.02 0.2  0.14 0.18]",
          "['state bonds' 'listed foreign public equity'\n 'listed domestic public equity' 'corporate bonds'\n 'public investment funds' 'buyout' 'other equity instruments'\n 'fixed term and savings deposit' 'cash' 'venture']<br>[0.26 0.02 0.01 0.07 0.04 0.29 0.01 0.08 0.12 0.11]",
          "['venture' 'state bonds' 'fixed term and savings deposit'\n 'listed foreign public equity' 'cash' 'other equity instruments' 'buyout'\n 'listed domestic public equity' 'corporate bonds'\n 'public investment funds']<br>[0.02 0.04 0.03 0.11 0.13 0.27 0.31 0.01 0.02 0.08]",
          "['corporate bonds' 'cash' 'fixed term and savings deposit'\n 'listed domestic public equity' 'listed foreign public equity' 'venture'\n 'public investment funds' 'other equity instruments' 'state bonds'\n 'buyout']<br>[0.11 0.14 0.02 0.   0.12 0.15 0.01 0.03 0.11 0.3 ]",
          "['corporate bonds' 'public investment funds' 'cash' 'state bonds'\n 'listed foreign public equity' 'listed domestic public equity'\n 'fixed term and savings deposit' 'venture' 'other equity instruments'\n 'buyout']<br>[0.02 0.   0.14 0.13 0.14 0.   0.06 0.06 0.16 0.29]",
          "['cash' 'listed foreign public equity' 'listed domestic public equity'\n 'other equity instruments' 'public investment funds' 'corporate bonds'\n 'venture' 'buyout' 'fixed term and savings deposit' 'state bonds']<br>[0.13 0.27 0.01 0.16 0.   0.03 0.06 0.29 0.02 0.02]",
          "['listed domestic public equity' 'cash' 'listed foreign public equity'\n 'buyout' 'public investment funds' 'fixed term and savings deposit'\n 'corporate bonds' 'other equity instruments' 'venture' 'state bonds']<br>[0.01 0.16 0.11 0.29 0.02 0.02 0.06 0.18 0.12 0.03]",
          "['buyout' 'state bonds' 'listed domestic public equity'\n 'other equity instruments' 'public investment funds' 'corporate bonds'\n 'listed foreign public equity' 'fixed term and savings deposit' 'venture'\n 'cash']<br>[0.3  0.14 0.01 0.1  0.01 0.09 0.01 0.   0.2  0.13]",
          "['corporate bonds' 'listed domestic public equity'\n 'fixed term and savings deposit' 'public investment funds'\n 'listed foreign public equity' 'cash' 'state bonds' 'venture'\n 'other equity instruments' 'buyout']<br>[0.17 0.   0.18 0.01 0.03 0.21 0.19 0.01 0.01 0.2 ]",
          "['public investment funds' 'corporate bonds'\n 'listed domestic public equity' 'buyout' 'state bonds' 'venture'\n 'listed foreign public equity' 'other equity instruments'\n 'fixed term and savings deposit' 'cash']<br>[0.   0.06 0.01 0.29 0.28 0.05 0.04 0.08 0.05 0.13]",
          "['cash' 'other equity instruments' 'corporate bonds'\n 'listed domestic public equity' 'venture' 'buyout'\n 'public investment funds' 'fixed term and savings deposit'\n 'listed foreign public equity' 'state bonds']<br>[0.15 0.06 0.04 0.02 0.15 0.32 0.01 0.03 0.11 0.12]",
          "['fixed term and savings deposit' 'listed domestic public equity' 'buyout'\n 'corporate bonds' 'venture' 'public investment funds'\n 'listed foreign public equity' 'state bonds' 'other equity instruments'\n 'cash']<br>[0.11 0.01 0.32 0.13 0.04 0.04 0.09 0.12 0.02 0.13]",
          "['buyout' 'corporate bonds' 'other equity instruments'\n 'listed foreign public equity' 'public investment funds' 'cash'\n 'fixed term and savings deposit' 'listed domestic public equity'\n 'state bonds' 'venture']<br>[0.18 0.13 0.02 0.01 0.   0.14 0.26 0.01 0.2  0.05]",
          "['listed domestic public equity' 'public investment funds'\n 'other equity instruments' 'venture' 'buyout' 'state bonds'\n 'listed foreign public equity' 'fixed term and savings deposit' 'cash'\n 'corporate bonds']<br>[0.02 0.   0.03 0.04 0.16 0.19 0.   0.23 0.21 0.13]",
          "['cash' 'listed domestic public equity' 'fixed term and savings deposit'\n 'buyout' 'corporate bonds' 'public investment funds' 'venture'\n 'state bonds' 'listed foreign public equity' 'other equity instruments']<br>[0.13 0.03 0.13 0.32 0.07 0.02 0.01 0.26 0.01 0.02]",
          "['fixed term and savings deposit' 'venture' 'listed foreign public equity'\n 'listed domestic public equity' 'state bonds' 'public investment funds'\n 'cash' 'other equity instruments' 'corporate bonds' 'buyout']<br>[0.05 0.04 0.   0.01 0.29 0.   0.18 0.05 0.12 0.27]",
          "['fixed term and savings deposit' 'corporate bonds' 'venture'\n 'listed domestic public equity' 'public investment funds'\n 'other equity instruments' 'listed foreign public equity' 'cash'\n 'state bonds' 'buyout']<br>[0.   0.09 0.05 0.02 0.07 0.21 0.04 0.15 0.06 0.31]",
          "['buyout' 'other equity instruments' 'state bonds'\n 'listed domestic public equity' 'public investment funds' 'venture'\n 'corporate bonds' 'fixed term and savings deposit' 'cash'\n 'listed foreign public equity']<br>[0.33 0.02 0.04 0.01 0.03 0.1  0.24 0.04 0.14 0.06]",
          "['other equity instruments' 'public investment funds'\n 'listed domestic public equity' 'state bonds' 'venture' 'corporate bonds'\n 'cash' 'buyout' 'fixed term and savings deposit'\n 'listed foreign public equity']<br>[0.02 0.01 0.03 0.3  0.06 0.01 0.17 0.27 0.14 0.  ]",
          "['public investment funds' 'buyout' 'other equity instruments' 'cash'\n 'listed domestic public equity' 'corporate bonds'\n 'fixed term and savings deposit' 'listed foreign public equity' 'venture'\n 'state bonds']<br>[0.04 0.28 0.04 0.28 0.   0.02 0.03 0.   0.01 0.29]",
          "['state bonds' 'listed domestic public equity' 'venture'\n 'listed foreign public equity' 'fixed term and savings deposit'\n 'corporate bonds' 'buyout' 'cash' 'public investment funds'\n 'other equity instruments']<br>[0.02 0.03 0.11 0.05 0.02 0.03 0.32 0.14 0.01 0.26]",
          "['buyout' 'public investment funds' 'listed domestic public equity' 'cash'\n 'listed foreign public equity' 'other equity instruments'\n 'corporate bonds' 'venture' 'state bonds'\n 'fixed term and savings deposit']<br>[0.31 0.01 0.01 0.13 0.01 0.01 0.13 0.15 0.22 0.02]",
          "['listed domestic public equity' 'corporate bonds' 'state bonds'\n 'listed foreign public equity' 'buyout' 'public investment funds'\n 'venture' 'cash' 'fixed term and savings deposit'\n 'other equity instruments']<br>[0.   0.05 0.02 0.18 0.32 0.08 0.1  0.13 0.04 0.07]",
          "['listed foreign public equity' 'listed domestic public equity'\n 'state bonds' 'other equity instruments' 'cash' 'buyout' 'venture'\n 'corporate bonds' 'public investment funds'\n 'fixed term and savings deposit']<br>[0.02 0.01 0.14 0.01 0.13 0.29 0.02 0.12 0.   0.26]",
          "['other equity instruments' 'buyout' 'listed domestic public equity'\n 'fixed term and savings deposit' 'cash' 'corporate bonds'\n 'public investment funds' 'listed foreign public equity' 'state bonds'\n 'venture']<br>[0.   0.33 0.02 0.1  0.14 0.01 0.04 0.04 0.3  0.03]",
          "['cash' 'venture' 'listed foreign public equity' 'corporate bonds'\n 'fixed term and savings deposit' 'listed domestic public equity'\n 'public investment funds' 'buyout' 'state bonds'\n 'other equity instruments']<br>[0.17 0.1  0.   0.03 0.24 0.   0.   0.2  0.25 0.  ]",
          "['buyout' 'cash' 'venture' 'listed domestic public equity'\n 'public investment funds' 'fixed term and savings deposit'\n 'other equity instruments' 'state bonds' 'listed foreign public equity'\n 'corporate bonds']<br>[0.3  0.13 0.07 0.03 0.03 0.01 0.11 0.07 0.22 0.04]",
          "['buyout' 'venture' 'fixed term and savings deposit' 'cash'\n 'other equity instruments' 'corporate bonds'\n 'listed foreign public equity' 'listed domestic public equity'\n 'public investment funds' 'state bonds']<br>[0.29 0.01 0.19 0.16 0.01 0.02 0.03 0.01 0.02 0.26]",
          "['listed domestic public equity' 'fixed term and savings deposit'\n 'other equity instruments' 'state bonds' 'listed foreign public equity'\n 'public investment funds' 'buyout' 'venture' 'cash' 'corporate bonds']<br>[0.   0.13 0.04 0.21 0.03 0.06 0.31 0.01 0.13 0.07]",
          "['state bonds' 'venture' 'fixed term and savings deposit'\n 'other equity instruments' 'public investment funds'\n 'listed foreign public equity' 'listed domestic public equity' 'buyout'\n 'corporate bonds' 'cash']<br>[0.27 0.05 0.17 0.03 0.   0.01 0.   0.24 0.03 0.19]",
          "['buyout' 'cash' 'public investment funds' 'venture'\n 'fixed term and savings deposit' 'other equity instruments'\n 'listed domestic public equity' 'listed foreign public equity'\n 'state bonds' 'corporate bonds']<br>[0.31 0.13 0.05 0.08 0.05 0.05 0.   0.16 0.13 0.02]",
          "['corporate bonds' 'public investment funds' 'other equity instruments'\n 'buyout' 'listed domestic public equity' 'venture'\n 'listed foreign public equity' 'state bonds'\n 'fixed term and savings deposit' 'cash']<br>[0.04 0.01 0.03 0.33 0.03 0.08 0.03 0.3  0.03 0.13]",
          "['fixed term and savings deposit' 'buyout' 'listed foreign public equity'\n 'listed domestic public equity' 'public investment funds' 'venture'\n 'other equity instruments' 'cash' 'corporate bonds' 'state bonds']<br>[0.03 0.32 0.05 0.02 0.03 0.03 0.1  0.13 0.11 0.19]",
          "['corporate bonds' 'other equity instruments'\n 'listed foreign public equity' 'cash' 'listed domestic public equity'\n 'public investment funds' 'state bonds' 'buyout'\n 'fixed term and savings deposit' 'venture']<br>[0.06 0.15 0.07 0.12 0.03 0.02 0.18 0.32 0.03 0.02]",
          "['corporate bonds' 'state bonds' 'buyout' 'listed foreign public equity'\n 'public investment funds' 'listed domestic public equity' 'venture'\n 'other equity instruments' 'cash' 'fixed term and savings deposit']<br>[0.09 0.   0.32 0.04 0.05 0.01 0.02 0.29 0.16 0.03]",
          "['state bonds' 'venture' 'listed domestic public equity'\n 'public investment funds' 'corporate bonds'\n 'listed foreign public equity' 'buyout' 'other equity instruments' 'cash'\n 'fixed term and savings deposit']<br>[0.22 0.07 0.02 0.01 0.15 0.   0.03 0.   0.19 0.31]",
          "['venture' 'corporate bonds' 'listed foreign public equity' 'buyout'\n 'other equity instruments' 'public investment funds'\n 'fixed term and savings deposit' 'cash' 'listed domestic public equity'\n 'state bonds']<br>[0.02 0.02 0.3  0.3  0.09 0.01 0.01 0.13 0.   0.12]",
          "['corporate bonds' 'venture' 'fixed term and savings deposit' 'cash'\n 'other equity instruments' 'state bonds' 'public investment funds'\n 'listed domestic public equity' 'buyout' 'listed foreign public equity']<br>[0.17 0.04 0.02 0.15 0.07 0.13 0.02 0.01 0.33 0.06]",
          "['listed foreign public equity' 'cash' 'other equity instruments' 'buyout'\n 'fixed term and savings deposit' 'public investment funds'\n 'corporate bonds' 'venture' 'state bonds' 'listed domestic public equity']<br>[0.02 0.16 0.03 0.3  0.06 0.   0.12 0.11 0.18 0.01]",
          "['other equity instruments' 'buyout' 'venture'\n 'fixed term and savings deposit' 'cash' 'state bonds'\n 'listed foreign public equity' 'public investment funds'\n 'corporate bonds' 'listed domestic public equity']<br>[0.01 0.17 0.08 0.26 0.25 0.18 0.01 0.01 0.02 0.  ]",
          "['listed foreign public equity' 'fixed term and savings deposit' 'buyout'\n 'public investment funds' 'corporate bonds' 'cash'\n 'listed domestic public equity' 'venture' 'state bonds'\n 'other equity instruments']<br>[0.04 0.05 0.33 0.03 0.09 0.12 0.02 0.02 0.03 0.26]",
          "['cash' 'other equity instruments' 'buyout' 'corporate bonds' 'venture'\n 'listed foreign public equity' 'public investment funds'\n 'fixed term and savings deposit' 'listed domestic public equity'\n 'state bonds']<br>[0.14 0.1  0.32 0.02 0.18 0.09 0.03 0.01 0.01 0.11]",
          "['cash' 'public investment funds' 'buyout' 'state bonds'\n 'listed domestic public equity' 'venture' 'corporate bonds'\n 'listed foreign public equity' 'fixed term and savings deposit'\n 'other equity instruments']<br>[0.12 0.04 0.32 0.11 0.02 0.18 0.09 0.03 0.02 0.05]",
          "['other equity instruments' 'listed foreign public equity' 'buyout'\n 'corporate bonds' 'venture' 'public investment funds' 'cash'\n 'listed domestic public equity' 'fixed term and savings deposit'\n 'state bonds']<br>[0.11 0.18 0.32 0.03 0.02 0.01 0.13 0.02 0.04 0.14]",
          "['state bonds' 'fixed term and savings deposit' 'venture'\n 'listed domestic public equity' 'public investment funds' 'buyout' 'cash'\n 'other equity instruments' 'corporate bonds'\n 'listed foreign public equity']<br>[0.1  0.01 0.13 0.01 0.   0.28 0.12 0.21 0.07 0.07]",
          "['listed foreign public equity' 'other equity instruments' 'cash'\n 'fixed term and savings deposit' 'buyout' 'corporate bonds'\n 'public investment funds' 'listed domestic public equity' 'venture'\n 'state bonds']<br>[0.01 0.   0.16 0.26 0.22 0.04 0.05 0.   0.   0.25]",
          "['state bonds' 'corporate bonds' 'public investment funds'\n 'listed domestic public equity' 'other equity instruments'\n 'fixed term and savings deposit' 'buyout' 'cash'\n 'listed foreign public equity' 'venture']<br>[0.18 0.26 0.01 0.01 0.01 0.25 0.15 0.12 0.02 0.  ]",
          "['state bonds' 'other equity instruments' 'buyout'\n 'listed domestic public equity' 'listed foreign public equity'\n 'public investment funds' 'fixed term and savings deposit' 'venture'\n 'corporate bonds' 'cash']<br>[0.2  0.   0.15 0.   0.   0.03 0.2  0.06 0.16 0.19]",
          "['listed domestic public equity' 'cash' 'fixed term and savings deposit'\n 'other equity instruments' 'venture' 'public investment funds'\n 'state bonds' 'listed foreign public equity' 'buyout' 'corporate bonds']<br>[0.   0.18 0.   0.29 0.02 0.01 0.12 0.05 0.29 0.02]",
          "['listed foreign public equity' 'other equity instruments'\n 'corporate bonds' 'cash' 'public investment funds' 'state bonds'\n 'listed domestic public equity' 'buyout' 'venture'\n 'fixed term and savings deposit']<br>[0.01 0.03 0.09 0.12 0.   0.3  0.01 0.14 0.03 0.26]",
          "['state bonds' 'other equity instruments' 'venture' 'corporate bonds'\n 'public investment funds' 'fixed term and savings deposit'\n 'listed domestic public equity' 'cash' 'buyout'\n 'listed foreign public equity']<br>[0.   0.13 0.14 0.   0.05 0.07 0.01 0.15 0.33 0.11]",
          "['fixed term and savings deposit' 'cash' 'buyout'\n 'public investment funds' 'venture' 'other equity instruments'\n 'state bonds' 'listed foreign public equity'\n 'listed domestic public equity' 'corporate bonds']<br>[0.22 0.25 0.14 0.   0.01 0.01 0.21 0.01 0.   0.14]",
          "['fixed term and savings deposit' 'other equity instruments' 'cash'\n 'listed foreign public equity' 'buyout' 'corporate bonds'\n 'public investment funds' 'venture' 'listed domestic public equity'\n 'state bonds']<br>[0.28 0.01 0.28 0.01 0.04 0.01 0.05 0.02 0.   0.29]",
          "['listed foreign public equity' 'venture' 'state bonds' 'buyout'\n 'fixed term and savings deposit' 'listed domestic public equity' 'cash'\n 'other equity instruments' 'public investment funds' 'corporate bonds']<br>[0.01 0.   0.32 0.31 0.04 0.02 0.2  0.04 0.01 0.05]",
          "['public investment funds' 'buyout' 'corporate bonds'\n 'other equity instruments' 'venture' 'listed domestic public equity'\n 'fixed term and savings deposit' 'listed foreign public equity' 'cash'\n 'state bonds']<br>[0.02 0.22 0.12 0.01 0.03 0.01 0.18 0.   0.2  0.22]",
          "['buyout' 'listed foreign public equity' 'cash' 'other equity instruments'\n 'venture' 'listed domestic public equity' 'state bonds'\n 'fixed term and savings deposit' 'corporate bonds'\n 'public investment funds']<br>[0.32 0.   0.13 0.01 0.04 0.02 0.23 0.05 0.15 0.06]",
          "['public investment funds' 'fixed term and savings deposit' 'buyout'\n 'listed foreign public equity' 'other equity instruments'\n 'listed domestic public equity' 'cash' 'venture' 'state bonds'\n 'corporate bonds']<br>[0.1  0.01 0.29 0.07 0.31 0.01 0.15 0.04 0.01 0.01]",
          "['fixed term and savings deposit' 'buyout' 'listed domestic public equity'\n 'public investment funds' 'other equity instruments' 'cash' 'venture'\n 'corporate bonds' 'state bonds' 'listed foreign public equity']<br>[0.07 0.3  0.   0.01 0.02 0.22 0.   0.02 0.28 0.06]",
          "['corporate bonds' 'listed domestic public equity'\n 'listed foreign public equity' 'venture' 'state bonds' 'cash'\n 'fixed term and savings deposit' 'other equity instruments'\n 'public investment funds' 'buyout']<br>[0.01 0.06 0.01 0.16 0.05 0.12 0.03 0.25 0.   0.31]",
          "['public investment funds' 'buyout' 'listed foreign public equity'\n 'listed domestic public equity' 'state bonds' 'corporate bonds'\n 'fixed term and savings deposit' 'venture' 'other equity instruments'\n 'cash']<br>[0.   0.32 0.13 0.   0.15 0.04 0.01 0.1  0.12 0.12]",
          "['other equity instruments' 'listed foreign public equity' 'cash'\n 'fixed term and savings deposit' 'listed domestic public equity'\n 'venture' 'corporate bonds' 'buyout' 'state bonds'\n 'public investment funds']<br>[0.02 0.01 0.22 0.12 0.01 0.04 0.18 0.12 0.27 0.01]",
          "['cash' 'corporate bonds' 'buyout' 'venture'\n 'listed domestic public equity' 'other equity instruments' 'state bonds'\n 'public investment funds' 'fixed term and savings deposit'\n 'listed foreign public equity']<br>[0.24 0.02 0.14 0.04 0.01 0.02 0.2  0.02 0.3  0.01]",
          "['cash' 'state bonds' 'corporate bonds' 'buyout' 'public investment funds'\n 'fixed term and savings deposit' 'listed foreign public equity'\n 'other equity instruments' 'venture' 'listed domestic public equity']<br>[0.16 0.06 0.06 0.32 0.04 0.01 0.1  0.15 0.09 0.01]",
          "['buyout' 'other equity instruments' 'corporate bonds'\n 'fixed term and savings deposit' 'listed domestic public equity' 'cash'\n 'venture' 'public investment funds' 'state bonds'\n 'listed foreign public equity']<br>[0.27 0.02 0.02 0.29 0.02 0.12 0.02 0.01 0.22 0.01]",
          "['public investment funds' 'buyout' 'other equity instruments'\n 'listed domestic public equity' 'venture' 'state bonds'\n 'fixed term and savings deposit' 'listed foreign public equity' 'cash'\n 'corporate bonds']<br>[0.01 0.26 0.   0.   0.06 0.14 0.27 0.   0.17 0.08]",
          "['listed foreign public equity' 'state bonds'\n 'listed domestic public equity' 'cash' 'fixed term and savings deposit'\n 'buyout' 'corporate bonds' 'other equity instruments' 'venture'\n 'public investment funds']<br>[0.02 0.   0.01 0.13 0.02 0.33 0.05 0.11 0.3  0.04]",
          "['venture' 'public investment funds' 'state bonds' 'cash' 'buyout'\n 'fixed term and savings deposit' 'listed foreign public equity'\n 'listed domestic public equity' 'corporate bonds'\n 'other equity instruments']<br>[0.03 0.01 0.14 0.26 0.15 0.32 0.   0.   0.03 0.04]",
          "['other equity instruments' 'listed foreign public equity' 'cash' 'buyout'\n 'corporate bonds' 'fixed term and savings deposit'\n 'public investment funds' 'listed domestic public equity' 'state bonds'\n 'venture']<br>[0.05 0.13 0.12 0.33 0.   0.09 0.03 0.02 0.14 0.1 ]",
          "['other equity instruments' 'buyout' 'listed foreign public equity'\n 'venture' 'public investment funds' 'state bonds'\n 'listed domestic public equity' 'corporate bonds' 'cash'\n 'fixed term and savings deposit']<br>[0.03 0.31 0.01 0.13 0.   0.18 0.01 0.07 0.13 0.13]",
          "['listed domestic public equity' 'other equity instruments' 'buyout'\n 'venture' 'listed foreign public equity' 'corporate bonds'\n 'fixed term and savings deposit' 'state bonds' 'public investment funds'\n 'cash']<br>[0.02 0.25 0.28 0.07 0.2  0.   0.04 0.01 0.   0.12]",
          "['state bonds' 'corporate bonds' 'buyout' 'other equity instruments'\n 'public investment funds' 'cash' 'fixed term and savings deposit'\n 'listed domestic public equity' 'listed foreign public equity' 'venture']<br>[0.2  0.03 0.33 0.09 0.   0.13 0.02 0.06 0.04 0.1 ]",
          "['other equity instruments' 'venture' 'fixed term and savings deposit'\n 'corporate bonds' 'cash' 'state bonds' 'buyout' 'public investment funds'\n 'listed foreign public equity' 'listed domestic public equity']<br>[0.19 0.13 0.01 0.08 0.15 0.05 0.33 0.02 0.03 0.01]",
          "['corporate bonds' 'cash' 'state bonds' 'listed domestic public equity'\n 'fixed term and savings deposit' 'public investment funds'\n 'other equity instruments' 'buyout' 'venture'\n 'listed foreign public equity']<br>[0.08 0.14 0.1  0.   0.01 0.02 0.12 0.3  0.13 0.1 ]",
          "['venture' 'buyout' 'other equity instruments'\n 'listed domestic public equity' 'state bonds' 'public investment funds'\n 'corporate bonds' 'cash' 'fixed term and savings deposit'\n 'listed foreign public equity']<br>[0.04 0.31 0.16 0.   0.07 0.11 0.03 0.14 0.01 0.13]",
          "['listed foreign public equity' 'other equity instruments' 'buyout'\n 'venture' 'public investment funds' 'state bonds'\n 'listed domestic public equity' 'cash' 'corporate bonds'\n 'fixed term and savings deposit']<br>[0.01 0.02 0.01 0.07 0.   0.28 0.01 0.2  0.1  0.31]",
          "['listed domestic public equity' 'corporate bonds' 'venture'\n 'public investment funds' 'buyout' 'listed foreign public equity' 'cash'\n 'state bonds' 'other equity instruments' 'fixed term and savings deposit']<br>[0.02 0.06 0.07 0.   0.3  0.05 0.13 0.06 0.26 0.05]",
          "['public investment funds' 'cash' 'fixed term and savings deposit'\n 'listed foreign public equity' 'venture' 'other equity instruments'\n 'buyout' 'listed domestic public equity' 'state bonds' 'corporate bonds']<br>[0.   0.26 0.27 0.04 0.02 0.03 0.04 0.   0.28 0.05]",
          "['listed foreign public equity' 'state bonds' 'venture'\n 'other equity instruments' 'listed domestic public equity'\n 'corporate bonds' 'fixed term and savings deposit' 'buyout' 'cash'\n 'public investment funds']<br>[0.11 0.18 0.01 0.14 0.02 0.03 0.03 0.32 0.16 0.02]",
          "['public investment funds' 'cash' 'venture' 'state bonds'\n 'other equity instruments' 'buyout' 'corporate bonds'\n 'listed foreign public equity' 'fixed term and savings deposit'\n 'listed domestic public equity']<br>[0.08 0.16 0.06 0.02 0.09 0.33 0.04 0.19 0.02 0.01]",
          "['listed foreign public equity' 'buyout' 'state bonds' 'cash'\n 'other equity instruments' 'public investment funds' 'venture'\n 'corporate bonds' 'listed domestic public equity'\n 'fixed term and savings deposit']<br>[0.02 0.16 0.19 0.23 0.01 0.   0.02 0.24 0.   0.12]",
          "['venture' 'listed domestic public equity' 'listed foreign public equity'\n 'corporate bonds' 'fixed term and savings deposit'\n 'public investment funds' 'state bonds' 'buyout'\n 'other equity instruments' 'cash']<br>[0.01 0.   0.01 0.07 0.11 0.02 0.25 0.29 0.07 0.18]",
          "['fixed term and savings deposit' 'other equity instruments'\n 'listed domestic public equity' 'listed foreign public equity'\n 'corporate bonds' 'state bonds' 'venture' 'buyout' 'cash'\n 'public investment funds']<br>[0.01 0.15 0.01 0.08 0.12 0.17 0.03 0.3  0.12 0.01]",
          "['venture' 'listed foreign public equity' 'state bonds' 'corporate bonds'\n 'cash' 'other equity instruments' 'fixed term and savings deposit'\n 'listed domestic public equity' 'buyout' 'public investment funds']<br>[0.19 0.03 0.21 0.01 0.14 0.03 0.01 0.02 0.33 0.04]",
          "['listed domestic public equity' 'corporate bonds' 'venture' 'state bonds'\n 'public investment funds' 'other equity instruments'\n 'fixed term and savings deposit' 'cash' 'buyout'\n 'listed foreign public equity']<br>[0.01 0.02 0.07 0.03 0.01 0.23 0.05 0.14 0.31 0.14]",
          "['fixed term and savings deposit' 'venture' 'cash'\n 'public investment funds' 'corporate bonds'\n 'listed domestic public equity' 'buyout' 'listed foreign public equity'\n 'state bonds' 'other equity instruments']<br>[0.23 0.   0.19 0.   0.08 0.01 0.22 0.04 0.23 0.  ]",
          "['fixed term and savings deposit' 'listed domestic public equity'\n 'listed foreign public equity' 'buyout' 'other equity instruments'\n 'state bonds' 'public investment funds' 'corporate bonds' 'venture'\n 'cash']<br>[0.21 0.01 0.01 0.26 0.01 0.24 0.01 0.03 0.07 0.14]",
          "['venture' 'buyout' 'other equity instruments' 'public investment funds'\n 'corporate bonds' 'fixed term and savings deposit' 'state bonds'\n 'listed foreign public equity' 'listed domestic public equity' 'cash']<br>[0.03 0.1  0.01 0.01 0.02 0.27 0.28 0.01 0.01 0.23]",
          "['buyout' 'venture' 'cash' 'state bonds' 'public investment funds'\n 'other equity instruments' 'corporate bonds'\n 'fixed term and savings deposit' 'listed domestic public equity'\n 'listed foreign public equity']<br>[0.11 0.02 0.29 0.14 0.01 0.01 0.15 0.25 0.   0.02]",
          "['other equity instruments' 'venture' 'listed domestic public equity'\n 'cash' 'fixed term and savings deposit' 'corporate bonds'\n 'public investment funds' 'state bonds' 'listed foreign public equity'\n 'buyout']<br>[0.12 0.01 0.01 0.18 0.02 0.12 0.02 0.21 0.01 0.31]",
          "['venture' 'listed domestic public equity' 'other equity instruments'\n 'listed foreign public equity' 'buyout' 'cash' 'state bonds'\n 'corporate bonds' 'public investment funds'\n 'fixed term and savings deposit']<br>[0.02 0.   0.   0.02 0.21 0.23 0.21 0.1  0.01 0.2 ]",
          "['listed foreign public equity' 'venture' 'cash'\n 'fixed term and savings deposit' 'state bonds' 'public investment funds'\n 'listed domestic public equity' 'other equity instruments'\n 'corporate bonds' 'buyout']<br>[0.   0.02 0.24 0.2  0.22 0.   0.01 0.02 0.1  0.2 ]",
          "['corporate bonds' 'buyout' 'other equity instruments'\n 'listed domestic public equity' 'cash' 'venture'\n 'public investment funds' 'state bonds' 'listed foreign public equity'\n 'fixed term and savings deposit']<br>[0.01 0.04 0.02 0.01 0.3  0.07 0.   0.26 0.02 0.28]",
          "['public investment funds' 'fixed term and savings deposit' 'cash'\n 'listed foreign public equity' 'corporate bonds' 'venture' 'state bonds'\n 'other equity instruments' 'listed domestic public equity' 'buyout']<br>[0.01 0.22 0.22 0.   0.17 0.02 0.17 0.02 0.01 0.16]",
          "['state bonds' 'public investment funds' 'buyout'\n 'listed domestic public equity' 'listed foreign public equity' 'cash'\n 'other equity instruments' 'fixed term and savings deposit'\n 'corporate bonds' 'venture']<br>[0.17 0.   0.06 0.01 0.   0.31 0.01 0.3  0.15 0.  ]",
          "['public investment funds' 'venture' 'buyout' 'cash'\n 'fixed term and savings deposit' 'other equity instruments'\n 'listed domestic public equity' 'state bonds' 'corporate bonds'\n 'listed foreign public equity']<br>[0.05 0.07 0.32 0.13 0.   0.07 0.01 0.1  0.24 0.01]",
          "['listed foreign public equity' 'other equity instruments'\n 'listed domestic public equity' 'public investment funds'\n 'corporate bonds' 'buyout' 'fixed term and savings deposit' 'venture'\n 'cash' 'state bonds']<br>[0.07 0.23 0.02 0.01 0.08 0.31 0.   0.11 0.14 0.03]",
          "['cash' 'listed domestic public equity' 'corporate bonds'\n 'fixed term and savings deposit' 'public investment funds' 'state bonds'\n 'venture' 'listed foreign public equity' 'buyout'\n 'other equity instruments']<br>[0.14 0.   0.25 0.06 0.   0.25 0.01 0.01 0.25 0.02]",
          "['state bonds' 'cash' 'corporate bonds' 'other equity instruments'\n 'listed domestic public equity' 'venture'\n 'fixed term and savings deposit' 'buyout' 'public investment funds'\n 'listed foreign public equity']<br>[0.07 0.2  0.02 0.2  0.02 0.04 0.   0.33 0.02 0.1 ]",
          "['public investment funds' 'buyout' 'cash'\n 'fixed term and savings deposit' 'state bonds'\n 'listed domestic public equity' 'corporate bonds'\n 'listed foreign public equity' 'venture' 'other equity instruments']<br>[0.03 0.31 0.16 0.03 0.06 0.01 0.02 0.07 0.02 0.29]",
          "['corporate bonds' 'cash' 'fixed term and savings deposit'\n 'listed foreign public equity' 'state bonds' 'venture' 'buyout'\n 'other equity instruments' 'public investment funds'\n 'listed domestic public equity']<br>[0.01 0.13 0.02 0.1  0.14 0.01 0.33 0.17 0.   0.09]",
          "['listed domestic public equity' 'venture' 'other equity instruments'\n 'buyout' 'corporate bonds' 'listed foreign public equity'\n 'fixed term and savings deposit' 'public investment funds' 'state bonds'\n 'cash']<br>[0.02 0.01 0.   0.07 0.09 0.   0.3  0.   0.2  0.31]",
          "['venture' 'listed domestic public equity' 'buyout'\n 'listed foreign public equity' 'public investment funds'\n 'fixed term and savings deposit' 'cash' 'other equity instruments'\n 'state bonds' 'corporate bonds']<br>[0.15 0.   0.33 0.04 0.01 0.03 0.13 0.04 0.21 0.06]",
          "['cash' 'buyout' 'listed foreign public equity'\n 'listed domestic public equity' 'public investment funds' 'state bonds'\n 'venture' 'corporate bonds' 'fixed term and savings deposit'\n 'other equity instruments']<br>[0.14 0.31 0.04 0.01 0.   0.3  0.01 0.08 0.1  0.  ]",
          "['corporate bonds' 'listed foreign public equity'\n 'public investment funds' 'cash' 'venture'\n 'fixed term and savings deposit' 'state bonds'\n 'listed domestic public equity' 'buyout' 'other equity instruments']<br>[0.04 0.13 0.01 0.12 0.01 0.03 0.12 0.01 0.28 0.24]",
          "['other equity instruments' 'fixed term and savings deposit' 'buyout'\n 'listed foreign public equity' 'state bonds' 'cash'\n 'listed domestic public equity' 'public investment funds'\n 'corporate bonds' 'venture']<br>[0.01 0.18 0.31 0.02 0.25 0.18 0.02 0.   0.01 0.01]",
          "['state bonds' 'fixed term and savings deposit'\n 'listed foreign public equity' 'corporate bonds' 'buyout'\n 'listed domestic public equity' 'cash' 'public investment funds'\n 'other equity instruments' 'venture']<br>[0.04 0.02 0.08 0.02 0.3  0.02 0.15 0.02 0.18 0.17]",
          "['cash' 'listed foreign public equity' 'venture' 'public investment funds'\n 'buyout' 'listed domestic public equity' 'other equity instruments'\n 'fixed term and savings deposit' 'state bonds' 'corporate bonds']<br>[0.13 0.11 0.03 0.02 0.32 0.02 0.24 0.02 0.1  0.01]",
          "['other equity instruments' 'state bonds' 'listed foreign public equity'\n 'venture' 'cash' 'corporate bonds' 'fixed term and savings deposit'\n 'listed domestic public equity' 'public investment funds' 'buyout']<br>[0.2  0.02 0.02 0.23 0.12 0.05 0.02 0.03 0.   0.32]",
          "['venture' 'public investment funds' 'cash' 'corporate bonds' 'buyout'\n 'fixed term and savings deposit' 'state bonds'\n 'listed foreign public equity' 'listed domestic public equity'\n 'other equity instruments']<br>[0.05 0.06 0.14 0.02 0.31 0.01 0.08 0.2  0.   0.13]",
          "['other equity instruments' 'corporate bonds' 'cash'\n 'listed domestic public equity' 'listed foreign public equity' 'buyout'\n 'public investment funds' 'venture' 'fixed term and savings deposit'\n 'state bonds']<br>[0.02 0.1  0.14 0.02 0.01 0.31 0.01 0.04 0.16 0.18]",
          "['listed foreign public equity' 'corporate bonds'\n 'public investment funds' 'cash' 'other equity instruments' 'buyout'\n 'venture' 'listed domestic public equity'\n 'fixed term and savings deposit' 'state bonds']<br>[0.03 0.08 0.   0.2  0.   0.2  0.01 0.01 0.24 0.22]",
          "['other equity instruments' 'fixed term and savings deposit' 'buyout'\n 'cash' 'listed foreign public equity' 'public investment funds'\n 'state bonds' 'corporate bonds' 'listed domestic public equity' 'venture']<br>[0.21 0.03 0.31 0.14 0.08 0.02 0.04 0.07 0.01 0.1 ]",
          "['corporate bonds' 'venture' 'other equity instruments'\n 'listed foreign public equity' 'buyout' 'listed domestic public equity'\n 'public investment funds' 'fixed term and savings deposit' 'state bonds'\n 'cash']<br>[0.05 0.1  0.09 0.02 0.33 0.   0.08 0.01 0.19 0.13]",
          "['other equity instruments' 'corporate bonds'\n 'listed foreign public equity' 'venture' 'buyout'\n 'listed domestic public equity' 'state bonds' 'cash'\n 'fixed term and savings deposit' 'public investment funds']<br>[0.11 0.01 0.22 0.03 0.31 0.   0.13 0.12 0.02 0.06]",
          "['buyout' 'state bonds' 'listed foreign public equity'\n 'public investment funds' 'cash' 'venture'\n 'listed domestic public equity' 'other equity instruments'\n 'fixed term and savings deposit' 'corporate bonds']<br>[0.32 0.24 0.01 0.02 0.24 0.01 0.01 0.04 0.02 0.1 ]",
          "['state bonds' 'corporate bonds' 'other equity instruments' 'buyout'\n 'public investment funds' 'listed domestic public equity' 'venture'\n 'fixed term and savings deposit' 'listed foreign public equity' 'cash']<br>[0.04 0.03 0.13 0.3  0.   0.02 0.04 0.01 0.29 0.14]",
          "['cash' 'venture' 'buyout' 'corporate bonds'\n 'listed domestic public equity' 'public investment funds'\n 'listed foreign public equity' 'state bonds' 'other equity instruments'\n 'fixed term and savings deposit']<br>[0.22 0.03 0.14 0.1  0.01 0.02 0.   0.19 0.01 0.28]",
          "['listed domestic public equity' 'state bonds' 'venture'\n 'public investment funds' 'listed foreign public equity' 'buyout'\n 'other equity instruments' 'corporate bonds' 'cash'\n 'fixed term and savings deposit']<br>[0.02 0.29 0.04 0.03 0.   0.28 0.01 0.1  0.17 0.06]",
          "['listed domestic public equity' 'corporate bonds'\n 'listed foreign public equity' 'fixed term and savings deposit'\n 'public investment funds' 'buyout' 'other equity instruments' 'venture'\n 'cash' 'state bonds']<br>[0.02 0.01 0.27 0.01 0.01 0.27 0.16 0.09 0.12 0.03]",
          "['buyout' 'corporate bonds' 'listed domestic public equity' 'venture'\n 'fixed term and savings deposit' 'public investment funds'\n 'listed foreign public equity' 'state bonds' 'other equity instruments'\n 'cash']<br>[0.12 0.14 0.01 0.06 0.22 0.02 0.01 0.24 0.01 0.18]",
          "['fixed term and savings deposit' 'listed domestic public equity'\n 'listed foreign public equity' 'public investment funds'\n 'other equity instruments' 'state bonds' 'corporate bonds' 'cash'\n 'venture' 'buyout']<br>[0.18 0.   0.   0.02 0.02 0.24 0.08 0.23 0.01 0.23]",
          "['listed foreign public equity' 'listed domestic public equity' 'buyout'\n 'state bonds' 'fixed term and savings deposit' 'corporate bonds'\n 'public investment funds' 'cash' 'other equity instruments' 'venture']<br>[0.01 0.   0.32 0.17 0.04 0.21 0.01 0.19 0.01 0.04]",
          "['corporate bonds' 'listed foreign public equity' 'state bonds' 'venture'\n 'public investment funds' 'fixed term and savings deposit' 'buyout'\n 'other equity instruments' 'cash' 'listed domestic public equity']<br>[0.17 0.01 0.13 0.08 0.   0.29 0.06 0.   0.25 0.  ]",
          "['other equity instruments' 'state bonds' 'corporate bonds' 'venture'\n 'listed domestic public equity' 'listed foreign public equity'\n 'public investment funds' 'fixed term and savings deposit' 'cash'\n 'buyout']<br>[0.14 0.15 0.04 0.06 0.02 0.06 0.01 0.01 0.18 0.33]",
          "['buyout' 'listed domestic public equity' 'public investment funds'\n 'venture' 'corporate bonds' 'cash' 'listed foreign public equity'\n 'state bonds' 'fixed term and savings deposit' 'other equity instruments']<br>[0.31 0.02 0.03 0.07 0.1  0.14 0.01 0.24 0.06 0.03]",
          "['venture' 'state bonds' 'buyout' 'listed domestic public equity'\n 'corporate bonds' 'fixed term and savings deposit'\n 'public investment funds' 'listed foreign public equity'\n 'other equity instruments' 'cash']<br>[0.24 0.18 0.32 0.01 0.05 0.02 0.01 0.02 0.04 0.13]",
          "['state bonds' 'cash' 'public investment funds'\n 'listed domestic public equity' 'corporate bonds'\n 'fixed term and savings deposit' 'other equity instruments' 'venture'\n 'buyout' 'listed foreign public equity']<br>[0.19 0.13 0.06 0.01 0.01 0.02 0.03 0.19 0.33 0.03]",
          "['corporate bonds' 'cash' 'listed foreign public equity' 'venture'\n 'public investment funds' 'listed domestic public equity' 'state bonds'\n 'other equity instruments' 'buyout' 'fixed term and savings deposit']<br>[0.07 0.22 0.   0.02 0.02 0.01 0.3  0.   0.29 0.07]",
          "['listed foreign public equity' 'listed domestic public equity'\n 'state bonds' 'cash' 'fixed term and savings deposit' 'corporate bonds'\n 'public investment funds' 'other equity instruments' 'buyout' 'venture']<br>[0.08 0.02 0.29 0.12 0.07 0.08 0.01 0.01 0.31 0.  ]",
          "['buyout' 'venture' 'listed foreign public equity' 'cash'\n 'fixed term and savings deposit' 'other equity instruments'\n 'corporate bonds' 'public investment funds' 'state bonds'\n 'listed domestic public equity']<br>[0.3  0.   0.04 0.15 0.02 0.09 0.04 0.07 0.29 0.01]",
          "['buyout' 'fixed term and savings deposit' 'cash'\n 'listed domestic public equity' 'venture' 'state bonds' 'corporate bonds'\n 'public investment funds' 'other equity instruments'\n 'listed foreign public equity']<br>[0.31 0.02 0.12 0.01 0.06 0.2  0.04 0.05 0.14 0.06]",
          "['listed domestic public equity' 'cash' 'other equity instruments'\n 'buyout' 'corporate bonds' 'venture' 'fixed term and savings deposit'\n 'public investment funds' 'listed foreign public equity' 'state bonds']<br>[0.   0.19 0.01 0.17 0.04 0.02 0.29 0.02 0.02 0.25]",
          "['listed domestic public equity' 'buyout' 'other equity instruments'\n 'corporate bonds' 'venture' 'fixed term and savings deposit'\n 'state bonds' 'listed foreign public equity' 'cash'\n 'public investment funds']<br>[0.01 0.14 0.02 0.12 0.03 0.21 0.23 0.   0.24 0.01]",
          "['corporate bonds' 'cash' 'buyout' 'listed foreign public equity'\n 'other equity instruments' 'fixed term and savings deposit'\n 'public investment funds' 'venture' 'state bonds'\n 'listed domestic public equity']<br>[0.03 0.14 0.31 0.04 0.03 0.02 0.03 0.13 0.26 0.02]",
          "['buyout' 'listed domestic public equity' 'venture' 'state bonds'\n 'corporate bonds' 'cash' 'listed foreign public equity'\n 'other equity instruments' 'public investment funds'\n 'fixed term and savings deposit']<br>[0.31 0.02 0.03 0.01 0.03 0.13 0.2  0.23 0.01 0.02]",
          "['listed foreign public equity' 'public investment funds' 'state bonds'\n 'buyout' 'corporate bonds' 'cash' 'fixed term and savings deposit'\n 'other equity instruments' 'listed domestic public equity' 'venture']<br>[0.03 0.05 0.23 0.3  0.14 0.15 0.02 0.02 0.   0.07]",
          "['other equity instruments' 'state bonds' 'cash'\n 'fixed term and savings deposit' 'listed foreign public equity'\n 'corporate bonds' 'public investment funds' 'venture' 'buyout'\n 'listed domestic public equity']<br>[0.   0.23 0.23 0.22 0.   0.06 0.01 0.05 0.19 0.01]",
          "['other equity instruments' 'listed foreign public equity'\n 'listed domestic public equity' 'buyout' 'venture' 'corporate bonds'\n 'public investment funds' 'cash' 'state bonds'\n 'fixed term and savings deposit']<br>[0.01 0.03 0.   0.27 0.03 0.06 0.02 0.18 0.28 0.12]",
          "['venture' 'listed domestic public equity' 'public investment funds'\n 'fixed term and savings deposit' 'other equity instruments'\n 'listed foreign public equity' 'buyout' 'state bonds' 'cash'\n 'corporate bonds']<br>[0.01 0.01 0.04 0.31 0.02 0.02 0.05 0.26 0.25 0.04]",
          "['cash' 'fixed term and savings deposit' 'other equity instruments'\n 'state bonds' 'listed domestic public equity' 'corporate bonds' 'buyout'\n 'venture' 'public investment funds' 'listed foreign public equity']<br>[0.13 0.03 0.03 0.28 0.01 0.03 0.31 0.12 0.02 0.05]",
          "['state bonds' 'fixed term and savings deposit' 'public investment funds'\n 'listed domestic public equity' 'other equity instruments'\n 'listed foreign public equity' 'corporate bonds' 'cash' 'buyout'\n 'venture']<br>[0.23 0.16 0.01 0.   0.02 0.   0.05 0.22 0.26 0.04]",
          "['state bonds' 'cash' 'corporate bonds' 'listed foreign public equity'\n 'buyout' 'fixed term and savings deposit' 'public investment funds'\n 'venture' 'other equity instruments' 'listed domestic public equity']<br>[0.   0.13 0.09 0.31 0.33 0.01 0.   0.02 0.1  0.01]",
          "['corporate bonds' 'buyout' 'public investment funds'\n 'other equity instruments' 'listed foreign public equity' 'venture'\n 'listed domestic public equity' 'state bonds'\n 'fixed term and savings deposit' 'cash']<br>[0.02 0.25 0.03 0.   0.01 0.04 0.   0.28 0.16 0.22]",
          "['buyout' 'cash' 'listed foreign public equity' 'venture'\n 'other equity instruments' 'fixed term and savings deposit' 'state bonds'\n 'corporate bonds' 'listed domestic public equity'\n 'public investment funds']<br>[0.2  0.14 0.   0.   0.   0.1  0.28 0.25 0.   0.02]",
          "['public investment funds' 'venture' 'state bonds'\n 'fixed term and savings deposit' 'other equity instruments'\n 'corporate bonds' 'cash' 'listed foreign public equity'\n 'listed domestic public equity' 'buyout']<br>[0.02 0.02 0.23 0.14 0.01 0.11 0.28 0.01 0.   0.17]",
          "['corporate bonds' 'other equity instruments' 'public investment funds'\n 'venture' 'buyout' 'listed foreign public equity'\n 'listed domestic public equity' 'state bonds' 'cash'\n 'fixed term and savings deposit']<br>[0.14 0.   0.01 0.03 0.03 0.01 0.01 0.29 0.21 0.27]",
          "['cash' 'corporate bonds' 'public investment funds'\n 'fixed term and savings deposit' 'buyout' 'venture'\n 'other equity instruments' 'state bonds' 'listed domestic public equity'\n 'listed foreign public equity']<br>[0.13 0.08 0.02 0.   0.3  0.11 0.26 0.04 0.01 0.04]",
          "['corporate bonds' 'fixed term and savings deposit' 'state bonds'\n 'public investment funds' 'listed foreign public equity' 'venture'\n 'listed domestic public equity' 'buyout' 'cash'\n 'other equity instruments']<br>[0.02 0.03 0.15 0.03 0.12 0.11 0.02 0.33 0.12 0.08]",
          "['buyout' 'listed domestic public equity' 'state bonds'\n 'other equity instruments' 'cash' 'corporate bonds'\n 'listed foreign public equity' 'venture' 'fixed term and savings deposit'\n 'public investment funds']<br>[0.32 0.01 0.03 0.14 0.14 0.07 0.2  0.06 0.04 0.01]",
          "['public investment funds' 'listed foreign public equity'\n 'fixed term and savings deposit' 'state bonds' 'venture' 'cash'\n 'corporate bonds' 'buyout' 'other equity instruments'\n 'listed domestic public equity']<br>[0.02 0.05 0.03 0.3  0.1  0.13 0.01 0.32 0.01 0.04]",
          "['other equity instruments' 'listed domestic public equity'\n 'public investment funds' 'corporate bonds' 'buyout' 'cash' 'state bonds'\n 'listed foreign public equity' 'venture' 'fixed term and savings deposit']<br>[0.08 0.04 0.01 0.09 0.32 0.12 0.27 0.01 0.   0.04]",
          "['cash' 'public investment funds' 'fixed term and savings deposit'\n 'state bonds' 'other equity instruments' 'buyout' 'venture'\n 'listed domestic public equity' 'corporate bonds'\n 'listed foreign public equity']<br>[0.12 0.01 0.03 0.15 0.06 0.31 0.17 0.   0.1  0.05]",
          "['other equity instruments' 'listed domestic public equity'\n 'public investment funds' 'state bonds' 'venture'\n 'fixed term and savings deposit' 'buyout' 'cash' 'corporate bonds'\n 'listed foreign public equity']<br>[0.12 0.05 0.   0.29 0.02 0.02 0.33 0.12 0.01 0.04]",
          "['public investment funds' 'state bonds' 'other equity instruments'\n 'buyout' 'venture' 'cash' 'fixed term and savings deposit'\n 'corporate bonds' 'listed domestic public equity'\n 'listed foreign public equity']<br>[0.01 0.13 0.15 0.32 0.13 0.12 0.01 0.   0.01 0.13]",
          "['other equity instruments' 'state bonds' 'listed foreign public equity'\n 'fixed term and savings deposit' 'public investment funds' 'buyout'\n 'corporate bonds' 'cash' 'listed domestic public equity' 'venture']<br>[0.   0.27 0.05 0.23 0.01 0.25 0.02 0.17 0.01 0.  ]",
          "['other equity instruments' 'venture' 'state bonds' 'buyout'\n 'fixed term and savings deposit' 'listed foreign public equity'\n 'corporate bonds' 'listed domestic public equity' 'cash'\n 'public investment funds']<br>[0.   0.06 0.23 0.27 0.08 0.01 0.16 0.01 0.18 0.01]",
          "['other equity instruments' 'venture' 'cash' 'public investment funds'\n 'corporate bonds' 'listed foreign public equity' 'state bonds'\n 'fixed term and savings deposit' 'listed domestic public equity' 'buyout']<br>[0.21 0.07 0.14 0.05 0.01 0.09 0.08 0.02 0.02 0.33]",
          "['venture' 'fixed term and savings deposit' 'buyout' 'cash' 'state bonds'\n 'corporate bonds' 'listed domestic public equity'\n 'other equity instruments' 'public investment funds'\n 'listed foreign public equity']<br>[0.   0.01 0.32 0.15 0.09 0.11 0.   0.14 0.01 0.17]",
          "['other equity instruments' 'listed domestic public equity' 'cash'\n 'state bonds' 'corporate bonds' 'fixed term and savings deposit' 'buyout'\n 'venture' 'public investment funds' 'listed foreign public equity']<br>[0.   0.01 0.13 0.21 0.14 0.07 0.3  0.08 0.01 0.05]",
          "['other equity instruments' 'corporate bonds'\n 'listed foreign public equity' 'buyout' 'cash' 'venture'\n 'listed domestic public equity' 'fixed term and savings deposit'\n 'public investment funds' 'state bonds']<br>[0.01 0.01 0.06 0.33 0.16 0.01 0.02 0.06 0.04 0.29]",
          "['buyout' 'state bonds' 'corporate bonds' 'listed domestic public equity'\n 'listed foreign public equity' 'venture' 'public investment funds' 'cash'\n 'fixed term and savings deposit' 'other equity instruments']<br>[0.23 0.16 0.09 0.   0.   0.04 0.   0.23 0.25 0.01]",
          "['cash' 'public investment funds' 'listed foreign public equity' 'venture'\n 'listed domestic public equity' 'fixed term and savings deposit'\n 'other equity instruments' 'state bonds' 'buyout' 'corporate bonds']<br>[0.32 0.01 0.02 0.04 0.01 0.32 0.01 0.12 0.06 0.1 ]",
          "['fixed term and savings deposit' 'venture' 'corporate bonds' 'buyout'\n 'state bonds' 'listed domestic public equity' 'other equity instruments'\n 'public investment funds' 'cash' 'listed foreign public equity']<br>[0.22 0.01 0.01 0.17 0.23 0.   0.01 0.01 0.31 0.03]",
          "['buyout' 'listed foreign public equity' 'public investment funds'\n 'corporate bonds' 'cash' 'other equity instruments' 'venture'\n 'listed domestic public equity' 'fixed term and savings deposit'\n 'state bonds']<br>[0.28 0.01 0.   0.04 0.15 0.03 0.05 0.   0.21 0.22]",
          "['buyout' 'venture' 'listed domestic public equity'\n 'listed foreign public equity' 'corporate bonds'\n 'other equity instruments' 'fixed term and savings deposit'\n 'public investment funds' 'cash' 'state bonds']<br>[0.27 0.02 0.   0.   0.2  0.   0.18 0.   0.16 0.15]",
          "['buyout' 'cash' 'listed foreign public equity'\n 'fixed term and savings deposit' 'public investment funds'\n 'corporate bonds' 'other equity instruments'\n 'listed domestic public equity' 'state bonds' 'venture']<br>[0.28 0.12 0.01 0.12 0.01 0.07 0.02 0.02 0.33 0.02]",
          "['corporate bonds' 'public investment funds' 'cash'\n 'fixed term and savings deposit' 'buyout' 'listed foreign public equity'\n 'other equity instruments' 'listed domestic public equity' 'venture'\n 'state bonds']<br>[0.04 0.   0.16 0.02 0.32 0.15 0.08 0.   0.04 0.19]",
          "['listed foreign public equity' 'other equity instruments'\n 'listed domestic public equity' 'state bonds' 'venture'\n 'fixed term and savings deposit' 'cash' 'corporate bonds' 'buyout'\n 'public investment funds']<br>[0.   0.02 0.01 0.29 0.03 0.06 0.15 0.12 0.3  0.01]",
          "['corporate bonds' 'cash' 'state bonds' 'other equity instruments'\n 'listed domestic public equity' 'fixed term and savings deposit'\n 'listed foreign public equity' 'venture' 'public investment funds'\n 'buyout']<br>[0.04 0.28 0.31 0.01 0.   0.23 0.01 0.05 0.01 0.04]",
          "['fixed term and savings deposit' 'corporate bonds'\n 'listed domestic public equity' 'other equity instruments'\n 'public investment funds' 'venture' 'listed foreign public equity'\n 'state bonds' 'cash' 'buyout']<br>[0.3  0.16 0.01 0.02 0.01 0.   0.   0.14 0.26 0.12]",
          "['public investment funds' 'listed foreign public equity'\n 'other equity instruments' 'cash' 'state bonds' 'corporate bonds'\n 'venture' 'fixed term and savings deposit' 'buyout'\n 'listed domestic public equity']<br>[0.   0.05 0.03 0.17 0.21 0.17 0.02 0.04 0.32 0.  ]",
          "['listed foreign public equity' 'corporate bonds'\n 'other equity instruments' 'listed domestic public equity'\n 'fixed term and savings deposit' 'cash' 'buyout'\n 'public investment funds' 'venture' 'state bonds']<br>[0.31 0.02 0.11 0.   0.   0.13 0.32 0.02 0.04 0.05]",
          "['fixed term and savings deposit' 'state bonds' 'other equity instruments'\n 'cash' 'buyout' 'corporate bonds' 'listed domestic public equity'\n 'public investment funds' 'venture' 'listed foreign public equity']<br>[0.03 0.23 0.09 0.12 0.31 0.06 0.02 0.02 0.1  0.03]",
          "['state bonds' 'public investment funds' 'listed domestic public equity'\n 'other equity instruments' 'venture' 'cash' 'corporate bonds' 'buyout'\n 'fixed term and savings deposit' 'listed foreign public equity']<br>[0.26 0.03 0.01 0.   0.03 0.17 0.11 0.32 0.04 0.03]",
          "['state bonds' 'public investment funds' 'other equity instruments'\n 'venture' 'listed domestic public equity' 'cash' 'buyout'\n 'listed foreign public equity' 'corporate bonds'\n 'fixed term and savings deposit']<br>[0.2  0.01 0.1  0.04 0.03 0.13 0.33 0.11 0.01 0.05]",
          "['listed foreign public equity' 'corporate bonds' 'buyout' 'venture'\n 'public investment funds' 'cash' 'fixed term and savings deposit'\n 'state bonds' 'listed domestic public equity' 'other equity instruments']<br>[0.   0.09 0.13 0.03 0.02 0.29 0.29 0.14 0.   0.01]",
          "['buyout' 'public investment funds' 'fixed term and savings deposit'\n 'corporate bonds' 'other equity instruments' 'cash' 'venture'\n 'state bonds' 'listed foreign public equity'\n 'listed domestic public equity']<br>[0.28 0.03 0.09 0.08 0.01 0.14 0.01 0.32 0.02 0.02]",
          "['venture' 'listed foreign public equity' 'other equity instruments'\n 'state bonds' 'fixed term and savings deposit' 'public investment funds'\n 'buyout' 'corporate bonds' 'cash' 'listed domestic public equity']<br>[0.04 0.08 0.03 0.29 0.03 0.02 0.33 0.03 0.15 0.  ]",
          "['other equity instruments' 'public investment funds' 'venture' 'cash'\n 'buyout' 'listed foreign public equity' 'listed domestic public equity'\n 'state bonds' 'fixed term and savings deposit' 'corporate bonds']<br>[0.07 0.01 0.17 0.13 0.33 0.16 0.   0.07 0.05 0.02]",
          "['state bonds' 'venture' 'corporate bonds' 'buyout'\n 'listed domestic public equity' 'listed foreign public equity'\n 'public investment funds' 'fixed term and savings deposit'\n 'other equity instruments' 'cash']<br>[0.05 0.12 0.   0.33 0.01 0.16 0.05 0.02 0.13 0.13]",
          "['fixed term and savings deposit' 'listed domestic public equity' 'buyout'\n 'public investment funds' 'other equity instruments' 'cash' 'state bonds'\n 'venture' 'listed foreign public equity' 'corporate bonds']<br>[0.21 0.   0.18 0.   0.   0.23 0.27 0.06 0.02 0.02]",
          "['listed domestic public equity' 'cash' 'buyout' 'corporate bonds'\n 'listed foreign public equity' 'venture' 'public investment funds'\n 'fixed term and savings deposit' 'other equity instruments' 'state bonds']<br>[0.01 0.14 0.32 0.09 0.03 0.07 0.   0.08 0.12 0.14]",
          "['state bonds' 'listed domestic public equity' 'venture' 'corporate bonds'\n 'other equity instruments' 'buyout' 'listed foreign public equity'\n 'fixed term and savings deposit' 'public investment funds' 'cash']<br>[0.19 0.01 0.06 0.02 0.14 0.31 0.11 0.01 0.04 0.12]",
          "['state bonds' 'other equity instruments' 'cash' 'corporate bonds'\n 'fixed term and savings deposit' 'listed foreign public equity' 'venture'\n 'public investment funds' 'buyout' 'listed domestic public equity']<br>[0.23 0.01 0.16 0.07 0.03 0.01 0.16 0.01 0.32 0.01]",
          "['fixed term and savings deposit' 'public investment funds'\n 'listed domestic public equity' 'state bonds' 'other equity instruments'\n 'listed foreign public equity' 'corporate bonds' 'venture' 'cash'\n 'buyout']<br>[0.23 0.02 0.01 0.19 0.   0.01 0.11 0.01 0.21 0.22]",
          "['public investment funds' 'cash' 'other equity instruments'\n 'fixed term and savings deposit' 'state bonds'\n 'listed foreign public equity' 'venture' 'buyout'\n 'listed domestic public equity' 'corporate bonds']<br>[0.03 0.17 0.16 0.01 0.17 0.02 0.1  0.33 0.01 0.01]",
          "['buyout' 'corporate bonds' 'fixed term and savings deposit' 'state bonds'\n 'listed domestic public equity' 'other equity instruments'\n 'public investment funds' 'venture' 'cash' 'listed foreign public equity']<br>[0.32 0.06 0.02 0.3  0.02 0.01 0.01 0.02 0.12 0.13]",
          "['listed foreign public equity' 'other equity instruments'\n 'public investment funds' 'listed domestic public equity'\n 'corporate bonds' 'cash' 'fixed term and savings deposit' 'venture'\n 'state bonds' 'buyout']<br>[0.02 0.09 0.04 0.01 0.13 0.12 0.03 0.   0.22 0.32]",
          "['cash' 'fixed term and savings deposit' 'listed domestic public equity'\n 'venture' 'corporate bonds' 'listed foreign public equity' 'state bonds'\n 'public investment funds' 'other equity instruments' 'buyout']<br>[0.19 0.1  0.02 0.05 0.02 0.   0.29 0.02 0.01 0.31]",
          "['listed domestic public equity' 'public investment funds'\n 'corporate bonds' 'cash' 'venture' 'listed foreign public equity'\n 'state bonds' 'other equity instruments' 'fixed term and savings deposit'\n 'buyout']<br>[0.01 0.01 0.03 0.2  0.   0.02 0.22 0.02 0.26 0.24]",
          "['venture' 'state bonds' 'public investment funds'\n 'other equity instruments' 'cash' 'fixed term and savings deposit'\n 'listed domestic public equity' 'listed foreign public equity'\n 'corporate bonds' 'buyout']<br>[0.   0.23 0.02 0.   0.22 0.24 0.01 0.01 0.05 0.22]",
          "['listed domestic public equity' 'public investment funds'\n 'listed foreign public equity' 'other equity instruments'\n 'corporate bonds' 'buyout' 'state bonds' 'fixed term and savings deposit'\n 'venture' 'cash']<br>[0.   0.01 0.03 0.01 0.15 0.3  0.24 0.04 0.05 0.17]",
          "['cash' 'corporate bonds' 'public investment funds'\n 'other equity instruments' 'state bonds' 'fixed term and savings deposit'\n 'listed domestic public equity' 'venture' 'buyout'\n 'listed foreign public equity']<br>[0.14 0.17 0.   0.02 0.19 0.24 0.   0.02 0.21 0.01]",
          "['venture' 'buyout' 'public investment funds'\n 'listed domestic public equity' 'state bonds' 'corporate bonds' 'cash'\n 'other equity instruments' 'listed foreign public equity'\n 'fixed term and savings deposit']<br>[0.08 0.29 0.   0.01 0.32 0.01 0.16 0.06 0.04 0.02]",
          "['cash' 'public investment funds' 'other equity instruments' 'state bonds'\n 'listed foreign public equity' 'listed domestic public equity' 'venture'\n 'fixed term and savings deposit' 'buyout' 'corporate bonds']<br>[0.19 0.01 0.01 0.26 0.02 0.   0.05 0.18 0.22 0.06]",
          "['cash' 'listed domestic public equity' 'fixed term and savings deposit'\n 'public investment funds' 'buyout' 'state bonds'\n 'listed foreign public equity' 'venture' 'corporate bonds'\n 'other equity instruments']<br>[0.13 0.   0.04 0.02 0.33 0.21 0.01 0.12 0.09 0.05]",
          "['venture' 'cash' 'fixed term and savings deposit'\n 'public investment funds' 'state bonds' 'corporate bonds'\n 'other equity instruments' 'buyout' 'listed foreign public equity'\n 'listed domestic public equity']<br>[0.07 0.12 0.06 0.01 0.11 0.18 0.08 0.32 0.05 0.  ]",
          "['listed domestic public equity' 'listed foreign public equity'\n 'corporate bonds' 'buyout' 'state bonds' 'other equity instruments'\n 'cash' 'fixed term and savings deposit' 'venture'\n 'public investment funds']<br>[0.   0.05 0.19 0.31 0.   0.26 0.12 0.02 0.04 0.01]",
          "['other equity instruments' 'buyout' 'venture' 'state bonds'\n 'public investment funds' 'listed domestic public equity'\n 'corporate bonds' 'cash' 'fixed term and savings deposit'\n 'listed foreign public equity']<br>[0.01 0.19 0.05 0.25 0.   0.01 0.01 0.25 0.23 0.  ]",
          "['venture' 'listed foreign public equity' 'buyout' 'cash'\n 'listed domestic public equity' 'state bonds' 'corporate bonds'\n 'other equity instruments' 'public investment funds'\n 'fixed term and savings deposit']<br>[0.01 0.01 0.08 0.28 0.02 0.26 0.11 0.01 0.   0.23]",
          "['public investment funds' 'other equity instruments' 'corporate bonds'\n 'state bonds' 'listed foreign public equity' 'cash'\n 'fixed term and savings deposit' 'listed domestic public equity' 'buyout'\n 'venture']<br>[0.01 0.02 0.23 0.25 0.   0.17 0.03 0.01 0.27 0.02]",
          "['corporate bonds' 'listed foreign public equity'\n 'other equity instruments' 'public investment funds' 'cash' 'venture'\n 'fixed term and savings deposit' 'listed domestic public equity' 'buyout'\n 'state bonds']<br>[0.01 0.13 0.12 0.03 0.14 0.04 0.02 0.01 0.32 0.19]",
          "['listed domestic public equity' 'buyout' 'listed foreign public equity'\n 'public investment funds' 'other equity instruments' 'corporate bonds'\n 'state bonds' 'cash' 'fixed term and savings deposit' 'venture']<br>[0.02 0.23 0.   0.01 0.02 0.02 0.31 0.13 0.23 0.03]",
          "['public investment funds' 'venture' 'listed foreign public equity'\n 'buyout' 'cash' 'corporate bonds' 'listed domestic public equity'\n 'state bonds' 'other equity instruments' 'fixed term and savings deposit']<br>[0.   0.03 0.01 0.25 0.18 0.1  0.01 0.33 0.01 0.08]",
          "['public investment funds' 'other equity instruments' 'state bonds' 'cash'\n 'corporate bonds' 'listed domestic public equity'\n 'listed foreign public equity' 'venture' 'buyout'\n 'fixed term and savings deposit']<br>[0.01 0.07 0.2  0.14 0.   0.   0.14 0.11 0.31 0.02]",
          "['state bonds' 'buyout' 'cash' 'listed foreign public equity'\n 'listed domestic public equity' 'corporate bonds'\n 'fixed term and savings deposit' 'public investment funds' 'venture'\n 'other equity instruments']<br>[0.1  0.33 0.14 0.08 0.02 0.07 0.01 0.01 0.08 0.15]",
          "['fixed term and savings deposit' 'listed foreign public equity' 'venture'\n 'listed domestic public equity' 'corporate bonds'\n 'public investment funds' 'other equity instruments' 'cash' 'state bonds'\n 'buyout']<br>[0.04 0.01 0.04 0.   0.1  0.01 0.05 0.16 0.29 0.31]",
          "['cash' 'other equity instruments' 'public investment funds' 'venture'\n 'corporate bonds' 'fixed term and savings deposit'\n 'listed domestic public equity' 'state bonds' 'buyout'\n 'listed foreign public equity']<br>[0.13 0.16 0.02 0.2  0.   0.01 0.01 0.06 0.32 0.09]",
          "['listed foreign public equity' 'other equity instruments'\n 'public investment funds' 'buyout' 'venture'\n 'fixed term and savings deposit' 'listed domestic public equity'\n 'corporate bonds' 'cash' 'state bonds']<br>[0.12 0.25 0.02 0.3  0.11 0.01 0.01 0.   0.14 0.04]",
          "['state bonds' 'other equity instruments' 'cash'\n 'fixed term and savings deposit' 'venture'\n 'listed domestic public equity' 'buyout' 'public investment funds'\n 'corporate bonds' 'listed foreign public equity']<br>[0.15 0.07 0.15 0.05 0.09 0.01 0.33 0.01 0.08 0.06]",
          "['state bonds' 'listed domestic public equity'\n 'listed foreign public equity' 'fixed term and savings deposit'\n 'other equity instruments' 'buyout' 'venture' 'cash'\n 'public investment funds' 'corporate bonds']<br>[0.17 0.01 0.04 0.03 0.09 0.33 0.12 0.13 0.04 0.05]",
          "['public investment funds' 'listed domestic public equity' 'cash'\n 'fixed term and savings deposit' 'state bonds'\n 'listed foreign public equity' 'venture' 'corporate bonds'\n 'other equity instruments' 'buyout']<br>[0.01 0.01 0.12 0.03 0.28 0.   0.04 0.21 0.01 0.28]",
          "['other equity instruments' 'venture' 'buyout'\n 'listed domestic public equity' 'corporate bonds' 'cash'\n 'listed foreign public equity' 'fixed term and savings deposit'\n 'public investment funds' 'state bonds']<br>[0.18 0.04 0.32 0.01 0.14 0.13 0.04 0.05 0.   0.09]",
          "['buyout' 'state bonds' 'fixed term and savings deposit' 'venture'\n 'other equity instruments' 'public investment funds' 'cash'\n 'corporate bonds' 'listed foreign public equity'\n 'listed domestic public equity']<br>[0.32 0.2  0.01 0.03 0.09 0.04 0.12 0.08 0.08 0.02]",
          "['venture' 'cash' 'other equity instruments'\n 'listed domestic public equity' 'state bonds' 'corporate bonds'\n 'public investment funds' 'fixed term and savings deposit'\n 'listed foreign public equity' 'buyout']<br>[0.2  0.15 0.14 0.01 0.06 0.02 0.02 0.02 0.06 0.33]",
          "['fixed term and savings deposit' 'corporate bonds' 'state bonds'\n 'venture' 'listed foreign public equity' 'public investment funds'\n 'buyout' 'cash' 'listed domestic public equity'\n 'other equity instruments']<br>[0.1  0.09 0.25 0.02 0.02 0.01 0.26 0.25 0.   0.01]",
          "['listed domestic public equity' 'other equity instruments'\n 'fixed term and savings deposit' 'listed foreign public equity' 'cash'\n 'state bonds' 'buyout' 'public investment funds' 'venture'\n 'corporate bonds']<br>[0.   0.13 0.04 0.08 0.12 0.19 0.3  0.   0.12 0.02]",
          "['other equity instruments' 'venture' 'cash'\n 'listed domestic public equity' 'state bonds'\n 'listed foreign public equity' 'buyout' 'fixed term and savings deposit'\n 'public investment funds' 'corporate bonds']<br>[0.01 0.   0.18 0.   0.27 0.05 0.3  0.14 0.   0.04]",
          "['cash' 'corporate bonds' 'venture' 'listed foreign public equity'\n 'public investment funds' 'buyout' 'listed domestic public equity'\n 'state bonds' 'other equity instruments' 'fixed term and savings deposit']<br>[0.23 0.16 0.02 0.   0.01 0.12 0.02 0.18 0.   0.27]",
          "['cash' 'state bonds' 'venture' 'fixed term and savings deposit'\n 'listed domestic public equity' 'buyout' 'public investment funds'\n 'listed foreign public equity' 'corporate bonds'\n 'other equity instruments']<br>[0.24 0.21 0.01 0.19 0.   0.24 0.   0.   0.09 0.01]",
          "['other equity instruments' 'listed foreign public equity' 'venture'\n 'listed domestic public equity' 'fixed term and savings deposit'\n 'state bonds' 'buyout' 'corporate bonds' 'public investment funds' 'cash']<br>[0.   0.   0.01 0.   0.08 0.29 0.22 0.11 0.04 0.25]",
          "['other equity instruments' 'state bonds' 'cash' 'venture'\n 'listed foreign public equity' 'corporate bonds'\n 'listed domestic public equity' 'buyout' 'fixed term and savings deposit'\n 'public investment funds']<br>[0.05 0.28 0.12 0.02 0.05 0.18 0.01 0.28 0.   0.  ]",
          "['public investment funds' 'state bonds' 'cash'\n 'listed foreign public equity' 'other equity instruments' 'buyout'\n 'fixed term and savings deposit' 'listed domestic public equity'\n 'corporate bonds' 'venture']<br>[0.01 0.12 0.22 0.01 0.02 0.15 0.29 0.   0.18 0.01]",
          "['state bonds' 'listed foreign public equity' 'venture'\n 'fixed term and savings deposit' 'buyout' 'corporate bonds'\n 'public investment funds' 'cash' 'listed domestic public equity'\n 'other equity instruments']<br>[0.23 0.03 0.03 0.2  0.26 0.01 0.   0.23 0.   0.  ]",
          "['corporate bonds' 'buyout' 'listed domestic public equity' 'cash'\n 'other equity instruments' 'listed foreign public equity' 'state bonds'\n 'venture' 'public investment funds' 'fixed term and savings deposit']<br>[0.1  0.16 0.02 0.24 0.01 0.01 0.2  0.01 0.01 0.26]",
          "['cash' 'listed foreign public equity' 'listed domestic public equity'\n 'other equity instruments' 'venture' 'buyout' 'corporate bonds'\n 'state bonds' 'public investment funds' 'fixed term and savings deposit']<br>[0.2  0.   0.   0.   0.04 0.25 0.07 0.24 0.   0.18]"
         ],
         "type": "scatter",
         "x": [
          0.08672431725048152,
          0.08151807610439003,
          0.08815058240125942,
          0.07113137626631853,
          0.050132828586979886,
          0.07835858699493438,
          0.07000506852313262,
          0.06599685231919757,
          0.06775018750298284,
          0.08144527813641085,
          0.09946497942940533,
          0.07411044870472845,
          0.0712737681887128,
          0.06254276082750926,
          0.05623494463159874,
          0.05922665866289703,
          0.08916043115836372,
          0.0625148161063668,
          0.06080358177467739,
          0.05848545383616526,
          0.060379772541061916,
          0.08083974376945918,
          0.05472807083906715,
          0.04732878354730804,
          0.07299455834595801,
          0.04531857354434847,
          0.08334282148313818,
          0.0860893891342125,
          0.07503126688643903,
          0.05915031404233232,
          0.04607187396648748,
          0.07801653754615674,
          0.08112067770276278,
          0.07643722037040653,
          0.053565841797715466,
          0.07287114177784239,
          0.06257344780872078,
          0.08230830524372953,
          0.06187970899653849,
          0.05491277935553985,
          0.039855160429202126,
          0.061473503656085754,
          0.03962971063884412,
          0.07286342073487655,
          0.04103263060881027,
          0.04932740670310213,
          0.060984638973107075,
          0.10142945673601765,
          0.043293406493882296,
          0.07944060708587804,
          0.07292943020965081,
          0.04826586764450341,
          0.09374203646827996,
          0.05878719061633119,
          0.060302117091260314,
          0.0540754108946078,
          0.07269407310927714,
          0.07126740972946152,
          0.05314267486267581,
          0.0664571409532038,
          0.09294885076458757,
          0.03461114148963781,
          0.06119570744813333,
          0.042214249639310676,
          0.04976004857496452,
          0.06247248723158375,
          0.07561615661004152,
          0.07510943062832413,
          0.07440983826060714,
          0.10444444545836841,
          0.06177576450624528,
          0.03965457442771966,
          0.046839843247095225,
          0.0916026949324272,
          0.03925035717790827,
          0.0707127766175047,
          0.07014353238793496,
          0.0686875786450577,
          0.0829723434311751,
          0.06331877949841734,
          0.09220716223114345,
          0.05920873070812331,
          0.0465767842609577,
          0.060542802606440724,
          0.03773336012731,
          0.07008316148037778,
          0.057026552754011736,
          0.07353929353338125,
          0.0445275841388707,
          0.0492580581912625,
          0.08676985746247565,
          0.08385200686033473,
          0.08558712441451441,
          0.08435840105645534,
          0.08247371944759158,
          0.0690461145446757,
          0.04317264101902191,
          0.1158742758770336,
          0.06796060946282942,
          0.03753242202881322,
          0.09676971499692104,
          0.036909105413054415,
          0.08937834866225376,
          0.07120232465699813,
          0.09959228992965603,
          0.046328680773808396,
          0.06752440556178947,
          0.036476510147543495,
          0.09587891691465952,
          0.04440039386909329,
          0.07848239663601514,
          0.030666644698080843,
          0.04144897005610937,
          0.09106261198693956,
          0.09096511730349681,
          0.04283677126465069,
          0.04567046374235235,
          0.044158831596939084,
          0.03981399204017745,
          0.07823353997923278,
          0.06681910874562338,
          0.05284553725002071,
          0.03947375307104806,
          0.06649164689964962,
          0.06600708088184196,
          0.038656236098964826,
          0.06739289074468173,
          0.039945239905277,
          0.08160663702116894,
          0.04393097859706211,
          0.07529955588371608,
          0.06048615620500992,
          0.06841711915430455,
          0.0345036089468951,
          0.05582250938475183,
          0.043016799089038625,
          0.030168218489674794,
          0.04407521603306708,
          0.04562341843134217,
          0.07887502965697775,
          0.04161850132980642,
          0.06196018362380059,
          0.09312483606503948,
          0.06543687453367064,
          0.064196547434136,
          0.026041869105677292,
          0.03727586871957621,
          0.03972156881397619,
          0.04132309194038362,
          0.06197107371801513,
          0.041850880018012765,
          0.036997968974832006,
          0.03617831815764416,
          0.04023610923516235,
          0.04047755798176757,
          0.0655882110085385,
          0.09241932228568918,
          0.02470297793252899,
          0.0617007917323163,
          0.07306088644922677,
          0.050578751424828455,
          0.11589966052477348,
          0.032783882465601676,
          0.09449599209504857,
          0.034078404156171214,
          0.09159269147941597,
          0.09415345087963436,
          0.07042924869356446,
          0.04021932091094231,
          0.03725234976586819,
          0.03548295526723039,
          0.038067487145582085,
          0.059153074973052465,
          0.0379997705849366,
          0.07502158942414171,
          0.03335410415117507,
          0.0894340718272573,
          0.03822987135753143,
          0.07045730046720872,
          0.035290032769239726,
          0.10327299969968123,
          0.07243552700250948,
          0.0378058580137738,
          0.09663721366547885,
          0.027460860049845357,
          0.03801804796196551,
          0.021783964751760126,
          0.036318700793431274,
          0.10674738725842801,
          0.02922064969577414,
          0.03742032813334446,
          0.03731329648502552,
          0.09150209520235993,
          0.03888336337852302,
          0.04654703643122454,
          0.033676554411076906,
          0.09028348111837446,
          0.022055294799439434,
          0.08159949505434888,
          0.0335664497334209,
          0.07349578293425442,
          0.0813049108083639,
          0.07948918904017273,
          0.022001811530564064,
          0.1082254439953454,
          0.08641161025914193,
          0.10123371054665214,
          0.044702953007796746,
          0.0675809569805031,
          0.0847996957865209,
          0.024006023968808632,
          0.06971326616027428,
          0.07379095539073065,
          0.08425366516491685,
          0.08855599256575208,
          0.033285898442100836,
          0.10099607352507341,
          0.10840329051809809,
          0.0461001776202038,
          0.05856806955517288,
          0.023556427416295173,
          0.06811434789154389,
          0.06433205113157343,
          0.08312404989452092,
          0.04818464481949254,
          0.08457964596977019,
          0.05715138736232254,
          0.020841240710002217,
          0.0954545519992693,
          0.08417958102475583,
          0.08091498996747307,
          0.08406454217999478,
          0.030591968161330505,
          0.03101601982743128,
          0.07300063985810111,
          0.02906385493392708,
          0.03292658498739927,
          0.04549758606921341,
          0.021386997309312167,
          0.06196207007322025,
          0.02008918047757749,
          0.09324473969341401,
          0.0710200075071279,
          0.05318684078465994,
          0.029954424413767267,
          0.0725110565274214,
          0.09466314308553075,
          0.08380683320352861,
          0.029414796607327057,
          0.05491247721436983,
          0.04883233963980501,
          0.079109664454183,
          0.02830760907665204,
          0.06915022902245997,
          0.05578993672760959,
          0.026295006060721444,
          0.05966650468155179,
          0.028857950475945585,
          0.08381153614058384,
          0.04155408317743277,
          0.02793129126187476,
          0.09555943042904186,
          0.033551932164850855,
          0.04365305374777475,
          0.03867107791001963,
          0.03278389998378571,
          0.046495782239417124,
          0.028126505406401076,
          0.027617667277759748,
          0.02861960791428106,
          0.032337620417758395,
          0.07757053420939683,
          0.050388529291063036,
          0.02615165422645308,
          0.038454297560557495,
          0.02886436019492465,
          0.061365247188829186,
          0.05022036688576475,
          0.046946834773548926,
          0.07133962069915685,
          0.09008694934701089,
          0.031361414408472225,
          0.05567368946319583,
          0.06886104040030903,
          0.04551530398724104,
          0.023122672859360035,
          0.06456411336298443,
          0.06679828993621711,
          0.04197627395239613,
          0.04532228903423644,
          0.10097318741779313,
          0.0663356899632471,
          0.07736209918388563,
          0.10170025617544294,
          0.0873902083798844,
          0.06571313929035244,
          0.029482037264131154,
          0.051266339650679414,
          0.07213946437580449,
          0.05540315718229485,
          0.03015766544583947,
          0.02797611061720696,
          0.04365753831881786,
          0.03898901245220796,
          0.08660991102223457,
          0.06067528143530792,
          0.03817006047621277,
          0.03655879944202322,
          0.096929373601144,
          0.04914782844234636,
          0.08652723929555654,
          0.037292286656148574,
          0.04471905352684189,
          0.029478201668858898,
          0.0923732056647074,
          0.03742487920231546,
          0.04756449281044782,
          0.033130072135987405,
          0.07361134845057286,
          0.04995355360892782,
          0.06223983509796451,
          0.07277143303158277,
          0.09584310244679921,
          0.019861896798184543,
          0.09010447812623816,
          0.05938191055072317,
          0.048507146875489314,
          0.027076052590685275,
          0.09054939172954816,
          0.0773867823740813,
          0.06910030573450875,
          0.07972978024120884,
          0.08444862134766776,
          0.029273045422956064,
          0.027607986155122506,
          0.027330858604258684,
          0.08857895132573436,
          0.026893969775901725,
          0.08685055536148581,
          0.022229351518103898,
          0.018857510330636287,
          0.041409213580764256,
          0.030344363173779292,
          0.04623877238306334,
          0.1083166398961253,
          0.04091678000655521,
          0.09587756814517923,
          0.07587575868463504,
          0.026818402896043207,
          0.02477183946972552,
          0.082621530802554,
          0.033245717408101456,
          0.03254269587768479,
          0.08383993801716251,
          0.025777302396059215,
          0.07077995842959695,
          0.0472586161737538,
          0.10568269663663926,
          0.0680482796924022,
          0.08201414583384672,
          0.07511495738869219,
          0.08993633154707313,
          0.019790548061919305,
          0.09027590480143098,
          0.02076799732006084,
          0.07143411282659218,
          0.08871597328474956,
          0.028545422649856322,
          0.04131630599108511,
          0.06918946232721673,
          0.06140083345521941,
          0.09401319195739787,
          0.02849273265964227,
          0.036961766374475916,
          0.021482487869334807,
          0.020884110250255248,
          0.05559924514772665,
          0.027443563617636377,
          0.026405011152760702,
          0.01848911171008673,
          0.026222688764044245,
          0.01602557706043602,
          0.06007817087201587,
          0.09298780734521368,
          0.03629727672039771,
          0.08703928583455799,
          0.09553979459948544,
          0.08994480167709411,
          0.01597407884491921,
          0.05667482231549128,
          0.03918515390050182,
          0.08987184143620991,
          0.03668660159501778,
          0.08811688599324384,
          0.09350220238300794,
          0.09033953693214102,
          0.09020339368466969,
          0.04346687668193873,
          0.02722055357251155,
          0.08677586423880304,
          0.06399358431655428,
          0.08641483074966816,
          0.04229726622793586,
          0.10075864524798644,
          0.023046743567253985,
          0.03882025586605523,
          0.10425331995124971,
          0.026024505969082838,
          0.0288342207906981,
          0.04095639813865304,
          0.020731055822406502,
          0.07190831006528421,
          0.04724098865101509,
          0.061204631904445826,
          0.06355062797038728,
          0.033787984508112406,
          0.046888210341100134,
          0.05546150943120408,
          0.0701815537945553,
          0.024460096523201316,
          0.024382465942903508,
          0.055551102728902506,
          0.10475481488427922,
          0.048502359808617,
          0.025780317542730448,
          0.03571660055824182,
          0.020421521269714762,
          0.05224545061014213,
          0.03249944833615822,
          0.09838870380082257,
          0.031037616588331693,
          0.03020388114199233,
          0.025698743198769164,
          0.019637136710290524,
          0.09230810378471817,
          0.07484214746110289,
          0.08970560247886789,
          0.055047870817293024,
          0.05424201830577032,
          0.06202575785466042,
          0.06317645207412151,
          0.08296673207934704,
          0.03220040749235277,
          0.03654466033632763,
          0.09114394197306451,
          0.08130369461371859,
          0.04688243456960675,
          0.04872434931744396,
          0.02821874326514741,
          0.018329334625522543,
          0.022822703887650904,
          0.03650844073660591,
          0.03276258329480801,
          0.036984594487913316,
          0.06740337025062129,
          0.03895542217879079,
          0.01939882588936623,
          0.020130979081190152,
          0.044793340365673284,
          0.09984905604528559,
          0.05930853259790142,
          0.043337965705405615,
          0.06979990031878072,
          0.020630713059300254,
          0.038433113308483736,
          0.05083298164572054,
          0.0795627379037504,
          0.09147137105419727,
          0.02569652203011907,
          0.0609792793744471,
          0.07581462325926867,
          0.04984477839911758,
          0.02779927042388516,
          0.07095595057005392,
          0.05614019417831934,
          0.056173935189589214,
          0.03870506989944194,
          0.02983642991765492,
          0.02632205299679798,
          0.040931906467906405,
          0.029958961138633212,
          0.04892608771062287,
          0.030466619029543073,
          0.052497932453887806,
          0.05909174202529679,
          0.08909772173197997,
          0.02485060383786203,
          0.01940187603508911,
          0.03650386892198434,
          0.0751285196448186,
          0.03091943420321656,
          0.03304234890110316,
          0.06831499691187876,
          0.07993498814088781,
          0.04301406268526756,
          0.08848652785730865,
          0.09887850890506436,
          0.05986176372620546,
          0.06400149106302576,
          0.0382440948483333,
          0.07216057683961603,
          0.06581409891863452,
          0.08183648387826664,
          0.03209124196941179,
          0.06818771765761131,
          0.036827572890214655,
          0.02125996202386402,
          0.027294133763389152,
          0.02950947791338438,
          0.04794674582889278,
          0.024300986535263785,
          0.0307805063851586,
          0.0238124817000334,
          0.029789212344945692
         ],
         "y": [
          0.05345419528125562,
          0.05789841051958261,
          0.06639234104755093,
          0.05330476301489632,
          0.045283669250872044,
          0.05889377449456901,
          0.04646844192756823,
          0.045874214163885964,
          0.054624605652336025,
          0.06421778882398389,
          0.06850954836086603,
          0.05823645535424657,
          0.05552077299601698,
          0.05971964300784695,
          0.045835260027800265,
          0.04894305739251892,
          0.06969646636707405,
          0.04994373807041528,
          0.05261797339046465,
          0.0480117894371734,
          0.049830558304197824,
          0.060966106621927585,
          0.05384714021071277,
          0.04121049190068228,
          0.06060459396379987,
          0.04621054609277143,
          0.06455960589081311,
          0.06555435414237586,
          0.06087645182205065,
          0.054499543830571075,
          0.0469025573043909,
          0.06115783870920817,
          0.06119607957766024,
          0.06394879925365525,
          0.04927289669509877,
          0.06537590481599342,
          0.061379919758391084,
          0.06974917307940784,
          0.05876983276391097,
          0.05430122526160733,
          0.036890311938291766,
          0.055752225894101955,
          0.030000559493889967,
          0.06196145030877278,
          0.04434040679894621,
          0.04746367883950006,
          0.05745627576635422,
          0.07208492950186227,
          0.04476474790547154,
          0.07031924945020182,
          0.06572046998618992,
          0.04965591784230191,
          0.0729118089036242,
          0.05517040383807887,
          0.05747349919142322,
          0.05340678111134503,
          0.06150398080666227,
          0.06384593791365258,
          0.0525114962501269,
          0.06205919014729223,
          0.07108476393015638,
          0.03367282040718107,
          0.057751312286552524,
          0.04658909349600058,
          0.05985544447556991,
          0.06253869854922048,
          0.0681731360205926,
          0.06757701357141463,
          0.06749779676583724,
          0.07447760148211467,
          0.06241576897081512,
          0.04236660423196356,
          0.05937104292316443,
          0.07039331406830325,
          0.03535582709973732,
          0.06279260757592836,
          0.06397288340362275,
          0.06321824366744638,
          0.07156585729163996,
          0.06360288589079148,
          0.07260697476004653,
          0.061526429415437955,
          0.053855795959429506,
          0.06183793153948072,
          0.037443894383881876,
          0.06591880247785142,
          0.06056754813319884,
          0.066109271986612,
          0.05054029005752465,
          0.06148265182770121,
          0.07231859113984358,
          0.07214097302709266,
          0.07302150095391333,
          0.07465629046358681,
          0.071024817034438,
          0.06376051134124884,
          0.04868802187542425,
          0.07711146431236948,
          0.0640415901735865,
          0.03784863032078249,
          0.07532217026474987,
          0.036682168202978045,
          0.07477019897995744,
          0.06901350686035253,
          0.07618001019239212,
          0.05703111986991342,
          0.06826641192435959,
          0.03908026468587951,
          0.07833802631899225,
          0.05205154383515064,
          0.07041231017544218,
          0.04189775249601762,
          0.04442055978812487,
          0.07488020294175593,
          0.07483355771876467,
          0.04790099477942773,
          0.05443953096977279,
          0.049101452025117356,
          0.04327609348285233,
          0.06926966541394965,
          0.06525771406732622,
          0.061862015692177835,
          0.04417956422160788,
          0.06461106102387405,
          0.06586999939277224,
          0.04354010364544638,
          0.06718429246514208,
          0.045748490243612494,
          0.07332697536790253,
          0.04987309064000906,
          0.0705686808594028,
          0.06230592972026576,
          0.06840619892337602,
          0.04305495865235046,
          0.06225766006153485,
          0.0511306636746613,
          0.030880694038901858,
          0.054869614333884986,
          0.05661544138216415,
          0.07371294599489901,
          0.050013277973592306,
          0.06305215787601696,
          0.07553145796063493,
          0.06504155343238555,
          0.06593512859328107,
          0.032461313045301,
          0.0447902927969301,
          0.045585747680631526,
          0.051278852945339515,
          0.06976756961383504,
          0.05702922271440103,
          0.044318249011312885,
          0.043455683855212444,
          0.047379506683737575,
          0.04900184625719331,
          0.0699275813397767,
          0.07514385395648437,
          0.025259953654447193,
          0.062491368810569686,
          0.07127139196269357,
          0.06476491949577311,
          0.08036212985636446,
          0.04220160353056684,
          0.07638315600753208,
          0.042665177224046676,
          0.07522676239929277,
          0.07670112862639113,
          0.0703761902201826,
          0.048349146993054856,
          0.045139480367310775,
          0.04383632044306144,
          0.04682799614501839,
          0.06744791703983284,
          0.04613709185761038,
          0.07214985148190181,
          0.04357274276312277,
          0.07743634711360663,
          0.05189346174693658,
          0.07077775653285504,
          0.04632208102185216,
          0.07955318742244377,
          0.07261244725715207,
          0.047554536634166145,
          0.07979067598245919,
          0.03455797586044118,
          0.050755306201070646,
          0.025455604167686562,
          0.04646488090782213,
          0.08094661709541628,
          0.0383925871792556,
          0.047035972612960865,
          0.04650423734624118,
          0.07764297763589119,
          0.05482369357432333,
          0.0593986456681815,
          0.053197996679507635,
          0.08014284594279068,
          0.0285664973883625,
          0.07489965758912559,
          0.046401422740756974,
          0.07368948176017177,
          0.07457917076323899,
          0.07564284035074918,
          0.031001098002298916,
          0.08129932301265387,
          0.07718502771885882,
          0.08372608056933552,
          0.05747635840577095,
          0.0701565680107839,
          0.07567888417754332,
          0.03507490579440931,
          0.07049620888320296,
          0.07500914183717176,
          0.07587526064333215,
          0.07814190000516591,
          0.046201603370998455,
          0.08392672718723405,
          0.0840005123077537,
          0.058156249481751986,
          0.0662161203138249,
          0.03310406622035613,
          0.07020734278634734,
          0.07010543492392377,
          0.07573187149042006,
          0.05945119007160806,
          0.07617880434229166,
          0.06530582189499594,
          0.02486411755487159,
          0.0815705322176774,
          0.07762453736757113,
          0.07720146867024116,
          0.07723638024141348,
          0.04082756131911563,
          0.04315474313898716,
          0.07373489995971917,
          0.03956052022535449,
          0.04417125311975771,
          0.05748263389678655,
          0.030467042893754237,
          0.06789882961289488,
          0.021879091058734545,
          0.08142436199154275,
          0.07204955183330257,
          0.06478038837458264,
          0.041777853588664496,
          0.07348402416324319,
          0.08153277901131616,
          0.07760707010637083,
          0.04265311442324958,
          0.06493901403237767,
          0.05992754790534858,
          0.07614546027275793,
          0.03521094152742081,
          0.07109035128568995,
          0.06629771851740907,
          0.03675668354566704,
          0.06765158311346084,
          0.03738906350909623,
          0.07804333923884904,
          0.05727572471024782,
          0.03698665468070058,
          0.08194008221456506,
          0.050843416394266816,
          0.05833631851652117,
          0.05350994049093568,
          0.04540022973386707,
          0.05889054854407866,
          0.03818052748049357,
          0.03965396132749788,
          0.04138750634695372,
          0.044159474121267236,
          0.07702947226952879,
          0.0630621385568437,
          0.036217266154720706,
          0.055200046646526515,
          0.0433230396295758,
          0.06807057029879678,
          0.06173454615314696,
          0.060972383419659326,
          0.07205479196374277,
          0.0793407371155336,
          0.04897691080793045,
          0.06758454186303353,
          0.0702367586073908,
          0.05941886698586954,
          0.03261191205771262,
          0.07050656990897858,
          0.07261739618455232,
          0.05779525249724382,
          0.06045513488307968,
          0.08456241803135643,
          0.0707726190377246,
          0.07565243761288697,
          0.08485833017821093,
          0.07837293236963437,
          0.071600562971728,
          0.043859316403820986,
          0.06493392459890787,
          0.0736627263222904,
          0.065400793746093,
          0.044417360918058944,
          0.039845719562488294,
          0.06048961430963132,
          0.056710118243536944,
          0.0784202210884841,
          0.0685349329096696,
          0.054589085400824786,
          0.05327850020278919,
          0.08470711444711701,
          0.0645161363618389,
          0.07866308320585948,
          0.05398905923289235,
          0.06155727189180192,
          0.044398238243361664,
          0.08059395331355837,
          0.05498302640417112,
          0.06224662284579798,
          0.049856697373975654,
          0.07385342918590686,
          0.06607386003289908,
          0.07031351260659177,
          0.07537884649090888,
          0.08221045014946614,
          0.025371738932665176,
          0.08064021709591007,
          0.06912617203241431,
          0.06245635154716203,
          0.039245564595436655,
          0.08114835698610513,
          0.07667728790985645,
          0.07284021393411343,
          0.07769521497580135,
          0.07872752794320248,
          0.045286167147139816,
          0.04030524895001309,
          0.039324045331291906,
          0.07905118636669643,
          0.04035140933485189,
          0.07892641275499364,
          0.03525285121648187,
          0.02396573498289148,
          0.05952307546841267,
          0.045890781753053875,
          0.06233566044155899,
          0.08537517191822767,
          0.05772867456380991,
          0.08262449031479785,
          0.07808956492749461,
          0.03738168906185301,
          0.0359333983866012,
          0.07830739593486237,
          0.05100584767527556,
          0.049351303711683205,
          0.07907674381164193,
          0.036399400632644026,
          0.07303982324402941,
          0.06268281226489862,
          0.08633951415939388,
          0.07282606495455743,
          0.0791895955998167,
          0.07558262575982413,
          0.07992266247127847,
          0.024310603055979423,
          0.08069755771557642,
          0.026615760973007076,
          0.07367950995786968,
          0.07923497657913228,
          0.0408566653838822,
          0.05825619320295074,
          0.07363915946584458,
          0.06974494638802384,
          0.08275124371404739,
          0.04465864462410021,
          0.05339987015219164,
          0.031801879464858906,
          0.03119267687978732,
          0.06645407391210523,
          0.04343067774703036,
          0.04195479217989521,
          0.024572401989741727,
          0.03889265830710929,
          0.02285100760527963,
          0.06926975002053157,
          0.08259624180324115,
          0.054149485191674576,
          0.07949524535069263,
          0.08275386018117231,
          0.08004336388385491,
          0.02371451631508458,
          0.0693737568687144,
          0.05900517702170341,
          0.0800933737312742,
          0.05558887193961361,
          0.07954621832950928,
          0.08365120118305736,
          0.08193017785801451,
          0.08119912760779607,
          0.05962001930925789,
          0.04286530732808344,
          0.08023710702707557,
          0.07211135479104111,
          0.07943302543259453,
          0.059584344339511125,
          0.0847120815320956,
          0.035669122453634156,
          0.055891015155370996,
          0.08519097953966825,
          0.03645247141603865,
          0.04536918547731625,
          0.059326654878143106,
          0.027630443098814215,
          0.07440939683042756,
          0.06261503796865399,
          0.07035292868304216,
          0.07091570211534375,
          0.05328153700237126,
          0.06283158571276205,
          0.06624327140193641,
          0.07394112834457382,
          0.03894919690239658,
          0.036358300855010295,
          0.06661472671901784,
          0.087423394078945,
          0.06283945194503845,
          0.04078327110184151,
          0.05348681868567874,
          0.025948043349697983,
          0.06659561579992081,
          0.05014632850513575,
          0.08507483410303879,
          0.04785662796149918,
          0.046452141730100996,
          0.039087027577631814,
          0.02487461819110312,
          0.08194876459577485,
          0.076201418898404,
          0.08132554047137215,
          0.06660754298959992,
          0.06683180945613436,
          0.07085620037147015,
          0.07179063714846629,
          0.0806616988478652,
          0.0497364303744683,
          0.05434366553223312,
          0.08265275146937617,
          0.07834147250440414,
          0.06253937481147916,
          0.06330952872966472,
          0.04436679816309923,
          0.024169567316378177,
          0.036310086830610655,
          0.05452265050133493,
          0.051115890929158296,
          0.055766190167991204,
          0.07285314054297637,
          0.0585554629732466,
          0.025721347088833432,
          0.030903336332244142,
          0.06265455474849865,
          0.08579619075973394,
          0.06951968975920621,
          0.06058033976821584,
          0.07398270774653043,
          0.0316459664198008,
          0.05600235430257371,
          0.06640792982310191,
          0.07809522151915396,
          0.082979937937368,
          0.04075807152120363,
          0.06956651021956323,
          0.07671087159479283,
          0.0647570293325807,
          0.04364827638499594,
          0.07478227722713664,
          0.06788781001061167,
          0.06815822247496348,
          0.057353825258732755,
          0.046219258041228076,
          0.04294303227593416,
          0.059097418481774563,
          0.04626759754564999,
          0.06363939371186987,
          0.04690992591719083,
          0.06737688420215898,
          0.0695287233793272,
          0.08099231847284492,
          0.04034094755281602,
          0.027712363087430816,
          0.054581864230719264,
          0.07652021605865326,
          0.048659985503391325,
          0.05159970558230676,
          0.07374896081035504,
          0.07885983162894987,
          0.06167640174040011,
          0.08204093613882363,
          0.08521843404529893,
          0.06973404234856025,
          0.07212963119157693,
          0.057726949094777526,
          0.07499896483109432,
          0.07242350654965977,
          0.07893470568775943,
          0.04973835899116721,
          0.07330243397146227,
          0.05568272874313119,
          0.032000084707618934,
          0.044973731929637446,
          0.04545224221865112,
          0.06285978571566574,
          0.03640198818050761,
          0.048298305694440095,
          0.03696194561414059,
          0.04786544427582542
         ]
        },
        {
         "marker": {
          "color": "green",
          "size": 10
         },
         "mode": "markers",
         "text": [
          "Portfolio with highest Sharpe ratio (['corporate bonds' 'cash' 'listed foreign public equity'\n 'fixed term and savings deposit' 'listed domestic public equity'\n 'state bonds' 'buyout' 'venture' 'public investment funds'\n 'other equity instruments'], [0.16 0.13 0.01 0.15 0.01 0.25 0.27 0.01 0.01 0.  ])"
         ],
         "type": "scatter",
         "x": [
          0.033676554411076906
         ],
         "y": [
          0.053197996679507635
         ]
        },
        {
         "marker": {
          "color": "red",
          "size": 10
         },
         "mode": "markers",
         "text": [
          "Minimum variance portfolio (['listed domestic public equity' 'venture' 'other equity instruments'\n 'buyout' 'corporate bonds' 'listed foreign public equity'\n 'fixed term and savings deposit' 'public investment funds' 'state bonds'\n 'cash'], [0.02 0.01 0.   0.07 0.09 0.   0.3  0.   0.2  0.31])"
         ],
         "type": "scatter",
         "x": [
          0.01597407884491921
         ],
         "y": [
          0.02371451631508458
         ]
        },
        {
         "marker": {
          "color": "purple",
          "size": 10
         },
         "mode": "markers",
         "text": [
          "Retail Investor Portfolio (['listed foreign public equity' 'other equity instruments' 'state bonds'\n 'corporate bonds' 'listed domestic public equity'\n 'fixed term and savings deposit' 'public investment funds' 'cash'], [0.05 0.08 0.01 0.01 0.06 0.17 0.19 0.43])"
         ],
         "type": "scatter",
         "x": [
          0.07081947729221412
         ],
         "y": [
          0.02936065570237022
         ]
        },
        {
         "line": {
          "color": "black",
          "dash": "dash",
          "width": 2
         },
         "name": "Efficient Frontier",
         "type": "scatter",
         "x": [
          0,
          0.0011707036416643785,
          0.002341407283328757,
          0.0035121109249931356,
          0.004682814566657514,
          0.005853518208321892,
          0.007024221849986271,
          0.00819492549165065,
          0.009365629133315028,
          0.010536332774979406,
          0.011707036416643784,
          0.012877740058308162,
          0.014048443699972542,
          0.01521914734163692,
          0.0163898509833013,
          0.017560554624965675,
          0.018731258266630055,
          0.019901961908294435,
          0.021072665549958812,
          0.022243369191623192,
          0.02341407283328757,
          0.02458477647495195,
          0.025755480116616325,
          0.026926183758280705,
          0.028096887399945085,
          0.02926759104160946,
          0.03043829468327384,
          0.03160899832493822,
          0.0327797019666026,
          0.033950405608266974,
          0.03512110924993135,
          0.036291812891595734,
          0.03746251653326011,
          0.03863322017492449,
          0.03980392381658887,
          0.04097462745825325,
          0.042145331099917624,
          0.043316034741582,
          0.044486738383246384,
          0.04565744202491076,
          0.04682814566657514,
          0.04799884930823952,
          0.0491695529499039,
          0.05034025659156827,
          0.05151096023323265,
          0.05268166387489703,
          0.05385236751656141,
          0.055023071158225786,
          0.05619377479989017,
          0.057364478441554546,
          0.05853518208321892,
          0.0597058857248833,
          0.06087658936654768,
          0.06204729300821206,
          0.06321799664987644,
          0.06438870029154081,
          0.0655594039332052,
          0.06673010757486958,
          0.06790081121653395,
          0.06907151485819833,
          0.0702422184998627,
          0.07141292214152709,
          0.07258362578319147,
          0.07375432942485584,
          0.07492503306652022,
          0.0760957367081846,
          0.07726644034984897,
          0.07843714399151336,
          0.07960784763317774,
          0.08077855127484211,
          0.0819492549165065,
          0.08311995855817086,
          0.08429066219983525,
          0.08546136584149963,
          0.086632069483164,
          0.08780277312482838,
          0.08897347676649277,
          0.09014418040815714,
          0.09131488404982152,
          0.0924855876914859,
          0.09365629133315027,
          0.09482699497481466,
          0.09599769861647904,
          0.09716840225814341,
          0.0983391058998078,
          0.09950980954147216,
          0.10068051318313655,
          0.10185121682480093,
          0.1030219204664653,
          0.10419262410812968,
          0.10536332774979407,
          0.10653403139145844,
          0.10770473503312282,
          0.1088754386747872,
          0.11004614231645157,
          0.11121684595811596,
          0.11238754959978034,
          0.11355825324144471,
          0.11472895688310909,
          0.11589966052477348
         ],
         "y": [
          0.016,
          0.01729312012279366,
          0.018586240245587315,
          0.019879360368380974,
          0.02117248049117463,
          0.022465600613968288,
          0.023758720736761944,
          0.0250518408595556,
          0.026344960982349258,
          0.027638081105142917,
          0.028931201227936573,
          0.030224321350730228,
          0.03151744147352389,
          0.032810561596317546,
          0.0341036817191112,
          0.03539680184190486,
          0.036689921964698516,
          0.037983042087492175,
          0.039276162210285834,
          0.04056928233307949,
          0.041862402455873145,
          0.043155522578666804,
          0.044448642701460456,
          0.045741762824254115,
          0.047034882947047774,
          0.04832800306984143,
          0.04962112319263509,
          0.05091424331542875,
          0.0522073634382224,
          0.05350048356101606,
          0.05479360368380971,
          0.05608672380660338,
          0.05737984392939703,
          0.05867296405219069,
          0.05996608417498435,
          0.06125920429777801,
          0.06255232442057165,
          0.06384544454336533,
          0.06513856466615897,
          0.06643168478895264,
          0.06772480491174629,
          0.06901792503453996,
          0.07031104515733361,
          0.07160416528012725,
          0.07289728540292092,
          0.07419040552571457,
          0.07548352564850824,
          0.07677664577130189,
          0.07806976589409556,
          0.0793628860168892,
          0.08065600613968286,
          0.08194912626247652,
          0.08324224638527018,
          0.08453536650806384,
          0.0858284866308575,
          0.08712160675365115,
          0.0884147268764448,
          0.08970784699923848,
          0.09100096712203212,
          0.09229408724482578,
          0.09358720736761943,
          0.09488032749041309,
          0.09617344761320676,
          0.0974665677360004,
          0.09875968785879406,
          0.10005280798158772,
          0.10134592810438138,
          0.10263904822717504,
          0.1039321683499687,
          0.10522528847276234,
          0.10651840859555602,
          0.10781152871834966,
          0.10910464884114332,
          0.11039776896393698,
          0.11169088908673064,
          0.1129840092095243,
          0.11427712933231796,
          0.1155702494551116,
          0.11686336957790527,
          0.11815648970069893,
          0.11944960982349258,
          0.12074272994628624,
          0.12203585006907991,
          0.12332897019187355,
          0.12462209031466721,
          0.12591521043746084,
          0.12720833056025452,
          0.1285014506830482,
          0.12979457080584184,
          0.13108769092863548,
          0.13238081105142915,
          0.13367393117422283,
          0.13496705129701647,
          0.13626017141981012,
          0.13755329154260376,
          0.13884641166539746,
          0.1401395317881911,
          0.14143265191098475,
          0.1427257720337784,
          0.1440188921565721
         ]
        }
       ],
       "layout": {
        "height": 700,
        "showlegend": false,
        "template": {
         "data": {
          "bar": [
           {
            "error_x": {
             "color": "#2a3f5f"
            },
            "error_y": {
             "color": "#2a3f5f"
            },
            "marker": {
             "line": {
              "color": "white",
              "width": 0.5
             },
             "pattern": {
              "fillmode": "overlay",
              "size": 10,
              "solidity": 0.2
             }
            },
            "type": "bar"
           }
          ],
          "barpolar": [
           {
            "marker": {
             "line": {
              "color": "white",
              "width": 0.5
             },
             "pattern": {
              "fillmode": "overlay",
              "size": 10,
              "solidity": 0.2
             }
            },
            "type": "barpolar"
           }
          ],
          "carpet": [
           {
            "aaxis": {
             "endlinecolor": "#2a3f5f",
             "gridcolor": "#C8D4E3",
             "linecolor": "#C8D4E3",
             "minorgridcolor": "#C8D4E3",
             "startlinecolor": "#2a3f5f"
            },
            "baxis": {
             "endlinecolor": "#2a3f5f",
             "gridcolor": "#C8D4E3",
             "linecolor": "#C8D4E3",
             "minorgridcolor": "#C8D4E3",
             "startlinecolor": "#2a3f5f"
            },
            "type": "carpet"
           }
          ],
          "choropleth": [
           {
            "colorbar": {
             "outlinewidth": 0,
             "ticks": ""
            },
            "type": "choropleth"
           }
          ],
          "contour": [
           {
            "colorbar": {
             "outlinewidth": 0,
             "ticks": ""
            },
            "colorscale": [
             [
              0,
              "#0d0887"
             ],
             [
              0.1111111111111111,
              "#46039f"
             ],
             [
              0.2222222222222222,
              "#7201a8"
             ],
             [
              0.3333333333333333,
              "#9c179e"
             ],
             [
              0.4444444444444444,
              "#bd3786"
             ],
             [
              0.5555555555555556,
              "#d8576b"
             ],
             [
              0.6666666666666666,
              "#ed7953"
             ],
             [
              0.7777777777777778,
              "#fb9f3a"
             ],
             [
              0.8888888888888888,
              "#fdca26"
             ],
             [
              1,
              "#f0f921"
             ]
            ],
            "type": "contour"
           }
          ],
          "contourcarpet": [
           {
            "colorbar": {
             "outlinewidth": 0,
             "ticks": ""
            },
            "type": "contourcarpet"
           }
          ],
          "heatmap": [
           {
            "colorbar": {
             "outlinewidth": 0,
             "ticks": ""
            },
            "colorscale": [
             [
              0,
              "#0d0887"
             ],
             [
              0.1111111111111111,
              "#46039f"
             ],
             [
              0.2222222222222222,
              "#7201a8"
             ],
             [
              0.3333333333333333,
              "#9c179e"
             ],
             [
              0.4444444444444444,
              "#bd3786"
             ],
             [
              0.5555555555555556,
              "#d8576b"
             ],
             [
              0.6666666666666666,
              "#ed7953"
             ],
             [
              0.7777777777777778,
              "#fb9f3a"
             ],
             [
              0.8888888888888888,
              "#fdca26"
             ],
             [
              1,
              "#f0f921"
             ]
            ],
            "type": "heatmap"
           }
          ],
          "heatmapgl": [
           {
            "colorbar": {
             "outlinewidth": 0,
             "ticks": ""
            },
            "colorscale": [
             [
              0,
              "#0d0887"
             ],
             [
              0.1111111111111111,
              "#46039f"
             ],
             [
              0.2222222222222222,
              "#7201a8"
             ],
             [
              0.3333333333333333,
              "#9c179e"
             ],
             [
              0.4444444444444444,
              "#bd3786"
             ],
             [
              0.5555555555555556,
              "#d8576b"
             ],
             [
              0.6666666666666666,
              "#ed7953"
             ],
             [
              0.7777777777777778,
              "#fb9f3a"
             ],
             [
              0.8888888888888888,
              "#fdca26"
             ],
             [
              1,
              "#f0f921"
             ]
            ],
            "type": "heatmapgl"
           }
          ],
          "histogram": [
           {
            "marker": {
             "pattern": {
              "fillmode": "overlay",
              "size": 10,
              "solidity": 0.2
             }
            },
            "type": "histogram"
           }
          ],
          "histogram2d": [
           {
            "colorbar": {
             "outlinewidth": 0,
             "ticks": ""
            },
            "colorscale": [
             [
              0,
              "#0d0887"
             ],
             [
              0.1111111111111111,
              "#46039f"
             ],
             [
              0.2222222222222222,
              "#7201a8"
             ],
             [
              0.3333333333333333,
              "#9c179e"
             ],
             [
              0.4444444444444444,
              "#bd3786"
             ],
             [
              0.5555555555555556,
              "#d8576b"
             ],
             [
              0.6666666666666666,
              "#ed7953"
             ],
             [
              0.7777777777777778,
              "#fb9f3a"
             ],
             [
              0.8888888888888888,
              "#fdca26"
             ],
             [
              1,
              "#f0f921"
             ]
            ],
            "type": "histogram2d"
           }
          ],
          "histogram2dcontour": [
           {
            "colorbar": {
             "outlinewidth": 0,
             "ticks": ""
            },
            "colorscale": [
             [
              0,
              "#0d0887"
             ],
             [
              0.1111111111111111,
              "#46039f"
             ],
             [
              0.2222222222222222,
              "#7201a8"
             ],
             [
              0.3333333333333333,
              "#9c179e"
             ],
             [
              0.4444444444444444,
              "#bd3786"
             ],
             [
              0.5555555555555556,
              "#d8576b"
             ],
             [
              0.6666666666666666,
              "#ed7953"
             ],
             [
              0.7777777777777778,
              "#fb9f3a"
             ],
             [
              0.8888888888888888,
              "#fdca26"
             ],
             [
              1,
              "#f0f921"
             ]
            ],
            "type": "histogram2dcontour"
           }
          ],
          "mesh3d": [
           {
            "colorbar": {
             "outlinewidth": 0,
             "ticks": ""
            },
            "type": "mesh3d"
           }
          ],
          "parcoords": [
           {
            "line": {
             "colorbar": {
              "outlinewidth": 0,
              "ticks": ""
             }
            },
            "type": "parcoords"
           }
          ],
          "pie": [
           {
            "automargin": true,
            "type": "pie"
           }
          ],
          "scatter": [
           {
            "fillpattern": {
             "fillmode": "overlay",
             "size": 10,
             "solidity": 0.2
            },
            "type": "scatter"
           }
          ],
          "scatter3d": [
           {
            "line": {
             "colorbar": {
              "outlinewidth": 0,
              "ticks": ""
             }
            },
            "marker": {
             "colorbar": {
              "outlinewidth": 0,
              "ticks": ""
             }
            },
            "type": "scatter3d"
           }
          ],
          "scattercarpet": [
           {
            "marker": {
             "colorbar": {
              "outlinewidth": 0,
              "ticks": ""
             }
            },
            "type": "scattercarpet"
           }
          ],
          "scattergeo": [
           {
            "marker": {
             "colorbar": {
              "outlinewidth": 0,
              "ticks": ""
             }
            },
            "type": "scattergeo"
           }
          ],
          "scattergl": [
           {
            "marker": {
             "colorbar": {
              "outlinewidth": 0,
              "ticks": ""
             }
            },
            "type": "scattergl"
           }
          ],
          "scattermapbox": [
           {
            "marker": {
             "colorbar": {
              "outlinewidth": 0,
              "ticks": ""
             }
            },
            "type": "scattermapbox"
           }
          ],
          "scatterpolar": [
           {
            "marker": {
             "colorbar": {
              "outlinewidth": 0,
              "ticks": ""
             }
            },
            "type": "scatterpolar"
           }
          ],
          "scatterpolargl": [
           {
            "marker": {
             "colorbar": {
              "outlinewidth": 0,
              "ticks": ""
             }
            },
            "type": "scatterpolargl"
           }
          ],
          "scatterternary": [
           {
            "marker": {
             "colorbar": {
              "outlinewidth": 0,
              "ticks": ""
             }
            },
            "type": "scatterternary"
           }
          ],
          "surface": [
           {
            "colorbar": {
             "outlinewidth": 0,
             "ticks": ""
            },
            "colorscale": [
             [
              0,
              "#0d0887"
             ],
             [
              0.1111111111111111,
              "#46039f"
             ],
             [
              0.2222222222222222,
              "#7201a8"
             ],
             [
              0.3333333333333333,
              "#9c179e"
             ],
             [
              0.4444444444444444,
              "#bd3786"
             ],
             [
              0.5555555555555556,
              "#d8576b"
             ],
             [
              0.6666666666666666,
              "#ed7953"
             ],
             [
              0.7777777777777778,
              "#fb9f3a"
             ],
             [
              0.8888888888888888,
              "#fdca26"
             ],
             [
              1,
              "#f0f921"
             ]
            ],
            "type": "surface"
           }
          ],
          "table": [
           {
            "cells": {
             "fill": {
              "color": "#EBF0F8"
             },
             "line": {
              "color": "white"
             }
            },
            "header": {
             "fill": {
              "color": "#C8D4E3"
             },
             "line": {
              "color": "white"
             }
            },
            "type": "table"
           }
          ]
         },
         "layout": {
          "annotationdefaults": {
           "arrowcolor": "#2a3f5f",
           "arrowhead": 0,
           "arrowwidth": 1
          },
          "autotypenumbers": "strict",
          "coloraxis": {
           "colorbar": {
            "outlinewidth": 0,
            "ticks": ""
           }
          },
          "colorscale": {
           "diverging": [
            [
             0,
             "#8e0152"
            ],
            [
             0.1,
             "#c51b7d"
            ],
            [
             0.2,
             "#de77ae"
            ],
            [
             0.3,
             "#f1b6da"
            ],
            [
             0.4,
             "#fde0ef"
            ],
            [
             0.5,
             "#f7f7f7"
            ],
            [
             0.6,
             "#e6f5d0"
            ],
            [
             0.7,
             "#b8e186"
            ],
            [
             0.8,
             "#7fbc41"
            ],
            [
             0.9,
             "#4d9221"
            ],
            [
             1,
             "#276419"
            ]
           ],
           "sequential": [
            [
             0,
             "#0d0887"
            ],
            [
             0.1111111111111111,
             "#46039f"
            ],
            [
             0.2222222222222222,
             "#7201a8"
            ],
            [
             0.3333333333333333,
             "#9c179e"
            ],
            [
             0.4444444444444444,
             "#bd3786"
            ],
            [
             0.5555555555555556,
             "#d8576b"
            ],
            [
             0.6666666666666666,
             "#ed7953"
            ],
            [
             0.7777777777777778,
             "#fb9f3a"
            ],
            [
             0.8888888888888888,
             "#fdca26"
            ],
            [
             1,
             "#f0f921"
            ]
           ],
           "sequentialminus": [
            [
             0,
             "#0d0887"
            ],
            [
             0.1111111111111111,
             "#46039f"
            ],
            [
             0.2222222222222222,
             "#7201a8"
            ],
            [
             0.3333333333333333,
             "#9c179e"
            ],
            [
             0.4444444444444444,
             "#bd3786"
            ],
            [
             0.5555555555555556,
             "#d8576b"
            ],
            [
             0.6666666666666666,
             "#ed7953"
            ],
            [
             0.7777777777777778,
             "#fb9f3a"
            ],
            [
             0.8888888888888888,
             "#fdca26"
            ],
            [
             1,
             "#f0f921"
            ]
           ]
          },
          "colorway": [
           "#636efa",
           "#EF553B",
           "#00cc96",
           "#ab63fa",
           "#FFA15A",
           "#19d3f3",
           "#FF6692",
           "#B6E880",
           "#FF97FF",
           "#FECB52"
          ],
          "font": {
           "color": "#2a3f5f"
          },
          "geo": {
           "bgcolor": "white",
           "lakecolor": "white",
           "landcolor": "white",
           "showlakes": true,
           "showland": true,
           "subunitcolor": "#C8D4E3"
          },
          "hoverlabel": {
           "align": "left"
          },
          "hovermode": "closest",
          "mapbox": {
           "style": "light"
          },
          "paper_bgcolor": "white",
          "plot_bgcolor": "white",
          "polar": {
           "angularaxis": {
            "gridcolor": "#EBF0F8",
            "linecolor": "#EBF0F8",
            "ticks": ""
           },
           "bgcolor": "white",
           "radialaxis": {
            "gridcolor": "#EBF0F8",
            "linecolor": "#EBF0F8",
            "ticks": ""
           }
          },
          "scene": {
           "xaxis": {
            "backgroundcolor": "white",
            "gridcolor": "#DFE8F3",
            "gridwidth": 2,
            "linecolor": "#EBF0F8",
            "showbackground": true,
            "ticks": "",
            "zerolinecolor": "#EBF0F8"
           },
           "yaxis": {
            "backgroundcolor": "white",
            "gridcolor": "#DFE8F3",
            "gridwidth": 2,
            "linecolor": "#EBF0F8",
            "showbackground": true,
            "ticks": "",
            "zerolinecolor": "#EBF0F8"
           },
           "zaxis": {
            "backgroundcolor": "white",
            "gridcolor": "#DFE8F3",
            "gridwidth": 2,
            "linecolor": "#EBF0F8",
            "showbackground": true,
            "ticks": "",
            "zerolinecolor": "#EBF0F8"
           }
          },
          "shapedefaults": {
           "line": {
            "color": "#2a3f5f"
           }
          },
          "ternary": {
           "aaxis": {
            "gridcolor": "#DFE8F3",
            "linecolor": "#A2B1C6",
            "ticks": ""
           },
           "baxis": {
            "gridcolor": "#DFE8F3",
            "linecolor": "#A2B1C6",
            "ticks": ""
           },
           "bgcolor": "white",
           "caxis": {
            "gridcolor": "#DFE8F3",
            "linecolor": "#A2B1C6",
            "ticks": ""
           }
          },
          "title": {
           "x": 0.05
          },
          "xaxis": {
           "automargin": true,
           "gridcolor": "#EBF0F8",
           "linecolor": "#EBF0F8",
           "ticks": "",
           "title": {
            "standoff": 15
           },
           "zerolinecolor": "#EBF0F8",
           "zerolinewidth": 2
          },
          "yaxis": {
           "automargin": true,
           "gridcolor": "#EBF0F8",
           "linecolor": "#EBF0F8",
           "ticks": "",
           "title": {
            "standoff": 15
           },
           "zerolinecolor": "#EBF0F8",
           "zerolinewidth": 2
          }
         }
        },
        "title": {
         "text": "Efficient Frontier of Restricted Portfolio"
        },
        "width": 1000,
        "xaxis": {
         "title": {
          "text": "Annualised Risk (Volatility)"
         }
        },
        "yaxis": {
         "title": {
          "text": "Annualised Return"
         }
        }
       }
      }
     },
     "metadata": {},
     "output_type": "display_data"
    },
    {
     "data": {
      "text/html": [
       "<div style='display: inline-block; vertical-align: top; margin-right: 20px;'><h3 style='font-family: Poppins; font-size: 130%;'>Max Sharpe</h3>Return: 5.32%, Std.: 3.37% <br><br><style type=\"text/css\">\n",
       "#T_73848 th {\n",
       "  text-align: center;\n",
       "  font-family: Poppins;\n",
       "}\n",
       "#T_73848 td {\n",
       "  text-align: center;\n",
       "  font-family: Poppins;\n",
       "}\n",
       "</style>\n",
       "<table id=\"T_73848\">\n",
       "  <thead>\n",
       "    <tr>\n",
       "      <th class=\"blank level0\" >&nbsp;</th>\n",
       "      <th id=\"T_73848_level0_col0\" class=\"col_heading level0 col0\" >Asset_classes</th>\n",
       "      <th id=\"T_73848_level0_col1\" class=\"col_heading level0 col1\" >Weights</th>\n",
       "    </tr>\n",
       "  </thead>\n",
       "  <tbody>\n",
       "    <tr>\n",
       "      <th id=\"T_73848_level0_row0\" class=\"row_heading level0 row0\" >0</th>\n",
       "      <td id=\"T_73848_row0_col0\" class=\"data row0 col0\" >buyout</td>\n",
       "      <td id=\"T_73848_row0_col1\" class=\"data row0 col1\" >27.27%</td>\n",
       "    </tr>\n",
       "    <tr>\n",
       "      <th id=\"T_73848_level0_row1\" class=\"row_heading level0 row1\" >1</th>\n",
       "      <td id=\"T_73848_row1_col0\" class=\"data row1 col0\" >state bonds</td>\n",
       "      <td id=\"T_73848_row1_col1\" class=\"data row1 col1\" >25.01%</td>\n",
       "    </tr>\n",
       "    <tr>\n",
       "      <th id=\"T_73848_level0_row2\" class=\"row_heading level0 row2\" >2</th>\n",
       "      <td id=\"T_73848_row2_col0\" class=\"data row2 col0\" >corporate bonds</td>\n",
       "      <td id=\"T_73848_row2_col1\" class=\"data row2 col1\" >16.15%</td>\n",
       "    </tr>\n",
       "    <tr>\n",
       "      <th id=\"T_73848_level0_row3\" class=\"row_heading level0 row3\" >3</th>\n",
       "      <td id=\"T_73848_row3_col0\" class=\"data row3 col0\" >fixed term and savings deposit</td>\n",
       "      <td id=\"T_73848_row3_col1\" class=\"data row3 col1\" >14.75%</td>\n",
       "    </tr>\n",
       "    <tr>\n",
       "      <th id=\"T_73848_level0_row4\" class=\"row_heading level0 row4\" >4</th>\n",
       "      <td id=\"T_73848_row4_col0\" class=\"data row4 col0\" >cash</td>\n",
       "      <td id=\"T_73848_row4_col1\" class=\"data row4 col1\" >13.06%</td>\n",
       "    </tr>\n",
       "    <tr>\n",
       "      <th id=\"T_73848_level0_row5\" class=\"row_heading level0 row5\" >5</th>\n",
       "      <td id=\"T_73848_row5_col0\" class=\"data row5 col0\" >listed foreign public equity</td>\n",
       "      <td id=\"T_73848_row5_col1\" class=\"data row5 col1\" >1.07%</td>\n",
       "    </tr>\n",
       "    <tr>\n",
       "      <th id=\"T_73848_level0_row6\" class=\"row_heading level0 row6\" >6</th>\n",
       "      <td id=\"T_73848_row6_col0\" class=\"data row6 col0\" >public investment funds</td>\n",
       "      <td id=\"T_73848_row6_col1\" class=\"data row6 col1\" >0.92%</td>\n",
       "    </tr>\n",
       "    <tr>\n",
       "      <th id=\"T_73848_level0_row7\" class=\"row_heading level0 row7\" >7</th>\n",
       "      <td id=\"T_73848_row7_col0\" class=\"data row7 col0\" >venture</td>\n",
       "      <td id=\"T_73848_row7_col1\" class=\"data row7 col1\" >0.7%</td>\n",
       "    </tr>\n",
       "    <tr>\n",
       "      <th id=\"T_73848_level0_row8\" class=\"row_heading level0 row8\" >8</th>\n",
       "      <td id=\"T_73848_row8_col0\" class=\"data row8 col0\" >listed domestic public equity</td>\n",
       "      <td id=\"T_73848_row8_col1\" class=\"data row8 col1\" >0.61%</td>\n",
       "    </tr>\n",
       "    <tr>\n",
       "      <th id=\"T_73848_level0_row9\" class=\"row_heading level0 row9\" >9</th>\n",
       "      <td id=\"T_73848_row9_col0\" class=\"data row9 col0\" >other equity instruments</td>\n",
       "      <td id=\"T_73848_row9_col1\" class=\"data row9 col1\" >0.47%</td>\n",
       "    </tr>\n",
       "  </tbody>\n",
       "</table>\n",
       "</div><div style='display: inline-block; vertical-align: top; margin-right: 20px;'><h3 style='font-family: Poppins; font-size: 130%;'>Min Variance</h3>Return: 2.37%, Std.: 1.6% <br><br><style type=\"text/css\">\n",
       "#T_ebdfe th {\n",
       "  text-align: center;\n",
       "  font-family: Poppins;\n",
       "}\n",
       "#T_ebdfe td {\n",
       "  text-align: center;\n",
       "  font-family: Poppins;\n",
       "}\n",
       "</style>\n",
       "<table id=\"T_ebdfe\">\n",
       "  <thead>\n",
       "    <tr>\n",
       "      <th class=\"blank level0\" >&nbsp;</th>\n",
       "      <th id=\"T_ebdfe_level0_col0\" class=\"col_heading level0 col0\" >Asset_classes</th>\n",
       "      <th id=\"T_ebdfe_level0_col1\" class=\"col_heading level0 col1\" >Weights</th>\n",
       "    </tr>\n",
       "  </thead>\n",
       "  <tbody>\n",
       "    <tr>\n",
       "      <th id=\"T_ebdfe_level0_row0\" class=\"row_heading level0 row0\" >0</th>\n",
       "      <td id=\"T_ebdfe_row0_col0\" class=\"data row0 col0\" >cash</td>\n",
       "      <td id=\"T_ebdfe_row0_col1\" class=\"data row0 col1\" >30.68%</td>\n",
       "    </tr>\n",
       "    <tr>\n",
       "      <th id=\"T_ebdfe_level0_row1\" class=\"row_heading level0 row1\" >1</th>\n",
       "      <td id=\"T_ebdfe_row1_col0\" class=\"data row1 col0\" >fixed term and savings deposit</td>\n",
       "      <td id=\"T_ebdfe_row1_col1\" class=\"data row1 col1\" >30.2%</td>\n",
       "    </tr>\n",
       "    <tr>\n",
       "      <th id=\"T_ebdfe_level0_row2\" class=\"row_heading level0 row2\" >2</th>\n",
       "      <td id=\"T_ebdfe_row2_col0\" class=\"data row2 col0\" >state bonds</td>\n",
       "      <td id=\"T_ebdfe_row2_col1\" class=\"data row2 col1\" >19.61%</td>\n",
       "    </tr>\n",
       "    <tr>\n",
       "      <th id=\"T_ebdfe_level0_row3\" class=\"row_heading level0 row3\" >3</th>\n",
       "      <td id=\"T_ebdfe_row3_col0\" class=\"data row3 col0\" >corporate bonds</td>\n",
       "      <td id=\"T_ebdfe_row3_col1\" class=\"data row3 col1\" >8.73%</td>\n",
       "    </tr>\n",
       "    <tr>\n",
       "      <th id=\"T_ebdfe_level0_row4\" class=\"row_heading level0 row4\" >4</th>\n",
       "      <td id=\"T_ebdfe_row4_col0\" class=\"data row4 col0\" >buyout</td>\n",
       "      <td id=\"T_ebdfe_row4_col1\" class=\"data row4 col1\" >6.68%</td>\n",
       "    </tr>\n",
       "    <tr>\n",
       "      <th id=\"T_ebdfe_level0_row5\" class=\"row_heading level0 row5\" >5</th>\n",
       "      <td id=\"T_ebdfe_row5_col0\" class=\"data row5 col0\" >listed domestic public equity</td>\n",
       "      <td id=\"T_ebdfe_row5_col1\" class=\"data row5 col1\" >2.06%</td>\n",
       "    </tr>\n",
       "    <tr>\n",
       "      <th id=\"T_ebdfe_level0_row6\" class=\"row_heading level0 row6\" >6</th>\n",
       "      <td id=\"T_ebdfe_row6_col0\" class=\"data row6 col0\" >venture</td>\n",
       "      <td id=\"T_ebdfe_row6_col1\" class=\"data row6 col1\" >1.4%</td>\n",
       "    </tr>\n",
       "    <tr>\n",
       "      <th id=\"T_ebdfe_level0_row7\" class=\"row_heading level0 row7\" >7</th>\n",
       "      <td id=\"T_ebdfe_row7_col0\" class=\"data row7 col0\" >public investment funds</td>\n",
       "      <td id=\"T_ebdfe_row7_col1\" class=\"data row7 col1\" >0.36%</td>\n",
       "    </tr>\n",
       "    <tr>\n",
       "      <th id=\"T_ebdfe_level0_row8\" class=\"row_heading level0 row8\" >8</th>\n",
       "      <td id=\"T_ebdfe_row8_col0\" class=\"data row8 col0\" >listed foreign public equity</td>\n",
       "      <td id=\"T_ebdfe_row8_col1\" class=\"data row8 col1\" >0.19%</td>\n",
       "    </tr>\n",
       "    <tr>\n",
       "      <th id=\"T_ebdfe_level0_row9\" class=\"row_heading level0 row9\" >9</th>\n",
       "      <td id=\"T_ebdfe_row9_col0\" class=\"data row9 col0\" >other equity instruments</td>\n",
       "      <td id=\"T_ebdfe_row9_col1\" class=\"data row9 col1\" >0.09%</td>\n",
       "    </tr>\n",
       "  </tbody>\n",
       "</table>\n",
       "</div><div style='display: inline-block; vertical-align: top; margin-right: 20px;'><h3 style='font-family: Poppins; font-size: 130%;'>Risk Matching Portfolio</h3>Return: 7.3%, Std.: 7.08% <br><br><style type=\"text/css\">\n",
       "#T_f9821 th {\n",
       "  text-align: center;\n",
       "  font-family: Poppins;\n",
       "}\n",
       "#T_f9821 td {\n",
       "  text-align: center;\n",
       "  font-family: Poppins;\n",
       "}\n",
       "</style>\n",
       "<table id=\"T_f9821\">\n",
       "  <thead>\n",
       "    <tr>\n",
       "      <th class=\"blank level0\" >&nbsp;</th>\n",
       "      <th id=\"T_f9821_level0_col0\" class=\"col_heading level0 col0\" >Asset_classes</th>\n",
       "      <th id=\"T_f9821_level0_col1\" class=\"col_heading level0 col1\" >Weights</th>\n",
       "    </tr>\n",
       "  </thead>\n",
       "  <tbody>\n",
       "    <tr>\n",
       "      <th id=\"T_f9821_level0_row0\" class=\"row_heading level0 row0\" >0</th>\n",
       "      <td id=\"T_f9821_row0_col0\" class=\"data row0 col0\" >buyout</td>\n",
       "      <td id=\"T_f9821_row0_col1\" class=\"data row0 col1\" >32.61%</td>\n",
       "    </tr>\n",
       "    <tr>\n",
       "      <th id=\"T_f9821_level0_row1\" class=\"row_heading level0 row1\" >1</th>\n",
       "      <td id=\"T_f9821_row1_col0\" class=\"data row1 col0\" >state bonds</td>\n",
       "      <td id=\"T_f9821_row1_col1\" class=\"data row1 col1\" >13.78%</td>\n",
       "    </tr>\n",
       "    <tr>\n",
       "      <th id=\"T_f9821_level0_row2\" class=\"row_heading level0 row2\" >2</th>\n",
       "      <td id=\"T_f9821_row2_col0\" class=\"data row2 col0\" >listed foreign public equity</td>\n",
       "      <td id=\"T_f9821_row2_col1\" class=\"data row2 col1\" >12.72%</td>\n",
       "    </tr>\n",
       "    <tr>\n",
       "      <th id=\"T_f9821_level0_row3\" class=\"row_heading level0 row3\" >3</th>\n",
       "      <td id=\"T_f9821_row3_col0\" class=\"data row3 col0\" >cash</td>\n",
       "      <td id=\"T_f9821_row3_col1\" class=\"data row3 col1\" >12.09%</td>\n",
       "    </tr>\n",
       "    <tr>\n",
       "      <th id=\"T_f9821_level0_row4\" class=\"row_heading level0 row4\" >4</th>\n",
       "      <td id=\"T_f9821_row4_col0\" class=\"data row4 col0\" >venture</td>\n",
       "      <td id=\"T_f9821_row4_col1\" class=\"data row4 col1\" >9.55%</td>\n",
       "    </tr>\n",
       "    <tr>\n",
       "      <th id=\"T_f9821_level0_row5\" class=\"row_heading level0 row5\" >5</th>\n",
       "      <td id=\"T_f9821_row5_col0\" class=\"data row5 col0\" >fixed term and savings deposit</td>\n",
       "      <td id=\"T_f9821_row5_col1\" class=\"data row5 col1\" >8.79%</td>\n",
       "    </tr>\n",
       "    <tr>\n",
       "      <th id=\"T_f9821_level0_row6\" class=\"row_heading level0 row6\" >6</th>\n",
       "      <td id=\"T_f9821_row6_col0\" class=\"data row6 col0\" >other equity instruments</td>\n",
       "      <td id=\"T_f9821_row6_col1\" class=\"data row6 col1\" >4.76%</td>\n",
       "    </tr>\n",
       "    <tr>\n",
       "      <th id=\"T_f9821_level0_row7\" class=\"row_heading level0 row7\" >7</th>\n",
       "      <td id=\"T_f9821_row7_col0\" class=\"data row7 col0\" >public investment funds</td>\n",
       "      <td id=\"T_f9821_row7_col1\" class=\"data row7 col1\" >3.49%</td>\n",
       "    </tr>\n",
       "    <tr>\n",
       "      <th id=\"T_f9821_level0_row8\" class=\"row_heading level0 row8\" >8</th>\n",
       "      <td id=\"T_f9821_row8_col0\" class=\"data row8 col0\" >listed domestic public equity</td>\n",
       "      <td id=\"T_f9821_row8_col1\" class=\"data row8 col1\" >1.97%</td>\n",
       "    </tr>\n",
       "    <tr>\n",
       "      <th id=\"T_f9821_level0_row9\" class=\"row_heading level0 row9\" >9</th>\n",
       "      <td id=\"T_f9821_row9_col0\" class=\"data row9 col0\" >corporate bonds</td>\n",
       "      <td id=\"T_f9821_row9_col1\" class=\"data row9 col1\" >0.24%</td>\n",
       "    </tr>\n",
       "  </tbody>\n",
       "</table>\n",
       "</div><div style='display: inline-block; vertical-align: top;'><h3 style='font-family: Poppins; font-size: 130%;'>Retail Portfolio</h3>Return: 2.94%, Std.: 7.08% <br><br><style type=\"text/css\">\n",
       "#T_91dc5 th {\n",
       "  text-align: center;\n",
       "  font-family: Poppins;\n",
       "}\n",
       "#T_91dc5 td {\n",
       "  text-align: center;\n",
       "  font-family: Poppins;\n",
       "}\n",
       "</style>\n",
       "<table id=\"T_91dc5\">\n",
       "  <thead>\n",
       "    <tr>\n",
       "      <th class=\"blank level0\" >&nbsp;</th>\n",
       "      <th id=\"T_91dc5_level0_col0\" class=\"col_heading level0 col0\" >Asset_classes</th>\n",
       "      <th id=\"T_91dc5_level0_col1\" class=\"col_heading level0 col1\" >Weights</th>\n",
       "    </tr>\n",
       "  </thead>\n",
       "  <tbody>\n",
       "    <tr>\n",
       "      <th id=\"T_91dc5_level0_row0\" class=\"row_heading level0 row0\" >0</th>\n",
       "      <td id=\"T_91dc5_row0_col0\" class=\"data row0 col0\" >cash</td>\n",
       "      <td id=\"T_91dc5_row0_col1\" class=\"data row0 col1\" >42.8%</td>\n",
       "    </tr>\n",
       "    <tr>\n",
       "      <th id=\"T_91dc5_level0_row1\" class=\"row_heading level0 row1\" >1</th>\n",
       "      <td id=\"T_91dc5_row1_col0\" class=\"data row1 col0\" >public investment funds</td>\n",
       "      <td id=\"T_91dc5_row1_col1\" class=\"data row1 col1\" >18.6%</td>\n",
       "    </tr>\n",
       "    <tr>\n",
       "      <th id=\"T_91dc5_level0_row2\" class=\"row_heading level0 row2\" >2</th>\n",
       "      <td id=\"T_91dc5_row2_col0\" class=\"data row2 col0\" >fixed term and savings deposit</td>\n",
       "      <td id=\"T_91dc5_row2_col1\" class=\"data row2 col1\" >17.1%</td>\n",
       "    </tr>\n",
       "    <tr>\n",
       "      <th id=\"T_91dc5_level0_row3\" class=\"row_heading level0 row3\" >3</th>\n",
       "      <td id=\"T_91dc5_row3_col0\" class=\"data row3 col0\" >other equity instruments</td>\n",
       "      <td id=\"T_91dc5_row3_col1\" class=\"data row3 col1\" >8.4%</td>\n",
       "    </tr>\n",
       "    <tr>\n",
       "      <th id=\"T_91dc5_level0_row4\" class=\"row_heading level0 row4\" >4</th>\n",
       "      <td id=\"T_91dc5_row4_col0\" class=\"data row4 col0\" >listed domestic public equity</td>\n",
       "      <td id=\"T_91dc5_row4_col1\" class=\"data row4 col1\" >5.9%</td>\n",
       "    </tr>\n",
       "    <tr>\n",
       "      <th id=\"T_91dc5_level0_row5\" class=\"row_heading level0 row5\" >5</th>\n",
       "      <td id=\"T_91dc5_row5_col0\" class=\"data row5 col0\" >listed foreign public equity</td>\n",
       "      <td id=\"T_91dc5_row5_col1\" class=\"data row5 col1\" >5.0%</td>\n",
       "    </tr>\n",
       "    <tr>\n",
       "      <th id=\"T_91dc5_level0_row6\" class=\"row_heading level0 row6\" >6</th>\n",
       "      <td id=\"T_91dc5_row6_col0\" class=\"data row6 col0\" >corporate bonds</td>\n",
       "      <td id=\"T_91dc5_row6_col1\" class=\"data row6 col1\" >1.46%</td>\n",
       "    </tr>\n",
       "    <tr>\n",
       "      <th id=\"T_91dc5_level0_row7\" class=\"row_heading level0 row7\" >7</th>\n",
       "      <td id=\"T_91dc5_row7_col0\" class=\"data row7 col0\" >state bonds</td>\n",
       "      <td id=\"T_91dc5_row7_col1\" class=\"data row7 col1\" >0.73%</td>\n",
       "    </tr>\n",
       "  </tbody>\n",
       "</table>\n",
       "</div>"
      ],
      "text/plain": [
       "<IPython.core.display.HTML object>"
      ]
     },
     "metadata": {},
     "output_type": "display_data"
    }
   ],
   "source": [
    "# Standard Libraries\n",
    "import os\n",
    "import math\n",
    "import random\n",
    "\n",
    "# Data Analysis and Visualization Libraries\n",
    "import pandas as pd\n",
    "import seaborn as sns\n",
    "import matplotlib.pyplot as plt\n",
    "import numpy as np\n",
    "\n",
    "# Interactive Data Visualization Libraries\n",
    "import plotly\n",
    "import plotly.graph_objects as go\n",
    "from plotly.subplots import make_subplots\n",
    "import plotly.express as px\n",
    "import plotly.figure_factory as ff\n",
    "\n",
    "# Data Analysis and Statistics Libraries\n",
    "import scipy.stats as stats\n",
    "from scipy.stats import skew, kurtosis, jarque_bera, shapiro, anderson\n",
    "\n",
    "# Jupyter Notebook Display Libraries\n",
    "from IPython.display import display, HTML\n",
    "\n",
    "# Utility Libraries\n",
    "from tqdm import tqdm as tqdm\n",
    "\n",
    "\n",
    "\n",
    "\n",
    "##     ##               #######                                                                                                             \n",
    "##      ##              #     #                                                                                                             \n",
    "##       ##             #        #######  #######           #     #  #######  #######     #     #######  ######   #        #######  ####### \n",
    "##       ##             #######  #           #              #     #  #     #  #     #     #     #     #  #    #   #        #        #       \n",
    "##       ##                  ##  ####        #               #   #   #######  #######     #     #######  #######  #        ####     ####### \n",
    "##      ##              #    ##  #           #                # #    #     #  #    #      #     #     #  #     #  #        #              # \n",
    "##     ##               #######  #######     #                 #     #     #  #    ##     #     #     #  #######  #######  #######  #######\n",
    "\n",
    "\n",
    "# Define year range that should be incorporated\n",
    "time_start = 2001\n",
    "time_end = 2022\n",
    "\n",
    "# Asset classes that are included either directly or as risk/return proxy into German Retail Investor Portfolio\n",
    "retail_asset_classes = ['Listed Foreign Public Equity','Other Equity Instruments','State Bonds','Corporate Bonds','Listed Domestic Public Equity','Fixed Term and Savings Deposit','Public Investment Funds','Cash']\n",
    "asset_classes_ex1 = ['Listed Foreign Public Equity','Other Equity Instruments','State Bonds','Corporate Bonds','Listed Domestic Public Equity','Fixed Term and Savings Deposit','Public Investment Funds','Cash','BUYOUT','VENTURE']\n",
    "\n",
    "# Define max weight per asset class for restricted portfolio optimization\n",
    "max_weight = 0.33\n",
    "\n",
    "# Define min cash for restricted portfolio optimization\n",
    "cash_min = 0.12\n",
    "\n",
    "# Define number of shots per Monte Carlo Simulation\n",
    "n_unrestricted = 10000\n",
    "n_restricted = 10000000\n",
    "\n",
    "# Define risk free rate for Sharpe calc.\n",
    "risk_free_rate=0.016 \n",
    "\n",
    "# Activate model\n",
    "active_classes = asset_classes_ex1.copy()\n",
    "\n",
    "\n",
    "\n",
    "#######   ##               ######                                                                           #######                                                                                  \n",
    "#######    ##              #                                                                                #     #                                                                                  \n",
    "     ##     ##             #        #     #  #     #  #######  #######     #     #######  #     #           #     #  #######  #######     #     #     #     #     #######     #     #######  #     # \n",
    "#######     ##             #####    #     #  ##    #  #           #        #     #     #  ##    #           ##    #  #        #           #     ##    #     #        #        #     #     #  ##    # \n",
    "##          ##             ##       #     #  # ### #  #           #        #     #     #  # ### #           ##    #  ####     ####        #     # ### #     #        #        #     #     #  # ### # \n",
    "#######    ##              ##       #     #  #    ##  #           #        #     #     #  #    ##           ##    #  #        #           #     #    ##     #        #        #     #     #  #    ## \n",
    "#######   ##               ##       #######  #     #  #######     #        #     #######  #     #           #######  #######  #           #     #     #     #        #        #     #######  #     # \n",
    "                                                                                                                                                                                                      \n",
    "\n",
    "# Calculate Bayes_Steins estimates using the shrikage factor w\n",
    "def bayes_stein_returns(matrix, adjust=True):\n",
    "\n",
    "    t, n = matrix.shape\n",
    "    sample_means = matrix.mean(axis=0)\n",
    "    ones = np.ones_like(sample_means)\n",
    "\n",
    "    E = np.cov(matrix, rowvar=False)\n",
    "    # Zellner & Chetty adjustment of sample cov matrix\n",
    "    adj_Z_C = (float(t) - 1) / (t - n - 2)\n",
    "    E *= round(adj_Z_C, 4) \n",
    "    I = np.linalg.inv(E)\n",
    "    grand_mean = sample_means.dot(I).dot(ones.T) / ones.dot(I).dot(ones.T)\n",
    "    diff = sample_means - grand_mean\n",
    "    denominator = n + 2 + diff.dot(t*I).dot(diff.T)\n",
    "    w = round((n + 2) / denominator, 4)\n",
    "    print('The weighting coefficient in Bayes-Stein shrinkage: {}'.format(w))\n",
    "    adjusted_means = (1 - w)*sample_means + w*grand_mean\n",
    "\n",
    "    return adjusted_means\n",
    "\n",
    "# Define a function to calculate CVaR at a given confidence level\n",
    "def calculate_cvar(data, alpha):\n",
    "    sorted_returns = np.sort(data)\n",
    "    var_index = int((1 - alpha) * len(sorted_returns))\n",
    "    cvar = -sorted_returns[:var_index].mean()\n",
    "    return cvar\n",
    "\n",
    "# plot efficient frontier\n",
    "def plot_ef  (mean_variance_pairs,tickers_list,weights_list,risk_free_rate,retail_return,retail_std,title_name): \n",
    "    #-- Plot the risk vs. return of randomly generated portfolios\n",
    "    #-- Convert the list from before into an array for easy plotting\n",
    "    mean_variance_pairs = np.array(mean_variance_pairs)\n",
    "\n",
    "\n",
    "    fig = go.Figure()\n",
    "    fig.add_trace(go.Scatter(x=mean_variance_pairs[:,1]**0.5, y=mean_variance_pairs[:,0], \n",
    "                        marker=dict(color=(mean_variance_pairs[:,0]-risk_free_rate)/(mean_variance_pairs[:,1]**0.5), \n",
    "                                    showscale=True, \n",
    "                                    size=7,\n",
    "                                    line=dict(width=1),\n",
    "                                    colorscale=\"RdBu\",\n",
    "                                    colorbar=dict(title=\"Sharpe<br>Ratio\")\n",
    "                                    ), \n",
    "                        mode='markers',\n",
    "                        text=[str(np.array(tickers_list[i])) + \"<br>\" + str(np.array(weights_list[i]).round(2)) for i in range(len(tickers_list))]))\n",
    "    fig.update_layout(template='plotly_white',\n",
    "                    xaxis=dict(title='Annualised Risk (Volatility)'),\n",
    "                    yaxis=dict(title='Annualised Return'),\n",
    "                    title=title_name,\n",
    "                    width=1000,\n",
    "                    height=700,\n",
    "                    showlegend = False)\n",
    "\n",
    "    #-- Find the portfolio with the highest Sharpe ratio\n",
    "    sharpe_ratio = (mean_variance_pairs[:,0]-risk_free_rate) / (mean_variance_pairs[:,1]**0.5)\n",
    "    max_sharpe_idx = np.argmax(sharpe_ratio)\n",
    "    max_sharpe_weights = weights_list[max_sharpe_idx]\n",
    "    max_sharpe_tickers = tickers_list[max_sharpe_idx]\n",
    "    max_sharpe_return = np.round(mean_variance_pairs[max_sharpe_idx][0] * 100,decimals=2)\n",
    "    max_sharpe_risk = np.round(mean_variance_pairs[max_sharpe_idx][1]**0.5 * 100,decimals=2)\n",
    "\n",
    "    #-- Find the portfolio with the minimum variance\n",
    "    min_var_idx = np.argmin(mean_variance_pairs[:,1])\n",
    "    min_var_weights = weights_list[min_var_idx]\n",
    "    min_var_tickers = tickers_list[min_var_idx]\n",
    "    min_var_return = np.round(mean_variance_pairs[min_var_idx][0] * 100,decimals=2)\n",
    "    min_var_risk = np.round(mean_variance_pairs[min_var_idx][1]**0.5 * 100,decimals=2)\n",
    "\n",
    "    # Convert mean_variance_pairs_re into a NumPy array\n",
    "    mean_variance_pairs_array = np.array(mean_variance_pairs)\n",
    "\n",
    "    # Extract the standard deviation array\n",
    "    std_array = np.sqrt(mean_variance_pairs_array[:, 1])\n",
    "\n",
    "    # Find the index of the pair with the closest standard deviation\n",
    "    closest_index = np.argmin(np.abs(std_array - retail_std))\n",
    "\n",
    "    closest_std_tickers = tickers_list[closest_index]\n",
    "    closest_std_weights = weights_list[closest_index]\n",
    "    \n",
    "\n",
    "    #-- Take the portfolio stats of the average German private houshold portfolio\n",
    "    # Extract the index as an array\n",
    "    retail_tickers = retail_asset_allocation.index.str.lower().to_numpy()\n",
    "    retail_weights = retail_asset_allocation['Allocation'].to_numpy()\n",
    "\n",
    "    #-- Add the portfolios to the scatter plot\n",
    "    fig.add_trace(go.Scatter(x=[mean_variance_pairs[max_sharpe_idx,1]**0.5], y=[mean_variance_pairs[max_sharpe_idx,0]], \n",
    "                            marker=dict(color='green', size=10), \n",
    "                            mode='markers', \n",
    "                            name=None,\n",
    "                            text=['Portfolio with highest Sharpe ratio (' + str(np.array(max_sharpe_tickers)) + ', ' + str(np.array(max_sharpe_weights).round(2)) + ')']))\n",
    "\n",
    "    fig.add_trace(go.Scatter(x=[mean_variance_pairs[min_var_idx,1]**0.5], y=[mean_variance_pairs[min_var_idx,0]], \n",
    "                            marker=dict(color='red', size=10), \n",
    "                            mode='markers', \n",
    "                            name=None,\n",
    "                            text=['Minimum variance portfolio (' + str(np.array(min_var_tickers)) + ', ' + str(np.array(min_var_weights).round(2)) + ')']))\n",
    "\n",
    "    fig.add_trace(go.Scatter(x = [retail_std], y= [retail_return], \n",
    "                            marker=dict(color='purple', size=10), \n",
    "                            mode='markers', \n",
    "                            name=None,\n",
    "                            text=['Retail Investor Portfolio (' + str(np.array(retail_tickers)) + ', ' + str(np.array(retail_weights).round(2)) + ')']))\n",
    "\n",
    "\n",
    "    #-- Add the efficient frontier line from the risk-free rate to the portfolio with the highest Sharpe ratio\n",
    "    ef_line_x = np.linspace(0, max(mean_variance_pairs[:,1]**0.5), 100)\n",
    "    ef_line_y = ef_line_x * sharpe_ratio[max_sharpe_idx] + risk_free_rate\n",
    "    fig.add_trace(go.Scatter(x=ef_line_x, y=ef_line_y, \n",
    "                            line=dict(color='black', width=2, dash='dash'),\n",
    "                            name='Efficient Frontier'))\n",
    "\n",
    "\n",
    "\n",
    "    # Plot the three relevant highlight portfolios with their assigned weights below\n",
    "    max_sharpe_df = pd.DataFrame({'Asset_classes': max_sharpe_tickers, 'Weights': max_sharpe_weights})\n",
    "    max_sharpe_df = max_sharpe_df.sort_values('Weights', ascending=False)\n",
    "    max_sharpe_df['Weights'] = (max_sharpe_df['Weights'] * 100).round(2).astype(str) + '%'\n",
    "\n",
    "    min_var_df = pd.DataFrame({'Asset_classes': min_var_tickers, 'Weights': min_var_weights})\n",
    "    min_var_df = min_var_df.sort_values('Weights', ascending=False)\n",
    "    min_var_df['Weights'] = (min_var_df['Weights'] * 100).round(2).astype(str) + '%'\n",
    "\n",
    "    closest_std_df = pd.DataFrame({'Asset_classes': closest_std_tickers, 'Weights': closest_std_weights})\n",
    "    closest_std_df = closest_std_df.sort_values('Weights', ascending=False)\n",
    "    closest_std_df['Weights'] = (closest_std_df['Weights'] * 100).round(2).astype(str) + '%'\n",
    "    closest_std_return = np.round(mean_variance_pairs[closest_index][0] * 100,decimals=2)\n",
    "    closest_std_risk = np.round(mean_variance_pairs[closest_index][1]**0.5 * 100,decimals=2)\n",
    "\n",
    "    # Transform retail portfolio ret and std. for plot\n",
    "    retail_return = np.round(retail_return * 100,decimals=2)\n",
    "    retail_std = np.round(retail_std * 100,decimals=2)\n",
    "\n",
    "    retail_asset_allocation_df = retail_asset_allocation.copy()\n",
    "    retail_asset_allocation_df = retail_asset_allocation_df.sort_values('Allocation', ascending=False)\n",
    "    retail_asset_allocation_df['Allocation'] = (retail_asset_allocation['Allocation'] * 100).round(2).astype(str) + '%'\n",
    "    retail_asset_allocation_df.reset_index(inplace=True)\n",
    "    retail_asset_allocation_df.rename(columns={'Asset Class': 'Asset_classes', 'Allocation': 'Weights'},inplace = True)\n",
    "    retail_asset_allocation_df['Asset_classes'] = retail_asset_allocation_df['Asset_classes'].str.lower()\n",
    "\n",
    "    # remove index of max_sharpe_df and min_var_df\n",
    "    max_sharpe_df = max_sharpe_df.reset_index(drop=True)\n",
    "    min_var_df = min_var_df.reset_index(drop=True)\n",
    "    closest_std_df = closest_std_df.reset_index(drop=True)\n",
    "\n",
    "\n",
    "    # define CSS styles for the table\n",
    "    styles = [\n",
    "        dict(selector=\"th\", props=[(\"text-align\", \"center\"), (\"font-family\", \"Poppins\")]),\n",
    "        dict(selector=\"td\", props=[(\"text-align\", \"center\"), (\"font-family\", \"Poppins\")]),\n",
    "    ]\n",
    "\n",
    "    # create HTML code for the dataframes with titles\n",
    "    max_sharpe_html = f\"<div style='display: inline-block; vertical-align: top; margin-right: 20px;'><h3 style='font-family: Poppins; font-size: 130%;'>Max Sharpe</h3>Return: {max_sharpe_return}%, Std.: {max_sharpe_risk}% <br><br>{max_sharpe_df.style.set_table_styles(styles).to_html(index=False)}</div>\"\n",
    "    min_var_html = f\"<div style='display: inline-block; vertical-align: top; margin-right: 20px;'><h3 style='font-family: Poppins; font-size: 130%;'>Min Variance</h3>Return: {min_var_return}%, Std.: {min_var_risk}% <br><br>{min_var_df.style.set_table_styles(styles).to_html(index=False)}</div>\"\n",
    "    closest_std_html = f\"<div style='display: inline-block; vertical-align: top; margin-right: 20px;'><h3 style='font-family: Poppins; font-size: 130%;'>Risk Matching Portfolio</h3>Return: {closest_std_return}%, Std.: {closest_std_risk}% <br><br>{closest_std_df.style.set_table_styles(styles).to_html(index=False)}</div>\"\n",
    "    retail_html = f\"<div style='display: inline-block; vertical-align: top;'><h3 style='font-family: Poppins; font-size: 130%;'>Retail Portfolio</h3>Return: {retail_return}%, Std.: {retail_std}% <br><br>{retail_asset_allocation_df.style.set_table_styles(styles).to_html(index=False)}</div>\"\n",
    "\n",
    "    # Return the outputs\n",
    "    return fig,max_sharpe_html,min_var_html,closest_std_html,retail_html\n",
    "\n",
    "# function to load, transform and create data set\n",
    "def data_loader (time_start,time_end,retail_asset_classes):\n",
    "\n",
    "\n",
    "    #######   ##                                                                                                                 \n",
    "    #######    ##                                                                                                                \n",
    "        ##     ##                #     #     #  #######  #######  #######  #######           ######   #######  #######  ####### \n",
    "        ####     ##                #     ##   ##  #     #  #     #  #     #     #              #     #  #     #     #     #     # \n",
    "        ##     ##                #     # # # #  #######  #     #  #######     #              #     #  #######     #     ####### \n",
    "    #######    ##                 #     #  #  #  #        #     #  #    #      #              #     #  #     #     #     #     # \n",
    "    #######   ##                  #     #     #  #        #######  #    ##     #              ######   #     #     #     #     # \n",
    "\n",
    "\n",
    "    path = os.path.abspath(\"../Data\")\n",
    "    \n",
    "    # Import quarterly index data from Preqin\n",
    "    preqin_quarter_file = path + '/preqin_export_Private Capital_Quarterly_Index_Chart_2023_5_12.csv'\n",
    "    preqin_data_quarter = pd.read_csv(preqin_quarter_file,delimiter=';', decimal=',')\n",
    "\n",
    "    # Import Bloomberg data\n",
    "    bloomberg_file = path + '/Bloomberg_selected_data.csv'\n",
    "    bloomberg_data = pd.read_csv(bloomberg_file,delimiter=';', decimal=',')\n",
    "\n",
    "    # Import DAX from Yahoo Finance\n",
    "    dax_file = path + '/GDAXI.csv'\n",
    "    dax_data = pd.read_csv(dax_file,delimiter=',', decimal='.')\n",
    "    \n",
    "    # Import SDAX\n",
    "    sdax_file = path + '/SDAX_Historical_Data.csv'\n",
    "    sdax = pd.read_csv(sdax_file,delimiter=',', decimal='.')\n",
    "\n",
    "    # Import Fixed_term_and_savings_deposit returns from Deutsche Bundesbank\n",
    "    savings_file = path + '/Fixed_Term_and_Savings_Deposit_Deutsche_Bundesbank.csv'\n",
    "    savings_data = pd.read_csv(savings_file,delimiter=';', decimal=',')\n",
    "\n",
    "    # Import Investment fund data from Rifinitiv\n",
    "    Investment_fund_file = path + '/German_Investment_funds.csv'\n",
    "    Investment_fund_data = pd.read_csv(Investment_fund_file,delimiter=';', decimal=',')\n",
    "\n",
    "\n",
    "    # Create a dictionary with the asset allocation (incl. similar risk/return proxies) of German Private Housholds in 2022\n",
    "    houshold_data = {\n",
    "    'Asset Class': ['Listed Foreign Public Equity','Other Equity Instruments','State Bonds','Corporate Bonds','Listed Domestic Public Equity','Fixed Term and Savings Deposit','Public Investment Funds','Cash'],\n",
    "    'Allocation': ['5%', '8.4%', '0.73%', '1.46%', '5.9%', '17.1%', '18.6%','42.8%']\n",
    "    }\n",
    "\n",
    "    # Create the dataframe\n",
    "    retail_asset_allocation = pd.DataFrame(houshold_data)\n",
    "\n",
    "\n",
    "    ##   ##   ##                                                                                                                                   \n",
    "    ##   ##    ##                                                                                                                                  \n",
    "    ##   ##     ##             ######   #######  #######  #######           #######  #        #######  #######  #     #     #     #     #  ####### \n",
    "    # #####     ##             #     #  #     #     #     #     #           #        #        #        #     #  ##    #     #     ##    #  #       \n",
    "        ##     ##             #     #  #######     #     #######           #        #        ####     #######  # ### #     #     # ### #  #  #### \n",
    "        ##    ##              #     #  #     #     #     #     #           #        #        #        #     #  #    ##     #     #    ##  #     # \n",
    "        ##   ##               ######   #     #     #     #     #           #######  #######  #######  #     #  #     #     #     #     #  #######\n",
    "\n",
    "\n",
    "    # PREQIN QUARTERLY DATA\n",
    "    # drop the first row\n",
    "    preqin_data_quarter = preqin_data_quarter.drop(0)\n",
    "\n",
    "    # set the new column titles\n",
    "    preqin_data_quarter.columns = preqin_data_quarter.iloc[0]\n",
    "    preqin_data_quarter = preqin_data_quarter.drop(1)\n",
    "\n",
    "    # reset the index\n",
    "    preqin_data_quarter = preqin_data_quarter.reset_index(drop=True)\n",
    "\n",
    "    preqin_data_quarter['DATE'] = pd.to_datetime(preqin_data_quarter['DATE'], format='%b-%y') + pd.offsets.MonthEnd(0)\n",
    "    preqin_data_quarter['DATE'] = preqin_data_quarter['DATE'].dt.strftime('%d.%m.%Y')\n",
    "\n",
    "    # set the date column as the index\n",
    "    preqin_data_quarter = preqin_data_quarter.set_index('DATE')\n",
    "\n",
    "    # convert the index to a DatetimeIndex\n",
    "    preqin_data_quarter.index = pd.to_datetime(preqin_data_quarter.index)\n",
    "\n",
    "    # replace commas with dots in all columns\n",
    "    preqin_data_quarter = preqin_data_quarter.replace(',', '.', regex=True)\n",
    "\n",
    "    # convert the values to numbers\n",
    "    preqin_data_quarter = preqin_data_quarter.apply(pd.to_numeric)\n",
    "\n",
    "    # calculate the quarterly returns\n",
    "    preqin_quarterly_returns = preqin_data_quarter.resample('Q').last().pct_change()\n",
    "\n",
    "    # drop the first row of the quarterly_returns DataFrame\n",
    "    preqin_quarterly_returns = preqin_quarterly_returns.drop(preqin_quarterly_returns.index[0])\n",
    "\n",
    "    # Filter rows based on year condition\n",
    "    # Convert start and end to pd.datetime format\n",
    "    preqin_start = pd.to_datetime(str(time_start))\n",
    "    preqin_end = pd.to_datetime(str(time_end+1))\n",
    "\n",
    "    # Create a boolean mask based on the condition\n",
    "    mask = (preqin_quarterly_returns.index >= preqin_start) & (preqin_quarterly_returns.index <= preqin_end)\n",
    "\n",
    "    # Filter the DataFrame using the boolean mask\n",
    "    preqin_quarterly_returns = preqin_quarterly_returns[mask]\n",
    "\n",
    "\n",
    "    # Convert the \"Date\" column to datetime\n",
    "    bloomberg_data['Date'] = pd.to_datetime(bloomberg_data['Date'], format='%d.%m.%Y')\n",
    "\n",
    "    # Set the \"Date\" column as the index\n",
    "    bloomberg_data.set_index('Date', inplace=True)\n",
    "\n",
    "    # Convert the index to a DatetimeIndex\n",
    "    bloomberg_data.index = pd.to_datetime(bloomberg_data.index)\n",
    "\n",
    "    # Filter rows based on year condition\n",
    "    # Convert start and end to pd.datetime format\n",
    "    x = pd.to_datetime(str(time_start))\n",
    "    y = pd.to_datetime(str(time_end+1))\n",
    "\n",
    "    # Create a boolean mask based on the condition\n",
    "    mask = (bloomberg_data.index >= x) & (bloomberg_data.index <= y)\n",
    "\n",
    "    bloomberg_data = bloomberg_data[mask]\n",
    "\n",
    "    bloomberg_data.drop(bloomberg_data.columns[[0, 2]], axis=1, inplace=True)\n",
    "\n",
    "    # Rename the columns\n",
    "    bloomberg_data.rename(columns={\n",
    "        '% Change': 'Bloomberg Euro Aggregate Corporate Total Return Index EU',\n",
    "        '% Change.1': 'Bloomberg Euro Aggregate Treasury Germany Total Return Index'\n",
    "    }, inplace=True)\n",
    "\n",
    "    # Divide all columns by 100\n",
    "    bloomberg_data = bloomberg_data / 100\n",
    "\n",
    "    # Invert rows\n",
    "    bloomberg_data = bloomberg_data.iloc[::-1]\n",
    "    bloomberg_returns = bloomberg_data.copy()\n",
    "\n",
    "\n",
    "    # DAX DATA\n",
    "    # First, we need to convert the \"Date\" column to a datetime type\n",
    "    dax_data['Date'] = pd.to_datetime(dax_data['Date'])\n",
    "\n",
    "    # Set the \"Date\" column as the index of the DataFrame\n",
    "    dax_data.set_index('Date', inplace=True)\n",
    "\n",
    "    # Create an empty DataFrame to store the monthly returns\n",
    "    dax_monthly_rets = pd.DataFrame(columns=['Year', 'DAX'])\n",
    "\n",
    "    # Calculate and populate the monthly returns\n",
    "    months = dax_data.resample('M').agg({'Close': ['last']})\n",
    "    # Shift the 'Close' column one row to get the previous month's 'Close' price\n",
    "    months['Previous_Close'] = months['Close'].shift(1)\n",
    "\n",
    "    # Calculate the monthly return as the percentage change in 'Close' prices\n",
    "    months['DAX'] = (months['Close','last'] / months['Previous_Close'] - 1)\n",
    "    months.drop(columns=['Previous_Close','Close'], inplace=True)\n",
    "\n",
    "    dax_monthly_rets = months.copy()\n",
    "\n",
    "    # Filter rows based on year condition\n",
    "    # Convert start and end to pd.datetime format\n",
    "    x = pd.to_datetime(str(time_start))\n",
    "    y = pd.to_datetime(str(time_end+1))\n",
    "\n",
    "    # Create a boolean mask based on the condition\n",
    "    mask = (dax_monthly_rets.index >= x) & (dax_monthly_rets.index <= y)\n",
    "\n",
    "    # Filter the DataFrame using the boolean mask\n",
    "    dax_monthly_rets = dax_monthly_rets[mask]\n",
    "\n",
    "    # Remove the second heading level of the multi-level index\n",
    "    dax_monthly_rets.columns = dax_monthly_rets.columns.droplevel(1)\n",
    "    \n",
    "    pd.set_option('display.max_rows', None)\n",
    "\n",
    "    # SDAX DATA\n",
    "    # Step 1: Select the first two columns\n",
    "    sdax = sdax[['Date', 'Price']]\n",
    "\n",
    "    # Step 2: Parse the Date column to datetime\n",
    "    sdax['Date'] = pd.to_datetime(sdax['Date'], format='%m/%d/%Y')\n",
    "\n",
    "    # Step 3: Set the Date column as the index\n",
    "    sdax.set_index('Date', inplace=True)\n",
    "\n",
    "    # Step 4: Remove commas and convert Price column to numeric\n",
    "    sdax['SDAX'] = pd.to_numeric(sdax['Price'].str.replace(',', ''), errors='coerce')\n",
    "\n",
    "    # Drop the original 'Price' column\n",
    "    sdax.drop(columns=['Price'], inplace=True)\n",
    "\n",
    "    # Step 5: Calculate monthly returns\n",
    "    sdax_monthly_returns = sdax['SDAX'].resample('M').first().pct_change()\n",
    "\n",
    "    # Adjust the monthly returns to represent the return for the current month\n",
    "    sdax_monthly_returns.index = sdax_monthly_returns.index + pd.DateOffset(months=-1)\n",
    "\n",
    "    # Step 6: Filter rows based on the year condition\n",
    "    # Convert start and end to pd.datetime format\n",
    "    x = pd.to_datetime(str(time_start), format='%Y')\n",
    "    y = pd.to_datetime(str(time_end+1), format='%Y')\n",
    "\n",
    "    # Create a boolean mask based on the condition\n",
    "    temp_mask = (sdax_monthly_returns.index >= x) & (sdax_monthly_returns.index <= y)\n",
    "\n",
    "    # Filter the DataFrame using the boolean mask\n",
    "    sdax_monthly_rets = sdax_monthly_returns[temp_mask]\n",
    "\n",
    "\n",
    "\n",
    "\n",
    "    # SAVINGS AND DEPOSIT DATA\n",
    "    # Convert Year and Month columns to datetime format and add last day of the month\n",
    "    savings_data['Date'] = pd.to_datetime(savings_data[['Year', 'Month']].assign(day=1)).dt.to_period('M').dt.to_timestamp('M') + pd.offsets.MonthEnd(0)\n",
    "\n",
    "    # Calculate savings_returns based on the provided formula\n",
    "    savings_data['savings_returns'] = (savings_data['Return, % p.a.'] / 12) * 0.01\n",
    "\n",
    "    # Select only the Date and savings_returns columns for the final DataFrame\n",
    "    savings_monthly = savings_data[['Date', 'savings_returns']]\n",
    "\n",
    "    # Set the 'Year' column as the index\n",
    "    savings_monthly = savings_monthly.set_index('Date')\n",
    "\n",
    "    # Create a boolean mask based on the condition\n",
    "    mask = (savings_monthly.index >= x) & (savings_monthly.index <= y)\n",
    "    savings_monthly = savings_monthly[mask]\n",
    "\n",
    "\n",
    "    # Investment Fund\n",
    "    # Delete the first row\n",
    "    Investment_fund_data = Investment_fund_data.iloc[1:]\n",
    "\n",
    "    # Typecast the first column to pd.datetime and name it 'date'\n",
    "    Investment_fund_data['Date'] = pd.to_datetime(Investment_fund_data.iloc[:, 0], format='%d-%b-%Y')\n",
    "\n",
    "    # Set 'date' column as the index\n",
    "    Investment_fund_data.set_index('Date', inplace=True)\n",
    "\n",
    "    # Delete the first column where the old date format is stored‘\n",
    "    Investment_fund_data = Investment_fund_data.iloc[:, 1:]\n",
    "\n",
    "    # Create a new column named 'Investment_Funds' with average return per row\n",
    "    Investment_fund_data['Investment_Funds'] = Investment_fund_data.mean(axis=1)\n",
    "\n",
    "    investment_fund_return = pd.DataFrame(Investment_fund_data['Investment_Funds'])\n",
    "\n",
    "    investment_fund_return = investment_fund_return.drop(investment_fund_return.index[0])\n",
    "    investment_fund_return = investment_fund_return.drop(investment_fund_return.index[0])\n",
    "\n",
    "    # Filter rows based on time condition\n",
    "    investment_fund_return = investment_fund_return.loc[(investment_fund_return.index >= x)& (investment_fund_return.index <= y)]\n",
    "\n",
    "\n",
    "\n",
    "    #######   ##                                                                                                                                                                       \n",
    "    #######    ##                                                                                                                                                                      \n",
    "    #           ##             ######   #######  #######  #######           #######  #######  #######           #######  #######  #######  #######  #######     #     #######  #     # \n",
    "    #######     ##             #     #  #     #     #     #     #           #        #           #              #        #     #  #        #     #     #        #     #     #  ##    # \n",
    "        ##     ##             #     #  #######     #     #######           #######  ####        #              #        #######  ####     #######     #        #     #     #  # ### # \n",
    "    #######    ##              #     #  #     #     #     #     #                 #  #           #              #        #    #   #        #     #     #        #     #     #  #    ## \n",
    "    #######   ##               ######   #     #     #     #     #           #######  #######     #              #######  #    ##  #######  #     #     #        #     #######  #     # \n",
    "\n",
    "\n",
    "\n",
    "\n",
    "    ## SET Creation ##\n",
    "\n",
    "    ## Monthly return set##\n",
    "    dax_monthly_rets = dax_monthly_rets.reset_index()\n",
    "\n",
    "    # Reset index and drop \"Date\" column for sdax\n",
    "    sdax_monthly_rets = sdax_monthly_rets.reset_index().drop(columns=['Date'])\n",
    "\n",
    "    # Reset index and drop \"Date\" column for investment_fund_return\n",
    "    investment_fund_return_reset = investment_fund_return.reset_index().drop(columns=['Date'])\n",
    "\n",
    "    # Reset index and drop \"Date\" column for bloomberg_returns\n",
    "    bloomberg_returns_reset = bloomberg_returns.reset_index().drop(columns=['Date'])\n",
    "\n",
    "    # Reset index and drop \"Date\" column for savings_returns\n",
    "    savings_monthly_reset = savings_monthly.reset_index().drop(columns=['Date'])\n",
    "\n",
    "    # Concatenate the columns of the three dataframes\n",
    "    monthly_returns = pd.concat([dax_monthly_rets, sdax_monthly_rets, investment_fund_return_reset, bloomberg_returns_reset,savings_monthly_reset], axis=1)\n",
    "\n",
    "\n",
    "\n",
    "    ## Quarterly return set##\n",
    "\n",
    "    # Step 2: Set the 'Date' column as the index\n",
    "    monthly_returns.set_index('Date', inplace=True)\n",
    "\n",
    "    combined_quarterly = monthly_returns.groupby(pd.Grouper(freq='Q')).apply(lambda x: (1 + x).prod() - 1)\n",
    "\n",
    "    # Preqin-----------\n",
    "    # Reset index and drop \"Date\" column for bloomberg_returns\n",
    "    preqin_quarterly_returns_reset = preqin_quarterly_returns.reset_index().drop(columns=['DATE'])\n",
    "\n",
    "    # Concatenate the columns of the three dataframes\n",
    "\n",
    "    combined_quarterly_reset = combined_quarterly.reset_index()\n",
    "    quarterly_returns = pd.concat([combined_quarterly_reset, preqin_quarterly_returns_reset], axis=1)\n",
    "\n",
    "    # Add CASH as a 0-constant\n",
    "    quarterly_returns['CASH'] = 0.00\n",
    "\n",
    "\n",
    "    # Define a dictionary to map the old column names to the new column names\n",
    "    column_mapping = {\n",
    "    'S&P 500 TOTAL RETURN': 'Listed Foreign Public Equity',\n",
    "    'SDAX': 'Other Equity Instruments',\n",
    "    'Bloomberg Euro Aggregate Treasury Germany Total Return Index': 'State Bonds',\n",
    "    'Bloomberg Euro Aggregate Corporate Total Return Index EU': 'Corporate Bonds',\n",
    "    'DAX': 'Listed Domestic Public Equity',\n",
    "    'savings_returns': 'Fixed Term and Savings Deposit',\n",
    "    'Investment_Funds': 'Public Investment Funds',\n",
    "    'CASH': 'Cash'\n",
    "    }\n",
    "\n",
    "    # Rename the columns using the column_mapping dictionary\n",
    "    quarterly_returns = quarterly_returns.rename(columns=column_mapping)\n",
    "\n",
    "\n",
    "    ## Annual return set ##\n",
    "\n",
    "\n",
    "    # Create annual return set by grouping by year and summing the quarterly returns to get annual returns, taking into account the compounding effect within each year.\n",
    "    # Set the 'Date' column as the index\n",
    "    quarterly_returns.set_index('Date', inplace=True)\n",
    "\n",
    "    annual_returns = quarterly_returns.groupby(pd.Grouper(freq='Y')).apply(lambda x: (1 + x).prod() - 1)\n",
    "\n",
    "    # Convert index to datetime format and extract year\n",
    "    annual_returns.index = pd.to_datetime(annual_returns.index).year\n",
    "\n",
    "    # Rename the index to 'Year'\n",
    "    annual_returns.index.name = 'Year'\n",
    "\n",
    "\n",
    "    # GERMAN RETIAL INVESTOR PORTFOLIO CREATION\n",
    "\n",
    "\n",
    "    # Select the desired columns from the dataframe\n",
    "    retail_annual_returns = annual_returns[retail_asset_classes]\n",
    "\n",
    "    # Transform the Allocation column to floats\n",
    "    retail_asset_allocation['Allocation'] = retail_asset_allocation['Allocation'].str.rstrip('%').astype(float) / 100\n",
    "\n",
    "    # Set 'Asset Class' as the index\n",
    "    retail_asset_allocation.set_index('Asset Class', inplace=True)\n",
    "\n",
    "    # Calculate weighted returns\n",
    "    weighted_returns = retail_annual_returns.mul(retail_asset_allocation['Allocation'], axis=1)\n",
    "\n",
    "    # Calculate the weighted average return per year\n",
    "    retail_annual_returns['RETURN'] = weighted_returns.sum(axis=1)\n",
    "\n",
    "    # Calculate standard deviation and mean return\n",
    "    retail_std = retail_annual_returns['RETURN'].std()\n",
    "    retail_return = retail_annual_returns['RETURN'].mean()\n",
    "\n",
    "    return annual_returns, quarterly_returns, retail_asset_allocation, retail_annual_returns, retail_return, retail_std\n",
    "\n",
    "#######   ##                                                                                                                                                                                                                    \n",
    "#######    ##                                                                                                                                                                                                                   \n",
    "##          ##             ######   #######  #######  #######  #######     #     #######  #######     #     #     #  #######           #######  #######  #######  #######     #     #######  #######     #     #######  ####### \n",
    "#######     ##             #     #  #        #        #        #     #     #     #     #     #        #     #     #  #                 #           #     #     #     #        #     #           #        #     #        #       \n",
    "##   ##     ##             #     #  ####     #######  #        #######     #     #######     #        #      #   #   ####              #######     #     #######     #        #     #######     #        #     #        ####### \n",
    "#######    ##              #     #  #              #  #        #    #      #     #           #        #       # #    #                       #     #     #     #     #        #           #     #        #     #              # \n",
    "#######   ##               ######   #######  #######  #######  #    ##     #     #           #        #        #     #######           #######     #     #     #     #        #     #######     #        #     #######  ####### \n",
    "\n",
    "# Load data set\n",
    "annual_returns, quarterly_returns, retail_asset_allocation, retail_annual_returns, retail_return, retail_std = data_loader(time_start,time_end,retail_asset_classes)\n",
    "\n",
    "# Define colors for the chart\n",
    "colors = ['#FFDC26', '#FF7F0E', '#2CA02C', '#D62728', '#9467BD', '#1F77B4', '#17becf', '#7F7F7F']\n",
    "\n",
    "# Plot the retail asset allocation chart\n",
    "fig = go.Figure(data=[go.Pie(labels=retail_asset_allocation.index, values=retail_asset_allocation['Allocation'], hole=0.4, marker=dict(colors=colors))])\n",
    "\n",
    "# Set the aspect ratio to make the plot square-sized\n",
    "fig.update_layout(\n",
    "    width=600,\n",
    "    height=600,\n",
    "    legend=dict(orientation='h', y=-0.2)\n",
    ")\n",
    "# Set the axis labels and plot title\n",
    "fig.update_layout(\n",
    "    title='Retail Allocation Plot'\n",
    ")\n",
    "\n",
    "fig.show()\n",
    "\n",
    "# Drop Return column\n",
    "retail_annual_returns.drop(columns=['RETURN'],inplace=True)\n",
    "\n",
    "# Convert the column names (x-axis labels) to lowercase for retail_annual_returns\n",
    "annual_returns.columns = annual_returns.columns.str.lower()\n",
    "quarterly_returns.columns = quarterly_returns.columns.str.lower()\n",
    "\n",
    "# Select asset classes\n",
    "active_classes = [element.lower() for element in active_classes]\n",
    "selected_returns = annual_returns[active_classes]\n",
    "selected_quarterly_returns = quarterly_returns[active_classes]\n",
    "\n",
    "# Calculate summary statistics for each asset class\n",
    "stats = pd.DataFrame(index=['mean', 'median', 'std', 'skewness', 'kurtosis'])\n",
    "for col in selected_quarterly_returns.columns:\n",
    "    selected_quarterly_returns[col] = selected_quarterly_returns[col].astype(float)\n",
    "    selected_returns[col] = selected_returns[col].astype(float)\n",
    "    mean = selected_returns[col].mean()\n",
    "    median = selected_returns[col].median()\n",
    "    std = selected_quarterly_returns[col].std() * np.sqrt(4)\n",
    "    skewness_value = skew(selected_quarterly_returns[col])\n",
    "    kurtosis_value = kurtosis(selected_quarterly_returns[col])\n",
    "    stats[col] = [mean, median, std, skewness_value, kurtosis_value]\n",
    "\n",
    "# Convert the column names (x-axis labels) to lowercase\n",
    "stats.columns = stats.columns.str.lower()\n",
    "\n",
    "# How many assests in the portfolio\n",
    "n_assets = selected_returns.shape[1]\n",
    "\n",
    "# transpose the table\n",
    "stats_selected = stats.T\n",
    "# Rename Index to asset_class\n",
    "stats_selected.rename_axis('asset_class',inplace=True)\n",
    "mus = (stats_selected['mean'])\n",
    "\n",
    "# Covariance matrix of the asset classes based on annualized quarterly returns\n",
    "cov = selected_quarterly_returns.cov() * 4\n",
    "\n",
    "# Create a scatter plot for return/risk analysis\n",
    "fig = go.Figure()\n",
    "\n",
    "fig.add_trace(go.Scatter(\n",
    "    x=stats_selected['std'],\n",
    "    y=stats_selected['mean'],\n",
    "    mode='markers',\n",
    "    marker=dict(\n",
    "        size=10,\n",
    "        color='blue',\n",
    "        symbol='circle'\n",
    "    )\n",
    "))\n",
    "\n",
    "# Set the aspect ratio to make the plot square-sized\n",
    "fig.update_layout(\n",
    "    width=600,\n",
    "    height=600\n",
    ")\n",
    "\n",
    "# Set the axis labels and plot title\n",
    "fig.update_layout(\n",
    "    xaxis=dict(title='Standard Deviation'),\n",
    "    yaxis=dict(title='Mean'),\n",
    "    title='Risk-Return Plot'\n",
    ")\n",
    "\n",
    "# Add annotations for each asset class\n",
    "annotations = [\n",
    "    dict(\n",
    "        x=x_val,\n",
    "        y=y_val,\n",
    "        xref=\"x\",\n",
    "        yref=\"y\",\n",
    "        text=asset,\n",
    "        showarrow=True,\n",
    "        arrowhead=7,\n",
    "        ax=0,\n",
    "        ay=-40\n",
    "    )\n",
    "    for asset, x_val, y_val in zip(stats_selected.index, stats_selected['std'], stats_selected['mean'])\n",
    "]\n",
    "\n",
    "fig.update_layout(\n",
    "    annotations=annotations\n",
    ")\n",
    "\n",
    "# Show the plot\n",
    "fig.show()\n",
    "\n",
    "\n",
    "# Create the line plot\n",
    "fig = go.Figure()\n",
    "\n",
    "for column in selected_returns.columns[1:]:\n",
    "    fig.add_trace(go.Scatter(x=selected_returns.index, y=selected_returns[column], mode='lines', name=column,))\n",
    "\n",
    "# Customize the layout\n",
    "fig.update_layout(\n",
    "    title='Returns Over Time',\n",
    "    xaxis_title='Year',\n",
    "    yaxis_title='Return',\n",
    "    legend_title='Asset Class',\n",
    "    hovermode='x',\n",
    "    height=600,\n",
    "    xaxis=dict(\n",
    "        type='date',\n",
    "        tickformat='%Y',\n",
    "        dtick='M12'\n",
    "    )\n",
    ")\n",
    "\n",
    "# Display the plot\n",
    "fig.show()\n",
    "\n",
    "\n",
    "# Return estimators\n",
    "\n",
    "selected_means = selected_returns.mean()\n",
    "selected_medians = selected_returns.median()\n",
    "\n",
    "# Calculate the annual geometric mean for each asset\n",
    "geometric_means = (selected_returns + 1).prod()**(1 / len(selected_returns)) - 1\n",
    "\n",
    "# Bayes-Stein (shrinkage)\n",
    "# drop cash as 0 const otherwise the matrix cannot be inverted\n",
    "# Find the index number of the column 'cash'\n",
    "index_cash = selected_returns.columns.get_loc('cash')\n",
    "selected_returns_wo_cash = selected_returns.drop(columns='cash')\n",
    "selected_bayes_stein_returns = bayes_stein_returns(selected_returns_wo_cash)\n",
    "# Create a new Series with the \"cash\" asset class and its corresponding return value\n",
    "cash_series = pd.Series([0.0], index=[\"cash\"])\n",
    "# Concatenate the new_series with the original selected_bayes_stein_returns series\n",
    "selected_bayes_stein_returns = pd.concat([selected_bayes_stein_returns.iloc[:index_cash], cash_series, selected_bayes_stein_returns.iloc[index_cash:]])\n",
    "\n",
    "\n",
    "# Risk estimators\n",
    "\n",
    "selected_skewness = selected_returns.skew()\n",
    "selected_kurtosis = selected_returns.kurtosis()\n",
    "selected_std_dev = selected_quarterly_returns.std() * np.sqrt(4)\n",
    "selected_cvar = selected_returns.apply(calculate_cvar, alpha=0.9)\n",
    "\n",
    "\n",
    "# Normality Tests\n",
    "# Perform Jarque-Bera test\n",
    "selected_jb = selected_returns.apply(lambda x: jarque_bera(x)[0])\n",
    "selected_jb_p = selected_returns.apply(lambda x: jarque_bera(x)[1])\n",
    "# Perform Shapiro-Wilk test\n",
    "selected_sw = selected_returns.apply(lambda x: shapiro(x)[0])\n",
    "selected_sw_p = selected_returns.apply(lambda x: shapiro(x)[1])\n",
    "# Perform Anderson-Darling test\n",
    "selected_ad = selected_returns.apply(lambda x: anderson(x, dist='norm')[0])\n",
    "# Create an empty dictionary to store the significance levels\n",
    "significance_levels = {}\n",
    "\n",
    "# Iterate over each column in the DataFrame\n",
    "for column in selected_returns.columns:\n",
    "    # Perform the Anderson-Darling normality test on the column\n",
    "    result = anderson(selected_returns[column])\n",
    "    \n",
    "    # Extract the critical values and significance levels\n",
    "    critical_values = result.critical_values\n",
    "    significance = result.significance_level\n",
    "    \n",
    "    # Find the index at which the null hypothesis can be rejected\n",
    "    rejection_index = next((i for i, cv in enumerate(critical_values) if result.statistic > cv), None)\n",
    "    \n",
    "    # If rejection index is found, find the corresponding significance level\n",
    "    if rejection_index is not None:\n",
    "        rejection_level = significance[rejection_index]\n",
    "    else:\n",
    "        rejection_level = None\n",
    "    \n",
    "    # Store the significance level in the dictionary\n",
    "    significance_levels[column] = rejection_level\n",
    "series_modified =  pd.Series(significance_levels).fillna(-1).astype(int) / 100\n",
    "series_modified[series_modified == -0.01] = np.nan\n",
    "\n",
    "# Create a DataFrame to store the results\n",
    "comparison_df = pd.DataFrame({\n",
    "    ('Return','Mean'): selected_means,\n",
    "    ('Return','Median'): selected_medians,\n",
    "    ('Return','Geometric Mean'): geometric_means,\n",
    "    ('Return','Bayes Stein'): selected_bayes_stein_returns,\n",
    "    ('Risk','Standard Dev.'): selected_std_dev,\n",
    "    ('Risk','Skewness'): selected_skewness,\n",
    "    ('Risk','Kurtosis'): selected_kurtosis,\n",
    "    ('Risk','CVaR'): selected_cvar,\n",
    "    ('Normality Tests', 'Jarque-Bera') : selected_jb,\n",
    "    ('Normality Tests', 'p-value') : selected_jb_p,\n",
    "    ('Normality Tests', 'Shapiro-Wilk') : selected_sw,\n",
    "    ('Normality Tests', 'p-value ') : selected_sw_p,\n",
    "    ('Normality Tests', 'Anderson-Darling') : selected_ad,\n",
    "    ('Normality Tests', 'sig.') : series_modified\n",
    "})\n",
    "\n",
    "comparison_df_save = comparison_df.copy()\n",
    "\n",
    "# Sort the DataFrame by geometric mean in descending order\n",
    "comparison_df.sort_values(('Return','Mean'), ascending=False, inplace= True)\n",
    "\n",
    "# Apply color scale to each column in ascending order\n",
    "comparison_df = comparison_df.style.background_gradient(axis=0)\n",
    "\n",
    "comparison_df = comparison_df.set_table_styles([\n",
    "    {'selector': 'th.col_heading.level0', 'props': [('text-align', 'center')]}\n",
    "])\n",
    "\n",
    "\n",
    "# Display the styled DataFrame\n",
    "display(comparison_df)\n",
    "\n",
    "\n",
    "#######   ##                                                                                                                                                                                                           \n",
    "#######    ##                                                                                                                                                                                                          \n",
    "     ##     ##             #######  #######  #######  #######  #######  #######  #           #     #######           #######     #     #     #  #     #  #        #######  #######     #     #######  #     #  ####### \n",
    "     ##     ##             #     #  #     #  #     #     #     #        #     #  #           #     #     #           #           #     ##   ##  #     #  #        #     #     #        #     #     #  ##    #  #       \n",
    "     ##     ##             #######  #     #  #######     #     ####     #     #  #           #     #     #           #######     #     # # # #  #     #  #        #######     #        #     #     #  # ### #  ####### \n",
    "     ##    ##              #        #     #  #    #      #     #        #     #  #           #     #     #                 #     #     #  #  #  #     #  #        #     #     #        #     #     #  #    ##        # \n",
    "     ##   ##               #        #######  #    ##     #     #        #######  #######     #     #######           #######     #     #     #  #######  #######  #     #     #        #     #######  #     #  ####### \n",
    "\n",
    "\n",
    "\n",
    "# 1) Monte Carlo Simulation - w/o weight restrictions\n",
    "\n",
    "# Create random portfolio weights and indexes\n",
    "mean_variance_pairs_un = []\n",
    "weights_list_un=[]\n",
    "tickers_list_un=[]\n",
    "\n",
    "for i in tqdm(range(n_unrestricted)):\n",
    "    next_i = False\n",
    "    while True:\n",
    "        #- Choose assets randomly without replacement\n",
    "        assets = np.random.choice(list(selected_returns.columns), n_assets, replace=False)\n",
    "        #- Choose weights randomly ensuring they sum to one\n",
    "        weights = np.random.rand(n_assets)\n",
    "        weights = weights/sum(weights)\n",
    "\n",
    "        #-- Loop over asset pairs and compute portfolio return and variance\n",
    "        portfolio_E_Variance = 0\n",
    "        portfolio_E_Return = 0\n",
    "        for i in range(len(assets)):\n",
    "            portfolio_E_Return += weights[i] * mus.loc[assets[i]]\n",
    "            for j in range(len(assets)):\n",
    "                portfolio_E_Variance += weights[i] * weights[j] * cov.loc[assets[i], assets[j]]\n",
    "\n",
    "        #-- Skip over dominated portfolios\n",
    "        for R,V in mean_variance_pairs_un:\n",
    "            if (R > portfolio_E_Return) & (V < portfolio_E_Variance):\n",
    "                next_i = True\n",
    "                break\n",
    "        if next_i:\n",
    "            break\n",
    "\n",
    "        #-- Add the mean/variance pairs to a list for plotting\n",
    "        mean_variance_pairs_un.append([portfolio_E_Return, portfolio_E_Variance])\n",
    "        weights_list_un.append(weights)\n",
    "        tickers_list_un.append(assets)\n",
    "\n",
    "        break\n",
    "\n",
    "\n",
    "\n",
    "# 2) Monte Carlo Simulation - with weight restrictions\n",
    "\n",
    "# Create random portfolio weights and indexes\n",
    "mean_variance_pairs_re = []\n",
    "weights_list_re=[]\n",
    "tickers_list_re=[]\n",
    "\n",
    "for i in tqdm(range(n_restricted)):\n",
    "    next_i = False\n",
    "    while True:\n",
    "        #- Choose assets randomly without replacement\n",
    "        assets = np.random.choice(list(selected_returns.columns), n_assets, replace=False)\n",
    "\n",
    "        # Find the index of 'cash' asset\n",
    "        cash_index = np.where(assets == 'cash')[0]\n",
    "\n",
    "        #- Choose weights randomly ensuring that they don't go above threshold\n",
    "        weights = np.random.rand(n_assets)\n",
    "        weights = weights/sum(weights)\n",
    "        while np.any(weights > max_weight) or (cash_index.size > 0 and weights[cash_index] < cash_min):\n",
    "            weights = np.random.rand(n_assets)\n",
    "            weights = weights/sum(weights)\n",
    "\n",
    "        #-- Loop over asset pairs and compute portfolio return and variance\n",
    "        portfolio_E_Variance = 0\n",
    "        portfolio_E_Return = 0\n",
    "        for i in range(len(assets)):\n",
    "            portfolio_E_Return += weights[i] * mus.loc[assets[i]]\n",
    "            for j in range(len(assets)):\n",
    "                portfolio_E_Variance += weights[i] * weights[j] * cov.loc[assets[i], assets[j]]\n",
    "\n",
    "        #-- Skip over dominated portfolios\n",
    "        for R,V in mean_variance_pairs_re:\n",
    "            if (R > portfolio_E_Return) & (V < portfolio_E_Variance):\n",
    "                next_i = True\n",
    "                break\n",
    "        if next_i:\n",
    "            break\n",
    "\n",
    "        #-- Add the mean/variance pairs to a list for plotting\n",
    "        mean_variance_pairs_re.append([portfolio_E_Return, portfolio_E_Variance])\n",
    "        weights_list_re.append(weights)\n",
    "        tickers_list_re.append(assets)\n",
    "\n",
    "        break\n",
    "    \n",
    "\n",
    "\n",
    "# Plot Portfolio Optimization with EF, and allocations\n",
    "\n",
    "# First set of input parameters\n",
    "title_name_un = 'Efficient Frontier of Unrestricted Portfolio'\n",
    "fig1, max_sharpe_html1, min_var_html1,closest_std_html1, retail_html1 = plot_ef(mean_variance_pairs_un, tickers_list_un, weights_list_un, risk_free_rate,retail_return,retail_std,title_name_un)\n",
    "\n",
    "\n",
    "# Second set of input parameters\n",
    "title_name_re = 'Efficient Frontier of Restricted Portfolio'\n",
    "fig2, max_sharpe_html2, min_var_html2,closest_std_html2, retail_html2 = plot_ef(mean_variance_pairs_re, tickers_list_re, weights_list_re, risk_free_rate,retail_return,retail_std,title_name_re)\n",
    "\n",
    "\n",
    "# Display the subplots\n",
    "fig1.show()\n",
    "# Display the combined HTML code\n",
    "display(HTML(max_sharpe_html1 + min_var_html1 + closest_std_html1 + retail_html1))\n",
    "\n",
    "fig2.show()\n",
    "# Display the combined HTML code\n",
    "display(HTML(max_sharpe_html2 + min_var_html2 + closest_std_html2 + retail_html2))\n"
   ]
  },
  {
   "attachments": {},
   "cell_type": "markdown",
   "metadata": {},
   "source": [
    "# Save Output as CSV"
   ]
  },
  {
   "cell_type": "code",
   "execution_count": 4,
   "metadata": {},
   "outputs": [],
   "source": [
    "cache_pairs_preqin_quarter_re = pd.DataFrame(mean_variance_pairs_re)\n",
    "cache_weights_preqin_quarter_re = pd.DataFrame(weights_list_re)\n",
    "cache_tickers_preqin_quarter_re = pd.DataFrame(tickers_list_re)\n",
    "\n",
    "cache_pairs_preqin_quarter_re.to_csv('Var_cash_With_alt_RE_5_pairs_7')\n",
    "cache_weights_preqin_quarter_re.to_csv('Var_cash_With_alt_RE_5_weights_7')\n",
    "cache_tickers_preqin_quarter_re.to_csv('Var_cash_With_alt_RE_5_tickers_7')"
   ]
  }
 ],
 "metadata": {
  "kernelspec": {
   "display_name": "Python 3",
   "language": "python",
   "name": "python3"
  },
  "language_info": {
   "codemirror_mode": {
    "name": "ipython",
    "version": 3
   },
   "file_extension": ".py",
   "mimetype": "text/x-python",
   "name": "python",
   "nbconvert_exporter": "python",
   "pygments_lexer": "ipython3",
   "version": "3.10.11"
  },
  "orig_nbformat": 4
 },
 "nbformat": 4,
 "nbformat_minor": 2
}
