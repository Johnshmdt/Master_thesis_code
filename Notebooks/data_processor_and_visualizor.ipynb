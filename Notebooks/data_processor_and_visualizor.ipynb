{
 "cells": [
  {
   "cell_type": "code",
   "execution_count": 11,
   "metadata": {},
   "outputs": [
    {
     "name": "stderr",
     "output_type": "stream",
     "text": [
      "/var/folders/24/dhffcc6s3hv3z0j3fbnd3tj80000gn/T/ipykernel_31232/636478047.py:677: UserWarning:\n",
      "\n",
      "Parsing dates in %d.%m.%Y format when dayfirst=False (the default) was specified. Pass `dayfirst=True` or specify a format to silence this warning.\n",
      "\n"
     ]
    },
    {
     "data": {
      "application/vnd.plotly.v1+json": {
       "config": {
        "plotlyServerURL": "https://plot.ly"
       },
       "data": [
        {
         "hole": 0.4,
         "labels": [
          "Listed Foreign Public Equity",
          "Other Equity Instruments",
          "State Bonds",
          "Corporate Bonds",
          "Listed Domestic Public Equity",
          "Fixed Term and Savings Deposit",
          "Public Investment Funds",
          "Cash"
         ],
         "marker": {
          "colors": [
           "#FFDC26",
           "#FF7F0E",
           "#2CA02C",
           "#D62728",
           "#9467BD",
           "#1F77B4",
           "#17becf",
           "#7F7F7F"
          ]
         },
         "type": "pie",
         "values": [
          0.05,
          0.084,
          0.0073,
          0.0146,
          0.059000000000000004,
          0.171,
          0.18600000000000003,
          0.428
         ]
        }
       ],
       "layout": {
        "height": 600,
        "legend": {
         "orientation": "h",
         "y": -0.2
        },
        "template": {
         "data": {
          "bar": [
           {
            "error_x": {
             "color": "#2a3f5f"
            },
            "error_y": {
             "color": "#2a3f5f"
            },
            "marker": {
             "line": {
              "color": "#E5ECF6",
              "width": 0.5
             },
             "pattern": {
              "fillmode": "overlay",
              "size": 10,
              "solidity": 0.2
             }
            },
            "type": "bar"
           }
          ],
          "barpolar": [
           {
            "marker": {
             "line": {
              "color": "#E5ECF6",
              "width": 0.5
             },
             "pattern": {
              "fillmode": "overlay",
              "size": 10,
              "solidity": 0.2
             }
            },
            "type": "barpolar"
           }
          ],
          "carpet": [
           {
            "aaxis": {
             "endlinecolor": "#2a3f5f",
             "gridcolor": "white",
             "linecolor": "white",
             "minorgridcolor": "white",
             "startlinecolor": "#2a3f5f"
            },
            "baxis": {
             "endlinecolor": "#2a3f5f",
             "gridcolor": "white",
             "linecolor": "white",
             "minorgridcolor": "white",
             "startlinecolor": "#2a3f5f"
            },
            "type": "carpet"
           }
          ],
          "choropleth": [
           {
            "colorbar": {
             "outlinewidth": 0,
             "ticks": ""
            },
            "type": "choropleth"
           }
          ],
          "contour": [
           {
            "colorbar": {
             "outlinewidth": 0,
             "ticks": ""
            },
            "colorscale": [
             [
              0,
              "#0d0887"
             ],
             [
              0.1111111111111111,
              "#46039f"
             ],
             [
              0.2222222222222222,
              "#7201a8"
             ],
             [
              0.3333333333333333,
              "#9c179e"
             ],
             [
              0.4444444444444444,
              "#bd3786"
             ],
             [
              0.5555555555555556,
              "#d8576b"
             ],
             [
              0.6666666666666666,
              "#ed7953"
             ],
             [
              0.7777777777777778,
              "#fb9f3a"
             ],
             [
              0.8888888888888888,
              "#fdca26"
             ],
             [
              1,
              "#f0f921"
             ]
            ],
            "type": "contour"
           }
          ],
          "contourcarpet": [
           {
            "colorbar": {
             "outlinewidth": 0,
             "ticks": ""
            },
            "type": "contourcarpet"
           }
          ],
          "heatmap": [
           {
            "colorbar": {
             "outlinewidth": 0,
             "ticks": ""
            },
            "colorscale": [
             [
              0,
              "#0d0887"
             ],
             [
              0.1111111111111111,
              "#46039f"
             ],
             [
              0.2222222222222222,
              "#7201a8"
             ],
             [
              0.3333333333333333,
              "#9c179e"
             ],
             [
              0.4444444444444444,
              "#bd3786"
             ],
             [
              0.5555555555555556,
              "#d8576b"
             ],
             [
              0.6666666666666666,
              "#ed7953"
             ],
             [
              0.7777777777777778,
              "#fb9f3a"
             ],
             [
              0.8888888888888888,
              "#fdca26"
             ],
             [
              1,
              "#f0f921"
             ]
            ],
            "type": "heatmap"
           }
          ],
          "heatmapgl": [
           {
            "colorbar": {
             "outlinewidth": 0,
             "ticks": ""
            },
            "colorscale": [
             [
              0,
              "#0d0887"
             ],
             [
              0.1111111111111111,
              "#46039f"
             ],
             [
              0.2222222222222222,
              "#7201a8"
             ],
             [
              0.3333333333333333,
              "#9c179e"
             ],
             [
              0.4444444444444444,
              "#bd3786"
             ],
             [
              0.5555555555555556,
              "#d8576b"
             ],
             [
              0.6666666666666666,
              "#ed7953"
             ],
             [
              0.7777777777777778,
              "#fb9f3a"
             ],
             [
              0.8888888888888888,
              "#fdca26"
             ],
             [
              1,
              "#f0f921"
             ]
            ],
            "type": "heatmapgl"
           }
          ],
          "histogram": [
           {
            "marker": {
             "pattern": {
              "fillmode": "overlay",
              "size": 10,
              "solidity": 0.2
             }
            },
            "type": "histogram"
           }
          ],
          "histogram2d": [
           {
            "colorbar": {
             "outlinewidth": 0,
             "ticks": ""
            },
            "colorscale": [
             [
              0,
              "#0d0887"
             ],
             [
              0.1111111111111111,
              "#46039f"
             ],
             [
              0.2222222222222222,
              "#7201a8"
             ],
             [
              0.3333333333333333,
              "#9c179e"
             ],
             [
              0.4444444444444444,
              "#bd3786"
             ],
             [
              0.5555555555555556,
              "#d8576b"
             ],
             [
              0.6666666666666666,
              "#ed7953"
             ],
             [
              0.7777777777777778,
              "#fb9f3a"
             ],
             [
              0.8888888888888888,
              "#fdca26"
             ],
             [
              1,
              "#f0f921"
             ]
            ],
            "type": "histogram2d"
           }
          ],
          "histogram2dcontour": [
           {
            "colorbar": {
             "outlinewidth": 0,
             "ticks": ""
            },
            "colorscale": [
             [
              0,
              "#0d0887"
             ],
             [
              0.1111111111111111,
              "#46039f"
             ],
             [
              0.2222222222222222,
              "#7201a8"
             ],
             [
              0.3333333333333333,
              "#9c179e"
             ],
             [
              0.4444444444444444,
              "#bd3786"
             ],
             [
              0.5555555555555556,
              "#d8576b"
             ],
             [
              0.6666666666666666,
              "#ed7953"
             ],
             [
              0.7777777777777778,
              "#fb9f3a"
             ],
             [
              0.8888888888888888,
              "#fdca26"
             ],
             [
              1,
              "#f0f921"
             ]
            ],
            "type": "histogram2dcontour"
           }
          ],
          "mesh3d": [
           {
            "colorbar": {
             "outlinewidth": 0,
             "ticks": ""
            },
            "type": "mesh3d"
           }
          ],
          "parcoords": [
           {
            "line": {
             "colorbar": {
              "outlinewidth": 0,
              "ticks": ""
             }
            },
            "type": "parcoords"
           }
          ],
          "pie": [
           {
            "automargin": true,
            "type": "pie"
           }
          ],
          "scatter": [
           {
            "fillpattern": {
             "fillmode": "overlay",
             "size": 10,
             "solidity": 0.2
            },
            "type": "scatter"
           }
          ],
          "scatter3d": [
           {
            "line": {
             "colorbar": {
              "outlinewidth": 0,
              "ticks": ""
             }
            },
            "marker": {
             "colorbar": {
              "outlinewidth": 0,
              "ticks": ""
             }
            },
            "type": "scatter3d"
           }
          ],
          "scattercarpet": [
           {
            "marker": {
             "colorbar": {
              "outlinewidth": 0,
              "ticks": ""
             }
            },
            "type": "scattercarpet"
           }
          ],
          "scattergeo": [
           {
            "marker": {
             "colorbar": {
              "outlinewidth": 0,
              "ticks": ""
             }
            },
            "type": "scattergeo"
           }
          ],
          "scattergl": [
           {
            "marker": {
             "colorbar": {
              "outlinewidth": 0,
              "ticks": ""
             }
            },
            "type": "scattergl"
           }
          ],
          "scattermapbox": [
           {
            "marker": {
             "colorbar": {
              "outlinewidth": 0,
              "ticks": ""
             }
            },
            "type": "scattermapbox"
           }
          ],
          "scatterpolar": [
           {
            "marker": {
             "colorbar": {
              "outlinewidth": 0,
              "ticks": ""
             }
            },
            "type": "scatterpolar"
           }
          ],
          "scatterpolargl": [
           {
            "marker": {
             "colorbar": {
              "outlinewidth": 0,
              "ticks": ""
             }
            },
            "type": "scatterpolargl"
           }
          ],
          "scatterternary": [
           {
            "marker": {
             "colorbar": {
              "outlinewidth": 0,
              "ticks": ""
             }
            },
            "type": "scatterternary"
           }
          ],
          "surface": [
           {
            "colorbar": {
             "outlinewidth": 0,
             "ticks": ""
            },
            "colorscale": [
             [
              0,
              "#0d0887"
             ],
             [
              0.1111111111111111,
              "#46039f"
             ],
             [
              0.2222222222222222,
              "#7201a8"
             ],
             [
              0.3333333333333333,
              "#9c179e"
             ],
             [
              0.4444444444444444,
              "#bd3786"
             ],
             [
              0.5555555555555556,
              "#d8576b"
             ],
             [
              0.6666666666666666,
              "#ed7953"
             ],
             [
              0.7777777777777778,
              "#fb9f3a"
             ],
             [
              0.8888888888888888,
              "#fdca26"
             ],
             [
              1,
              "#f0f921"
             ]
            ],
            "type": "surface"
           }
          ],
          "table": [
           {
            "cells": {
             "fill": {
              "color": "#EBF0F8"
             },
             "line": {
              "color": "white"
             }
            },
            "header": {
             "fill": {
              "color": "#C8D4E3"
             },
             "line": {
              "color": "white"
             }
            },
            "type": "table"
           }
          ]
         },
         "layout": {
          "annotationdefaults": {
           "arrowcolor": "#2a3f5f",
           "arrowhead": 0,
           "arrowwidth": 1
          },
          "autotypenumbers": "strict",
          "coloraxis": {
           "colorbar": {
            "outlinewidth": 0,
            "ticks": ""
           }
          },
          "colorscale": {
           "diverging": [
            [
             0,
             "#8e0152"
            ],
            [
             0.1,
             "#c51b7d"
            ],
            [
             0.2,
             "#de77ae"
            ],
            [
             0.3,
             "#f1b6da"
            ],
            [
             0.4,
             "#fde0ef"
            ],
            [
             0.5,
             "#f7f7f7"
            ],
            [
             0.6,
             "#e6f5d0"
            ],
            [
             0.7,
             "#b8e186"
            ],
            [
             0.8,
             "#7fbc41"
            ],
            [
             0.9,
             "#4d9221"
            ],
            [
             1,
             "#276419"
            ]
           ],
           "sequential": [
            [
             0,
             "#0d0887"
            ],
            [
             0.1111111111111111,
             "#46039f"
            ],
            [
             0.2222222222222222,
             "#7201a8"
            ],
            [
             0.3333333333333333,
             "#9c179e"
            ],
            [
             0.4444444444444444,
             "#bd3786"
            ],
            [
             0.5555555555555556,
             "#d8576b"
            ],
            [
             0.6666666666666666,
             "#ed7953"
            ],
            [
             0.7777777777777778,
             "#fb9f3a"
            ],
            [
             0.8888888888888888,
             "#fdca26"
            ],
            [
             1,
             "#f0f921"
            ]
           ],
           "sequentialminus": [
            [
             0,
             "#0d0887"
            ],
            [
             0.1111111111111111,
             "#46039f"
            ],
            [
             0.2222222222222222,
             "#7201a8"
            ],
            [
             0.3333333333333333,
             "#9c179e"
            ],
            [
             0.4444444444444444,
             "#bd3786"
            ],
            [
             0.5555555555555556,
             "#d8576b"
            ],
            [
             0.6666666666666666,
             "#ed7953"
            ],
            [
             0.7777777777777778,
             "#fb9f3a"
            ],
            [
             0.8888888888888888,
             "#fdca26"
            ],
            [
             1,
             "#f0f921"
            ]
           ]
          },
          "colorway": [
           "#636efa",
           "#EF553B",
           "#00cc96",
           "#ab63fa",
           "#FFA15A",
           "#19d3f3",
           "#FF6692",
           "#B6E880",
           "#FF97FF",
           "#FECB52"
          ],
          "font": {
           "color": "#2a3f5f"
          },
          "geo": {
           "bgcolor": "white",
           "lakecolor": "white",
           "landcolor": "#E5ECF6",
           "showlakes": true,
           "showland": true,
           "subunitcolor": "white"
          },
          "hoverlabel": {
           "align": "left"
          },
          "hovermode": "closest",
          "mapbox": {
           "style": "light"
          },
          "paper_bgcolor": "white",
          "plot_bgcolor": "#E5ECF6",
          "polar": {
           "angularaxis": {
            "gridcolor": "white",
            "linecolor": "white",
            "ticks": ""
           },
           "bgcolor": "#E5ECF6",
           "radialaxis": {
            "gridcolor": "white",
            "linecolor": "white",
            "ticks": ""
           }
          },
          "scene": {
           "xaxis": {
            "backgroundcolor": "#E5ECF6",
            "gridcolor": "white",
            "gridwidth": 2,
            "linecolor": "white",
            "showbackground": true,
            "ticks": "",
            "zerolinecolor": "white"
           },
           "yaxis": {
            "backgroundcolor": "#E5ECF6",
            "gridcolor": "white",
            "gridwidth": 2,
            "linecolor": "white",
            "showbackground": true,
            "ticks": "",
            "zerolinecolor": "white"
           },
           "zaxis": {
            "backgroundcolor": "#E5ECF6",
            "gridcolor": "white",
            "gridwidth": 2,
            "linecolor": "white",
            "showbackground": true,
            "ticks": "",
            "zerolinecolor": "white"
           }
          },
          "shapedefaults": {
           "line": {
            "color": "#2a3f5f"
           }
          },
          "ternary": {
           "aaxis": {
            "gridcolor": "white",
            "linecolor": "white",
            "ticks": ""
           },
           "baxis": {
            "gridcolor": "white",
            "linecolor": "white",
            "ticks": ""
           },
           "bgcolor": "#E5ECF6",
           "caxis": {
            "gridcolor": "white",
            "linecolor": "white",
            "ticks": ""
           }
          },
          "title": {
           "x": 0.05
          },
          "xaxis": {
           "automargin": true,
           "gridcolor": "white",
           "linecolor": "white",
           "ticks": "",
           "title": {
            "standoff": 15
           },
           "zerolinecolor": "white",
           "zerolinewidth": 2
          },
          "yaxis": {
           "automargin": true,
           "gridcolor": "white",
           "linecolor": "white",
           "ticks": "",
           "title": {
            "standoff": 15
           },
           "zerolinecolor": "white",
           "zerolinewidth": 2
          }
         }
        },
        "title": {
         "text": "Retail Allocation Plot"
        },
        "width": 600
       }
      }
     },
     "metadata": {},
     "output_type": "display_data"
    },
    {
     "data": {
      "application/vnd.plotly.v1+json": {
       "config": {
        "plotlyServerURL": "https://plot.ly"
       },
       "data": [
        {
         "marker": {
          "color": "blue",
          "size": 10,
          "symbol": "circle"
         },
         "mode": "markers",
         "type": "scatter",
         "x": [
          0.1717052542965251,
          0.2059962116376119,
          0.04886485590703823,
          0.045922461411000454,
          0.2371559583411683,
          0.004226186025201353,
          0.14314194252771964,
          0,
          0.09775452547445852,
          0.11391123721528924
         ],
         "y": [
          0.08812702391959704,
          0.10104414462511735,
          0.03006110949658433,
          0.034587268672590175,
          0.06236502674061784,
          0.011391725916927003,
          0.05437986250776696,
          0,
          0.13084115899067775,
          0.06280078148764329
         ]
        }
       ],
       "layout": {
        "annotations": [
         {
          "arrowhead": 7,
          "ax": 0,
          "ay": -40,
          "showarrow": true,
          "text": "listed foreign public equity",
          "x": 0.1717052542965251,
          "xref": "x",
          "y": 0.08812702391959704,
          "yref": "y"
         },
         {
          "arrowhead": 7,
          "ax": 0,
          "ay": -40,
          "showarrow": true,
          "text": "other equity instruments",
          "x": 0.2059962116376119,
          "xref": "x",
          "y": 0.10104414462511735,
          "yref": "y"
         },
         {
          "arrowhead": 7,
          "ax": 0,
          "ay": -40,
          "showarrow": true,
          "text": "state bonds",
          "x": 0.04886485590703823,
          "xref": "x",
          "y": 0.03006110949658433,
          "yref": "y"
         },
         {
          "arrowhead": 7,
          "ax": 0,
          "ay": -40,
          "showarrow": true,
          "text": "corporate bonds",
          "x": 0.045922461411000454,
          "xref": "x",
          "y": 0.034587268672590175,
          "yref": "y"
         },
         {
          "arrowhead": 7,
          "ax": 0,
          "ay": -40,
          "showarrow": true,
          "text": "listed domestic public equity",
          "x": 0.2371559583411683,
          "xref": "x",
          "y": 0.06236502674061784,
          "yref": "y"
         },
         {
          "arrowhead": 7,
          "ax": 0,
          "ay": -40,
          "showarrow": true,
          "text": "fixed term and savings deposit",
          "x": 0.004226186025201353,
          "xref": "x",
          "y": 0.011391725916927003,
          "yref": "y"
         },
         {
          "arrowhead": 7,
          "ax": 0,
          "ay": -40,
          "showarrow": true,
          "text": "public investment funds",
          "x": 0.14314194252771964,
          "xref": "x",
          "y": 0.05437986250776696,
          "yref": "y"
         },
         {
          "arrowhead": 7,
          "ax": 0,
          "ay": -40,
          "showarrow": true,
          "text": "cash",
          "x": 0,
          "xref": "x",
          "y": 0,
          "yref": "y"
         },
         {
          "arrowhead": 7,
          "ax": 0,
          "ay": -40,
          "showarrow": true,
          "text": "buyout",
          "x": 0.09775452547445852,
          "xref": "x",
          "y": 0.13084115899067775,
          "yref": "y"
         },
         {
          "arrowhead": 7,
          "ax": 0,
          "ay": -40,
          "showarrow": true,
          "text": "venture",
          "x": 0.11391123721528924,
          "xref": "x",
          "y": 0.06280078148764329,
          "yref": "y"
         }
        ],
        "height": 600,
        "template": {
         "data": {
          "bar": [
           {
            "error_x": {
             "color": "#2a3f5f"
            },
            "error_y": {
             "color": "#2a3f5f"
            },
            "marker": {
             "line": {
              "color": "#E5ECF6",
              "width": 0.5
             },
             "pattern": {
              "fillmode": "overlay",
              "size": 10,
              "solidity": 0.2
             }
            },
            "type": "bar"
           }
          ],
          "barpolar": [
           {
            "marker": {
             "line": {
              "color": "#E5ECF6",
              "width": 0.5
             },
             "pattern": {
              "fillmode": "overlay",
              "size": 10,
              "solidity": 0.2
             }
            },
            "type": "barpolar"
           }
          ],
          "carpet": [
           {
            "aaxis": {
             "endlinecolor": "#2a3f5f",
             "gridcolor": "white",
             "linecolor": "white",
             "minorgridcolor": "white",
             "startlinecolor": "#2a3f5f"
            },
            "baxis": {
             "endlinecolor": "#2a3f5f",
             "gridcolor": "white",
             "linecolor": "white",
             "minorgridcolor": "white",
             "startlinecolor": "#2a3f5f"
            },
            "type": "carpet"
           }
          ],
          "choropleth": [
           {
            "colorbar": {
             "outlinewidth": 0,
             "ticks": ""
            },
            "type": "choropleth"
           }
          ],
          "contour": [
           {
            "colorbar": {
             "outlinewidth": 0,
             "ticks": ""
            },
            "colorscale": [
             [
              0,
              "#0d0887"
             ],
             [
              0.1111111111111111,
              "#46039f"
             ],
             [
              0.2222222222222222,
              "#7201a8"
             ],
             [
              0.3333333333333333,
              "#9c179e"
             ],
             [
              0.4444444444444444,
              "#bd3786"
             ],
             [
              0.5555555555555556,
              "#d8576b"
             ],
             [
              0.6666666666666666,
              "#ed7953"
             ],
             [
              0.7777777777777778,
              "#fb9f3a"
             ],
             [
              0.8888888888888888,
              "#fdca26"
             ],
             [
              1,
              "#f0f921"
             ]
            ],
            "type": "contour"
           }
          ],
          "contourcarpet": [
           {
            "colorbar": {
             "outlinewidth": 0,
             "ticks": ""
            },
            "type": "contourcarpet"
           }
          ],
          "heatmap": [
           {
            "colorbar": {
             "outlinewidth": 0,
             "ticks": ""
            },
            "colorscale": [
             [
              0,
              "#0d0887"
             ],
             [
              0.1111111111111111,
              "#46039f"
             ],
             [
              0.2222222222222222,
              "#7201a8"
             ],
             [
              0.3333333333333333,
              "#9c179e"
             ],
             [
              0.4444444444444444,
              "#bd3786"
             ],
             [
              0.5555555555555556,
              "#d8576b"
             ],
             [
              0.6666666666666666,
              "#ed7953"
             ],
             [
              0.7777777777777778,
              "#fb9f3a"
             ],
             [
              0.8888888888888888,
              "#fdca26"
             ],
             [
              1,
              "#f0f921"
             ]
            ],
            "type": "heatmap"
           }
          ],
          "heatmapgl": [
           {
            "colorbar": {
             "outlinewidth": 0,
             "ticks": ""
            },
            "colorscale": [
             [
              0,
              "#0d0887"
             ],
             [
              0.1111111111111111,
              "#46039f"
             ],
             [
              0.2222222222222222,
              "#7201a8"
             ],
             [
              0.3333333333333333,
              "#9c179e"
             ],
             [
              0.4444444444444444,
              "#bd3786"
             ],
             [
              0.5555555555555556,
              "#d8576b"
             ],
             [
              0.6666666666666666,
              "#ed7953"
             ],
             [
              0.7777777777777778,
              "#fb9f3a"
             ],
             [
              0.8888888888888888,
              "#fdca26"
             ],
             [
              1,
              "#f0f921"
             ]
            ],
            "type": "heatmapgl"
           }
          ],
          "histogram": [
           {
            "marker": {
             "pattern": {
              "fillmode": "overlay",
              "size": 10,
              "solidity": 0.2
             }
            },
            "type": "histogram"
           }
          ],
          "histogram2d": [
           {
            "colorbar": {
             "outlinewidth": 0,
             "ticks": ""
            },
            "colorscale": [
             [
              0,
              "#0d0887"
             ],
             [
              0.1111111111111111,
              "#46039f"
             ],
             [
              0.2222222222222222,
              "#7201a8"
             ],
             [
              0.3333333333333333,
              "#9c179e"
             ],
             [
              0.4444444444444444,
              "#bd3786"
             ],
             [
              0.5555555555555556,
              "#d8576b"
             ],
             [
              0.6666666666666666,
              "#ed7953"
             ],
             [
              0.7777777777777778,
              "#fb9f3a"
             ],
             [
              0.8888888888888888,
              "#fdca26"
             ],
             [
              1,
              "#f0f921"
             ]
            ],
            "type": "histogram2d"
           }
          ],
          "histogram2dcontour": [
           {
            "colorbar": {
             "outlinewidth": 0,
             "ticks": ""
            },
            "colorscale": [
             [
              0,
              "#0d0887"
             ],
             [
              0.1111111111111111,
              "#46039f"
             ],
             [
              0.2222222222222222,
              "#7201a8"
             ],
             [
              0.3333333333333333,
              "#9c179e"
             ],
             [
              0.4444444444444444,
              "#bd3786"
             ],
             [
              0.5555555555555556,
              "#d8576b"
             ],
             [
              0.6666666666666666,
              "#ed7953"
             ],
             [
              0.7777777777777778,
              "#fb9f3a"
             ],
             [
              0.8888888888888888,
              "#fdca26"
             ],
             [
              1,
              "#f0f921"
             ]
            ],
            "type": "histogram2dcontour"
           }
          ],
          "mesh3d": [
           {
            "colorbar": {
             "outlinewidth": 0,
             "ticks": ""
            },
            "type": "mesh3d"
           }
          ],
          "parcoords": [
           {
            "line": {
             "colorbar": {
              "outlinewidth": 0,
              "ticks": ""
             }
            },
            "type": "parcoords"
           }
          ],
          "pie": [
           {
            "automargin": true,
            "type": "pie"
           }
          ],
          "scatter": [
           {
            "fillpattern": {
             "fillmode": "overlay",
             "size": 10,
             "solidity": 0.2
            },
            "type": "scatter"
           }
          ],
          "scatter3d": [
           {
            "line": {
             "colorbar": {
              "outlinewidth": 0,
              "ticks": ""
             }
            },
            "marker": {
             "colorbar": {
              "outlinewidth": 0,
              "ticks": ""
             }
            },
            "type": "scatter3d"
           }
          ],
          "scattercarpet": [
           {
            "marker": {
             "colorbar": {
              "outlinewidth": 0,
              "ticks": ""
             }
            },
            "type": "scattercarpet"
           }
          ],
          "scattergeo": [
           {
            "marker": {
             "colorbar": {
              "outlinewidth": 0,
              "ticks": ""
             }
            },
            "type": "scattergeo"
           }
          ],
          "scattergl": [
           {
            "marker": {
             "colorbar": {
              "outlinewidth": 0,
              "ticks": ""
             }
            },
            "type": "scattergl"
           }
          ],
          "scattermapbox": [
           {
            "marker": {
             "colorbar": {
              "outlinewidth": 0,
              "ticks": ""
             }
            },
            "type": "scattermapbox"
           }
          ],
          "scatterpolar": [
           {
            "marker": {
             "colorbar": {
              "outlinewidth": 0,
              "ticks": ""
             }
            },
            "type": "scatterpolar"
           }
          ],
          "scatterpolargl": [
           {
            "marker": {
             "colorbar": {
              "outlinewidth": 0,
              "ticks": ""
             }
            },
            "type": "scatterpolargl"
           }
          ],
          "scatterternary": [
           {
            "marker": {
             "colorbar": {
              "outlinewidth": 0,
              "ticks": ""
             }
            },
            "type": "scatterternary"
           }
          ],
          "surface": [
           {
            "colorbar": {
             "outlinewidth": 0,
             "ticks": ""
            },
            "colorscale": [
             [
              0,
              "#0d0887"
             ],
             [
              0.1111111111111111,
              "#46039f"
             ],
             [
              0.2222222222222222,
              "#7201a8"
             ],
             [
              0.3333333333333333,
              "#9c179e"
             ],
             [
              0.4444444444444444,
              "#bd3786"
             ],
             [
              0.5555555555555556,
              "#d8576b"
             ],
             [
              0.6666666666666666,
              "#ed7953"
             ],
             [
              0.7777777777777778,
              "#fb9f3a"
             ],
             [
              0.8888888888888888,
              "#fdca26"
             ],
             [
              1,
              "#f0f921"
             ]
            ],
            "type": "surface"
           }
          ],
          "table": [
           {
            "cells": {
             "fill": {
              "color": "#EBF0F8"
             },
             "line": {
              "color": "white"
             }
            },
            "header": {
             "fill": {
              "color": "#C8D4E3"
             },
             "line": {
              "color": "white"
             }
            },
            "type": "table"
           }
          ]
         },
         "layout": {
          "annotationdefaults": {
           "arrowcolor": "#2a3f5f",
           "arrowhead": 0,
           "arrowwidth": 1
          },
          "autotypenumbers": "strict",
          "coloraxis": {
           "colorbar": {
            "outlinewidth": 0,
            "ticks": ""
           }
          },
          "colorscale": {
           "diverging": [
            [
             0,
             "#8e0152"
            ],
            [
             0.1,
             "#c51b7d"
            ],
            [
             0.2,
             "#de77ae"
            ],
            [
             0.3,
             "#f1b6da"
            ],
            [
             0.4,
             "#fde0ef"
            ],
            [
             0.5,
             "#f7f7f7"
            ],
            [
             0.6,
             "#e6f5d0"
            ],
            [
             0.7,
             "#b8e186"
            ],
            [
             0.8,
             "#7fbc41"
            ],
            [
             0.9,
             "#4d9221"
            ],
            [
             1,
             "#276419"
            ]
           ],
           "sequential": [
            [
             0,
             "#0d0887"
            ],
            [
             0.1111111111111111,
             "#46039f"
            ],
            [
             0.2222222222222222,
             "#7201a8"
            ],
            [
             0.3333333333333333,
             "#9c179e"
            ],
            [
             0.4444444444444444,
             "#bd3786"
            ],
            [
             0.5555555555555556,
             "#d8576b"
            ],
            [
             0.6666666666666666,
             "#ed7953"
            ],
            [
             0.7777777777777778,
             "#fb9f3a"
            ],
            [
             0.8888888888888888,
             "#fdca26"
            ],
            [
             1,
             "#f0f921"
            ]
           ],
           "sequentialminus": [
            [
             0,
             "#0d0887"
            ],
            [
             0.1111111111111111,
             "#46039f"
            ],
            [
             0.2222222222222222,
             "#7201a8"
            ],
            [
             0.3333333333333333,
             "#9c179e"
            ],
            [
             0.4444444444444444,
             "#bd3786"
            ],
            [
             0.5555555555555556,
             "#d8576b"
            ],
            [
             0.6666666666666666,
             "#ed7953"
            ],
            [
             0.7777777777777778,
             "#fb9f3a"
            ],
            [
             0.8888888888888888,
             "#fdca26"
            ],
            [
             1,
             "#f0f921"
            ]
           ]
          },
          "colorway": [
           "#636efa",
           "#EF553B",
           "#00cc96",
           "#ab63fa",
           "#FFA15A",
           "#19d3f3",
           "#FF6692",
           "#B6E880",
           "#FF97FF",
           "#FECB52"
          ],
          "font": {
           "color": "#2a3f5f"
          },
          "geo": {
           "bgcolor": "white",
           "lakecolor": "white",
           "landcolor": "#E5ECF6",
           "showlakes": true,
           "showland": true,
           "subunitcolor": "white"
          },
          "hoverlabel": {
           "align": "left"
          },
          "hovermode": "closest",
          "mapbox": {
           "style": "light"
          },
          "paper_bgcolor": "white",
          "plot_bgcolor": "#E5ECF6",
          "polar": {
           "angularaxis": {
            "gridcolor": "white",
            "linecolor": "white",
            "ticks": ""
           },
           "bgcolor": "#E5ECF6",
           "radialaxis": {
            "gridcolor": "white",
            "linecolor": "white",
            "ticks": ""
           }
          },
          "scene": {
           "xaxis": {
            "backgroundcolor": "#E5ECF6",
            "gridcolor": "white",
            "gridwidth": 2,
            "linecolor": "white",
            "showbackground": true,
            "ticks": "",
            "zerolinecolor": "white"
           },
           "yaxis": {
            "backgroundcolor": "#E5ECF6",
            "gridcolor": "white",
            "gridwidth": 2,
            "linecolor": "white",
            "showbackground": true,
            "ticks": "",
            "zerolinecolor": "white"
           },
           "zaxis": {
            "backgroundcolor": "#E5ECF6",
            "gridcolor": "white",
            "gridwidth": 2,
            "linecolor": "white",
            "showbackground": true,
            "ticks": "",
            "zerolinecolor": "white"
           }
          },
          "shapedefaults": {
           "line": {
            "color": "#2a3f5f"
           }
          },
          "ternary": {
           "aaxis": {
            "gridcolor": "white",
            "linecolor": "white",
            "ticks": ""
           },
           "baxis": {
            "gridcolor": "white",
            "linecolor": "white",
            "ticks": ""
           },
           "bgcolor": "#E5ECF6",
           "caxis": {
            "gridcolor": "white",
            "linecolor": "white",
            "ticks": ""
           }
          },
          "title": {
           "x": 0.05
          },
          "xaxis": {
           "automargin": true,
           "gridcolor": "white",
           "linecolor": "white",
           "ticks": "",
           "title": {
            "standoff": 15
           },
           "zerolinecolor": "white",
           "zerolinewidth": 2
          },
          "yaxis": {
           "automargin": true,
           "gridcolor": "white",
           "linecolor": "white",
           "ticks": "",
           "title": {
            "standoff": 15
           },
           "zerolinecolor": "white",
           "zerolinewidth": 2
          }
         }
        },
        "title": {
         "text": "Risk-Return Plot"
        },
        "width": 600,
        "xaxis": {
         "title": {
          "text": "Standard Deviation"
         }
        },
        "yaxis": {
         "title": {
          "text": "Mean"
         }
        }
       }
      }
     },
     "metadata": {},
     "output_type": "display_data"
    },
    {
     "data": {
      "application/vnd.plotly.v1+json": {
       "config": {
        "plotlyServerURL": "https://plot.ly"
       },
       "data": [
        {
         "hovertemplate": "variable=listed foreign public equity<br>Year=%{x}<br>value=%{y}<extra></extra>",
         "legendgroup": "listed foreign public equity",
         "line": {
          "color": "#636EFA",
          "dash": "solid"
         },
         "marker": {
          "symbol": "circle"
         },
         "mode": "lines",
         "name": "listed foreign public equity",
         "orientation": "v",
         "showlegend": true,
         "type": "scatter",
         "x": [
          2001,
          2002,
          2003,
          2004,
          2005,
          2006,
          2007,
          2008,
          2009,
          2010,
          2011,
          2012,
          2013,
          2014,
          2015,
          2016,
          2017,
          2018,
          2019,
          2020,
          2021,
          2022
         ],
         "xaxis": "x",
         "y": [
          -0.09300000000000008,
          -0.22160970231532517,
          0.28753541076487243,
          0.10891089108910879,
          0.06646825396825418,
          0.13767441860465102,
          0.05560098119378565,
          -0.3694810224632068,
          0.2641277641277642,
          0.15063168124392612,
          0.03716216216216206,
          0.1416938110749184,
          0.3245363766048499,
          0.1367797522886378,
          0.013737565135007346,
          0.1289719626168222,
          0.2081953642384109,
          -0.04385063377869103,
          0.31494088140451404,
          0.18392370572207084,
          0.28699654775604144,
          -0.18115164520743932
         ],
         "yaxis": "y"
        },
        {
         "hovertemplate": "variable=other equity instruments<br>Year=%{x}<br>value=%{y}<extra></extra>",
         "legendgroup": "other equity instruments",
         "line": {
          "color": "#EF553B",
          "dash": "solid"
         },
         "marker": {
          "symbol": "circle"
         },
         "mode": "lines",
         "name": "other equity instruments",
         "orientation": "v",
         "showlegend": true,
         "type": "scatter",
         "x": [
          2001,
          2002,
          2003,
          2004,
          2005,
          2006,
          2007,
          2008,
          2009,
          2010,
          2011,
          2012,
          2013,
          2014,
          2015,
          2016,
          2017,
          2018,
          2019,
          2020,
          2021,
          2022
         ],
         "xaxis": "x",
         "y": [
          -0.2422148692938576,
          -0.30290212568704045,
          0.6756575431930179,
          0.19259755306823112,
          0.3713501372597958,
          0.2719896875947827,
          -0.2258956780923994,
          -0.43506873547842007,
          0.4287756222761423,
          0.4033599472265308,
          -0.08103157583951037,
          0.219330933594303,
          0.21932519059621325,
          0.08789630891232103,
          0.0940706173233159,
          0.16370244909269882,
          0.26588768307465815,
          -0.1444143987091595,
          0.16104844777946914,
          0.24152257382037567,
          -0.0065028132178501785,
          -0.1355133167410364
         ],
         "yaxis": "y"
        },
        {
         "hovertemplate": "variable=state bonds<br>Year=%{x}<br>value=%{y}<extra></extra>",
         "legendgroup": "state bonds",
         "line": {
          "color": "#00CC96",
          "dash": "solid"
         },
         "marker": {
          "symbol": "circle"
         },
         "mode": "lines",
         "name": "state bonds",
         "orientation": "v",
         "showlegend": true,
         "type": "scatter",
         "x": [
          2001,
          2002,
          2003,
          2004,
          2005,
          2006,
          2007,
          2008,
          2009,
          2010,
          2011,
          2012,
          2013,
          2014,
          2015,
          2016,
          2017,
          2018,
          2019,
          2020,
          2021,
          2022
         ],
         "xaxis": "x",
         "y": [
          0.051564477040268564,
          0.09281996519311586,
          0.038743269384384105,
          0.0731971813614658,
          0.05293727069319987,
          -0.0020832172715785635,
          0.018458340951024166,
          0.12347213418286196,
          0.018209019646298286,
          0.06336201696286659,
          0.09646597714668581,
          0.04575818917444785,
          -0.02262341749403385,
          0.10300887483988652,
          0.0033195572553952335,
          0.039685790190897574,
          -0.013644875488571517,
          0.023615938335461717,
          0.0300680101773505,
          0.030132117134514802,
          -0.026772421167350124,
          -0.1783497893237359
         ],
         "yaxis": "y"
        },
        {
         "hovertemplate": "variable=corporate bonds<br>Year=%{x}<br>value=%{y}<extra></extra>",
         "legendgroup": "corporate bonds",
         "line": {
          "color": "#AB63FA",
          "dash": "solid"
         },
         "marker": {
          "symbol": "circle"
         },
         "mode": "lines",
         "name": "corporate bonds",
         "orientation": "v",
         "showlegend": true,
         "type": "scatter",
         "x": [
          2001,
          2002,
          2003,
          2004,
          2005,
          2006,
          2007,
          2008,
          2009,
          2010,
          2011,
          2012,
          2013,
          2014,
          2015,
          2016,
          2017,
          2018,
          2019,
          2020,
          2021,
          2022
         ],
         "xaxis": "x",
         "y": [
          0.06446024335562006,
          0.08535369693722505,
          0.06774446644035748,
          0.07549687015224382,
          0.039577015037701724,
          0.005388059531847178,
          0.00022112357010417583,
          -0.03758978337463936,
          0.15710180410174912,
          0.04747090764920703,
          0.014860263021752917,
          0.1359262628893232,
          0.0237027408242394,
          0.08395289242589987,
          -0.005629996800249892,
          0.04727407783575277,
          0.02412259689682017,
          -0.01252020007055421,
          0.06240420452914752,
          0.027715075594111127,
          -0.009655618535664323,
          -0.13645679121501098
         ],
         "yaxis": "y"
        },
        {
         "hovertemplate": "variable=listed domestic public equity<br>Year=%{x}<br>value=%{y}<extra></extra>",
         "legendgroup": "listed domestic public equity",
         "line": {
          "color": "#FFA15A",
          "dash": "solid"
         },
         "marker": {
          "symbol": "circle"
         },
         "mode": "lines",
         "name": "listed domestic public equity",
         "orientation": "v",
         "showlegend": true,
         "type": "scatter",
         "x": [
          2001,
          2002,
          2003,
          2004,
          2005,
          2006,
          2007,
          2008,
          2009,
          2010,
          2011,
          2012,
          2013,
          2014,
          2015,
          2016,
          2017,
          2018,
          2019,
          2020,
          2021,
          2022
         ],
         "xaxis": "x",
         "y": [
          -0.19794637724677977,
          -0.43942368790071484,
          0.3707802492476704,
          0.07336908786946283,
          0.27071381808714223,
          0.21978606935131428,
          0.22289188278553773,
          -0.4037424696254365,
          0.23849942507434418,
          0.160599408928767,
          -0.14692102063558288,
          0.2905965245401749,
          0.25481747310503056,
          0.026526947293784575,
          0.09560503792678454,
          0.06870046849774059,
          0.12512608868904262,
          -0.1825937052954707,
          0.2547646562668884,
          0.03545702775505055,
          0.15789159355974802,
          -0.12346790998090618
         ],
         "yaxis": "y"
        },
        {
         "hovertemplate": "variable=fixed term and savings deposit<br>Year=%{x}<br>value=%{y}<extra></extra>",
         "legendgroup": "fixed term and savings deposit",
         "line": {
          "color": "#19D3F3",
          "dash": "solid"
         },
         "marker": {
          "symbol": "circle"
         },
         "mode": "lines",
         "name": "fixed term and savings deposit",
         "orientation": "v",
         "showlegend": true,
         "type": "scatter",
         "x": [
          2001,
          2002,
          2003,
          2004,
          2005,
          2006,
          2007,
          2008,
          2009,
          2010,
          2011,
          2012,
          2013,
          2014,
          2015,
          2016,
          2017,
          2018,
          2019,
          2020,
          2021,
          2022
         ],
         "xaxis": "x",
         "y": [
          0.01198195593910123,
          0.010281462982107747,
          0.022248658561928147,
          0.021475184755861854,
          0.020642755985264882,
          0.020821067531406,
          0.02373772177464195,
          0.025467503620899556,
          0.01831836508422624,
          0.014233666460454097,
          0.015280988846678722,
          0.013271666163983342,
          0.009928215268076634,
          0.0076600589720619006,
          0.004618066170502644,
          0.0029539839452201733,
          0.002018530765197424,
          0.0015928278045085342,
          0.0012757451248257556,
          0.0010505053556539856,
          0.0008586709137343718,
          0.0009003681460588719
         ],
         "yaxis": "y"
        },
        {
         "hovertemplate": "variable=public investment funds<br>Year=%{x}<br>value=%{y}<extra></extra>",
         "legendgroup": "public investment funds",
         "line": {
          "color": "#FF6692",
          "dash": "solid"
         },
         "marker": {
          "symbol": "circle"
         },
         "mode": "lines",
         "name": "public investment funds",
         "orientation": "v",
         "showlegend": true,
         "type": "scatter",
         "x": [
          2001,
          2002,
          2003,
          2004,
          2005,
          2006,
          2007,
          2008,
          2009,
          2010,
          2011,
          2012,
          2013,
          2014,
          2015,
          2016,
          2017,
          2018,
          2019,
          2020,
          2021,
          2022
         ],
         "xaxis": "x",
         "y": [
          -0.16894646557869186,
          -0.2975961453592547,
          0.2553001800400905,
          0.09242701528933717,
          0.22239948462821024,
          0.1406622789538503,
          0.09402390119402493,
          -0.234811476417628,
          0.3076817017680209,
          0.1445164521505491,
          -0.014791614263139463,
          0.16613685063244987,
          0.11771743473985241,
          0.08457254142991566,
          0.07291794299155763,
          0.04863276659318072,
          0.06594991833152841,
          -0.09872861203386019,
          0.16883269329400963,
          0.04049697490678561,
          0.12134395763341677,
          -0.13238080575333244
         ],
         "yaxis": "y"
        },
        {
         "hovertemplate": "variable=cash<br>Year=%{x}<br>value=%{y}<extra></extra>",
         "legendgroup": "cash",
         "line": {
          "color": "#B6E880",
          "dash": "solid"
         },
         "marker": {
          "symbol": "circle"
         },
         "mode": "lines",
         "name": "cash",
         "orientation": "v",
         "showlegend": true,
         "type": "scatter",
         "x": [
          2001,
          2002,
          2003,
          2004,
          2005,
          2006,
          2007,
          2008,
          2009,
          2010,
          2011,
          2012,
          2013,
          2014,
          2015,
          2016,
          2017,
          2018,
          2019,
          2020,
          2021,
          2022
         ],
         "xaxis": "x",
         "y": [
          0,
          0,
          0,
          0,
          0,
          0,
          0,
          0,
          0,
          0,
          0,
          0,
          0,
          0,
          0,
          0,
          0,
          0,
          0,
          0,
          0,
          0
         ],
         "yaxis": "y"
        },
        {
         "hovertemplate": "variable=buyout<br>Year=%{x}<br>value=%{y}<extra></extra>",
         "legendgroup": "buyout",
         "line": {
          "color": "#FF97FF",
          "dash": "solid"
         },
         "marker": {
          "symbol": "circle"
         },
         "mode": "lines",
         "name": "buyout",
         "orientation": "v",
         "showlegend": true,
         "type": "scatter",
         "x": [
          2001,
          2002,
          2003,
          2004,
          2005,
          2006,
          2007,
          2008,
          2009,
          2010,
          2011,
          2012,
          2013,
          2014,
          2015,
          2016,
          2017,
          2018,
          2019,
          2020,
          2021,
          2022
         ],
         "xaxis": "x",
         "y": [
          -0.09599999999999975,
          -0.09070796460176977,
          0.20681265206812638,
          0.23790322580645173,
          0.2662866449511403,
          0.2585209003215434,
          0.23556463975472663,
          -0.2539288668320927,
          0.10144124168514401,
          0.19677906391545075,
          0.07022708158116053,
          0.15245579567779965,
          0.20115922263893626,
          0.10928186204938983,
          0.11003070624360323,
          0.14153988012909124,
          0.2156704361873989,
          0.09401993355481708,
          0.15350744002429395,
          0.24983546136632873,
          0.364718272775145,
          -0.04661213150177479
         ],
         "yaxis": "y"
        },
        {
         "hovertemplate": "variable=venture<br>Year=%{x}<br>value=%{y}<extra></extra>",
         "legendgroup": "venture",
         "line": {
          "color": "#FECB52",
          "dash": "solid"
         },
         "marker": {
          "symbol": "circle"
         },
         "mode": "lines",
         "name": "venture",
         "orientation": "v",
         "showlegend": true,
         "type": "scatter",
         "x": [
          2001,
          2002,
          2003,
          2004,
          2005,
          2006,
          2007,
          2008,
          2009,
          2010,
          2011,
          2012,
          2013,
          2014,
          2015,
          2016,
          2017,
          2018,
          2019,
          2020,
          2021,
          2022
         ],
         "xaxis": "x",
         "y": [
          -0.3579999999999999,
          -0.3099688473520249,
          -0.04966139954853255,
          0.049881235154394465,
          0.04298642533936636,
          0.1409978308026032,
          0.18821292775665377,
          -0.18079999999999985,
          0.025390624999999778,
          0.09904761904761905,
          0.08492201039861369,
          0.06869009584664543,
          0.21823617339312418,
          0.18527607361963216,
          0.08799171842650089,
          -0.0057088487155090295,
          0.12248803827751176,
          0.13981244671781767,
          0.16753926701570698,
          0.3824471492632928,
          0.48470806302131564,
          -0.20287141073657922
         ],
         "yaxis": "y"
        }
       ],
       "layout": {
        "height": 600,
        "legend": {
         "title": {
          "text": "Asset Class"
         },
         "tracegroupgap": 0
        },
        "plot_bgcolor": "white",
        "shapes": [
         {
          "line": {
           "color": "black",
           "width": 1
          },
          "type": "rect",
          "x0": 0,
          "x1": 1,
          "xref": "paper",
          "y0": 0,
          "y1": 1,
          "yref": "paper"
         }
        ],
        "template": {
         "data": {
          "bar": [
           {
            "error_x": {
             "color": "#2a3f5f"
            },
            "error_y": {
             "color": "#2a3f5f"
            },
            "marker": {
             "line": {
              "color": "#E5ECF6",
              "width": 0.5
             },
             "pattern": {
              "fillmode": "overlay",
              "size": 10,
              "solidity": 0.2
             }
            },
            "type": "bar"
           }
          ],
          "barpolar": [
           {
            "marker": {
             "line": {
              "color": "#E5ECF6",
              "width": 0.5
             },
             "pattern": {
              "fillmode": "overlay",
              "size": 10,
              "solidity": 0.2
             }
            },
            "type": "barpolar"
           }
          ],
          "carpet": [
           {
            "aaxis": {
             "endlinecolor": "#2a3f5f",
             "gridcolor": "white",
             "linecolor": "white",
             "minorgridcolor": "white",
             "startlinecolor": "#2a3f5f"
            },
            "baxis": {
             "endlinecolor": "#2a3f5f",
             "gridcolor": "white",
             "linecolor": "white",
             "minorgridcolor": "white",
             "startlinecolor": "#2a3f5f"
            },
            "type": "carpet"
           }
          ],
          "choropleth": [
           {
            "colorbar": {
             "outlinewidth": 0,
             "ticks": ""
            },
            "type": "choropleth"
           }
          ],
          "contour": [
           {
            "colorbar": {
             "outlinewidth": 0,
             "ticks": ""
            },
            "colorscale": [
             [
              0,
              "#0d0887"
             ],
             [
              0.1111111111111111,
              "#46039f"
             ],
             [
              0.2222222222222222,
              "#7201a8"
             ],
             [
              0.3333333333333333,
              "#9c179e"
             ],
             [
              0.4444444444444444,
              "#bd3786"
             ],
             [
              0.5555555555555556,
              "#d8576b"
             ],
             [
              0.6666666666666666,
              "#ed7953"
             ],
             [
              0.7777777777777778,
              "#fb9f3a"
             ],
             [
              0.8888888888888888,
              "#fdca26"
             ],
             [
              1,
              "#f0f921"
             ]
            ],
            "type": "contour"
           }
          ],
          "contourcarpet": [
           {
            "colorbar": {
             "outlinewidth": 0,
             "ticks": ""
            },
            "type": "contourcarpet"
           }
          ],
          "heatmap": [
           {
            "colorbar": {
             "outlinewidth": 0,
             "ticks": ""
            },
            "colorscale": [
             [
              0,
              "#0d0887"
             ],
             [
              0.1111111111111111,
              "#46039f"
             ],
             [
              0.2222222222222222,
              "#7201a8"
             ],
             [
              0.3333333333333333,
              "#9c179e"
             ],
             [
              0.4444444444444444,
              "#bd3786"
             ],
             [
              0.5555555555555556,
              "#d8576b"
             ],
             [
              0.6666666666666666,
              "#ed7953"
             ],
             [
              0.7777777777777778,
              "#fb9f3a"
             ],
             [
              0.8888888888888888,
              "#fdca26"
             ],
             [
              1,
              "#f0f921"
             ]
            ],
            "type": "heatmap"
           }
          ],
          "heatmapgl": [
           {
            "colorbar": {
             "outlinewidth": 0,
             "ticks": ""
            },
            "colorscale": [
             [
              0,
              "#0d0887"
             ],
             [
              0.1111111111111111,
              "#46039f"
             ],
             [
              0.2222222222222222,
              "#7201a8"
             ],
             [
              0.3333333333333333,
              "#9c179e"
             ],
             [
              0.4444444444444444,
              "#bd3786"
             ],
             [
              0.5555555555555556,
              "#d8576b"
             ],
             [
              0.6666666666666666,
              "#ed7953"
             ],
             [
              0.7777777777777778,
              "#fb9f3a"
             ],
             [
              0.8888888888888888,
              "#fdca26"
             ],
             [
              1,
              "#f0f921"
             ]
            ],
            "type": "heatmapgl"
           }
          ],
          "histogram": [
           {
            "marker": {
             "pattern": {
              "fillmode": "overlay",
              "size": 10,
              "solidity": 0.2
             }
            },
            "type": "histogram"
           }
          ],
          "histogram2d": [
           {
            "colorbar": {
             "outlinewidth": 0,
             "ticks": ""
            },
            "colorscale": [
             [
              0,
              "#0d0887"
             ],
             [
              0.1111111111111111,
              "#46039f"
             ],
             [
              0.2222222222222222,
              "#7201a8"
             ],
             [
              0.3333333333333333,
              "#9c179e"
             ],
             [
              0.4444444444444444,
              "#bd3786"
             ],
             [
              0.5555555555555556,
              "#d8576b"
             ],
             [
              0.6666666666666666,
              "#ed7953"
             ],
             [
              0.7777777777777778,
              "#fb9f3a"
             ],
             [
              0.8888888888888888,
              "#fdca26"
             ],
             [
              1,
              "#f0f921"
             ]
            ],
            "type": "histogram2d"
           }
          ],
          "histogram2dcontour": [
           {
            "colorbar": {
             "outlinewidth": 0,
             "ticks": ""
            },
            "colorscale": [
             [
              0,
              "#0d0887"
             ],
             [
              0.1111111111111111,
              "#46039f"
             ],
             [
              0.2222222222222222,
              "#7201a8"
             ],
             [
              0.3333333333333333,
              "#9c179e"
             ],
             [
              0.4444444444444444,
              "#bd3786"
             ],
             [
              0.5555555555555556,
              "#d8576b"
             ],
             [
              0.6666666666666666,
              "#ed7953"
             ],
             [
              0.7777777777777778,
              "#fb9f3a"
             ],
             [
              0.8888888888888888,
              "#fdca26"
             ],
             [
              1,
              "#f0f921"
             ]
            ],
            "type": "histogram2dcontour"
           }
          ],
          "mesh3d": [
           {
            "colorbar": {
             "outlinewidth": 0,
             "ticks": ""
            },
            "type": "mesh3d"
           }
          ],
          "parcoords": [
           {
            "line": {
             "colorbar": {
              "outlinewidth": 0,
              "ticks": ""
             }
            },
            "type": "parcoords"
           }
          ],
          "pie": [
           {
            "automargin": true,
            "type": "pie"
           }
          ],
          "scatter": [
           {
            "fillpattern": {
             "fillmode": "overlay",
             "size": 10,
             "solidity": 0.2
            },
            "type": "scatter"
           }
          ],
          "scatter3d": [
           {
            "line": {
             "colorbar": {
              "outlinewidth": 0,
              "ticks": ""
             }
            },
            "marker": {
             "colorbar": {
              "outlinewidth": 0,
              "ticks": ""
             }
            },
            "type": "scatter3d"
           }
          ],
          "scattercarpet": [
           {
            "marker": {
             "colorbar": {
              "outlinewidth": 0,
              "ticks": ""
             }
            },
            "type": "scattercarpet"
           }
          ],
          "scattergeo": [
           {
            "marker": {
             "colorbar": {
              "outlinewidth": 0,
              "ticks": ""
             }
            },
            "type": "scattergeo"
           }
          ],
          "scattergl": [
           {
            "marker": {
             "colorbar": {
              "outlinewidth": 0,
              "ticks": ""
             }
            },
            "type": "scattergl"
           }
          ],
          "scattermapbox": [
           {
            "marker": {
             "colorbar": {
              "outlinewidth": 0,
              "ticks": ""
             }
            },
            "type": "scattermapbox"
           }
          ],
          "scatterpolar": [
           {
            "marker": {
             "colorbar": {
              "outlinewidth": 0,
              "ticks": ""
             }
            },
            "type": "scatterpolar"
           }
          ],
          "scatterpolargl": [
           {
            "marker": {
             "colorbar": {
              "outlinewidth": 0,
              "ticks": ""
             }
            },
            "type": "scatterpolargl"
           }
          ],
          "scatterternary": [
           {
            "marker": {
             "colorbar": {
              "outlinewidth": 0,
              "ticks": ""
             }
            },
            "type": "scatterternary"
           }
          ],
          "surface": [
           {
            "colorbar": {
             "outlinewidth": 0,
             "ticks": ""
            },
            "colorscale": [
             [
              0,
              "#0d0887"
             ],
             [
              0.1111111111111111,
              "#46039f"
             ],
             [
              0.2222222222222222,
              "#7201a8"
             ],
             [
              0.3333333333333333,
              "#9c179e"
             ],
             [
              0.4444444444444444,
              "#bd3786"
             ],
             [
              0.5555555555555556,
              "#d8576b"
             ],
             [
              0.6666666666666666,
              "#ed7953"
             ],
             [
              0.7777777777777778,
              "#fb9f3a"
             ],
             [
              0.8888888888888888,
              "#fdca26"
             ],
             [
              1,
              "#f0f921"
             ]
            ],
            "type": "surface"
           }
          ],
          "table": [
           {
            "cells": {
             "fill": {
              "color": "#EBF0F8"
             },
             "line": {
              "color": "white"
             }
            },
            "header": {
             "fill": {
              "color": "#C8D4E3"
             },
             "line": {
              "color": "white"
             }
            },
            "type": "table"
           }
          ]
         },
         "layout": {
          "annotationdefaults": {
           "arrowcolor": "#2a3f5f",
           "arrowhead": 0,
           "arrowwidth": 1
          },
          "autotypenumbers": "strict",
          "coloraxis": {
           "colorbar": {
            "outlinewidth": 0,
            "ticks": ""
           }
          },
          "colorscale": {
           "diverging": [
            [
             0,
             "#8e0152"
            ],
            [
             0.1,
             "#c51b7d"
            ],
            [
             0.2,
             "#de77ae"
            ],
            [
             0.3,
             "#f1b6da"
            ],
            [
             0.4,
             "#fde0ef"
            ],
            [
             0.5,
             "#f7f7f7"
            ],
            [
             0.6,
             "#e6f5d0"
            ],
            [
             0.7,
             "#b8e186"
            ],
            [
             0.8,
             "#7fbc41"
            ],
            [
             0.9,
             "#4d9221"
            ],
            [
             1,
             "#276419"
            ]
           ],
           "sequential": [
            [
             0,
             "#0d0887"
            ],
            [
             0.1111111111111111,
             "#46039f"
            ],
            [
             0.2222222222222222,
             "#7201a8"
            ],
            [
             0.3333333333333333,
             "#9c179e"
            ],
            [
             0.4444444444444444,
             "#bd3786"
            ],
            [
             0.5555555555555556,
             "#d8576b"
            ],
            [
             0.6666666666666666,
             "#ed7953"
            ],
            [
             0.7777777777777778,
             "#fb9f3a"
            ],
            [
             0.8888888888888888,
             "#fdca26"
            ],
            [
             1,
             "#f0f921"
            ]
           ],
           "sequentialminus": [
            [
             0,
             "#0d0887"
            ],
            [
             0.1111111111111111,
             "#46039f"
            ],
            [
             0.2222222222222222,
             "#7201a8"
            ],
            [
             0.3333333333333333,
             "#9c179e"
            ],
            [
             0.4444444444444444,
             "#bd3786"
            ],
            [
             0.5555555555555556,
             "#d8576b"
            ],
            [
             0.6666666666666666,
             "#ed7953"
            ],
            [
             0.7777777777777778,
             "#fb9f3a"
            ],
            [
             0.8888888888888888,
             "#fdca26"
            ],
            [
             1,
             "#f0f921"
            ]
           ]
          },
          "colorway": [
           "#636efa",
           "#EF553B",
           "#00cc96",
           "#ab63fa",
           "#FFA15A",
           "#19d3f3",
           "#FF6692",
           "#B6E880",
           "#FF97FF",
           "#FECB52"
          ],
          "font": {
           "color": "#2a3f5f"
          },
          "geo": {
           "bgcolor": "white",
           "lakecolor": "white",
           "landcolor": "#E5ECF6",
           "showlakes": true,
           "showland": true,
           "subunitcolor": "white"
          },
          "hoverlabel": {
           "align": "left"
          },
          "hovermode": "closest",
          "mapbox": {
           "style": "light"
          },
          "paper_bgcolor": "white",
          "plot_bgcolor": "#E5ECF6",
          "polar": {
           "angularaxis": {
            "gridcolor": "white",
            "linecolor": "white",
            "ticks": ""
           },
           "bgcolor": "#E5ECF6",
           "radialaxis": {
            "gridcolor": "white",
            "linecolor": "white",
            "ticks": ""
           }
          },
          "scene": {
           "xaxis": {
            "backgroundcolor": "#E5ECF6",
            "gridcolor": "white",
            "gridwidth": 2,
            "linecolor": "white",
            "showbackground": true,
            "ticks": "",
            "zerolinecolor": "white"
           },
           "yaxis": {
            "backgroundcolor": "#E5ECF6",
            "gridcolor": "white",
            "gridwidth": 2,
            "linecolor": "white",
            "showbackground": true,
            "ticks": "",
            "zerolinecolor": "white"
           },
           "zaxis": {
            "backgroundcolor": "#E5ECF6",
            "gridcolor": "white",
            "gridwidth": 2,
            "linecolor": "white",
            "showbackground": true,
            "ticks": "",
            "zerolinecolor": "white"
           }
          },
          "shapedefaults": {
           "line": {
            "color": "#2a3f5f"
           }
          },
          "ternary": {
           "aaxis": {
            "gridcolor": "white",
            "linecolor": "white",
            "ticks": ""
           },
           "baxis": {
            "gridcolor": "white",
            "linecolor": "white",
            "ticks": ""
           },
           "bgcolor": "#E5ECF6",
           "caxis": {
            "gridcolor": "white",
            "linecolor": "white",
            "ticks": ""
           }
          },
          "title": {
           "x": 0.05
          },
          "xaxis": {
           "automargin": true,
           "gridcolor": "white",
           "linecolor": "white",
           "ticks": "",
           "title": {
            "standoff": 15
           },
           "zerolinecolor": "white",
           "zerolinewidth": 2
          },
          "yaxis": {
           "automargin": true,
           "gridcolor": "white",
           "linecolor": "white",
           "ticks": "",
           "title": {
            "standoff": 15
           },
           "zerolinecolor": "white",
           "zerolinewidth": 2
          }
         }
        },
        "title": {
         "text": "Returns Over Time"
        },
        "width": 2000,
        "xaxis": {
         "anchor": "y",
         "domain": [
          0,
          1
         ],
         "showgrid": false,
         "ticktext": [
          2001,
          2002,
          2003,
          2004,
          2005,
          2006,
          2007,
          2008,
          2009,
          2010,
          2011,
          2012,
          2013,
          2014,
          2015,
          2016,
          2017,
          2018,
          2019,
          2020,
          2021,
          2022
         ],
         "tickvals": [
          2001,
          2002,
          2003,
          2004,
          2005,
          2006,
          2007,
          2008,
          2009,
          2010,
          2011,
          2012,
          2013,
          2014,
          2015,
          2016,
          2017,
          2018,
          2019,
          2020,
          2021,
          2022
         ],
         "title": {
          "text": "Year"
         }
        },
        "yaxis": {
         "anchor": "x",
         "domain": [
          0,
          1
         ],
         "gridcolor": "lightgray",
         "showgrid": true,
         "title": {
          "text": "Returns"
         }
        }
       }
      }
     },
     "metadata": {},
     "output_type": "display_data"
    },
    {
     "name": "stderr",
     "output_type": "stream",
     "text": [
      "/Users/johannesschmidt/Documents/Masterarbeit/.conda/lib/python3.10/site-packages/scipy/stats/_morestats.py:1813: UserWarning:\n",
      "\n",
      "Input data for shapiro has range zero. The results may not be accurate.\n",
      "\n",
      "/Users/johannesschmidt/Documents/Masterarbeit/.conda/lib/python3.10/site-packages/scipy/stats/_morestats.py:1948: RuntimeWarning:\n",
      "\n",
      "invalid value encountered in divide\n",
      "\n"
     ]
    },
    {
     "data": {
      "text/html": [
       "<style type=\"text/css\">\n",
       "#T_863c5 th.col_heading.level0 {\n",
       "  text-align: center;\n",
       "}\n",
       "#T_863c5 th.col_heading.level3 {\n",
       "  border-right: 1px solid black;\n",
       "}\n",
       "#T_863c5 th.col_heading.level8 {\n",
       "  border-right: 1px solid black;\n",
       "}\n",
       "#T_863c5_row0_col0, #T_863c5_row0_col2, #T_863c5_row0_col3, #T_863c5_row0_col12, #T_863c5_row1_col1, #T_863c5_row1_col4, #T_863c5_row1_col9, #T_863c5_row4_col7, #T_863c5_row7_col6, #T_863c5_row7_col8, #T_863c5_row8_col5, #T_863c5_row9_col10, #T_863c5_row9_col11 {\n",
       "  background-color: #023858;\n",
       "  color: #f1f1f1;\n",
       "}\n",
       "#T_863c5_row0_col1, #T_863c5_row4_col12 {\n",
       "  background-color: #034871;\n",
       "  color: #f1f1f1;\n",
       "}\n",
       "#T_863c5_row0_col4 {\n",
       "  background-color: #6ba5cd;\n",
       "  color: #f1f1f1;\n",
       "}\n",
       "#T_863c5_row0_col5 {\n",
       "  background-color: #b7c5df;\n",
       "  color: #000000;\n",
       "}\n",
       "#T_863c5_row0_col6 {\n",
       "  background-color: #9fbad9;\n",
       "  color: #000000;\n",
       "}\n",
       "#T_863c5_row0_col7 {\n",
       "  background-color: #9ab8d8;\n",
       "  color: #000000;\n",
       "}\n",
       "#T_863c5_row0_col8 {\n",
       "  background-color: #e2dfee;\n",
       "  color: #000000;\n",
       "}\n",
       "#T_863c5_row0_col9 {\n",
       "  background-color: #eae6f1;\n",
       "  color: #000000;\n",
       "}\n",
       "#T_863c5_row0_col10, #T_863c5_row4_col10 {\n",
       "  background-color: #bdc8e1;\n",
       "  color: #000000;\n",
       "}\n",
       "#T_863c5_row0_col11, #T_863c5_row4_col11 {\n",
       "  background-color: #f9f2f8;\n",
       "  color: #000000;\n",
       "}\n",
       "#T_863c5_row0_col13, #T_863c5_row1_col8, #T_863c5_row1_col12, #T_863c5_row1_col13, #T_863c5_row2_col13, #T_863c5_row3_col13, #T_863c5_row4_col13, #T_863c5_row5_col13, #T_863c5_row6_col13, #T_863c5_row7_col5, #T_863c5_row7_col9, #T_863c5_row7_col10, #T_863c5_row7_col11, #T_863c5_row7_col13, #T_863c5_row8_col6, #T_863c5_row8_col7, #T_863c5_row8_col13, #T_863c5_row9_col0, #T_863c5_row9_col1, #T_863c5_row9_col2, #T_863c5_row9_col3, #T_863c5_row9_col4, #T_863c5_row9_col7, #T_863c5_row9_col13 {\n",
       "  background-color: #fff7fb;\n",
       "  color: #000000;\n",
       "}\n",
       "#T_863c5_row1_col0 {\n",
       "  background-color: #056dab;\n",
       "  color: #f1f1f1;\n",
       "}\n",
       "#T_863c5_row1_col2, #T_863c5_row2_col2 {\n",
       "  background-color: #4a98c5;\n",
       "  color: #f1f1f1;\n",
       "}\n",
       "#T_863c5_row1_col3 {\n",
       "  background-color: #0567a2;\n",
       "  color: #f1f1f1;\n",
       "}\n",
       "#T_863c5_row1_col5, #T_863c5_row1_col11 {\n",
       "  background-color: #045d92;\n",
       "  color: #f1f1f1;\n",
       "}\n",
       "#T_863c5_row1_col6 {\n",
       "  background-color: #e1dfed;\n",
       "  color: #000000;\n",
       "}\n",
       "#T_863c5_row1_col7 {\n",
       "  background-color: #04588a;\n",
       "  color: #f1f1f1;\n",
       "}\n",
       "#T_863c5_row1_col10 {\n",
       "  background-color: #045f95;\n",
       "  color: #f1f1f1;\n",
       "}\n",
       "#T_863c5_row2_col0 {\n",
       "  background-color: #1b7eb7;\n",
       "  color: #f1f1f1;\n",
       "}\n",
       "#T_863c5_row2_col1, #T_863c5_row4_col4 {\n",
       "  background-color: #04649e;\n",
       "  color: #f1f1f1;\n",
       "}\n",
       "#T_863c5_row2_col3 {\n",
       "  background-color: #187cb6;\n",
       "  color: #f1f1f1;\n",
       "}\n",
       "#T_863c5_row2_col4 {\n",
       "  background-color: #2685bb;\n",
       "  color: #f1f1f1;\n",
       "}\n",
       "#T_863c5_row2_col5 {\n",
       "  background-color: #93b5d6;\n",
       "  color: #000000;\n",
       "}\n",
       "#T_863c5_row2_col6, #T_863c5_row6_col3 {\n",
       "  background-color: #c0c9e2;\n",
       "  color: #000000;\n",
       "}\n",
       "#T_863c5_row2_col7 {\n",
       "  background-color: #1379b5;\n",
       "  color: #f1f1f1;\n",
       "}\n",
       "#T_863c5_row2_col8, #T_863c5_row4_col8, #T_863c5_row8_col3 {\n",
       "  background-color: #f0eaf4;\n",
       "  color: #000000;\n",
       "}\n",
       "#T_863c5_row2_col9, #T_863c5_row4_col9 {\n",
       "  background-color: #c2cbe2;\n",
       "  color: #000000;\n",
       "}\n",
       "#T_863c5_row2_col10, #T_863c5_row3_col0, #T_863c5_row4_col0 {\n",
       "  background-color: #83afd3;\n",
       "  color: #f1f1f1;\n",
       "}\n",
       "#T_863c5_row2_col11 {\n",
       "  background-color: #eee9f3;\n",
       "  color: #000000;\n",
       "}\n",
       "#T_863c5_row2_col12, #T_863c5_row8_col9 {\n",
       "  background-color: #91b5d6;\n",
       "  color: #000000;\n",
       "}\n",
       "#T_863c5_row3_col1, #T_863c5_row5_col1 {\n",
       "  background-color: #549cc7;\n",
       "  color: #f1f1f1;\n",
       "}\n",
       "#T_863c5_row3_col2, #T_863c5_row4_col2, #T_863c5_row5_col2 {\n",
       "  background-color: #b4c4df;\n",
       "  color: #000000;\n",
       "}\n",
       "#T_863c5_row3_col3, #T_863c5_row4_col3, #T_863c5_row5_col5 {\n",
       "  background-color: #73a9cf;\n",
       "  color: #f1f1f1;\n",
       "}\n",
       "#T_863c5_row3_col4 {\n",
       "  background-color: #0872b1;\n",
       "  color: #f1f1f1;\n",
       "}\n",
       "#T_863c5_row3_col5 {\n",
       "  background-color: #056ead;\n",
       "  color: #f1f1f1;\n",
       "}\n",
       "#T_863c5_row3_col6 {\n",
       "  background-color: #bbc7e0;\n",
       "  color: #000000;\n",
       "}\n",
       "#T_863c5_row3_col7 {\n",
       "  background-color: #0569a5;\n",
       "  color: #f1f1f1;\n",
       "}\n",
       "#T_863c5_row3_col8 {\n",
       "  background-color: #fef6fb;\n",
       "  color: #000000;\n",
       "}\n",
       "#T_863c5_row3_col9 {\n",
       "  background-color: #03476f;\n",
       "  color: #f1f1f1;\n",
       "}\n",
       "#T_863c5_row3_col10, #T_863c5_row6_col5, #T_863c5_row6_col10 {\n",
       "  background-color: #3b92c1;\n",
       "  color: #f1f1f1;\n",
       "}\n",
       "#T_863c5_row3_col11 {\n",
       "  background-color: #c5cce3;\n",
       "  color: #000000;\n",
       "}\n",
       "#T_863c5_row3_col12 {\n",
       "  background-color: #348ebf;\n",
       "  color: #f1f1f1;\n",
       "}\n",
       "#T_863c5_row4_col1 {\n",
       "  background-color: #1c7fb8;\n",
       "  color: #f1f1f1;\n",
       "}\n",
       "#T_863c5_row4_col5 {\n",
       "  background-color: #94b6d7;\n",
       "  color: #000000;\n",
       "}\n",
       "#T_863c5_row4_col6 {\n",
       "  background-color: #d5d5e8;\n",
       "  color: #000000;\n",
       "}\n",
       "#T_863c5_row5_col0 {\n",
       "  background-color: #a2bcda;\n",
       "  color: #000000;\n",
       "}\n",
       "#T_863c5_row5_col3 {\n",
       "  background-color: #9cb9d9;\n",
       "  color: #000000;\n",
       "}\n",
       "#T_863c5_row5_col4 {\n",
       "  background-color: #4697c4;\n",
       "  color: #f1f1f1;\n",
       "}\n",
       "#T_863c5_row5_col6 {\n",
       "  background-color: #d2d3e7;\n",
       "  color: #000000;\n",
       "}\n",
       "#T_863c5_row5_col7 {\n",
       "  background-color: #2f8bbe;\n",
       "  color: #f1f1f1;\n",
       "}\n",
       "#T_863c5_row5_col8 {\n",
       "  background-color: #f5eef6;\n",
       "  color: #000000;\n",
       "}\n",
       "#T_863c5_row5_col9 {\n",
       "  background-color: #8cb3d5;\n",
       "  color: #000000;\n",
       "}\n",
       "#T_863c5_row5_col10, #T_863c5_row6_col6 {\n",
       "  background-color: #62a2cb;\n",
       "  color: #f1f1f1;\n",
       "}\n",
       "#T_863c5_row5_col11 {\n",
       "  background-color: #e7e3f0;\n",
       "  color: #000000;\n",
       "}\n",
       "#T_863c5_row5_col12 {\n",
       "  background-color: #056fae;\n",
       "  color: #f1f1f1;\n",
       "}\n",
       "#T_863c5_row6_col0, #T_863c5_row7_col0, #T_863c5_row8_col10 {\n",
       "  background-color: #d4d4e8;\n",
       "  color: #000000;\n",
       "}\n",
       "#T_863c5_row6_col1, #T_863c5_row7_col1 {\n",
       "  background-color: #dedcec;\n",
       "  color: #000000;\n",
       "}\n",
       "#T_863c5_row6_col2, #T_863c5_row7_col2 {\n",
       "  background-color: #d0d1e6;\n",
       "  color: #000000;\n",
       "}\n",
       "#T_863c5_row6_col4, #T_863c5_row7_col4 {\n",
       "  background-color: #d7d6e9;\n",
       "  color: #000000;\n",
       "}\n",
       "#T_863c5_row6_col7, #T_863c5_row9_col6 {\n",
       "  background-color: #d9d8ea;\n",
       "  color: #000000;\n",
       "}\n",
       "#T_863c5_row6_col8 {\n",
       "  background-color: #ede8f3;\n",
       "  color: #000000;\n",
       "}\n",
       "#T_863c5_row6_col9 {\n",
       "  background-color: #d1d2e6;\n",
       "  color: #000000;\n",
       "}\n",
       "#T_863c5_row6_col11 {\n",
       "  background-color: #bfc9e1;\n",
       "  color: #000000;\n",
       "}\n",
       "#T_863c5_row6_col12 {\n",
       "  background-color: #dfddec;\n",
       "  color: #000000;\n",
       "}\n",
       "#T_863c5_row7_col3 {\n",
       "  background-color: #dbdaeb;\n",
       "  color: #000000;\n",
       "}\n",
       "#T_863c5_row7_col7 {\n",
       "  background-color: #d3d4e7;\n",
       "  color: #000000;\n",
       "}\n",
       "#T_863c5_row7_col12, #T_863c5_row8_col12 {\n",
       "  background-color: #04598c;\n",
       "  color: #f1f1f1;\n",
       "}\n",
       "#T_863c5_row8_col0 {\n",
       "  background-color: #f4edf6;\n",
       "  color: #000000;\n",
       "}\n",
       "#T_863c5_row8_col1 {\n",
       "  background-color: #f5eff6;\n",
       "  color: #000000;\n",
       "}\n",
       "#T_863c5_row8_col2 {\n",
       "  background-color: #f2ecf5;\n",
       "  color: #000000;\n",
       "}\n",
       "#T_863c5_row8_col4 {\n",
       "  background-color: #faf2f8;\n",
       "  color: #000000;\n",
       "}\n",
       "#T_863c5_row8_col8 {\n",
       "  background-color: #f4eef6;\n",
       "  color: #000000;\n",
       "}\n",
       "#T_863c5_row8_col11 {\n",
       "  background-color: #fcf4fa;\n",
       "  color: #000000;\n",
       "}\n",
       "#T_863c5_row9_col5 {\n",
       "  background-color: #034d79;\n",
       "  color: #f1f1f1;\n",
       "}\n",
       "#T_863c5_row9_col8, #T_863c5_row9_col9, #T_863c5_row9_col12 {\n",
       "  background-color: #000000;\n",
       "  color: #f1f1f1;\n",
       "}\n",
       "</style>\n",
       "<table id=\"T_863c5\">\n",
       "  <thead>\n",
       "    <tr>\n",
       "      <th class=\"blank level0\" >&nbsp;</th>\n",
       "      <th id=\"T_863c5_level0_col0\" class=\"col_heading level0 col0\" colspan=\"4\">Return</th>\n",
       "      <th id=\"T_863c5_level0_col4\" class=\"col_heading level0 col4\" colspan=\"4\">Risk</th>\n",
       "      <th id=\"T_863c5_level0_col8\" class=\"col_heading level0 col8\" colspan=\"6\">Normality Tests</th>\n",
       "    </tr>\n",
       "    <tr>\n",
       "      <th class=\"blank level1\" >&nbsp;</th>\n",
       "      <th id=\"T_863c5_level1_col0\" class=\"col_heading level1 col0\" >Mean</th>\n",
       "      <th id=\"T_863c5_level1_col1\" class=\"col_heading level1 col1\" >Median</th>\n",
       "      <th id=\"T_863c5_level1_col2\" class=\"col_heading level1 col2\" >Geometric Mean</th>\n",
       "      <th id=\"T_863c5_level1_col3\" class=\"col_heading level1 col3\" >Bayes Stein</th>\n",
       "      <th id=\"T_863c5_level1_col4\" class=\"col_heading level1 col4\" >Standard Dev.</th>\n",
       "      <th id=\"T_863c5_level1_col5\" class=\"col_heading level1 col5\" >Skewness</th>\n",
       "      <th id=\"T_863c5_level1_col6\" class=\"col_heading level1 col6\" >Kurtosis</th>\n",
       "      <th id=\"T_863c5_level1_col7\" class=\"col_heading level1 col7\" >CVaR</th>\n",
       "      <th id=\"T_863c5_level1_col8\" class=\"col_heading level1 col8\" >Jarque-Bera</th>\n",
       "      <th id=\"T_863c5_level1_col9\" class=\"col_heading level1 col9\" >p-value</th>\n",
       "      <th id=\"T_863c5_level1_col10\" class=\"col_heading level1 col10\" >Shapiro-Wilk</th>\n",
       "      <th id=\"T_863c5_level1_col11\" class=\"col_heading level1 col11\" >p-value </th>\n",
       "      <th id=\"T_863c5_level1_col12\" class=\"col_heading level1 col12\" >Anderson-Darling</th>\n",
       "      <th id=\"T_863c5_level1_col13\" class=\"col_heading level1 col13\" >sig.</th>\n",
       "    </tr>\n",
       "  </thead>\n",
       "  <tbody>\n",
       "    <tr>\n",
       "      <th id=\"T_863c5_level0_row0\" class=\"row_heading level0 row0\" >buyout</th>\n",
       "      <td id=\"T_863c5_row0_col0\" class=\"data row0 col0\" >0.13</td>\n",
       "      <td id=\"T_863c5_row0_col1\" class=\"data row0 col1\" >0.15</td>\n",
       "      <td id=\"T_863c5_row0_col2\" class=\"data row0 col2\" >0.12</td>\n",
       "      <td id=\"T_863c5_row0_col3\" class=\"data row0 col3\" >0.10</td>\n",
       "      <td id=\"T_863c5_row0_col4\" class=\"data row0 col4\" >0.14</td>\n",
       "      <td id=\"T_863c5_row0_col5\" class=\"data row0 col5\" >-1.09</td>\n",
       "      <td id=\"T_863c5_row0_col6\" class=\"data row0 col6\" >1.25</td>\n",
       "      <td id=\"T_863c5_row0_col7\" class=\"data row0 col7\" >0.17</td>\n",
       "      <td id=\"T_863c5_row0_col8\" class=\"data row0 col8\" >4.25</td>\n",
       "      <td id=\"T_863c5_row0_col9\" class=\"data row0 col9\" >0.12</td>\n",
       "      <td id=\"T_863c5_row0_col10\" class=\"data row0 col10\" >0.91</td>\n",
       "      <td id=\"T_863c5_row0_col11\" class=\"data row0 col11\" >0.05</td>\n",
       "      <td id=\"T_863c5_row0_col12\" class=\"data row0 col12\" >0.78</td>\n",
       "      <td id=\"T_863c5_row0_col13\" class=\"data row0 col13\" >0.15</td>\n",
       "    </tr>\n",
       "    <tr>\n",
       "      <th id=\"T_863c5_level0_row1\" class=\"row_heading level0 row1\" >other equity instruments</th>\n",
       "      <td id=\"T_863c5_row1_col0\" class=\"data row1 col0\" >0.10</td>\n",
       "      <td id=\"T_863c5_row1_col1\" class=\"data row1 col1\" >0.16</td>\n",
       "      <td id=\"T_863c5_row1_col2\" class=\"data row1 col2\" >0.07</td>\n",
       "      <td id=\"T_863c5_row1_col3\" class=\"data row1 col3\" >0.08</td>\n",
       "      <td id=\"T_863c5_row1_col4\" class=\"data row1 col4\" >0.27</td>\n",
       "      <td id=\"T_863c5_row1_col5\" class=\"data row1 col5\" >-0.11</td>\n",
       "      <td id=\"T_863c5_row1_col6\" class=\"data row1 col6\" >-0.27</td>\n",
       "      <td id=\"T_863c5_row1_col7\" class=\"data row1 col7\" >0.37</td>\n",
       "      <td id=\"T_863c5_row1_col8\" class=\"data row1 col8\" >0.24</td>\n",
       "      <td id=\"T_863c5_row1_col9\" class=\"data row1 col9\" >0.89</td>\n",
       "      <td id=\"T_863c5_row1_col10\" class=\"data row1 col10\" >0.98</td>\n",
       "      <td id=\"T_863c5_row1_col11\" class=\"data row1 col11\" >0.86</td>\n",
       "      <td id=\"T_863c5_row1_col12\" class=\"data row1 col12\" >0.29</td>\n",
       "      <td id=\"T_863c5_row1_col13\" class=\"data row1 col13\" >n/a</td>\n",
       "    </tr>\n",
       "    <tr>\n",
       "      <th id=\"T_863c5_level0_row2\" class=\"row_heading level0 row2\" >listed foreign public equity</th>\n",
       "      <td id=\"T_863c5_row2_col0\" class=\"data row2 col0\" >0.09</td>\n",
       "      <td id=\"T_863c5_row2_col1\" class=\"data row2 col1\" >0.13</td>\n",
       "      <td id=\"T_863c5_row2_col2\" class=\"data row2 col2\" >0.07</td>\n",
       "      <td id=\"T_863c5_row2_col3\" class=\"data row2 col3\" >0.07</td>\n",
       "      <td id=\"T_863c5_row2_col4\" class=\"data row2 col4\" >0.18</td>\n",
       "      <td id=\"T_863c5_row2_col5\" class=\"data row2 col5\" >-0.91</td>\n",
       "      <td id=\"T_863c5_row2_col6\" class=\"data row2 col6\" >0.59</td>\n",
       "      <td id=\"T_863c5_row2_col7\" class=\"data row2 col7\" >0.30</td>\n",
       "      <td id=\"T_863c5_row2_col8\" class=\"data row2 col8\" >2.69</td>\n",
       "      <td id=\"T_863c5_row2_col9\" class=\"data row2 col9\" >0.26</td>\n",
       "      <td id=\"T_863c5_row2_col10\" class=\"data row2 col10\" >0.93</td>\n",
       "      <td id=\"T_863c5_row2_col11\" class=\"data row2 col11\" >0.12</td>\n",
       "      <td id=\"T_863c5_row2_col12\" class=\"data row2 col12\" >0.50</td>\n",
       "      <td id=\"T_863c5_row2_col13\" class=\"data row2 col13\" >n/a</td>\n",
       "    </tr>\n",
       "    <tr>\n",
       "      <th id=\"T_863c5_level0_row3\" class=\"row_heading level0 row3\" >venture</th>\n",
       "      <td id=\"T_863c5_row3_col0\" class=\"data row3 col0\" >0.06</td>\n",
       "      <td id=\"T_863c5_row3_col1\" class=\"data row3 col1\" >0.09</td>\n",
       "      <td id=\"T_863c5_row3_col2\" class=\"data row3 col2\" >0.04</td>\n",
       "      <td id=\"T_863c5_row3_col3\" class=\"data row3 col3\" >0.05</td>\n",
       "      <td id=\"T_863c5_row3_col4\" class=\"data row3 col4\" >0.20</td>\n",
       "      <td id=\"T_863c5_row3_col5\" class=\"data row3 col5\" >-0.29</td>\n",
       "      <td id=\"T_863c5_row3_col6\" class=\"data row3 col6\" >0.70</td>\n",
       "      <td id=\"T_863c5_row3_col7\" class=\"data row3 col7\" >0.33</td>\n",
       "      <td id=\"T_863c5_row3_col8\" class=\"data row3 col8\" >0.34</td>\n",
       "      <td id=\"T_863c5_row3_col9\" class=\"data row3 col9\" >0.84</td>\n",
       "      <td id=\"T_863c5_row3_col10\" class=\"data row3 col10\" >0.95</td>\n",
       "      <td id=\"T_863c5_row3_col11\" class=\"data row3 col11\" >0.29</td>\n",
       "      <td id=\"T_863c5_row3_col12\" class=\"data row3 col12\" >0.60</td>\n",
       "      <td id=\"T_863c5_row3_col13\" class=\"data row3 col13\" >0.15</td>\n",
       "    </tr>\n",
       "    <tr>\n",
       "      <th id=\"T_863c5_level0_row4\" class=\"row_heading level0 row4\" >listed domestic public equity</th>\n",
       "      <td id=\"T_863c5_row4_col0\" class=\"data row4 col0\" >0.06</td>\n",
       "      <td id=\"T_863c5_row4_col1\" class=\"data row4 col1\" >0.11</td>\n",
       "      <td id=\"T_863c5_row4_col2\" class=\"data row4 col2\" >0.04</td>\n",
       "      <td id=\"T_863c5_row4_col3\" class=\"data row4 col3\" >0.05</td>\n",
       "      <td id=\"T_863c5_row4_col4\" class=\"data row4 col4\" >0.22</td>\n",
       "      <td id=\"T_863c5_row4_col5\" class=\"data row4 col5\" >-0.92</td>\n",
       "      <td id=\"T_863c5_row4_col6\" class=\"data row4 col6\" >0.11</td>\n",
       "      <td id=\"T_863c5_row4_col7\" class=\"data row4 col7\" >0.42</td>\n",
       "      <td id=\"T_863c5_row4_col8\" class=\"data row4 col8\" >2.71</td>\n",
       "      <td id=\"T_863c5_row4_col9\" class=\"data row4 col9\" >0.26</td>\n",
       "      <td id=\"T_863c5_row4_col10\" class=\"data row4 col10\" >0.91</td>\n",
       "      <td id=\"T_863c5_row4_col11\" class=\"data row4 col11\" >0.05</td>\n",
       "      <td id=\"T_863c5_row4_col12\" class=\"data row4 col12\" >0.75</td>\n",
       "      <td id=\"T_863c5_row4_col13\" class=\"data row4 col13\" >0.15</td>\n",
       "    </tr>\n",
       "    <tr>\n",
       "      <th id=\"T_863c5_level0_row5\" class=\"row_heading level0 row5\" >public investment funds</th>\n",
       "      <td id=\"T_863c5_row5_col0\" class=\"data row5 col0\" >0.05</td>\n",
       "      <td id=\"T_863c5_row5_col1\" class=\"data row5 col1\" >0.09</td>\n",
       "      <td id=\"T_863c5_row5_col2\" class=\"data row5 col2\" >0.04</td>\n",
       "      <td id=\"T_863c5_row5_col3\" class=\"data row5 col3\" >0.04</td>\n",
       "      <td id=\"T_863c5_row5_col4\" class=\"data row5 col4\" >0.16</td>\n",
       "      <td id=\"T_863c5_row5_col5\" class=\"data row5 col5\" >-0.77</td>\n",
       "      <td id=\"T_863c5_row5_col6\" class=\"data row5 col6\" >0.17</td>\n",
       "      <td id=\"T_863c5_row5_col7\" class=\"data row5 col7\" >0.27</td>\n",
       "      <td id=\"T_863c5_row5_col8\" class=\"data row5 col8\" >1.90</td>\n",
       "      <td id=\"T_863c5_row5_col9\" class=\"data row5 col9\" >0.39</td>\n",
       "      <td id=\"T_863c5_row5_col10\" class=\"data row5 col10\" >0.94</td>\n",
       "      <td id=\"T_863c5_row5_col11\" class=\"data row5 col11\" >0.16</td>\n",
       "      <td id=\"T_863c5_row5_col12\" class=\"data row5 col12\" >0.66</td>\n",
       "      <td id=\"T_863c5_row5_col13\" class=\"data row5 col13\" >0.15</td>\n",
       "    </tr>\n",
       "    <tr>\n",
       "      <th id=\"T_863c5_level0_row6\" class=\"row_heading level0 row6\" >corporate bonds</th>\n",
       "      <td id=\"T_863c5_row6_col0\" class=\"data row6 col0\" >0.03</td>\n",
       "      <td id=\"T_863c5_row6_col1\" class=\"data row6 col1\" >0.03</td>\n",
       "      <td id=\"T_863c5_row6_col2\" class=\"data row6 col2\" >0.03</td>\n",
       "      <td id=\"T_863c5_row6_col3\" class=\"data row6 col3\" >0.03</td>\n",
       "      <td id=\"T_863c5_row6_col4\" class=\"data row6 col4\" >0.06</td>\n",
       "      <td id=\"T_863c5_row6_col5\" class=\"data row6 col5\" >-0.56</td>\n",
       "      <td id=\"T_863c5_row6_col6\" class=\"data row6 col6\" >2.24</td>\n",
       "      <td id=\"T_863c5_row6_col7\" class=\"data row6 col7\" >0.09</td>\n",
       "      <td id=\"T_863c5_row6_col8\" class=\"data row6 col8\" >3.06</td>\n",
       "      <td id=\"T_863c5_row6_col9\" class=\"data row6 col9\" >0.22</td>\n",
       "      <td id=\"T_863c5_row6_col10\" class=\"data row6 col10\" >0.95</td>\n",
       "      <td id=\"T_863c5_row6_col11\" class=\"data row6 col11\" >0.31</td>\n",
       "      <td id=\"T_863c5_row6_col12\" class=\"data row6 col12\" >0.38</td>\n",
       "      <td id=\"T_863c5_row6_col13\" class=\"data row6 col13\" >n/a</td>\n",
       "    </tr>\n",
       "    <tr>\n",
       "      <th id=\"T_863c5_level0_row7\" class=\"row_heading level0 row7\" >state bonds</th>\n",
       "      <td id=\"T_863c5_row7_col0\" class=\"data row7 col0\" >0.03</td>\n",
       "      <td id=\"T_863c5_row7_col1\" class=\"data row7 col1\" >0.03</td>\n",
       "      <td id=\"T_863c5_row7_col2\" class=\"data row7 col2\" >0.03</td>\n",
       "      <td id=\"T_863c5_row7_col3\" class=\"data row7 col3\" >0.02</td>\n",
       "      <td id=\"T_863c5_row7_col4\" class=\"data row7 col4\" >0.06</td>\n",
       "      <td id=\"T_863c5_row7_col5\" class=\"data row7 col5\" >-1.69</td>\n",
       "      <td id=\"T_863c5_row7_col6\" class=\"data row7 col6\" >5.46</td>\n",
       "      <td id=\"T_863c5_row7_col7\" class=\"data row7 col7\" >0.10</td>\n",
       "      <td id=\"T_863c5_row7_col8\" class=\"data row7 col8\" >24.01</td>\n",
       "      <td id=\"T_863c5_row7_col9\" class=\"data row7 col9\" >0.00</td>\n",
       "      <td id=\"T_863c5_row7_col10\" class=\"data row7 col10\" >0.87</td>\n",
       "      <td id=\"T_863c5_row7_col11\" class=\"data row7 col11\" >0.01</td>\n",
       "      <td id=\"T_863c5_row7_col12\" class=\"data row7 col12\" >0.72</td>\n",
       "      <td id=\"T_863c5_row7_col13\" class=\"data row7 col13\" >0.15</td>\n",
       "    </tr>\n",
       "    <tr>\n",
       "      <th id=\"T_863c5_level0_row8\" class=\"row_heading level0 row8\" >fixed term and savings deposit</th>\n",
       "      <td id=\"T_863c5_row8_col0\" class=\"data row8 col0\" >0.01</td>\n",
       "      <td id=\"T_863c5_row8_col1\" class=\"data row8 col1\" >0.01</td>\n",
       "      <td id=\"T_863c5_row8_col2\" class=\"data row8 col2\" >0.01</td>\n",
       "      <td id=\"T_863c5_row8_col3\" class=\"data row8 col3\" >0.01</td>\n",
       "      <td id=\"T_863c5_row8_col4\" class=\"data row8 col4\" >0.01</td>\n",
       "      <td id=\"T_863c5_row8_col5\" class=\"data row8 col5\" >0.15</td>\n",
       "      <td id=\"T_863c5_row8_col6\" class=\"data row8 col6\" >-1.49</td>\n",
       "      <td id=\"T_863c5_row8_col7\" class=\"data row8 col7\" >-0.00</td>\n",
       "      <td id=\"T_863c5_row8_col8\" class=\"data row8 col8\" >1.95</td>\n",
       "      <td id=\"T_863c5_row8_col9\" class=\"data row8 col9\" >0.38</td>\n",
       "      <td id=\"T_863c5_row8_col10\" class=\"data row8 col10\" >0.90</td>\n",
       "      <td id=\"T_863c5_row8_col11\" class=\"data row8 col11\" >0.03</td>\n",
       "      <td id=\"T_863c5_row8_col12\" class=\"data row8 col12\" >0.72</td>\n",
       "      <td id=\"T_863c5_row8_col13\" class=\"data row8 col13\" >0.15</td>\n",
       "    </tr>\n",
       "    <tr>\n",
       "      <th id=\"T_863c5_level0_row9\" class=\"row_heading level0 row9\" >cash</th>\n",
       "      <td id=\"T_863c5_row9_col0\" class=\"data row9 col0\" >0.00</td>\n",
       "      <td id=\"T_863c5_row9_col1\" class=\"data row9 col1\" >0.00</td>\n",
       "      <td id=\"T_863c5_row9_col2\" class=\"data row9 col2\" >0.00</td>\n",
       "      <td id=\"T_863c5_row9_col3\" class=\"data row9 col3\" >0.00</td>\n",
       "      <td id=\"T_863c5_row9_col4\" class=\"data row9 col4\" >0.00</td>\n",
       "      <td id=\"T_863c5_row9_col5\" class=\"data row9 col5\" >0.00</td>\n",
       "      <td id=\"T_863c5_row9_col6\" class=\"data row9 col6\" >0.00</td>\n",
       "      <td id=\"T_863c5_row9_col7\" class=\"data row9 col7\" >-0.00</td>\n",
       "      <td id=\"T_863c5_row9_col8\" class=\"data row9 col8\" >n/a</td>\n",
       "      <td id=\"T_863c5_row9_col9\" class=\"data row9 col9\" >n/a</td>\n",
       "      <td id=\"T_863c5_row9_col10\" class=\"data row9 col10\" >1.00</td>\n",
       "      <td id=\"T_863c5_row9_col11\" class=\"data row9 col11\" >1.00</td>\n",
       "      <td id=\"T_863c5_row9_col12\" class=\"data row9 col12\" >n/a</td>\n",
       "      <td id=\"T_863c5_row9_col13\" class=\"data row9 col13\" >n/a</td>\n",
       "    </tr>\n",
       "  </tbody>\n",
       "</table>\n"
      ],
      "text/plain": [
       "<pandas.io.formats.style.Styler at 0x7fe8f003cc40>"
      ]
     },
     "metadata": {},
     "output_type": "display_data"
    },
    {
     "data": {
      "image/png": "[encoded data removed]",
      "text/plain": [
       "<Figure size 800x500 with 2 Axes>"
      ]
     },
     "metadata": {},
     "output_type": "display_data"
    },
    {
     "data": {
      "application/vnd.plotly.v1+json": {
       "config": {
        "plotlyServerURL": "https://plot.ly"
       },
       "data": [
        {
         "marker": {
          "color": [
           0.4318765078666308,
           0.5139769302937008,
           0.5716620318872792,
           0.5244487731437415,
           0.5841216240185853,
           0.5474036240258171,
           0.435231942062887,
           0.4526611969219047,
           0.5701033026755181,
           0.5920268176041463,
           0.5279199640124029,
           0.5699122875712941,
           0.5544925433348398,
           0.6990360263824024,
           0.5305466240476381,
           0.5562200896731726,
           0.6022454767148918,
           0.542971093647006,
           0.6022338211285297,
           0.5473461747744628,
           0.5602962197512638,
           0.5562376193344085,
           0.691548955233704,
           0.5326672272377961,
           0.6110673860426202,
           0.6666261475156031,
           0.5826489315656028,
           0.5756151209891996,
           0.5981033465684641,
           0.6508764062185383,
           0.6707466973639787,
           0.5788239279715763,
           0.557146227787505,
           0.6272964796639758,
           0.6211588500886441,
           0.6775783061904341,
           0.7252264554306127,
           0.6530224734945903,
           0.6911770184036241,
           0.6974920175433321,
           0.5241557608430926,
           0.6466562588736875,
           0.3532844239384111,
           0.6307890824397312,
           0.6906797438636981,
           0.6378539019672727,
           0.6797822609827303,
           0.5529451828558066,
           0.664414058282441,
           0.6837718320994333,
           0.681761393764605,
           0.6973026588932529,
           0.6071108656027744,
           0.6663084836579607,
           0.6877619093979441,
           0.691752138217696,
           0.6259654860480663,
           0.6713578912897336,
           0.6870466408489131,
           0.693066079681724,
           0.5926352340780439,
           0.5106107353457919,
           0.682258838529469,
           0.7246153551789237,
           0.8813384578895865,
           0.7449471057027602,
           0.6899733913964141,
           0.686691579738388,
           0.6920831703124452,
           0.5598919236487693,
           0.7513588757954278,
           0.6649070028484025,
           0.9259433831656678,
           0.5937960024912774,
           0.49313760412432717,
           0.6617277642629726,
           0.6839245440093443,
           0.6874349714880252,
           0.669691309101467,
           0.7517972751193318,
           0.613910822004749,
           0.768914125855297,
           0.8127610473778974,
           0.757116115642202,
           0.5683006843687377,
           0.7122795465188587,
           0.7815227465255492,
           0.6813945250081338,
           0.7757054582121932,
           0.9233545433540665,
           0.6490570894875458,
           0.6695245007147177,
           0.6662392426896807,
           0.6953224543022384,
           0.6671800108324694,
           0.6917190294661135,
           0.7571466814138639,
           0.5273945735567868,
           0.7069034629517649,
           0.5821268423340703,
           0.6130241291569098,
           0.5603540907188549,
           0.6575440233522415,
           0.7445474163341435,
           0.6042637460680802,
           0.8856526709715957,
           0.7740373497480446,
           0.6327432255038307,
           0.6501744942997081,
           0.8119645051222374,
           0.6933059196420237,
           0.8444925341845019,
           0.6856758985724466,
           0.6465903146968888,
           0.6467705364735795,
           0.7447105334419247,
           0.8416715710755115,
           0.7495998156665898,
           0.685088133220284,
           0.6809057269821892,
           0.7371800521142509,
           0.8678503063597871,
           0.7138810482724718,
           0.7310852308597371,
           0.7555249940842514,
           0.7124362437910476,
           0.7594909774541941,
           0.7447317956821875,
           0.7024793259527635,
           0.7710524946574835,
           0.7246879509312476,
           0.7655624464434172,
           0.7659807891820426,
           0.7841196755386277,
           0.8286560488119212,
           0.8166731234917313,
           0.493257301354909,
           0.8818927695039229,
           0.8902323144261063,
           0.7317011004102166,
           0.81726340177544,
           0.7593934543787152,
           0.6392651034473521,
           0.7494482855710262,
           0.7778475726364195,
           0.63210950713644,
           0.7723573932915775,
           0.7448282775332394,
           0.8537321698056121,
           0.8676236571031866,
           0.9803670244626409,
           0.7654000961668116,
           0.7588988447604638,
           0.7798842204234574,
           0.8153121853857632,
           0.8222145490865218,
           0.6399511757255423,
           0.37485171543847184,
           0.753497119004063,
           0.7565113790551127,
           0.9641384597690137,
           0.5553263017764156,
           0.7992221042782148,
           0.6390022970158991,
           0.7824655492037874,
           0.6466319685845597,
           0.6447042361091088,
           0.7720682987372484,
           0.8043185777474008,
           0.782218586222179,
           0.7844983664246792,
           0.8098248257659593,
           0.8697420558993879,
           0.7930861527242222,
           0.7484492385845588,
           0.8266671662998849,
           0.6869456557034719,
           0.9388852348273825,
           0.7774603365388527,
           0.8592250741201426,
           0.6153901562582388,
           0.7815563660521326,
           0.8346467529627318,
           0.6601046694421273,
           0.6757973285161819,
           0.9141791350213733,
           0.43406259032450784,
           0.8388207794407962,
           0.6084141145130321,
           0.7663274914279058,
           0.829388040168095,
           0.8175165482493133,
           0.6736783185080709,
           0.998465415565572,
           0.9323610909645239,
           1.104566584379333,
           0.710460486771556,
           0.5697723609064129,
           0.7218139959064177,
           0.905708616258224,
           0.7849359440361089,
           0.7204874856982545,
           0.750326441506486,
           0.6818119490506912,
           0.6033638726902552,
           0.7080648946984053,
           0.669007193390635,
           0.9278214438884559,
           0.8013584067240712,
           0.7037629513174476,
           0.7945883008029082,
           0.7817193467583866,
           0.7996798730238992,
           0.7106546703473762,
           0.7017243915935583,
           0.9073392873421542,
           0.672568000085375,
           0.6272919574927582,
           0.9144487431058607,
           0.8573975665446905,
           0.7260891440832675,
           0.7958285510221748,
           0.8410338854774969,
           0.7185871184839516,
           0.90176424946959,
           0.711504566521838,
           0.8627230968587373,
           0.4253162121302089,
           0.6869293380391055,
           0.7320603953760292,
           0.7563674999507968,
           0.728444819342467,
           0.8115712329519039,
           0.8755070215350768,
           0.7908821083204864,
           0.8106467734206972,
           0.8555777384912208,
           0.9117546111936944,
           0.6764410489477864,
           0.8375903121307375,
           0.2926496212872907,
           0.7016413173188776,
           0.7892079119771583,
           0.917151454287022,
           0.8605691510739929,
           0.7927621926389178,
           0.6922734326717388,
           0.7351079589984696,
           0.906112484103006,
           0.891218471920834,
           0.8995585349660827,
           0.760279552286456,
           0.6786493862975701,
           0.7966763388129481,
           0.9015553963250522,
           0.7893774010827771,
           0.8656713408826708,
           0.7411844277342329,
           0.7402720686896743,
           0.9933012968666307,
           0.7513671489061318,
           0.6900426459064076,
           1.0384920970593086,
           0.9698363546600529,
           0.9699740094707037,
           0.8967886599339516,
           0.9224610594403292,
           0.7885987668928733,
           0.8564793358397348,
           0.8870668816635559,
           0.870796111695454,
           0.7867610155266362,
           0.9339851593007469,
           0.7730779085581253,
           1.0193931272517958,
           0.9466012565343805,
           0.8485351674469519,
           0.9106772608248461,
           0.9579428226969189,
           0.7857455844926519,
           0.7031066938624811,
           1.0515122302335396,
           0.9265515247940409,
           0.7876261858969521,
           0.9539399538678552,
           0.7184252512135264,
           0.8442239360205936,
           0.8475875091804601,
           0.9956875292133479,
           0.9808669383291508,
           0.6790160812460877,
           0.8256885406343298,
           0.7710809070872868,
           0.6770713542689959,
           0.7137290724665609,
           0.8461102843688263,
           0.9449589983971624,
           0.954503967561092,
           0.7993229062791709,
           0.8916602637562421,
           0.9422931283953411,
           0.8523600685158026,
           1.019059159605785,
           1.044143354321657,
           0.7207052905580273,
           0.8658374821991156,
           1.010977842827197,
           1.0196861158394517,
           0.7088368767329605,
           0.9871471008887324,
           0.7242006530662232,
           1.0186840936617552,
           1.0187440989657228,
           0.9633639990109054,
           0.6992715349515852,
           1.0416339941521922,
           0.9722929881770964,
           1.0219324979132582,
           0.7859308435947673,
           1.0024083656773106,
           0.8726487228171991,
           0.8159636826876641,
           0.6908212324013457,
           0.47184511267433993,
           0.7173918371221006,
           0.8946524545894384,
           0.9577217902840073,
           0.858528565697735,
           0.719478681653541,
           0.7840781855556096,
           0.8225754333490285,
           0.7738039009909876,
           0.7427892479731412,
           1.00044825278665,
           0.88037022379859,
           0.8533959971407126,
           0.7118077762609338,
           0.9054598312470804,
           0.7245366767441374,
           0.8661004438569677,
           0.4224171082622034,
           1.051048105116175,
           0.9850522016847851,
           1.002095385614768,
           0.6404848967320075,
           1.019842581872891,
           0.694891324464074,
           0.8183056881916648,
           0.7972767485348325,
           0.8046797820954432,
           0.7541302530905977,
           1.0529430676910514,
           1.024847598276398,
           0.7523472142683355,
           0.7913706531124005,
           0.8058753425345099,
           0.9878158956932362,
           0.6655726660839933,
           0.8350845195709304,
           0.7704719101486894,
           0.7932191913723152,
           0.71075461242069,
           0.4199278883019387,
           0.7166647385909224,
           0.5111595889293271,
           0.8074504977459136,
           0.7127800579515572,
           0.8707758749547809,
           1.0227485780570347,
           0.8330626879748352,
           0.8753129780758022,
           0.7100199697963219,
           1.0058229572586321,
           1.0118528907216606,
           0.7355702729112487,
           0.7274754201990434,
           0.9074596926280072,
           0.9995304592805581,
           0.9829494874946071,
           0.4636459622376481,
           0.8730095724775355,
           0.4275045809236011,
           0.8866739657239558,
           0.7161825158002209,
           1.0510288550170015,
           0.7295009919013247,
           0.6987021529720985,
           0.7120296302811787,
           0.482939666817762,
           0.9417542867906882,
           1.0974864901871126,
           0.7131641313566189,
           1.0791098171652636,
           0.7211582390051958,
           0.7235252160793143,
           0.7298042484713925,
           0.7228012710443821,
           1.0035232029308307,
           0.9869493379890113,
           0.7402646760198016,
           0.8768278162616706,
           0.7340525333707084,
           1.0304293451174908,
           0.6819472548780524,
           0.8534447565764639,
           1.0275824892296295,
           0.663681305996039,
           0.7858927827616248,
           1.0185531175092877,
           1.0578726852753662,
           0.56101547352182,
           0.81227603287296,
           0.9867498394882268,
           0.8880525377213163,
           0.8641252473686536,
           1.1033962973855607,
           0.998792348269945,
           0.9059124412086149,
           0.825589135774723,
           0.9382300221353915,
           0.8349565996599415,
           0.9111381094633839,
           0.6818149042394392,
           0.9657149080964363,
           0.9613252847162929,
           1.0495628951179226,
           0.4871352735337624,
           0.9684214646260308,
           1.05067409612444,
           0.7020606170691472,
           1.0263877018661502,
           1.0082194929499777,
           0.8983718541823097,
           0.4519303563463485,
           0.7144417650435235,
           0.8043785612871727,
           0.7282214116644635,
           0.9193369741323847,
           0.9371297574066664,
           0.8844099978594436,
           0.8830922806967788,
           0.7793689979981955,
           1.0477019703083394,
           1.0492275801539732,
           0.731291076801067,
           0.7667729344969413,
           0.9926825524041911,
           0.9709627607633803,
           1.005246686450941,
           0.4457099771097755,
           0.8899071262805988,
           1.0551710706918895,
           1.0718291232768467,
           1.0752095762733913,
           0.8434762287343117,
           1.0924143698901099,
           0.5011306944181038,
           0.7403185047353044,
           1.041551140585449,
           0.699017031548889,
           0.9023944349130669,
           1.0286671061409645,
           0.830699005037539,
           0.7583822417979471,
           1.040830441746811,
           0.9916382669507676,
           0.7804560671890514,
           0.7322502895215399,
           0.9634794736885509,
           0.8784379016786207,
           0.8007804956990384,
           0.9781772714921779,
           0.9945684172071724,
           0.8284333696453238,
           0.9242541955911162,
           0.9285128823346264,
           1.0684343256884326,
           1.0128308958085874,
           1.0235915974795913,
           1.0529052321461376,
           1.010301972941888,
           0.9737012694257775,
           1.0145505770501848,
           0.9786458590019145,
           0.9058579345386721,
           0.729449835634992,
           0.9794911911046491,
           0.6036716792875859,
           1.05692534435668,
           0.8055558174814589,
           1.05629311612676,
           1.0773963342878055,
           0.8453335785822674,
           0.7863869513329736,
           1.0618946197808172,
           0.7463388804826872,
           0.7000351725748364,
           0.8976354688500033,
           0.8770050550276001,
           1.0910690725001215,
           0.8176066131265202,
           0.8573164029703685,
           0.769029932681082,
           1.0513260603415095,
           0.8403629852988055,
           1.0775276682345838,
           0.7525923465742664,
           1.0615369654450333,
           0.9980604301133036,
           0.9773298459689918,
           0.8395539066244487,
           1.049310407382211,
           0.8802923558409106,
           1.0696974430488135
          ],
          "colorbar": {
           "title": {
            "text": "Sharpe<br>Ratio"
           }
          },
          "colorscale": [
           [
            0,
            "rgb(103,0,31)"
           ],
           [
            0.1,
            "rgb(178,24,43)"
           ],
           [
            0.2,
            "rgb(214,96,77)"
           ],
           [
            0.3,
            "rgb(244,165,130)"
           ],
           [
            0.4,
            "rgb(253,219,199)"
           ],
           [
            0.5,
            "rgb(247,247,247)"
           ],
           [
            0.6,
            "rgb(209,229,240)"
           ],
           [
            0.7,
            "rgb(146,197,222)"
           ],
           [
            0.8,
            "rgb(67,147,195)"
           ],
           [
            0.9,
            "rgb(33,102,172)"
           ],
           [
            1,
            "rgb(5,48,97)"
           ]
          ],
          "line": {
           "width": 1
          },
          "showscale": true,
          "size": 7
         },
         "mode": "markers",
         "text": [
          "['public investment funds' 'corporate bonds' 'other equity instruments'\n 'venture' 'listed domestic public equity' 'cash'\n 'fixed term and savings deposit' 'state bonds' 'buyout'\n 'listed foreign public equity']<br>[0.12 0.19 0.11 0.21 0.09 0.16 0.02 0.   0.03 0.07]",
          "['public investment funds' 'buyout' 'listed foreign public equity'\n 'listed domestic public equity' 'venture' 'corporate bonds' 'state bonds'\n 'other equity instruments' 'fixed term and savings deposit' 'cash']<br>[0.01 0.15 0.08 0.14 0.05 0.19 0.01 0.11 0.07 0.19]",
          "['other equity instruments' 'public investment funds' 'cash' 'buyout'\n 'state bonds' 'venture' 'fixed term and savings deposit'\n 'listed foreign public equity' 'corporate bonds'\n 'listed domestic public equity']<br>[0.2  0.05 0.15 0.15 0.11 0.08 0.04 0.11 0.05 0.06]",
          "['listed foreign public equity' 'other equity instruments'\n 'fixed term and savings deposit' 'cash' 'corporate bonds' 'buyout'\n 'state bonds' 'public investment funds' 'venture'\n 'listed domestic public equity']<br>[0.08 0.08 0.15 0.12 0.08 0.13 0.13 0.12 0.03 0.08]",
          "['cash' 'listed domestic public equity' 'fixed term and savings deposit'\n 'buyout' 'state bonds' 'other equity instruments' 'corporate bonds'\n 'public investment funds' 'listed foreign public equity' 'venture']<br>[0.3  0.02 0.   0.08 0.3  0.05 0.01 0.01 0.17 0.04]",
          "['corporate bonds' 'state bonds' 'cash' 'buyout'\n 'listed foreign public equity' 'listed domestic public equity'\n 'fixed term and savings deposit' 'public investment funds' 'venture'\n 'other equity instruments']<br>[0.18 0.03 0.13 0.09 0.02 0.03 0.05 0.07 0.19 0.19]",
          "['corporate bonds' 'other equity instruments' 'cash' 'venture'\n 'listed foreign public equity' 'state bonds'\n 'fixed term and savings deposit' 'listed domestic public equity' 'buyout'\n 'public investment funds']<br>[0.01 0.08 0.25 0.17 0.11 0.03 0.17 0.07 0.06 0.06]",
          "['cash' 'corporate bonds' 'buyout' 'listed foreign public equity'\n 'state bonds' 'other equity instruments' 'public investment funds'\n 'listed domestic public equity' 'venture'\n 'fixed term and savings deposit']<br>[0.13 0.02 0.03 0.13 0.2  0.11 0.1  0.05 0.03 0.2 ]",
          "['venture' 'other equity instruments' 'buyout'\n 'listed domestic public equity' 'cash' 'fixed term and savings deposit'\n 'state bonds' 'public investment funds' 'corporate bonds'\n 'listed foreign public equity']<br>[0.12 0.04 0.18 0.1  0.18 0.13 0.02 0.05 0.14 0.04]",
          "['listed domestic public equity' 'corporate bonds' 'buyout' 'cash'\n 'other equity instruments' 'venture' 'public investment funds'\n 'state bonds' 'listed foreign public equity'\n 'fixed term and savings deposit']<br>[0.05 0.16 0.19 0.16 0.1  0.1  0.13 0.02 0.06 0.01]",
          "['buyout' 'state bonds' 'cash' 'venture' 'listed foreign public equity'\n 'fixed term and savings deposit' 'corporate bonds'\n 'listed domestic public equity' 'other equity instruments'\n 'public investment funds']<br>[0.12 0.02 0.22 0.07 0.16 0.02 0.03 0.03 0.27 0.05]",
          "['listed foreign public equity' 'listed domestic public equity' 'cash'\n 'buyout' 'other equity instruments' 'public investment funds'\n 'corporate bonds' 'state bonds' 'fixed term and savings deposit'\n 'venture']<br>[0.18 0.04 0.17 0.12 0.04 0.08 0.08 0.15 0.02 0.13]",
          "['venture' 'cash' 'corporate bonds' 'buyout' 'public investment funds'\n 'other equity instruments' 'listed foreign public equity' 'state bonds'\n 'listed domestic public equity' 'fixed term and savings deposit']<br>[0.13 0.16 0.06 0.1  0.08 0.14 0.07 0.14 0.05 0.09]",
          "['corporate bonds' 'public investment funds'\n 'listed domestic public equity' 'fixed term and savings deposit'\n 'other equity instruments' 'venture' 'state bonds' 'cash' 'buyout'\n 'listed foreign public equity']<br>[0.17 0.04 0.02 0.01 0.14 0.14 0.16 0.14 0.17 0.01]",
          "['corporate bonds' 'listed foreign public equity' 'cash' 'buyout'\n 'fixed term and savings deposit' 'other equity instruments' 'state bonds'\n 'listed domestic public equity' 'venture' 'public investment funds']<br>[0.1  0.07 0.19 0.09 0.14 0.01 0.08 0.   0.18 0.14]",
          "['venture' 'listed domestic public equity' 'corporate bonds' 'buyout'\n 'fixed term and savings deposit' 'state bonds' 'other equity instruments'\n 'public investment funds' 'listed foreign public equity' 'cash']<br>[0.02 0.03 0.16 0.17 0.18 0.01 0.   0.16 0.08 0.19]",
          "['fixed term and savings deposit' 'other equity instruments'\n 'public investment funds' 'cash' 'listed foreign public equity' 'venture'\n 'corporate bonds' 'state bonds' 'listed domestic public equity' 'buyout']<br>[0.01 0.11 0.04 0.22 0.08 0.13 0.04 0.01 0.1  0.25]",
          "['venture' 'listed domestic public equity'\n 'fixed term and savings deposit' 'cash' 'corporate bonds' 'state bonds'\n 'other equity instruments' 'buyout' 'listed foreign public equity'\n 'public investment funds']<br>[0.2  0.   0.05 0.18 0.14 0.12 0.07 0.04 0.16 0.03]",
          "['venture' 'buyout' 'listed domestic public equity'\n 'other equity instruments' 'public investment funds'\n 'fixed term and savings deposit' 'state bonds' 'cash' 'corporate bonds'\n 'listed foreign public equity']<br>[0.15 0.09 0.03 0.11 0.   0.14 0.1  0.13 0.15 0.1 ]",
          "['other equity instruments' 'listed foreign public equity' 'cash'\n 'state bonds' 'fixed term and savings deposit' 'corporate bonds'\n 'venture' 'buyout' 'public investment funds'\n 'listed domestic public equity']<br>[0.02 0.1  0.28 0.03 0.1  0.1  0.18 0.13 0.   0.05]",
          "['venture' 'corporate bonds' 'state bonds' 'listed foreign public equity'\n 'listed domestic public equity' 'cash' 'other equity instruments'\n 'public investment funds' 'buyout' 'fixed term and savings deposit']<br>[0.15 0.07 0.1  0.03 0.05 0.15 0.05 0.12 0.13 0.16]",
          "['buyout' 'venture' 'cash' 'corporate bonds' 'public investment funds'\n 'state bonds' 'fixed term and savings deposit'\n 'listed domestic public equity' 'other equity instruments'\n 'listed foreign public equity']<br>[0.18 0.09 0.17 0.05 0.18 0.06 0.06 0.03 0.01 0.17]",
          "['state bonds' 'listed domestic public equity' 'venture' 'buyout'\n 'public investment funds' 'listed foreign public equity'\n 'other equity instruments' 'cash' 'fixed term and savings deposit'\n 'corporate bonds']<br>[0.05 0.01 0.02 0.19 0.06 0.04 0.11 0.2  0.12 0.2 ]",
          "['cash' 'public investment funds' 'buyout' 'corporate bonds'\n 'fixed term and savings deposit' 'listed domestic public equity'\n 'other equity instruments' 'state bonds' 'venture'\n 'listed foreign public equity']<br>[0.24 0.02 0.07 0.   0.16 0.04 0.04 0.17 0.22 0.04]",
          "['corporate bonds' 'cash' 'buyout' 'listed domestic public equity'\n 'other equity instruments' 'public investment funds'\n 'fixed term and savings deposit' 'state bonds' 'venture'\n 'listed foreign public equity']<br>[0.07 0.22 0.16 0.01 0.03 0.04 0.02 0.06 0.19 0.2 ]",
          "['listed domestic public equity' 'cash' 'venture'\n 'fixed term and savings deposit' 'corporate bonds'\n 'public investment funds' 'other equity instruments' 'buyout'\n 'listed foreign public equity' 'state bonds']<br>[0.05 0.14 0.05 0.2  0.17 0.06 0.   0.17 0.03 0.12]",
          "['corporate bonds' 'state bonds' 'listed foreign public equity' 'buyout'\n 'cash' 'listed domestic public equity' 'public investment funds'\n 'fixed term and savings deposit' 'venture' 'other equity instruments']<br>[0.09 0.13 0.13 0.14 0.13 0.04 0.09 0.02 0.08 0.15]",
          "['buyout' 'listed foreign public equity' 'other equity instruments'\n 'venture' 'corporate bonds' 'listed domestic public equity' 'state bonds'\n 'public investment funds' 'fixed term and savings deposit' 'cash']<br>[0.16 0.09 0.14 0.15 0.07 0.11 0.11 0.01 0.03 0.13]",
          "['public investment funds' 'buyout' 'listed domestic public equity'\n 'corporate bonds' 'venture' 'listed foreign public equity'\n 'other equity instruments' 'cash' 'fixed term and savings deposit'\n 'state bonds']<br>[0.03 0.14 0.04 0.13 0.01 0.14 0.16 0.14 0.07 0.14]",
          "['listed domestic public equity' 'corporate bonds'\n 'public investment funds' 'other equity instruments'\n 'listed foreign public equity' 'buyout' 'state bonds' 'cash'\n 'fixed term and savings deposit' 'venture']<br>[0.01 0.09 0.02 0.06 0.17 0.17 0.09 0.18 0.19 0.02]",
          "['listed domestic public equity' 'listed foreign public equity'\n 'state bonds' 'fixed term and savings deposit' 'corporate bonds' 'cash'\n 'venture' 'buyout' 'public investment funds' 'other equity instruments']<br>[0.   0.01 0.2  0.02 0.08 0.26 0.13 0.14 0.1  0.04]",
          "['fixed term and savings deposit' 'other equity instruments' 'venture'\n 'listed domestic public equity' 'state bonds' 'corporate bonds'\n 'public investment funds' 'listed foreign public equity' 'buyout' 'cash']<br>[0.07 0.12 0.02 0.02 0.16 0.   0.15 0.14 0.15 0.16]",
          "['cash' 'public investment funds' 'listed foreign public equity'\n 'listed domestic public equity' 'buyout' 'fixed term and savings deposit'\n 'corporate bonds' 'venture' 'other equity instruments' 'state bonds']<br>[0.13 0.09 0.04 0.12 0.15 0.   0.1  0.15 0.09 0.13]",
          "['listed domestic public equity' 'venture' 'state bonds'\n 'fixed term and savings deposit' 'buyout' 'corporate bonds' 'cash'\n 'public investment funds' 'other equity instruments'\n 'listed foreign public equity']<br>[0.   0.12 0.01 0.13 0.19 0.1  0.12 0.13 0.1  0.1 ]",
          "['state bonds' 'public investment funds' 'listed domestic public equity'\n 'venture' 'corporate bonds' 'other equity instruments'\n 'fixed term and savings deposit' 'buyout' 'cash'\n 'listed foreign public equity']<br>[0.13 0.13 0.02 0.14 0.11 0.01 0.14 0.14 0.14 0.04]",
          "['state bonds' 'cash' 'listed domestic public equity' 'venture' 'buyout'\n 'other equity instruments' 'public investment funds'\n 'listed foreign public equity' 'corporate bonds'\n 'fixed term and savings deposit']<br>[0.13 0.14 0.05 0.01 0.25 0.1  0.08 0.1  0.01 0.13]",
          "['corporate bonds' 'venture' 'cash' 'listed domestic public equity'\n 'listed foreign public equity' 'state bonds' 'other equity instruments'\n 'public investment funds' 'fixed term and savings deposit' 'buyout']<br>[0.16 0.03 0.13 0.   0.02 0.21 0.14 0.11 0.   0.2 ]",
          "['fixed term and savings deposit' 'listed domestic public equity'\n 'state bonds' 'listed foreign public equity' 'other equity instruments'\n 'buyout' 'cash' 'public investment funds' 'corporate bonds' 'venture']<br>[0.09 0.03 0.06 0.02 0.21 0.22 0.13 0.07 0.05 0.13]",
          "['corporate bonds' 'fixed term and savings deposit' 'state bonds'\n 'listed foreign public equity' 'cash' 'public investment funds' 'buyout'\n 'listed domestic public equity' 'other equity instruments' 'venture']<br>[0.1  0.01 0.17 0.01 0.21 0.06 0.2  0.05 0.12 0.07]",
          "['venture' 'listed domestic public equity'\n 'fixed term and savings deposit' 'cash' 'state bonds' 'buyout'\n 'corporate bonds' 'listed foreign public equity'\n 'other equity instruments' 'public investment funds']<br>[0.18 0.01 0.1  0.16 0.18 0.17 0.04 0.1  0.01 0.05]",
          "['state bonds' 'fixed term and savings deposit' 'buyout' 'venture'\n 'other equity instruments' 'public investment funds' 'cash'\n 'corporate bonds' 'listed foreign public equity'\n 'listed domestic public equity']<br>[0.17 0.2  0.06 0.08 0.04 0.03 0.19 0.16 0.03 0.06]",
          "['cash' 'state bonds' 'other equity instruments'\n 'listed foreign public equity' 'buyout' 'corporate bonds'\n 'fixed term and savings deposit' 'public investment funds' 'venture'\n 'listed domestic public equity']<br>[0.13 0.04 0.1  0.02 0.17 0.02 0.23 0.03 0.22 0.03]",
          "['listed foreign public equity' 'public investment funds'\n 'listed domestic public equity' 'state bonds' 'buyout' 'corporate bonds'\n 'fixed term and savings deposit' 'other equity instruments' 'cash'\n 'venture']<br>[0.   0.14 0.03 0.09 0.03 0.08 0.23 0.03 0.28 0.08]",
          "['fixed term and savings deposit' 'corporate bonds' 'buyout'\n 'listed foreign public equity' 'venture' 'public investment funds' 'cash'\n 'listed domestic public equity' 'other equity instruments' 'state bonds']<br>[0.03 0.14 0.2  0.07 0.13 0.18 0.14 0.01 0.05 0.06]",
          "['state bonds' 'public investment funds' 'venture' 'buyout'\n 'other equity instruments' 'listed domestic public equity' 'cash'\n 'listed foreign public equity' 'fixed term and savings deposit'\n 'corporate bonds']<br>[0.21 0.04 0.04 0.1  0.05 0.   0.15 0.09 0.15 0.17]",
          "['cash' 'listed foreign public equity' 'buyout'\n 'listed domestic public equity' 'fixed term and savings deposit'\n 'venture' 'corporate bonds' 'other equity instruments'\n 'public investment funds' 'state bonds']<br>[0.21 0.02 0.15 0.07 0.12 0.09 0.1  0.04 0.03 0.16]",
          "['buyout' 'public investment funds' 'venture' 'corporate bonds'\n 'other equity instruments' 'listed domestic public equity'\n 'fixed term and savings deposit' 'cash' 'listed foreign public equity'\n 'state bonds']<br>[0.21 0.05 0.01 0.08 0.04 0.03 0.15 0.16 0.16 0.13]",
          "['other equity instruments' 'state bonds' 'venture' 'corporate bonds'\n 'listed foreign public equity' 'buyout' 'public investment funds'\n 'fixed term and savings deposit' 'listed domestic public equity' 'cash']<br>[0.2  0.05 0.07 0.07 0.17 0.16 0.01 0.03 0.1  0.14]",
          "['public investment funds' 'state bonds' 'corporate bonds'\n 'fixed term and savings deposit' 'venture' 'other equity instruments'\n 'listed domestic public equity' 'listed foreign public equity' 'buyout'\n 'cash']<br>[0.03 0.17 0.16 0.12 0.04 0.03 0.   0.12 0.11 0.21]",
          "['listed foreign public equity' 'public investment funds' 'venture'\n 'other equity instruments' 'listed domestic public equity' 'cash'\n 'buyout' 'corporate bonds' 'fixed term and savings deposit' 'state bonds']<br>[0.25 0.01 0.06 0.09 0.   0.15 0.23 0.03 0.08 0.11]",
          "['listed foreign public equity' 'corporate bonds'\n 'other equity instruments' 'public investment funds' 'state bonds'\n 'fixed term and savings deposit' 'venture' 'buyout' 'cash'\n 'listed domestic public equity']<br>[0.04 0.05 0.13 0.01 0.07 0.05 0.2  0.22 0.19 0.04]",
          "['public investment funds' 'listed domestic public equity'\n 'listed foreign public equity' 'state bonds' 'buyout'\n 'other equity instruments' 'corporate bonds' 'venture' 'cash'\n 'fixed term and savings deposit']<br>[0.12 0.   0.01 0.14 0.17 0.05 0.09 0.1  0.17 0.16]",
          "['public investment funds' 'corporate bonds'\n 'listed domestic public equity' 'state bonds' 'buyout'\n 'fixed term and savings deposit' 'other equity instruments' 'venture'\n 'listed foreign public equity' 'cash']<br>[0.07 0.03 0.02 0.02 0.18 0.05 0.23 0.19 0.07 0.14]",
          "['buyout' 'other equity instruments' 'fixed term and savings deposit'\n 'state bonds' 'corporate bonds' 'venture' 'public investment funds'\n 'listed foreign public equity' 'listed domestic public equity' 'cash']<br>[0.18 0.1  0.18 0.1  0.1  0.02 0.01 0.12 0.03 0.17]",
          "['cash' 'public investment funds' 'fixed term and savings deposit'\n 'other equity instruments' 'listed domestic public equity' 'state bonds'\n 'buyout' 'corporate bonds' 'venture' 'listed foreign public equity']<br>[0.13 0.03 0.13 0.09 0.   0.12 0.16 0.12 0.11 0.12]",
          "['listed foreign public equity' 'venture' 'fixed term and savings deposit'\n 'corporate bonds' 'listed domestic public equity' 'state bonds'\n 'public investment funds' 'buyout' 'cash' 'other equity instruments']<br>[0.06 0.03 0.24 0.   0.01 0.09 0.   0.2  0.23 0.14]",
          "['state bonds' 'public investment funds' 'listed domestic public equity'\n 'corporate bonds' 'fixed term and savings deposit'\n 'listed foreign public equity' 'venture' 'buyout'\n 'other equity instruments' 'cash']<br>[0.15 0.01 0.06 0.02 0.09 0.17 0.11 0.18 0.05 0.16]",
          "['venture' 'cash' 'fixed term and savings deposit' 'buyout' 'state bonds'\n 'listed foreign public equity' 'corporate bonds'\n 'other equity instruments' 'public investment funds'\n 'listed domestic public equity']<br>[0.2  0.16 0.04 0.18 0.05 0.06 0.14 0.13 0.01 0.02]",
          "['venture' 'other equity instruments' 'corporate bonds' 'buyout'\n 'listed foreign public equity' 'cash' 'public investment funds'\n 'state bonds' 'listed domestic public equity'\n 'fixed term and savings deposit']<br>[0.08 0.06 0.14 0.14 0.11 0.13 0.   0.14 0.02 0.16]",
          "['buyout' 'listed domestic public equity' 'other equity instruments'\n 'state bonds' 'public investment funds' 'corporate bonds'\n 'listed foreign public equity' 'cash' 'fixed term and savings deposit'\n 'venture']<br>[0.25 0.04 0.08 0.04 0.04 0.08 0.04 0.24 0.04 0.16]",
          "['fixed term and savings deposit' 'corporate bonds'\n 'listed foreign public equity' 'cash' 'listed domestic public equity'\n 'venture' 'buyout' 'other equity instruments' 'state bonds'\n 'public investment funds']<br>[0.   0.08 0.05 0.16 0.12 0.14 0.21 0.19 0.06 0.01]",
          "['state bonds' 'cash' 'other equity instruments' 'venture'\n 'corporate bonds' 'fixed term and savings deposit' 'buyout'\n 'public investment funds' 'listed foreign public equity'\n 'listed domestic public equity']<br>[0.21 0.22 0.03 0.08 0.12 0.19 0.06 0.03 0.01 0.05]",
          "['fixed term and savings deposit' 'venture' 'cash'\n 'public investment funds' 'listed foreign public equity'\n 'other equity instruments' 'corporate bonds'\n 'listed domestic public equity' 'buyout' 'state bonds']<br>[0.12 0.09 0.17 0.03 0.07 0.08 0.22 0.03 0.2  0.  ]",
          "['state bonds' 'cash' 'other equity instruments' 'public investment funds'\n 'corporate bonds' 'listed domestic public equity'\n 'listed foreign public equity' 'buyout' 'fixed term and savings deposit'\n 'venture']<br>[0.19 0.17 0.03 0.04 0.2  0.   0.04 0.12 0.08 0.12]",
          "['state bonds' 'corporate bonds' 'listed domestic public equity' 'buyout'\n 'fixed term and savings deposit' 'venture' 'other equity instruments'\n 'listed foreign public equity' 'cash' 'public investment funds']<br>[0.24 0.1  0.02 0.26 0.05 0.06 0.01 0.07 0.15 0.03]",
          "['public investment funds' 'buyout' 'other equity instruments'\n 'state bonds' 'cash' 'fixed term and savings deposit' 'corporate bonds'\n 'venture' 'listed domestic public equity' 'listed foreign public equity']<br>[0.02 0.25 0.   0.01 0.15 0.1  0.17 0.2  0.01 0.09]",
          "['cash' 'other equity instruments' 'corporate bonds'\n 'fixed term and savings deposit' 'listed foreign public equity' 'buyout'\n 'public investment funds' 'listed domestic public equity' 'venture'\n 'state bonds']<br>[0.2  0.08 0.02 0.01 0.19 0.23 0.   0.03 0.12 0.13]",
          "['corporate bonds' 'public investment funds' 'state bonds' 'buyout'\n 'listed foreign public equity' 'listed domestic public equity'\n 'fixed term and savings deposit' 'other equity instruments' 'venture'\n 'cash']<br>[0.   0.05 0.07 0.24 0.07 0.03 0.11 0.12 0.15 0.16]",
          "['other equity instruments' 'cash' 'listed domestic public equity'\n 'venture' 'buyout' 'public investment funds'\n 'listed foreign public equity' 'state bonds' 'corporate bonds'\n 'fixed term and savings deposit']<br>[0.21 0.16 0.01 0.08 0.22 0.07 0.02 0.2  0.01 0.02]",
          "['other equity instruments' 'buyout' 'listed domestic public equity'\n 'state bonds' 'fixed term and savings deposit'\n 'listed foreign public equity' 'corporate bonds' 'cash' 'venture'\n 'public investment funds']<br>[0.22 0.22 0.14 0.02 0.01 0.09 0.04 0.19 0.08 0.  ]",
          "['public investment funds' 'listed domestic public equity' 'state bonds'\n 'venture' 'corporate bonds' 'listed foreign public equity'\n 'other equity instruments' 'buyout' 'cash'\n 'fixed term and savings deposit']<br>[0.03 0.   0.18 0.13 0.07 0.14 0.04 0.21 0.16 0.03]",
          "['listed foreign public equity' 'corporate bonds'\n 'public investment funds' 'listed domestic public equity' 'buyout'\n 'other equity instruments' 'venture' 'state bonds'\n 'fixed term and savings deposit' 'cash']<br>[0.   0.14 0.04 0.04 0.14 0.01 0.11 0.14 0.18 0.19]",
          "['other equity instruments' 'state bonds' 'fixed term and savings deposit'\n 'public investment funds' 'venture' 'listed foreign public equity'\n 'listed domestic public equity' 'corporate bonds' 'buyout' 'cash']<br>[0.06 0.13 0.02 0.02 0.05 0.01 0.   0.11 0.31 0.29]",
          "['fixed term and savings deposit' 'state bonds' 'venture' 'buyout'\n 'corporate bonds' 'listed foreign public equity'\n 'other equity instruments' 'public investment funds'\n 'listed domestic public equity' 'cash']<br>[0.02 0.06 0.01 0.23 0.03 0.03 0.2  0.23 0.01 0.17]",
          "['corporate bonds' 'listed foreign public equity' 'state bonds'\n 'other equity instruments' 'cash' 'venture'\n 'listed domestic public equity' 'public investment funds'\n 'fixed term and savings deposit' 'buyout']<br>[0.06 0.09 0.25 0.01 0.25 0.03 0.06 0.01 0.17 0.06]",
          "['corporate bonds' 'cash' 'listed domestic public equity' 'state bonds'\n 'fixed term and savings deposit' 'buyout' 'public investment funds'\n 'listed foreign public equity' 'venture' 'other equity instruments']<br>[0.09 0.15 0.01 0.13 0.02 0.14 0.   0.09 0.26 0.13]",
          "['cash' 'listed foreign public equity' 'state bonds' 'buyout'\n 'public investment funds' 'venture' 'other equity instruments'\n 'fixed term and savings deposit' 'listed domestic public equity'\n 'corporate bonds']<br>[0.14 0.19 0.16 0.21 0.06 0.1  0.04 0.09 0.01 0.02]",
          "['listed domestic public equity' 'buyout' 'other equity instruments'\n 'cash' 'fixed term and savings deposit' 'public investment funds'\n 'listed foreign public equity' 'venture' 'state bonds' 'corporate bonds']<br>[0.02 0.18 0.07 0.17 0.   0.02 0.13 0.18 0.12 0.11]",
          "['cash' 'corporate bonds' 'listed foreign public equity' 'buyout'\n 'public investment funds' 'other equity instruments' 'venture'\n 'listed domestic public equity' 'state bonds'\n 'fixed term and savings deposit']<br>[0.13 0.   0.15 0.18 0.01 0.21 0.09 0.01 0.21 0.  ]",
          "['state bonds' 'venture' 'public investment funds'\n 'fixed term and savings deposit' 'corporate bonds' 'cash'\n 'listed foreign public equity' 'buyout' 'other equity instruments'\n 'listed domestic public equity']<br>[0.02 0.05 0.   0.01 0.27 0.21 0.06 0.26 0.1  0.03]",
          "['corporate bonds' 'public investment funds'\n 'fixed term and savings deposit' 'listed domestic public equity'\n 'other equity instruments' 'buyout' 'state bonds'\n 'listed foreign public equity' 'cash' 'venture']<br>[0.08 0.01 0.   0.08 0.21 0.2  0.13 0.13 0.13 0.03]",
          "['cash' 'buyout' 'public investment funds' 'corporate bonds'\n 'fixed term and savings deposit' 'other equity instruments' 'state bonds'\n 'venture' 'listed foreign public equity' 'listed domestic public equity']<br>[0.24 0.29 0.05 0.06 0.09 0.01 0.06 0.1  0.09 0.01]",
          "['public investment funds' 'listed domestic public equity' 'venture'\n 'fixed term and savings deposit' 'corporate bonds'\n 'other equity instruments' 'listed foreign public equity' 'state bonds'\n 'cash' 'buyout']<br>[0.04 0.03 0.13 0.09 0.17 0.02 0.   0.17 0.14 0.21]",
          "['fixed term and savings deposit' 'state bonds'\n 'listed domestic public equity' 'listed foreign public equity'\n 'corporate bonds' 'public investment funds' 'other equity instruments'\n 'buyout' 'venture' 'cash']<br>[0.01 0.26 0.06 0.01 0.06 0.11 0.03 0.25 0.1  0.12]",
          "['listed foreign public equity' 'buyout' 'venture'\n 'other equity instruments' 'state bonds' 'cash'\n 'listed domestic public equity' 'public investment funds'\n 'corporate bonds' 'fixed term and savings deposit']<br>[0.01 0.05 0.16 0.03 0.17 0.15 0.04 0.01 0.18 0.2 ]",
          "['public investment funds' 'cash' 'state bonds' 'buyout' 'venture'\n 'listed domestic public equity' 'corporate bonds'\n 'other equity instruments' 'fixed term and savings deposit'\n 'listed foreign public equity']<br>[0.04 0.23 0.1  0.26 0.12 0.05 0.05 0.07 0.   0.07]",
          "['venture' 'listed foreign public equity' 'other equity instruments'\n 'listed domestic public equity' 'public investment funds' 'cash'\n 'state bonds' 'fixed term and savings deposit' 'corporate bonds' 'buyout']<br>[0.07 0.03 0.03 0.01 0.11 0.26 0.07 0.   0.14 0.29]",
          "['cash' 'public investment funds' 'listed foreign public equity'\n 'state bonds' 'listed domestic public equity'\n 'fixed term and savings deposit' 'buyout' 'corporate bonds'\n 'other equity instruments' 'venture']<br>[0.13 0.06 0.04 0.12 0.07 0.02 0.24 0.08 0.05 0.19]",
          "['listed domestic public equity' 'listed foreign public equity'\n 'other equity instruments' 'venture' 'state bonds' 'buyout'\n 'fixed term and savings deposit' 'corporate bonds'\n 'public investment funds' 'cash']<br>[0.01 0.05 0.   0.13 0.08 0.23 0.19 0.04 0.01 0.26]",
          "['corporate bonds' 'venture' 'fixed term and savings deposit' 'cash'\n 'listed foreign public equity' 'other equity instruments'\n 'public investment funds' 'state bonds' 'listed domestic public equity'\n 'buyout']<br>[0.13 0.04 0.01 0.16 0.05 0.02 0.06 0.23 0.01 0.29]",
          "['venture' 'public investment funds' 'corporate bonds'\n 'listed foreign public equity' 'fixed term and savings deposit'\n 'listed domestic public equity' 'cash' 'other equity instruments'\n 'buyout' 'state bonds']<br>[0.04 0.   0.07 0.24 0.05 0.   0.14 0.18 0.19 0.09]",
          "['listed domestic public equity' 'fixed term and savings deposit' 'cash'\n 'listed foreign public equity' 'venture' 'corporate bonds'\n 'public investment funds' 'buyout' 'other equity instruments'\n 'state bonds']<br>[0.02 0.07 0.13 0.18 0.09 0.05 0.   0.22 0.16 0.08]",
          "['listed domestic public equity' 'cash' 'other equity instruments'\n 'listed foreign public equity' 'public investment funds'\n 'fixed term and savings deposit' 'buyout' 'corporate bonds' 'state bonds'\n 'venture']<br>[0.02 0.16 0.11 0.23 0.03 0.   0.23 0.04 0.12 0.06]",
          "['corporate bonds' 'public investment funds' 'buyout'\n 'other equity instruments' 'listed domestic public equity'\n 'listed foreign public equity' 'fixed term and savings deposit' 'cash'\n 'state bonds' 'venture']<br>[0.03 0.03 0.31 0.1  0.12 0.09 0.02 0.12 0.18 0.01]",
          "['listed foreign public equity' 'other equity instruments'\n 'listed domestic public equity' 'cash' 'public investment funds'\n 'corporate bonds' 'buyout' 'fixed term and savings deposit' 'venture'\n 'state bonds']<br>[0.17 0.11 0.01 0.12 0.03 0.01 0.22 0.11 0.15 0.06]",
          "['venture' 'other equity instruments' 'buyout' 'public investment funds'\n 'fixed term and savings deposit' 'corporate bonds'\n 'listed domestic public equity' 'listed foreign public equity'\n 'state bonds' 'cash']<br>[0.07 0.17 0.21 0.11 0.07 0.12 0.01 0.   0.13 0.12]",
          "['cash' 'public investment funds' 'listed foreign public equity'\n 'state bonds' 'corporate bonds' 'buyout' 'venture'\n 'listed domestic public equity' 'fixed term and savings deposit'\n 'other equity instruments']<br>[0.16 0.02 0.03 0.17 0.14 0.16 0.06 0.03 0.18 0.06]",
          "['state bonds' 'public investment funds' 'listed foreign public equity'\n 'cash' 'venture' 'fixed term and savings deposit'\n 'listed domestic public equity' 'corporate bonds' 'buyout'\n 'other equity instruments']<br>[0.05 0.03 0.24 0.12 0.03 0.01 0.12 0.03 0.17 0.2 ]",
          "['public investment funds' 'listed foreign public equity' 'state bonds'\n 'venture' 'corporate bonds' 'listed domestic public equity' 'cash'\n 'fixed term and savings deposit' 'buyout' 'other equity instruments']<br>[0.09 0.02 0.01 0.1  0.09 0.02 0.16 0.15 0.26 0.1 ]",
          "['other equity instruments' 'listed domestic public equity' 'cash'\n 'venture' 'buyout' 'listed foreign public equity'\n 'public investment funds' 'corporate bonds' 'state bonds'\n 'fixed term and savings deposit']<br>[0.04 0.04 0.21 0.11 0.07 0.02 0.01 0.17 0.15 0.17]",
          "['venture' 'other equity instruments' 'listed domestic public equity'\n 'buyout' 'public investment funds' 'state bonds'\n 'fixed term and savings deposit' 'corporate bonds' 'cash'\n 'listed foreign public equity']<br>[0.07 0.14 0.03 0.25 0.18 0.01 0.01 0.06 0.13 0.11]",
          "['other equity instruments' 'fixed term and savings deposit'\n 'corporate bonds' 'listed domestic public equity'\n 'public investment funds' 'state bonds' 'buyout'\n 'listed foreign public equity' 'cash' 'venture']<br>[0.02 0.09 0.24 0.03 0.01 0.32 0.04 0.08 0.16 0.01]",
          "['listed domestic public equity' 'public investment funds'\n 'listed foreign public equity' 'corporate bonds'\n 'other equity instruments' 'state bonds' 'venture' 'cash' 'buyout'\n 'fixed term and savings deposit']<br>[0.03 0.   0.14 0.06 0.24 0.1  0.   0.18 0.24 0.01]",
          "['cash' 'state bonds' 'listed domestic public equity' 'buyout' 'venture'\n 'public investment funds' 'corporate bonds'\n 'fixed term and savings deposit' 'other equity instruments'\n 'listed foreign public equity']<br>[0.13 0.15 0.03 0.23 0.12 0.01 0.11 0.01 0.12 0.09]",
          "['cash' 'other equity instruments' 'listed foreign public equity'\n 'corporate bonds' 'venture' 'state bonds'\n 'fixed term and savings deposit' 'buyout' 'listed domestic public equity'\n 'public investment funds']<br>[0.16 0.11 0.2  0.01 0.02 0.03 0.05 0.27 0.09 0.06]",
          "['state bonds' 'cash' 'buyout' 'other equity instruments'\n 'fixed term and savings deposit' 'listed domestic public equity'\n 'corporate bonds' 'venture' 'public investment funds'\n 'listed foreign public equity']<br>[0.26 0.13 0.26 0.01 0.09 0.01 0.07 0.05 0.09 0.02]",
          "['corporate bonds' 'fixed term and savings deposit' 'venture' 'cash'\n 'other equity instruments' 'listed foreign public equity' 'state bonds'\n 'listed domestic public equity' 'public investment funds' 'buyout']<br>[0.07 0.1  0.08 0.18 0.1  0.04 0.06 0.04 0.03 0.31]",
          "['buyout' 'state bonds' 'fixed term and savings deposit' 'venture'\n 'other equity instruments' 'public investment funds'\n 'listed foreign public equity' 'corporate bonds' 'cash'\n 'listed domestic public equity']<br>[0.12 0.13 0.22 0.04 0.04 0.04 0.07 0.07 0.27 0.  ]",
          "['buyout' 'corporate bonds' 'public investment funds' 'state bonds'\n 'venture' 'listed domestic public equity' 'cash'\n 'fixed term and savings deposit' 'other equity instruments'\n 'listed foreign public equity']<br>[0.29 0.02 0.07 0.03 0.07 0.05 0.18 0.01 0.24 0.03]",
          "['corporate bonds' 'fixed term and savings deposit' 'cash'\n 'other equity instruments' 'public investment funds' 'buyout' 'venture'\n 'listed foreign public equity' 'state bonds'\n 'listed domestic public equity']<br>[0.14 0.2  0.23 0.06 0.02 0.24 0.06 0.01 0.03 0.01]",
          "['corporate bonds' 'other equity instruments'\n 'listed foreign public equity' 'fixed term and savings deposit'\n 'state bonds' 'listed domestic public equity' 'buyout' 'venture'\n 'public investment funds' 'cash']<br>[0.06 0.09 0.15 0.03 0.11 0.01 0.25 0.05 0.1  0.14]",
          "['corporate bonds' 'listed foreign public equity'\n 'listed domestic public equity' 'fixed term and savings deposit'\n 'venture' 'state bonds' 'cash' 'other equity instruments'\n 'public investment funds' 'buyout']<br>[0.12 0.03 0.01 0.17 0.01 0.22 0.22 0.02 0.03 0.17]",
          "['public investment funds' 'state bonds' 'cash'\n 'listed foreign public equity' 'listed domestic public equity'\n 'other equity instruments' 'fixed term and savings deposit' 'buyout'\n 'corporate bonds' 'venture']<br>[0.1  0.16 0.17 0.   0.03 0.01 0.16 0.16 0.19 0.01]",
          "['cash' 'buyout' 'venture' 'listed domestic public equity'\n 'listed foreign public equity' 'public investment funds'\n 'other equity instruments' 'fixed term and savings deposit'\n 'corporate bonds' 'state bonds']<br>[0.14 0.23 0.14 0.02 0.1  0.02 0.22 0.08 0.04 0.02]",
          "['listed domestic public equity' 'corporate bonds'\n 'fixed term and savings deposit' 'state bonds' 'venture'\n 'public investment funds' 'listed foreign public equity' 'cash' 'buyout'\n 'other equity instruments']<br>[0.04 0.1  0.01 0.   0.01 0.06 0.23 0.2  0.29 0.06]",
          "['fixed term and savings deposit' 'listed domestic public equity'\n 'listed foreign public equity' 'venture' 'other equity instruments'\n 'buyout' 'public investment funds' 'state bonds' 'cash' 'corporate bonds']<br>[0.03 0.07 0.   0.02 0.01 0.18 0.03 0.23 0.19 0.23]",
          "['fixed term and savings deposit' 'listed domestic public equity'\n 'public investment funds' 'cash' 'venture' 'listed foreign public equity'\n 'state bonds' 'corporate bonds' 'other equity instruments' 'buyout']<br>[0.1  0.01 0.04 0.16 0.05 0.05 0.25 0.08 0.05 0.21]",
          "['state bonds' 'buyout' 'venture' 'cash' 'other equity instruments'\n 'listed domestic public equity' 'fixed term and savings deposit'\n 'corporate bonds' 'listed foreign public equity'\n 'public investment funds']<br>[0.16 0.16 0.08 0.16 0.02 0.03 0.13 0.17 0.06 0.01]",
          "['public investment funds' 'corporate bonds' 'state bonds' 'venture'\n 'listed domestic public equity' 'other equity instruments'\n 'listed foreign public equity' 'buyout' 'fixed term and savings deposit'\n 'cash']<br>[0.02 0.19 0.19 0.   0.05 0.03 0.04 0.13 0.2  0.14]",
          "['other equity instruments' 'state bonds' 'venture'\n 'listed foreign public equity' 'listed domestic public equity'\n 'corporate bonds' 'cash' 'fixed term and savings deposit' 'buyout'\n 'public investment funds']<br>[0.13 0.06 0.16 0.1  0.02 0.02 0.23 0.01 0.24 0.03]",
          "['public investment funds' 'listed domestic public equity' 'cash'\n 'listed foreign public equity' 'buyout' 'corporate bonds'\n 'fixed term and savings deposit' 'other equity instruments' 'venture'\n 'state bonds']<br>[0.17 0.   0.13 0.05 0.27 0.17 0.05 0.07 0.01 0.09]",
          "['other equity instruments' 'state bonds' 'cash'\n 'listed domestic public equity' 'corporate bonds'\n 'fixed term and savings deposit' 'listed foreign public equity' 'buyout'\n 'public investment funds' 'venture']<br>[0.03 0.12 0.19 0.01 0.11 0.06 0.   0.29 0.01 0.18]",
          "['venture' 'state bonds' 'other equity instruments' 'corporate bonds'\n 'listed foreign public equity' 'buyout' 'public investment funds' 'cash'\n 'listed domestic public equity' 'fixed term and savings deposit']<br>[0.   0.19 0.06 0.1  0.   0.16 0.03 0.2  0.04 0.2 ]",
          "['listed domestic public equity' 'buyout' 'other equity instruments'\n 'cash' 'venture' 'fixed term and savings deposit' 'state bonds'\n 'listed foreign public equity' 'corporate bonds'\n 'public investment funds']<br>[0.05 0.22 0.01 0.13 0.14 0.01 0.23 0.14 0.06 0.  ]",
          "['other equity instruments' 'cash' 'listed domestic public equity'\n 'buyout' 'fixed term and savings deposit' 'state bonds' 'venture'\n 'public investment funds' 'listed foreign public equity'\n 'corporate bonds']<br>[0.03 0.13 0.01 0.27 0.07 0.1  0.22 0.08 0.04 0.06]",
          "['venture' 'cash' 'state bonds' 'listed foreign public equity'\n 'fixed term and savings deposit' 'other equity instruments'\n 'corporate bonds' 'listed domestic public equity' 'buyout'\n 'public investment funds']<br>[0.11 0.22 0.22 0.01 0.12 0.04 0.12 0.04 0.13 0.01]",
          "['venture' 'listed foreign public equity' 'cash' 'public investment funds'\n 'state bonds' 'fixed term and savings deposit' 'corporate bonds' 'buyout'\n 'other equity instruments' 'listed domestic public equity']<br>[0.09 0.13 0.16 0.   0.21 0.   0.05 0.23 0.11 0.02]",
          "['corporate bonds' 'listed foreign public equity'\n 'fixed term and savings deposit' 'buyout' 'state bonds'\n 'listed domestic public equity' 'cash' 'public investment funds'\n 'venture' 'other equity instruments']<br>[0.13 0.01 0.2  0.18 0.15 0.05 0.2  0.01 0.03 0.05]",
          "['listed domestic public equity' 'buyout' 'listed foreign public equity'\n 'fixed term and savings deposit' 'cash' 'corporate bonds' 'state bonds'\n 'public investment funds' 'other equity instruments' 'venture']<br>[0.08 0.29 0.   0.03 0.13 0.16 0.07 0.02 0.2  0.02]",
          "['listed foreign public equity' 'corporate bonds'\n 'listed domestic public equity' 'cash' 'state bonds'\n 'fixed term and savings deposit' 'buyout' 'other equity instruments'\n 'venture' 'public investment funds']<br>[0.06 0.16 0.04 0.21 0.13 0.15 0.21 0.02 0.04 0.  ]",
          "['listed domestic public equity' 'venture' 'corporate bonds' 'buyout'\n 'state bonds' 'cash' 'public investment funds' 'other equity instruments'\n 'listed foreign public equity' 'fixed term and savings deposit']<br>[0.04 0.1  0.04 0.26 0.14 0.16 0.   0.1  0.13 0.02]",
          "['public investment funds' 'cash' 'corporate bonds'\n 'listed domestic public equity' 'fixed term and savings deposit'\n 'other equity instruments' 'listed foreign public equity' 'buyout'\n 'venture' 'state bonds']<br>[0.01 0.27 0.03 0.02 0.03 0.04 0.03 0.28 0.22 0.07]",
          "['venture' 'state bonds' 'buyout' 'listed foreign public equity'\n 'listed domestic public equity' 'cash' 'public investment funds'\n 'fixed term and savings deposit' 'other equity instruments'\n 'corporate bonds']<br>[0.2  0.08 0.27 0.11 0.03 0.13 0.01 0.02 0.01 0.15]",
          "['listed domestic public equity' 'venture' 'public investment funds'\n 'fixed term and savings deposit' 'cash' 'state bonds'\n 'listed foreign public equity' 'corporate bonds' 'buyout'\n 'other equity instruments']<br>[0.03 0.03 0.01 0.09 0.24 0.11 0.   0.3  0.18 0.  ]",
          "['public investment funds' 'cash' 'other equity instruments' 'buyout'\n 'fixed term and savings deposit' 'listed foreign public equity'\n 'corporate bonds' 'venture' 'listed domestic public equity' 'state bonds']<br>[0.03 0.16 0.   0.27 0.01 0.04 0.1  0.15 0.04 0.19]",
          "['listed domestic public equity' 'fixed term and savings deposit'\n 'venture' 'buyout' 'other equity instruments' 'state bonds'\n 'public investment funds' 'cash' 'corporate bonds'\n 'listed foreign public equity']<br>[0.03 0.21 0.08 0.21 0.04 0.23 0.02 0.15 0.   0.04]",
          "['venture' 'cash' 'listed domestic public equity'\n 'public investment funds' 'fixed term and savings deposit'\n 'listed foreign public equity' 'corporate bonds'\n 'other equity instruments' 'state bonds' 'buyout']<br>[0.02 0.17 0.02 0.   0.29 0.04 0.26 0.04 0.12 0.03]",
          "['venture' 'fixed term and savings deposit' 'public investment funds'\n 'cash' 'listed foreign public equity' 'state bonds'\n 'listed domestic public equity' 'other equity instruments'\n 'corporate bonds' 'buyout']<br>[0.07 0.26 0.01 0.19 0.02 0.05 0.02 0.01 0.08 0.3 ]",
          "['cash' 'venture' 'state bonds' 'listed foreign public equity'\n 'fixed term and savings deposit' 'corporate bonds'\n 'other equity instruments' 'public investment funds' 'buyout'\n 'listed domestic public equity']<br>[0.25 0.1  0.18 0.02 0.02 0.11 0.   0.01 0.28 0.03]",
          "['venture' 'listed foreign public equity' 'fixed term and savings deposit'\n 'cash' 'state bonds' 'listed domestic public equity' 'buyout'\n 'other equity instruments' 'corporate bonds' 'public investment funds']<br>[0.01 0.07 0.04 0.17 0.03 0.02 0.3  0.18 0.14 0.03]",
          "['cash' 'corporate bonds' 'state bonds' 'buyout'\n 'listed domestic public equity' 'public investment funds'\n 'other equity instruments' 'fixed term and savings deposit'\n 'listed foreign public equity' 'venture']<br>[0.13 0.17 0.18 0.19 0.03 0.   0.04 0.18 0.04 0.04]",
          "['other equity instruments' 'state bonds' 'public investment funds' 'cash'\n 'fixed term and savings deposit' 'venture'\n 'listed domestic public equity' 'buyout' 'listed foreign public equity'\n 'corporate bonds']<br>[0.12 0.2  0.01 0.15 0.05 0.16 0.   0.2  0.06 0.04]",
          "['corporate bonds' 'fixed term and savings deposit' 'cash' 'buyout'\n 'public investment funds' 'other equity instruments' 'venture'\n 'listed foreign public equity' 'state bonds'\n 'listed domestic public equity']<br>[0.02 0.03 0.13 0.24 0.05 0.28 0.04 0.01 0.14 0.06]",
          "['listed foreign public equity' 'other equity instruments' 'state bonds'\n 'public investment funds' 'buyout' 'corporate bonds' 'venture'\n 'listed domestic public equity' 'cash' 'fixed term and savings deposit']<br>[0.11 0.07 0.07 0.06 0.25 0.17 0.05 0.01 0.14 0.07]",
          "['cash' 'public investment funds' 'fixed term and savings deposit'\n 'listed domestic public equity' 'listed foreign public equity' 'venture'\n 'buyout' 'other equity instruments' 'state bonds' 'corporate bonds']<br>[0.15 0.03 0.01 0.02 0.01 0.07 0.24 0.16 0.22 0.09]",
          "['other equity instruments' 'venture' 'fixed term and savings deposit'\n 'state bonds' 'corporate bonds' 'public investment funds' 'buyout'\n 'listed foreign public equity' 'cash' 'listed domestic public equity']<br>[0.   0.02 0.28 0.24 0.01 0.01 0.09 0.08 0.25 0.01]",
          "['listed domestic public equity' 'cash' 'public investment funds'\n 'other equity instruments' 'fixed term and savings deposit' 'buyout'\n 'state bonds' 'listed foreign public equity' 'venture' 'corporate bonds']<br>[0.03 0.17 0.02 0.01 0.25 0.2  0.04 0.01 0.04 0.23]",
          "['cash' 'state bonds' 'venture' 'listed foreign public equity'\n 'listed domestic public equity' 'public investment funds'\n 'other equity instruments' 'buyout' 'corporate bonds'\n 'fixed term and savings deposit']<br>[0.14 0.24 0.   0.06 0.03 0.03 0.01 0.15 0.25 0.1 ]",
          "['corporate bonds' 'listed foreign public equity' 'buyout'\n 'listed domestic public equity' 'state bonds' 'other equity instruments'\n 'venture' 'fixed term and savings deposit' 'cash'\n 'public investment funds']<br>[0.18 0.07 0.22 0.01 0.14 0.02 0.01 0.16 0.18 0.01]",
          "['corporate bonds' 'public investment funds' 'state bonds' 'buyout'\n 'fixed term and savings deposit' 'venture' 'listed foreign public equity'\n 'other equity instruments' 'cash' 'listed domestic public equity']<br>[0.03 0.06 0.19 0.32 0.05 0.07 0.01 0.11 0.15 0.01]",
          "['listed foreign public equity' 'cash' 'state bonds'\n 'fixed term and savings deposit' 'listed domestic public equity' 'buyout'\n 'other equity instruments' 'corporate bonds' 'public investment funds'\n 'venture']<br>[0.04 0.2  0.27 0.12 0.   0.28 0.04 0.   0.03 0.01]",
          "['venture' 'fixed term and savings deposit' 'corporate bonds'\n 'listed foreign public equity' 'state bonds'\n 'listed domestic public equity' 'other equity instruments' 'cash'\n 'buyout' 'public investment funds']<br>[0.08 0.08 0.2  0.01 0.15 0.   0.03 0.24 0.15 0.05]",
          "['cash' 'buyout' 'listed foreign public equity' 'corporate bonds'\n 'venture' 'listed domestic public equity' 'public investment funds'\n 'state bonds' 'other equity instruments' 'fixed term and savings deposit']<br>[0.18 0.15 0.04 0.13 0.1  0.03 0.   0.18 0.   0.19]",
          "['venture' 'buyout' 'state bonds' 'corporate bonds' 'cash'\n 'other equity instruments' 'public investment funds'\n 'listed domestic public equity' 'fixed term and savings deposit'\n 'listed foreign public equity']<br>[0.17 0.15 0.17 0.12 0.17 0.03 0.01 0.01 0.16 0.02]",
          "['corporate bonds' 'cash' 'listed foreign public equity' 'buyout'\n 'venture' 'state bonds' 'public investment funds'\n 'other equity instruments' 'listed domestic public equity'\n 'fixed term and savings deposit']<br>[0.06 0.22 0.02 0.17 0.19 0.27 0.01 0.01 0.01 0.04]",
          "['other equity instruments' 'listed domestic public equity' 'buyout'\n 'state bonds' 'fixed term and savings deposit'\n 'listed foreign public equity' 'venture' 'cash' 'public investment funds'\n 'corporate bonds']<br>[0.01 0.04 0.33 0.17 0.04 0.11 0.1  0.16 0.01 0.03]",
          "['fixed term and savings deposit' 'corporate bonds' 'buyout' 'state bonds'\n 'listed domestic public equity' 'venture' 'public investment funds'\n 'cash' 'other equity instruments' 'listed foreign public equity']<br>[0.04 0.05 0.24 0.07 0.07 0.14 0.01 0.13 0.26 0.  ]",
          "['state bonds' 'corporate bonds' 'buyout' 'public investment funds'\n 'listed domestic public equity' 'cash' 'listed foreign public equity'\n 'other equity instruments' 'venture' 'fixed term and savings deposit']<br>[0.32 0.1  0.02 0.07 0.   0.27 0.04 0.01 0.   0.18]",
          "['listed domestic public equity' 'corporate bonds'\n 'fixed term and savings deposit' 'buyout' 'state bonds' 'cash'\n 'public investment funds' 'listed foreign public equity'\n 'other equity instruments' 'venture']<br>[0.01 0.17 0.02 0.22 0.17 0.13 0.08 0.03 0.12 0.06]",
          "['cash' 'listed domestic public equity' 'venture' 'corporate bonds'\n 'public investment funds' 'fixed term and savings deposit' 'state bonds'\n 'other equity instruments' 'buyout' 'listed foreign public equity']<br>[0.13 0.04 0.1  0.13 0.03 0.06 0.06 0.1  0.29 0.06]",
          "['cash' 'listed foreign public equity' 'public investment funds'\n 'other equity instruments' 'buyout' 'state bonds' 'corporate bonds'\n 'listed domestic public equity' 'fixed term and savings deposit'\n 'venture']<br>[0.13 0.02 0.07 0.05 0.31 0.32 0.03 0.01 0.04 0.01]",
          "['other equity instruments' 'fixed term and savings deposit'\n 'corporate bonds' 'listed foreign public equity' 'buyout' 'state bonds'\n 'listed domestic public equity' 'public investment funds' 'venture'\n 'cash']<br>[0.29 0.02 0.03 0.08 0.24 0.03 0.15 0.   0.01 0.14]",
          "['other equity instruments' 'corporate bonds'\n 'listed domestic public equity' 'listed foreign public equity' 'cash'\n 'buyout' 'fixed term and savings deposit' 'venture'\n 'public investment funds' 'state bonds']<br>[0.04 0.01 0.01 0.07 0.3  0.17 0.16 0.   0.   0.24]",
          "['buyout' 'venture' 'public investment funds' 'other equity instruments'\n 'corporate bonds' 'fixed term and savings deposit'\n 'listed foreign public equity' 'cash' 'listed domestic public equity'\n 'state bonds']<br>[0.2  0.1  0.   0.23 0.07 0.01 0.17 0.14 0.01 0.06]",
          "['venture' 'other equity instruments' 'cash' 'public investment funds'\n 'listed foreign public equity' 'listed domestic public equity'\n 'state bonds' 'fixed term and savings deposit' 'buyout' 'corporate bonds']<br>[0.05 0.07 0.2  0.   0.01 0.   0.19 0.15 0.14 0.2 ]",
          "['cash' 'fixed term and savings deposit' 'listed domestic public equity'\n 'state bonds' 'other equity instruments' 'public investment funds'\n 'corporate bonds' 'listed foreign public equity' 'buyout' 'venture']<br>[0.12 0.06 0.05 0.01 0.03 0.07 0.09 0.22 0.29 0.06]",
          "['buyout' 'fixed term and savings deposit' 'venture'\n 'listed domestic public equity' 'state bonds' 'other equity instruments'\n 'cash' 'corporate bonds' 'listed foreign public equity'\n 'public investment funds']<br>[0.24 0.07 0.03 0.   0.03 0.24 0.17 0.02 0.16 0.04]",
          "['listed foreign public equity' 'fixed term and savings deposit' 'cash'\n 'other equity instruments' 'buyout' 'state bonds'\n 'listed domestic public equity' 'public investment funds' 'venture'\n 'corporate bonds']<br>[0.04 0.03 0.12 0.05 0.29 0.03 0.02 0.01 0.24 0.16]",
          "['state bonds' 'other equity instruments' 'cash' 'public investment funds'\n 'listed foreign public equity' 'buyout' 'fixed term and savings deposit'\n 'listed domestic public equity' 'venture' 'corporate bonds']<br>[0.27 0.06 0.27 0.02 0.05 0.17 0.03 0.01 0.02 0.11]",
          "['buyout' 'public investment funds' 'other equity instruments' 'cash'\n 'listed foreign public equity' 'corporate bonds' 'state bonds' 'venture'\n 'listed domestic public equity' 'fixed term and savings deposit']<br>[0.17 0.03 0.01 0.24 0.04 0.21 0.13 0.07 0.   0.1 ]",
          "['public investment funds' 'listed domestic public equity'\n 'listed foreign public equity' 'cash' 'state bonds' 'venture' 'buyout'\n 'fixed term and savings deposit' 'other equity instruments'\n 'corporate bonds']<br>[0.05 0.01 0.   0.16 0.19 0.04 0.15 0.21 0.04 0.14]",
          "['other equity instruments' 'cash' 'listed foreign public equity'\n 'fixed term and savings deposit' 'public investment funds'\n 'listed domestic public equity' 'state bonds' 'venture' 'corporate bonds'\n 'buyout']<br>[0.01 0.22 0.03 0.15 0.09 0.   0.22 0.02 0.06 0.2 ]",
          "['listed foreign public equity' 'corporate bonds' 'state bonds'\n 'fixed term and savings deposit' 'cash' 'other equity instruments'\n 'buyout' 'public investment funds' 'listed domestic public equity'\n 'venture']<br>[0.05 0.07 0.27 0.02 0.14 0.13 0.28 0.01 0.01 0.02]",
          "['state bonds' 'public investment funds' 'venture'\n 'listed foreign public equity' 'corporate bonds' 'buyout'\n 'listed domestic public equity' 'other equity instruments'\n 'fixed term and savings deposit' 'cash']<br>[0.17 0.02 0.03 0.01 0.07 0.19 0.04 0.04 0.22 0.2 ]",
          "['public investment funds' 'other equity instruments' 'state bonds'\n 'corporate bonds' 'fixed term and savings deposit' 'venture'\n 'listed foreign public equity' 'cash' 'buyout'\n 'listed domestic public equity']<br>[0.   0.16 0.08 0.14 0.04 0.07 0.05 0.13 0.28 0.04]",
          "['other equity instruments' 'public investment funds'\n 'listed foreign public equity' 'buyout' 'listed domestic public equity'\n 'fixed term and savings deposit' 'cash' 'venture' 'corporate bonds'\n 'state bonds']<br>[0.01 0.   0.08 0.18 0.   0.18 0.24 0.01 0.13 0.18]",
          "['listed domestic public equity' 'cash' 'other equity instruments'\n 'public investment funds' 'venture' 'buyout' 'corporate bonds'\n 'listed foreign public equity' 'fixed term and savings deposit'\n 'state bonds']<br>[0.03 0.14 0.26 0.02 0.   0.26 0.02 0.09 0.   0.17]",
          "['listed foreign public equity' 'buyout' 'corporate bonds'\n 'public investment funds' 'fixed term and savings deposit' 'cash'\n 'other equity instruments' 'state bonds' 'venture'\n 'listed domestic public equity']<br>[0.05 0.23 0.17 0.   0.16 0.16 0.03 0.18 0.01 0.  ]",
          "['corporate bonds' 'venture' 'fixed term and savings deposit'\n 'state bonds' 'cash' 'public investment funds' 'other equity instruments'\n 'buyout' 'listed domestic public equity' 'listed foreign public equity']<br>[0.02 0.04 0.02 0.26 0.13 0.02 0.17 0.24 0.   0.1 ]",
          "['listed domestic public equity' 'listed foreign public equity' 'buyout'\n 'fixed term and savings deposit' 'public investment funds' 'state bonds'\n 'venture' 'corporate bonds' 'cash' 'other equity instruments']<br>[0.01 0.01 0.19 0.16 0.01 0.16 0.11 0.15 0.2  0.  ]",
          "['listed foreign public equity' 'public investment funds' 'venture' 'cash'\n 'fixed term and savings deposit' 'corporate bonds'\n 'listed domestic public equity' 'other equity instruments' 'state bonds'\n 'buyout']<br>[0.14 0.06 0.   0.12 0.05 0.06 0.13 0.1  0.01 0.32]",
          "['public investment funds' 'state bonds' 'buyout'\n 'fixed term and savings deposit' 'listed foreign public equity' 'cash'\n 'listed domestic public equity' 'venture' 'corporate bonds'\n 'other equity instruments']<br>[0.   0.1  0.29 0.07 0.07 0.15 0.01 0.09 0.05 0.16]",
          "['cash' 'listed domestic public equity' 'state bonds'\n 'other equity instruments' 'corporate bonds' 'venture' 'buyout'\n 'listed foreign public equity' 'public investment funds'\n 'fixed term and savings deposit']<br>[0.2  0.01 0.11 0.   0.17 0.13 0.2  0.02 0.01 0.16]",
          "['cash' 'buyout' 'corporate bonds' 'public investment funds'\n 'other equity instruments' 'state bonds' 'fixed term and savings deposit'\n 'listed foreign public equity' 'listed domestic public equity' 'venture']<br>[0.17 0.31 0.   0.   0.2  0.06 0.03 0.13 0.08 0.01]",
          "['cash' 'public investment funds' 'fixed term and savings deposit'\n 'venture' 'corporate bonds' 'listed foreign public equity' 'state bonds'\n 'buyout' 'other equity instruments' 'listed domestic public equity']<br>[0.27 0.01 0.21 0.1  0.05 0.01 0.21 0.09 0.04 0.  ]",
          "['buyout' 'fixed term and savings deposit' 'venture' 'corporate bonds'\n 'listed domestic public equity' 'other equity instruments' 'cash'\n 'listed foreign public equity' 'state bonds' 'public investment funds']<br>[0.23 0.17 0.   0.11 0.01 0.05 0.19 0.04 0.2  0.  ]",
          "['buyout' 'listed foreign public equity' 'venture'\n 'public investment funds' 'other equity instruments'\n 'fixed term and savings deposit' 'corporate bonds' 'state bonds'\n 'listed domestic public equity' 'cash']<br>[0.04 0.   0.03 0.06 0.   0.24 0.07 0.29 0.01 0.25]",
          "['venture' 'cash' 'listed domestic public equity'\n 'listed foreign public equity' 'other equity instruments'\n 'corporate bonds' 'fixed term and savings deposit' 'buyout'\n 'public investment funds' 'state bonds']<br>[0.06 0.15 0.01 0.02 0.03 0.03 0.25 0.19 0.06 0.22]",
          "['buyout' 'venture' 'listed domestic public equity' 'cash' 'state bonds'\n 'listed foreign public equity' 'other equity instruments'\n 'corporate bonds' 'fixed term and savings deposit'\n 'public investment funds']<br>[0.27 0.03 0.08 0.13 0.03 0.14 0.22 0.01 0.05 0.05]",
          "['venture' 'cash' 'public investment funds'\n 'listed domestic public equity' 'corporate bonds' 'buyout'\n 'fixed term and savings deposit' 'state bonds' 'other equity instruments'\n 'listed foreign public equity']<br>[0.05 0.13 0.01 0.   0.22 0.1  0.2  0.24 0.04 0.01]",
          "['venture' 'corporate bonds' 'other equity instruments'\n 'listed domestic public equity' 'public investment funds' 'cash'\n 'state bonds' 'buyout' 'listed foreign public equity'\n 'fixed term and savings deposit']<br>[0.1  0.08 0.03 0.   0.06 0.16 0.21 0.18 0.   0.19]",
          "['buyout' 'listed domestic public equity' 'cash'\n 'listed foreign public equity' 'venture' 'fixed term and savings deposit'\n 'other equity instruments' 'public investment funds' 'state bonds'\n 'corporate bonds']<br>[0.17 0.01 0.15 0.08 0.05 0.22 0.02 0.   0.2  0.11]",
          "['state bonds' 'listed foreign public equity' 'cash' 'buyout'\n 'public investment funds' 'fixed term and savings deposit' 'venture'\n 'other equity instruments' 'corporate bonds'\n 'listed domestic public equity']<br>[0.08 0.28 0.13 0.28 0.03 0.02 0.05 0.05 0.05 0.03]",
          "['listed domestic public equity' 'public investment funds'\n 'other equity instruments' 'venture' 'buyout' 'corporate bonds'\n 'state bonds' 'fixed term and savings deposit' 'cash'\n 'listed foreign public equity']<br>[0.02 0.03 0.02 0.03 0.29 0.01 0.25 0.15 0.2  0.02]",
          "['listed domestic public equity' 'other equity instruments'\n 'corporate bonds' 'cash' 'public investment funds' 'state bonds' 'buyout'\n 'fixed term and savings deposit' 'listed foreign public equity' 'venture']<br>[0.03 0.05 0.18 0.13 0.   0.24 0.26 0.06 0.03 0.03]",
          "['corporate bonds' 'cash' 'listed foreign public equity'\n 'fixed term and savings deposit' 'listed domestic public equity'\n 'state bonds' 'buyout' 'venture' 'public investment funds'\n 'other equity instruments']<br>[0.16 0.13 0.01 0.15 0.01 0.25 0.27 0.01 0.01 0.  ]",
          "['listed foreign public equity' 'public investment funds'\n 'other equity instruments' 'fixed term and savings deposit' 'cash'\n 'buyout' 'venture' 'state bonds' 'corporate bonds'\n 'listed domestic public equity']<br>[0.17 0.1  0.08 0.01 0.13 0.31 0.12 0.06 0.01 0.01]",
          "['venture' 'corporate bonds' 'public investment funds' 'buyout' 'cash'\n 'listed domestic public equity' 'fixed term and savings deposit'\n 'listed foreign public equity' 'state bonds' 'other equity instruments']<br>[0.07 0.12 0.01 0.06 0.27 0.   0.25 0.01 0.19 0.02]",
          "['cash' 'listed domestic public equity' 'buyout'\n 'fixed term and savings deposit' 'state bonds' 'venture'\n 'listed foreign public equity' 'public investment funds'\n 'other equity instruments' 'corporate bonds']<br>[0.12 0.08 0.33 0.1  0.01 0.08 0.02 0.02 0.15 0.1 ]",
          "['venture' 'public investment funds' 'state bonds'\n 'listed domestic public equity' 'buyout' 'cash'\n 'fixed term and savings deposit' 'other equity instruments'\n 'listed foreign public equity' 'corporate bonds']<br>[0.06 0.02 0.12 0.   0.21 0.23 0.13 0.01 0.   0.22]",
          "['fixed term and savings deposit' 'listed foreign public equity'\n 'other equity instruments' 'corporate bonds' 'buyout' 'cash' 'venture'\n 'public investment funds' 'listed domestic public equity' 'state bonds']<br>[0.05 0.1  0.07 0.13 0.33 0.16 0.13 0.03 0.01 0.01]",
          "['state bonds' 'public investment funds' 'cash' 'corporate bonds'\n 'fixed term and savings deposit' 'buyout' 'listed foreign public equity'\n 'listed domestic public equity' 'other equity instruments' 'venture']<br>[0.07 0.01 0.2  0.04 0.01 0.28 0.09 0.01 0.19 0.09]",
          "['other equity instruments' 'buyout' 'corporate bonds' 'state bonds'\n 'public investment funds' 'cash' 'listed foreign public equity'\n 'fixed term and savings deposit' 'listed domestic public equity'\n 'venture']<br>[0.13 0.29 0.14 0.07 0.01 0.14 0.16 0.02 0.01 0.04]",
          "['public investment funds' 'fixed term and savings deposit'\n 'listed foreign public equity' 'venture' 'other equity instruments'\n 'cash' 'buyout' 'listed domestic public equity' 'state bonds'\n 'corporate bonds']<br>[0.02 0.26 0.01 0.05 0.01 0.2  0.08 0.01 0.28 0.08]",
          "['other equity instruments' 'listed foreign public equity'\n 'public investment funds' 'state bonds' 'buyout'\n 'listed domestic public equity' 'fixed term and savings deposit'\n 'corporate bonds' 'venture' 'cash']<br>[0.22 0.23 0.01 0.04 0.22 0.06 0.   0.04 0.05 0.13]",
          "['fixed term and savings deposit' 'corporate bonds' 'state bonds' 'buyout'\n 'public investment funds' 'listed foreign public equity'\n 'other equity instruments' 'cash' 'listed domestic public equity'\n 'venture']<br>[0.   0.03 0.04 0.27 0.01 0.12 0.12 0.14 0.01 0.26]",
          "['other equity instruments' 'fixed term and savings deposit'\n 'public investment funds' 'buyout' 'corporate bonds' 'cash'\n 'listed foreign public equity' 'venture' 'state bonds'\n 'listed domestic public equity']<br>[0.2  0.07 0.01 0.29 0.   0.14 0.25 0.02 0.02 0.01]",
          "['fixed term and savings deposit' 'cash' 'listed domestic public equity'\n 'state bonds' 'listed foreign public equity' 'other equity instruments'\n 'public investment funds' 'venture' 'buyout' 'corporate bonds']<br>[0.18 0.12 0.02 0.2  0.03 0.06 0.01 0.01 0.27 0.1 ]",
          "['listed domestic public equity' 'venture' 'public investment funds'\n 'other equity instruments' 'cash' 'fixed term and savings deposit'\n 'corporate bonds' 'buyout' 'state bonds' 'listed foreign public equity']<br>[0.01 0.08 0.03 0.08 0.18 0.03 0.19 0.32 0.01 0.06]",
          "['other equity instruments' 'cash' 'listed domestic public equity'\n 'state bonds' 'venture' 'corporate bonds' 'listed foreign public equity'\n 'public investment funds' 'fixed term and savings deposit' 'buyout']<br>[0.21 0.17 0.02 0.05 0.12 0.06 0.02 0.06 0.01 0.28]",
          "['public investment funds' 'state bonds' 'corporate bonds' 'cash'\n 'listed domestic public equity' 'buyout' 'venture'\n 'other equity instruments' 'fixed term and savings deposit'\n 'listed foreign public equity']<br>[0.02 0.26 0.   0.3  0.01 0.14 0.   0.04 0.21 0.  ]",
          "['listed foreign public equity' 'fixed term and savings deposit'\n 'other equity instruments' 'corporate bonds'\n 'listed domestic public equity' 'state bonds' 'venture' 'buyout' 'cash'\n 'public investment funds']<br>[0.09 0.01 0.1  0.07 0.01 0.15 0.1  0.28 0.14 0.05]",
          "['cash' 'public investment funds' 'other equity instruments'\n 'listed foreign public equity' 'corporate bonds'\n 'fixed term and savings deposit' 'state bonds' 'buyout' 'venture'\n 'listed domestic public equity']<br>[0.13 0.02 0.18 0.04 0.03 0.01 0.21 0.3  0.07 0.02]",
          "['state bonds' 'venture' 'corporate bonds' 'listed domestic public equity'\n 'cash' 'other equity instruments' 'public investment funds'\n 'listed foreign public equity' 'fixed term and savings deposit' 'buyout']<br>[0.09 0.05 0.12 0.01 0.13 0.18 0.01 0.15 0.   0.25]",
          "['state bonds' 'venture' 'corporate bonds' 'listed foreign public equity'\n 'fixed term and savings deposit' 'other equity instruments'\n 'listed domestic public equity' 'public investment funds' 'cash' 'buyout']<br>[0.05 0.04 0.06 0.08 0.06 0.23 0.02 0.04 0.14 0.29]",
          "['corporate bonds' 'cash' 'listed domestic public equity'\n 'listed foreign public equity' 'buyout' 'venture' 'state bonds'\n 'fixed term and savings deposit' 'public investment funds'\n 'other equity instruments']<br>[0.17 0.19 0.01 0.05 0.2  0.01 0.19 0.17 0.01 0.01]",
          "['public investment funds' 'listed domestic public equity'\n 'listed foreign public equity' 'corporate bonds' 'venture' 'state bonds'\n 'buyout' 'other equity instruments' 'fixed term and savings deposit'\n 'cash']<br>[0.03 0.04 0.02 0.01 0.08 0.04 0.31 0.31 0.05 0.12]",
          "['cash' 'corporate bonds' 'other equity instruments' 'buyout'\n 'listed foreign public equity' 'state bonds' 'public investment funds'\n 'fixed term and savings deposit' 'listed domestic public equity'\n 'venture']<br>[0.14 0.01 0.24 0.26 0.17 0.01 0.   0.02 0.06 0.09]",
          "['public investment funds' 'state bonds' 'listed domestic public equity'\n 'cash' 'buyout' 'listed foreign public equity' 'venture'\n 'other equity instruments' 'corporate bonds'\n 'fixed term and savings deposit']<br>[0.01 0.28 0.03 0.26 0.28 0.01 0.05 0.06 0.01 0.01]",
          "['state bonds' 'listed foreign public equity'\n 'listed domestic public equity' 'buyout' 'public investment funds'\n 'other equity instruments' 'cash' 'venture' 'corporate bonds'\n 'fixed term and savings deposit']<br>[0.23 0.08 0.   0.26 0.01 0.11 0.12 0.02 0.13 0.04]",
          "['listed domestic public equity' 'fixed term and savings deposit'\n 'venture' 'buyout' 'corporate bonds' 'listed foreign public equity'\n 'other equity instruments' 'state bonds' 'public investment funds' 'cash']<br>[0.03 0.26 0.   0.13 0.07 0.   0.02 0.2  0.01 0.27]",
          "['listed foreign public equity' 'venture' 'buyout' 'corporate bonds'\n 'cash' 'public investment funds' 'fixed term and savings deposit'\n 'state bonds' 'other equity instruments' 'listed domestic public equity']<br>[0.   0.04 0.3  0.12 0.18 0.01 0.   0.14 0.18 0.02]",
          "['buyout' 'other equity instruments' 'fixed term and savings deposit'\n 'public investment funds' 'venture' 'listed domestic public equity'\n 'state bonds' 'corporate bonds' 'listed foreign public equity' 'cash']<br>[0.29 0.11 0.02 0.03 0.04 0.02 0.25 0.04 0.08 0.13]",
          "['corporate bonds' 'buyout' 'state bonds' 'fixed term and savings deposit'\n 'cash' 'venture' 'other equity instruments' 'public investment funds'\n 'listed domestic public equity' 'listed foreign public equity']<br>[0.07 0.3  0.01 0.02 0.14 0.26 0.04 0.01 0.02 0.14]",
          "['public investment funds' 'venture' 'cash' 'buyout'\n 'listed foreign public equity' 'fixed term and savings deposit'\n 'corporate bonds' 'other equity instruments'\n 'listed domestic public equity' 'state bonds']<br>[0.01 0.05 0.27 0.28 0.07 0.   0.03 0.04 0.01 0.24]",
          "['public investment funds' 'fixed term and savings deposit'\n 'corporate bonds' 'cash' 'listed foreign public equity'\n 'listed domestic public equity' 'venture' 'state bonds'\n 'other equity instruments' 'buyout']<br>[0.02 0.04 0.01 0.13 0.23 0.   0.22 0.06 0.01 0.29]",
          "['corporate bonds' 'buyout' 'state bonds' 'listed foreign public equity'\n 'listed domestic public equity' 'cash' 'fixed term and savings deposit'\n 'public investment funds' 'venture' 'other equity instruments']<br>[0.08 0.29 0.18 0.11 0.01 0.19 0.04 0.   0.04 0.05]",
          "['listed foreign public equity' 'buyout' 'corporate bonds'\n 'other equity instruments' 'public investment funds' 'cash'\n 'fixed term and savings deposit' 'venture' 'state bonds'\n 'listed domestic public equity']<br>[0.01 0.04 0.21 0.   0.01 0.32 0.26 0.09 0.05 0.  ]",
          "['listed foreign public equity' 'other equity instruments'\n 'public investment funds' 'buyout' 'listed domestic public equity'\n 'venture' 'corporate bonds' 'fixed term and savings deposit'\n 'state bonds' 'cash']<br>[0.01 0.27 0.07 0.32 0.01 0.1  0.01 0.02 0.   0.19]",
          "['venture' 'other equity instruments' 'state bonds'\n 'listed domestic public equity' 'buyout' 'corporate bonds' 'cash'\n 'public investment funds' 'fixed term and savings deposit'\n 'listed foreign public equity']<br>[0.08 0.08 0.08 0.04 0.33 0.06 0.13 0.07 0.01 0.12]",
          "['corporate bonds' 'buyout' 'listed foreign public equity' 'state bonds'\n 'public investment funds' 'listed domestic public equity'\n 'other equity instruments' 'fixed term and savings deposit' 'cash'\n 'venture']<br>[0.01 0.32 0.07 0.16 0.01 0.05 0.18 0.04 0.13 0.02]",
          "['other equity instruments' 'corporate bonds' 'venture'\n 'public investment funds' 'state bonds' 'buyout'\n 'listed domestic public equity' 'listed foreign public equity' 'cash'\n 'fixed term and savings deposit']<br>[0.22 0.02 0.02 0.   0.19 0.26 0.01 0.15 0.12 0.01]",
          "['cash' 'public investment funds' 'other equity instruments'\n 'listed domestic public equity' 'venture'\n 'fixed term and savings deposit' 'listed foreign public equity'\n 'corporate bonds' 'buyout' 'state bonds']<br>[0.15 0.05 0.02 0.01 0.04 0.2  0.   0.19 0.14 0.22]",
          "['state bonds' 'listed domestic public equity'\n 'fixed term and savings deposit' 'listed foreign public equity' 'cash'\n 'other equity instruments' 'public investment funds' 'buyout'\n 'corporate bonds' 'venture']<br>[0.18 0.   0.19 0.01 0.17 0.   0.06 0.18 0.2  0.  ]",
          "['venture' 'other equity instruments' 'listed domestic public equity'\n 'listed foreign public equity' 'state bonds' 'cash' 'buyout'\n 'public investment funds' 'corporate bonds'\n 'fixed term and savings deposit']<br>[0.13 0.12 0.01 0.01 0.11 0.13 0.31 0.1  0.09 0.  ]",
          "['buyout' 'venture' 'listed foreign public equity' 'cash'\n 'corporate bonds' 'other equity instruments'\n 'listed domestic public equity' 'public investment funds' 'state bonds'\n 'fixed term and savings deposit']<br>[0.12 0.07 0.01 0.2  0.16 0.04 0.   0.   0.22 0.18]",
          "['other equity instruments' 'state bonds' 'venture' 'cash'\n 'fixed term and savings deposit' 'corporate bonds'\n 'listed domestic public equity' 'public investment funds'\n 'listed foreign public equity' 'buyout']<br>[0.   0.16 0.01 0.17 0.16 0.24 0.01 0.05 0.   0.19]",
          "['fixed term and savings deposit' 'venture' 'state bonds'\n 'listed foreign public equity' 'listed domestic public equity' 'buyout'\n 'other equity instruments' 'corporate bonds' 'cash'\n 'public investment funds']<br>[0.06 0.01 0.09 0.02 0.01 0.29 0.05 0.21 0.24 0.02]",
          "['fixed term and savings deposit' 'public investment funds'\n 'listed domestic public equity' 'cash' 'listed foreign public equity'\n 'buyout' 'corporate bonds' 'other equity instruments' 'state bonds'\n 'venture']<br>[0.22 0.02 0.02 0.31 0.01 0.11 0.01 0.   0.27 0.02]",
          "['listed foreign public equity' 'public investment funds'\n 'fixed term and savings deposit' 'cash' 'venture' 'buyout'\n 'listed domestic public equity' 'corporate bonds'\n 'other equity instruments' 'state bonds']<br>[0.   0.01 0.03 0.15 0.06 0.29 0.04 0.05 0.13 0.23]",
          "['fixed term and savings deposit' 'state bonds' 'other equity instruments'\n 'public investment funds' 'venture' 'listed domestic public equity'\n 'buyout' 'listed foreign public equity' 'corporate bonds' 'cash']<br>[0.26 0.28 0.02 0.01 0.02 0.   0.   0.02 0.15 0.24]",
          "['buyout' 'fixed term and savings deposit' 'other equity instruments'\n 'listed domestic public equity' 'venture' 'cash'\n 'listed foreign public equity' 'state bonds' 'corporate bonds'\n 'public investment funds']<br>[0.29 0.02 0.13 0.   0.12 0.13 0.22 0.06 0.   0.03]",
          "['buyout' 'listed domestic public equity' 'other equity instruments'\n 'state bonds' 'fixed term and savings deposit' 'cash' 'venture'\n 'corporate bonds' 'listed foreign public equity'\n 'public investment funds']<br>[0.28 0.01 0.09 0.17 0.02 0.14 0.13 0.03 0.13 0.01]",
          "['other equity instruments' 'corporate bonds'\n 'listed domestic public equity' 'fixed term and savings deposit'\n 'venture' 'cash' 'public investment funds' 'state bonds' 'buyout'\n 'listed foreign public equity']<br>[0.04 0.14 0.05 0.03 0.05 0.12 0.01 0.23 0.3  0.03]",
          "['fixed term and savings deposit' 'listed foreign public equity' 'buyout'\n 'state bonds' 'other equity instruments' 'cash' 'venture'\n 'public investment funds' 'listed domestic public equity'\n 'corporate bonds']<br>[0.24 0.01 0.21 0.18 0.   0.25 0.   0.08 0.   0.04]",
          "['public investment funds' 'buyout' 'cash' 'corporate bonds'\n 'listed foreign public equity' 'venture' 'listed domestic public equity'\n 'fixed term and savings deposit' 'state bonds' 'other equity instruments']<br>[0.01 0.28 0.14 0.01 0.11 0.12 0.   0.03 0.16 0.13]",
          "['fixed term and savings deposit' 'listed domestic public equity'\n 'public investment funds' 'state bonds' 'buyout' 'corporate bonds' 'cash'\n 'listed foreign public equity' 'other equity instruments' 'venture']<br>[0.1  0.   0.06 0.02 0.32 0.04 0.13 0.03 0.3  0.01]",
          "['buyout' 'corporate bonds' 'venture' 'cash'\n 'listed domestic public equity' 'fixed term and savings deposit'\n 'other equity instruments' 'public investment funds'\n 'listed foreign public equity' 'state bonds']<br>[0.28 0.05 0.02 0.12 0.01 0.01 0.25 0.03 0.06 0.17]",
          "['corporate bonds' 'state bonds' 'other equity instruments'\n 'listed foreign public equity' 'buyout' 'listed domestic public equity'\n 'venture' 'cash' 'fixed term and savings deposit'\n 'public investment funds']<br>[0.15 0.24 0.01 0.03 0.17 0.01 0.02 0.14 0.23 0.01]",
          "['corporate bonds' 'fixed term and savings deposit' 'cash'\n 'other equity instruments' 'state bonds' 'listed foreign public equity'\n 'public investment funds' 'listed domestic public equity' 'venture'\n 'buyout']<br>[0.01 0.03 0.14 0.   0.26 0.08 0.06 0.   0.12 0.29]",
          "['venture' 'corporate bonds' 'buyout' 'other equity instruments'\n 'fixed term and savings deposit' 'cash' 'listed domestic public equity'\n 'state bonds' 'public investment funds' 'listed foreign public equity']<br>[0.14 0.07 0.3  0.02 0.02 0.25 0.02 0.17 0.01 0.01]",
          "['state bonds' 'public investment funds' 'cash' 'corporate bonds'\n 'listed domestic public equity' 'buyout' 'listed foreign public equity'\n 'venture' 'fixed term and savings deposit' 'other equity instruments']<br>[0.1  0.04 0.15 0.03 0.   0.31 0.03 0.1  0.04 0.2 ]",
          "['fixed term and savings deposit' 'cash' 'listed domestic public equity'\n 'state bonds' 'venture' 'buyout' 'corporate bonds'\n 'other equity instruments' 'listed foreign public equity'\n 'public investment funds']<br>[0.11 0.22 0.   0.25 0.05 0.08 0.22 0.01 0.02 0.04]",
          "['cash' 'other equity instruments' 'public investment funds'\n 'fixed term and savings deposit' 'listed domestic public equity' 'buyout'\n 'state bonds' 'venture' 'listed foreign public equity' 'corporate bonds']<br>[0.13 0.09 0.02 0.02 0.04 0.29 0.18 0.06 0.09 0.08]",
          "['public investment funds' 'venture' 'corporate bonds'\n 'fixed term and savings deposit' 'other equity instruments'\n 'listed domestic public equity' 'listed foreign public equity' 'cash'\n 'state bonds' 'buyout']<br>[0.02 0.04 0.09 0.06 0.05 0.01 0.08 0.14 0.2  0.31]",
          "['fixed term and savings deposit' 'venture' 'other equity instruments'\n 'corporate bonds' 'state bonds' 'listed foreign public equity'\n 'public investment funds' 'cash' 'listed domestic public equity' 'buyout']<br>[0.1  0.07 0.   0.1  0.28 0.03 0.01 0.29 0.   0.12]",
          "['state bonds' 'public investment funds' 'fixed term and savings deposit'\n 'venture' 'other equity instruments' 'corporate bonds' 'buyout'\n 'listed domestic public equity' 'listed foreign public equity' 'cash']<br>[0.24 0.01 0.03 0.1  0.1  0.05 0.28 0.01 0.05 0.14]",
          "['cash' 'public investment funds' 'fixed term and savings deposit'\n 'listed foreign public equity' 'state bonds' 'venture' 'corporate bonds'\n 'buyout' 'other equity instruments' 'listed domestic public equity']<br>[0.26 0.01 0.27 0.04 0.07 0.01 0.17 0.16 0.01 0.01]",
          "['cash' 'state bonds' 'listed foreign public equity' 'venture'\n 'corporate bonds' 'public investment funds' 'other equity instruments'\n 'listed domestic public equity' 'fixed term and savings deposit' 'buyout']<br>[0.16 0.08 0.19 0.15 0.01 0.   0.07 0.02 0.   0.31]",
          "['fixed term and savings deposit' 'corporate bonds'\n 'public investment funds' 'other equity instruments' 'state bonds'\n 'listed domestic public equity' 'listed foreign public equity' 'cash'\n 'venture' 'buyout']<br>[0.14 0.06 0.   0.07 0.26 0.02 0.01 0.15 0.01 0.28]",
          "['listed foreign public equity' 'fixed term and savings deposit'\n 'public investment funds' 'cash' 'listed domestic public equity'\n 'state bonds' 'corporate bonds' 'buyout' 'venture'\n 'other equity instruments']<br>[0.01 0.18 0.03 0.26 0.01 0.19 0.12 0.13 0.05 0.02]",
          "['venture' 'fixed term and savings deposit' 'cash' 'corporate bonds'\n 'listed foreign public equity' 'listed domestic public equity' 'buyout'\n 'other equity instruments' 'public investment funds' 'state bonds']<br>[0.17 0.04 0.12 0.   0.2  0.04 0.31 0.08 0.01 0.02]",
          "['buyout' 'public investment funds' 'state bonds' 'corporate bonds'\n 'venture' 'cash' 'fixed term and savings deposit'\n 'listed foreign public equity' 'listed domestic public equity'\n 'other equity instruments']<br>[0.24 0.02 0.21 0.2  0.03 0.13 0.16 0.   0.   0.01]",
          "['state bonds' 'fixed term and savings deposit' 'cash' 'venture' 'buyout'\n 'listed foreign public equity' 'public investment funds'\n 'listed domestic public equity' 'corporate bonds'\n 'other equity instruments']<br>[0.25 0.06 0.13 0.03 0.25 0.03 0.01 0.01 0.18 0.05]",
          "['buyout' 'listed foreign public equity' 'fixed term and savings deposit'\n 'cash' 'state bonds' 'listed domestic public equity'\n 'other equity instruments' 'public investment funds' 'venture'\n 'corporate bonds']<br>[0.26 0.02 0.16 0.16 0.22 0.02 0.02 0.01 0.05 0.09]",
          "['listed foreign public equity' 'buyout' 'listed domestic public equity'\n 'corporate bonds' 'cash' 'fixed term and savings deposit' 'venture'\n 'other equity instruments' 'public investment funds' 'state bonds']<br>[0.   0.23 0.01 0.1  0.22 0.25 0.   0.02 0.05 0.12]",
          "['corporate bonds' 'venture' 'listed foreign public equity'\n 'fixed term and savings deposit' 'state bonds' 'public investment funds'\n 'cash' 'other equity instruments' 'buyout'\n 'listed domestic public equity']<br>[0.06 0.04 0.   0.09 0.29 0.02 0.14 0.11 0.25 0.  ]",
          "['buyout' 'cash' 'listed foreign public equity' 'corporate bonds'\n 'public investment funds' 'listed domestic public equity' 'state bonds'\n 'venture' 'other equity instruments' 'fixed term and savings deposit']<br>[0.14 0.19 0.   0.18 0.05 0.01 0.2  0.01 0.02 0.2 ]",
          "['venture' 'corporate bonds' 'other equity instruments' 'cash' 'buyout'\n 'public investment funds' 'listed foreign public equity' 'state bonds'\n 'listed domestic public equity' 'fixed term and savings deposit']<br>[0.08 0.09 0.01 0.19 0.15 0.02 0.01 0.22 0.   0.23]",
          "['corporate bonds' 'listed foreign public equity' 'state bonds' 'venture'\n 'buyout' 'listed domestic public equity' 'other equity instruments'\n 'cash' 'public investment funds' 'fixed term and savings deposit']<br>[0.13 0.   0.22 0.05 0.17 0.01 0.01 0.25 0.02 0.14]",
          "['listed foreign public equity' 'other equity instruments' 'state bonds'\n 'cash' 'venture' 'public investment funds'\n 'fixed term and savings deposit' 'buyout' 'listed domestic public equity'\n 'corporate bonds']<br>[0.   0.01 0.23 0.13 0.11 0.03 0.2  0.16 0.   0.13]",
          "['venture' 'buyout' 'listed foreign public equity' 'corporate bonds'\n 'listed domestic public equity' 'public investment funds'\n 'other equity instruments' 'fixed term and savings deposit' 'cash'\n 'state bonds']<br>[0.12 0.33 0.02 0.1  0.02 0.03 0.16 0.02 0.13 0.07]",
          "['state bonds' 'corporate bonds' 'cash' 'public investment funds'\n 'fixed term and savings deposit' 'buyout' 'listed foreign public equity'\n 'venture' 'listed domestic public equity' 'other equity instruments']<br>[0.26 0.01 0.14 0.07 0.1  0.3  0.01 0.04 0.   0.08]",
          "['listed domestic public equity' 'buyout' 'corporate bonds'\n 'other equity instruments' 'state bonds' 'cash' 'venture'\n 'fixed term and savings deposit' 'listed foreign public equity'\n 'public investment funds']<br>[0.01 0.1  0.15 0.03 0.27 0.14 0.03 0.25 0.   0.01]",
          "['cash' 'listed foreign public equity' 'buyout' 'corporate bonds'\n 'other equity instruments' 'listed domestic public equity'\n 'public investment funds' 'fixed term and savings deposit' 'venture'\n 'state bonds']<br>[0.14 0.   0.27 0.18 0.03 0.   0.02 0.12 0.04 0.2 ]",
          "['listed domestic public equity' 'other equity instruments' 'venture'\n 'public investment funds' 'state bonds' 'corporate bonds'\n 'fixed term and savings deposit' 'listed foreign public equity' 'cash'\n 'buyout']<br>[0.02 0.   0.   0.   0.2  0.2  0.21 0.01 0.16 0.2 ]",
          "['buyout' 'other equity instruments' 'public investment funds'\n 'state bonds' 'listed foreign public equity' 'venture'\n 'listed domestic public equity' 'corporate bonds'\n 'fixed term and savings deposit' 'cash']<br>[0.32 0.05 0.03 0.14 0.05 0.1  0.03 0.04 0.12 0.12]",
          "['listed domestic public equity' 'listed foreign public equity'\n 'public investment funds' 'cash' 'other equity instruments' 'state bonds'\n 'fixed term and savings deposit' 'buyout' 'venture' 'corporate bonds']<br>[0.01 0.04 0.06 0.14 0.02 0.12 0.17 0.32 0.01 0.11]",
          "['public investment funds' 'corporate bonds'\n 'listed foreign public equity' 'cash' 'other equity instruments'\n 'listed domestic public equity' 'state bonds' 'venture' 'buyout'\n 'fixed term and savings deposit']<br>[0.   0.09 0.01 0.15 0.03 0.01 0.26 0.15 0.27 0.03]",
          "['buyout' 'other equity instruments' 'venture'\n 'fixed term and savings deposit' 'listed foreign public equity'\n 'public investment funds' 'cash' 'listed domestic public equity'\n 'state bonds' 'corporate bonds']<br>[0.32 0.15 0.16 0.18 0.   0.   0.13 0.01 0.03 0.01]",
          "['listed domestic public equity' 'corporate bonds'\n 'public investment funds' 'cash' 'fixed term and savings deposit'\n 'listed foreign public equity' 'venture' 'state bonds'\n 'other equity instruments' 'buyout']<br>[0.   0.05 0.02 0.14 0.08 0.12 0.08 0.   0.21 0.29]",
          "['cash' 'venture' 'fixed term and savings deposit'\n 'other equity instruments' 'listed foreign public equity'\n 'public investment funds' 'buyout' 'state bonds' 'corporate bonds'\n 'listed domestic public equity']<br>[0.27 0.02 0.03 0.01 0.01 0.01 0.25 0.27 0.14 0.  ]",
          "['public investment funds' 'other equity instruments'\n 'listed foreign public equity' 'fixed term and savings deposit'\n 'corporate bonds' 'state bonds' 'buyout' 'venture'\n 'listed domestic public equity' 'cash']<br>[0.   0.02 0.07 0.02 0.01 0.31 0.33 0.06 0.04 0.14]",
          "['fixed term and savings deposit' 'other equity instruments' 'state bonds'\n 'buyout' 'corporate bonds' 'cash' 'listed foreign public equity'\n 'venture' 'public investment funds' 'listed domestic public equity']<br>[0.01 0.14 0.14 0.29 0.12 0.14 0.02 0.05 0.08 0.01]",
          "['venture' 'listed domestic public equity' 'state bonds'\n 'public investment funds' 'fixed term and savings deposit'\n 'listed foreign public equity' 'cash' 'buyout' 'other equity instruments'\n 'corporate bonds']<br>[0.07 0.   0.25 0.05 0.05 0.03 0.15 0.28 0.01 0.1 ]",
          "['listed foreign public equity' 'public investment funds'\n 'corporate bonds' 'other equity instruments'\n 'listed domestic public equity' 'fixed term and savings deposit'\n 'venture' 'cash' 'buyout' 'state bonds']<br>[0.02 0.01 0.17 0.01 0.   0.24 0.04 0.19 0.09 0.23]",
          "['other equity instruments' 'state bonds' 'buyout' 'cash'\n 'fixed term and savings deposit' 'listed foreign public equity'\n 'listed domestic public equity' 'corporate bonds' 'venture'\n 'public investment funds']<br>[0.06 0.24 0.33 0.13 0.01 0.03 0.01 0.01 0.03 0.14]",
          "['other equity instruments' 'buyout' 'state bonds' 'cash'\n 'fixed term and savings deposit' 'corporate bonds'\n 'listed domestic public equity' 'venture' 'listed foreign public equity'\n 'public investment funds']<br>[0.05 0.32 0.09 0.14 0.01 0.12 0.   0.23 0.05 0.  ]",
          "['listed domestic public equity' 'buyout' 'fixed term and savings deposit'\n 'venture' 'other equity instruments' 'public investment funds'\n 'listed foreign public equity' 'state bonds' 'cash' 'corporate bonds']<br>[0.01 0.27 0.09 0.07 0.02 0.   0.02 0.2  0.14 0.18]",
          "['state bonds' 'listed foreign public equity'\n 'listed domestic public equity' 'corporate bonds'\n 'public investment funds' 'buyout' 'other equity instruments'\n 'fixed term and savings deposit' 'cash' 'venture']<br>[0.26 0.02 0.01 0.07 0.04 0.29 0.01 0.08 0.12 0.11]",
          "['venture' 'state bonds' 'fixed term and savings deposit'\n 'listed foreign public equity' 'cash' 'other equity instruments' 'buyout'\n 'listed domestic public equity' 'corporate bonds'\n 'public investment funds']<br>[0.02 0.04 0.03 0.11 0.13 0.27 0.31 0.01 0.02 0.08]",
          "['corporate bonds' 'cash' 'fixed term and savings deposit'\n 'listed domestic public equity' 'listed foreign public equity' 'venture'\n 'public investment funds' 'other equity instruments' 'state bonds'\n 'buyout']<br>[0.11 0.14 0.02 0.   0.12 0.15 0.01 0.03 0.11 0.3 ]",
          "['corporate bonds' 'public investment funds' 'cash' 'state bonds'\n 'listed foreign public equity' 'listed domestic public equity'\n 'fixed term and savings deposit' 'venture' 'other equity instruments'\n 'buyout']<br>[0.02 0.   0.14 0.13 0.14 0.   0.06 0.06 0.16 0.29]",
          "['cash' 'listed foreign public equity' 'listed domestic public equity'\n 'other equity instruments' 'public investment funds' 'corporate bonds'\n 'venture' 'buyout' 'fixed term and savings deposit' 'state bonds']<br>[0.13 0.27 0.01 0.16 0.   0.03 0.06 0.29 0.02 0.02]",
          "['listed domestic public equity' 'cash' 'listed foreign public equity'\n 'buyout' 'public investment funds' 'fixed term and savings deposit'\n 'corporate bonds' 'other equity instruments' 'venture' 'state bonds']<br>[0.01 0.16 0.11 0.29 0.02 0.02 0.06 0.18 0.12 0.03]",
          "['buyout' 'state bonds' 'listed domestic public equity'\n 'other equity instruments' 'public investment funds' 'corporate bonds'\n 'listed foreign public equity' 'fixed term and savings deposit' 'venture'\n 'cash']<br>[0.3  0.14 0.01 0.1  0.01 0.09 0.01 0.   0.2  0.13]",
          "['corporate bonds' 'listed domestic public equity'\n 'fixed term and savings deposit' 'public investment funds'\n 'listed foreign public equity' 'cash' 'state bonds' 'venture'\n 'other equity instruments' 'buyout']<br>[0.17 0.   0.18 0.01 0.03 0.21 0.19 0.01 0.01 0.2 ]",
          "['public investment funds' 'corporate bonds'\n 'listed domestic public equity' 'buyout' 'state bonds' 'venture'\n 'listed foreign public equity' 'other equity instruments'\n 'fixed term and savings deposit' 'cash']<br>[0.   0.06 0.01 0.29 0.28 0.05 0.04 0.08 0.05 0.13]",
          "['cash' 'other equity instruments' 'corporate bonds'\n 'listed domestic public equity' 'venture' 'buyout'\n 'public investment funds' 'fixed term and savings deposit'\n 'listed foreign public equity' 'state bonds']<br>[0.15 0.06 0.04 0.02 0.15 0.32 0.01 0.03 0.11 0.12]",
          "['fixed term and savings deposit' 'listed domestic public equity' 'buyout'\n 'corporate bonds' 'venture' 'public investment funds'\n 'listed foreign public equity' 'state bonds' 'other equity instruments'\n 'cash']<br>[0.11 0.01 0.32 0.13 0.04 0.04 0.09 0.12 0.02 0.13]",
          "['buyout' 'corporate bonds' 'other equity instruments'\n 'listed foreign public equity' 'public investment funds' 'cash'\n 'fixed term and savings deposit' 'listed domestic public equity'\n 'state bonds' 'venture']<br>[0.18 0.13 0.02 0.01 0.   0.14 0.26 0.01 0.2  0.05]",
          "['listed domestic public equity' 'public investment funds'\n 'other equity instruments' 'venture' 'buyout' 'state bonds'\n 'listed foreign public equity' 'fixed term and savings deposit' 'cash'\n 'corporate bonds']<br>[0.02 0.   0.03 0.04 0.16 0.19 0.   0.23 0.21 0.13]",
          "['cash' 'listed domestic public equity' 'fixed term and savings deposit'\n 'buyout' 'corporate bonds' 'public investment funds' 'venture'\n 'state bonds' 'listed foreign public equity' 'other equity instruments']<br>[0.13 0.03 0.13 0.32 0.07 0.02 0.01 0.26 0.01 0.02]",
          "['fixed term and savings deposit' 'venture' 'listed foreign public equity'\n 'listed domestic public equity' 'state bonds' 'public investment funds'\n 'cash' 'other equity instruments' 'corporate bonds' 'buyout']<br>[0.05 0.04 0.   0.01 0.29 0.   0.18 0.05 0.12 0.27]",
          "['fixed term and savings deposit' 'corporate bonds' 'venture'\n 'listed domestic public equity' 'public investment funds'\n 'other equity instruments' 'listed foreign public equity' 'cash'\n 'state bonds' 'buyout']<br>[0.   0.09 0.05 0.02 0.07 0.21 0.04 0.15 0.06 0.31]",
          "['buyout' 'other equity instruments' 'state bonds'\n 'listed domestic public equity' 'public investment funds' 'venture'\n 'corporate bonds' 'fixed term and savings deposit' 'cash'\n 'listed foreign public equity']<br>[0.33 0.02 0.04 0.01 0.03 0.1  0.24 0.04 0.14 0.06]",
          "['other equity instruments' 'public investment funds'\n 'listed domestic public equity' 'state bonds' 'venture' 'corporate bonds'\n 'cash' 'buyout' 'fixed term and savings deposit'\n 'listed foreign public equity']<br>[0.02 0.01 0.03 0.3  0.06 0.01 0.17 0.27 0.14 0.  ]",
          "['public investment funds' 'buyout' 'other equity instruments' 'cash'\n 'listed domestic public equity' 'corporate bonds'\n 'fixed term and savings deposit' 'listed foreign public equity' 'venture'\n 'state bonds']<br>[0.04 0.28 0.04 0.28 0.   0.02 0.03 0.   0.01 0.29]",
          "['state bonds' 'listed domestic public equity' 'venture'\n 'listed foreign public equity' 'fixed term and savings deposit'\n 'corporate bonds' 'buyout' 'cash' 'public investment funds'\n 'other equity instruments']<br>[0.02 0.03 0.11 0.05 0.02 0.03 0.32 0.14 0.01 0.26]",
          "['buyout' 'public investment funds' 'listed domestic public equity' 'cash'\n 'listed foreign public equity' 'other equity instruments'\n 'corporate bonds' 'venture' 'state bonds'\n 'fixed term and savings deposit']<br>[0.31 0.01 0.01 0.13 0.01 0.01 0.13 0.15 0.22 0.02]",
          "['listed domestic public equity' 'corporate bonds' 'state bonds'\n 'listed foreign public equity' 'buyout' 'public investment funds'\n 'venture' 'cash' 'fixed term and savings deposit'\n 'other equity instruments']<br>[0.   0.05 0.02 0.18 0.32 0.08 0.1  0.13 0.04 0.07]",
          "['listed foreign public equity' 'listed domestic public equity'\n 'state bonds' 'other equity instruments' 'cash' 'buyout' 'venture'\n 'corporate bonds' 'public investment funds'\n 'fixed term and savings deposit']<br>[0.02 0.01 0.14 0.01 0.13 0.29 0.02 0.12 0.   0.26]",
          "['other equity instruments' 'buyout' 'listed domestic public equity'\n 'fixed term and savings deposit' 'cash' 'corporate bonds'\n 'public investment funds' 'listed foreign public equity' 'state bonds'\n 'venture']<br>[0.   0.33 0.02 0.1  0.14 0.01 0.04 0.04 0.3  0.03]",
          "['cash' 'venture' 'listed foreign public equity' 'corporate bonds'\n 'fixed term and savings deposit' 'listed domestic public equity'\n 'public investment funds' 'buyout' 'state bonds'\n 'other equity instruments']<br>[0.17 0.1  0.   0.03 0.24 0.   0.   0.2  0.25 0.  ]",
          "['buyout' 'cash' 'venture' 'listed domestic public equity'\n 'public investment funds' 'fixed term and savings deposit'\n 'other equity instruments' 'state bonds' 'listed foreign public equity'\n 'corporate bonds']<br>[0.3  0.13 0.07 0.03 0.03 0.01 0.11 0.07 0.22 0.04]",
          "['buyout' 'venture' 'fixed term and savings deposit' 'cash'\n 'other equity instruments' 'corporate bonds'\n 'listed foreign public equity' 'listed domestic public equity'\n 'public investment funds' 'state bonds']<br>[0.29 0.01 0.19 0.16 0.01 0.02 0.03 0.01 0.02 0.26]",
          "['listed domestic public equity' 'fixed term and savings deposit'\n 'other equity instruments' 'state bonds' 'listed foreign public equity'\n 'public investment funds' 'buyout' 'venture' 'cash' 'corporate bonds']<br>[0.   0.13 0.04 0.21 0.03 0.06 0.31 0.01 0.13 0.07]",
          "['state bonds' 'venture' 'fixed term and savings deposit'\n 'other equity instruments' 'public investment funds'\n 'listed foreign public equity' 'listed domestic public equity' 'buyout'\n 'corporate bonds' 'cash']<br>[0.27 0.05 0.17 0.03 0.   0.01 0.   0.24 0.03 0.19]",
          "['buyout' 'cash' 'public investment funds' 'venture'\n 'fixed term and savings deposit' 'other equity instruments'\n 'listed domestic public equity' 'listed foreign public equity'\n 'state bonds' 'corporate bonds']<br>[0.31 0.13 0.05 0.08 0.05 0.05 0.   0.16 0.13 0.02]",
          "['corporate bonds' 'public investment funds' 'other equity instruments'\n 'buyout' 'listed domestic public equity' 'venture'\n 'listed foreign public equity' 'state bonds'\n 'fixed term and savings deposit' 'cash']<br>[0.04 0.01 0.03 0.33 0.03 0.08 0.03 0.3  0.03 0.13]",
          "['fixed term and savings deposit' 'buyout' 'listed foreign public equity'\n 'listed domestic public equity' 'public investment funds' 'venture'\n 'other equity instruments' 'cash' 'corporate bonds' 'state bonds']<br>[0.03 0.32 0.05 0.02 0.03 0.03 0.1  0.13 0.11 0.19]",
          "['corporate bonds' 'other equity instruments'\n 'listed foreign public equity' 'cash' 'listed domestic public equity'\n 'public investment funds' 'state bonds' 'buyout'\n 'fixed term and savings deposit' 'venture']<br>[0.06 0.15 0.07 0.12 0.03 0.02 0.18 0.32 0.03 0.02]",
          "['corporate bonds' 'state bonds' 'buyout' 'listed foreign public equity'\n 'public investment funds' 'listed domestic public equity' 'venture'\n 'other equity instruments' 'cash' 'fixed term and savings deposit']<br>[0.09 0.   0.32 0.04 0.05 0.01 0.02 0.29 0.16 0.03]",
          "['state bonds' 'venture' 'listed domestic public equity'\n 'public investment funds' 'corporate bonds'\n 'listed foreign public equity' 'buyout' 'other equity instruments' 'cash'\n 'fixed term and savings deposit']<br>[0.22 0.07 0.02 0.01 0.15 0.   0.03 0.   0.19 0.31]",
          "['venture' 'corporate bonds' 'listed foreign public equity' 'buyout'\n 'other equity instruments' 'public investment funds'\n 'fixed term and savings deposit' 'cash' 'listed domestic public equity'\n 'state bonds']<br>[0.02 0.02 0.3  0.3  0.09 0.01 0.01 0.13 0.   0.12]",
          "['corporate bonds' 'venture' 'fixed term and savings deposit' 'cash'\n 'other equity instruments' 'state bonds' 'public investment funds'\n 'listed domestic public equity' 'buyout' 'listed foreign public equity']<br>[0.17 0.04 0.02 0.15 0.07 0.13 0.02 0.01 0.33 0.06]",
          "['listed foreign public equity' 'cash' 'other equity instruments' 'buyout'\n 'fixed term and savings deposit' 'public investment funds'\n 'corporate bonds' 'venture' 'state bonds' 'listed domestic public equity']<br>[0.02 0.16 0.03 0.3  0.06 0.   0.12 0.11 0.18 0.01]",
          "['other equity instruments' 'buyout' 'venture'\n 'fixed term and savings deposit' 'cash' 'state bonds'\n 'listed foreign public equity' 'public investment funds'\n 'corporate bonds' 'listed domestic public equity']<br>[0.01 0.17 0.08 0.26 0.25 0.18 0.01 0.01 0.02 0.  ]",
          "['listed foreign public equity' 'fixed term and savings deposit' 'buyout'\n 'public investment funds' 'corporate bonds' 'cash'\n 'listed domestic public equity' 'venture' 'state bonds'\n 'other equity instruments']<br>[0.04 0.05 0.33 0.03 0.09 0.12 0.02 0.02 0.03 0.26]",
          "['cash' 'other equity instruments' 'buyout' 'corporate bonds' 'venture'\n 'listed foreign public equity' 'public investment funds'\n 'fixed term and savings deposit' 'listed domestic public equity'\n 'state bonds']<br>[0.14 0.1  0.32 0.02 0.18 0.09 0.03 0.01 0.01 0.11]",
          "['cash' 'public investment funds' 'buyout' 'state bonds'\n 'listed domestic public equity' 'venture' 'corporate bonds'\n 'listed foreign public equity' 'fixed term and savings deposit'\n 'other equity instruments']<br>[0.12 0.04 0.32 0.11 0.02 0.18 0.09 0.03 0.02 0.05]",
          "['other equity instruments' 'listed foreign public equity' 'buyout'\n 'corporate bonds' 'venture' 'public investment funds' 'cash'\n 'listed domestic public equity' 'fixed term and savings deposit'\n 'state bonds']<br>[0.11 0.18 0.32 0.03 0.02 0.01 0.13 0.02 0.04 0.14]",
          "['state bonds' 'fixed term and savings deposit' 'venture'\n 'listed domestic public equity' 'public investment funds' 'buyout' 'cash'\n 'other equity instruments' 'corporate bonds'\n 'listed foreign public equity']<br>[0.1  0.01 0.13 0.01 0.   0.28 0.12 0.21 0.07 0.07]",
          "['listed foreign public equity' 'other equity instruments' 'cash'\n 'fixed term and savings deposit' 'buyout' 'corporate bonds'\n 'public investment funds' 'listed domestic public equity' 'venture'\n 'state bonds']<br>[0.01 0.   0.16 0.26 0.22 0.04 0.05 0.   0.   0.25]",
          "['state bonds' 'corporate bonds' 'public investment funds'\n 'listed domestic public equity' 'other equity instruments'\n 'fixed term and savings deposit' 'buyout' 'cash'\n 'listed foreign public equity' 'venture']<br>[0.18 0.26 0.01 0.01 0.01 0.25 0.15 0.12 0.02 0.  ]",
          "['state bonds' 'other equity instruments' 'buyout'\n 'listed domestic public equity' 'listed foreign public equity'\n 'public investment funds' 'fixed term and savings deposit' 'venture'\n 'corporate bonds' 'cash']<br>[0.2  0.   0.15 0.   0.   0.03 0.2  0.06 0.16 0.19]",
          "['listed domestic public equity' 'cash' 'fixed term and savings deposit'\n 'other equity instruments' 'venture' 'public investment funds'\n 'state bonds' 'listed foreign public equity' 'buyout' 'corporate bonds']<br>[0.   0.18 0.   0.29 0.02 0.01 0.12 0.05 0.29 0.02]",
          "['listed foreign public equity' 'other equity instruments'\n 'corporate bonds' 'cash' 'public investment funds' 'state bonds'\n 'listed domestic public equity' 'buyout' 'venture'\n 'fixed term and savings deposit']<br>[0.01 0.03 0.09 0.12 0.   0.3  0.01 0.14 0.03 0.26]",
          "['state bonds' 'other equity instruments' 'venture' 'corporate bonds'\n 'public investment funds' 'fixed term and savings deposit'\n 'listed domestic public equity' 'cash' 'buyout'\n 'listed foreign public equity']<br>[0.   0.13 0.14 0.   0.05 0.07 0.01 0.15 0.33 0.11]",
          "['fixed term and savings deposit' 'cash' 'buyout'\n 'public investment funds' 'venture' 'other equity instruments'\n 'state bonds' 'listed foreign public equity'\n 'listed domestic public equity' 'corporate bonds']<br>[0.22 0.25 0.14 0.   0.01 0.01 0.21 0.01 0.   0.14]",
          "['fixed term and savings deposit' 'other equity instruments' 'cash'\n 'listed foreign public equity' 'buyout' 'corporate bonds'\n 'public investment funds' 'venture' 'listed domestic public equity'\n 'state bonds']<br>[0.28 0.01 0.28 0.01 0.04 0.01 0.05 0.02 0.   0.29]",
          "['listed foreign public equity' 'venture' 'state bonds' 'buyout'\n 'fixed term and savings deposit' 'listed domestic public equity' 'cash'\n 'other equity instruments' 'public investment funds' 'corporate bonds']<br>[0.01 0.   0.32 0.31 0.04 0.02 0.2  0.04 0.01 0.05]",
          "['public investment funds' 'buyout' 'corporate bonds'\n 'other equity instruments' 'venture' 'listed domestic public equity'\n 'fixed term and savings deposit' 'listed foreign public equity' 'cash'\n 'state bonds']<br>[0.02 0.22 0.12 0.01 0.03 0.01 0.18 0.   0.2  0.22]",
          "['buyout' 'listed foreign public equity' 'cash' 'other equity instruments'\n 'venture' 'listed domestic public equity' 'state bonds'\n 'fixed term and savings deposit' 'corporate bonds'\n 'public investment funds']<br>[0.32 0.   0.13 0.01 0.04 0.02 0.23 0.05 0.15 0.06]",
          "['public investment funds' 'fixed term and savings deposit' 'buyout'\n 'listed foreign public equity' 'other equity instruments'\n 'listed domestic public equity' 'cash' 'venture' 'state bonds'\n 'corporate bonds']<br>[0.1  0.01 0.29 0.07 0.31 0.01 0.15 0.04 0.01 0.01]",
          "['fixed term and savings deposit' 'buyout' 'listed domestic public equity'\n 'public investment funds' 'other equity instruments' 'cash' 'venture'\n 'corporate bonds' 'state bonds' 'listed foreign public equity']<br>[0.07 0.3  0.   0.01 0.02 0.22 0.   0.02 0.28 0.06]",
          "['corporate bonds' 'listed domestic public equity'\n 'listed foreign public equity' 'venture' 'state bonds' 'cash'\n 'fixed term and savings deposit' 'other equity instruments'\n 'public investment funds' 'buyout']<br>[0.01 0.06 0.01 0.16 0.05 0.12 0.03 0.25 0.   0.31]",
          "['public investment funds' 'buyout' 'listed foreign public equity'\n 'listed domestic public equity' 'state bonds' 'corporate bonds'\n 'fixed term and savings deposit' 'venture' 'other equity instruments'\n 'cash']<br>[0.   0.32 0.13 0.   0.15 0.04 0.01 0.1  0.12 0.12]",
          "['other equity instruments' 'listed foreign public equity' 'cash'\n 'fixed term and savings deposit' 'listed domestic public equity'\n 'venture' 'corporate bonds' 'buyout' 'state bonds'\n 'public investment funds']<br>[0.02 0.01 0.22 0.12 0.01 0.04 0.18 0.12 0.27 0.01]",
          "['cash' 'corporate bonds' 'buyout' 'venture'\n 'listed domestic public equity' 'other equity instruments' 'state bonds'\n 'public investment funds' 'fixed term and savings deposit'\n 'listed foreign public equity']<br>[0.24 0.02 0.14 0.04 0.01 0.02 0.2  0.02 0.3  0.01]",
          "['cash' 'state bonds' 'corporate bonds' 'buyout' 'public investment funds'\n 'fixed term and savings deposit' 'listed foreign public equity'\n 'other equity instruments' 'venture' 'listed domestic public equity']<br>[0.16 0.06 0.06 0.32 0.04 0.01 0.1  0.15 0.09 0.01]",
          "['buyout' 'other equity instruments' 'corporate bonds'\n 'fixed term and savings deposit' 'listed domestic public equity' 'cash'\n 'venture' 'public investment funds' 'state bonds'\n 'listed foreign public equity']<br>[0.27 0.02 0.02 0.29 0.02 0.12 0.02 0.01 0.22 0.01]",
          "['public investment funds' 'buyout' 'other equity instruments'\n 'listed domestic public equity' 'venture' 'state bonds'\n 'fixed term and savings deposit' 'listed foreign public equity' 'cash'\n 'corporate bonds']<br>[0.01 0.26 0.   0.   0.06 0.14 0.27 0.   0.17 0.08]",
          "['listed foreign public equity' 'state bonds'\n 'listed domestic public equity' 'cash' 'fixed term and savings deposit'\n 'buyout' 'corporate bonds' 'other equity instruments' 'venture'\n 'public investment funds']<br>[0.02 0.   0.01 0.13 0.02 0.33 0.05 0.11 0.3  0.04]",
          "['venture' 'public investment funds' 'state bonds' 'cash' 'buyout'\n 'fixed term and savings deposit' 'listed foreign public equity'\n 'listed domestic public equity' 'corporate bonds'\n 'other equity instruments']<br>[0.03 0.01 0.14 0.26 0.15 0.32 0.   0.   0.03 0.04]",
          "['other equity instruments' 'listed foreign public equity' 'cash' 'buyout'\n 'corporate bonds' 'fixed term and savings deposit'\n 'public investment funds' 'listed domestic public equity' 'state bonds'\n 'venture']<br>[0.05 0.13 0.12 0.33 0.   0.09 0.03 0.02 0.14 0.1 ]",
          "['other equity instruments' 'buyout' 'listed foreign public equity'\n 'venture' 'public investment funds' 'state bonds'\n 'listed domestic public equity' 'corporate bonds' 'cash'\n 'fixed term and savings deposit']<br>[0.03 0.31 0.01 0.13 0.   0.18 0.01 0.07 0.13 0.13]",
          "['listed domestic public equity' 'other equity instruments' 'buyout'\n 'venture' 'listed foreign public equity' 'corporate bonds'\n 'fixed term and savings deposit' 'state bonds' 'public investment funds'\n 'cash']<br>[0.02 0.25 0.28 0.07 0.2  0.   0.04 0.01 0.   0.12]",
          "['state bonds' 'corporate bonds' 'buyout' 'other equity instruments'\n 'public investment funds' 'cash' 'fixed term and savings deposit'\n 'listed domestic public equity' 'listed foreign public equity' 'venture']<br>[0.2  0.03 0.33 0.09 0.   0.13 0.02 0.06 0.04 0.1 ]",
          "['other equity instruments' 'venture' 'fixed term and savings deposit'\n 'corporate bonds' 'cash' 'state bonds' 'buyout' 'public investment funds'\n 'listed foreign public equity' 'listed domestic public equity']<br>[0.19 0.13 0.01 0.08 0.15 0.05 0.33 0.02 0.03 0.01]",
          "['corporate bonds' 'cash' 'state bonds' 'listed domestic public equity'\n 'fixed term and savings deposit' 'public investment funds'\n 'other equity instruments' 'buyout' 'venture'\n 'listed foreign public equity']<br>[0.08 0.14 0.1  0.   0.01 0.02 0.12 0.3  0.13 0.1 ]",
          "['venture' 'buyout' 'other equity instruments'\n 'listed domestic public equity' 'state bonds' 'public investment funds'\n 'corporate bonds' 'cash' 'fixed term and savings deposit'\n 'listed foreign public equity']<br>[0.04 0.31 0.16 0.   0.07 0.11 0.03 0.14 0.01 0.13]",
          "['listed foreign public equity' 'other equity instruments' 'buyout'\n 'venture' 'public investment funds' 'state bonds'\n 'listed domestic public equity' 'cash' 'corporate bonds'\n 'fixed term and savings deposit']<br>[0.01 0.02 0.01 0.07 0.   0.28 0.01 0.2  0.1  0.31]",
          "['listed domestic public equity' 'corporate bonds' 'venture'\n 'public investment funds' 'buyout' 'listed foreign public equity' 'cash'\n 'state bonds' 'other equity instruments' 'fixed term and savings deposit']<br>[0.02 0.06 0.07 0.   0.3  0.05 0.13 0.06 0.26 0.05]",
          "['public investment funds' 'cash' 'fixed term and savings deposit'\n 'listed foreign public equity' 'venture' 'other equity instruments'\n 'buyout' 'listed domestic public equity' 'state bonds' 'corporate bonds']<br>[0.   0.26 0.27 0.04 0.02 0.03 0.04 0.   0.28 0.05]",
          "['listed foreign public equity' 'state bonds' 'venture'\n 'other equity instruments' 'listed domestic public equity'\n 'corporate bonds' 'fixed term and savings deposit' 'buyout' 'cash'\n 'public investment funds']<br>[0.11 0.18 0.01 0.14 0.02 0.03 0.03 0.32 0.16 0.02]",
          "['public investment funds' 'cash' 'venture' 'state bonds'\n 'other equity instruments' 'buyout' 'corporate bonds'\n 'listed foreign public equity' 'fixed term and savings deposit'\n 'listed domestic public equity']<br>[0.08 0.16 0.06 0.02 0.09 0.33 0.04 0.19 0.02 0.01]",
          "['listed foreign public equity' 'buyout' 'state bonds' 'cash'\n 'other equity instruments' 'public investment funds' 'venture'\n 'corporate bonds' 'listed domestic public equity'\n 'fixed term and savings deposit']<br>[0.02 0.16 0.19 0.23 0.01 0.   0.02 0.24 0.   0.12]",
          "['venture' 'listed domestic public equity' 'listed foreign public equity'\n 'corporate bonds' 'fixed term and savings deposit'\n 'public investment funds' 'state bonds' 'buyout'\n 'other equity instruments' 'cash']<br>[0.01 0.   0.01 0.07 0.11 0.02 0.25 0.29 0.07 0.18]",
          "['fixed term and savings deposit' 'other equity instruments'\n 'listed domestic public equity' 'listed foreign public equity'\n 'corporate bonds' 'state bonds' 'venture' 'buyout' 'cash'\n 'public investment funds']<br>[0.01 0.15 0.01 0.08 0.12 0.17 0.03 0.3  0.12 0.01]",
          "['venture' 'listed foreign public equity' 'state bonds' 'corporate bonds'\n 'cash' 'other equity instruments' 'fixed term and savings deposit'\n 'listed domestic public equity' 'buyout' 'public investment funds']<br>[0.19 0.03 0.21 0.01 0.14 0.03 0.01 0.02 0.33 0.04]",
          "['listed domestic public equity' 'corporate bonds' 'venture' 'state bonds'\n 'public investment funds' 'other equity instruments'\n 'fixed term and savings deposit' 'cash' 'buyout'\n 'listed foreign public equity']<br>[0.01 0.02 0.07 0.03 0.01 0.23 0.05 0.14 0.31 0.14]",
          "['fixed term and savings deposit' 'venture' 'cash'\n 'public investment funds' 'corporate bonds'\n 'listed domestic public equity' 'buyout' 'listed foreign public equity'\n 'state bonds' 'other equity instruments']<br>[0.23 0.   0.19 0.   0.08 0.01 0.22 0.04 0.23 0.  ]",
          "['fixed term and savings deposit' 'listed domestic public equity'\n 'listed foreign public equity' 'buyout' 'other equity instruments'\n 'state bonds' 'public investment funds' 'corporate bonds' 'venture'\n 'cash']<br>[0.21 0.01 0.01 0.26 0.01 0.24 0.01 0.03 0.07 0.14]",
          "['venture' 'buyout' 'other equity instruments' 'public investment funds'\n 'corporate bonds' 'fixed term and savings deposit' 'state bonds'\n 'listed foreign public equity' 'listed domestic public equity' 'cash']<br>[0.03 0.1  0.01 0.01 0.02 0.27 0.28 0.01 0.01 0.23]",
          "['buyout' 'venture' 'cash' 'state bonds' 'public investment funds'\n 'other equity instruments' 'corporate bonds'\n 'fixed term and savings deposit' 'listed domestic public equity'\n 'listed foreign public equity']<br>[0.11 0.02 0.29 0.14 0.01 0.01 0.15 0.25 0.   0.02]",
          "['other equity instruments' 'venture' 'listed domestic public equity'\n 'cash' 'fixed term and savings deposit' 'corporate bonds'\n 'public investment funds' 'state bonds' 'listed foreign public equity'\n 'buyout']<br>[0.12 0.01 0.01 0.18 0.02 0.12 0.02 0.21 0.01 0.31]",
          "['venture' 'listed domestic public equity' 'other equity instruments'\n 'listed foreign public equity' 'buyout' 'cash' 'state bonds'\n 'corporate bonds' 'public investment funds'\n 'fixed term and savings deposit']<br>[0.02 0.   0.   0.02 0.21 0.23 0.21 0.1  0.01 0.2 ]",
          "['listed foreign public equity' 'venture' 'cash'\n 'fixed term and savings deposit' 'state bonds' 'public investment funds'\n 'listed domestic public equity' 'other equity instruments'\n 'corporate bonds' 'buyout']<br>[0.   0.02 0.24 0.2  0.22 0.   0.01 0.02 0.1  0.2 ]",
          "['corporate bonds' 'buyout' 'other equity instruments'\n 'listed domestic public equity' 'cash' 'venture'\n 'public investment funds' 'state bonds' 'listed foreign public equity'\n 'fixed term and savings deposit']<br>[0.01 0.04 0.02 0.01 0.3  0.07 0.   0.26 0.02 0.28]",
          "['public investment funds' 'fixed term and savings deposit' 'cash'\n 'listed foreign public equity' 'corporate bonds' 'venture' 'state bonds'\n 'other equity instruments' 'listed domestic public equity' 'buyout']<br>[0.01 0.22 0.22 0.   0.17 0.02 0.17 0.02 0.01 0.16]",
          "['state bonds' 'public investment funds' 'buyout'\n 'listed domestic public equity' 'listed foreign public equity' 'cash'\n 'other equity instruments' 'fixed term and savings deposit'\n 'corporate bonds' 'venture']<br>[0.17 0.   0.06 0.01 0.   0.31 0.01 0.3  0.15 0.  ]",
          "['public investment funds' 'venture' 'buyout' 'cash'\n 'fixed term and savings deposit' 'other equity instruments'\n 'listed domestic public equity' 'state bonds' 'corporate bonds'\n 'listed foreign public equity']<br>[0.05 0.07 0.32 0.13 0.   0.07 0.01 0.1  0.24 0.01]",
          "['listed foreign public equity' 'other equity instruments'\n 'listed domestic public equity' 'public investment funds'\n 'corporate bonds' 'buyout' 'fixed term and savings deposit' 'venture'\n 'cash' 'state bonds']<br>[0.07 0.23 0.02 0.01 0.08 0.31 0.   0.11 0.14 0.03]",
          "['cash' 'listed domestic public equity' 'corporate bonds'\n 'fixed term and savings deposit' 'public investment funds' 'state bonds'\n 'venture' 'listed foreign public equity' 'buyout'\n 'other equity instruments']<br>[0.14 0.   0.25 0.06 0.   0.25 0.01 0.01 0.25 0.02]",
          "['state bonds' 'cash' 'corporate bonds' 'other equity instruments'\n 'listed domestic public equity' 'venture'\n 'fixed term and savings deposit' 'buyout' 'public investment funds'\n 'listed foreign public equity']<br>[0.07 0.2  0.02 0.2  0.02 0.04 0.   0.33 0.02 0.1 ]",
          "['public investment funds' 'buyout' 'cash'\n 'fixed term and savings deposit' 'state bonds'\n 'listed domestic public equity' 'corporate bonds'\n 'listed foreign public equity' 'venture' 'other equity instruments']<br>[0.03 0.31 0.16 0.03 0.06 0.01 0.02 0.07 0.02 0.29]",
          "['corporate bonds' 'cash' 'fixed term and savings deposit'\n 'listed foreign public equity' 'state bonds' 'venture' 'buyout'\n 'other equity instruments' 'public investment funds'\n 'listed domestic public equity']<br>[0.01 0.13 0.02 0.1  0.14 0.01 0.33 0.17 0.   0.09]",
          "['listed domestic public equity' 'venture' 'other equity instruments'\n 'buyout' 'corporate bonds' 'listed foreign public equity'\n 'fixed term and savings deposit' 'public investment funds' 'state bonds'\n 'cash']<br>[0.02 0.01 0.   0.07 0.09 0.   0.3  0.   0.2  0.31]",
          "['venture' 'listed domestic public equity' 'buyout'\n 'listed foreign public equity' 'public investment funds'\n 'fixed term and savings deposit' 'cash' 'other equity instruments'\n 'state bonds' 'corporate bonds']<br>[0.15 0.   0.33 0.04 0.01 0.03 0.13 0.04 0.21 0.06]",
          "['cash' 'buyout' 'listed foreign public equity'\n 'listed domestic public equity' 'public investment funds' 'state bonds'\n 'venture' 'corporate bonds' 'fixed term and savings deposit'\n 'other equity instruments']<br>[0.14 0.31 0.04 0.01 0.   0.3  0.01 0.08 0.1  0.  ]",
          "['corporate bonds' 'listed foreign public equity'\n 'public investment funds' 'cash' 'venture'\n 'fixed term and savings deposit' 'state bonds'\n 'listed domestic public equity' 'buyout' 'other equity instruments']<br>[0.04 0.13 0.01 0.12 0.01 0.03 0.12 0.01 0.28 0.24]",
          "['other equity instruments' 'fixed term and savings deposit' 'buyout'\n 'listed foreign public equity' 'state bonds' 'cash'\n 'listed domestic public equity' 'public investment funds'\n 'corporate bonds' 'venture']<br>[0.01 0.18 0.31 0.02 0.25 0.18 0.02 0.   0.01 0.01]",
          "['state bonds' 'fixed term and savings deposit'\n 'listed foreign public equity' 'corporate bonds' 'buyout'\n 'listed domestic public equity' 'cash' 'public investment funds'\n 'other equity instruments' 'venture']<br>[0.04 0.02 0.08 0.02 0.3  0.02 0.15 0.02 0.18 0.17]",
          "['cash' 'listed foreign public equity' 'venture' 'public investment funds'\n 'buyout' 'listed domestic public equity' 'other equity instruments'\n 'fixed term and savings deposit' 'state bonds' 'corporate bonds']<br>[0.13 0.11 0.03 0.02 0.32 0.02 0.24 0.02 0.1  0.01]",
          "['other equity instruments' 'state bonds' 'listed foreign public equity'\n 'venture' 'cash' 'corporate bonds' 'fixed term and savings deposit'\n 'listed domestic public equity' 'public investment funds' 'buyout']<br>[0.2  0.02 0.02 0.23 0.12 0.05 0.02 0.03 0.   0.32]",
          "['venture' 'public investment funds' 'cash' 'corporate bonds' 'buyout'\n 'fixed term and savings deposit' 'state bonds'\n 'listed foreign public equity' 'listed domestic public equity'\n 'other equity instruments']<br>[0.05 0.06 0.14 0.02 0.31 0.01 0.08 0.2  0.   0.13]",
          "['other equity instruments' 'corporate bonds' 'cash'\n 'listed domestic public equity' 'listed foreign public equity' 'buyout'\n 'public investment funds' 'venture' 'fixed term and savings deposit'\n 'state bonds']<br>[0.02 0.1  0.14 0.02 0.01 0.31 0.01 0.04 0.16 0.18]",
          "['listed foreign public equity' 'corporate bonds'\n 'public investment funds' 'cash' 'other equity instruments' 'buyout'\n 'venture' 'listed domestic public equity'\n 'fixed term and savings deposit' 'state bonds']<br>[0.03 0.08 0.   0.2  0.   0.2  0.01 0.01 0.24 0.22]",
          "['other equity instruments' 'fixed term and savings deposit' 'buyout'\n 'cash' 'listed foreign public equity' 'public investment funds'\n 'state bonds' 'corporate bonds' 'listed domestic public equity' 'venture']<br>[0.21 0.03 0.31 0.14 0.08 0.02 0.04 0.07 0.01 0.1 ]",
          "['corporate bonds' 'venture' 'other equity instruments'\n 'listed foreign public equity' 'buyout' 'listed domestic public equity'\n 'public investment funds' 'fixed term and savings deposit' 'state bonds'\n 'cash']<br>[0.05 0.1  0.09 0.02 0.33 0.   0.08 0.01 0.19 0.13]",
          "['other equity instruments' 'corporate bonds'\n 'listed foreign public equity' 'venture' 'buyout'\n 'listed domestic public equity' 'state bonds' 'cash'\n 'fixed term and savings deposit' 'public investment funds']<br>[0.11 0.01 0.22 0.03 0.31 0.   0.13 0.12 0.02 0.06]",
          "['buyout' 'state bonds' 'listed foreign public equity'\n 'public investment funds' 'cash' 'venture'\n 'listed domestic public equity' 'other equity instruments'\n 'fixed term and savings deposit' 'corporate bonds']<br>[0.32 0.24 0.01 0.02 0.24 0.01 0.01 0.04 0.02 0.1 ]",
          "['state bonds' 'corporate bonds' 'other equity instruments' 'buyout'\n 'public investment funds' 'listed domestic public equity' 'venture'\n 'fixed term and savings deposit' 'listed foreign public equity' 'cash']<br>[0.04 0.03 0.13 0.3  0.   0.02 0.04 0.01 0.29 0.14]",
          "['cash' 'venture' 'buyout' 'corporate bonds'\n 'listed domestic public equity' 'public investment funds'\n 'listed foreign public equity' 'state bonds' 'other equity instruments'\n 'fixed term and savings deposit']<br>[0.22 0.03 0.14 0.1  0.01 0.02 0.   0.19 0.01 0.28]",
          "['listed domestic public equity' 'state bonds' 'venture'\n 'public investment funds' 'listed foreign public equity' 'buyout'\n 'other equity instruments' 'corporate bonds' 'cash'\n 'fixed term and savings deposit']<br>[0.02 0.29 0.04 0.03 0.   0.28 0.01 0.1  0.17 0.06]",
          "['listed domestic public equity' 'corporate bonds'\n 'listed foreign public equity' 'fixed term and savings deposit'\n 'public investment funds' 'buyout' 'other equity instruments' 'venture'\n 'cash' 'state bonds']<br>[0.02 0.01 0.27 0.01 0.01 0.27 0.16 0.09 0.12 0.03]",
          "['buyout' 'corporate bonds' 'listed domestic public equity' 'venture'\n 'fixed term and savings deposit' 'public investment funds'\n 'listed foreign public equity' 'state bonds' 'other equity instruments'\n 'cash']<br>[0.12 0.14 0.01 0.06 0.22 0.02 0.01 0.24 0.01 0.18]",
          "['fixed term and savings deposit' 'listed domestic public equity'\n 'listed foreign public equity' 'public investment funds'\n 'other equity instruments' 'state bonds' 'corporate bonds' 'cash'\n 'venture' 'buyout']<br>[0.18 0.   0.   0.02 0.02 0.24 0.08 0.23 0.01 0.23]",
          "['listed foreign public equity' 'listed domestic public equity' 'buyout'\n 'state bonds' 'fixed term and savings deposit' 'corporate bonds'\n 'public investment funds' 'cash' 'other equity instruments' 'venture']<br>[0.01 0.   0.32 0.17 0.04 0.21 0.01 0.19 0.01 0.04]",
          "['corporate bonds' 'listed foreign public equity' 'state bonds' 'venture'\n 'public investment funds' 'fixed term and savings deposit' 'buyout'\n 'other equity instruments' 'cash' 'listed domestic public equity']<br>[0.17 0.01 0.13 0.08 0.   0.29 0.06 0.   0.25 0.  ]",
          "['other equity instruments' 'state bonds' 'corporate bonds' 'venture'\n 'listed domestic public equity' 'listed foreign public equity'\n 'public investment funds' 'fixed term and savings deposit' 'cash'\n 'buyout']<br>[0.14 0.15 0.04 0.06 0.02 0.06 0.01 0.01 0.18 0.33]",
          "['buyout' 'listed domestic public equity' 'public investment funds'\n 'venture' 'corporate bonds' 'cash' 'listed foreign public equity'\n 'state bonds' 'fixed term and savings deposit' 'other equity instruments']<br>[0.31 0.02 0.03 0.07 0.1  0.14 0.01 0.24 0.06 0.03]",
          "['venture' 'state bonds' 'buyout' 'listed domestic public equity'\n 'corporate bonds' 'fixed term and savings deposit'\n 'public investment funds' 'listed foreign public equity'\n 'other equity instruments' 'cash']<br>[0.24 0.18 0.32 0.01 0.05 0.02 0.01 0.02 0.04 0.13]",
          "['state bonds' 'cash' 'public investment funds'\n 'listed domestic public equity' 'corporate bonds'\n 'fixed term and savings deposit' 'other equity instruments' 'venture'\n 'buyout' 'listed foreign public equity']<br>[0.19 0.13 0.06 0.01 0.01 0.02 0.03 0.19 0.33 0.03]",
          "['corporate bonds' 'cash' 'listed foreign public equity' 'venture'\n 'public investment funds' 'listed domestic public equity' 'state bonds'\n 'other equity instruments' 'buyout' 'fixed term and savings deposit']<br>[0.07 0.22 0.   0.02 0.02 0.01 0.3  0.   0.29 0.07]",
          "['listed foreign public equity' 'listed domestic public equity'\n 'state bonds' 'cash' 'fixed term and savings deposit' 'corporate bonds'\n 'public investment funds' 'other equity instruments' 'buyout' 'venture']<br>[0.08 0.02 0.29 0.12 0.07 0.08 0.01 0.01 0.31 0.  ]",
          "['buyout' 'venture' 'listed foreign public equity' 'cash'\n 'fixed term and savings deposit' 'other equity instruments'\n 'corporate bonds' 'public investment funds' 'state bonds'\n 'listed domestic public equity']<br>[0.3  0.   0.04 0.15 0.02 0.09 0.04 0.07 0.29 0.01]",
          "['buyout' 'fixed term and savings deposit' 'cash'\n 'listed domestic public equity' 'venture' 'state bonds' 'corporate bonds'\n 'public investment funds' 'other equity instruments'\n 'listed foreign public equity']<br>[0.31 0.02 0.12 0.01 0.06 0.2  0.04 0.05 0.14 0.06]",
          "['listed domestic public equity' 'cash' 'other equity instruments'\n 'buyout' 'corporate bonds' 'venture' 'fixed term and savings deposit'\n 'public investment funds' 'listed foreign public equity' 'state bonds']<br>[0.   0.19 0.01 0.17 0.04 0.02 0.29 0.02 0.02 0.25]",
          "['listed domestic public equity' 'buyout' 'other equity instruments'\n 'corporate bonds' 'venture' 'fixed term and savings deposit'\n 'state bonds' 'listed foreign public equity' 'cash'\n 'public investment funds']<br>[0.01 0.14 0.02 0.12 0.03 0.21 0.23 0.   0.24 0.01]",
          "['corporate bonds' 'cash' 'buyout' 'listed foreign public equity'\n 'other equity instruments' 'fixed term and savings deposit'\n 'public investment funds' 'venture' 'state bonds'\n 'listed domestic public equity']<br>[0.03 0.14 0.31 0.04 0.03 0.02 0.03 0.13 0.26 0.02]",
          "['buyout' 'listed domestic public equity' 'venture' 'state bonds'\n 'corporate bonds' 'cash' 'listed foreign public equity'\n 'other equity instruments' 'public investment funds'\n 'fixed term and savings deposit']<br>[0.31 0.02 0.03 0.01 0.03 0.13 0.2  0.23 0.01 0.02]",
          "['listed foreign public equity' 'public investment funds' 'state bonds'\n 'buyout' 'corporate bonds' 'cash' 'fixed term and savings deposit'\n 'other equity instruments' 'listed domestic public equity' 'venture']<br>[0.03 0.05 0.23 0.3  0.14 0.15 0.02 0.02 0.   0.07]",
          "['other equity instruments' 'state bonds' 'cash'\n 'fixed term and savings deposit' 'listed foreign public equity'\n 'corporate bonds' 'public investment funds' 'venture' 'buyout'\n 'listed domestic public equity']<br>[0.   0.23 0.23 0.22 0.   0.06 0.01 0.05 0.19 0.01]",
          "['other equity instruments' 'listed foreign public equity'\n 'listed domestic public equity' 'buyout' 'venture' 'corporate bonds'\n 'public investment funds' 'cash' 'state bonds'\n 'fixed term and savings deposit']<br>[0.01 0.03 0.   0.27 0.03 0.06 0.02 0.18 0.28 0.12]",
          "['venture' 'listed domestic public equity' 'public investment funds'\n 'fixed term and savings deposit' 'other equity instruments'\n 'listed foreign public equity' 'buyout' 'state bonds' 'cash'\n 'corporate bonds']<br>[0.01 0.01 0.04 0.31 0.02 0.02 0.05 0.26 0.25 0.04]",
          "['cash' 'fixed term and savings deposit' 'other equity instruments'\n 'state bonds' 'listed domestic public equity' 'corporate bonds' 'buyout'\n 'venture' 'public investment funds' 'listed foreign public equity']<br>[0.13 0.03 0.03 0.28 0.01 0.03 0.31 0.12 0.02 0.05]",
          "['state bonds' 'fixed term and savings deposit' 'public investment funds'\n 'listed domestic public equity' 'other equity instruments'\n 'listed foreign public equity' 'corporate bonds' 'cash' 'buyout'\n 'venture']<br>[0.23 0.16 0.01 0.   0.02 0.   0.05 0.22 0.26 0.04]",
          "['state bonds' 'cash' 'corporate bonds' 'listed foreign public equity'\n 'buyout' 'fixed term and savings deposit' 'public investment funds'\n 'venture' 'other equity instruments' 'listed domestic public equity']<br>[0.   0.13 0.09 0.31 0.33 0.01 0.   0.02 0.1  0.01]",
          "['corporate bonds' 'buyout' 'public investment funds'\n 'other equity instruments' 'listed foreign public equity' 'venture'\n 'listed domestic public equity' 'state bonds'\n 'fixed term and savings deposit' 'cash']<br>[0.02 0.25 0.03 0.   0.01 0.04 0.   0.28 0.16 0.22]",
          "['buyout' 'cash' 'listed foreign public equity' 'venture'\n 'other equity instruments' 'fixed term and savings deposit' 'state bonds'\n 'corporate bonds' 'listed domestic public equity'\n 'public investment funds']<br>[0.2  0.14 0.   0.   0.   0.1  0.28 0.25 0.   0.02]",
          "['public investment funds' 'venture' 'state bonds'\n 'fixed term and savings deposit' 'other equity instruments'\n 'corporate bonds' 'cash' 'listed foreign public equity'\n 'listed domestic public equity' 'buyout']<br>[0.02 0.02 0.23 0.14 0.01 0.11 0.28 0.01 0.   0.17]",
          "['corporate bonds' 'other equity instruments' 'public investment funds'\n 'venture' 'buyout' 'listed foreign public equity'\n 'listed domestic public equity' 'state bonds' 'cash'\n 'fixed term and savings deposit']<br>[0.14 0.   0.01 0.03 0.03 0.01 0.01 0.29 0.21 0.27]",
          "['cash' 'corporate bonds' 'public investment funds'\n 'fixed term and savings deposit' 'buyout' 'venture'\n 'other equity instruments' 'state bonds' 'listed domestic public equity'\n 'listed foreign public equity']<br>[0.13 0.08 0.02 0.   0.3  0.11 0.26 0.04 0.01 0.04]",
          "['corporate bonds' 'fixed term and savings deposit' 'state bonds'\n 'public investment funds' 'listed foreign public equity' 'venture'\n 'listed domestic public equity' 'buyout' 'cash'\n 'other equity instruments']<br>[0.02 0.03 0.15 0.03 0.12 0.11 0.02 0.33 0.12 0.08]",
          "['buyout' 'listed domestic public equity' 'state bonds'\n 'other equity instruments' 'cash' 'corporate bonds'\n 'listed foreign public equity' 'venture' 'fixed term and savings deposit'\n 'public investment funds']<br>[0.32 0.01 0.03 0.14 0.14 0.07 0.2  0.06 0.04 0.01]",
          "['public investment funds' 'listed foreign public equity'\n 'fixed term and savings deposit' 'state bonds' 'venture' 'cash'\n 'corporate bonds' 'buyout' 'other equity instruments'\n 'listed domestic public equity']<br>[0.02 0.05 0.03 0.3  0.1  0.13 0.01 0.32 0.01 0.04]",
          "['other equity instruments' 'listed domestic public equity'\n 'public investment funds' 'corporate bonds' 'buyout' 'cash' 'state bonds'\n 'listed foreign public equity' 'venture' 'fixed term and savings deposit']<br>[0.08 0.04 0.01 0.09 0.32 0.12 0.27 0.01 0.   0.04]",
          "['cash' 'public investment funds' 'fixed term and savings deposit'\n 'state bonds' 'other equity instruments' 'buyout' 'venture'\n 'listed domestic public equity' 'corporate bonds'\n 'listed foreign public equity']<br>[0.12 0.01 0.03 0.15 0.06 0.31 0.17 0.   0.1  0.05]",
          "['other equity instruments' 'listed domestic public equity'\n 'public investment funds' 'state bonds' 'venture'\n 'fixed term and savings deposit' 'buyout' 'cash' 'corporate bonds'\n 'listed foreign public equity']<br>[0.12 0.05 0.   0.29 0.02 0.02 0.33 0.12 0.01 0.04]",
          "['public investment funds' 'state bonds' 'other equity instruments'\n 'buyout' 'venture' 'cash' 'fixed term and savings deposit'\n 'corporate bonds' 'listed domestic public equity'\n 'listed foreign public equity']<br>[0.01 0.13 0.15 0.32 0.13 0.12 0.01 0.   0.01 0.13]",
          "['other equity instruments' 'state bonds' 'listed foreign public equity'\n 'fixed term and savings deposit' 'public investment funds' 'buyout'\n 'corporate bonds' 'cash' 'listed domestic public equity' 'venture']<br>[0.   0.27 0.05 0.23 0.01 0.25 0.02 0.17 0.01 0.  ]",
          "['other equity instruments' 'venture' 'state bonds' 'buyout'\n 'fixed term and savings deposit' 'listed foreign public equity'\n 'corporate bonds' 'listed domestic public equity' 'cash'\n 'public investment funds']<br>[0.   0.06 0.23 0.27 0.08 0.01 0.16 0.01 0.18 0.01]",
          "['other equity instruments' 'venture' 'cash' 'public investment funds'\n 'corporate bonds' 'listed foreign public equity' 'state bonds'\n 'fixed term and savings deposit' 'listed domestic public equity' 'buyout']<br>[0.21 0.07 0.14 0.05 0.01 0.09 0.08 0.02 0.02 0.33]",
          "['venture' 'fixed term and savings deposit' 'buyout' 'cash' 'state bonds'\n 'corporate bonds' 'listed domestic public equity'\n 'other equity instruments' 'public investment funds'\n 'listed foreign public equity']<br>[0.   0.01 0.32 0.15 0.09 0.11 0.   0.14 0.01 0.17]",
          "['other equity instruments' 'listed domestic public equity' 'cash'\n 'state bonds' 'corporate bonds' 'fixed term and savings deposit' 'buyout'\n 'venture' 'public investment funds' 'listed foreign public equity']<br>[0.   0.01 0.13 0.21 0.14 0.07 0.3  0.08 0.01 0.05]",
          "['other equity instruments' 'corporate bonds'\n 'listed foreign public equity' 'buyout' 'cash' 'venture'\n 'listed domestic public equity' 'fixed term and savings deposit'\n 'public investment funds' 'state bonds']<br>[0.01 0.01 0.06 0.33 0.16 0.01 0.02 0.06 0.04 0.29]",
          "['buyout' 'state bonds' 'corporate bonds' 'listed domestic public equity'\n 'listed foreign public equity' 'venture' 'public investment funds' 'cash'\n 'fixed term and savings deposit' 'other equity instruments']<br>[0.23 0.16 0.09 0.   0.   0.04 0.   0.23 0.25 0.01]",
          "['cash' 'public investment funds' 'listed foreign public equity' 'venture'\n 'listed domestic public equity' 'fixed term and savings deposit'\n 'other equity instruments' 'state bonds' 'buyout' 'corporate bonds']<br>[0.32 0.01 0.02 0.04 0.01 0.32 0.01 0.12 0.06 0.1 ]",
          "['fixed term and savings deposit' 'venture' 'corporate bonds' 'buyout'\n 'state bonds' 'listed domestic public equity' 'other equity instruments'\n 'public investment funds' 'cash' 'listed foreign public equity']<br>[0.22 0.01 0.01 0.17 0.23 0.   0.01 0.01 0.31 0.03]",
          "['buyout' 'listed foreign public equity' 'public investment funds'\n 'corporate bonds' 'cash' 'other equity instruments' 'venture'\n 'listed domestic public equity' 'fixed term and savings deposit'\n 'state bonds']<br>[0.28 0.01 0.   0.04 0.15 0.03 0.05 0.   0.21 0.22]",
          "['buyout' 'venture' 'listed domestic public equity'\n 'listed foreign public equity' 'corporate bonds'\n 'other equity instruments' 'fixed term and savings deposit'\n 'public investment funds' 'cash' 'state bonds']<br>[0.27 0.02 0.   0.   0.2  0.   0.18 0.   0.16 0.15]",
          "['buyout' 'cash' 'listed foreign public equity'\n 'fixed term and savings deposit' 'public investment funds'\n 'corporate bonds' 'other equity instruments'\n 'listed domestic public equity' 'state bonds' 'venture']<br>[0.28 0.12 0.01 0.12 0.01 0.07 0.02 0.02 0.33 0.02]",
          "['corporate bonds' 'public investment funds' 'cash'\n 'fixed term and savings deposit' 'buyout' 'listed foreign public equity'\n 'other equity instruments' 'listed domestic public equity' 'venture'\n 'state bonds']<br>[0.04 0.   0.16 0.02 0.32 0.15 0.08 0.   0.04 0.19]",
          "['listed foreign public equity' 'other equity instruments'\n 'listed domestic public equity' 'state bonds' 'venture'\n 'fixed term and savings deposit' 'cash' 'corporate bonds' 'buyout'\n 'public investment funds']<br>[0.   0.02 0.01 0.29 0.03 0.06 0.15 0.12 0.3  0.01]",
          "['corporate bonds' 'cash' 'state bonds' 'other equity instruments'\n 'listed domestic public equity' 'fixed term and savings deposit'\n 'listed foreign public equity' 'venture' 'public investment funds'\n 'buyout']<br>[0.04 0.28 0.31 0.01 0.   0.23 0.01 0.05 0.01 0.04]",
          "['fixed term and savings deposit' 'corporate bonds'\n 'listed domestic public equity' 'other equity instruments'\n 'public investment funds' 'venture' 'listed foreign public equity'\n 'state bonds' 'cash' 'buyout']<br>[0.3  0.16 0.01 0.02 0.01 0.   0.   0.14 0.26 0.12]",
          "['public investment funds' 'listed foreign public equity'\n 'other equity instruments' 'cash' 'state bonds' 'corporate bonds'\n 'venture' 'fixed term and savings deposit' 'buyout'\n 'listed domestic public equity']<br>[0.   0.05 0.03 0.17 0.21 0.17 0.02 0.04 0.32 0.  ]",
          "['listed foreign public equity' 'corporate bonds'\n 'other equity instruments' 'listed domestic public equity'\n 'fixed term and savings deposit' 'cash' 'buyout'\n 'public investment funds' 'venture' 'state bonds']<br>[0.31 0.02 0.11 0.   0.   0.13 0.32 0.02 0.04 0.05]",
          "['fixed term and savings deposit' 'state bonds' 'other equity instruments'\n 'cash' 'buyout' 'corporate bonds' 'listed domestic public equity'\n 'public investment funds' 'venture' 'listed foreign public equity']<br>[0.03 0.23 0.09 0.12 0.31 0.06 0.02 0.02 0.1  0.03]",
          "['state bonds' 'public investment funds' 'listed domestic public equity'\n 'other equity instruments' 'venture' 'cash' 'corporate bonds' 'buyout'\n 'fixed term and savings deposit' 'listed foreign public equity']<br>[0.26 0.03 0.01 0.   0.03 0.17 0.11 0.32 0.04 0.03]",
          "['state bonds' 'public investment funds' 'other equity instruments'\n 'venture' 'listed domestic public equity' 'cash' 'buyout'\n 'listed foreign public equity' 'corporate bonds'\n 'fixed term and savings deposit']<br>[0.2  0.01 0.1  0.04 0.03 0.13 0.33 0.11 0.01 0.05]",
          "['listed foreign public equity' 'corporate bonds' 'buyout' 'venture'\n 'public investment funds' 'cash' 'fixed term and savings deposit'\n 'state bonds' 'listed domestic public equity' 'other equity instruments']<br>[0.   0.09 0.13 0.03 0.02 0.29 0.29 0.14 0.   0.01]",
          "['buyout' 'public investment funds' 'fixed term and savings deposit'\n 'corporate bonds' 'other equity instruments' 'cash' 'venture'\n 'state bonds' 'listed foreign public equity'\n 'listed domestic public equity']<br>[0.28 0.03 0.09 0.08 0.01 0.14 0.01 0.32 0.02 0.02]",
          "['venture' 'listed foreign public equity' 'other equity instruments'\n 'state bonds' 'fixed term and savings deposit' 'public investment funds'\n 'buyout' 'corporate bonds' 'cash' 'listed domestic public equity']<br>[0.04 0.08 0.03 0.29 0.03 0.02 0.33 0.03 0.15 0.  ]",
          "['other equity instruments' 'public investment funds' 'venture' 'cash'\n 'buyout' 'listed foreign public equity' 'listed domestic public equity'\n 'state bonds' 'fixed term and savings deposit' 'corporate bonds']<br>[0.07 0.01 0.17 0.13 0.33 0.16 0.   0.07 0.05 0.02]",
          "['state bonds' 'venture' 'corporate bonds' 'buyout'\n 'listed domestic public equity' 'listed foreign public equity'\n 'public investment funds' 'fixed term and savings deposit'\n 'other equity instruments' 'cash']<br>[0.05 0.12 0.   0.33 0.01 0.16 0.05 0.02 0.13 0.13]",
          "['fixed term and savings deposit' 'listed domestic public equity' 'buyout'\n 'public investment funds' 'other equity instruments' 'cash' 'state bonds'\n 'venture' 'listed foreign public equity' 'corporate bonds']<br>[0.21 0.   0.18 0.   0.   0.23 0.27 0.06 0.02 0.02]",
          "['listed domestic public equity' 'cash' 'buyout' 'corporate bonds'\n 'listed foreign public equity' 'venture' 'public investment funds'\n 'fixed term and savings deposit' 'other equity instruments' 'state bonds']<br>[0.01 0.14 0.32 0.09 0.03 0.07 0.   0.08 0.12 0.14]",
          "['state bonds' 'listed domestic public equity' 'venture' 'corporate bonds'\n 'other equity instruments' 'buyout' 'listed foreign public equity'\n 'fixed term and savings deposit' 'public investment funds' 'cash']<br>[0.19 0.01 0.06 0.02 0.14 0.31 0.11 0.01 0.04 0.12]",
          "['state bonds' 'other equity instruments' 'cash' 'corporate bonds'\n 'fixed term and savings deposit' 'listed foreign public equity' 'venture'\n 'public investment funds' 'buyout' 'listed domestic public equity']<br>[0.23 0.01 0.16 0.07 0.03 0.01 0.16 0.01 0.32 0.01]",
          "['fixed term and savings deposit' 'public investment funds'\n 'listed domestic public equity' 'state bonds' 'other equity instruments'\n 'listed foreign public equity' 'corporate bonds' 'venture' 'cash'\n 'buyout']<br>[0.23 0.02 0.01 0.19 0.   0.01 0.11 0.01 0.21 0.22]",
          "['public investment funds' 'cash' 'other equity instruments'\n 'fixed term and savings deposit' 'state bonds'\n 'listed foreign public equity' 'venture' 'buyout'\n 'listed domestic public equity' 'corporate bonds']<br>[0.03 0.17 0.16 0.01 0.17 0.02 0.1  0.33 0.01 0.01]",
          "['buyout' 'corporate bonds' 'fixed term and savings deposit' 'state bonds'\n 'listed domestic public equity' 'other equity instruments'\n 'public investment funds' 'venture' 'cash' 'listed foreign public equity']<br>[0.32 0.06 0.02 0.3  0.02 0.01 0.01 0.02 0.12 0.13]",
          "['listed foreign public equity' 'other equity instruments'\n 'public investment funds' 'listed domestic public equity'\n 'corporate bonds' 'cash' 'fixed term and savings deposit' 'venture'\n 'state bonds' 'buyout']<br>[0.02 0.09 0.04 0.01 0.13 0.12 0.03 0.   0.22 0.32]",
          "['cash' 'fixed term and savings deposit' 'listed domestic public equity'\n 'venture' 'corporate bonds' 'listed foreign public equity' 'state bonds'\n 'public investment funds' 'other equity instruments' 'buyout']<br>[0.19 0.1  0.02 0.05 0.02 0.   0.29 0.02 0.01 0.31]",
          "['listed domestic public equity' 'public investment funds'\n 'corporate bonds' 'cash' 'venture' 'listed foreign public equity'\n 'state bonds' 'other equity instruments' 'fixed term and savings deposit'\n 'buyout']<br>[0.01 0.01 0.03 0.2  0.   0.02 0.22 0.02 0.26 0.24]",
          "['venture' 'state bonds' 'public investment funds'\n 'other equity instruments' 'cash' 'fixed term and savings deposit'\n 'listed domestic public equity' 'listed foreign public equity'\n 'corporate bonds' 'buyout']<br>[0.   0.23 0.02 0.   0.22 0.24 0.01 0.01 0.05 0.22]",
          "['listed domestic public equity' 'public investment funds'\n 'listed foreign public equity' 'other equity instruments'\n 'corporate bonds' 'buyout' 'state bonds' 'fixed term and savings deposit'\n 'venture' 'cash']<br>[0.   0.01 0.03 0.01 0.15 0.3  0.24 0.04 0.05 0.17]",
          "['cash' 'corporate bonds' 'public investment funds'\n 'other equity instruments' 'state bonds' 'fixed term and savings deposit'\n 'listed domestic public equity' 'venture' 'buyout'\n 'listed foreign public equity']<br>[0.14 0.17 0.   0.02 0.19 0.24 0.   0.02 0.21 0.01]",
          "['venture' 'buyout' 'public investment funds'\n 'listed domestic public equity' 'state bonds' 'corporate bonds' 'cash'\n 'other equity instruments' 'listed foreign public equity'\n 'fixed term and savings deposit']<br>[0.08 0.29 0.   0.01 0.32 0.01 0.16 0.06 0.04 0.02]",
          "['cash' 'public investment funds' 'other equity instruments' 'state bonds'\n 'listed foreign public equity' 'listed domestic public equity' 'venture'\n 'fixed term and savings deposit' 'buyout' 'corporate bonds']<br>[0.19 0.01 0.01 0.26 0.02 0.   0.05 0.18 0.22 0.06]",
          "['cash' 'listed domestic public equity' 'fixed term and savings deposit'\n 'public investment funds' 'buyout' 'state bonds'\n 'listed foreign public equity' 'venture' 'corporate bonds'\n 'other equity instruments']<br>[0.13 0.   0.04 0.02 0.33 0.21 0.01 0.12 0.09 0.05]",
          "['venture' 'cash' 'fixed term and savings deposit'\n 'public investment funds' 'state bonds' 'corporate bonds'\n 'other equity instruments' 'buyout' 'listed foreign public equity'\n 'listed domestic public equity']<br>[0.07 0.12 0.06 0.01 0.11 0.18 0.08 0.32 0.05 0.  ]",
          "['listed domestic public equity' 'listed foreign public equity'\n 'corporate bonds' 'buyout' 'state bonds' 'other equity instruments'\n 'cash' 'fixed term and savings deposit' 'venture'\n 'public investment funds']<br>[0.   0.05 0.19 0.31 0.   0.26 0.12 0.02 0.04 0.01]",
          "['other equity instruments' 'buyout' 'venture' 'state bonds'\n 'public investment funds' 'listed domestic public equity'\n 'corporate bonds' 'cash' 'fixed term and savings deposit'\n 'listed foreign public equity']<br>[0.01 0.19 0.05 0.25 0.   0.01 0.01 0.25 0.23 0.  ]",
          "['venture' 'listed foreign public equity' 'buyout' 'cash'\n 'listed domestic public equity' 'state bonds' 'corporate bonds'\n 'other equity instruments' 'public investment funds'\n 'fixed term and savings deposit']<br>[0.01 0.01 0.08 0.28 0.02 0.26 0.11 0.01 0.   0.23]",
          "['public investment funds' 'other equity instruments' 'corporate bonds'\n 'state bonds' 'listed foreign public equity' 'cash'\n 'fixed term and savings deposit' 'listed domestic public equity' 'buyout'\n 'venture']<br>[0.01 0.02 0.23 0.25 0.   0.17 0.03 0.01 0.27 0.02]",
          "['corporate bonds' 'listed foreign public equity'\n 'other equity instruments' 'public investment funds' 'cash' 'venture'\n 'fixed term and savings deposit' 'listed domestic public equity' 'buyout'\n 'state bonds']<br>[0.01 0.13 0.12 0.03 0.14 0.04 0.02 0.01 0.32 0.19]",
          "['listed domestic public equity' 'buyout' 'listed foreign public equity'\n 'public investment funds' 'other equity instruments' 'corporate bonds'\n 'state bonds' 'cash' 'fixed term and savings deposit' 'venture']<br>[0.02 0.23 0.   0.01 0.02 0.02 0.31 0.13 0.23 0.03]",
          "['public investment funds' 'venture' 'listed foreign public equity'\n 'buyout' 'cash' 'corporate bonds' 'listed domestic public equity'\n 'state bonds' 'other equity instruments' 'fixed term and savings deposit']<br>[0.   0.03 0.01 0.25 0.18 0.1  0.01 0.33 0.01 0.08]",
          "['public investment funds' 'other equity instruments' 'state bonds' 'cash'\n 'corporate bonds' 'listed domestic public equity'\n 'listed foreign public equity' 'venture' 'buyout'\n 'fixed term and savings deposit']<br>[0.01 0.07 0.2  0.14 0.   0.   0.14 0.11 0.31 0.02]",
          "['state bonds' 'buyout' 'cash' 'listed foreign public equity'\n 'listed domestic public equity' 'corporate bonds'\n 'fixed term and savings deposit' 'public investment funds' 'venture'\n 'other equity instruments']<br>[0.1  0.33 0.14 0.08 0.02 0.07 0.01 0.01 0.08 0.15]",
          "['fixed term and savings deposit' 'listed foreign public equity' 'venture'\n 'listed domestic public equity' 'corporate bonds'\n 'public investment funds' 'other equity instruments' 'cash' 'state bonds'\n 'buyout']<br>[0.04 0.01 0.04 0.   0.1  0.01 0.05 0.16 0.29 0.31]",
          "['cash' 'other equity instruments' 'public investment funds' 'venture'\n 'corporate bonds' 'fixed term and savings deposit'\n 'listed domestic public equity' 'state bonds' 'buyout'\n 'listed foreign public equity']<br>[0.13 0.16 0.02 0.2  0.   0.01 0.01 0.06 0.32 0.09]",
          "['listed foreign public equity' 'other equity instruments'\n 'public investment funds' 'buyout' 'venture'\n 'fixed term and savings deposit' 'listed domestic public equity'\n 'corporate bonds' 'cash' 'state bonds']<br>[0.12 0.25 0.02 0.3  0.11 0.01 0.01 0.   0.14 0.04]",
          "['state bonds' 'other equity instruments' 'cash'\n 'fixed term and savings deposit' 'venture'\n 'listed domestic public equity' 'buyout' 'public investment funds'\n 'corporate bonds' 'listed foreign public equity']<br>[0.15 0.07 0.15 0.05 0.09 0.01 0.33 0.01 0.08 0.06]",
          "['state bonds' 'listed domestic public equity'\n 'listed foreign public equity' 'fixed term and savings deposit'\n 'other equity instruments' 'buyout' 'venture' 'cash'\n 'public investment funds' 'corporate bonds']<br>[0.17 0.01 0.04 0.03 0.09 0.33 0.12 0.13 0.04 0.05]",
          "['public investment funds' 'listed domestic public equity' 'cash'\n 'fixed term and savings deposit' 'state bonds'\n 'listed foreign public equity' 'venture' 'corporate bonds'\n 'other equity instruments' 'buyout']<br>[0.01 0.01 0.12 0.03 0.28 0.   0.04 0.21 0.01 0.28]",
          "['other equity instruments' 'venture' 'buyout'\n 'listed domestic public equity' 'corporate bonds' 'cash'\n 'listed foreign public equity' 'fixed term and savings deposit'\n 'public investment funds' 'state bonds']<br>[0.18 0.04 0.32 0.01 0.14 0.13 0.04 0.05 0.   0.09]",
          "['buyout' 'state bonds' 'fixed term and savings deposit' 'venture'\n 'other equity instruments' 'public investment funds' 'cash'\n 'corporate bonds' 'listed foreign public equity'\n 'listed domestic public equity']<br>[0.32 0.2  0.01 0.03 0.09 0.04 0.12 0.08 0.08 0.02]",
          "['venture' 'cash' 'other equity instruments'\n 'listed domestic public equity' 'state bonds' 'corporate bonds'\n 'public investment funds' 'fixed term and savings deposit'\n 'listed foreign public equity' 'buyout']<br>[0.2  0.15 0.14 0.01 0.06 0.02 0.02 0.02 0.06 0.33]",
          "['fixed term and savings deposit' 'corporate bonds' 'state bonds'\n 'venture' 'listed foreign public equity' 'public investment funds'\n 'buyout' 'cash' 'listed domestic public equity'\n 'other equity instruments']<br>[0.1  0.09 0.25 0.02 0.02 0.01 0.26 0.25 0.   0.01]",
          "['listed domestic public equity' 'other equity instruments'\n 'fixed term and savings deposit' 'listed foreign public equity' 'cash'\n 'state bonds' 'buyout' 'public investment funds' 'venture'\n 'corporate bonds']<br>[0.   0.13 0.04 0.08 0.12 0.19 0.3  0.   0.12 0.02]",
          "['other equity instruments' 'venture' 'cash'\n 'listed domestic public equity' 'state bonds'\n 'listed foreign public equity' 'buyout' 'fixed term and savings deposit'\n 'public investment funds' 'corporate bonds']<br>[0.01 0.   0.18 0.   0.27 0.05 0.3  0.14 0.   0.04]",
          "['cash' 'corporate bonds' 'venture' 'listed foreign public equity'\n 'public investment funds' 'buyout' 'listed domestic public equity'\n 'state bonds' 'other equity instruments' 'fixed term and savings deposit']<br>[0.23 0.16 0.02 0.   0.01 0.12 0.02 0.18 0.   0.27]",
          "['cash' 'state bonds' 'venture' 'fixed term and savings deposit'\n 'listed domestic public equity' 'buyout' 'public investment funds'\n 'listed foreign public equity' 'corporate bonds'\n 'other equity instruments']<br>[0.24 0.21 0.01 0.19 0.   0.24 0.   0.   0.09 0.01]",
          "['other equity instruments' 'listed foreign public equity' 'venture'\n 'listed domestic public equity' 'fixed term and savings deposit'\n 'state bonds' 'buyout' 'corporate bonds' 'public investment funds' 'cash']<br>[0.   0.   0.01 0.   0.08 0.29 0.22 0.11 0.04 0.25]",
          "['other equity instruments' 'state bonds' 'cash' 'venture'\n 'listed foreign public equity' 'corporate bonds'\n 'listed domestic public equity' 'buyout' 'fixed term and savings deposit'\n 'public investment funds']<br>[0.05 0.28 0.12 0.02 0.05 0.18 0.01 0.28 0.   0.  ]",
          "['public investment funds' 'state bonds' 'cash'\n 'listed foreign public equity' 'other equity instruments' 'buyout'\n 'fixed term and savings deposit' 'listed domestic public equity'\n 'corporate bonds' 'venture']<br>[0.01 0.12 0.22 0.01 0.02 0.15 0.29 0.   0.18 0.01]",
          "['state bonds' 'listed foreign public equity' 'venture'\n 'fixed term and savings deposit' 'buyout' 'corporate bonds'\n 'public investment funds' 'cash' 'listed domestic public equity'\n 'other equity instruments']<br>[0.23 0.03 0.03 0.2  0.26 0.01 0.   0.23 0.   0.  ]",
          "['corporate bonds' 'buyout' 'listed domestic public equity' 'cash'\n 'other equity instruments' 'listed foreign public equity' 'state bonds'\n 'venture' 'public investment funds' 'fixed term and savings deposit']<br>[0.1  0.16 0.02 0.24 0.01 0.01 0.2  0.01 0.01 0.26]",
          "['cash' 'listed foreign public equity' 'listed domestic public equity'\n 'other equity instruments' 'venture' 'buyout' 'corporate bonds'\n 'state bonds' 'public investment funds' 'fixed term and savings deposit']<br>[0.2  0.   0.   0.   0.04 0.25 0.07 0.24 0.   0.18]"
         ],
         "type": "scatter",
         "x": [
          0.08672431725048113,
          0.08151807610438988,
          0.08815058240125927,
          0.07113137626631795,
          0.05013282858697981,
          0.07835858699493375,
          0.07000506852313196,
          0.06599685231919701,
          0.0677501875029826,
          0.08144527813641071,
          0.0994649794294052,
          0.07411044870472785,
          0.07127376818871232,
          0.06254276082750905,
          0.05623494463159807,
          0.05922665866289689,
          0.08916043115836363,
          0.06251481610636635,
          0.06080358177467673,
          0.05848545383616511,
          0.0603797725410613,
          0.08083974376945909,
          0.054728070839066674,
          0.04732878354730766,
          0.07299455834595754,
          0.04531857354434824,
          0.08334282148313794,
          0.08608938913421213,
          0.07503126688643875,
          0.059150314042332015,
          0.0460718739664874,
          0.0780165375461562,
          0.08112067770276268,
          0.07643722037040594,
          0.05356584179771471,
          0.07287114177784235,
          0.06257344780872076,
          0.0823083052437292,
          0.06187970899653779,
          0.054912779355539815,
          0.03985516042920164,
          0.06147350365608503,
          0.039629710638843935,
          0.0728634207348763,
          0.04103263060880938,
          0.04932740670310167,
          0.06098463897310699,
          0.10142945673601728,
          0.043293406493881956,
          0.07944060708587769,
          0.07292943020965062,
          0.04826586764450319,
          0.0937420364682798,
          0.0587871906163307,
          0.06030211709125974,
          0.05407541089460717,
          0.07269407310927693,
          0.07126740972946119,
          0.0531426748626751,
          0.06645714095320307,
          0.09294885076458718,
          0.034611141489637405,
          0.06119570744813316,
          0.042214249639310183,
          0.04976004857496424,
          0.062472487231582996,
          0.07561615661004135,
          0.0751094306283239,
          0.07440983826060704,
          0.10444444545836797,
          0.06177576450624468,
          0.03965457442771893,
          0.04683984324709467,
          0.09160269493242708,
          0.039250357177907313,
          0.07071277661750457,
          0.07014353238793439,
          0.06868757864505708,
          0.08297234343117471,
          0.06331877949841658,
          0.09220716223114342,
          0.05920873070812277,
          0.046576784260956655,
          0.06054280260644035,
          0.037733360127309094,
          0.07008316148037773,
          0.057026552754011,
          0.07353929353338118,
          0.04452758413887059,
          0.04925805819126247,
          0.08676985746247541,
          0.0838520068603346,
          0.08558712441451401,
          0.08435840105645495,
          0.0824737194475913,
          0.06904611454467514,
          0.043172641019021525,
          0.11587427587703321,
          0.06796060946282928,
          0.037532422028812636,
          0.09676971499692091,
          0.03690910541305357,
          0.08937834866225321,
          0.07120232465699768,
          0.0995922899296557,
          0.046328680773807925,
          0.06752440556178929,
          0.0364765101475429,
          0.09587891691465909,
          0.0444003938690931,
          0.0784823966360145,
          0.030666644698080357,
          0.04144897005610875,
          0.09106261198693952,
          0.09096511730349661,
          0.04283677126465065,
          0.045670463742352126,
          0.04415883159693879,
          0.039813992040177285,
          0.0782335399792327,
          0.06681910874562305,
          0.05284553725002046,
          0.03947375307104709,
          0.06649164689964898,
          0.06600708088184176,
          0.03865623609896468,
          0.06739289074468167,
          0.039945239905276576,
          0.08160663702116881,
          0.04393097859706178,
          0.07529955588371555,
          0.060486156205009425,
          0.0684171191543045,
          0.034503608946894235,
          0.05582250938475177,
          0.04301679908903846,
          0.030168218489673864,
          0.0440752160330667,
          0.045623418431341815,
          0.07887502965697762,
          0.041618501329805234,
          0.06196018362379989,
          0.09312483606503906,
          0.06543687453367024,
          0.06419654743413543,
          0.026041869105676727,
          0.03727586871957513,
          0.039721568813975615,
          0.04132309194038244,
          0.0619710737180146,
          0.04185088001801157,
          0.036997968974831576,
          0.036178318157643816,
          0.04023610923516214,
          0.04047755798176689,
          0.06558821100853797,
          0.09241932228568872,
          0.0247029779325287,
          0.06170079173231572,
          0.07306088644922672,
          0.0505787514248276,
          0.11589966052477332,
          0.03278388246560038,
          0.09449599209504814,
          0.03407840415617052,
          0.09159269147941554,
          0.09415345087963425,
          0.0704292486935641,
          0.04021932091094155,
          0.03725234976586712,
          0.03548295526722936,
          0.038067487145581336,
          0.05915307497305191,
          0.03799977058493643,
          0.0750215894241411,
          0.03335410415117456,
          0.0894340718272572,
          0.038229871357531406,
          0.07045730046720851,
          0.03529003276923953,
          0.10327299969968094,
          0.07243552700250892,
          0.03780585801377347,
          0.09663721366547878,
          0.027460860049843668,
          0.03801804796196538,
          0.02178396475175949,
          0.0363187007934301,
          0.10674738725842801,
          0.029220649695773364,
          0.03742032813334351,
          0.03731329648502528,
          0.0915020952023597,
          0.03888336337852218,
          0.046547036431224056,
          0.03367655441107656,
          0.09028348111837403,
          0.022055294799437616,
          0.08159949505434884,
          0.03356644973341982,
          0.07349578293425413,
          0.08130491080836384,
          0.07948918904017263,
          0.02200181153056266,
          0.1082254439953452,
          0.08641161025914168,
          0.1012337105466519,
          0.04470295300779581,
          0.06758095698050302,
          0.08479969578652037,
          0.02400602396880833,
          0.06971326616027397,
          0.07379095539073065,
          0.08425366516491671,
          0.08855599256575186,
          0.03328589844210007,
          0.10099607352507324,
          0.10840329051809774,
          0.046100177620203374,
          0.0585680695551723,
          0.023556427416293414,
          0.06811434789154339,
          0.06433205113157282,
          0.08312404989452091,
          0.04818464481949203,
          0.08457964596976981,
          0.057151387362322184,
          0.020841240710000927,
          0.09545455199926926,
          0.08417958102475565,
          0.08091498996747265,
          0.08406454217999465,
          0.030591968161329537,
          0.031016019827431116,
          0.07300063985810056,
          0.02906385493392609,
          0.03292658498739886,
          0.04549758606921251,
          0.02138699730931156,
          0.06196207007321979,
          0.020089180477575484,
          0.0932447396934138,
          0.07102000750712788,
          0.05318684078465932,
          0.029954424413765657,
          0.07251105652742139,
          0.0946631430855304,
          0.08380683320352822,
          0.029414796607326727,
          0.05491247721436905,
          0.048832339639804274,
          0.07910966445418284,
          0.028307609076651103,
          0.0691502290224595,
          0.05578993672760886,
          0.02629500606071997,
          0.05966650468155144,
          0.0288579504759451,
          0.0838115361405833,
          0.041554083177432755,
          0.027931291261873305,
          0.09555943042904139,
          0.03355193216485006,
          0.043653053747774624,
          0.03867107791001952,
          0.032783899983784726,
          0.046495782239416084,
          0.028126505406400916,
          0.027617667277758995,
          0.028619607914279678,
          0.03233762041775801,
          0.0775705342093968,
          0.05038852929106286,
          0.02615165422645191,
          0.03845429756055622,
          0.028864360194923774,
          0.06136524718882912,
          0.05022036688576458,
          0.0469468347735489,
          0.07133962069915636,
          0.09008694934701085,
          0.03136141440847176,
          0.055673689463195265,
          0.06886104040030835,
          0.04551530398724038,
          0.023122672859358193,
          0.0645641133629844,
          0.06679828993621693,
          0.04197627395239601,
          0.045322289034235685,
          0.10097318741779275,
          0.06633568996324678,
          0.07736209918388526,
          0.10170025617544284,
          0.0873902083798843,
          0.06571313929035197,
          0.02948203726413085,
          0.05126633965067918,
          0.07213946437580404,
          0.05540315718229422,
          0.030157665445838144,
          0.02797611061720696,
          0.04365753831881729,
          0.03898901245220761,
          0.08660991102223406,
          0.06067528143530774,
          0.03817006047621224,
          0.036558799442022165,
          0.09692937360114373,
          0.04914782844234626,
          0.08652723929555652,
          0.03729228665614781,
          0.04471905352684133,
          0.029478201668858634,
          0.09237320566470723,
          0.0374248792023154,
          0.047564492810447376,
          0.03313007213598697,
          0.07361134845057249,
          0.04995355360892756,
          0.06223983509796439,
          0.07277143303158252,
          0.09584310244679896,
          0.0198618967981837,
          0.090104478126238,
          0.05938191055072243,
          0.04850714687548836,
          0.02707605259068426,
          0.0905493917295478,
          0.07738678237408117,
          0.06910030573450815,
          0.0797297802412085,
          0.08444862134766737,
          0.029273045422955227,
          0.027607986155121854,
          0.027330858604257203,
          0.08857895132573426,
          0.026893969775901437,
          0.08685055536148574,
          0.022229351518103267,
          0.018857510330634847,
          0.04140921358076364,
          0.03034436317377908,
          0.0462387723830629,
          0.10831663989612492,
          0.04091678000655477,
          0.09587756814517878,
          0.07587575868463459,
          0.026818402896041368,
          0.02477183946972449,
          0.08262153080255352,
          0.03324571740810085,
          0.03254269587768352,
          0.0838399380171622,
          0.02577730239605766,
          0.07077995842959643,
          0.04725861617375291,
          0.10568269663663915,
          0.06804827969240149,
          0.08201414583384625,
          0.07511495738869191,
          0.08993633154707278,
          0.019790548061918347,
          0.09027590480143081,
          0.020767997320059534,
          0.07143411282659216,
          0.088715973284749,
          0.02854542264985579,
          0.0413163059910842,
          0.06918946232721641,
          0.06140083345521866,
          0.09401319195739766,
          0.028492732659641477,
          0.036961766374475395,
          0.021482487869334408,
          0.020884110250254856,
          0.0555992451477266,
          0.027443563617635374,
          0.02640501115276038,
          0.018489111710084938,
          0.026222688764043628,
          0.016025577060433737,
          0.06007817087201557,
          0.09298780734521328,
          0.036297276720397356,
          0.08703928583455749,
          0.09553979459948508,
          0.0899448016770936,
          0.015974078844916223,
          0.05667482231549121,
          0.03918515390050165,
          0.08987184143620959,
          0.036686601595016945,
          0.08811688599324366,
          0.09350220238300753,
          0.09033953693214063,
          0.09020339368466965,
          0.04346687668193794,
          0.027220553572510242,
          0.0867758642388026,
          0.06399358431655396,
          0.08641483074966762,
          0.04229726622793487,
          0.10075864524798604,
          0.02304674356725262,
          0.038820255866054004,
          0.10425331995124952,
          0.026024505969082293,
          0.02883422079069764,
          0.04095639813865228,
          0.02073105582240567,
          0.07190831006528384,
          0.047240988651014705,
          0.061204631904445764,
          0.06355062797038673,
          0.033787984508111754,
          0.046888210341099607,
          0.05546150943120373,
          0.07018155379455487,
          0.024460096523200803,
          0.024382465942902495,
          0.05555110272890179,
          0.1047548148842792,
          0.04850235980861653,
          0.025780317542730153,
          0.03571660055824182,
          0.020421521269714457,
          0.05224545061014212,
          0.032499448336157956,
          0.09838870380082208,
          0.03103761658833036,
          0.03020388114199233,
          0.025698743198767523,
          0.01963713671028951,
          0.09230810378471817,
          0.07484214746110243,
          0.08970560247886751,
          0.05504787081729229,
          0.054242018305770114,
          0.062025757854659865,
          0.06317645207412094,
          0.08296673207934673,
          0.03220040749235171,
          0.03654466033632684,
          0.09114394197306423,
          0.0813036946137185,
          0.046882434569606134,
          0.04872434931744394,
          0.028218743265147367,
          0.01832933462552037,
          0.02282270388764881,
          0.03650844073660501,
          0.03276258329480751,
          0.03698459448791212,
          0.067403370250621,
          0.038955422178790465,
          0.01939882588936506,
          0.020130979081189767,
          0.04479334036567267,
          0.09984905604528518,
          0.05930853259790112,
          0.04333796570540546,
          0.06979990031878054,
          0.020630713059298266,
          0.03843311330848309,
          0.050832981645719935,
          0.07956273790374989,
          0.09147137105419706,
          0.025696522030117228,
          0.06097927937444653,
          0.0758146232592684,
          0.0498447783991172,
          0.02779927042388343,
          0.07095595057005367,
          0.056140194178319336,
          0.056173935189588596,
          0.03870506989944082,
          0.029836429917654356,
          0.026322052996797192,
          0.04093190646790594,
          0.02995896113863263,
          0.048926087710622235,
          0.03046661902954281,
          0.052497932453887175,
          0.059091742025296566,
          0.08909772173197977,
          0.024850603837860762,
          0.01940187603508743,
          0.036503868921984144,
          0.07512851964481798,
          0.030919434203215947,
          0.03304234890110266,
          0.06831499691187873,
          0.07993498814088734,
          0.043014062685267244,
          0.08848652785730832,
          0.09887850890506389,
          0.05986176372620506,
          0.06400149106302525,
          0.038244094848333125,
          0.07216057683961583,
          0.06581409891863445,
          0.08183648387826606,
          0.03209124196941122,
          0.06818771765761118,
          0.03682757289021366,
          0.02125996202386307,
          0.02729413376338769,
          0.029509477913384034,
          0.04794674582889229,
          0.024300986535262307,
          0.03078050638515715,
          0.02381248170003286,
          0.029789212344944607
         ],
         "y": [
          0.0534541952812556,
          0.0578984105195826,
          0.0663923410475509,
          0.0533047630148963,
          0.045283669250872,
          0.058893774494569,
          0.0464684419275682,
          0.0458742141638859,
          0.054624605652336,
          0.0642177888239838,
          0.068509548360866,
          0.0582364553542465,
          0.0555207729960169,
          0.0597196430078469,
          0.0458352600278002,
          0.0489430573925189,
          0.069696466367074,
          0.0499437380704152,
          0.0526179733904646,
          0.0480117894371734,
          0.0498305583041978,
          0.0609661066219275,
          0.0538471402107127,
          0.0412104919006822,
          0.0606045939637998,
          0.0462105460927714,
          0.0645596058908131,
          0.0655543541423758,
          0.0608764518220506,
          0.054499543830571,
          0.0469025573043909,
          0.0611578387092081,
          0.0611960795776602,
          0.0639487992536552,
          0.0492728966950987,
          0.0653759048159934,
          0.061379919758391,
          0.0697491730794078,
          0.0587698327639109,
          0.0543012252616073,
          0.0368903119382917,
          0.0557522258941019,
          0.0300005594938899,
          0.0619614503087727,
          0.0443404067989462,
          0.0474636788395,
          0.0574562757663542,
          0.0720849295018622,
          0.0447647479054715,
          0.0703192494502018,
          0.0657204699861899,
          0.0496559178423019,
          0.0729118089036242,
          0.0551704038380788,
          0.0574734991914232,
          0.053406781111345,
          0.0615039808066622,
          0.0638459379136525,
          0.0525114962501269,
          0.0620591901472922,
          0.0710847639301563,
          0.033672820407181,
          0.0577513122865525,
          0.0465890934960005,
          0.0598554444755699,
          0.0625386985492204,
          0.0681731360205926,
          0.0675770135714146,
          0.0674977967658372,
          0.0744776014821146,
          0.0624157689708151,
          0.0423666042319635,
          0.0593710429231644,
          0.0703933140683032,
          0.0353558270997373,
          0.0627926075759283,
          0.0639728834036227,
          0.0632182436674463,
          0.0715658572916399,
          0.0636028858907914,
          0.0726069747600465,
          0.0615264294154379,
          0.0538557959594295,
          0.0618379315394807,
          0.0374438943838818,
          0.0659188024778514,
          0.0605675481331988,
          0.066109271986612,
          0.0505402900575246,
          0.0614826518277012,
          0.0723185911398435,
          0.0721409730270926,
          0.0730215009539133,
          0.0746562904635868,
          0.071024817034438,
          0.0637605113412488,
          0.0486880218754242,
          0.0771114643123694,
          0.0640415901735865,
          0.0378486303207824,
          0.0753221702647498,
          0.036682168202978,
          0.0747701989799574,
          0.0690135068603525,
          0.0761800101923921,
          0.0570311198699134,
          0.0682664119243595,
          0.0390802646858795,
          0.0783380263189922,
          0.0520515438351506,
          0.0704123101754421,
          0.0418977524960176,
          0.0444205597881248,
          0.0748802029417559,
          0.0748335577187646,
          0.0479009947794277,
          0.0544395309697727,
          0.0491014520251173,
          0.0432760934828523,
          0.0692696654139496,
          0.0652577140673262,
          0.0618620156921778,
          0.0441795642216078,
          0.064611061023874,
          0.0658699993927722,
          0.0435401036454463,
          0.067184292465142,
          0.0457484902436124,
          0.0733269753679025,
          0.049873090640009,
          0.0705686808594028,
          0.0623059297202657,
          0.068406198923376,
          0.0430549586523504,
          0.0622576600615348,
          0.0511306636746613,
          0.0308806940389018,
          0.0548696143338849,
          0.0566154413821641,
          0.073712945994899,
          0.0500132779735923,
          0.0630521578760169,
          0.0755314579606349,
          0.0650415534323855,
          0.065935128593281,
          0.032461313045301,
          0.0447902927969301,
          0.0455857476806315,
          0.0512788529453395,
          0.069767569613835,
          0.057029222714401,
          0.0443182490113128,
          0.0434556838552124,
          0.0473795066837375,
          0.0490018462571933,
          0.0699275813397767,
          0.0751438539564843,
          0.0252599536544471,
          0.0624913688105696,
          0.0712713919626935,
          0.0647649194957731,
          0.0803621298563644,
          0.0422016035305668,
          0.076383156007532,
          0.0426651772240466,
          0.0752267623992927,
          0.0767011286263911,
          0.0703761902201826,
          0.0483491469930548,
          0.0451394803673107,
          0.0438363204430614,
          0.0468279961450183,
          0.0674479170398328,
          0.0461370918576103,
          0.0721498514819018,
          0.0435727427631227,
          0.0774363471136066,
          0.0518934617469365,
          0.070777756532855,
          0.0463220810218521,
          0.0795531874224437,
          0.072612447257152,
          0.0475545366341661,
          0.0797906759824591,
          0.0345579758604411,
          0.0507553062010706,
          0.0254556041676865,
          0.0464648809078221,
          0.0809466170954162,
          0.0383925871792556,
          0.0470359726129608,
          0.0465042373462411,
          0.0776429776358911,
          0.0548236935743233,
          0.0593986456681815,
          0.0531979966795076,
          0.0801428459427906,
          0.0285664973883625,
          0.0748996575891255,
          0.0464014227407569,
          0.0736894817601717,
          0.0745791707632389,
          0.0756428403507491,
          0.0310010980022989,
          0.0812993230126538,
          0.0771850277188588,
          0.0837260805693355,
          0.0574763584057709,
          0.0701565680107839,
          0.0756788841775433,
          0.0350749057944093,
          0.0704962088832029,
          0.0750091418371717,
          0.0758752606433321,
          0.0781419000051659,
          0.0462016033709984,
          0.083926727187234,
          0.0840005123077537,
          0.0581562494817519,
          0.0662161203138249,
          0.0331040662203561,
          0.0702073427863473,
          0.0701054349239237,
          0.07573187149042,
          0.059451190071608,
          0.0761788043422916,
          0.0653058218949959,
          0.0248641175548715,
          0.0815705322176774,
          0.0776245373675711,
          0.0772014686702411,
          0.0772363802414134,
          0.0408275613191156,
          0.0431547431389871,
          0.0737348999597191,
          0.0395605202253544,
          0.0441712531197577,
          0.0574826338967865,
          0.0304670428937542,
          0.0678988296128948,
          0.0218790910587345,
          0.0814243619915427,
          0.0720495518333025,
          0.0647803883745826,
          0.0417778535886644,
          0.0734840241632431,
          0.0815327790113161,
          0.0776070701063708,
          0.0426531144232495,
          0.0649390140323776,
          0.0599275479053485,
          0.0761454602727579,
          0.0352109415274208,
          0.0710903512856899,
          0.066297718517409,
          0.036756683545667,
          0.0676515831134608,
          0.0373890635090962,
          0.078043339238849,
          0.0572757247102478,
          0.0369866546807005,
          0.081940082214565,
          0.0508434163942668,
          0.0583363185165211,
          0.0535099404909356,
          0.045400229733867,
          0.0588905485440786,
          0.0381805274804935,
          0.0396539613274978,
          0.0413875063469537,
          0.0441594741212672,
          0.0770294722695287,
          0.0630621385568437,
          0.0362172661547207,
          0.0552000466465265,
          0.0433230396295758,
          0.0680705702987967,
          0.0617345461531469,
          0.0609723834196593,
          0.0720547919637427,
          0.0793407371155336,
          0.0489769108079304,
          0.0675845418630335,
          0.0702367586073908,
          0.0594188669858695,
          0.0326119120577126,
          0.0705065699089785,
          0.0726173961845523,
          0.0577952524972438,
          0.0604551348830796,
          0.0845624180313564,
          0.0707726190377246,
          0.0756524376128869,
          0.0848583301782109,
          0.0783729323696343,
          0.071600562971728,
          0.0438593164038209,
          0.0649339245989078,
          0.0736627263222904,
          0.065400793746093,
          0.0444173609180589,
          0.0398457195624882,
          0.0604896143096313,
          0.0567101182435369,
          0.0784202210884841,
          0.0685349329096696,
          0.0545890854008247,
          0.0532785002027891,
          0.084707114447117,
          0.0645161363618389,
          0.0786630832058594,
          0.0539890592328923,
          0.0615572718918019,
          0.0443982382433616,
          0.0805939533135583,
          0.0549830264041711,
          0.0622466228457979,
          0.0498566973739756,
          0.0738534291859068,
          0.066073860032899,
          0.0703135126065917,
          0.0753788464909088,
          0.0822104501494661,
          0.0253717389326651,
          0.08064021709591,
          0.0691261720324143,
          0.062456351547162,
          0.0392455645954366,
          0.0811483569861051,
          0.0766772879098564,
          0.0728402139341134,
          0.0776952149758013,
          0.0787275279432024,
          0.0452861671471398,
          0.040305248950013,
          0.0393240453312919,
          0.0790511863666964,
          0.0403514093348518,
          0.0789264127549936,
          0.0352528512164818,
          0.0239657349828914,
          0.0595230754684126,
          0.0458907817530538,
          0.0623356604415589,
          0.0853751719182276,
          0.0577286745638099,
          0.0826244903147978,
          0.0780895649274946,
          0.037381689061853,
          0.0359333983866012,
          0.0783073959348623,
          0.0510058476752755,
          0.0493513037116832,
          0.0790767438116419,
          0.036399400632644,
          0.0730398232440294,
          0.0626828122648986,
          0.0863395141593938,
          0.0728260649545574,
          0.0791895955998167,
          0.0755826257598241,
          0.0799226624712784,
          0.0243106030559794,
          0.0806975577155764,
          0.026615760973007,
          0.0736795099578696,
          0.0792349765791322,
          0.0408566653838822,
          0.0582561932029507,
          0.0736391594658445,
          0.0697449463880238,
          0.0827512437140473,
          0.0446586446241002,
          0.0533998701521916,
          0.0318018794648589,
          0.0311926768797873,
          0.0664540739121052,
          0.0434306777470303,
          0.0419547921798952,
          0.0245724019897417,
          0.0388926583071092,
          0.0228510076052796,
          0.0692697500205315,
          0.0825962418032411,
          0.0541494851916745,
          0.0794952453506926,
          0.0827538601811723,
          0.0800433638838549,
          0.0237145163150845,
          0.0693737568687144,
          0.0590051770217034,
          0.0800933737312742,
          0.0555888719396136,
          0.0795462183295092,
          0.0836512011830573,
          0.0819301778580145,
          0.081199127607796,
          0.0596200193092578,
          0.0428653073280834,
          0.0802371070270755,
          0.0721113547910411,
          0.0794330254325945,
          0.0595843443395111,
          0.0847120815320956,
          0.0356691224536341,
          0.0558910151553709,
          0.0851909795396682,
          0.0364524714160386,
          0.0453691854773162,
          0.0593266548781431,
          0.0276304430988142,
          0.0744093968304275,
          0.0626150379686539,
          0.0703529286830421,
          0.0709157021153437,
          0.0532815370023712,
          0.062831585712762,
          0.0662432714019364,
          0.0739411283445738,
          0.0389491969023965,
          0.0363583008550102,
          0.0666147267190178,
          0.087423394078945,
          0.0628394519450384,
          0.0407832711018415,
          0.0534868186856787,
          0.0259480433496979,
          0.0665956157999208,
          0.0501463285051357,
          0.0850748341030387,
          0.0478566279614991,
          0.0464521417301009,
          0.0390870275776318,
          0.0248746181911031,
          0.0819487645957748,
          0.076201418898404,
          0.0813255404713721,
          0.0666075429895999,
          0.0668318094561343,
          0.0708562003714701,
          0.0717906371484662,
          0.0806616988478652,
          0.0497364303744683,
          0.0543436655322331,
          0.0826527514693761,
          0.0783414725044041,
          0.0625393748114791,
          0.0633095287296647,
          0.0443667981630992,
          0.0241695673163781,
          0.0363100868306106,
          0.0545226505013349,
          0.0511158909291582,
          0.0557661901679912,
          0.0728531405429763,
          0.0585554629732466,
          0.0257213470888334,
          0.0309033363322441,
          0.0626545547484986,
          0.0857961907597339,
          0.0695196897592062,
          0.0605803397682158,
          0.0739827077465304,
          0.0316459664198008,
          0.0560023543025737,
          0.0664079298231019,
          0.0780952215191539,
          0.082979937937368,
          0.0407580715212036,
          0.0695665102195632,
          0.0767108715947928,
          0.0647570293325807,
          0.0436482763849959,
          0.0747822772271366,
          0.0678878100106116,
          0.0681582224749634,
          0.0573538252587327,
          0.046219258041228,
          0.0429430322759341,
          0.0590974184817745,
          0.0462675975456499,
          0.0636393937118698,
          0.0469099259171908,
          0.0673768842021589,
          0.0695287233793272,
          0.0809923184728449,
          0.040340947552816,
          0.0277123630874308,
          0.0545818642307192,
          0.0765202160586532,
          0.0486599855033913,
          0.0515997055823067,
          0.073748960810355,
          0.0788598316289498,
          0.0616764017404001,
          0.0820409361388236,
          0.0852184340452989,
          0.0697340423485602,
          0.0721296311915769,
          0.0577269490947775,
          0.0749989648310943,
          0.0724235065496597,
          0.0789347056877594,
          0.0497383589911672,
          0.0733024339714622,
          0.0556827287431311,
          0.0320000847076189,
          0.0449737319296374,
          0.0454522422186511,
          0.0628597857156657,
          0.0364019881805076,
          0.04829830569444,
          0.0369619456141405,
          0.0478654442758254
         ]
        },
        {
         "marker": {
          "color": "green",
          "size": 10
         },
         "mode": "markers",
         "text": [
          "Portfolio with highest Sharpe ratio (['corporate bonds' 'cash' 'listed foreign public equity'\n 'fixed term and savings deposit' 'listed domestic public equity'\n 'state bonds' 'buyout' 'venture' 'public investment funds'\n 'other equity instruments'], [0.16 0.13 0.01 0.15 0.01 0.25 0.27 0.01 0.01 0.  ])"
         ],
         "type": "scatter",
         "x": [
          0.03367655441107656
         ],
         "y": [
          0.0531979966795076
         ]
        },
        {
         "marker": {
          "color": "red",
          "size": 10
         },
         "mode": "markers",
         "text": [
          "Minimum variance portfolio (['listed domestic public equity' 'venture' 'other equity instruments'\n 'buyout' 'corporate bonds' 'listed foreign public equity'\n 'fixed term and savings deposit' 'public investment funds' 'state bonds'\n 'cash'], [0.02 0.01 0.   0.07 0.09 0.   0.3  0.   0.2  0.31])"
         ],
         "type": "scatter",
         "x": [
          0.015974078844916223
         ],
         "y": [
          0.0237145163150845
         ]
        },
        {
         "marker": {
          "color": "purple",
          "size": 10
         },
         "mode": "markers",
         "text": [
          "Retail Investor Portfolio (['listed foreign public equity' 'other equity instruments' 'state bonds'\n 'corporate bonds' 'listed domestic public equity'\n 'fixed term and savings deposit' 'public investment funds' 'cash'], [0.05 0.08 0.01 0.01 0.06 0.17 0.19 0.43])"
         ],
         "type": "scatter",
         "x": [
          0.07081947729221412
         ],
         "y": [
          0.02936065570237022
         ]
        },
        {
         "line": {
          "color": "black",
          "dash": "dash",
          "width": 2
         },
         "name": "Efficient Frontier",
         "type": "scatter",
         "x": [
          0,
          0.001170703641664377,
          0.002341407283328754,
          0.003512110924993131,
          0.004682814566657508,
          0.005853518208321884,
          0.007024221849986262,
          0.008194925491650639,
          0.009365629133315016,
          0.010536332774979392,
          0.011707036416643769,
          0.012877740058308147,
          0.014048443699972523,
          0.0152191473416369,
          0.016389850983301278,
          0.017560554624965655,
          0.01873125826663003,
          0.019901961908294408,
          0.021072665549958784,
          0.02224336919162316,
          0.023414072833287537,
          0.024584776474951917,
          0.025755480116616294,
          0.02692618375828067,
          0.028096887399945047,
          0.029267591041609423,
          0.0304382946832738,
          0.03160899832493818,
          0.032779701966602556,
          0.03395040560826693,
          0.03512110924993131,
          0.036291812891595686,
          0.03746251653326006,
          0.03863322017492444,
          0.039803923816588815,
          0.04097462745825319,
          0.04214533109991757,
          0.043316034741581945,
          0.04448673838324632,
          0.0456574420249107,
          0.046828145666575074,
          0.04799884930823946,
          0.049169552949903834,
          0.05034025659156821,
          0.05151096023323259,
          0.052681663874896964,
          0.05385236751656134,
          0.05502307115822572,
          0.056193774799890094,
          0.05736447844155447,
          0.05853518208321885,
          0.05970588572488322,
          0.0608765893665476,
          0.062047293008211976,
          0.06321799664987636,
          0.06438870029154073,
          0.06555940393320511,
          0.06673010757486948,
          0.06790081121653387,
          0.06907151485819824,
          0.07024221849986262,
          0.07141292214152699,
          0.07258362578319137,
          0.07375432942485574,
          0.07492503306652012,
          0.07609573670818451,
          0.07726644034984888,
          0.07843714399151326,
          0.07960784763317763,
          0.08077855127484201,
          0.08194925491650638,
          0.08311995855817077,
          0.08429066219983514,
          0.08546136584149952,
          0.08663206948316389,
          0.08780277312482827,
          0.08897347676649264,
          0.09014418040815703,
          0.0913148840498214,
          0.09248558769148578,
          0.09365629133315015,
          0.09482699497481453,
          0.09599769861647892,
          0.09716840225814329,
          0.09833910589980767,
          0.09950980954147204,
          0.10068051318313642,
          0.10185121682480079,
          0.10302192046646517,
          0.10419262410812954,
          0.10536332774979393,
          0.1065340313914583,
          0.10770473503312268,
          0.10887543867478705,
          0.11004614231645143,
          0.1112168459581158,
          0.11238754959978019,
          0.11355825324144457,
          0.11472895688310894,
          0.11589966052477332
         ],
         "y": [
          0.016,
          0.017293120122793666,
          0.018586240245587336,
          0.019879360368381,
          0.02117248049117467,
          0.022465600613968337,
          0.023758720736762006,
          0.025051840859555675,
          0.02634496098234934,
          0.027638081105143007,
          0.028931201227936673,
          0.030224321350730346,
          0.03151744147352401,
          0.03281056159631768,
          0.03410368171911135,
          0.03539680184190501,
          0.03668992196469868,
          0.03798304208749235,
          0.039276162210286014,
          0.04056928233307969,
          0.041862402455873346,
          0.04315552257866702,
          0.04444864270146069,
          0.04574176282425435,
          0.04703488294704802,
          0.04832800306984169,
          0.049621123192635355,
          0.05091424331542903,
          0.052207363438222694,
          0.05350048356101636,
          0.054793603683810026,
          0.05608672380660369,
          0.057379843929397364,
          0.05867296405219103,
          0.059966084174984696,
          0.06125920429777836,
          0.06255232442057203,
          0.06384544454336569,
          0.06513856466615936,
          0.06643168478895303,
          0.0677248049117467,
          0.06901792503454038,
          0.07031104515733404,
          0.07160416528012771,
          0.07289728540292137,
          0.07419040552571504,
          0.07548352564850871,
          0.07677664577130237,
          0.07806976589409603,
          0.0793628860168897,
          0.08065600613968338,
          0.08194912626247704,
          0.08324224638527071,
          0.08453536650806438,
          0.08582848663085806,
          0.08712160675365171,
          0.08841472687644539,
          0.08970784699923905,
          0.09100096712203272,
          0.09229408724482638,
          0.09358720736762005,
          0.09488032749041371,
          0.09617344761320738,
          0.09746656773600104,
          0.09875968785879473,
          0.1000528079815884,
          0.10134592810438206,
          0.10263904822717573,
          0.10393216834996939,
          0.10522528847276306,
          0.10651840859555672,
          0.1078115287183504,
          0.10910464884114406,
          0.11039776896393773,
          0.11169088908673139,
          0.11298400920952507,
          0.11427712933231873,
          0.1155702494551124,
          0.11686336957790606,
          0.11815648970069974,
          0.1194496098234934,
          0.12074272994628707,
          0.12203585006908074,
          0.1233289701918744,
          0.12462209031466807,
          0.12591521043746173,
          0.12720833056025543,
          0.12850145068304908,
          0.12979457080584275,
          0.13108769092863642,
          0.13238081105143007,
          0.13367393117422374,
          0.13496705129701742,
          0.13626017141981106,
          0.13755329154260476,
          0.1388464116653984,
          0.14013953178819208,
          0.14143265191098575,
          0.1427257720337794,
          0.1440188921565731
         ]
        }
       ],
       "layout": {
        "height": 700,
        "showlegend": false,
        "template": {
         "data": {
          "bar": [
           {
            "error_x": {
             "color": "#2a3f5f"
            },
            "error_y": {
             "color": "#2a3f5f"
            },
            "marker": {
             "line": {
              "color": "white",
              "width": 0.5
             },
             "pattern": {
              "fillmode": "overlay",
              "size": 10,
              "solidity": 0.2
             }
            },
            "type": "bar"
           }
          ],
          "barpolar": [
           {
            "marker": {
             "line": {
              "color": "white",
              "width": 0.5
             },
             "pattern": {
              "fillmode": "overlay",
              "size": 10,
              "solidity": 0.2
             }
            },
            "type": "barpolar"
           }
          ],
          "carpet": [
           {
            "aaxis": {
             "endlinecolor": "#2a3f5f",
             "gridcolor": "#C8D4E3",
             "linecolor": "#C8D4E3",
             "minorgridcolor": "#C8D4E3",
             "startlinecolor": "#2a3f5f"
            },
            "baxis": {
             "endlinecolor": "#2a3f5f",
             "gridcolor": "#C8D4E3",
             "linecolor": "#C8D4E3",
             "minorgridcolor": "#C8D4E3",
             "startlinecolor": "#2a3f5f"
            },
            "type": "carpet"
           }
          ],
          "choropleth": [
           {
            "colorbar": {
             "outlinewidth": 0,
             "ticks": ""
            },
            "type": "choropleth"
           }
          ],
          "contour": [
           {
            "colorbar": {
             "outlinewidth": 0,
             "ticks": ""
            },
            "colorscale": [
             [
              0,
              "#0d0887"
             ],
             [
              0.1111111111111111,
              "#46039f"
             ],
             [
              0.2222222222222222,
              "#7201a8"
             ],
             [
              0.3333333333333333,
              "#9c179e"
             ],
             [
              0.4444444444444444,
              "#bd3786"
             ],
             [
              0.5555555555555556,
              "#d8576b"
             ],
             [
              0.6666666666666666,
              "#ed7953"
             ],
             [
              0.7777777777777778,
              "#fb9f3a"
             ],
             [
              0.8888888888888888,
              "#fdca26"
             ],
             [
              1,
              "#f0f921"
             ]
            ],
            "type": "contour"
           }
          ],
          "contourcarpet": [
           {
            "colorbar": {
             "outlinewidth": 0,
             "ticks": ""
            },
            "type": "contourcarpet"
           }
          ],
          "heatmap": [
           {
            "colorbar": {
             "outlinewidth": 0,
             "ticks": ""
            },
            "colorscale": [
             [
              0,
              "#0d0887"
             ],
             [
              0.1111111111111111,
              "#46039f"
             ],
             [
              0.2222222222222222,
              "#7201a8"
             ],
             [
              0.3333333333333333,
              "#9c179e"
             ],
             [
              0.4444444444444444,
              "#bd3786"
             ],
             [
              0.5555555555555556,
              "#d8576b"
             ],
             [
              0.6666666666666666,
              "#ed7953"
             ],
             [
              0.7777777777777778,
              "#fb9f3a"
             ],
             [
              0.8888888888888888,
              "#fdca26"
             ],
             [
              1,
              "#f0f921"
             ]
            ],
            "type": "heatmap"
           }
          ],
          "heatmapgl": [
           {
            "colorbar": {
             "outlinewidth": 0,
             "ticks": ""
            },
            "colorscale": [
             [
              0,
              "#0d0887"
             ],
             [
              0.1111111111111111,
              "#46039f"
             ],
             [
              0.2222222222222222,
              "#7201a8"
             ],
             [
              0.3333333333333333,
              "#9c179e"
             ],
             [
              0.4444444444444444,
              "#bd3786"
             ],
             [
              0.5555555555555556,
              "#d8576b"
             ],
             [
              0.6666666666666666,
              "#ed7953"
             ],
             [
              0.7777777777777778,
              "#fb9f3a"
             ],
             [
              0.8888888888888888,
              "#fdca26"
             ],
             [
              1,
              "#f0f921"
             ]
            ],
            "type": "heatmapgl"
           }
          ],
          "histogram": [
           {
            "marker": {
             "pattern": {
              "fillmode": "overlay",
              "size": 10,
              "solidity": 0.2
             }
            },
            "type": "histogram"
           }
          ],
          "histogram2d": [
           {
            "colorbar": {
             "outlinewidth": 0,
             "ticks": ""
            },
            "colorscale": [
             [
              0,
              "#0d0887"
             ],
             [
              0.1111111111111111,
              "#46039f"
             ],
             [
              0.2222222222222222,
              "#7201a8"
             ],
             [
              0.3333333333333333,
              "#9c179e"
             ],
             [
              0.4444444444444444,
              "#bd3786"
             ],
             [
              0.5555555555555556,
              "#d8576b"
             ],
             [
              0.6666666666666666,
              "#ed7953"
             ],
             [
              0.7777777777777778,
              "#fb9f3a"
             ],
             [
              0.8888888888888888,
              "#fdca26"
             ],
             [
              1,
              "#f0f921"
             ]
            ],
            "type": "histogram2d"
           }
          ],
          "histogram2dcontour": [
           {
            "colorbar": {
             "outlinewidth": 0,
             "ticks": ""
            },
            "colorscale": [
             [
              0,
              "#0d0887"
             ],
             [
              0.1111111111111111,
              "#46039f"
             ],
             [
              0.2222222222222222,
              "#7201a8"
             ],
             [
              0.3333333333333333,
              "#9c179e"
             ],
             [
              0.4444444444444444,
              "#bd3786"
             ],
             [
              0.5555555555555556,
              "#d8576b"
             ],
             [
              0.6666666666666666,
              "#ed7953"
             ],
             [
              0.7777777777777778,
              "#fb9f3a"
             ],
             [
              0.8888888888888888,
              "#fdca26"
             ],
             [
              1,
              "#f0f921"
             ]
            ],
            "type": "histogram2dcontour"
           }
          ],
          "mesh3d": [
           {
            "colorbar": {
             "outlinewidth": 0,
             "ticks": ""
            },
            "type": "mesh3d"
           }
          ],
          "parcoords": [
           {
            "line": {
             "colorbar": {
              "outlinewidth": 0,
              "ticks": ""
             }
            },
            "type": "parcoords"
           }
          ],
          "pie": [
           {
            "automargin": true,
            "type": "pie"
           }
          ],
          "scatter": [
           {
            "fillpattern": {
             "fillmode": "overlay",
             "size": 10,
             "solidity": 0.2
            },
            "type": "scatter"
           }
          ],
          "scatter3d": [
           {
            "line": {
             "colorbar": {
              "outlinewidth": 0,
              "ticks": ""
             }
            },
            "marker": {
             "colorbar": {
              "outlinewidth": 0,
              "ticks": ""
             }
            },
            "type": "scatter3d"
           }
          ],
          "scattercarpet": [
           {
            "marker": {
             "colorbar": {
              "outlinewidth": 0,
              "ticks": ""
             }
            },
            "type": "scattercarpet"
           }
          ],
          "scattergeo": [
           {
            "marker": {
             "colorbar": {
              "outlinewidth": 0,
              "ticks": ""
             }
            },
            "type": "scattergeo"
           }
          ],
          "scattergl": [
           {
            "marker": {
             "colorbar": {
              "outlinewidth": 0,
              "ticks": ""
             }
            },
            "type": "scattergl"
           }
          ],
          "scattermapbox": [
           {
            "marker": {
             "colorbar": {
              "outlinewidth": 0,
              "ticks": ""
             }
            },
            "type": "scattermapbox"
           }
          ],
          "scatterpolar": [
           {
            "marker": {
             "colorbar": {
              "outlinewidth": 0,
              "ticks": ""
             }
            },
            "type": "scatterpolar"
           }
          ],
          "scatterpolargl": [
           {
            "marker": {
             "colorbar": {
              "outlinewidth": 0,
              "ticks": ""
             }
            },
            "type": "scatterpolargl"
           }
          ],
          "scatterternary": [
           {
            "marker": {
             "colorbar": {
              "outlinewidth": 0,
              "ticks": ""
             }
            },
            "type": "scatterternary"
           }
          ],
          "surface": [
           {
            "colorbar": {
             "outlinewidth": 0,
             "ticks": ""
            },
            "colorscale": [
             [
              0,
              "#0d0887"
             ],
             [
              0.1111111111111111,
              "#46039f"
             ],
             [
              0.2222222222222222,
              "#7201a8"
             ],
             [
              0.3333333333333333,
              "#9c179e"
             ],
             [
              0.4444444444444444,
              "#bd3786"
             ],
             [
              0.5555555555555556,
              "#d8576b"
             ],
             [
              0.6666666666666666,
              "#ed7953"
             ],
             [
              0.7777777777777778,
              "#fb9f3a"
             ],
             [
              0.8888888888888888,
              "#fdca26"
             ],
             [
              1,
              "#f0f921"
             ]
            ],
            "type": "surface"
           }
          ],
          "table": [
           {
            "cells": {
             "fill": {
              "color": "#EBF0F8"
             },
             "line": {
              "color": "white"
             }
            },
            "header": {
             "fill": {
              "color": "#C8D4E3"
             },
             "line": {
              "color": "white"
             }
            },
            "type": "table"
           }
          ]
         },
         "layout": {
          "annotationdefaults": {
           "arrowcolor": "#2a3f5f",
           "arrowhead": 0,
           "arrowwidth": 1
          },
          "autotypenumbers": "strict",
          "coloraxis": {
           "colorbar": {
            "outlinewidth": 0,
            "ticks": ""
           }
          },
          "colorscale": {
           "diverging": [
            [
             0,
             "#8e0152"
            ],
            [
             0.1,
             "#c51b7d"
            ],
            [
             0.2,
             "#de77ae"
            ],
            [
             0.3,
             "#f1b6da"
            ],
            [
             0.4,
             "#fde0ef"
            ],
            [
             0.5,
             "#f7f7f7"
            ],
            [
             0.6,
             "#e6f5d0"
            ],
            [
             0.7,
             "#b8e186"
            ],
            [
             0.8,
             "#7fbc41"
            ],
            [
             0.9,
             "#4d9221"
            ],
            [
             1,
             "#276419"
            ]
           ],
           "sequential": [
            [
             0,
             "#0d0887"
            ],
            [
             0.1111111111111111,
             "#46039f"
            ],
            [
             0.2222222222222222,
             "#7201a8"
            ],
            [
             0.3333333333333333,
             "#9c179e"
            ],
            [
             0.4444444444444444,
             "#bd3786"
            ],
            [
             0.5555555555555556,
             "#d8576b"
            ],
            [
             0.6666666666666666,
             "#ed7953"
            ],
            [
             0.7777777777777778,
             "#fb9f3a"
            ],
            [
             0.8888888888888888,
             "#fdca26"
            ],
            [
             1,
             "#f0f921"
            ]
           ],
           "sequentialminus": [
            [
             0,
             "#0d0887"
            ],
            [
             0.1111111111111111,
             "#46039f"
            ],
            [
             0.2222222222222222,
             "#7201a8"
            ],
            [
             0.3333333333333333,
             "#9c179e"
            ],
            [
             0.4444444444444444,
             "#bd3786"
            ],
            [
             0.5555555555555556,
             "#d8576b"
            ],
            [
             0.6666666666666666,
             "#ed7953"
            ],
            [
             0.7777777777777778,
             "#fb9f3a"
            ],
            [
             0.8888888888888888,
             "#fdca26"
            ],
            [
             1,
             "#f0f921"
            ]
           ]
          },
          "colorway": [
           "#636efa",
           "#EF553B",
           "#00cc96",
           "#ab63fa",
           "#FFA15A",
           "#19d3f3",
           "#FF6692",
           "#B6E880",
           "#FF97FF",
           "#FECB52"
          ],
          "font": {
           "color": "#2a3f5f"
          },
          "geo": {
           "bgcolor": "white",
           "lakecolor": "white",
           "landcolor": "white",
           "showlakes": true,
           "showland": true,
           "subunitcolor": "#C8D4E3"
          },
          "hoverlabel": {
           "align": "left"
          },
          "hovermode": "closest",
          "mapbox": {
           "style": "light"
          },
          "paper_bgcolor": "white",
          "plot_bgcolor": "white",
          "polar": {
           "angularaxis": {
            "gridcolor": "#EBF0F8",
            "linecolor": "#EBF0F8",
            "ticks": ""
           },
           "bgcolor": "white",
           "radialaxis": {
            "gridcolor": "#EBF0F8",
            "linecolor": "#EBF0F8",
            "ticks": ""
           }
          },
          "scene": {
           "xaxis": {
            "backgroundcolor": "white",
            "gridcolor": "#DFE8F3",
            "gridwidth": 2,
            "linecolor": "#EBF0F8",
            "showbackground": true,
            "ticks": "",
            "zerolinecolor": "#EBF0F8"
           },
           "yaxis": {
            "backgroundcolor": "white",
            "gridcolor": "#DFE8F3",
            "gridwidth": 2,
            "linecolor": "#EBF0F8",
            "showbackground": true,
            "ticks": "",
            "zerolinecolor": "#EBF0F8"
           },
           "zaxis": {
            "backgroundcolor": "white",
            "gridcolor": "#DFE8F3",
            "gridwidth": 2,
            "linecolor": "#EBF0F8",
            "showbackground": true,
            "ticks": "",
            "zerolinecolor": "#EBF0F8"
           }
          },
          "shapedefaults": {
           "line": {
            "color": "#2a3f5f"
           }
          },
          "ternary": {
           "aaxis": {
            "gridcolor": "#DFE8F3",
            "linecolor": "#A2B1C6",
            "ticks": ""
           },
           "baxis": {
            "gridcolor": "#DFE8F3",
            "linecolor": "#A2B1C6",
            "ticks": ""
           },
           "bgcolor": "white",
           "caxis": {
            "gridcolor": "#DFE8F3",
            "linecolor": "#A2B1C6",
            "ticks": ""
           }
          },
          "title": {
           "x": 0.05
          },
          "xaxis": {
           "automargin": true,
           "gridcolor": "#EBF0F8",
           "linecolor": "#EBF0F8",
           "ticks": "",
           "title": {
            "standoff": 15
           },
           "zerolinecolor": "#EBF0F8",
           "zerolinewidth": 2
          },
          "yaxis": {
           "automargin": true,
           "gridcolor": "#EBF0F8",
           "linecolor": "#EBF0F8",
           "ticks": "",
           "title": {
            "standoff": 15
           },
           "zerolinecolor": "#EBF0F8",
           "zerolinewidth": 2
          }
         }
        },
        "title": {
         "text": "Efficient Frontier of Restricted Portfolio"
        },
        "width": 1000,
        "xaxis": {
         "title": {
          "text": "Annualised Risk (Volatility)"
         }
        },
        "yaxis": {
         "title": {
          "text": "Annualised Return"
         }
        }
       }
      }
     },
     "metadata": {},
     "output_type": "display_data"
    },
    {
     "data": {
      "text/html": [
       "<div style='display: inline-block; vertical-align: top; margin-right: 20px;'><h3 style='font-family: Poppins; font-size: 130%;'>Max Sharpe</h3>Return: 5.32%, Std.: 3.37% <br><br>Median: 6.88%,Geo. Mean: 5.2%, Bayes Stein: 4.61%, Ill. penalized: 5.03%, Skewness: -1.58, Kurtosis: 2.13, CVaR: 6.89% <br><br><style type=\"text/css\">\n",
       "#T_083a4 th {\n",
       "  text-align: center;\n",
       "  font-family: Poppins;\n",
       "}\n",
       "#T_083a4 td {\n",
       "  text-align: center;\n",
       "  font-family: Poppins;\n",
       "}\n",
       "</style>\n",
       "<table id=\"T_083a4\">\n",
       "  <thead>\n",
       "    <tr>\n",
       "      <th class=\"blank level0\" >&nbsp;</th>\n",
       "      <th id=\"T_083a4_level0_col0\" class=\"col_heading level0 col0\" >Asset_classes</th>\n",
       "      <th id=\"T_083a4_level0_col1\" class=\"col_heading level0 col1\" >Weights</th>\n",
       "    </tr>\n",
       "  </thead>\n",
       "  <tbody>\n",
       "    <tr>\n",
       "      <th id=\"T_083a4_level0_row0\" class=\"row_heading level0 row0\" >0</th>\n",
       "      <td id=\"T_083a4_row0_col0\" class=\"data row0 col0\" >buyout</td>\n",
       "      <td id=\"T_083a4_row0_col1\" class=\"data row0 col1\" >27.27%</td>\n",
       "    </tr>\n",
       "    <tr>\n",
       "      <th id=\"T_083a4_level0_row1\" class=\"row_heading level0 row1\" >1</th>\n",
       "      <td id=\"T_083a4_row1_col0\" class=\"data row1 col0\" >state bonds</td>\n",
       "      <td id=\"T_083a4_row1_col1\" class=\"data row1 col1\" >25.01%</td>\n",
       "    </tr>\n",
       "    <tr>\n",
       "      <th id=\"T_083a4_level0_row2\" class=\"row_heading level0 row2\" >2</th>\n",
       "      <td id=\"T_083a4_row2_col0\" class=\"data row2 col0\" >corporate bonds</td>\n",
       "      <td id=\"T_083a4_row2_col1\" class=\"data row2 col1\" >16.15%</td>\n",
       "    </tr>\n",
       "    <tr>\n",
       "      <th id=\"T_083a4_level0_row3\" class=\"row_heading level0 row3\" >3</th>\n",
       "      <td id=\"T_083a4_row3_col0\" class=\"data row3 col0\" >fixed term and savings deposit</td>\n",
       "      <td id=\"T_083a4_row3_col1\" class=\"data row3 col1\" >14.75%</td>\n",
       "    </tr>\n",
       "    <tr>\n",
       "      <th id=\"T_083a4_level0_row4\" class=\"row_heading level0 row4\" >4</th>\n",
       "      <td id=\"T_083a4_row4_col0\" class=\"data row4 col0\" >cash</td>\n",
       "      <td id=\"T_083a4_row4_col1\" class=\"data row4 col1\" >13.06%</td>\n",
       "    </tr>\n",
       "    <tr>\n",
       "      <th id=\"T_083a4_level0_row5\" class=\"row_heading level0 row5\" >5</th>\n",
       "      <td id=\"T_083a4_row5_col0\" class=\"data row5 col0\" >listed foreign public equity</td>\n",
       "      <td id=\"T_083a4_row5_col1\" class=\"data row5 col1\" >1.07%</td>\n",
       "    </tr>\n",
       "    <tr>\n",
       "      <th id=\"T_083a4_level0_row6\" class=\"row_heading level0 row6\" >6</th>\n",
       "      <td id=\"T_083a4_row6_col0\" class=\"data row6 col0\" >public investment funds</td>\n",
       "      <td id=\"T_083a4_row6_col1\" class=\"data row6 col1\" >0.92%</td>\n",
       "    </tr>\n",
       "    <tr>\n",
       "      <th id=\"T_083a4_level0_row7\" class=\"row_heading level0 row7\" >7</th>\n",
       "      <td id=\"T_083a4_row7_col0\" class=\"data row7 col0\" >venture</td>\n",
       "      <td id=\"T_083a4_row7_col1\" class=\"data row7 col1\" >0.7%</td>\n",
       "    </tr>\n",
       "    <tr>\n",
       "      <th id=\"T_083a4_level0_row8\" class=\"row_heading level0 row8\" >8</th>\n",
       "      <td id=\"T_083a4_row8_col0\" class=\"data row8 col0\" >listed domestic public equity</td>\n",
       "      <td id=\"T_083a4_row8_col1\" class=\"data row8 col1\" >0.61%</td>\n",
       "    </tr>\n",
       "    <tr>\n",
       "      <th id=\"T_083a4_level0_row9\" class=\"row_heading level0 row9\" >9</th>\n",
       "      <td id=\"T_083a4_row9_col0\" class=\"data row9 col0\" >other equity instruments</td>\n",
       "      <td id=\"T_083a4_row9_col1\" class=\"data row9 col1\" >0.47%</td>\n",
       "    </tr>\n",
       "  </tbody>\n",
       "</table>\n",
       "</div><div style='display: inline-block; vertical-align: top; margin-right: 20px;'><h3 style='font-family: Poppins; font-size: 130%;'>Min Variance</h3>Return: 2.37%, Std.: 1.6% <br><br>Median: 3.02%,Geo. Mean: 2.35%, Bayes Stein: 2.05%, Ill. penalized: 2.33%, Skewness: -2.19, Kurtosis: 6.53, CVaR: 2.86% <br><br><style type=\"text/css\">\n",
       "#T_de431 th {\n",
       "  text-align: center;\n",
       "  font-family: Poppins;\n",
       "}\n",
       "#T_de431 td {\n",
       "  text-align: center;\n",
       "  font-family: Poppins;\n",
       "}\n",
       "</style>\n",
       "<table id=\"T_de431\">\n",
       "  <thead>\n",
       "    <tr>\n",
       "      <th class=\"blank level0\" >&nbsp;</th>\n",
       "      <th id=\"T_de431_level0_col0\" class=\"col_heading level0 col0\" >Asset_classes</th>\n",
       "      <th id=\"T_de431_level0_col1\" class=\"col_heading level0 col1\" >Weights</th>\n",
       "    </tr>\n",
       "  </thead>\n",
       "  <tbody>\n",
       "    <tr>\n",
       "      <th id=\"T_de431_level0_row0\" class=\"row_heading level0 row0\" >0</th>\n",
       "      <td id=\"T_de431_row0_col0\" class=\"data row0 col0\" >cash</td>\n",
       "      <td id=\"T_de431_row0_col1\" class=\"data row0 col1\" >30.68%</td>\n",
       "    </tr>\n",
       "    <tr>\n",
       "      <th id=\"T_de431_level0_row1\" class=\"row_heading level0 row1\" >1</th>\n",
       "      <td id=\"T_de431_row1_col0\" class=\"data row1 col0\" >fixed term and savings deposit</td>\n",
       "      <td id=\"T_de431_row1_col1\" class=\"data row1 col1\" >30.2%</td>\n",
       "    </tr>\n",
       "    <tr>\n",
       "      <th id=\"T_de431_level0_row2\" class=\"row_heading level0 row2\" >2</th>\n",
       "      <td id=\"T_de431_row2_col0\" class=\"data row2 col0\" >state bonds</td>\n",
       "      <td id=\"T_de431_row2_col1\" class=\"data row2 col1\" >19.61%</td>\n",
       "    </tr>\n",
       "    <tr>\n",
       "      <th id=\"T_de431_level0_row3\" class=\"row_heading level0 row3\" >3</th>\n",
       "      <td id=\"T_de431_row3_col0\" class=\"data row3 col0\" >corporate bonds</td>\n",
       "      <td id=\"T_de431_row3_col1\" class=\"data row3 col1\" >8.73%</td>\n",
       "    </tr>\n",
       "    <tr>\n",
       "      <th id=\"T_de431_level0_row4\" class=\"row_heading level0 row4\" >4</th>\n",
       "      <td id=\"T_de431_row4_col0\" class=\"data row4 col0\" >buyout</td>\n",
       "      <td id=\"T_de431_row4_col1\" class=\"data row4 col1\" >6.68%</td>\n",
       "    </tr>\n",
       "    <tr>\n",
       "      <th id=\"T_de431_level0_row5\" class=\"row_heading level0 row5\" >5</th>\n",
       "      <td id=\"T_de431_row5_col0\" class=\"data row5 col0\" >listed domestic public equity</td>\n",
       "      <td id=\"T_de431_row5_col1\" class=\"data row5 col1\" >2.06%</td>\n",
       "    </tr>\n",
       "    <tr>\n",
       "      <th id=\"T_de431_level0_row6\" class=\"row_heading level0 row6\" >6</th>\n",
       "      <td id=\"T_de431_row6_col0\" class=\"data row6 col0\" >venture</td>\n",
       "      <td id=\"T_de431_row6_col1\" class=\"data row6 col1\" >1.4%</td>\n",
       "    </tr>\n",
       "    <tr>\n",
       "      <th id=\"T_de431_level0_row7\" class=\"row_heading level0 row7\" >7</th>\n",
       "      <td id=\"T_de431_row7_col0\" class=\"data row7 col0\" >public investment funds</td>\n",
       "      <td id=\"T_de431_row7_col1\" class=\"data row7 col1\" >0.36%</td>\n",
       "    </tr>\n",
       "    <tr>\n",
       "      <th id=\"T_de431_level0_row8\" class=\"row_heading level0 row8\" >8</th>\n",
       "      <td id=\"T_de431_row8_col0\" class=\"data row8 col0\" >listed foreign public equity</td>\n",
       "      <td id=\"T_de431_row8_col1\" class=\"data row8 col1\" >0.19%</td>\n",
       "    </tr>\n",
       "    <tr>\n",
       "      <th id=\"T_de431_level0_row9\" class=\"row_heading level0 row9\" >9</th>\n",
       "      <td id=\"T_de431_row9_col0\" class=\"data row9 col0\" >other equity instruments</td>\n",
       "      <td id=\"T_de431_row9_col1\" class=\"data row9 col1\" >0.09%</td>\n",
       "    </tr>\n",
       "  </tbody>\n",
       "</table>\n",
       "</div><div style='display: inline-block; vertical-align: top; margin-right: 20px;'><h3 style='font-family: Poppins; font-size: 130%;'>Risk Matching Portfolio</h3>Return: 7.39%, Std.: 7.02% <br><br>Median: 11.59%,Geo. Mean: 6.91%, Bayes Stein: 5.96%, Ill. penalized: 6.55%, Skewness: -1.17, Kurtosis: 0.32, CVaR: 13.3% <br><br><style type=\"text/css\">\n",
       "#T_ef489 th {\n",
       "  text-align: center;\n",
       "  font-family: Poppins;\n",
       "}\n",
       "#T_ef489 td {\n",
       "  text-align: center;\n",
       "  font-family: Poppins;\n",
       "}\n",
       "</style>\n",
       "<table id=\"T_ef489\">\n",
       "  <thead>\n",
       "    <tr>\n",
       "      <th class=\"blank level0\" >&nbsp;</th>\n",
       "      <th id=\"T_ef489_level0_col0\" class=\"col_heading level0 col0\" >Asset_classes</th>\n",
       "      <th id=\"T_ef489_level0_col1\" class=\"col_heading level0 col1\" >Weights</th>\n",
       "    </tr>\n",
       "  </thead>\n",
       "  <tbody>\n",
       "    <tr>\n",
       "      <th id=\"T_ef489_level0_row0\" class=\"row_heading level0 row0\" >0</th>\n",
       "      <td id=\"T_ef489_row0_col0\" class=\"data row0 col0\" >buyout</td>\n",
       "      <td id=\"T_ef489_row0_col1\" class=\"data row0 col1\" >30.86%</td>\n",
       "    </tr>\n",
       "    <tr>\n",
       "      <th id=\"T_ef489_level0_row1\" class=\"row_heading level0 row1\" >1</th>\n",
       "      <td id=\"T_ef489_row1_col0\" class=\"data row1 col0\" >state bonds</td>\n",
       "      <td id=\"T_ef489_row1_col1\" class=\"data row1 col1\" >19.6%</td>\n",
       "    </tr>\n",
       "    <tr>\n",
       "      <th id=\"T_ef489_level0_row2\" class=\"row_heading level0 row2\" >2</th>\n",
       "      <td id=\"T_ef489_row2_col0\" class=\"data row2 col0\" >other equity instruments</td>\n",
       "      <td id=\"T_ef489_row2_col1\" class=\"data row2 col1\" >13.6%</td>\n",
       "    </tr>\n",
       "    <tr>\n",
       "      <th id=\"T_ef489_level0_row3\" class=\"row_heading level0 row3\" >3</th>\n",
       "      <td id=\"T_ef489_row3_col0\" class=\"data row3 col0\" >cash</td>\n",
       "      <td id=\"T_ef489_row3_col1\" class=\"data row3 col1\" >12.08%</td>\n",
       "    </tr>\n",
       "    <tr>\n",
       "      <th id=\"T_ef489_level0_row4\" class=\"row_heading level0 row4\" >4</th>\n",
       "      <td id=\"T_ef489_row4_col0\" class=\"data row4 col0\" >listed foreign public equity</td>\n",
       "      <td id=\"T_ef489_row4_col1\" class=\"data row4 col1\" >6.5%</td>\n",
       "    </tr>\n",
       "    <tr>\n",
       "      <th id=\"T_ef489_level0_row5\" class=\"row_heading level0 row5\" >5</th>\n",
       "      <td id=\"T_ef489_row5_col0\" class=\"data row5 col0\" >venture</td>\n",
       "      <td id=\"T_ef489_row5_col1\" class=\"data row5 col1\" >5.78%</td>\n",
       "    </tr>\n",
       "    <tr>\n",
       "      <th id=\"T_ef489_level0_row6\" class=\"row_heading level0 row6\" >6</th>\n",
       "      <td id=\"T_ef489_row6_col0\" class=\"data row6 col0\" >public investment funds</td>\n",
       "      <td id=\"T_ef489_row6_col1\" class=\"data row6 col1\" >4.82%</td>\n",
       "    </tr>\n",
       "    <tr>\n",
       "      <th id=\"T_ef489_level0_row7\" class=\"row_heading level0 row7\" >7</th>\n",
       "      <td id=\"T_ef489_row7_col0\" class=\"data row7 col0\" >corporate bonds</td>\n",
       "      <td id=\"T_ef489_row7_col1\" class=\"data row7 col1\" >3.65%</td>\n",
       "    </tr>\n",
       "    <tr>\n",
       "      <th id=\"T_ef489_level0_row8\" class=\"row_heading level0 row8\" >8</th>\n",
       "      <td id=\"T_ef489_row8_col0\" class=\"data row8 col0\" >fixed term and savings deposit</td>\n",
       "      <td id=\"T_ef489_row8_col1\" class=\"data row8 col1\" >2.45%</td>\n",
       "    </tr>\n",
       "    <tr>\n",
       "      <th id=\"T_ef489_level0_row9\" class=\"row_heading level0 row9\" >9</th>\n",
       "      <td id=\"T_ef489_row9_col0\" class=\"data row9 col0\" >listed domestic public equity</td>\n",
       "      <td id=\"T_ef489_row9_col1\" class=\"data row9 col1\" >0.67%</td>\n",
       "    </tr>\n",
       "  </tbody>\n",
       "</table>\n",
       "</div><div style='display: inline-block; vertical-align: top;'><h3 style='font-family: Poppins; font-size: 130%;'>Retail Portfolio</h3>Return: 2.94%, Std.: 7.08% <br><br>Median: 4.27%,Geo. Mean: 2.7%, Bayes Stein: 2.55%, Ill. penalized: 2.9%, Skewness: -0.69, Kurtosis: -0.03, CVaR: 11.6% <br><br><style type=\"text/css\">\n",
       "#T_b073e th {\n",
       "  text-align: center;\n",
       "  font-family: Poppins;\n",
       "}\n",
       "#T_b073e td {\n",
       "  text-align: center;\n",
       "  font-family: Poppins;\n",
       "}\n",
       "</style>\n",
       "<table id=\"T_b073e\">\n",
       "  <thead>\n",
       "    <tr>\n",
       "      <th class=\"blank level0\" >&nbsp;</th>\n",
       "      <th id=\"T_b073e_level0_col0\" class=\"col_heading level0 col0\" >Asset_classes</th>\n",
       "      <th id=\"T_b073e_level0_col1\" class=\"col_heading level0 col1\" >Weights</th>\n",
       "    </tr>\n",
       "  </thead>\n",
       "  <tbody>\n",
       "    <tr>\n",
       "      <th id=\"T_b073e_level0_row0\" class=\"row_heading level0 row0\" >0</th>\n",
       "      <td id=\"T_b073e_row0_col0\" class=\"data row0 col0\" >cash</td>\n",
       "      <td id=\"T_b073e_row0_col1\" class=\"data row0 col1\" >42.8%</td>\n",
       "    </tr>\n",
       "    <tr>\n",
       "      <th id=\"T_b073e_level0_row1\" class=\"row_heading level0 row1\" >1</th>\n",
       "      <td id=\"T_b073e_row1_col0\" class=\"data row1 col0\" >public investment funds</td>\n",
       "      <td id=\"T_b073e_row1_col1\" class=\"data row1 col1\" >18.6%</td>\n",
       "    </tr>\n",
       "    <tr>\n",
       "      <th id=\"T_b073e_level0_row2\" class=\"row_heading level0 row2\" >2</th>\n",
       "      <td id=\"T_b073e_row2_col0\" class=\"data row2 col0\" >fixed term and savings deposit</td>\n",
       "      <td id=\"T_b073e_row2_col1\" class=\"data row2 col1\" >17.1%</td>\n",
       "    </tr>\n",
       "    <tr>\n",
       "      <th id=\"T_b073e_level0_row3\" class=\"row_heading level0 row3\" >3</th>\n",
       "      <td id=\"T_b073e_row3_col0\" class=\"data row3 col0\" >other equity instruments</td>\n",
       "      <td id=\"T_b073e_row3_col1\" class=\"data row3 col1\" >8.4%</td>\n",
       "    </tr>\n",
       "    <tr>\n",
       "      <th id=\"T_b073e_level0_row4\" class=\"row_heading level0 row4\" >4</th>\n",
       "      <td id=\"T_b073e_row4_col0\" class=\"data row4 col0\" >listed domestic public equity</td>\n",
       "      <td id=\"T_b073e_row4_col1\" class=\"data row4 col1\" >5.9%</td>\n",
       "    </tr>\n",
       "    <tr>\n",
       "      <th id=\"T_b073e_level0_row5\" class=\"row_heading level0 row5\" >5</th>\n",
       "      <td id=\"T_b073e_row5_col0\" class=\"data row5 col0\" >listed foreign public equity</td>\n",
       "      <td id=\"T_b073e_row5_col1\" class=\"data row5 col1\" >5.0%</td>\n",
       "    </tr>\n",
       "    <tr>\n",
       "      <th id=\"T_b073e_level0_row6\" class=\"row_heading level0 row6\" >6</th>\n",
       "      <td id=\"T_b073e_row6_col0\" class=\"data row6 col0\" >corporate bonds</td>\n",
       "      <td id=\"T_b073e_row6_col1\" class=\"data row6 col1\" >1.46%</td>\n",
       "    </tr>\n",
       "    <tr>\n",
       "      <th id=\"T_b073e_level0_row7\" class=\"row_heading level0 row7\" >7</th>\n",
       "      <td id=\"T_b073e_row7_col0\" class=\"data row7 col0\" >state bonds</td>\n",
       "      <td id=\"T_b073e_row7_col1\" class=\"data row7 col1\" >0.73%</td>\n",
       "    </tr>\n",
       "  </tbody>\n",
       "</table>\n",
       "</div>"
      ],
      "text/plain": [
       "<IPython.core.display.HTML object>"
      ]
     },
     "metadata": {},
     "output_type": "display_data"
    },
    {
     "data": {
      "image/png": "[encoded data removed]",
      "text/plain": [
       "<Figure size 1500x900 with 1 Axes>"
      ]
     },
     "metadata": {},
     "output_type": "display_data"
    }
   ],
   "source": [
    "# Standard Libraries\n",
    "import math\n",
    "import random\n",
    "\n",
    "# Numerical and Scientific Libraries\n",
    "import numpy as np\n",
    "import scipy.stats as stats\n",
    "from scipy.stats import skew, kurtosis, jarque_bera, shapiro, anderson\n",
    "import scipy.integrate as integrate\n",
    "import scipy.special as special\n",
    "\n",
    "# Data Analysis and Visualization Libraries\n",
    "import pandas as pd\n",
    "import matplotlib.pyplot as plt\n",
    "import matplotlib.ticker as mticker\n",
    "import seaborn as sns\n",
    "\n",
    "# Interactive Data Visualization Libraries\n",
    "import plotly\n",
    "import plotly.graph_objects as go\n",
    "from plotly.subplots import make_subplots\n",
    "import plotly.express as px\n",
    "import plotly.figure_factory as ff\n",
    "\n",
    "# Other Libraries\n",
    "from IPython.display import display, HTML\n",
    "from tqdm import tqdm as tqdm\n",
    "import os\n",
    "from scipy.interpolate import CubicSpline\n",
    "\n",
    "\n",
    "##     ##               #######                                                                                                             \n",
    "##      ##              #     #                                                                                                             \n",
    "##       ##             #        #######  #######           #     #  #######  #######     #     #######  ######   #        #######  ####### \n",
    "##       ##             #######  #           #              #     #  #     #  #     #     #     #     #  #    #   #        #        #       \n",
    "##       ##                  ##  ####        #               #   #   #######  #######     #     #######  #######  #        ####     ####### \n",
    "##      ##              #    ##  #           #                # #    #     #  #    #      #     #     #  #     #  #        #              # \n",
    "##     ##               #######  #######     #                 #     #     #  #    ##     #     #     #  #######  #######  #######  #######\n",
    "\n",
    "\n",
    "# Define year range that should be incorporated\n",
    "time_start = 2001\n",
    "time_end = 2022\n",
    "\n",
    "# Asset classes that are included either directly or as risk/return proxy into German Retail Investor Portfolio\n",
    "retail_asset_classes = ['Listed Foreign Public Equity','Other Equity Instruments','State Bonds','Corporate Bonds','Listed Domestic Public Equity','Fixed Term and Savings Deposit','Public Investment Funds','Cash']\n",
    "\n",
    "# Define max weight per asset class for restricted portfolio optimization\n",
    "max_weight = 0.33\n",
    "\n",
    "# Define cash for restricted portfolio optimization\n",
    "cash_level = 0.428\n",
    "\n",
    "\n",
    "# Define number of shots per Monte Carlo Simulation\n",
    "n_unrestricted = 10000000\n",
    "n_restricted = 10000000\n",
    "\n",
    "# Define risk free rate for Sharpe calc.\n",
    "risk_free_rate=0.016 \n",
    "\n",
    "# Define CVaR-Threshold\n",
    "CVaR_threshold = 0.1\n",
    "\n",
    "# To load caches, name the optimization model parameters\n",
    "# Variable or fixed cash\n",
    "var_cash= True\n",
    "\n",
    "# Inclusion of alternatives\n",
    "alt=True\n",
    "\n",
    "# Version of results\n",
    "version = '_4'\n",
    "\n",
    "# Choose asset classes for portfolio optimization\n",
    "if alt == True:\n",
    "    asset_classes_ex1 = ['Listed Foreign Public Equity','Other Equity Instruments','State Bonds','Corporate Bonds','Listed Domestic Public Equity','Fixed Term and Savings Deposit','Public Investment Funds','Cash','BUYOUT','VENTURE']\n",
    "\n",
    "    illiquidity_data = {\n",
    "        'Illiquidity_index': [0.25, 0.25, 0, 0, 0.25, 0, 0.25, 0, 1, 1]\n",
    "    }\n",
    "    illiquidity_table = pd.DataFrame(illiquidity_data, index=[\n",
    "        'listed foreign public equity', 'other equity instruments', 'state bonds','corporate bonds','listed domestic public equity','fixed term and savings deposit', 'public investment funds',\n",
    "        'cash', 'buyout','venture'\n",
    "    ])\n",
    "else:\n",
    "    asset_classes_ex1 = ['Listed Foreign Public Equity','Other Equity Instruments','State Bonds','Corporate Bonds','Listed Domestic Public Equity','Fixed Term and Savings Deposit','Public Investment Funds','Cash']\n",
    "\n",
    "    illiquidity_data = {\n",
    "        'Illiquidity_index': [0.25, 0.25, 0, 0, 0.25, 0, 0.25, 0]\n",
    "    }\n",
    "    illiquidity_table = pd.DataFrame(illiquidity_data, index=[\n",
    "        'listed foreign public equity', 'other equity instruments', 'state bonds','corporate bonds','listed domestic public equity','fixed term and savings deposit', 'public investment funds',\n",
    "        'cash'\n",
    "    ])\n",
    "\n",
    "# Activate model\n",
    "active_classes = asset_classes_ex1.copy()\n",
    "\n",
    "\n",
    "\n",
    "\n",
    "\n",
    "#######   ##               ######                                                                           #######                                                                                  \n",
    "#######    ##              #                                                                                #     #                                                                                  \n",
    "     ##     ##             #        #     #  #     #  #######  #######     #     #######  #     #           #     #  #######  #######     #     #     #     #     #######     #     #######  #     # \n",
    "#######     ##             #####    #     #  ##    #  #           #        #     #     #  ##    #           ##    #  #        #           #     ##    #     #        #        #     #     #  ##    # \n",
    "##          ##             ##       #     #  # ### #  #           #        #     #     #  # ### #           ##    #  ####     ####        #     # ### #     #        #        #     #     #  # ### # \n",
    "#######    ##              ##       #     #  #    ##  #           #        #     #     #  #    ##           ##    #  #        #           #     #    ##     #        #        #     #     #  #    ## \n",
    "#######   ##               ##       #######  #     #  #######     #        #     #######  #     #           #######  #######  #           #     #     #     #        #        #     #######  #     # \n",
    "                                                                                                                                                                                                      \n",
    "\n",
    "# Calculate Bayes_Steins estimates using the shrikage factor w\n",
    "def bayes_stein_returns(matrix, adjust=True):\n",
    "\n",
    "\n",
    "    t, n = matrix.shape\n",
    "    sample_means = matrix.mean(axis=0)\n",
    "    ones = np.ones_like(sample_means)\n",
    "\n",
    "    E = np.cov(matrix, rowvar=False)\n",
    "    # Zellner & Chetty adjustment of sample cov matrix\n",
    "    adj_Z_C = (float(t) - 1) / (t - n - 2)\n",
    "    E *= round(adj_Z_C, 4) \n",
    "    I = np.linalg.inv(E)\n",
    "    grand_mean = sample_means.dot(I).dot(ones.T) / ones.dot(I).dot(ones.T)\n",
    "    diff = sample_means - grand_mean\n",
    "    denominator = n + 2 + diff.dot(t*I).dot(diff.T)\n",
    "    w = round((n + 2) / denominator, 4)\n",
    "    #print('The weighting coefficient in Bayes-Stein shrinkage: {}'.format(w))\n",
    "    adjusted_means = (1 - w)*sample_means + w*grand_mean\n",
    "\n",
    "    return adjusted_means\n",
    "\n",
    "# Define a function to calculate CVaR at a given confidence level\n",
    "def calculate_cvar(data, alpha):\n",
    "    sorted_returns = np.sort(data)\n",
    "    var_index = int((1 - alpha) * len(sorted_returns))\n",
    "    cvar = -sorted_returns[:var_index].mean()\n",
    "    return cvar\n",
    "\n",
    "def calc_risk_return_measures (tickers_list,weights_list,where_index,selected_returns,label):    \n",
    "    \n",
    "    alloc_df = pd.DataFrame(weights_list[where_index],tickers_list[where_index],columns=['Allocation'])\n",
    "\n",
    "    # Get the column order from selected_returns dataframe\n",
    "    column_order = selected_returns.columns\n",
    "\n",
    "    # Reindex alloc_df based on the column order\n",
    "    alloc_df = alloc_df.reindex(column_order)\n",
    "\n",
    "    selected_returns_local = selected_returns.copy()\n",
    "\n",
    "    # Calculate weighted returns\n",
    "    selected_returns_local['weighted_returns'] = (selected_returns * alloc_df['Allocation']).sum(axis=1)\n",
    "    \n",
    "    # Return estimators\n",
    "\n",
    "    selected_means = selected_returns_local['weighted_returns'].mean()\n",
    "    selected_medians = selected_returns_local['weighted_returns'].median()\n",
    "\n",
    "    # Calculate the annual geometric mean for each asset\n",
    "    geometric_mean = (selected_returns_local['weighted_returns'] + 1).prod()**(1 / len(selected_returns_local['weighted_returns'])) - 1\n",
    "\n",
    "    # Bayes-Stein (shrinkage)\n",
    "\n",
    "    weighted_returns = (selected_returns * alloc_df['Allocation'])\n",
    "\n",
    "    # Calculate the portfolio illiquidity index\n",
    "    portfolio_illiquidity = np.sum(alloc_df['Allocation'] * illiquidity_table['Illiquidity_index'])\n",
    "\n",
    "    # Marginal illiquidity penalty funciton\n",
    "    def exponential_function(x):\n",
    "        b = np.log(4) / 0.2\n",
    "        return (0.05 / np.exp(0.4 * (np.log(4) / 0.2))) * np.exp(b * x)\n",
    "\n",
    "    # Calculate the illiquidity punishment as the area under the function from 0 to the portfolio illiquidity\n",
    "    illiquidity_punishment, _ = integrate.quad(exponential_function, 0, portfolio_illiquidity)\n",
    "\n",
    "\n",
    "    # drop cash as 0 const otherwise the matrix cannot be inverted\n",
    "    # Find the index number of the column 'cash'\n",
    "    index_cash = weighted_returns.columns.get_loc('cash')\n",
    "    selected_returns_wo_cash = weighted_returns.drop(columns='cash')\n",
    "    selected_bayes_stein_returns = bayes_stein_returns(selected_returns_wo_cash)\n",
    "    # Create a new Series with the \"cash\" asset class and its corresponding return value\n",
    "    cash_series = pd.Series([0.0], index=[\"cash\"])\n",
    "    # Concatenate the new_series with the original selected_bayes_stein_returns series\n",
    "    selected_bayes_stein_returns = pd.concat([selected_bayes_stein_returns.iloc[:index_cash], cash_series, selected_bayes_stein_returns.iloc[index_cash:]])\n",
    "    bayes_stein_return = sum(selected_bayes_stein_returns)\n",
    "\n",
    "    # Risk estimators\n",
    "\n",
    "    selected_skewness = selected_returns_local['weighted_returns'].skew()\n",
    "    selected_kurtosis = selected_returns_local['weighted_returns'].kurtosis()\n",
    "    selected_std_dev = selected_returns_local['weighted_returns'].std()\n",
    "    selected_cvar = calculate_cvar(selected_returns_local['weighted_returns'], 1- CVaR_threshold)\n",
    "\n",
    "    return selected_means, selected_medians, geometric_mean, bayes_stein_return, selected_skewness, selected_kurtosis, selected_std_dev, selected_cvar,illiquidity_punishment\n",
    "\n",
    "def calc_retail_risk_return_measures (retail_asset_allocation,selected_returns):    \n",
    "    \n",
    "    if alt == True:\n",
    "    \n",
    "        columns_to_exclude = ['venture', 'buyout']\n",
    "\n",
    "        # Drop the specified columns\n",
    "        selected_columns_df = selected_returns.drop(columns=columns_to_exclude)\n",
    "    \n",
    "    else:\n",
    "        selected_columns_df = selected_returns.copy()\n",
    "    \n",
    "    # Get the column order from selected_returns dataframe\n",
    "    column_order = selected_columns_df.columns\n",
    "\n",
    "    # Reindex alloc_df based on the column order\n",
    "    retail_asset_allocation = retail_asset_allocation.reindex(column_order)\n",
    "\n",
    "    selected_returns_local = selected_columns_df.copy()\n",
    "\n",
    "    # Calculate weighted returns\n",
    "    selected_returns_local['weighted_returns'] = (selected_returns * retail_asset_allocation['Allocation']).sum(axis=1)\n",
    "    \n",
    "    # Return estimators\n",
    "\n",
    "    selected_means = selected_returns_local['weighted_returns'].mean()\n",
    "    selected_medians = selected_returns_local['weighted_returns'].median()\n",
    "\n",
    "    # Calculate the portfolio illiquidity index\n",
    "    portfolio_illiquidity = np.sum(retail_asset_allocation['Allocation'] * illiquidity_table['Illiquidity_index'])\n",
    "\n",
    "    # Marginal illiquidity penalty funciton\n",
    "    def exponential_function(x):\n",
    "        b = np.log(4) / 0.2\n",
    "        return (0.05 / np.exp(0.4 * (np.log(4) / 0.2))) * np.exp(b * x)\n",
    "\n",
    "    # Calculate the illiquidity punishment as the area under the function from 0 to the portfolio illiquidity\n",
    "    illiquidity_punishment, _ = integrate.quad(exponential_function, 0, portfolio_illiquidity)\n",
    "\n",
    "    # Calculate the annual geometric mean for each asset\n",
    "    geometric_mean = (selected_returns_local['weighted_returns'] + 1).prod()**(1 / len(selected_returns_local['weighted_returns'])) - 1\n",
    "\n",
    "    # Bayes-Stein (shrinkage)\n",
    "\n",
    "    weighted_returns = (selected_columns_df * retail_asset_allocation['Allocation'])\n",
    "    # drop cash as 0 const otherwise the matrix cannot be inverted\n",
    "    # Find the index number of the column 'cash'\n",
    "    index_cash = weighted_returns.columns.get_loc('cash')\n",
    "    selected_returns_wo_cash = weighted_returns.drop(columns='cash')\n",
    "    selected_bayes_stein_returns = bayes_stein_returns(selected_returns_wo_cash)\n",
    "    # Create a new Series with the \"cash\" asset class and its corresponding return value\n",
    "    cash_series = pd.Series([0.0], index=[\"cash\"])\n",
    "    # Concatenate the new_series with the original selected_bayes_stein_returns series\n",
    "    selected_bayes_stein_returns = pd.concat([selected_bayes_stein_returns.iloc[:index_cash], cash_series, selected_bayes_stein_returns.iloc[index_cash:]])\n",
    "    bayes_stein_return = sum(selected_bayes_stein_returns)\n",
    "\n",
    "    # Risk estimators\n",
    "\n",
    "    selected_skewness = selected_returns_local['weighted_returns'].skew()\n",
    "    selected_kurtosis = selected_returns_local['weighted_returns'].kurtosis()\n",
    "    selected_std_dev = selected_returns_local['weighted_returns'].std()\n",
    "    selected_cvar = calculate_cvar(selected_returns_local['weighted_returns'], 1- CVaR_threshold)\n",
    "\n",
    "    return selected_means, selected_medians, geometric_mean, bayes_stein_return, selected_skewness, selected_kurtosis, selected_std_dev, selected_cvar, illiquidity_punishment\n",
    "\n",
    "# Function to plot the simulated portfolios with the minimum variance port., highest sharpe port. and retail portfolio\n",
    "def plot_ef  (mean_variance_pairs,tickers_list,weights_list,risk_free_rate,retail_return,retail_std,title_name,selected_returns,retail_asset_allocation): \n",
    "    #-- Plot the risk vs. return of randomly generated portfolios\n",
    "    #-- Convert the list from before into an array for easy plotting\n",
    "    mean_variance_pairs = np.array(mean_variance_pairs)\n",
    "\n",
    "\n",
    "    fig = go.Figure()\n",
    "    fig.add_trace(go.Scatter(x=mean_variance_pairs[:,1]**0.5, y=mean_variance_pairs[:,0], \n",
    "                        marker=dict(color=(mean_variance_pairs[:,0]-risk_free_rate)/(mean_variance_pairs[:,1]**0.5), \n",
    "                                    showscale=True, \n",
    "                                    size=7,\n",
    "                                    line=dict(width=1),\n",
    "                                    colorscale=\"RdBu\",\n",
    "                                    colorbar=dict(title=\"Sharpe<br>Ratio\")\n",
    "                                    ), \n",
    "                        mode='markers',\n",
    "                        text=[str(np.array(tickers_list[i])) + \"<br>\" + str(np.array(weights_list[i]).round(2)) for i in range(len(tickers_list))]))\n",
    "    fig.update_layout(template='plotly_white',\n",
    "                    xaxis=dict(title='Annualised Risk (Volatility)'),\n",
    "                    yaxis=dict(title='Annualised Return'),\n",
    "                    title=title_name,\n",
    "                    width=1000,\n",
    "                    height=700,\n",
    "                    showlegend = False)\n",
    "\n",
    "    #-- Find the portfolio with the highest Sharpe ratio\n",
    "    sharpe_ratio = (mean_variance_pairs[:,0]-risk_free_rate) / (mean_variance_pairs[:,1]**0.5)\n",
    "    max_sharpe_idx = np.argmax(sharpe_ratio)\n",
    "    max_sharpe_weights = weights_list[max_sharpe_idx]\n",
    "    max_sharpe_tickers = tickers_list[max_sharpe_idx]\n",
    "    max_sharpe_return = np.round(mean_variance_pairs[max_sharpe_idx][0] * 100,decimals=2)\n",
    "    max_sharpe_risk = np.round(mean_variance_pairs[max_sharpe_idx][1]**0.5 * 100,decimals=2)\n",
    "\n",
    "    max_sharpe_mean, max_sharpe_median, max_sharpe_geometric_mean, max_sharpe_bayes_stein_return, max_sharpe_skewness, max_sharpe_kurtosis, max_sharpe_std_dev, max_sharpe_cvar, max_sharpe_illiquidity_punishment = calc_risk_return_measures(tickers_list,weights_list,max_sharpe_idx,selected_returns,'max_sharpe')\n",
    "    \n",
    "\n",
    "    #-- Find the portfolio with the minimum variance\n",
    "    min_var_idx = np.argmin(mean_variance_pairs[:,1])\n",
    "    min_var_weights = weights_list[min_var_idx]\n",
    "    min_var_tickers = tickers_list[min_var_idx]\n",
    "    min_var_return = np.round(mean_variance_pairs[min_var_idx][0] * 100,decimals=2)\n",
    "    min_var_risk = np.round(mean_variance_pairs[min_var_idx][1]**0.5 * 100,decimals=2)\n",
    "\n",
    "    min_var_mean, min_var_median, min_var_geometric_mean, min_var_bayes_stein_return, min_var_skewness, min_var_kurtosis, min_var_std_dev, min_var_cvar,min_var_illiquidity_punishment = calc_risk_return_measures(tickers_list,weights_list,min_var_idx,selected_returns,'min_var')\n",
    "\n",
    "    #-- Find the portfolio with the closest risk measure\n",
    "    # Convert mean_variance_pairs_re into a NumPy array\n",
    "    mean_variance_pairs_array = np.array(mean_variance_pairs)\n",
    "\n",
    "    # Extract the standard deviation array\n",
    "    std_array = np.sqrt(mean_variance_pairs_array[:, 1])\n",
    "\n",
    "    # Find the indices of the pairs within the specified range\n",
    "    indices_within_range = np.where(((retail_std - std_array) >= 0) & ((retail_std - std_array) <= 0.001))[0]\n",
    "\n",
    "    # If there are indices within the range, select the last one (closest to the lower end of the range)\n",
    "    if indices_within_range.size > 0:\n",
    "        closest_index = indices_within_range[-1]\n",
    "        closest_std_tickers = tickers_list_re[closest_index]\n",
    "        closest_std_weights = weights_list_re[closest_index]\n",
    "    else:\n",
    "        # Handle the case where no pairs are within the specified range\n",
    "        closest_std_tickers = None\n",
    "        closest_std_weights = None\n",
    "\n",
    "\n",
    "\n",
    "    closest_risk_mean, closest_risk_median, closest_risk_geometric_mean, closest_risk_bayes_stein_return, closest_risk_skewness, closest_risk_kurtosis, closest_risk_std_dev, closest_risk_cvar, closest_risk_illiquidity_punishment = calc_risk_return_measures(tickers_list,weights_list,closest_index,selected_returns,'risk_match')\n",
    "\n",
    "\n",
    "    #-- Take the portfolio stats of the average German private houshold portfolio\n",
    "    # Extract the index as an array\n",
    "    retail_tickers = retail_asset_allocation.index.str.lower().to_numpy()\n",
    "    retail_weights = retail_asset_allocation['Allocation'].to_numpy()\n",
    "\n",
    "    retail_asset_allocation.index = retail_asset_allocation.index.str.lower()\n",
    "\n",
    "    retial_risk_mean, retial_risk_median, retial_risk_geometric_mean, retial_risk_bayes_stein_return, retial_risk_skewness, retial_risk_kurtosis, retial_risk_std_dev, retial_risk_cvar, retial_illiquidity_punishment = calc_retail_risk_return_measures(retail_asset_allocation,selected_returns)\n",
    "\n",
    "\n",
    "    #-- Add the portfolios to the scatter plot\n",
    "    fig.add_trace(go.Scatter(x=[mean_variance_pairs[max_sharpe_idx,1]**0.5], y=[mean_variance_pairs[max_sharpe_idx,0]], \n",
    "                            marker=dict(color='green', size=10), \n",
    "                            mode='markers', \n",
    "                            name=None,\n",
    "                            text=['Portfolio with highest Sharpe ratio (' + str(np.array(max_sharpe_tickers)) + ', ' + str(np.array(max_sharpe_weights).round(2)) + ')']))\n",
    "\n",
    "    fig.add_trace(go.Scatter(x=[mean_variance_pairs[min_var_idx,1]**0.5], y=[mean_variance_pairs[min_var_idx,0]], \n",
    "                            marker=dict(color='red', size=10), \n",
    "                            mode='markers', \n",
    "                            name=None,\n",
    "                            text=['Minimum variance portfolio (' + str(np.array(min_var_tickers)) + ', ' + str(np.array(min_var_weights).round(2)) + ')']))\n",
    "\n",
    "    fig.add_trace(go.Scatter(x = [retail_std], y= [retail_return], \n",
    "                            marker=dict(color='purple', size=10), \n",
    "                            mode='markers', \n",
    "                            name=None,\n",
    "                            text=['Retail Investor Portfolio (' + str(np.array(retail_tickers)) + ', ' + str(np.array(retail_weights).round(2)) + ')']))\n",
    "\n",
    "\n",
    "    #-- Add the efficient frontier line from the risk-free rate to the portfolio with the highest Sharpe ratio\n",
    "    ef_line_x = np.linspace(0, max(mean_variance_pairs[:,1]**0.5), 100)\n",
    "    ef_line_y = ef_line_x * sharpe_ratio[max_sharpe_idx] + risk_free_rate\n",
    "    fig.add_trace(go.Scatter(x=ef_line_x, y=ef_line_y, \n",
    "                            line=dict(color='black', width=2, dash='dash'),\n",
    "                            name='Efficient Frontier'))\n",
    "\n",
    "\n",
    "    # Plot the three relevant highlight portfolios with their assigned weights below\n",
    "    max_sharpe_df = pd.DataFrame({'Asset_classes': max_sharpe_tickers, 'Weights': max_sharpe_weights})\n",
    "    max_sharpe_df = max_sharpe_df.sort_values('Weights', ascending=False)\n",
    "    max_sharpe_df['Weights'] = (max_sharpe_df['Weights'] * 100).round(2).astype(str) + '%'\n",
    "\n",
    "    min_var_df = pd.DataFrame({'Asset_classes': min_var_tickers, 'Weights': min_var_weights})\n",
    "    min_var_df = min_var_df.sort_values('Weights', ascending=False)\n",
    "    min_var_df['Weights'] = (min_var_df['Weights'] * 100).round(2).astype(str) + '%'\n",
    "\n",
    "    closest_std_df = pd.DataFrame({'Asset_classes': closest_std_tickers, 'Weights': closest_std_weights})\n",
    "    closest_std_df = closest_std_df.sort_values('Weights', ascending=False)\n",
    "    closest_std_df['Weights'] = (closest_std_df['Weights'] * 100).round(2).astype(str) + '%'\n",
    "    closest_std_return = np.round(mean_variance_pairs[closest_index][0] * 100,decimals=2)\n",
    "    closest_std_risk = np.round(mean_variance_pairs[closest_index][1]**0.5 * 100,decimals=2)\n",
    "\n",
    "    # Transform retail portfolio ret and std. for plot\n",
    "    retail_return = np.round(retail_return * 100,decimals=2)\n",
    "    retail_std = np.round(retail_std * 100,decimals=2)\n",
    "\n",
    "    retail_asset_allocation_df = retail_asset_allocation.copy()\n",
    "    retail_asset_allocation_df = retail_asset_allocation_df.sort_values('Allocation', ascending=False)\n",
    "    retail_asset_allocation_df['Allocation'] = (retail_asset_allocation['Allocation'] * 100).round(2).astype(str) + '%'\n",
    "    retail_asset_allocation_df.reset_index(inplace=True)\n",
    "    retail_asset_allocation_df.rename(columns={'Asset Class': 'Asset_classes', 'Allocation': 'Weights'},inplace = True)\n",
    "    retail_asset_allocation_df['Asset_classes'] = retail_asset_allocation_df['Asset_classes'].str.lower()\n",
    "\n",
    "    # remove index of max_sharpe_df and min_var_df\n",
    "    max_sharpe_df = max_sharpe_df.reset_index(drop=True)\n",
    "    min_var_df = min_var_df.reset_index(drop=True)\n",
    "    closest_std_df = closest_std_df.reset_index(drop=True)\n",
    "\n",
    "\n",
    "    # define CSS styles for the table\n",
    "    styles = [\n",
    "        dict(selector=\"th\", props=[(\"text-align\", \"center\"), (\"font-family\", \"Poppins\")]),\n",
    "        dict(selector=\"td\", props=[(\"text-align\", \"center\"), (\"font-family\", \"Poppins\")]),\n",
    "    ]\n",
    "\n",
    "    # create HTML code for the dataframes with \n",
    "    max_sharpe_html = f\"<div style='display: inline-block; vertical-align: top; margin-right: 20px;'><h3 style='font-family: Poppins; font-size: 130%;'>Max Sharpe</h3>Return: {max_sharpe_return}%, Std.: {max_sharpe_risk}% <br><br>Median: {round((max_sharpe_median * 100),2)}%,Geo. Mean: {round((max_sharpe_geometric_mean * 100),2)}%, Bayes Stein: {round((max_sharpe_bayes_stein_return * 100),2)}%, Ill. penalized: {round((max_sharpe_return - max_sharpe_illiquidity_punishment * 100),2)}%, Skewness: {round((max_sharpe_skewness),2)}, Kurtosis: {round((max_sharpe_kurtosis),2)}, CVaR: {round((max_sharpe_cvar * 100),2)}% <br><br>{max_sharpe_df.style.set_table_styles(styles).to_html(index=False)}</div>\"\n",
    "    min_var_html = f\"<div style='display: inline-block; vertical-align: top; margin-right: 20px;'><h3 style='font-family: Poppins; font-size: 130%;'>Min Variance</h3>Return: {min_var_return}%, Std.: {min_var_risk}% <br><br>Median: {round((min_var_median * 100),2)}%,Geo. Mean: {round((min_var_geometric_mean * 100),2)}%, Bayes Stein: {round((min_var_bayes_stein_return * 100),2)}%, Ill. penalized: {round((min_var_return - min_var_illiquidity_punishment * 100),2)}%, Skewness: {round((min_var_skewness),2)}, Kurtosis: {round((min_var_kurtosis),2)}, CVaR: {round((min_var_cvar * 100),2)}% <br><br>{min_var_df.style.set_table_styles(styles).to_html(index=False)}</div>\"\n",
    "    closest_std_html = f\"<div style='display: inline-block; vertical-align: top; margin-right: 20px;'><h3 style='font-family: Poppins; font-size: 130%;'>Risk Matching Portfolio</h3>Return: {closest_std_return}%, Std.: {closest_std_risk}% <br><br>Median: {round((closest_risk_median * 100),2)}%,Geo. Mean: {round((closest_risk_geometric_mean * 100),2)}%, Bayes Stein: {round((closest_risk_bayes_stein_return * 100),2)}%, Ill. penalized: {round((closest_std_return - closest_risk_illiquidity_punishment * 100),2)}%, Skewness: {round((closest_risk_skewness),2)}, Kurtosis: {round((closest_risk_kurtosis),2)}, CVaR: {round((closest_risk_cvar * 100),2)}% <br><br>{closest_std_df.style.set_table_styles(styles).to_html(index=False)}</div>\"\n",
    "    retail_html = f\"<div style='display: inline-block; vertical-align: top;'><h3 style='font-family: Poppins; font-size: 130%;'>Retail Portfolio</h3>Return: {retail_return}%, Std.: {retail_std}% <br><br>Median: {round((retial_risk_median * 100),2)}%,Geo. Mean: {round((retial_risk_geometric_mean * 100),2)}%, Bayes Stein: {round((retial_risk_bayes_stein_return * 100),2)}%, Ill. penalized: {round((retail_return - retial_illiquidity_punishment * 100),2)}%, Skewness: {round((retial_risk_skewness),2)}, Kurtosis: {round((retial_risk_kurtosis),2)}, CVaR: {round((retial_risk_cvar * 100),2)}% <br><br>{retail_asset_allocation_df.style.set_table_styles(styles).to_html(index=False)}</div>\"\n",
    "\n",
    "    # Return the outputs\n",
    "    return fig,max_sharpe_html,min_var_html,closest_std_html,retail_html\n",
    "\n",
    "\n",
    "def plot_ef_composition (tickers_list, weights_list, mean_variance_pairs,title):\n",
    "    # Create a set of unique tickers from tickers_list_un\n",
    "    unique_tickers = set([ticker for sublist in tickers_list for ticker in sublist])\n",
    "\n",
    "    # Initialize an empty dictionary to store column values\n",
    "    column_values = {ticker: [] for ticker in unique_tickers}\n",
    "\n",
    "    # Iterate through tickers_list_un and weights_list_un simultaneously\n",
    "    for tickers, weights in zip(tickers_list, weights_list):\n",
    "        ticker_weight_pairs = zip(tickers, weights)\n",
    "        \n",
    "        # Update the column values dictionary based on ticker and weight pairs\n",
    "        for ticker, weight in ticker_weight_pairs:\n",
    "            column_values[ticker].append(weight)\n",
    "\n",
    "    # Create the weighted_allocation DataFrame\n",
    "    weighted_allocation = pd.DataFrame(column_values)\n",
    "\n",
    "    # If there are missing values, replace them with 0\n",
    "    weighted_allocation.fillna(0, inplace=True)\n",
    "\n",
    "    # Sort the columns in alphabetical order\n",
    "    weighted_allocation = weighted_allocation.reindex(sorted(weighted_allocation.columns), axis=1)\n",
    "\n",
    "\n",
    "    mean_variance_pairs = pd.DataFrame(mean_variance_pairs, columns=['Return', 'Variance'])\n",
    "\n",
    "    # Calculate standard deviation (std) for each portfolio using the variance\n",
    "    mean_variance_pairs['Std'] = np.sqrt(mean_variance_pairs['Variance'])\n",
    "\n",
    "    # Create a new dataframe to store efficient portfolio compositions\n",
    "    efficient_portfolios = pd.DataFrame(columns=column_values)\n",
    "\n",
    "    # Define std intervals with a fixed distance of 0.001\n",
    "    std_intervals = np.arange(mean_variance_pairs['Std'].min(), mean_variance_pairs['Std'].max(), 0.01)\n",
    "\n",
    "    # Iterate over std intervals and find the efficient portfolio composition with the highest return\n",
    "    for std in std_intervals:\n",
    "        portfolios_within_interval = mean_variance_pairs[\n",
    "            (mean_variance_pairs['Std'] >= std) & (mean_variance_pairs['Std'] < std + 0.002)]\n",
    "        if len(portfolios_within_interval) > 0:\n",
    "            max_return_index = portfolios_within_interval['Return'].idxmax()\n",
    "            efficient_portfolios.loc[std] = weighted_allocation.iloc[max_return_index]\n",
    "\n",
    "    efficient_portfolios.index.name = 'std'\n",
    "\n",
    "    # Get the number of assets\n",
    "    num_assets = len(efficient_portfolios.columns)\n",
    "\n",
    "    # Generate a color palette with evenly spaced hues\n",
    "    colors = plt.cm.plasma(np.linspace(0, 1, num_assets))\n",
    "\n",
    "    # Set up the figure and axes with a larger size\n",
    "    fig, ax = plt.subplots(figsize=(15, 9))\n",
    "\n",
    "    # Rearrange the columns of the efficient_portfolios DataFrame\n",
    "    if alt == True:\n",
    "        new_order = [\n",
    "            'cash',\n",
    "            'fixed term and savings deposit',\n",
    "            'state bonds',\n",
    "            'corporate bonds',\n",
    "            'public investment funds',\n",
    "            'listed domestic public equity',\n",
    "            'listed foreign public equity',\n",
    "            'other equity instruments',\n",
    "            'venture',\n",
    "            'buyout'\n",
    "        ]\n",
    "    else:\n",
    "        new_order = [\n",
    "            'cash',\n",
    "            'fixed term and savings deposit',\n",
    "            'state bonds',\n",
    "            'corporate bonds',\n",
    "            'public investment funds',\n",
    "            'listed domestic public equity',\n",
    "            'listed foreign public equity',\n",
    "            'other equity instruments'\n",
    "        ]        \n",
    "    efficient_portfolios = efficient_portfolios.reindex(new_order, axis=1)\n",
    "\n",
    "    # Loop through each asset\n",
    "    for i, asset in enumerate(efficient_portfolios.columns):\n",
    "    \n",
    "        # Get the weights for the current asset\n",
    "        weights = efficient_portfolios[asset]\n",
    "\n",
    "        # Calculate the bottom position for each asset's polygon\n",
    "        bottom = efficient_portfolios.iloc[:, :i].sum(axis=1)\n",
    "\n",
    "        # Plot the filled polygon for each level of std, with stacking\n",
    "        ax.fill_between(efficient_portfolios.index, bottom, bottom + weights, color=colors[i], alpha=0.7, label=asset)\n",
    "\n",
    "\n",
    "    # Set the x-axis label\n",
    "    ax.set_xlabel('std', fontsize=12)\n",
    "\n",
    "    # Set the y-axis label\n",
    "    ax.set_ylabel('Weight', fontsize=12)\n",
    "\n",
    "    # Set the y-axis limits to range from 0 to 1 (0% to 100%)\n",
    "    ax.set_ylim(0, 1)\n",
    "\n",
    "    # Retrieve the current handles and labels from the legend\n",
    "    handles, labels = ax.get_legend_handles_labels()\n",
    "\n",
    "    # Reverse the order of the handles and labels\n",
    "    reversed_handles = handles[::-1]\n",
    "    reversed_labels = labels[::-1]\n",
    "\n",
    "    # Create a new legend with the reversed labels and handles\n",
    "    legend = ax.legend(reversed_handles, reversed_labels, loc='upper left', bbox_to_anchor=(1, 1),facecolor = 'white')\n",
    "\n",
    "    # Customize the legend labels for better readability\n",
    "    for text in legend.get_texts():\n",
    "        text.set_fontsize(12)  # Set the font size\n",
    "        #text.set_fontweight('bold')  # Set the font weight\n",
    "\n",
    "    # Customize tick label font size for both x and y axes\n",
    "    ax.tick_params(axis='both', labelsize=12)\n",
    "\n",
    "    ax.set_facecolor(color='white')\n",
    "\n",
    "    ax.spines['left'].set_color('0.5')\n",
    "    ax.spines['right'].set_color('0.5')\n",
    "    ax.spines['top'].set_color('0.5')\n",
    "    ax.spines['bottom'].set_color('0.5')\n",
    "\n",
    "    spine_width = 0.5  # Adjust this value as needed\n",
    "    ax.spines['top'].set_linewidth(spine_width)\n",
    "    ax.spines['bottom'].set_linewidth(spine_width)\n",
    "    ax.spines['left'].set_linewidth(spine_width)\n",
    "    ax.spines['right'].set_linewidth(spine_width)\n",
    "\n",
    "    ax.set_title(\"Efficient Frontier Asset Composition\", fontsize=12, fontweight='bold')\n",
    "\n",
    "\n",
    "    \n",
    "    # Show the plot\n",
    "    plt.show()\n",
    "\n",
    "def load_caches (var_cash,alt):\n",
    "    \n",
    "    core_lit = ''\n",
    "    data_pipe = ''\n",
    "    if (var_cash == False and alt == False):\n",
    "        core_lit = '/Fixed_cash_No_alt'\n",
    "        data_pipe = '1'\n",
    "    elif (var_cash == True and alt == False):\n",
    "        core_lit = '/Var_cash_No_alt'\n",
    "        data_pipe = '2'\n",
    "    elif (var_cash == True and alt == True):\n",
    "        core_lit = '/Var_cash_With_alt'\n",
    "        data_pipe = '3'\n",
    "\n",
    "    \n",
    "    path = os.path.abspath(\"../Results\")\n",
    "\n",
    "\n",
    "    # Import portfolio simulation caches\n",
    "    mean_variance_pairs_re = path + core_lit + '_RE_' + data_pipe + '_pairs'+ version\n",
    "    mean_variance_pairs_re = pd.read_csv(mean_variance_pairs_re,delimiter=',', decimal='.')\n",
    "    mean_variance_pairs_re.drop(mean_variance_pairs_re.columns[0], axis=1, inplace=True)\n",
    "    mean_variance_pairs_re = mean_variance_pairs_re.values.tolist()\n",
    "\n",
    "\n",
    "    tickers_list_re = path + core_lit + '_RE_' + data_pipe + '_tickers'+ version\n",
    "    tickers_list_re = pd.read_csv(tickers_list_re,delimiter=',', decimal='.')\n",
    "    tickers_list_re.drop(tickers_list_re.columns[0], axis=1, inplace=True)\n",
    "    tickers_list_re = tickers_list_re.values.tolist()\n",
    "\n",
    "\n",
    "    weights_list_re = path + core_lit + '_RE_' + data_pipe + '_weights'+ version\n",
    "    weights_list_re = pd.read_csv(weights_list_re,delimiter=',', decimal='.')\n",
    "    weights_list_re.drop(weights_list_re.columns[0], axis=1, inplace=True)\n",
    "    weights_list_re = weights_list_re.values.tolist()\n",
    "\n",
    "    return mean_variance_pairs_re,tickers_list_re,weights_list_re\n",
    "\n",
    "## function to load, transform and create data set\n",
    "def data_loader (time_start,time_end,retail_asset_classes):\n",
    "\n",
    "\n",
    "    #######   ##                                                                                                                 \n",
    "    #######    ##                                                                                                                \n",
    "        ##     ##                #     #     #  #######  #######  #######  #######           ######   #######  #######  ####### \n",
    "        ####     ##                #     ##   ##  #     #  #     #  #     #     #              #     #  #     #     #     #     # \n",
    "        ##     ##                #     # # # #  #######  #     #  #######     #              #     #  #######     #     ####### \n",
    "    #######    ##                 #     #  #  #  #        #     #  #    #      #              #     #  #     #     #     #     # \n",
    "    #######   ##                  #     #     #  #        #######  #    ##     #              ######   #     #     #     #     # \n",
    "\n",
    "\n",
    "    # Import quarterly index data from Preqin\n",
    "    preqin_quarter_file = '/Users/johannesschmidt/Documents/Masterarbeit/Data/preqin_export_Private Capital Quarterly Index Chart_2023_5_12.csv'\n",
    "    preqin_data_quarter = pd.read_csv(preqin_quarter_file,delimiter=';', decimal=',')\n",
    "\n",
    "    # Import Bloomberg data\n",
    "    bloomberg_file = '/Users/johannesschmidt/Documents/Masterarbeit/Data/Bloomberg_selected_data.csv'\n",
    "    bloomberg_data = pd.read_csv(bloomberg_file,delimiter=';', decimal=',')\n",
    "\n",
    "    # Import DAX from Yahoo Finance\n",
    "    dax_file = '/Users/johannesschmidt/Documents/Masterarbeit/Data/^GDAXI.csv'\n",
    "    dax_data = pd.read_csv(dax_file,delimiter=',', decimal='.')\n",
    "    # Import SDAX\n",
    "    sdax_file = '/Users/johannesschmidt/Documents/Masterarbeit/Data/SDAX Historical Data (1).csv'\n",
    "    sdax = pd.read_csv(sdax_file,delimiter=',', decimal='.')\n",
    "\n",
    "    # Import Fixed_term_and_savings_deposit returns from Deutsche Bundesbank\n",
    "    savings_file = '/Users/johannesschmidt/Documents/Masterarbeit/Data/Fixed_Term_and_Savings_Deposit_Deutsche_Bundesbank.csv'\n",
    "    savings_data = pd.read_csv(savings_file,delimiter=';', decimal=',')\n",
    "\n",
    "    # Import Investment fund data from Rifinitiv\n",
    "    Investment_fund_file = '/Users/johannesschmidt/Documents/Masterarbeit/Data/German_Investment_funds.csv'\n",
    "    Investment_fund_data = pd.read_csv(Investment_fund_file,delimiter=';', decimal=',')\n",
    "\n",
    "\n",
    "    # Create a dictionary with the asset allocation (incl. similar risk/return proxies) of German Private Housholds in 2022\n",
    "    houshold_data = {\n",
    "    'Asset Class': ['Listed Foreign Public Equity','Other Equity Instruments','State Bonds','Corporate Bonds','Listed Domestic Public Equity','Fixed Term and Savings Deposit','Public Investment Funds','Cash'],\n",
    "    'Allocation': ['5%', '8.4%', '0.73%', '1.46%', '5.9%', '17.1%', '18.6%','42.8%']\n",
    "    }\n",
    "\n",
    "    # Create the dataframe\n",
    "    retail_asset_allocation = pd.DataFrame(houshold_data)\n",
    "\n",
    "\n",
    "    ##   ##   ##                                                                                                                                   \n",
    "    ##   ##    ##                                                                                                                                  \n",
    "    ##   ##     ##             ######   #######  #######  #######           #######  #        #######  #######  #     #     #     #     #  ####### \n",
    "    # #####     ##             #     #  #     #     #     #     #           #        #        #        #     #  ##    #     #     ##    #  #       \n",
    "        ##     ##             #     #  #######     #     #######           #        #        ####     #######  # ### #     #     # ### #  #  #### \n",
    "        ##    ##              #     #  #     #     #     #     #           #        #        #        #     #  #    ##     #     #    ##  #     # \n",
    "        ##   ##               ######   #     #     #     #     #           #######  #######  #######  #     #  #     #     #     #     #  #######\n",
    "\n",
    "\n",
    "    # PREQIN QUARTERLY DATA\n",
    "    # drop the first row\n",
    "    preqin_data_quarter = preqin_data_quarter.drop(0)\n",
    "\n",
    "    # set the new column titles\n",
    "    preqin_data_quarter.columns = preqin_data_quarter.iloc[0]\n",
    "    preqin_data_quarter = preqin_data_quarter.drop(1)\n",
    "\n",
    "    # reset the index\n",
    "    preqin_data_quarter = preqin_data_quarter.reset_index(drop=True)\n",
    "\n",
    "    preqin_data_quarter['DATE'] = pd.to_datetime(preqin_data_quarter['DATE'], format='%b-%y') + pd.offsets.MonthEnd(0)\n",
    "    preqin_data_quarter['DATE'] = preqin_data_quarter['DATE'].dt.strftime('%d.%m.%Y')\n",
    "\n",
    "    # set the date column as the index\n",
    "    preqin_data_quarter = preqin_data_quarter.set_index('DATE')\n",
    "\n",
    "    # convert the index to a DatetimeIndex\n",
    "    preqin_data_quarter.index = pd.to_datetime(preqin_data_quarter.index)\n",
    "\n",
    "    # replace commas with dots in all columns\n",
    "    preqin_data_quarter = preqin_data_quarter.replace(',', '.', regex=True)\n",
    "\n",
    "    # convert the values to numbers\n",
    "    preqin_data_quarter = preqin_data_quarter.apply(pd.to_numeric)\n",
    "\n",
    "    # calculate the quarterly returns\n",
    "    preqin_quarterly_returns = preqin_data_quarter.resample('Q').last().pct_change()\n",
    "\n",
    "    # drop the first row of the quarterly_returns DataFrame\n",
    "    preqin_quarterly_returns = preqin_quarterly_returns.drop(preqin_quarterly_returns.index[0])\n",
    "\n",
    "    # Filter rows based on year condition\n",
    "    # Convert start and end to pd.datetime format\n",
    "    preqin_start = pd.to_datetime(str(time_start))\n",
    "    preqin_end = pd.to_datetime(str(time_end+1))\n",
    "\n",
    "    # Create a boolean mask based on the condition\n",
    "    mask = (preqin_quarterly_returns.index >= preqin_start) & (preqin_quarterly_returns.index <= preqin_end)\n",
    "\n",
    "    # Filter the DataFrame using the boolean mask\n",
    "    preqin_quarterly_returns = preqin_quarterly_returns[mask]\n",
    "\n",
    "\n",
    "    # Convert the \"Date\" column to datetime\n",
    "    bloomberg_data['Date'] = pd.to_datetime(bloomberg_data['Date'], format='%d.%m.%Y')\n",
    "\n",
    "    # Set the \"Date\" column as the index\n",
    "    bloomberg_data.set_index('Date', inplace=True)\n",
    "\n",
    "    # Convert the index to a DatetimeIndex\n",
    "    bloomberg_data.index = pd.to_datetime(bloomberg_data.index)\n",
    "\n",
    "    # Filter rows based on year condition\n",
    "    # Convert start and end to pd.datetime format\n",
    "    x = pd.to_datetime(str(time_start))\n",
    "    y = pd.to_datetime(str(time_end+1))\n",
    "\n",
    "    # Create a boolean mask based on the condition\n",
    "    mask = (bloomberg_data.index >= x) & (bloomberg_data.index <= y)\n",
    "\n",
    "    bloomberg_data = bloomberg_data[mask]\n",
    "\n",
    "    bloomberg_data.drop(bloomberg_data.columns[[0, 2]], axis=1, inplace=True)\n",
    "\n",
    "    # Rename the columns\n",
    "    bloomberg_data.rename(columns={\n",
    "        '% Change': 'Bloomberg Euro Aggregate Corporate Total Return Index EU',\n",
    "        '% Change.1': 'Bloomberg Euro Aggregate Treasury Germany Total Return Index'\n",
    "    }, inplace=True)\n",
    "\n",
    "    # Divide all columns by 100\n",
    "    bloomberg_data = bloomberg_data / 100\n",
    "\n",
    "    # Invert rows\n",
    "    bloomberg_data = bloomberg_data.iloc[::-1]\n",
    "    bloomberg_returns = bloomberg_data.copy()\n",
    "\n",
    "\n",
    "    # DAX DATA\n",
    "    # First, we need to convert the \"Date\" column to a datetime type\n",
    "    dax_data['Date'] = pd.to_datetime(dax_data['Date'])\n",
    "\n",
    "    # Set the \"Date\" column as the index of the DataFrame\n",
    "    dax_data.set_index('Date', inplace=True)\n",
    "\n",
    "    # Create an empty DataFrame to store the monthly returns\n",
    "    dax_monthly_rets = pd.DataFrame(columns=['Year', 'DAX'])\n",
    "\n",
    "    # Calculate and populate the monthly returns\n",
    "    months = dax_data.resample('M').agg({'Close': ['last']})\n",
    "    # Shift the 'Close' column one row to get the previous month's 'Close' price\n",
    "    months['Previous_Close'] = months['Close'].shift(1)\n",
    "\n",
    "    # Calculate the monthly return as the percentage change in 'Close' prices\n",
    "    months['DAX'] = (months['Close','last'] / months['Previous_Close'] - 1)\n",
    "    months.drop(columns=['Previous_Close','Close'], inplace=True)\n",
    "\n",
    "    dax_monthly_rets = months.copy()\n",
    "\n",
    "    # Filter rows based on year condition\n",
    "    # Convert start and end to pd.datetime format\n",
    "    x = pd.to_datetime(str(time_start))\n",
    "    y = pd.to_datetime(str(time_end+1))\n",
    "\n",
    "    # Create a boolean mask based on the condition\n",
    "    mask = (dax_monthly_rets.index >= x) & (dax_monthly_rets.index <= y)\n",
    "\n",
    "    # Filter the DataFrame using the boolean mask\n",
    "    dax_monthly_rets = dax_monthly_rets[mask]\n",
    "\n",
    "    # Remove the second heading level of the multi-level index\n",
    "    dax_monthly_rets.columns = dax_monthly_rets.columns.droplevel(1)\n",
    "    \n",
    "    pd.set_option('display.max_rows', None)\n",
    "\n",
    "    # SDAX DATA\n",
    "    # Step 1: Select the first two columns\n",
    "    sdax = sdax[['Date', 'Price']]\n",
    "\n",
    "    # Step 2: Parse the Date column to datetime\n",
    "    sdax['Date'] = pd.to_datetime(sdax['Date'], format='%m/%d/%Y')\n",
    "\n",
    "    # Step 3: Set the Date column as the index\n",
    "    sdax.set_index('Date', inplace=True)\n",
    "\n",
    "    # Step 4: Remove commas and convert Price column to numeric\n",
    "    sdax['SDAX'] = pd.to_numeric(sdax['Price'].str.replace(',', ''), errors='coerce')\n",
    "\n",
    "    # Drop the original 'Price' column\n",
    "    sdax.drop(columns=['Price'], inplace=True)\n",
    "\n",
    "    # Step 5: Calculate monthly returns\n",
    "    sdax_monthly_returns = sdax['SDAX'].resample('M').first().pct_change()\n",
    "\n",
    "    # Adjust the monthly returns to represent the return for the current month\n",
    "    sdax_monthly_returns.index = sdax_monthly_returns.index + pd.DateOffset(months=-1)\n",
    "\n",
    "    # Step 6: Filter rows based on the year condition\n",
    "    # Convert start and end to pd.datetime format\n",
    "    x = pd.to_datetime(str(time_start), format='%Y')\n",
    "    y = pd.to_datetime(str(time_end+1), format='%Y')\n",
    "\n",
    "    # Create a boolean mask based on the condition\n",
    "    temp_mask = (sdax_monthly_returns.index >= x) & (sdax_monthly_returns.index <= y)\n",
    "\n",
    "    # Filter the DataFrame using the boolean mask\n",
    "    sdax_monthly_rets = sdax_monthly_returns[temp_mask]\n",
    "\n",
    "\n",
    "\n",
    "\n",
    "    # SAVINGS AND DEPOSIT DATA\n",
    "    # Convert Year and Month columns to datetime format and add last day of the month\n",
    "    savings_data['Date'] = pd.to_datetime(savings_data[['Year', 'Month']].assign(day=1)).dt.to_period('M').dt.to_timestamp('M') + pd.offsets.MonthEnd(0)\n",
    "\n",
    "    # Calculate savings_returns based on the provided formula\n",
    "    savings_data['savings_returns'] = (savings_data['Return, % p.a.'] / 12) * 0.01\n",
    "\n",
    "    # Select only the Date and savings_returns columns for the final DataFrame\n",
    "    savings_monthly = savings_data[['Date', 'savings_returns']]\n",
    "\n",
    "    # Set the 'Year' column as the index\n",
    "    savings_monthly = savings_monthly.set_index('Date')\n",
    "\n",
    "    # Create a boolean mask based on the condition\n",
    "    mask = (savings_monthly.index >= x) & (savings_monthly.index <= y)\n",
    "    savings_monthly = savings_monthly[mask]\n",
    "\n",
    "\n",
    "    # Investment Fund\n",
    "    # Delete the first row\n",
    "    Investment_fund_data = Investment_fund_data.iloc[1:]\n",
    "\n",
    "    # Typecast the first column to pd.datetime and name it 'date'\n",
    "    Investment_fund_data['Date'] = pd.to_datetime(Investment_fund_data.iloc[:, 0], format='%d-%b-%Y')\n",
    "\n",
    "    # Set 'date' column as the index\n",
    "    Investment_fund_data.set_index('Date', inplace=True)\n",
    "\n",
    "    # Delete the first column where the old date format is stored‘\n",
    "    Investment_fund_data = Investment_fund_data.iloc[:, 1:]\n",
    "\n",
    "    # Create a new column named 'Investment_Funds' with average return per row\n",
    "    Investment_fund_data['Investment_Funds'] = Investment_fund_data.mean(axis=1)\n",
    "\n",
    "    investment_fund_return = pd.DataFrame(Investment_fund_data['Investment_Funds'])\n",
    "\n",
    "    investment_fund_return = investment_fund_return.drop(investment_fund_return.index[0])\n",
    "    investment_fund_return = investment_fund_return.drop(investment_fund_return.index[0])\n",
    "\n",
    "    # Filter rows based on time condition\n",
    "    investment_fund_return = investment_fund_return.loc[(investment_fund_return.index >= x)& (investment_fund_return.index <= y)]\n",
    "\n",
    "\n",
    "\n",
    "    #######   ##                                                                                                                                                                       \n",
    "    #######    ##                                                                                                                                                                      \n",
    "    #           ##             ######   #######  #######  #######           #######  #######  #######           #######  #######  #######  #######  #######     #     #######  #     # \n",
    "    #######     ##             #     #  #     #     #     #     #           #        #           #              #        #     #  #        #     #     #        #     #     #  ##    # \n",
    "        ##     ##             #     #  #######     #     #######           #######  ####        #              #        #######  ####     #######     #        #     #     #  # ### # \n",
    "    #######    ##              #     #  #     #     #     #     #                 #  #           #              #        #    #   #        #     #     #        #     #     #  #    ## \n",
    "    #######   ##               ######   #     #     #     #     #           #######  #######     #              #######  #    ##  #######  #     #     #        #     #######  #     # \n",
    "\n",
    "\n",
    "\n",
    "\n",
    "    ## SET Creation ##\n",
    "\n",
    "    ## Monthly return set##\n",
    "    dax_monthly_rets = dax_monthly_rets.reset_index()\n",
    "\n",
    "    # Reset index and drop \"Date\" column for sdax\n",
    "    sdax_monthly_rets = sdax_monthly_rets.reset_index().drop(columns=['Date'])\n",
    "\n",
    "    # Reset index and drop \"Date\" column for investment_fund_return\n",
    "    investment_fund_return_reset = investment_fund_return.reset_index().drop(columns=['Date'])\n",
    "\n",
    "    # Reset index and drop \"Date\" column for bloomberg_returns\n",
    "    bloomberg_returns_reset = bloomberg_returns.reset_index().drop(columns=['Date'])\n",
    "\n",
    "    # Reset index and drop \"Date\" column for savings_returns\n",
    "    savings_monthly_reset = savings_monthly.reset_index().drop(columns=['Date'])\n",
    "\n",
    "    # Concatenate the columns of the three dataframes\n",
    "    monthly_returns = pd.concat([dax_monthly_rets, sdax_monthly_rets, investment_fund_return_reset, bloomberg_returns_reset,savings_monthly_reset], axis=1)\n",
    "\n",
    "\n",
    "\n",
    "    ## Quarterly return set##\n",
    "\n",
    "    # Step 2: Set the 'Date' column as the index\n",
    "    monthly_returns.set_index('Date', inplace=True)\n",
    "\n",
    "    combined_quarterly = monthly_returns.groupby(pd.Grouper(freq='Q')).apply(lambda x: (1 + x).prod() - 1)\n",
    "\n",
    "    # Preqin-----------\n",
    "    # Reset index and drop \"Date\" column for bloomberg_returns\n",
    "    preqin_quarterly_returns_reset = preqin_quarterly_returns.reset_index().drop(columns=['DATE'])\n",
    "\n",
    "    # Concatenate the columns of the three dataframes\n",
    "\n",
    "    combined_quarterly_reset = combined_quarterly.reset_index()\n",
    "    quarterly_returns = pd.concat([combined_quarterly_reset, preqin_quarterly_returns_reset], axis=1)\n",
    "\n",
    "    # Add CASH as a 0-constant\n",
    "    quarterly_returns['CASH'] = 0.00\n",
    "\n",
    "\n",
    "    # Define a dictionary to map the old column names to the new column names\n",
    "    column_mapping = {\n",
    "    'S&P 500 TOTAL RETURN': 'Listed Foreign Public Equity',\n",
    "    'SDAX': 'Other Equity Instruments',\n",
    "    'Bloomberg Euro Aggregate Treasury Germany Total Return Index': 'State Bonds',\n",
    "    'Bloomberg Euro Aggregate Corporate Total Return Index EU': 'Corporate Bonds',\n",
    "    'DAX': 'Listed Domestic Public Equity',\n",
    "    'savings_returns': 'Fixed Term and Savings Deposit',\n",
    "    'Investment_Funds': 'Public Investment Funds',\n",
    "    'CASH': 'Cash'\n",
    "    }\n",
    "\n",
    "    # Rename the columns using the column_mapping dictionary\n",
    "    quarterly_returns = quarterly_returns.rename(columns=column_mapping)\n",
    "\n",
    "\n",
    "    ## Annual return set ##\n",
    "\n",
    "\n",
    "    # Create annual return set by grouping by year and summing the quarterly returns to get annual returns, taking into account the compounding effect within each year.\n",
    "    # Set the 'Date' column as the index\n",
    "    quarterly_returns.set_index('Date', inplace=True)\n",
    "\n",
    "    annual_returns = quarterly_returns.groupby(pd.Grouper(freq='Y')).apply(lambda x: (1 + x).prod() - 1)\n",
    "\n",
    "    # Convert index to datetime format and extract year\n",
    "    annual_returns.index = pd.to_datetime(annual_returns.index).year\n",
    "\n",
    "    # Rename the index to 'Year'\n",
    "    annual_returns.index.name = 'Year'\n",
    "\n",
    "\n",
    "    # GERMAN RETIAL INVESTOR PORTFOLIO CREATION\n",
    "\n",
    "\n",
    "    # Select the desired columns from the dataframe\n",
    "    retail_annual_returns = annual_returns[retail_asset_classes]\n",
    "\n",
    "    # Transform the Allocation column to floats\n",
    "    retail_asset_allocation['Allocation'] = retail_asset_allocation['Allocation'].str.rstrip('%').astype(float) / 100\n",
    "\n",
    "    # Set 'Asset Class' as the index\n",
    "    retail_asset_allocation.set_index('Asset Class', inplace=True)\n",
    "\n",
    "    # Calculate weighted returns\n",
    "    weighted_returns = retail_annual_returns.mul(retail_asset_allocation['Allocation'], axis=1)\n",
    "\n",
    "    # Calculate the weighted average return per year\n",
    "    retail_annual_returns['RETURN'] = weighted_returns.sum(axis=1)\n",
    "\n",
    "    # Calculate standard deviation and mean return\n",
    "    retail_std = retail_annual_returns['RETURN'].std()\n",
    "    retail_return = retail_annual_returns['RETURN'].mean()\n",
    "\n",
    "    return annual_returns, quarterly_returns, retail_asset_allocation, retail_annual_returns, retail_return, retail_std\n",
    "\n",
    "\n",
    "#######   ##                                                                                                                                                                                                                    \n",
    "#######    ##                                                                                                                                                                                                                   \n",
    "##          ##             ######   #######  #######  #######  #######     #     #######  #######     #     #     #  #######           #######  #######  #######  #######     #     #######  #######     #     #######  ####### \n",
    "#######     ##             #     #  #        #        #        #     #     #     #     #     #        #     #     #  #                 #           #     #     #     #        #     #           #        #     #        #       \n",
    "##   ##     ##             #     #  ####     #######  #        #######     #     #######     #        #      #   #   ####              #######     #     #######     #        #     #######     #        #     #        ####### \n",
    "#######    ##              #     #  #              #  #        #    #      #     #           #        #       # #    #                       #     #     #     #     #        #           #     #        #     #              # \n",
    "#######   ##               ######   #######  #######  #######  #    ##     #     #           #        #        #     #######           #######     #     #     #     #        #     #######     #        #     #######  ####### \n",
    "\n",
    "# Load data set\n",
    "annual_returns, quarterly_returns, retail_asset_allocation, retail_annual_returns, retail_return, retail_std = data_loader(time_start,time_end,retail_asset_classes)\n",
    "\n",
    "# Define colors for the chart\n",
    "colors = ['#FFDC26', '#FF7F0E', '#2CA02C', '#D62728', '#9467BD', '#1F77B4', '#17becf', '#7F7F7F']\n",
    "\n",
    "# Plot the retail asset allocation chart\n",
    "fig = go.Figure(data=[go.Pie(labels=retail_asset_allocation.index, values=retail_asset_allocation['Allocation'], hole=0.4, marker=dict(colors=colors))])\n",
    "\n",
    "# Set the aspect ratio to make the plot square-sized\n",
    "fig.update_layout(\n",
    "    width=600,\n",
    "    height=600,\n",
    "    legend=dict(orientation='h', y=-0.2)\n",
    ")\n",
    "# Set the axis labels and plot title\n",
    "fig.update_layout(\n",
    "    title='Retail Allocation Plot'\n",
    ")\n",
    "\n",
    "fig.show()\n",
    "\n",
    "# Drop Return column\n",
    "retail_annual_returns.drop(columns=['RETURN'],inplace=True)\n",
    "\n",
    "# Convert the column names (x-axis labels) to lowercase for retail_annual_returns\n",
    "annual_returns.columns = annual_returns.columns.str.lower()\n",
    "quarterly_returns.columns = quarterly_returns.columns.str.lower()\n",
    "\n",
    "# Select asset classes\n",
    "active_classes = [element.lower() for element in active_classes]\n",
    "selected_returns = annual_returns[active_classes]\n",
    "selected_quarterly_returns = quarterly_returns[active_classes]\n",
    "\n",
    "# Calculate summary statistics for each asset class\n",
    "stats = pd.DataFrame(index=['mean', 'median', 'std', 'skewness', 'kurtosis'])\n",
    "for col in selected_quarterly_returns.columns:\n",
    "    selected_quarterly_returns[col] = selected_quarterly_returns[col].astype(float)\n",
    "    selected_returns[col] = selected_returns[col].astype(float)\n",
    "    mean = selected_returns[col].mean()\n",
    "    median = selected_returns[col].median()\n",
    "    std = selected_quarterly_returns[col].std() * np.sqrt(4)\n",
    "    skewness_value = skew(selected_quarterly_returns[col])\n",
    "    kurtosis_value = kurtosis(selected_quarterly_returns[col])\n",
    "    stats[col] = [mean, median, std, skewness_value, kurtosis_value]\n",
    "\n",
    "# Convert the column names (x-axis labels) to lowercase\n",
    "stats.columns = stats.columns.str.lower()\n",
    "\n",
    "# How many assests in the portfolio\n",
    "n_assets = selected_returns.shape[1]\n",
    "\n",
    "# transpose the table\n",
    "stats_selected = stats.T\n",
    "# Rename Index to asset_class\n",
    "stats_selected.rename_axis('asset_class',inplace=True)\n",
    "mus = (stats_selected['mean'])\n",
    "\n",
    "# Covariance matrix of the asset classes based on annualized quarterly returns\n",
    "cov = selected_quarterly_returns.cov() * 4\n",
    "\n",
    "# Create a scatter plot for return/risk analysis\n",
    "fig = go.Figure()\n",
    "\n",
    "fig.add_trace(go.Scatter(\n",
    "    x=stats_selected['std'],\n",
    "    y=stats_selected['mean'],\n",
    "    mode='markers',\n",
    "    marker=dict(\n",
    "        size=10,\n",
    "        color='blue',\n",
    "        symbol='circle'\n",
    "    )\n",
    "))\n",
    "\n",
    "# Set the aspect ratio to make the plot square-sized\n",
    "fig.update_layout(\n",
    "    width=600,\n",
    "    height=600\n",
    ")\n",
    "\n",
    "# Set the axis labels and plot title\n",
    "fig.update_layout(\n",
    "    xaxis=dict(title='Standard Deviation'),\n",
    "    yaxis=dict(title='Mean'),\n",
    "    title='Risk-Return Plot'\n",
    ")\n",
    "\n",
    "# Add annotations for each asset class\n",
    "annotations = [\n",
    "    dict(\n",
    "        x=x_val,\n",
    "        y=y_val,\n",
    "        xref=\"x\",\n",
    "        yref=\"y\",\n",
    "        text=asset,\n",
    "        showarrow=True,\n",
    "        arrowhead=7,\n",
    "        ax=0,\n",
    "        ay=-40\n",
    "    )\n",
    "    for asset, x_val, y_val in zip(stats_selected.index, stats_selected['std'], stats_selected['mean'])\n",
    "]\n",
    "\n",
    "fig.update_layout(\n",
    "    annotations=annotations\n",
    ")\n",
    "\n",
    "# Show the plot\n",
    "fig.show()\n",
    "\n",
    "\n",
    "\n",
    "custom_color_palette = px.colors.qualitative.Plotly\n",
    "\n",
    "fig = px.line(selected_returns, x=selected_returns.index, y=selected_returns.columns, \n",
    "              labels={\"x\": \"Year\", \"y\": \"Returns\"}, title=\"Returns Over Time\",color_discrete_sequence=custom_color_palette)\n",
    "\n",
    "# Update the legend title\n",
    "fig.update_layout(legend_title_text=\"Asset Class\")\n",
    "\n",
    "# Customize layout\n",
    "fig.update_layout(\n",
    "    plot_bgcolor=\"white\",  # Set background color to white\n",
    "    xaxis=dict(showgrid=False, tickvals=selected_returns.index, ticktext=selected_returns.index,),\n",
    "    yaxis=dict(showgrid=True, gridcolor=\"lightgray\"),\n",
    "    width=2000,\n",
    "    height=600 \n",
    ")\n",
    "\n",
    "\n",
    "# Add a box around the plot\n",
    "fig.update_layout(\n",
    "    shapes=[\n",
    "        dict(\n",
    "            type=\"rect\",\n",
    "            xref=\"paper\",\n",
    "            yref=\"paper\",\n",
    "            x0=0,\n",
    "            y0=0,\n",
    "            x1=1,\n",
    "            y1=1,\n",
    "            line=dict(color=\"black\", width=1),\n",
    "        )\n",
    "    ]\n",
    ")\n",
    "fig.update_layout(yaxis_title=\"Returns\")\n",
    "\n",
    "\n",
    "fig.show()\n",
    "\n",
    "\n",
    "\n",
    "# Return estimators\n",
    "\n",
    "selected_means = selected_returns.mean()\n",
    "selected_medians = selected_returns.median()\n",
    "\n",
    "# Calculate the annual geometric mean for each asset\n",
    "geometric_means = (selected_returns + 1).prod()**(1 / len(selected_returns)) - 1\n",
    "\n",
    "# Bayes-Stein (shrinkage)\n",
    "# drop cash as 0 const otherwise the matrix cannot be inverted\n",
    "# Find the index number of the column 'cash'\n",
    "index_cash = selected_returns.columns.get_loc('cash')\n",
    "selected_returns_wo_cash = selected_returns.drop(columns='cash')\n",
    "selected_bayes_stein_returns = bayes_stein_returns(selected_returns_wo_cash)\n",
    "# Create a new Series with the \"cash\" asset class and its corresponding return value\n",
    "cash_series = pd.Series([0.0], index=[\"cash\"])\n",
    "# Concatenate the new_series with the original selected_bayes_stein_returns series\n",
    "selected_bayes_stein_returns = pd.concat([selected_bayes_stein_returns.iloc[:index_cash], cash_series, selected_bayes_stein_returns.iloc[index_cash:]])\n",
    "\n",
    "\n",
    "# Risk estimators\n",
    "\n",
    "selected_skewness = selected_returns.skew()\n",
    "selected_kurtosis = selected_returns.kurtosis()\n",
    "selected_std_dev = selected_returns.std()\n",
    "selected_cvar = selected_returns.apply(calculate_cvar, alpha=0.9)\n",
    "\n",
    "\n",
    "# Normality Tests\n",
    "# Perform Jarque-Bera test\n",
    "selected_jb = selected_returns.apply(lambda x: jarque_bera(x)[0])\n",
    "selected_jb_p = selected_returns.apply(lambda x: jarque_bera(x)[1])\n",
    "# Perform Shapiro-Wilk test\n",
    "selected_sw = selected_returns.apply(lambda x: shapiro(x)[0])\n",
    "selected_sw_p = selected_returns.apply(lambda x: shapiro(x)[1])\n",
    "# Perform Anderson-Darling test\n",
    "selected_ad = selected_returns.apply(lambda x: anderson(x, dist='norm')[0])\n",
    "# Create an empty dictionary to store the significance levels\n",
    "significance_levels = {}\n",
    "\n",
    "# Iterate over each column in the DataFrame\n",
    "for column in selected_returns.columns:\n",
    "    # Perform the Anderson-Darling normality test on the column\n",
    "    result = anderson(selected_returns[column])\n",
    "    \n",
    "    # Extract the critical values and significance levels\n",
    "    critical_values = result.critical_values\n",
    "    significance = result.significance_level\n",
    "    \n",
    "    # Find the index at which the null hypothesis can be rejected\n",
    "    rejection_index = next((i for i, cv in enumerate(critical_values) if result.statistic > cv), None)\n",
    "    \n",
    "    # If rejection index is found, find the corresponding significance level\n",
    "    if rejection_index is not None:\n",
    "        rejection_level = significance[rejection_index]\n",
    "    else:\n",
    "        rejection_level = None\n",
    "    \n",
    "    # Store the significance level in the dictionary\n",
    "    significance_levels[column] = rejection_level\n",
    "series_modified =  pd.Series(significance_levels).fillna(-1).astype(int) / 100\n",
    "series_modified[series_modified == -0.01] = np.nan\n",
    "\n",
    "# Create a DataFrame to store the results\n",
    "comparison_df = pd.DataFrame({\n",
    "    ('Return','Mean'): selected_means,\n",
    "    ('Return','Median'): selected_medians,\n",
    "    ('Return','Geometric Mean'): geometric_means,\n",
    "    ('Return','Bayes Stein'): selected_bayes_stein_returns,\n",
    "    ('Risk','Standard Dev.'): selected_std_dev,\n",
    "    ('Risk','Skewness'): selected_skewness,\n",
    "    ('Risk','Kurtosis'): selected_kurtosis,\n",
    "    ('Risk','CVaR'): selected_cvar,\n",
    "    ('Normality Tests', 'Jarque-Bera') : selected_jb,\n",
    "    ('Normality Tests', 'p-value') : selected_jb_p,\n",
    "    ('Normality Tests', 'Shapiro-Wilk') : selected_sw,\n",
    "    ('Normality Tests', 'p-value ') : selected_sw_p,\n",
    "    ('Normality Tests', 'Anderson-Darling') : selected_ad,\n",
    "    ('Normality Tests', 'sig.') : series_modified\n",
    "})\n",
    "\n",
    "comparison_df_save = comparison_df.copy()\n",
    "\n",
    "# Sort the DataFrame by geometric mean in descending order\n",
    "comparison_df = comparison_df.sort_values(('Return','Mean'), ascending=False).round(decimals=2)\n",
    "\n",
    "# Apply the formatting function to all cells in the DataFrame\n",
    "#comparison_df = comparison_df.applymap(format_number)\n",
    "\n",
    "\n",
    "# Apply color scale to each column in ascending order\n",
    "comparison_df = comparison_df.style.format(precision=2, na_rep=\"n/a\").background_gradient(axis=0)\n",
    "\n",
    "\n",
    "comparison_df = comparison_df.set_table_styles([\n",
    "    {'selector': 'th.col_heading.level0', 'props': [('text-align', 'center')]}\n",
    "])\n",
    "\n",
    "# Add vertical black lines to separate columns 3 and 4, and columns 8 and 9\n",
    "table_styles = [\n",
    "    {'selector': 'th.col_heading.level0', 'props': [('text-align', 'center')]},\n",
    "    {'selector': 'th.col_heading.level3', 'props': [('border-right', '1px solid black')]},\n",
    "    {'selector': 'th.col_heading.level8', 'props': [('border-right', '1px solid black')]},\n",
    "]\n",
    "\n",
    "comparison_df = comparison_df.set_table_styles(table_styles)\n",
    "\n",
    "# Display the styled DataFrame\n",
    "display(comparison_df)\n",
    "\n",
    "# Plot Correlation Map\n",
    "\n",
    "# Select all columns except cash\n",
    "selected_returns_without_cash = selected_returns.loc[:, selected_returns.columns != 'cash']\n",
    "\n",
    "# Compute the correlation matrix using the Pearson method\n",
    "corr = selected_returns_without_cash.corr(method='pearson').round(decimals=2)\n",
    "\n",
    "# Set figure size\n",
    "plt.figure(figsize=(8,5))\n",
    "\n",
    "# Generate a heatmap of the correlation matrix\n",
    "\n",
    "sns.set(font_scale=0.8)\n",
    "ax = sns.heatmap(corr, cmap='RdBu_r', annot=True)\n",
    "ax.set_title('Correlation Coefficient Matrix')\n",
    "\n",
    "# Show the plot\n",
    "plt.show()\n",
    "\n",
    "##################  LOAD CACHES ########################\n",
    "\n",
    "# mean_variance_pairs_un,tickers_list_un,weights_list_un,mean_variance_pairs_re,tickers_list_re,weights_list_re = load_caches(var_cash=var_cash,alt=alt)\n",
    "mean_variance_pairs_re,tickers_list_re,weights_list_re = load_caches(var_cash=var_cash,alt=alt)\n",
    "\n",
    "# Plot Portfolio Optimization with EF, and allocations\n",
    "\n",
    "# Set of input parameters\n",
    "title_name_re = 'Efficient Frontier of Restricted Portfolio'\n",
    "fig2, max_sharpe_html2, min_var_html2, closest_std_html2, retail_html2 = plot_ef(mean_variance_pairs_re, tickers_list_re, weights_list_re, risk_free_rate,retail_return,retail_std,title_name_re,selected_returns,retail_asset_allocation)\n",
    "\n",
    "\n",
    "\n",
    "fig2.show()\n",
    "# Display the combined HTML code\n",
    "display(HTML(max_sharpe_html2 + min_var_html2 + closest_std_html2 + retail_html2))\n",
    "\n",
    "\n",
    "plot_ef_composition(tickers_list=tickers_list_re,weights_list=weights_list_re,mean_variance_pairs=mean_variance_pairs_re,title = 'EF Composition of restricted Portfolio Optimization')\n"
   ]
  },
  {
   "attachments": {},
   "cell_type": "markdown",
   "metadata": {},
   "source": [
    "## Wealth Development"
   ]
  },
  {
   "cell_type": "code",
   "execution_count": 47,
   "metadata": {},
   "outputs": [
    {
     "data": {
      "image/png": "[encoded data removed]",
      "text/plain": [
       "<Figure size 1200x500 with 1 Axes>"
      ]
     },
     "metadata": {},
     "output_type": "display_data"
    }
   ],
   "source": [
    "# Data\n",
    "years = [2000,2001, 2002, 2003, 2004, 2005, 2006, 2007, 2008, 2009, 2010, 2011, 2012, 2013, 2014, 2015, 2016, 2017, 2018, 2019, 2020, 2021, 2022]\n",
    "\n",
    "# Data retrieved from the selected_returns dataframe output\n",
    "wealth_without_alternatives = [\n",
    "    100000,\n",
    "    94725.8,\n",
    "    87166.87061,\n",
    "    106430.3132,\n",
    "    116352.8113,\n",
    "    130223.4626,\n",
    "    141687.1643,\n",
    "    138131.8082,\n",
    "    120311.2855,\n",
    "    140446.5823,\n",
    "    160270.8983,\n",
    "    163784.998,\n",
    "    180672.214,\n",
    "    199506.5696,\n",
    "    216625.6298,\n",
    "    222265.9113,\n",
    "    239032.7626,\n",
    "    261240.5795,\n",
    "    251991.3568,\n",
    "    280184.4018,\n",
    "    307231.4426,\n",
    "    321632.9165,\n",
    "    278775.0087,\n",
    "]\n",
    "wealth_with_alternatives=[\n",
    "    100000,\n",
    "    91399.9,\n",
    "    82514.82432,\n",
    "    98762.24077,\n",
    "    111812.1895,\n",
    "    130185.9511,\n",
    "    148724.5607,\n",
    "    158643.0017,\n",
    "    132857.4855,\n",
    "    150715.923,\n",
    "    173868.9031,\n",
    "    180145.7443,\n",
    "    200727.2155,\n",
    "    226750.2946,\n",
    "    247828.7752,\n",
    "    262062.5731,\n",
    "    284695.8693,\n",
    "    320448.546,\n",
    "    324561.503,\n",
    "    362682.2253,\n",
    "    418213.9515,\n",
    "    484977.6267,\n",
    "    434823.1805\n",
    "]\n",
    "wealth_retail = [\n",
    "    100000.00,\n",
    "    93526.80,\n",
    "    82853.43,\n",
    "    94914.40,\n",
    "    99513.29,\n",
    "    109101.29,\n",
    "    117009.50,\n",
    "    119190.68,\n",
    "    105149.06,\n",
    "    118406.57,\n",
    "    128040.01,\n",
    "    126396.75,\n",
    "    136273.77,\n",
    "    146284.16,\n",
    "    151375.58,\n",
    "    155693.42,\n",
    "    161109.06,\n",
    "    169646.39,\n",
    "    162318.01,\n",
    "    174825.91,\n",
    "    181803.73,\n",
    "    190075.80,\n",
    "    179528.88\n",
    "]\n",
    "wealth_fixed_cash_no_alternatives = [\n",
    "    100000.00,\n",
    "    93719.30,\n",
    "    84123.10,\n",
    "    100854.85,\n",
    "    108003.24,\n",
    "    118673.09,\n",
    "    128630.95,\n",
    "    125747.56,\n",
    "    105668.95,\n",
    "    122566.47,\n",
    "    136859.55,\n",
    "    136460.06,\n",
    "    148891.85,\n",
    "    165150.39,\n",
    "    174879.07,\n",
    "    179006.56,\n",
    "    190237.79,\n",
    "    207830.41,\n",
    "    199427.42,\n",
    "    220538.60,\n",
    "    239089.87,\n",
    "    253040.52,\n",
    "    230973.62 \n",
    "]\n",
    "\n",
    "# Create the plot\n",
    "plt.figure(figsize=(12, 5))\n",
    "plt.plot(years, wealth_with_alternatives, label='Var_cash + With_alternatives', linestyle='-', color='red', linewidth=1.5)\n",
    "plt.plot(years, wealth_without_alternatives, label='Var_cash + No_alternatives', linestyle='-', color='blue', linewidth=1.5)\n",
    "plt.plot(years, wealth_fixed_cash_no_alternatives, label='Fixed_cash + No_alternatives', linestyle='-', color='green', linewidth=1.5)\n",
    "plt.plot(years, wealth_retail, label='Retail_baseline', linestyle='-', color='grey', linewidth=1.5)\n",
    "\n",
    "# Add descriptions for the last values\n",
    "plt.annotate(f'€ {wealth_with_alternatives[-1]:,.0f}', (years[-1], wealth_with_alternatives[-1]), textcoords=\"offset points\", xytext=(0,-8), ha='center', fontsize=9)\n",
    "plt.annotate(f'€ {wealth_without_alternatives[-1]:,.0f}', (years[-1], wealth_without_alternatives[-1]), textcoords=\"offset points\", xytext=(0,-8), ha='center', fontsize=9)\n",
    "plt.annotate(f'€ {wealth_retail[-1]:,.0f}', (years[-1], wealth_retail[-1]), textcoords=\"offset points\", xytext=(0,-8), ha='center', fontsize=9)\n",
    "plt.annotate(f'€ {wealth_fixed_cash_no_alternatives[-1]:,.0f}', (years[-1], wealth_fixed_cash_no_alternatives[-1]), textcoords=\"offset points\", xytext=(0,-8), ha='center', fontsize=9)\n",
    "\n",
    "# Format y-axis labels with \".\" as the thousand separator and 0 digits after the comma\n",
    "ax = plt.gca()\n",
    "ax.get_yaxis().set_major_formatter(mticker.FuncFormatter(lambda x, _: f'{x:,.0f}'))\n",
    "\n",
    "# Add labels and title\n",
    "plt.xlabel('Year')\n",
    "plt.ylabel('Wealth in € (rebalanced at 100.000)')\n",
    "\n",
    "\n",
    "\n",
    "# Set a step size to show every second y-axis value\n",
    "y_ticks = plt.gca().get_yticks()\n",
    "plt.gca().set_yticks(y_ticks[::2])\n",
    "\n",
    "\n",
    "# Add legend\n",
    "plt.legend()\n",
    "\n",
    "# Add horizontal grid lines\n",
    "plt.grid(axis='y', linestyle='-', alpha=0.2)\n",
    "\n",
    "# Remove the outside box\n",
    "#plt.box(on=None)\n",
    "\n",
    "# Annotate the first initial values\n",
    "initial_wealth_with_alternatives = f'€ {wealth_with_alternatives[0]:,.0f}'\n",
    "plt.annotate(initial_wealth_with_alternatives, (years[0], wealth_with_alternatives[0]), textcoords=\"offset points\", xytext=(0, 8), ha='center', fontsize=9)\n",
    "\n",
    "\n",
    "\n",
    "# Show the plot\n",
    "plt.show()"
   ]
  }
 ],
 "metadata": {
  "kernelspec": {
   "display_name": "Python 3",
   "language": "python",
   "name": "python3"
  },
  "language_info": {
   "codemirror_mode": {
    "name": "ipython",
    "version": 3
   },
   "file_extension": ".py",
   "mimetype": "text/x-python",
   "name": "python",
   "nbconvert_exporter": "python",
   "pygments_lexer": "ipython3",
   "version": "3.10.11"
  },
  "orig_nbformat": 4
 },
 "nbformat": 4,
 "nbformat_minor": 2
}
